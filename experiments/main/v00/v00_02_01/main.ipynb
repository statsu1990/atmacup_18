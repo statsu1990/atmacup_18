{
 "cells": [
  {
   "cell_type": "code",
   "execution_count": 1,
   "metadata": {},
   "outputs": [
    {
     "data": {
      "text/plain": [
       "<module 'utils' from '/home/tatsuya/projects/atmacup/atmacup_18/experiments/main/v00/v00_02_01/utils.py'>"
      ]
     },
     "execution_count": 1,
     "metadata": {},
     "output_type": "execute_result"
    }
   ],
   "source": [
    "import importlib\n",
    "from pathlib import Path\n",
    "\n",
    "import matplotlib.pyplot as plt\n",
    "import numpy as np\n",
    "import polars as pl\n",
    "import seaborn as sns\n",
    "\n",
    "\n",
    "import utils\n",
    "\n",
    "importlib.reload(utils)"
   ]
  },
  {
   "cell_type": "code",
   "execution_count": 2,
   "metadata": {},
   "outputs": [],
   "source": [
    "RANDOM_STATE = 2024\n",
    "utils.seed_everything(RANDOM_STATE)"
   ]
  },
  {
   "cell_type": "markdown",
   "metadata": {},
   "source": [
    "## データ読み込み"
   ]
  },
  {
   "cell_type": "code",
   "execution_count": 3,
   "metadata": {},
   "outputs": [],
   "source": [
    "notebook_dir = Path().resolve()\n",
    "DATA_DIR = notebook_dir.parents[3].joinpath(\"data\")\n",
    "DATASET_DIR = DATA_DIR.joinpath(\"atmaCup#18_dataset\")\n",
    "TR_FEATURES_CSV = DATASET_DIR.joinpath(\"train_features.csv\")\n",
    "TS_FEATURES_CSV = DATASET_DIR.joinpath(\"test_features.csv\")\n",
    "IMAGES_DIR = DATASET_DIR.joinpath(\"images\")\n",
    "TRAFFIC_LIGHTS_CSV = DATASET_DIR.joinpath(\"traffic_lights.csv\")\n",
    "\n",
    "IMAGE_NAMES = [\"image_t.png\", \"image_t-0.5.png\", \"image_t-1.0.png\"]"
   ]
  },
  {
   "cell_type": "code",
   "execution_count": 4,
   "metadata": {},
   "outputs": [
    {
     "data": {
      "text/html": [
       "<div><style>\n",
       ".dataframe > thead > tr,\n",
       ".dataframe > tbody > tr {\n",
       "  text-align: right;\n",
       "  white-space: pre-wrap;\n",
       "}\n",
       "</style>\n",
       "<small>shape: (2, 32)</small><table border=\"1\" class=\"dataframe\"><thead><tr><th>ID</th><th>vEgo</th><th>aEgo</th><th>steeringAngleDeg</th><th>steeringTorque</th><th>brake</th><th>brakePressed</th><th>gas</th><th>gasPressed</th><th>gearShifter</th><th>leftBlinker</th><th>rightBlinker</th><th>x_0</th><th>y_0</th><th>z_0</th><th>x_1</th><th>y_1</th><th>z_1</th><th>x_2</th><th>y_2</th><th>z_2</th><th>x_3</th><th>y_3</th><th>z_3</th><th>x_4</th><th>y_4</th><th>z_4</th><th>x_5</th><th>y_5</th><th>z_5</th><th>scene_id</th><th>scene_dsec</th></tr><tr><td>str</td><td>f64</td><td>f64</td><td>f64</td><td>f64</td><td>f64</td><td>bool</td><td>f64</td><td>bool</td><td>str</td><td>bool</td><td>bool</td><td>f64</td><td>f64</td><td>f64</td><td>f64</td><td>f64</td><td>f64</td><td>f64</td><td>f64</td><td>f64</td><td>f64</td><td>f64</td><td>f64</td><td>f64</td><td>f64</td><td>f64</td><td>f64</td><td>f64</td><td>f64</td><td>str</td><td>str</td></tr></thead><tbody><tr><td>&quot;00066be8e20318869c38c66be46663…</td><td>5.701526</td><td>1.538456</td><td>-2.165777</td><td>-139.0</td><td>0.0</td><td>false</td><td>0.25</td><td>true</td><td>&quot;drive&quot;</td><td>false</td><td>false</td><td>2.82959</td><td>0.032226</td><td>0.045187</td><td>6.231999</td><td>0.065895</td><td>0.107974</td><td>9.785009</td><td>0.124972</td><td>0.203649</td><td>13.485472</td><td>0.163448</td><td>0.302818</td><td>17.574227</td><td>0.174289</td><td>0.406331</td><td>21.951269</td><td>0.199503</td><td>0.485079</td><td>&quot;00066be8e20318869c38c66be46663…</td><td>&quot;320&quot;</td></tr><tr><td>&quot;00066be8e20318869c38c66be46663…</td><td>11.176292</td><td>0.279881</td><td>-11.625697</td><td>-44.0</td><td>0.0</td><td>false</td><td>0.0</td><td>false</td><td>&quot;drive&quot;</td><td>false</td><td>true</td><td>4.970268</td><td>-0.007936</td><td>0.005028</td><td>10.350489</td><td>-0.032374</td><td>-0.020701</td><td>15.770054</td><td>0.084073</td><td>0.008645</td><td>21.132415</td><td>0.391343</td><td>0.036335</td><td>26.316489</td><td>0.843124</td><td>0.065</td><td>31.383814</td><td>1.42507</td><td>0.073083</td><td>&quot;00066be8e20318869c38c66be46663…</td><td>&quot;420&quot;</td></tr></tbody></table></div>"
      ],
      "text/plain": [
       "shape: (2, 32)\n",
       "┌────────────┬───────────┬──────────┬────────────┬───┬──────────┬──────────┬───────────┬───────────┐\n",
       "│ ID         ┆ vEgo      ┆ aEgo     ┆ steeringAn ┆ … ┆ y_5      ┆ z_5      ┆ scene_id  ┆ scene_dse │\n",
       "│ ---        ┆ ---       ┆ ---      ┆ gleDeg     ┆   ┆ ---      ┆ ---      ┆ ---       ┆ c         │\n",
       "│ str        ┆ f64       ┆ f64      ┆ ---        ┆   ┆ f64      ┆ f64      ┆ str       ┆ ---       │\n",
       "│            ┆           ┆          ┆ f64        ┆   ┆          ┆          ┆           ┆ str       │\n",
       "╞════════════╪═══════════╪══════════╪════════════╪═══╪══════════╪══════════╪═══════════╪═══════════╡\n",
       "│ 00066be8e2 ┆ 5.701526  ┆ 1.538456 ┆ -2.165777  ┆ … ┆ 0.199503 ┆ 0.485079 ┆ 00066be8e ┆ 320       │\n",
       "│ 0318869c38 ┆           ┆          ┆            ┆   ┆          ┆          ┆ 20318869c ┆           │\n",
       "│ c66be46663 ┆           ┆          ┆            ┆   ┆          ┆          ┆ 38c66be46 ┆           │\n",
       "│ …          ┆           ┆          ┆            ┆   ┆          ┆          ┆ 663…      ┆           │\n",
       "│ 00066be8e2 ┆ 11.176292 ┆ 0.279881 ┆ -11.625697 ┆ … ┆ 1.42507  ┆ 0.073083 ┆ 00066be8e ┆ 420       │\n",
       "│ 0318869c38 ┆           ┆          ┆            ┆   ┆          ┆          ┆ 20318869c ┆           │\n",
       "│ c66be46663 ┆           ┆          ┆            ┆   ┆          ┆          ┆ 38c66be46 ┆           │\n",
       "│ …          ┆           ┆          ┆            ┆   ┆          ┆          ┆ 663…      ┆           │\n",
       "└────────────┴───────────┴──────────┴────────────┴───┴──────────┴──────────┴───────────┴───────────┘"
      ]
     },
     "execution_count": 4,
     "metadata": {},
     "output_type": "execute_result"
    }
   ],
   "source": [
    "tr_df = utils.read_feature_csv(TR_FEATURES_CSV)\n",
    "tr_df.head(2)"
   ]
  },
  {
   "cell_type": "code",
   "execution_count": 5,
   "metadata": {},
   "outputs": [
    {
     "data": {
      "text/html": [
       "<div><style>\n",
       ".dataframe > thead > tr,\n",
       ".dataframe > tbody > tr {\n",
       "  text-align: right;\n",
       "  white-space: pre-wrap;\n",
       "}\n",
       "</style>\n",
       "<small>shape: (2, 14)</small><table border=\"1\" class=\"dataframe\"><thead><tr><th>ID</th><th>vEgo</th><th>aEgo</th><th>steeringAngleDeg</th><th>steeringTorque</th><th>brake</th><th>brakePressed</th><th>gas</th><th>gasPressed</th><th>gearShifter</th><th>leftBlinker</th><th>rightBlinker</th><th>scene_id</th><th>scene_dsec</th></tr><tr><td>str</td><td>f64</td><td>f64</td><td>f64</td><td>f64</td><td>f64</td><td>bool</td><td>f64</td><td>bool</td><td>str</td><td>bool</td><td>bool</td><td>str</td><td>str</td></tr></thead><tbody><tr><td>&quot;012baccc145d400c896cb82065a93d…</td><td>3.374273</td><td>-0.01936</td><td>-34.008415</td><td>17.0</td><td>0.0</td><td>false</td><td>0.0</td><td>false</td><td>&quot;drive&quot;</td><td>false</td><td>false</td><td>&quot;012baccc145d400c896cb82065a93d…</td><td>&quot;120&quot;</td></tr><tr><td>&quot;012baccc145d400c896cb82065a93d…</td><td>2.441048</td><td>-0.022754</td><td>307.860077</td><td>295.0</td><td>0.0</td><td>true</td><td>0.0</td><td>false</td><td>&quot;drive&quot;</td><td>false</td><td>false</td><td>&quot;012baccc145d400c896cb82065a93d…</td><td>&quot;220&quot;</td></tr></tbody></table></div>"
      ],
      "text/plain": [
       "shape: (2, 14)\n",
       "┌───────────┬──────────┬───────────┬───────────┬───┬───────────┬───────────┬───────────┬───────────┐\n",
       "│ ID        ┆ vEgo     ┆ aEgo      ┆ steeringA ┆ … ┆ leftBlink ┆ rightBlin ┆ scene_id  ┆ scene_dse │\n",
       "│ ---       ┆ ---      ┆ ---       ┆ ngleDeg   ┆   ┆ er        ┆ ker       ┆ ---       ┆ c         │\n",
       "│ str       ┆ f64      ┆ f64       ┆ ---       ┆   ┆ ---       ┆ ---       ┆ str       ┆ ---       │\n",
       "│           ┆          ┆           ┆ f64       ┆   ┆ bool      ┆ bool      ┆           ┆ str       │\n",
       "╞═══════════╪══════════╪═══════════╪═══════════╪═══╪═══════════╪═══════════╪═══════════╪═══════════╡\n",
       "│ 012baccc1 ┆ 3.374273 ┆ -0.01936  ┆ -34.00841 ┆ … ┆ false     ┆ false     ┆ 012baccc1 ┆ 120       │\n",
       "│ 45d400c89 ┆          ┆           ┆ 5         ┆   ┆           ┆           ┆ 45d400c89 ┆           │\n",
       "│ 6cb82065a ┆          ┆           ┆           ┆   ┆           ┆           ┆ 6cb82065a ┆           │\n",
       "│ 93d…      ┆          ┆           ┆           ┆   ┆           ┆           ┆ 93d…      ┆           │\n",
       "│ 012baccc1 ┆ 2.441048 ┆ -0.022754 ┆ 307.86007 ┆ … ┆ false     ┆ false     ┆ 012baccc1 ┆ 220       │\n",
       "│ 45d400c89 ┆          ┆           ┆ 7         ┆   ┆           ┆           ┆ 45d400c89 ┆           │\n",
       "│ 6cb82065a ┆          ┆           ┆           ┆   ┆           ┆           ┆ 6cb82065a ┆           │\n",
       "│ 93d…      ┆          ┆           ┆           ┆   ┆           ┆           ┆ 93d…      ┆           │\n",
       "└───────────┴──────────┴───────────┴───────────┴───┴───────────┴───────────┴───────────┴───────────┘"
      ]
     },
     "execution_count": 5,
     "metadata": {},
     "output_type": "execute_result"
    }
   ],
   "source": [
    "ts_df = utils.read_feature_csv(TS_FEATURES_CSV)\n",
    "ts_df.head(2)"
   ]
  },
  {
   "cell_type": "code",
   "execution_count": 6,
   "metadata": {},
   "outputs": [
    {
     "name": "stdout",
     "output_type": "stream",
     "text": [
      "(43371, 3, 64, 128, 3)\n",
      "(1727, 3, 64, 128, 3)\n"
     ]
    }
   ],
   "source": [
    "tr_images = utils.load_images(\n",
    "    IMAGES_DIR, ids=tr_df.get_column(\"ID\").to_list(), image_names=IMAGE_NAMES\n",
    ")\n",
    "print(tr_images.shape)\n",
    "ts_images = utils.load_images(\n",
    "    IMAGES_DIR, ids=ts_df.get_column(\"ID\").to_list(), image_names=IMAGE_NAMES\n",
    ")\n",
    "print(ts_images.shape)"
   ]
  },
  {
   "cell_type": "code",
   "execution_count": 7,
   "metadata": {},
   "outputs": [
    {
     "name": "stdout",
     "output_type": "stream",
     "text": [
      "(43371, 9, 64, 128)\n",
      "(1727, 9, 64, 128)\n"
     ]
    }
   ],
   "source": [
    "tr_images = utils.preprocess_images(tr_images)\n",
    "ts_images = utils.preprocess_images(ts_images)\n",
    "\n",
    "print(tr_images.shape)\n",
    "print(ts_images.shape)"
   ]
  },
  {
   "cell_type": "markdown",
   "metadata": {},
   "source": [
    "## Target"
   ]
  },
  {
   "cell_type": "code",
   "execution_count": 8,
   "metadata": {},
   "outputs": [
    {
     "name": "stdout",
     "output_type": "stream",
     "text": [
      "['tg_cood_x_0', 'tg_cood_y_0', 'tg_cood_z_0', 'tg_cood_x_1', 'tg_cood_y_1', 'tg_cood_z_1', 'tg_cood_x_2', 'tg_cood_y_2', 'tg_cood_z_2', 'tg_cood_x_3', 'tg_cood_y_3', 'tg_cood_z_3', 'tg_cood_x_4', 'tg_cood_y_4', 'tg_cood_z_4', 'tg_cood_x_5', 'tg_cood_y_5', 'tg_cood_z_5']\n",
      "Rows: 9\n",
      "Columns: 19\n",
      "$ statistic   <str> 'count', 'null_count', 'mean', 'std', 'min', '25%', '50%', '75%', 'max'\n",
      "$ tg_cood_x_0 <f64> 43371.0, 0.0, 4.122443942757371, 3.2667167639213908, -1.7321542071537557, 1.116530690565041, 3.843337458989432, 6.4281197924248215, 12.392587231992154\n",
      "$ tg_cood_y_0 <f64> 43371.0, 0.0, 0.0019486856369589753, 0.11686590022408185, -2.5341378248203235, -0.02646308932096216, 0.0010884804706597444, 0.030664179622664968, 3.4595563267615925\n",
      "$ tg_cood_z_0 <f64> 43371.0, 0.0, 0.001247332026343412, 0.040745039147660006, -0.9965478318668152, -0.017624552286421614, 0.0011112325970167394, 0.01959056385186172, 1.4479292511292303\n",
      "$ tg_cood_x_1 <f64> 43371.0, 0.0, 8.694386412319787, 6.894354638218222, -3.1110552313515663, 2.3347733190583524, 8.082799715190657, 13.569839002261446, 26.160460553005198\n",
      "$ tg_cood_y_1 <f64> 43371.0, 0.0, 0.004476514556435517, 0.327714078698954, -4.090710120199793, -0.06649143018994849, 0.0026994983574432146, 0.07784738369073656, 3.220475848407637\n",
      "$ tg_cood_z_1 <f64> 43371.0, 0.0, 0.0026177764841189125, 0.08338777633001182, -1.7567724970164338, -0.03676779701549093, 0.002288004100929793, 0.04145726267204623, 2.7481787007302354\n",
      "$ tg_cood_x_2 <f64> 43371.0, 0.0, 13.255113203175153, 10.520810050377683, -4.4542728848099316, 3.54812508508695, 12.330557720909065, 20.699952354360065, 39.85555499634953\n",
      "$ tg_cood_y_2 <f64> 43371.0, 0.0, 0.006757802478080225, 0.6376502116618826, -5.6665134567188025, -0.11984818786203096, 0.003819198790576571, 0.1367151006412065, 5.073225132597423\n",
      "$ tg_cood_z_2 <f64> 43371.0, 0.0, 0.0039805597739072185, 0.12708085737832547, -2.3413471300188857, -0.057168755383470965, 0.0030614709567915524, 0.06429009816926717, 3.920498256897937\n",
      "$ tg_cood_x_3 <f64> 43371.0, 0.0, 17.800580198667912, 14.147078994889537, -5.678676031490648, 4.729802933854976, 16.56731923526755, 27.83404851330417, 53.597005364832754\n",
      "$ tg_cood_y_3 <f64> 43371.0, 0.0, 0.009001091066397375, 1.0418271179092178, -8.864627963212671, -0.1827334066634623, 0.0050993710331077675, 0.20661702134778395, 8.201287915599481\n",
      "$ tg_cood_z_3 <f64> 43371.0, 0.0, 0.0052226783053458264, 0.17289219257292845, -3.0586733624587223, -0.07927416946162652, 0.004305777144596841, 0.08734364553032027, 4.773077968323914\n",
      "$ tg_cood_x_4 <f64> 43371.0, 0.0, 22.330185302557812, 17.772877254206836, -6.799718387513031, 5.9160516139778405, 20.763179790315586, 34.94724391510316, 67.24271501180003\n",
      "$ tg_cood_y_4 <f64> 43371.0, 0.0, 0.011158717608207358, 1.534513906347504, -12.459174095987274, -0.2562861911867529, 0.0061600080819784785, 0.2864272237952777, 12.084923257564784\n",
      "$ tg_cood_z_4 <f64> 43371.0, 0.0, 0.006012087559104841, 0.22083695547431775, -3.8712239955383367, -0.10168066236999504, 0.00528949770742061, 0.11125428996447788, 5.743042003115384\n",
      "$ tg_cood_x_5 <f64> 43371.0, 0.0, 26.84260725073137, 21.39811401676552, -7.826888370244597, 7.034703392503746, 24.947073557718593, 42.027568905167726, 80.98890010605476\n",
      "$ tg_cood_y_5 <f64> 43371.0, 0.0, 0.013563933180990386, 2.1110887290578124, -16.384151619613043, -0.3377936836816856, 0.007994441653063001, 0.3727276742148207, 17.151380511488536\n",
      "$ tg_cood_z_5 <f64> 43371.0, 0.0, 0.006647653778136916, 0.27167131530639843, -4.669255244678936, -0.12535440686368335, 0.005778101377040489, 0.13498369236039046, 6.627250814254265\n",
      "\n",
      "None\n"
     ]
    }
   ],
   "source": [
    "target = utils.CoordinateTarget(prefix=\"tg_\")\n",
    "target.fit(tr_df)\n",
    "\n",
    "tg_df = target.transform(tr_df)\n",
    "print(tg_df.columns)\n",
    "print(tg_df.describe().glimpse())\n",
    "tr_df = pl.concat([tr_df, tg_df], how=\"horizontal\")"
   ]
  },
  {
   "cell_type": "markdown",
   "metadata": {},
   "source": [
    "## 特徴量"
   ]
  },
  {
   "cell_type": "code",
   "execution_count": 9,
   "metadata": {},
   "outputs": [
    {
     "name": "stdout",
     "output_type": "stream",
     "text": [
      "['ft_vEgo', 'ft_aEgo', 'ft_steeringAngleDeg', 'ft_steeringTorque', 'ft_brake', 'ft_brakePressed', 'ft_gas', 'ft_gasPressed', 'ft_is_gearShifter_drive', 'ft_is_gearShifter_neutral', 'ft_is_gearShifter_park', 'ft_is_gearShifter_reverse', 'ft_leftBlinker', 'ft_rightBlinker']\n",
      "Rows: 9\n",
      "Columns: 15\n",
      "$ statistic                 <str> 'count', 'null_count', 'mean', 'std', 'min', '25%', '50%', '75%', 'max'\n",
      "$ ft_vEgo                   <f64> 43371.0, 0.0, 9.172175823216334, 7.226919878374694, -0.1619189828634262, 2.5786657333374023, 8.518790245056152, 14.286815643310547, 27.55126190185547\n",
      "$ ft_aEgo                   <f64> 43371.0, 0.0, -0.015654028629347255, 0.6324016778486632, -4.936206340789795, -0.2363678514957428, -1.8347540436410405e-15, 0.22229795157909396, 3.1400704383850098\n",
      "$ ft_steeringAngleDeg       <f64> 43371.0, 0.0, -2.065172574071012, 65.54882159006848, -481.394287109375, -3.461754322052002, -0.35647091269493103, 2.6269068717956543, 484.69171142578125\n",
      "$ ft_steeringTorque         <f64> 43371.0, 0.0, -19.00954554886906, 110.79997057975086, -700.0, -94.0, -13.0, 51.0, 700.0\n",
      "$ ft_brake                  <f64> 43371.0, 0.0, 0.0, 0.0, 0.0, 0.0, 0.0, 0.0, 0.0\n",
      "$ ft_brakePressed           <f64> 43371.0, 0.0, 0.3076018537732586, 0.4615060824782501, 0.0, 0.0, 0.0, 1.0, 1.0\n",
      "$ ft_gas                    <f64> 43371.0, 0.0, 0.08400302036789904, 0.10983697747311577, 0.0, 0.0, 0.0, 0.16500000655651093, 0.915000021457672\n",
      "$ ft_gasPressed             <f64> 43371.0, 0.0, 0.48359502893638606, 0.499736565674716, 0.0, 0.0, 0.0, 1.0, 1.0\n",
      "$ ft_is_gearShifter_drive   <f64> 43371.0, 0.0, 0.9972331742408522, 0.0525284118710861, 0.0, 1.0, 1.0, 1.0, 1.0\n",
      "$ ft_is_gearShifter_neutral <f64> 43371.0, 0.0, 6.917064397869545e-05, 0.008316697312424556, 0.0, 0.0, 0.0, 0.0, 1.0\n",
      "$ ft_is_gearShifter_park    <f64> 43371.0, 0.0, 0.0026515413525166585, 0.051425398943978996, 0.0, 0.0, 0.0, 0.0, 1.0\n",
      "$ ft_is_gearShifter_reverse <f64> 43371.0, 0.0, 4.6113762652463626e-05, 0.006790633209678983, 0.0, 0.0, 0.0, 0.0, 1.0\n",
      "$ ft_leftBlinker            <f64> 43371.0, 0.0, 0.07795531576398976, 0.26810434878124423, 0.0, 0.0, 0.0, 0.0, 1.0\n",
      "$ ft_rightBlinker           <f64> 43371.0, 0.0, 0.10271840630836274, 0.3035942365298531, 0.0, 0.0, 0.0, 0.0, 1.0\n",
      "\n",
      "None\n",
      "['ft_vEgo', 'ft_aEgo', 'ft_steeringAngleDeg', 'ft_steeringTorque', 'ft_brake', 'ft_brakePressed', 'ft_gas', 'ft_gasPressed', 'ft_is_gearShifter_drive', 'ft_is_gearShifter_neutral', 'ft_is_gearShifter_park', 'ft_is_gearShifter_reverse', 'ft_leftBlinker', 'ft_rightBlinker']\n",
      "Rows: 9\n",
      "Columns: 15\n",
      "$ statistic                 <str> 'count', 'null_count', 'mean', 'std', 'min', '25%', '50%', '75%', 'max'\n",
      "$ ft_vEgo                   <f64> 1727.0, 0.0, 9.498940069707334, 7.23556621771096, -0.16705937683582306, 2.988953113555908, 9.076517105102539, 14.758581161499025, 27.206621170043945\n",
      "$ ft_aEgo                   <f64> 1727.0, 0.0, -0.02907723589981004, 0.6122087564658688, -3.8730378150939937, -0.2477388381958008, -9.617285944398328e-14, 0.21507366001605988, 2.6108293533325195\n",
      "$ ft_steeringAngleDeg       <f64> 1727.0, 0.0, -3.2302326968093227, 61.06931271098453, -441.5201416015625, -3.5669302940368652, -0.4708167612552643, 2.073073387145996, 483.0481872558594\n",
      "$ ft_steeringTorque         <f64> 1727.0, 0.0, -20.277359583092068, 113.92207330483267, -363.0, -97.0, -12.0, 53.0, 642.0\n",
      "$ ft_brake                  <f64> 1727.0, 0.0, 0.0, 0.0, 0.0, 0.0, 0.0, 0.0, 0.0\n",
      "$ ft_brakePressed           <f64> 1727.0, 0.0, 0.29530978575564565, 0.45631402026409756, 0.0, 0.0, 0.0, 1.0, 1.0\n",
      "$ ft_gas                    <f64> 1727.0, 0.0, 0.08316155173182142, 0.1095658974381894, 0.0, 0.0, 0.0, 0.1599999964237213, 0.5899999737739563\n",
      "$ ft_gasPressed             <f64> 1727.0, 0.0, 0.48870874348581356, 0.5000172769309245, 0.0, 0.0, 0.0, 1.0, 1.0\n",
      "$ ft_is_gearShifter_drive   <f64> 1727.0, 0.0, 0.9942096120440069, 0.07589594679254315, 0.0, 1.0, 1.0, 1.0, 1.0\n",
      "$ ft_is_gearShifter_neutral <f64> 1727.0, 0.0, 0.0, 0.0, 0.0, 0.0, 0.0, 0.0, 0.0\n",
      "$ ft_is_gearShifter_park    <f64> 1727.0, 0.0, 0.004632310364794441, 0.06792292304189239, 0.0, 0.0, 0.0, 0.0, 1.0\n",
      "$ ft_is_gearShifter_reverse <f64> 1727.0, 0.0, 0.0011580775911986102, 0.034020679458719075, 0.0, 0.0, 0.0, 0.0, 1.0\n",
      "$ ft_leftBlinker            <f64> 1727.0, 0.0, 0.07295888824551244, 0.26014433564008865, 0.0, 0.0, 0.0, 0.0, 1.0\n",
      "$ ft_rightBlinker           <f64> 1727.0, 0.0, 0.08569774174869717, 0.2799982765850711, 0.0, 0.0, 0.0, 0.0, 1.0\n",
      "\n",
      "None\n"
     ]
    }
   ],
   "source": [
    "feature = utils.Feature(prefix=\"ft_\")\n",
    "feature.fit(tr_df)\n",
    "\n",
    "ft_df = feature.transform(tr_df)\n",
    "print(ft_df.columns)\n",
    "print(ft_df.describe().glimpse())\n",
    "tr_df = pl.concat([tr_df, ft_df], how=\"horizontal\")\n",
    "\n",
    "ft_df = feature.transform(ts_df)\n",
    "print(ft_df.columns)\n",
    "print(ft_df.describe().glimpse())\n",
    "ts_df = pl.concat([ts_df, ft_df], how=\"horizontal\")"
   ]
  },
  {
   "cell_type": "markdown",
   "metadata": {},
   "source": [
    "## モデリング"
   ]
  },
  {
   "cell_type": "code",
   "execution_count": 10,
   "metadata": {},
   "outputs": [],
   "source": [
    "N_SPLITS = 2"
   ]
  },
  {
   "cell_type": "code",
   "execution_count": 11,
   "metadata": {},
   "outputs": [],
   "source": [
    "model_params = {\n",
    "    \"dnn\": {\n",
    "        \"n_img_channels\": 3 * 3,\n",
    "        \"n_features\": len(feature.columns),\n",
    "        \"n_targets\": len(target.columns),\n",
    "        \"segmentation_model_params\": {\n",
    "            \"encoder_name\": \"resnet18\",\n",
    "            \"encoder_weights\": \"imagenet\",\n",
    "            \"decoder_channels\": (256, 128, 64, 32, 16),\n",
    "        },\n",
    "        \"n_bins\": 100,\n",
    "    },\n",
    "    \"dev\": \"cuda\",\n",
    "}\n",
    "\n",
    "lr = 1e-4\n",
    "fit_params = {\n",
    "    \"target_scaler\": {\n",
    "        \"margin\": 0.05,\n",
    "    },\n",
    "    \"dnn\": {\n",
    "        \"tr_batch_size\": 128,\n",
    "        \"vl_batch_size\": 128,\n",
    "        \"trainer_params\": {\n",
    "            \"criterion_params\": {\"ref_bin_proba_sigma\": 0.025, \"dev\": \"cuda\"},\n",
    "            \"opt\": \"adamw\",\n",
    "            \"opt_params\": {\"lr\": lr, \"weight_decay\": 1e-4},\n",
    "            \"backbone_opt_params\": {\"lr\": lr, \"weight_decay\": 1e-4},\n",
    "            \"sch_params\": {\n",
    "                \"max_lr\": lr,\n",
    "                \"pct_start\": 0.1,\n",
    "                \"div_factor\": 25,\n",
    "                \"final_div_factor\": 1000,\n",
    "            },\n",
    "            \"epochs\": 40,\n",
    "            \"dev\": \"cuda\",\n",
    "            \"prefix\": \"\",\n",
    "            \"save_best\": False,\n",
    "            \"save_epochs\": [],\n",
    "            \"maximize_score\": False,\n",
    "            \"grad_max_norm\": None,\n",
    "        },\n",
    "    },\n",
    "}"
   ]
  },
  {
   "cell_type": "code",
   "execution_count": 12,
   "metadata": {},
   "outputs": [
    {
     "name": "stdout",
     "output_type": "stream",
     "text": [
      "-----------------\n",
      "-----------------\n",
      "Training fold 0...\n",
      "train samples: 21685, valid samples: 21686\n",
      "Save model : model.pth\n",
      "\n",
      "epoch  0\n",
      "lr  4.000000000000002e-06\n",
      "lr  4.000000000000002e-06\n",
      "lr  4.000000000000002e-06\n",
      "lr  4.000000000000002e-06\n"
     ]
    },
    {
     "name": "stderr",
     "output_type": "stream",
     "text": [
      "100%|██████████| 169/169 [00:08<00:00, 18.83it/s]\n",
      "100%|██████████| 170/170 [00:03<00:00, 44.67it/s]\n"
     ]
    },
    {
     "name": "stdout",
     "output_type": "stream",
     "text": [
      "\n",
      "Train Loss: 4.6470\n",
      "{'loss': 4.646974397128855, 'loss_avg_val': 0.02677526135416426, 'loss_bin_logit': 4.620199130131648}\n",
      "Valid Loss: 4.6343\n",
      "{'loss': 4.6342787013334386, 'loss_avg_val': 0.026617379727609018, 'loss_bin_logit': 4.60766131176668}\n",
      "Update best score : 4.6342787013334386\n",
      "Save model : model.pth\n",
      "\n",
      "epoch  1\n",
      "lr  1.8098389762600235e-05\n",
      "lr  1.8098389762600235e-05\n",
      "lr  1.8098389762600235e-05\n",
      "lr  1.8098389762600235e-05\n"
     ]
    },
    {
     "name": "stderr",
     "output_type": "stream",
     "text": [
      "100%|██████████| 169/169 [00:08<00:00, 19.77it/s]\n",
      "100%|██████████| 170/170 [00:03<00:00, 47.47it/s]\n"
     ]
    },
    {
     "name": "stdout",
     "output_type": "stream",
     "text": [
      "\n",
      "Train Loss: 4.6127\n",
      "{'loss': 4.612685982292221, 'loss_avg_val': 0.026266489773107, 'loss_bin_logit': 4.586419486435207}\n",
      "Valid Loss: 4.5744\n",
      "{'loss': 4.5744148534886975, 'loss_avg_val': 0.025456000448149795, 'loss_bin_logit': 4.548958856919232}\n",
      "Update best score : 4.5744148534886975\n",
      "Save model : model.pth\n",
      "\n",
      "epoch  2\n",
      "lr  5.211170097130961e-05\n",
      "lr  5.211170097130961e-05\n",
      "lr  5.211170097130961e-05\n",
      "lr  5.211170097130961e-05\n"
     ]
    },
    {
     "name": "stderr",
     "output_type": "stream",
     "text": [
      "100%|██████████| 169/169 [00:08<00:00, 20.59it/s]\n",
      "100%|██████████| 170/170 [00:03<00:00, 47.07it/s]\n"
     ]
    },
    {
     "name": "stdout",
     "output_type": "stream",
     "text": [
      "\n",
      "Train Loss: 4.5028\n",
      "{'loss': 4.502822684113091, 'loss_avg_val': 0.024023831265388863, 'loss_bin_logit': 4.478798883201103}\n",
      "Valid Loss: 4.4046\n",
      "{'loss': 4.404574772890876, 'loss_avg_val': 0.02175718623706523, 'loss_bin_logit': 4.382817590937895}\n",
      "Update best score : 4.404574772890876\n",
      "Save model : model.pth\n",
      "\n",
      "epoch  3\n",
      "lr  8.6059395353753e-05\n",
      "lr  8.6059395353753e-05\n",
      "lr  8.6059395353753e-05\n",
      "lr  8.6059395353753e-05\n"
     ]
    },
    {
     "name": "stderr",
     "output_type": "stream",
     "text": [
      "100%|██████████| 169/169 [00:08<00:00, 20.58it/s]\n",
      "100%|██████████| 170/170 [00:03<00:00, 45.56it/s]\n"
     ]
    },
    {
     "name": "stdout",
     "output_type": "stream",
     "text": [
      "\n",
      "Train Loss: 4.2922\n",
      "{'loss': 4.292214565728543, 'loss_avg_val': 0.019630391073561983, 'loss_bin_logit': 4.272584167457897}\n",
      "Valid Loss: 4.1545\n",
      "{'loss': 4.1545492256388945, 'loss_avg_val': 0.01680521745344295, 'loss_bin_logit': 4.137744000378777}\n",
      "Update best score : 4.1545492256388945\n",
      "Save model : model.pth\n",
      "\n",
      "epoch  4\n",
      "lr  9.999999333432766e-05\n",
      "lr  9.999999333432766e-05\n",
      "lr  9.999999333432766e-05\n",
      "lr  9.999999333432766e-05\n"
     ]
    },
    {
     "name": "stderr",
     "output_type": "stream",
     "text": [
      "100%|██████████| 169/169 [00:08<00:00, 20.79it/s]\n",
      "100%|██████████| 170/170 [00:03<00:00, 46.82it/s]\n"
     ]
    },
    {
     "name": "stdout",
     "output_type": "stream",
     "text": [
      "\n",
      "Train Loss: 4.0510\n",
      "{'loss': 4.050970847790058, 'loss_avg_val': 0.015188379417112945, 'loss_bin_logit': 4.035782457103391}\n",
      "Valid Loss: 3.9542\n",
      "{'loss': 3.9541978639714856, 'loss_avg_val': 0.013625972531735897, 'loss_bin_logit': 3.940571892962736}\n",
      "Update best score : 3.9541978639714856\n",
      "Save model : model.pth\n",
      "\n",
      "epoch  5\n",
      "lr  9.980748573618664e-05\n",
      "lr  9.980748573618664e-05\n",
      "lr  9.980748573618664e-05\n",
      "lr  9.980748573618664e-05\n"
     ]
    },
    {
     "name": "stderr",
     "output_type": "stream",
     "text": [
      "100%|██████████| 169/169 [00:08<00:00, 20.43it/s]\n",
      "100%|██████████| 170/170 [00:03<00:00, 46.13it/s]\n"
     ]
    },
    {
     "name": "stdout",
     "output_type": "stream",
     "text": [
      "\n",
      "Train Loss: 3.8376\n",
      "{'loss': 3.8376068222452195, 'loss_avg_val': 0.012306408835409661, 'loss_bin_logit': 3.825300411359798}\n",
      "Valid Loss: 3.7400\n",
      "{'loss': 3.7399992816588457, 'loss_avg_val': 0.011273494540878079, 'loss_bin_logit': 3.728725789575016}\n",
      "Update best score : 3.7399992816588457\n",
      "Save model : model.pth\n",
      "\n",
      "epoch  6\n",
      "lr  9.92359283182187e-05\n",
      "lr  9.92359283182187e-05\n",
      "lr  9.92359283182187e-05\n",
      "lr  9.92359283182187e-05\n"
     ]
    },
    {
     "name": "stderr",
     "output_type": "stream",
     "text": [
      "100%|██████████| 169/169 [00:08<00:00, 20.40it/s]\n",
      "100%|██████████| 170/170 [00:03<00:00, 46.30it/s]\n"
     ]
    },
    {
     "name": "stdout",
     "output_type": "stream",
     "text": [
      "\n",
      "Train Loss: 3.6595\n",
      "{'loss': 3.6594864616732625, 'loss_avg_val': 0.010320650667128478, 'loss_bin_logit': 3.649165820793287}\n",
      "Valid Loss: 3.5679\n",
      "{'loss': 3.5678751019870534, 'loss_avg_val': 0.009208345851477454, 'loss_bin_logit': 3.5586667565738455}\n",
      "Update best score : 3.5678751019870534\n",
      "Save model : model.pth\n",
      "\n",
      "epoch  7\n",
      "lr  9.828967097749041e-05\n",
      "lr  9.828967097749041e-05\n",
      "lr  9.828967097749041e-05\n",
      "lr  9.828967097749041e-05\n"
     ]
    },
    {
     "name": "stderr",
     "output_type": "stream",
     "text": [
      "100%|██████████| 169/169 [00:08<00:00, 20.30it/s]\n",
      "100%|██████████| 170/170 [00:03<00:00, 45.99it/s]\n"
     ]
    },
    {
     "name": "stdout",
     "output_type": "stream",
     "text": [
      "\n",
      "Train Loss: 3.5127\n",
      "{'loss': 3.512684324083949, 'loss_avg_val': 0.00886307894830873, 'loss_bin_logit': 3.5038212488388876}\n",
      "Valid Loss: 3.4375\n",
      "{'loss': 3.4374626860899085, 'loss_avg_val': 0.008084918898256386, 'loss_bin_logit': 3.42937776481404}\n",
      "Update best score : 3.4374626860899085\n",
      "Save model : model.pth\n",
      "\n",
      "epoch  8\n",
      "lr  9.69759153037305e-05\n",
      "lr  9.69759153037305e-05\n",
      "lr  9.69759153037305e-05\n",
      "lr  9.69759153037305e-05\n"
     ]
    },
    {
     "name": "stderr",
     "output_type": "stream",
     "text": [
      "100%|██████████| 169/169 [00:08<00:00, 20.28it/s]\n",
      "100%|██████████| 170/170 [00:03<00:00, 46.19it/s]\n"
     ]
    },
    {
     "name": "stdout",
     "output_type": "stream",
     "text": [
      "\n",
      "Train Loss: 3.3919\n",
      "{'loss': 3.391899051045525, 'loss_avg_val': 0.007707172450912598, 'loss_bin_logit': 3.3841918798593373}\n",
      "Valid Loss: 3.3271\n",
      "{'loss': 3.327119846904979, 'loss_avg_val': 0.007140424772275283, 'loss_bin_logit': 3.3199794250376082}\n",
      "Update best score : 3.327119846904979\n",
      "Save model : model.pth\n",
      "\n",
      "epoch  9\n",
      "lr  9.530465977088365e-05\n",
      "lr  9.530465977088365e-05\n",
      "lr  9.530465977088365e-05\n",
      "lr  9.530465977088365e-05\n"
     ]
    },
    {
     "name": "stderr",
     "output_type": "stream",
     "text": [
      "100%|██████████| 169/169 [00:08<00:00, 20.35it/s]\n",
      "100%|██████████| 170/170 [00:03<00:00, 46.68it/s]\n"
     ]
    },
    {
     "name": "stdout",
     "output_type": "stream",
     "text": [
      "\n",
      "Train Loss: 3.2920\n",
      "{'loss': 3.292036046643229, 'loss_avg_val': 0.00675160483561853, 'loss_bin_logit': 3.285284444425233}\n",
      "Valid Loss: 3.2426\n",
      "{'loss': 3.2425525987849517, 'loss_avg_val': 0.006152341587414198, 'loss_bin_logit': 3.236400250827565}\n",
      "Update best score : 3.2425525987849517\n",
      "Save model : model.pth\n",
      "\n",
      "epoch  10\n",
      "lr  9.32886236426865e-05\n",
      "lr  9.32886236426865e-05\n",
      "lr  9.32886236426865e-05\n",
      "lr  9.32886236426865e-05\n"
     ]
    },
    {
     "name": "stderr",
     "output_type": "stream",
     "text": [
      "100%|██████████| 169/169 [00:08<00:00, 20.32it/s]\n",
      "100%|██████████| 170/170 [00:03<00:00, 47.02it/s]\n"
     ]
    },
    {
     "name": "stdout",
     "output_type": "stream",
     "text": [
      "\n",
      "Train Loss: 3.2093\n",
      "{'loss': 3.209264446292403, 'loss_avg_val': 0.005938017837284409, 'loss_bin_logit': 3.2033264340733636}\n",
      "Valid Loss: 3.1646\n",
      "{'loss': 3.164624999551212, 'loss_avg_val': 0.005442759757587577, 'loss_bin_logit': 3.159182238578796}\n",
      "Update best score : 3.164624999551212\n",
      "Save model : model.pth\n",
      "\n",
      "epoch  11\n",
      "lr  9.094315017139055e-05\n",
      "lr  9.094315017139055e-05\n",
      "lr  9.094315017139055e-05\n",
      "lr  9.094315017139055e-05\n"
     ]
    },
    {
     "name": "stderr",
     "output_type": "stream",
     "text": [
      "100%|██████████| 169/169 [00:08<00:00, 20.32it/s]\n",
      "100%|██████████| 170/170 [00:03<00:00, 46.61it/s]\n"
     ]
    },
    {
     "name": "stdout",
     "output_type": "stream",
     "text": [
      "\n",
      "Train Loss: 3.1412\n",
      "{'loss': 3.1412227774512838, 'loss_avg_val': 0.0053097590467942185, 'loss_bin_logit': 3.135913019349589}\n",
      "Valid Loss: 3.1105\n",
      "{'loss': 3.110489479233237, 'loss_avg_val': 0.005068954204976121, 'loss_bin_logit': 3.1054205277386835}\n",
      "Update best score : 3.110489479233237\n",
      "Save model : model.pth\n",
      "\n",
      "epoch  12\n",
      "lr  8.828608982634794e-05\n",
      "lr  8.828608982634794e-05\n",
      "lr  8.828608982634794e-05\n",
      "lr  8.828608982634794e-05\n"
     ]
    },
    {
     "name": "stderr",
     "output_type": "stream",
     "text": [
      "100%|██████████| 169/169 [00:08<00:00, 20.30it/s]\n",
      "100%|██████████| 170/170 [00:03<00:00, 46.80it/s]\n"
     ]
    },
    {
     "name": "stdout",
     "output_type": "stream",
     "text": [
      "\n",
      "Train Loss: 3.0824\n",
      "{'loss': 3.0823668996257894, 'loss_avg_val': 0.005027614835616664, 'loss_bin_logit': 3.077339286634908}\n",
      "Valid Loss: 3.0463\n",
      "{'loss': 3.0463329188963946, 'loss_avg_val': 0.004678825012353414, 'loss_bin_logit': 3.041654084710514}\n",
      "Update best score : 3.0463329188963946\n",
      "Save model : model.pth\n",
      "\n",
      "epoch  13\n",
      "lr  8.533766444116135e-05\n",
      "lr  8.533766444116135e-05\n",
      "lr  8.533766444116135e-05\n",
      "lr  8.533766444116135e-05\n"
     ]
    },
    {
     "name": "stderr",
     "output_type": "stream",
     "text": [
      "100%|██████████| 169/169 [00:08<00:00, 20.42it/s]\n",
      "100%|██████████| 170/170 [00:03<00:00, 46.48it/s]\n"
     ]
    },
    {
     "name": "stdout",
     "output_type": "stream",
     "text": [
      "\n",
      "Train Loss: 3.0315\n",
      "{'loss': 3.031515894556892, 'loss_avg_val': 0.0045630113240992705, 'loss_bin_logit': 3.0269528789633124}\n",
      "Valid Loss: 2.9975\n",
      "{'loss': 2.997539992893443, 'loss_avg_val': 0.004069799218354199, 'loss_bin_logit': 2.9934701919555664}\n",
      "Update best score : 2.997539992893443\n",
      "Save model : model.pth\n",
      "\n",
      "epoch  14\n",
      "lr  8.212031331331998e-05\n",
      "lr  8.212031331331998e-05\n",
      "lr  8.212031331331998e-05\n",
      "lr  8.212031331331998e-05\n"
     ]
    },
    {
     "name": "stderr",
     "output_type": "stream",
     "text": [
      "100%|██████████| 169/169 [00:08<00:00, 20.38it/s]\n",
      "100%|██████████| 170/170 [00:03<00:00, 47.11it/s]\n"
     ]
    },
    {
     "name": "stdout",
     "output_type": "stream",
     "text": [
      "\n",
      "Train Loss: 2.9903\n",
      "{'loss': 2.9903332622798944, 'loss_avg_val': 0.004146612132210615, 'loss_bin_logit': 2.9861866482616177}\n",
      "Valid Loss: 2.9690\n",
      "{'loss': 2.969037224264706, 'loss_avg_val': 0.0036737412303302656, 'loss_bin_logit': 2.965363488477819}\n",
      "Update best score : 2.969037224264706\n",
      "Save model : model.pth\n",
      "\n",
      "epoch  15\n",
      "lr  7.865852242759644e-05\n",
      "lr  7.865852242759644e-05\n",
      "lr  7.865852242759644e-05\n",
      "lr  7.865852242759644e-05\n"
     ]
    },
    {
     "name": "stderr",
     "output_type": "stream",
     "text": [
      "100%|██████████| 169/169 [00:08<00:00, 20.43it/s]\n",
      "100%|██████████| 170/170 [00:03<00:00, 46.59it/s]\n"
     ]
    },
    {
     "name": "stdout",
     "output_type": "stream",
     "text": [
      "\n",
      "Train Loss: 2.9549\n",
      "{'loss': 2.954858806711682, 'loss_avg_val': 0.0037528960607372797, 'loss_bin_logit': 2.9511059092346734}\n",
      "Valid Loss: 2.9354\n",
      "{'loss': 2.935372835047105, 'loss_avg_val': 0.0033701596336494035, 'loss_bin_logit': 2.93200267903945}\n",
      "Update best score : 2.935372835047105\n",
      "Save model : model.pth\n",
      "\n",
      "epoch  16\n",
      "lr  7.497863810291755e-05\n",
      "lr  7.497863810291755e-05\n",
      "lr  7.497863810291755e-05\n",
      "lr  7.497863810291755e-05\n"
     ]
    },
    {
     "name": "stderr",
     "output_type": "stream",
     "text": [
      "100%|██████████| 169/169 [00:08<00:00, 20.44it/s]\n",
      "100%|██████████| 170/170 [00:03<00:00, 45.90it/s]\n"
     ]
    },
    {
     "name": "stdout",
     "output_type": "stream",
     "text": [
      "\n",
      "Train Loss: 2.9236\n",
      "{'loss': 2.9236419638233073, 'loss_avg_val': 0.0033960985818866796, 'loss_bin_logit': 2.9202458675091085}\n",
      "Valid Loss: 2.9072\n",
      "{'loss': 2.9071920296725104, 'loss_avg_val': 0.0031264581744942597, 'loss_bin_logit': 2.9040655795265646}\n",
      "Update best score : 2.9071920296725104\n",
      "Save model : model.pth\n",
      "\n",
      "epoch  17\n",
      "lr  7.110866648096904e-05\n",
      "lr  7.110866648096904e-05\n",
      "lr  7.110866648096904e-05\n",
      "lr  7.110866648096904e-05\n"
     ]
    },
    {
     "name": "stderr",
     "output_type": "stream",
     "text": [
      "100%|██████████| 169/169 [00:08<00:00, 20.22it/s]\n",
      "100%|██████████| 170/170 [00:03<00:00, 47.19it/s]\n"
     ]
    },
    {
     "name": "stdout",
     "output_type": "stream",
     "text": [
      "\n",
      "Train Loss: 2.8944\n",
      "{'loss': 2.894426220267482, 'loss_avg_val': 0.0031203989479580575, 'loss_bin_logit': 2.8913058261194173}\n",
      "Valid Loss: 2.8790\n",
      "{'loss': 2.8790448483298805, 'loss_avg_val': 0.002806868026827407, 'loss_bin_logit': 2.876237988471985}\n",
      "Update best score : 2.8790448483298805\n",
      "Save model : model.pth\n",
      "\n",
      "epoch  18\n",
      "lr  6.707806038254668e-05\n",
      "lr  6.707806038254668e-05\n",
      "lr  6.707806038254668e-05\n",
      "lr  6.707806038254668e-05\n"
     ]
    },
    {
     "name": "stderr",
     "output_type": "stream",
     "text": [
      "100%|██████████| 169/169 [00:08<00:00, 20.49it/s]\n",
      "100%|██████████| 170/170 [00:03<00:00, 47.00it/s]\n"
     ]
    },
    {
     "name": "stdout",
     "output_type": "stream",
     "text": [
      "\n",
      "Train Loss: 2.8721\n",
      "{'loss': 2.8721116548459205, 'loss_avg_val': 0.0029182449057588034, 'loss_bin_logit': 2.869193412848478}\n",
      "Valid Loss: 2.8606\n",
      "{'loss': 2.860626822359422, 'loss_avg_val': 0.0027167184004450546, 'loss_bin_logit': 2.857910094541662}\n",
      "Update best score : 2.860626822359422\n",
      "Save model : model.pth\n",
      "\n",
      "epoch  19\n",
      "lr  6.291749515380597e-05\n",
      "lr  6.291749515380597e-05\n",
      "lr  6.291749515380597e-05\n",
      "lr  6.291749515380597e-05\n"
     ]
    },
    {
     "name": "stderr",
     "output_type": "stream",
     "text": [
      "100%|██████████| 169/169 [00:08<00:00, 20.79it/s]\n",
      "100%|██████████| 170/170 [00:03<00:00, 47.62it/s]\n"
     ]
    },
    {
     "name": "stdout",
     "output_type": "stream",
     "text": [
      "\n",
      "Train Loss: 2.8524\n",
      "{'loss': 2.8524207843125926, 'loss_avg_val': 0.0027462494423194134, 'loss_bin_logit': 2.8496745295778534}\n",
      "Valid Loss: 2.8503\n",
      "{'loss': 2.850285559542039, 'loss_avg_val': 0.0026892255882129948, 'loss_bin_logit': 2.8475963283987604}\n",
      "Update best score : 2.850285559542039\n",
      "Save model : model.pth\n",
      "\n",
      "epoch  20\n",
      "lr  5.8658635208355614e-05\n",
      "lr  5.8658635208355614e-05\n",
      "lr  5.8658635208355614e-05\n",
      "lr  5.8658635208355614e-05\n"
     ]
    },
    {
     "name": "stderr",
     "output_type": "stream",
     "text": [
      "100%|██████████| 169/169 [00:08<00:00, 20.84it/s]\n",
      "100%|██████████| 170/170 [00:03<00:00, 47.83it/s]\n"
     ]
    },
    {
     "name": "stdout",
     "output_type": "stream",
     "text": [
      "\n",
      "Train Loss: 2.8361\n",
      "{'loss': 2.8361458961780253, 'loss_avg_val': 0.0026127265486590697, 'loss_bin_logit': 2.833533172776713}\n",
      "Valid Loss: 2.8261\n",
      "{'loss': 2.8260705008226283, 'loss_avg_val': 0.0023329482352196732, 'loss_bin_logit': 2.823737552586724}\n",
      "Update best score : 2.8260705008226283\n",
      "Save model : model.pth\n",
      "\n",
      "epoch  21\n",
      "lr  5.433389304195041e-05\n",
      "lr  5.433389304195041e-05\n",
      "lr  5.433389304195041e-05\n",
      "lr  5.433389304195041e-05\n"
     ]
    },
    {
     "name": "stderr",
     "output_type": "stream",
     "text": [
      "100%|██████████| 169/169 [00:08<00:00, 20.68it/s]\n",
      "100%|██████████| 170/170 [00:03<00:00, 46.80it/s]\n"
     ]
    },
    {
     "name": "stdout",
     "output_type": "stream",
     "text": [
      "\n",
      "Train Loss: 2.8213\n",
      "{'loss': 2.8213312287302412, 'loss_avg_val': 0.002481249128688766, 'loss_bin_logit': 2.8188499825945974}\n",
      "Valid Loss: 2.8158\n",
      "{'loss': 2.815814869544085, 'loss_avg_val': 0.0022779433857923483, 'loss_bin_logit': 2.813536923071917}\n",
      "Update best score : 2.815814869544085\n",
      "Save model : model.pth\n",
      "\n",
      "epoch  22\n",
      "lr  4.9976182553827446e-05\n",
      "lr  4.9976182553827446e-05\n",
      "lr  4.9976182553827446e-05\n",
      "lr  4.9976182553827446e-05\n"
     ]
    },
    {
     "name": "stderr",
     "output_type": "stream",
     "text": [
      "100%|██████████| 169/169 [00:08<00:00, 20.19it/s]\n",
      "100%|██████████| 170/170 [00:03<00:00, 47.14it/s]\n"
     ]
    },
    {
     "name": "stdout",
     "output_type": "stream",
     "text": [
      "\n",
      "Train Loss: 2.8076\n",
      "{'loss': 2.8076407979931353, 'loss_avg_val': 0.002374679736032553, 'loss_bin_logit': 2.8052661263731102}\n",
      "Valid Loss: 2.8062\n",
      "{'loss': 2.8062430353725656, 'loss_avg_val': 0.0022158665853032077, 'loss_bin_logit': 2.8040271688910092}\n",
      "Update best score : 2.8062430353725656\n",
      "Save model : model.pth\n",
      "\n",
      "epoch  23\n",
      "lr  4.5618668552058836e-05\n",
      "lr  4.5618668552058836e-05\n",
      "lr  4.5618668552058836e-05\n",
      "lr  4.5618668552058836e-05\n"
     ]
    },
    {
     "name": "stderr",
     "output_type": "stream",
     "text": [
      "100%|██████████| 169/169 [00:08<00:00, 20.46it/s]\n",
      "100%|██████████| 170/170 [00:03<00:00, 47.14it/s]\n"
     ]
    },
    {
     "name": "stdout",
     "output_type": "stream",
     "text": [
      "\n",
      "Train Loss: 2.7960\n",
      "{'loss': 2.796022172510271, 'loss_avg_val': 0.002283173202007965, 'loss_bin_logit': 2.7937390056587534}\n",
      "Valid Loss: 2.7973\n",
      "{'loss': 2.79732305021847, 'loss_avg_val': 0.0021021249258945532, 'loss_bin_logit': 2.7952209318385406}\n",
      "Update best score : 2.79732305021847\n",
      "Save model : model.pth\n",
      "\n",
      "epoch  24\n",
      "lr  4.1294514349336954e-05\n",
      "lr  4.1294514349336954e-05\n",
      "lr  4.1294514349336954e-05\n",
      "lr  4.1294514349336954e-05\n"
     ]
    },
    {
     "name": "stderr",
     "output_type": "stream",
     "text": [
      "100%|██████████| 169/169 [00:08<00:00, 20.40it/s]\n",
      "100%|██████████| 170/170 [00:03<00:00, 46.64it/s]\n"
     ]
    },
    {
     "name": "stdout",
     "output_type": "stream",
     "text": [
      "\n",
      "Train Loss: 2.7856\n",
      "{'loss': 2.7856291751184408, 'loss_avg_val': 0.0022163508740975658, 'loss_bin_logit': 2.783412823310265}\n",
      "Valid Loss: 2.7882\n",
      "{'loss': 2.788157831921297, 'loss_avg_val': 0.0021331777138745085, 'loss_bin_logit': 2.7860246518078973}\n",
      "Update best score : 2.788157831921297\n",
      "Save model : model.pth\n",
      "\n",
      "epoch  25\n",
      "lr  3.7036629370140214e-05\n",
      "lr  3.7036629370140214e-05\n",
      "lr  3.7036629370140214e-05\n",
      "lr  3.7036629370140214e-05\n"
     ]
    },
    {
     "name": "stderr",
     "output_type": "stream",
     "text": [
      "100%|██████████| 169/169 [00:08<00:00, 20.44it/s]\n",
      "100%|██████████| 170/170 [00:03<00:00, 47.15it/s]\n"
     ]
    },
    {
     "name": "stdout",
     "output_type": "stream",
     "text": [
      "\n",
      "Train Loss: 2.7770\n",
      "{'loss': 2.77700484292747, 'loss_avg_val': 0.002158031826453096, 'loss_bin_logit': 2.774846803507156}\n",
      "Valid Loss: 2.7805\n",
      "{'loss': 2.78046558043536, 'loss_avg_val': 0.002081344825873042, 'loss_bin_logit': 2.7783842198988973}\n",
      "Update best score : 2.78046558043536\n",
      "Save model : model.pth\n",
      "\n",
      "epoch  26\n",
      "lr  3.287741869014153e-05\n",
      "lr  3.287741869014153e-05\n",
      "lr  3.287741869014153e-05\n",
      "lr  3.287741869014153e-05\n"
     ]
    },
    {
     "name": "stderr",
     "output_type": "stream",
     "text": [
      "100%|██████████| 169/169 [00:08<00:00, 20.37it/s]\n",
      "100%|██████████| 170/170 [00:03<00:00, 46.73it/s]\n"
     ]
    },
    {
     "name": "stdout",
     "output_type": "stream",
     "text": [
      "\n",
      "Train Loss: 2.7695\n",
      "{'loss': 2.769482646468123, 'loss_avg_val': 0.0021004462628432456, 'loss_bin_logit': 2.767382191483086}\n",
      "Valid Loss: 2.7760\n",
      "{'loss': 2.776033701616175, 'loss_avg_val': 0.00204458611072315, 'loss_bin_logit': 2.773989122054156}\n",
      "Update best score : 2.776033701616175\n",
      "Save model : model.pth\n",
      "\n",
      "epoch  27\n",
      "lr  2.8848536414015768e-05\n",
      "lr  2.8848536414015768e-05\n",
      "lr  2.8848536414015768e-05\n",
      "lr  2.8848536414015768e-05\n"
     ]
    },
    {
     "name": "stderr",
     "output_type": "stream",
     "text": [
      "100%|██████████| 169/169 [00:08<00:00, 20.32it/s]\n",
      "100%|██████████| 170/170 [00:03<00:00, 47.00it/s]\n"
     ]
    },
    {
     "name": "stdout",
     "output_type": "stream",
     "text": [
      "\n",
      "Train Loss: 2.7633\n",
      "{'loss': 2.7633340344626522, 'loss_avg_val': 0.0020644346502824472, 'loss_bin_logit': 2.76126959902295}\n",
      "Valid Loss: 2.7694\n",
      "{'loss': 2.7693950484780703, 'loss_avg_val': 0.001966422194313696, 'loss_bin_logit': 2.767428622526281}\n",
      "Update best score : 2.7693950484780703\n",
      "Save model : model.pth\n",
      "\n",
      "epoch  28\n",
      "lr  2.4980644768589897e-05\n",
      "lr  2.4980644768589897e-05\n",
      "lr  2.4980644768589897e-05\n",
      "lr  2.4980644768589897e-05\n"
     ]
    },
    {
     "name": "stderr",
     "output_type": "stream",
     "text": [
      "100%|██████████| 169/169 [00:08<00:00, 20.32it/s]\n",
      "100%|██████████| 170/170 [00:03<00:00, 46.93it/s]\n"
     ]
    },
    {
     "name": "stdout",
     "output_type": "stream",
     "text": [
      "\n",
      "Train Loss: 2.7573\n",
      "{'loss': 2.7573472423666328, 'loss_avg_val': 0.0020169760389859683, 'loss_bin_logit': 2.7553302620994975}\n",
      "Valid Loss: 2.7648\n",
      "{'loss': 2.7647699271931367, 'loss_avg_val': 0.0019145350584842485, 'loss_bin_logit': 2.7628553965512443}\n",
      "Update best score : 2.7647699271931367\n",
      "Save model : model.pth\n",
      "\n",
      "epoch  29\n",
      "lr  2.1303180744782415e-05\n",
      "lr  2.1303180744782415e-05\n",
      "lr  2.1303180744782415e-05\n",
      "lr  2.1303180744782415e-05\n"
     ]
    },
    {
     "name": "stderr",
     "output_type": "stream",
     "text": [
      "100%|██████████| 169/169 [00:08<00:00, 20.31it/s]\n",
      "100%|██████████| 170/170 [00:03<00:00, 47.15it/s]\n"
     ]
    },
    {
     "name": "stdout",
     "output_type": "stream",
     "text": [
      "\n",
      "Train Loss: 2.7530\n",
      "{'loss': 2.75300839384632, 'loss_avg_val': 0.0019862104817596677, 'loss_bin_logit': 2.7510221808619755}\n",
      "Valid Loss: 2.7628\n",
      "{'loss': 2.7627730018952312, 'loss_avg_val': 0.0019331296714132323, 'loss_bin_logit': 2.7608398675918577}\n",
      "Update best score : 2.7627730018952312\n",
      "Save model : model.pth\n",
      "\n",
      "epoch  30\n",
      "lr  1.784413206432799e-05\n",
      "lr  1.784413206432799e-05\n",
      "lr  1.784413206432799e-05\n",
      "lr  1.784413206432799e-05\n"
     ]
    },
    {
     "name": "stderr",
     "output_type": "stream",
     "text": [
      "100%|██████████| 169/169 [00:08<00:00, 20.43it/s]\n",
      "100%|██████████| 170/170 [00:03<00:00, 46.54it/s]\n"
     ]
    },
    {
     "name": "stdout",
     "output_type": "stream",
     "text": [
      "\n",
      "Train Loss: 2.7485\n",
      "{'loss': 2.7485478728480595, 'loss_avg_val': 0.001967189784613631, 'loss_bin_logit': 2.7465806825626533}\n",
      "Valid Loss: 2.7583\n",
      "{'loss': 2.7583307041841394, 'loss_avg_val': 0.0018816458324983935, 'loss_bin_logit': 2.7564490598790785}\n",
      "Update best score : 2.7583307041841394\n",
      "Save model : model.pth\n",
      "\n",
      "epoch  31\n",
      "lr  1.4629824176315567e-05\n",
      "lr  1.4629824176315567e-05\n",
      "lr  1.4629824176315567e-05\n",
      "lr  1.4629824176315567e-05\n"
     ]
    },
    {
     "name": "stderr",
     "output_type": "stream",
     "text": [
      "100%|██████████| 169/169 [00:08<00:00, 20.42it/s]\n",
      "100%|██████████| 170/170 [00:03<00:00, 46.87it/s]\n"
     ]
    },
    {
     "name": "stdout",
     "output_type": "stream",
     "text": [
      "\n",
      "Train Loss: 2.7444\n",
      "{'loss': 2.7444467600986098, 'loss_avg_val': 0.00194346685769841, 'loss_bin_logit': 2.7425032917564436}\n",
      "Valid Loss: 2.7553\n",
      "{'loss': 2.7553097738939174, 'loss_avg_val': 0.001856085188988158, 'loss_bin_logit': 2.7534536908654608}\n",
      "Update best score : 2.7553097738939174\n",
      "Save model : model.pth\n",
      "\n",
      "epoch  32\n",
      "lr  1.1684719904625122e-05\n",
      "lr  1.1684719904625122e-05\n",
      "lr  1.1684719904625122e-05\n",
      "lr  1.1684719904625122e-05\n"
     ]
    },
    {
     "name": "stderr",
     "output_type": "stream",
     "text": [
      "100%|██████████| 169/169 [00:08<00:00, 20.38it/s]\n",
      "100%|██████████| 170/170 [00:03<00:00, 47.00it/s]\n"
     ]
    },
    {
     "name": "stdout",
     "output_type": "stream",
     "text": [
      "\n",
      "Train Loss: 2.7429\n",
      "{'loss': 2.742878013813989, 'loss_avg_val': 0.0019322369590721274, 'loss_bin_logit': 2.740945777949497}\n",
      "Valid Loss: 2.7531\n",
      "{'loss': 2.753103250615737, 'loss_avg_val': 0.001845690471407793, 'loss_bin_logit': 2.751257555625018}\n",
      "Update best score : 2.753103250615737\n",
      "Save model : model.pth\n",
      "\n",
      "epoch  33\n",
      "lr  9.03123327106677e-06\n",
      "lr  9.03123327106677e-06\n",
      "lr  9.03123327106677e-06\n",
      "lr  9.03123327106677e-06\n"
     ]
    },
    {
     "name": "stderr",
     "output_type": "stream",
     "text": [
      "100%|██████████| 169/169 [00:08<00:00, 20.32it/s]\n",
      "100%|██████████| 170/170 [00:03<00:00, 46.85it/s]\n"
     ]
    },
    {
     "name": "stdout",
     "output_type": "stream",
     "text": [
      "\n",
      "Train Loss: 2.7409\n",
      "{'loss': 2.7409414511460524, 'loss_avg_val': 0.0019203921829587256, 'loss_bin_logit': 2.7390210755477997}\n",
      "Valid Loss: 2.7517\n",
      "{'loss': 2.7517422788283405, 'loss_avg_val': 0.0018578294825548416, 'loss_bin_logit': 2.7498844497344073}\n",
      "Update best score : 2.7517422788283405\n",
      "Save model : model.pth\n",
      "\n",
      "epoch  34\n",
      "lr  6.6895589111409285e-06\n",
      "lr  6.6895589111409285e-06\n",
      "lr  6.6895589111409285e-06\n",
      "lr  6.6895589111409285e-06\n"
     ]
    },
    {
     "name": "stderr",
     "output_type": "stream",
     "text": [
      "100%|██████████| 169/169 [00:08<00:00, 20.29it/s]\n",
      "100%|██████████| 170/170 [00:03<00:00, 45.74it/s]\n"
     ]
    },
    {
     "name": "stdout",
     "output_type": "stream",
     "text": [
      "\n",
      "Train Loss: 2.7392\n",
      "{'loss': 2.739166548971594, 'loss_avg_val': 0.0019149008184980007, 'loss_bin_logit': 2.737251642893052}\n",
      "Valid Loss: 2.7508\n",
      "{'loss': 2.7508383189930634, 'loss_avg_val': 0.0018627930959850987, 'loss_bin_logit': 2.7489755265852986}\n",
      "Update best score : 2.7508383189930634\n",
      "Save model : model.pth\n",
      "\n",
      "epoch  35\n",
      "lr  4.67751838066829e-06\n",
      "lr  4.67751838066829e-06\n",
      "lr  4.67751838066829e-06\n",
      "lr  4.67751838066829e-06\n"
     ]
    },
    {
     "name": "stderr",
     "output_type": "stream",
     "text": [
      "100%|██████████| 169/169 [00:08<00:00, 20.37it/s]\n",
      "100%|██████████| 170/170 [00:03<00:00, 45.49it/s]\n"
     ]
    },
    {
     "name": "stdout",
     "output_type": "stream",
     "text": [
      "\n",
      "Train Loss: 2.7370\n",
      "{'loss': 2.7369908214320797, 'loss_avg_val': 0.0018974521184290521, 'loss_bin_logit': 2.735093365054159}\n",
      "Valid Loss: 2.7494\n",
      "{'loss': 2.7494194479549634, 'loss_avg_val': 0.0018287441474111642, 'loss_bin_logit': 2.7475907003178315}\n",
      "Update best score : 2.7494194479549634\n",
      "Save model : model.pth\n",
      "\n",
      "epoch  36\n",
      "lr  3.0104245229890217e-06\n",
      "lr  3.0104245229890217e-06\n",
      "lr  3.0104245229890217e-06\n",
      "lr  3.0104245229890217e-06\n"
     ]
    },
    {
     "name": "stderr",
     "output_type": "stream",
     "text": [
      "100%|██████████| 169/169 [00:08<00:00, 19.43it/s]\n",
      "100%|██████████| 170/170 [00:03<00:00, 45.91it/s]\n"
     ]
    },
    {
     "name": "stdout",
     "output_type": "stream",
     "text": [
      "\n",
      "Train Loss: 2.7368\n",
      "{'loss': 2.736839637248474, 'loss_avg_val': 0.0018989287217605043, 'loss_bin_logit': 2.734940703803971}\n",
      "Valid Loss: 2.7498\n",
      "{'loss': 2.7497961913838105, 'loss_avg_val': 0.001848706603050232, 'loss_bin_logit': 2.7479474853066836}\n",
      "Save model : model.pth\n",
      "\n",
      "epoch  37\n",
      "lr  1.7009649289788598e-06\n",
      "lr  1.7009649289788598e-06\n",
      "lr  1.7009649289788598e-06\n",
      "lr  1.7009649289788598e-06\n"
     ]
    },
    {
     "name": "stderr",
     "output_type": "stream",
     "text": [
      "100%|██████████| 169/169 [00:08<00:00, 20.17it/s]\n",
      "100%|██████████| 170/170 [00:03<00:00, 46.33it/s]\n"
     ]
    },
    {
     "name": "stdout",
     "output_type": "stream",
     "text": [
      "\n",
      "Train Loss: 2.7369\n",
      "{'loss': 2.7368930246703016, 'loss_avg_val': 0.0019056779940711808, 'loss_bin_logit': 2.7349873322706957}\n",
      "Valid Loss: 2.7491\n",
      "{'loss': 2.7491379148819868, 'loss_avg_val': 0.001821753301192075, 'loss_bin_logit': 2.747316165531383}\n",
      "Update best score : 2.7491379148819868\n",
      "Save model : model.pth\n",
      "\n",
      "epoch  38\n",
      "lr  7.591053768215416e-07\n",
      "lr  7.591053768215416e-07\n",
      "lr  7.591053768215416e-07\n",
      "lr  7.591053768215416e-07\n"
     ]
    },
    {
     "name": "stderr",
     "output_type": "stream",
     "text": [
      "100%|██████████| 169/169 [00:08<00:00, 20.36it/s]\n",
      "100%|██████████| 170/170 [00:03<00:00, 47.22it/s]\n"
     ]
    },
    {
     "name": "stdout",
     "output_type": "stream",
     "text": [
      "\n",
      "Train Loss: 2.7365\n",
      "{'loss': 2.736526356646295, 'loss_avg_val': 0.0018971798267799634, 'loss_bin_logit': 2.734629178188256}\n",
      "Valid Loss: 2.7498\n",
      "{'loss': 2.7497620274038876, 'loss_avg_val': 0.0018147068019435904, 'loss_bin_logit': 2.7479473184136785}\n",
      "Save model : model.pth\n",
      "\n",
      "epoch  39\n",
      "lr  1.9201398641933757e-07\n",
      "lr  1.9201398641933757e-07\n",
      "lr  1.9201398641933757e-07\n",
      "lr  1.9201398641933757e-07\n"
     ]
    },
    {
     "name": "stderr",
     "output_type": "stream",
     "text": [
      "100%|██████████| 169/169 [00:08<00:00, 20.42it/s]\n",
      "100%|██████████| 170/170 [00:03<00:00, 47.25it/s]\n",
      "/home/tatsuya/projects/atmacup/atmacup_18/experiments/main/v00/v00_02_01/utils.py:1038: FutureWarning: You are using `torch.load` with `weights_only=False` (the current default value), which uses the default pickle module implicitly. It is possible to construct malicious pickle data which will execute arbitrary code during unpickling (See https://github.com/pytorch/pytorch/blob/main/SECURITY.md#untrusted-models for more details). In a future release, the default value for `weights_only` will be flipped to `True`. This limits the functions that could be executed during unpickling. Arbitrary objects will no longer be allowed to be loaded via this mode unless they are explicitly allowlisted by the user via `torch.serialization.add_safe_globals`. We recommend you start setting `weights_only=True` for any use case where you don't have full control of the loaded file. Please open an issue on GitHub for any issues related to this experimental feature.\n",
      "  model.load_state_dict(torch.load(model_path))\n"
     ]
    },
    {
     "name": "stdout",
     "output_type": "stream",
     "text": [
      "\n",
      "Train Loss: 2.7360\n",
      "{'loss': 2.7360323307782237, 'loss_avg_val': 0.0018934976218609944, 'loss_bin_logit': 2.7341388315844113}\n",
      "Valid Loss: 2.7493\n",
      "{'loss': 2.749261656929465, 'loss_avg_val': 0.0018215874531854162, 'loss_bin_logit': 2.7474400702644797}\n",
      "Save model : model.pth\n",
      "-----------------\n",
      "-----------------\n",
      "Training fold 1...\n",
      "train samples: 21686, valid samples: 21685\n",
      "Save model : model.pth\n",
      "\n",
      "epoch  0\n",
      "lr  4.000000000000002e-06\n",
      "lr  4.000000000000002e-06\n",
      "lr  4.000000000000002e-06\n",
      "lr  4.000000000000002e-06\n"
     ]
    },
    {
     "name": "stderr",
     "output_type": "stream",
     "text": [
      "100%|██████████| 169/169 [00:09<00:00, 18.60it/s]\n",
      "100%|██████████| 170/170 [00:03<00:00, 46.12it/s]\n"
     ]
    },
    {
     "name": "stdout",
     "output_type": "stream",
     "text": [
      "\n",
      "Train Loss: 4.6451\n",
      "{'loss': 4.645121328929473, 'loss_avg_val': 0.022140829697163147, 'loss_bin_logit': 4.62298050998936}\n",
      "Valid Loss: 4.6311\n",
      "{'loss': 4.631147468791289, 'loss_avg_val': 0.02204887751928147, 'loss_bin_logit': 4.609098580304314}\n",
      "Update best score : 4.631147468791289\n",
      "Save model : model.pth\n",
      "\n",
      "epoch  1\n",
      "lr  1.8098389762600235e-05\n",
      "lr  1.8098389762600235e-05\n",
      "lr  1.8098389762600235e-05\n",
      "lr  1.8098389762600235e-05\n"
     ]
    },
    {
     "name": "stderr",
     "output_type": "stream",
     "text": [
      "100%|██████████| 169/169 [00:08<00:00, 20.52it/s]\n",
      "100%|██████████| 170/170 [00:03<00:00, 47.85it/s]\n"
     ]
    },
    {
     "name": "stdout",
     "output_type": "stream",
     "text": [
      "\n",
      "Train Loss: 4.6108\n",
      "{'loss': 4.610761278479762, 'loss_avg_val': 0.02180775867764061, 'loss_bin_logit': 4.588953517597808}\n",
      "Valid Loss: 4.5797\n",
      "{'loss': 4.579701440474566, 'loss_avg_val': 0.02157523733947207, 'loss_bin_logit': 4.5581262083614575}\n",
      "Update best score : 4.579701440474566\n",
      "Save model : model.pth\n",
      "\n",
      "epoch  2\n",
      "lr  5.211170097130961e-05\n",
      "lr  5.211170097130961e-05\n",
      "lr  5.211170097130961e-05\n",
      "lr  5.211170097130961e-05\n"
     ]
    },
    {
     "name": "stderr",
     "output_type": "stream",
     "text": [
      "100%|██████████| 169/169 [00:08<00:00, 20.75it/s]\n",
      "100%|██████████| 170/170 [00:03<00:00, 47.35it/s]\n"
     ]
    },
    {
     "name": "stdout",
     "output_type": "stream",
     "text": [
      "\n",
      "Train Loss: 4.5131\n",
      "{'loss': 4.513111628018892, 'loss_avg_val': 0.020727090983921607, 'loss_bin_logit': 4.492384529678074}\n",
      "Valid Loss: 4.4221\n",
      "{'loss': 4.422083361008588, 'loss_avg_val': 0.01951499779106063, 'loss_bin_logit': 4.402568371155683}\n",
      "Update best score : 4.422083361008588\n",
      "Save model : model.pth\n",
      "\n",
      "epoch  3\n",
      "lr  8.6059395353753e-05\n",
      "lr  8.6059395353753e-05\n",
      "lr  8.6059395353753e-05\n",
      "lr  8.6059395353753e-05\n"
     ]
    },
    {
     "name": "stderr",
     "output_type": "stream",
     "text": [
      "100%|██████████| 169/169 [00:08<00:00, 20.48it/s]\n",
      "100%|██████████| 170/170 [00:03<00:00, 47.86it/s]\n"
     ]
    },
    {
     "name": "stdout",
     "output_type": "stream",
     "text": [
      "\n",
      "Train Loss: 4.2929\n",
      "{'loss': 4.292919886888131, 'loss_avg_val': 0.01747131872282931, 'loss_bin_logit': 4.275448567768525}\n",
      "Valid Loss: 4.1612\n",
      "{'loss': 4.1611754922305835, 'loss_avg_val': 0.015557529930682743, 'loss_bin_logit': 4.145617961883545}\n",
      "Update best score : 4.1611754922305835\n",
      "Save model : model.pth\n",
      "\n",
      "epoch  4\n",
      "lr  9.999999333432766e-05\n",
      "lr  9.999999333432766e-05\n",
      "lr  9.999999333432766e-05\n",
      "lr  9.999999333432766e-05\n"
     ]
    },
    {
     "name": "stderr",
     "output_type": "stream",
     "text": [
      "100%|██████████| 169/169 [00:08<00:00, 20.73it/s]\n",
      "100%|██████████| 170/170 [00:03<00:00, 49.83it/s]\n"
     ]
    },
    {
     "name": "stdout",
     "output_type": "stream",
     "text": [
      "\n",
      "Train Loss: 4.0390\n",
      "{'loss': 4.0389793285956745, 'loss_avg_val': 0.013948137045303392, 'loss_bin_logit': 4.025031185714451}\n",
      "Valid Loss: 3.9126\n",
      "{'loss': 3.91263647219714, 'loss_avg_val': 0.012461366548257715, 'loss_bin_logit': 3.9001751100315767}\n",
      "Update best score : 3.91263647219714\n",
      "Save model : model.pth\n",
      "\n",
      "epoch  5\n",
      "lr  9.980748573618664e-05\n",
      "lr  9.980748573618664e-05\n",
      "lr  9.980748573618664e-05\n",
      "lr  9.980748573618664e-05\n"
     ]
    },
    {
     "name": "stderr",
     "output_type": "stream",
     "text": [
      "100%|██████████| 169/169 [00:08<00:00, 20.88it/s]\n",
      "100%|██████████| 170/170 [00:03<00:00, 49.00it/s]\n"
     ]
    },
    {
     "name": "stdout",
     "output_type": "stream",
     "text": [
      "\n",
      "Train Loss: 3.8169\n",
      "{'loss': 3.816949411256779, 'loss_avg_val': 0.011301621982067295, 'loss_bin_logit': 3.8056477921954275}\n",
      "Valid Loss: 3.7064\n",
      "{'loss': 3.706407680230982, 'loss_avg_val': 0.009969147711115725, 'loss_bin_logit': 3.696438528509701}\n",
      "Update best score : 3.706407680230982\n",
      "Save model : model.pth\n",
      "\n",
      "epoch  6\n",
      "lr  9.92359283182187e-05\n",
      "lr  9.92359283182187e-05\n",
      "lr  9.92359283182187e-05\n",
      "lr  9.92359283182187e-05\n"
     ]
    },
    {
     "name": "stderr",
     "output_type": "stream",
     "text": [
      "100%|██████████| 169/169 [00:08<00:00, 20.94it/s]\n",
      "100%|██████████| 170/170 [00:03<00:00, 49.34it/s]\n"
     ]
    },
    {
     "name": "stdout",
     "output_type": "stream",
     "text": [
      "\n",
      "Train Loss: 3.6333\n",
      "{'loss': 3.633288205728023, 'loss_avg_val': 0.009324754522176536, 'loss_bin_logit': 3.6239634604143673}\n",
      "Valid Loss: 3.5508\n",
      "{'loss': 3.550762283100801, 'loss_avg_val': 0.008418127373956582, 'loss_bin_logit': 3.5423441578360166}\n",
      "Update best score : 3.550762283100801\n",
      "Save model : model.pth\n",
      "\n",
      "epoch  7\n",
      "lr  9.828967097749041e-05\n",
      "lr  9.828967097749041e-05\n",
      "lr  9.828967097749041e-05\n",
      "lr  9.828967097749041e-05\n"
     ]
    },
    {
     "name": "stderr",
     "output_type": "stream",
     "text": [
      "100%|██████████| 169/169 [00:08<00:00, 21.03it/s]\n",
      "100%|██████████| 170/170 [00:03<00:00, 48.85it/s]\n"
     ]
    },
    {
     "name": "stdout",
     "output_type": "stream",
     "text": [
      "\n",
      "Train Loss: 3.4836\n",
      "{'loss': 3.4835681604915822, 'loss_avg_val': 0.007717317678364952, 'loss_bin_logit': 3.47585085157812}\n",
      "Valid Loss: 3.4175\n",
      "{'loss': 3.417520388434915, 'loss_avg_val': 0.007106115014347083, 'loss_bin_logit': 3.4104142834158506}\n",
      "Update best score : 3.417520388434915\n",
      "Save model : model.pth\n",
      "\n",
      "epoch  8\n",
      "lr  9.69759153037305e-05\n",
      "lr  9.69759153037305e-05\n",
      "lr  9.69759153037305e-05\n",
      "lr  9.69759153037305e-05\n"
     ]
    },
    {
     "name": "stderr",
     "output_type": "stream",
     "text": [
      "100%|██████████| 169/169 [00:08<00:00, 21.05it/s]\n",
      "100%|██████████| 170/170 [00:03<00:00, 48.92it/s]\n"
     ]
    },
    {
     "name": "stdout",
     "output_type": "stream",
     "text": [
      "\n",
      "Train Loss: 3.3641\n",
      "{'loss': 3.364085722251757, 'loss_avg_val': 0.006446570171781722, 'loss_bin_logit': 3.357639158971211}\n",
      "Valid Loss: 3.3235\n",
      "{'loss': 3.323498473447912, 'loss_avg_val': 0.0060519546188194965, 'loss_bin_logit': 3.317446523554185}\n",
      "Update best score : 3.323498473447912\n",
      "Save model : model.pth\n",
      "\n",
      "epoch  9\n",
      "lr  9.530465977088365e-05\n",
      "lr  9.530465977088365e-05\n",
      "lr  9.530465977088365e-05\n",
      "lr  9.530465977088365e-05\n"
     ]
    },
    {
     "name": "stderr",
     "output_type": "stream",
     "text": [
      "100%|██████████| 169/169 [00:08<00:00, 21.09it/s]\n",
      "100%|██████████| 170/170 [00:03<00:00, 48.73it/s]\n"
     ]
    },
    {
     "name": "stdout",
     "output_type": "stream",
     "text": [
      "\n",
      "Train Loss: 3.2668\n",
      "{'loss': 3.26677947495816, 'loss_avg_val': 0.005432441495854915, 'loss_bin_logit': 3.2613470356845293}\n",
      "Valid Loss: 3.2211\n",
      "{'loss': 3.221124302639681, 'loss_avg_val': 0.004806102772572023, 'loss_bin_logit': 3.216318193603964}\n",
      "Update best score : 3.221124302639681\n",
      "Save model : model.pth\n",
      "\n",
      "epoch  10\n",
      "lr  9.32886236426865e-05\n",
      "lr  9.32886236426865e-05\n",
      "lr  9.32886236426865e-05\n",
      "lr  9.32886236426865e-05\n"
     ]
    },
    {
     "name": "stderr",
     "output_type": "stream",
     "text": [
      "100%|██████████| 169/169 [00:08<00:00, 21.07it/s]\n",
      "100%|██████████| 170/170 [00:03<00:00, 49.10it/s]\n"
     ]
    },
    {
     "name": "stdout",
     "output_type": "stream",
     "text": [
      "\n",
      "Train Loss: 3.1919\n",
      "{'loss': 3.1919260899696122, 'loss_avg_val': 0.004687416987196052, 'loss_bin_logit': 3.1872386636113275}\n",
      "Valid Loss: 3.1569\n",
      "{'loss': 3.1569021575591143, 'loss_avg_val': 0.004326275711440865, 'loss_bin_logit': 3.1525758827433865}\n",
      "Update best score : 3.1569021575591143\n",
      "Save model : model.pth\n",
      "\n",
      "epoch  11\n",
      "lr  9.094315017139055e-05\n",
      "lr  9.094315017139055e-05\n",
      "lr  9.094315017139055e-05\n",
      "lr  9.094315017139055e-05\n"
     ]
    },
    {
     "name": "stderr",
     "output_type": "stream",
     "text": [
      "100%|██████████| 169/169 [00:08<00:00, 20.98it/s]\n",
      "100%|██████████| 170/170 [00:03<00:00, 49.23it/s]\n"
     ]
    },
    {
     "name": "stdout",
     "output_type": "stream",
     "text": [
      "\n",
      "Train Loss: 3.1265\n",
      "{'loss': 3.126465853854749, 'loss_avg_val': 0.004062218437268889, 'loss_bin_logit': 3.1224036343704316}\n",
      "Valid Loss: 3.0879\n",
      "{'loss': 3.087888611064238, 'loss_avg_val': 0.003635825527667561, 'loss_bin_logit': 3.084252790843739}\n",
      "Update best score : 3.087888611064238\n",
      "Save model : model.pth\n",
      "\n",
      "epoch  12\n",
      "lr  8.828608982634794e-05\n",
      "lr  8.828608982634794e-05\n",
      "lr  8.828608982634794e-05\n",
      "lr  8.828608982634794e-05\n"
     ]
    },
    {
     "name": "stderr",
     "output_type": "stream",
     "text": [
      "100%|██████████| 169/169 [00:08<00:00, 21.00it/s]\n",
      "100%|██████████| 170/170 [00:03<00:00, 48.99it/s]\n"
     ]
    },
    {
     "name": "stdout",
     "output_type": "stream",
     "text": [
      "\n",
      "Train Loss: 3.0748\n",
      "{'loss': 3.074770776477791, 'loss_avg_val': 0.0035929119120732215, 'loss_bin_logit': 3.071177863510403}\n",
      "Valid Loss: 3.0460\n",
      "{'loss': 3.0459882918526144, 'loss_avg_val': 0.0032619752941707917, 'loss_bin_logit': 3.042726317573996}\n",
      "Update best score : 3.0459882918526144\n",
      "Save model : model.pth\n",
      "\n",
      "epoch  13\n",
      "lr  8.533766444116135e-05\n",
      "lr  8.533766444116135e-05\n",
      "lr  8.533766444116135e-05\n",
      "lr  8.533766444116135e-05\n"
     ]
    },
    {
     "name": "stderr",
     "output_type": "stream",
     "text": [
      "100%|██████████| 169/169 [00:08<00:00, 21.00it/s]\n",
      "100%|██████████| 170/170 [00:03<00:00, 49.05it/s]\n"
     ]
    },
    {
     "name": "stdout",
     "output_type": "stream",
     "text": [
      "\n",
      "Train Loss: 3.0327\n",
      "{'loss': 3.032742436820939, 'loss_avg_val': 0.00323914912854426, 'loss_bin_logit': 3.0295032749514608}\n",
      "Valid Loss: 3.0194\n",
      "{'loss': 3.0194363818449133, 'loss_avg_val': 0.003169980860205696, 'loss_bin_logit': 3.016266406283659}\n",
      "Update best score : 3.0194363818449133\n",
      "Save model : model.pth\n",
      "\n",
      "epoch  14\n",
      "lr  8.212031331331998e-05\n",
      "lr  8.212031331331998e-05\n",
      "lr  8.212031331331998e-05\n",
      "lr  8.212031331331998e-05\n"
     ]
    },
    {
     "name": "stderr",
     "output_type": "stream",
     "text": [
      "100%|██████████| 169/169 [00:08<00:00, 20.95it/s]\n",
      "100%|██████████| 170/170 [00:03<00:00, 49.30it/s]\n"
     ]
    },
    {
     "name": "stdout",
     "output_type": "stream",
     "text": [
      "\n",
      "Train Loss: 2.9940\n",
      "{'loss': 2.99404558486487, 'loss_avg_val': 0.0029338618434590876, 'loss_bin_logit': 2.9911117102267473}\n",
      "Valid Loss: 2.9799\n",
      "{'loss': 2.9798596550436582, 'loss_avg_val': 0.002856305252541514, 'loss_bin_logit': 2.9770033513798433}\n",
      "Update best score : 2.9798596550436582\n",
      "Save model : model.pth\n",
      "\n",
      "epoch  15\n",
      "lr  7.865852242759644e-05\n",
      "lr  7.865852242759644e-05\n",
      "lr  7.865852242759644e-05\n",
      "lr  7.865852242759644e-05\n"
     ]
    },
    {
     "name": "stderr",
     "output_type": "stream",
     "text": [
      "100%|██████████| 169/169 [00:08<00:00, 21.04it/s]\n",
      "100%|██████████| 170/170 [00:03<00:00, 49.21it/s]\n"
     ]
    },
    {
     "name": "stdout",
     "output_type": "stream",
     "text": [
      "\n",
      "Train Loss: 2.9619\n",
      "{'loss': 2.9619272009155453, 'loss_avg_val': 0.002706460770462039, 'loss_bin_logit': 2.9592207451543864}\n",
      "Valid Loss: 2.9476\n",
      "{'loss': 2.947574895970962, 'loss_avg_val': 0.002503899419817197, 'loss_bin_logit': 2.9450710016138415}\n",
      "Update best score : 2.947574895970962\n",
      "Save model : model.pth\n",
      "\n",
      "epoch  16\n",
      "lr  7.497863810291755e-05\n",
      "lr  7.497863810291755e-05\n",
      "lr  7.497863810291755e-05\n",
      "lr  7.497863810291755e-05\n"
     ]
    },
    {
     "name": "stderr",
     "output_type": "stream",
     "text": [
      "100%|██████████| 169/169 [00:08<00:00, 21.03it/s]\n",
      "100%|██████████| 170/170 [00:03<00:00, 49.10it/s]\n"
     ]
    },
    {
     "name": "stdout",
     "output_type": "stream",
     "text": [
      "\n",
      "Train Loss: 2.9349\n",
      "{'loss': 2.9349258975869805, 'loss_avg_val': 0.0025210058056203835, 'loss_bin_logit': 2.9324049004436246}\n",
      "Valid Loss: 2.9253\n",
      "{'loss': 2.92529937099008, 'loss_avg_val': 0.002312131180866238, 'loss_bin_logit': 2.9229872437084423}\n",
      "Update best score : 2.92529937099008\n",
      "Save model : model.pth\n",
      "\n",
      "epoch  17\n",
      "lr  7.110866648096904e-05\n",
      "lr  7.110866648096904e-05\n",
      "lr  7.110866648096904e-05\n",
      "lr  7.110866648096904e-05\n"
     ]
    },
    {
     "name": "stderr",
     "output_type": "stream",
     "text": [
      "100%|██████████| 169/169 [00:08<00:00, 21.04it/s]\n",
      "100%|██████████| 170/170 [00:03<00:00, 49.24it/s]\n"
     ]
    },
    {
     "name": "stdout",
     "output_type": "stream",
     "text": [
      "\n",
      "Train Loss: 2.9118\n",
      "{'loss': 2.9118007682484284, 'loss_avg_val': 0.002370339536559961, 'loss_bin_logit': 2.9094304333071737}\n",
      "Valid Loss: 2.9113\n",
      "{'loss': 2.9113106573329253, 'loss_avg_val': 0.002321427740047083, 'loss_bin_logit': 2.9089892191045426}\n",
      "Update best score : 2.9113106573329253\n",
      "Save model : model.pth\n",
      "\n",
      "epoch  18\n",
      "lr  6.707806038254668e-05\n",
      "lr  6.707806038254668e-05\n",
      "lr  6.707806038254668e-05\n",
      "lr  6.707806038254668e-05\n"
     ]
    },
    {
     "name": "stderr",
     "output_type": "stream",
     "text": [
      "100%|██████████| 169/169 [00:08<00:00, 20.87it/s]\n",
      "100%|██████████| 170/170 [00:03<00:00, 48.89it/s]\n"
     ]
    },
    {
     "name": "stdout",
     "output_type": "stream",
     "text": [
      "\n",
      "Train Loss: 2.8898\n",
      "{'loss': 2.889755404207128, 'loss_avg_val': 0.002237154633087828, 'loss_bin_logit': 2.887518259195181}\n",
      "Valid Loss: 2.8890\n",
      "{'loss': 2.8890065796235027, 'loss_avg_val': 0.0021322940284495846, 'loss_bin_logit': 2.886874291476081}\n",
      "Update best score : 2.8890065796235027\n",
      "Save model : model.pth\n",
      "\n",
      "epoch  19\n",
      "lr  6.291749515380597e-05\n",
      "lr  6.291749515380597e-05\n",
      "lr  6.291749515380597e-05\n",
      "lr  6.291749515380597e-05\n"
     ]
    },
    {
     "name": "stderr",
     "output_type": "stream",
     "text": [
      "100%|██████████| 169/169 [00:08<00:00, 20.92it/s]\n",
      "100%|██████████| 170/170 [00:03<00:00, 48.72it/s]\n"
     ]
    },
    {
     "name": "stdout",
     "output_type": "stream",
     "text": [
      "\n",
      "Train Loss: 2.8695\n",
      "{'loss': 2.8695070235686893, 'loss_avg_val': 0.0021224749066519753, 'loss_bin_logit': 2.867384545196443}\n",
      "Valid Loss: 2.8676\n",
      "{'loss': 2.867609478445614, 'loss_avg_val': 0.002044007839525447, 'loss_bin_logit': 2.865565464075874}\n",
      "Update best score : 2.867609478445614\n",
      "Save model : model.pth\n",
      "\n",
      "epoch  20\n",
      "lr  5.8658635208355614e-05\n",
      "lr  5.8658635208355614e-05\n",
      "lr  5.8658635208355614e-05\n",
      "lr  5.8658635208355614e-05\n"
     ]
    },
    {
     "name": "stderr",
     "output_type": "stream",
     "text": [
      "100%|██████████| 169/169 [00:08<00:00, 20.94it/s]\n",
      "100%|██████████| 170/170 [00:03<00:00, 48.64it/s]\n"
     ]
    },
    {
     "name": "stdout",
     "output_type": "stream",
     "text": [
      "\n",
      "Train Loss: 2.8552\n",
      "{'loss': 2.8552096510779927, 'loss_avg_val': 0.0020499400878545536, 'loss_bin_logit': 2.8531597154380304}\n",
      "Valid Loss: 2.8574\n",
      "{'loss': 2.857376250098733, 'loss_avg_val': 0.0019341977409032339, 'loss_bin_logit': 2.855442054131452}\n",
      "Update best score : 2.857376250098733\n",
      "Save model : model.pth\n",
      "\n",
      "epoch  21\n",
      "lr  5.433389304195041e-05\n",
      "lr  5.433389304195041e-05\n",
      "lr  5.433389304195041e-05\n",
      "lr  5.433389304195041e-05\n"
     ]
    },
    {
     "name": "stderr",
     "output_type": "stream",
     "text": [
      "100%|██████████| 169/169 [00:08<00:00, 20.91it/s]\n",
      "100%|██████████| 170/170 [00:03<00:00, 48.71it/s]\n"
     ]
    },
    {
     "name": "stdout",
     "output_type": "stream",
     "text": [
      "\n",
      "Train Loss: 2.8403\n",
      "{'loss': 2.8402622042323005, 'loss_avg_val': 0.0019729005196269535, 'loss_bin_logit': 2.8382892933117567}\n",
      "Valid Loss: 2.8415\n",
      "{'loss': 2.841528801357045, 'loss_avg_val': 0.0019027891787974274, 'loss_bin_logit': 2.8396260163363287}\n",
      "Update best score : 2.841528801357045\n",
      "Save model : model.pth\n",
      "\n",
      "epoch  22\n",
      "lr  4.9976182553827446e-05\n",
      "lr  4.9976182553827446e-05\n",
      "lr  4.9976182553827446e-05\n",
      "lr  4.9976182553827446e-05\n"
     ]
    },
    {
     "name": "stderr",
     "output_type": "stream",
     "text": [
      "100%|██████████| 169/169 [00:08<00:00, 20.96it/s]\n",
      "100%|██████████| 170/170 [00:03<00:00, 48.85it/s]\n"
     ]
    },
    {
     "name": "stdout",
     "output_type": "stream",
     "text": [
      "\n",
      "Train Loss: 2.8268\n",
      "{'loss': 2.826753892842129, 'loss_avg_val': 0.0019090271550754206, 'loss_bin_logit': 2.8248448639931762}\n",
      "Valid Loss: 2.8320\n",
      "{'loss': 2.831985110395095, 'loss_avg_val': 0.001818525219021146, 'loss_bin_logit': 2.830166585305158}\n",
      "Update best score : 2.831985110395095\n",
      "Save model : model.pth\n",
      "\n",
      "epoch  23\n",
      "lr  4.5618668552058836e-05\n",
      "lr  4.5618668552058836e-05\n",
      "lr  4.5618668552058836e-05\n",
      "lr  4.5618668552058836e-05\n"
     ]
    },
    {
     "name": "stderr",
     "output_type": "stream",
     "text": [
      "100%|██████████| 169/169 [00:08<00:00, 20.96it/s]\n",
      "100%|██████████| 170/170 [00:03<00:00, 49.05it/s]\n"
     ]
    },
    {
     "name": "stdout",
     "output_type": "stream",
     "text": [
      "\n",
      "Train Loss: 2.8171\n",
      "{'loss': 2.8170780091596073, 'loss_avg_val': 0.0018675070767120057, 'loss_bin_logit': 2.815210497590917}\n",
      "Valid Loss: 2.8207\n",
      "{'loss': 2.820656120075899, 'loss_avg_val': 0.0017779667344738675, 'loss_bin_logit': 2.8188781527911915}\n",
      "Update best score : 2.820656120075899\n",
      "Save model : model.pth\n",
      "\n",
      "epoch  24\n",
      "lr  4.1294514349336954e-05\n",
      "lr  4.1294514349336954e-05\n",
      "lr  4.1294514349336954e-05\n",
      "lr  4.1294514349336954e-05\n"
     ]
    },
    {
     "name": "stderr",
     "output_type": "stream",
     "text": [
      "100%|██████████| 169/169 [00:08<00:00, 20.90it/s]\n",
      "100%|██████████| 170/170 [00:03<00:00, 48.70it/s]\n"
     ]
    },
    {
     "name": "stdout",
     "output_type": "stream",
     "text": [
      "\n",
      "Train Loss: 2.8070\n",
      "{'loss': 2.8070216319970127, 'loss_avg_val': 0.0018246871937264704, 'loss_bin_logit': 2.805196935608542}\n",
      "Valid Loss: 2.8161\n",
      "{'loss': 2.81607666015625, 'loss_avg_val': 0.0017772794321097214, 'loss_bin_logit': 2.814299385687884}\n",
      "Update best score : 2.81607666015625\n",
      "Save model : model.pth\n",
      "\n",
      "epoch  25\n",
      "lr  3.7036629370140214e-05\n",
      "lr  3.7036629370140214e-05\n",
      "lr  3.7036629370140214e-05\n",
      "lr  3.7036629370140214e-05\n"
     ]
    },
    {
     "name": "stderr",
     "output_type": "stream",
     "text": [
      "100%|██████████| 169/169 [00:08<00:00, 20.91it/s]\n",
      "100%|██████████| 170/170 [00:03<00:00, 49.20it/s]\n"
     ]
    },
    {
     "name": "stdout",
     "output_type": "stream",
     "text": [
      "\n",
      "Train Loss: 2.7974\n",
      "{'loss': 2.7974046475788543, 'loss_avg_val': 0.0017872832966252016, 'loss_bin_logit': 2.795617368799695}\n",
      "Valid Loss: 2.8092\n",
      "{'loss': 2.8091697089812335, 'loss_avg_val': 0.0017535278919454226, 'loss_bin_logit': 2.807416179600884}\n",
      "Update best score : 2.8091697089812335\n",
      "Save model : model.pth\n",
      "\n",
      "epoch  26\n",
      "lr  3.287741869014153e-05\n",
      "lr  3.287741869014153e-05\n",
      "lr  3.287741869014153e-05\n",
      "lr  3.287741869014153e-05\n"
     ]
    },
    {
     "name": "stderr",
     "output_type": "stream",
     "text": [
      "100%|██████████| 169/169 [00:08<00:00, 21.01it/s]\n",
      "100%|██████████| 170/170 [00:03<00:00, 48.96it/s]\n"
     ]
    },
    {
     "name": "stdout",
     "output_type": "stream",
     "text": [
      "\n",
      "Train Loss: 2.7912\n",
      "{'loss': 2.7912301198970635, 'loss_avg_val': 0.0017626970474602733, 'loss_bin_logit': 2.789467425036007}\n",
      "Valid Loss: 2.8021\n",
      "{'loss': 2.8020706920062795, 'loss_avg_val': 0.0016980129304369363, 'loss_bin_logit': 2.800372680495767}\n",
      "Update best score : 2.8020706920062795\n",
      "Save model : model.pth\n",
      "\n",
      "epoch  27\n",
      "lr  2.8848536414015768e-05\n",
      "lr  2.8848536414015768e-05\n",
      "lr  2.8848536414015768e-05\n",
      "lr  2.8848536414015768e-05\n"
     ]
    },
    {
     "name": "stderr",
     "output_type": "stream",
     "text": [
      "100%|██████████| 169/169 [00:08<00:00, 20.97it/s]\n",
      "100%|██████████| 170/170 [00:03<00:00, 49.07it/s]\n"
     ]
    },
    {
     "name": "stdout",
     "output_type": "stream",
     "text": [
      "\n",
      "Train Loss: 2.7845\n",
      "{'loss': 2.7845108791215885, 'loss_avg_val': 0.0017419913818111875, 'loss_bin_logit': 2.782768894229415}\n",
      "Valid Loss: 2.7962\n",
      "{'loss': 2.796153444402358, 'loss_avg_val': 0.0017123103751253118, 'loss_bin_logit': 2.7944411347894107}\n",
      "Update best score : 2.796153444402358\n",
      "Save model : model.pth\n",
      "\n",
      "epoch  28\n",
      "lr  2.4980644768589897e-05\n",
      "lr  2.4980644768589897e-05\n",
      "lr  2.4980644768589897e-05\n",
      "lr  2.4980644768589897e-05\n"
     ]
    },
    {
     "name": "stderr",
     "output_type": "stream",
     "text": [
      "100%|██████████| 169/169 [00:08<00:00, 20.89it/s]\n",
      "100%|██████████| 170/170 [00:03<00:00, 48.47it/s]\n"
     ]
    },
    {
     "name": "stdout",
     "output_type": "stream",
     "text": [
      "\n",
      "Train Loss: 2.7785\n",
      "{'loss': 2.7785361998179963, 'loss_avg_val': 0.0017224588970785972, 'loss_bin_logit': 2.7768137440878964}\n",
      "Valid Loss: 2.7914\n",
      "{'loss': 2.79137482362635, 'loss_avg_val': 0.0016777550972833792, 'loss_bin_logit': 2.7896970720852123}\n",
      "Update best score : 2.79137482362635\n",
      "Save model : model.pth\n",
      "\n",
      "epoch  29\n",
      "lr  2.1303180744782415e-05\n",
      "lr  2.1303180744782415e-05\n",
      "lr  2.1303180744782415e-05\n",
      "lr  2.1303180744782415e-05\n"
     ]
    },
    {
     "name": "stderr",
     "output_type": "stream",
     "text": [
      "100%|██████████| 169/169 [00:08<00:00, 20.94it/s]\n",
      "100%|██████████| 170/170 [00:03<00:00, 48.86it/s]\n"
     ]
    },
    {
     "name": "stdout",
     "output_type": "stream",
     "text": [
      "\n",
      "Train Loss: 2.7749\n",
      "{'loss': 2.7749264607062707, 'loss_avg_val': 0.0017067255774656166, 'loss_bin_logit': 2.7732197264947835}\n",
      "Valid Loss: 2.7883\n",
      "{'loss': 2.788282914722667, 'loss_avg_val': 0.0016630458279156728, 'loss_bin_logit': 2.7866198778152467}\n",
      "Update best score : 2.788282914722667\n",
      "Save model : model.pth\n",
      "\n",
      "epoch  30\n",
      "lr  1.784413206432799e-05\n",
      "lr  1.784413206432799e-05\n",
      "lr  1.784413206432799e-05\n",
      "lr  1.784413206432799e-05\n"
     ]
    },
    {
     "name": "stderr",
     "output_type": "stream",
     "text": [
      "100%|██████████| 169/169 [00:08<00:00, 21.07it/s]\n",
      "100%|██████████| 170/170 [00:03<00:00, 48.77it/s]\n"
     ]
    },
    {
     "name": "stdout",
     "output_type": "stream",
     "text": [
      "\n",
      "Train Loss: 2.7700\n",
      "{'loss': 2.7699536896316257, 'loss_avg_val': 0.0017001905999306215, 'loss_bin_logit': 2.7682534942965535}\n",
      "Valid Loss: 2.7849\n",
      "{'loss': 2.7849396298913396, 'loss_avg_val': 0.0016479739169453216, 'loss_bin_logit': 2.783291665245505}\n",
      "Update best score : 2.7849396298913396\n",
      "Save model : model.pth\n",
      "\n",
      "epoch  31\n",
      "lr  1.4629824176315567e-05\n",
      "lr  1.4629824176315567e-05\n",
      "lr  1.4629824176315567e-05\n",
      "lr  1.4629824176315567e-05\n"
     ]
    },
    {
     "name": "stderr",
     "output_type": "stream",
     "text": [
      "100%|██████████| 169/169 [00:08<00:00, 21.00it/s]\n",
      "100%|██████████| 170/170 [00:03<00:00, 48.83it/s]\n"
     ]
    },
    {
     "name": "stdout",
     "output_type": "stream",
     "text": [
      "\n",
      "Train Loss: 2.7671\n",
      "{'loss': 2.7670827349262126, 'loss_avg_val': 0.0016861099866218865, 'loss_bin_logit': 2.7653966260379588}\n",
      "Valid Loss: 2.7826\n",
      "{'loss': 2.782623591142542, 'loss_avg_val': 0.001633503712261753, 'loss_bin_logit': 2.780990084479837}\n",
      "Update best score : 2.782623591142542\n",
      "Save model : model.pth\n",
      "\n",
      "epoch  32\n",
      "lr  1.1684719904625122e-05\n",
      "lr  1.1684719904625122e-05\n",
      "lr  1.1684719904625122e-05\n",
      "lr  1.1684719904625122e-05\n"
     ]
    },
    {
     "name": "stderr",
     "output_type": "stream",
     "text": [
      "100%|██████████| 169/169 [00:08<00:00, 20.93it/s]\n",
      "100%|██████████| 170/170 [00:03<00:00, 48.70it/s]\n"
     ]
    },
    {
     "name": "stdout",
     "output_type": "stream",
     "text": [
      "\n",
      "Train Loss: 2.7651\n",
      "{'loss': 2.765115579909827, 'loss_avg_val': 0.0016845399462177071, 'loss_bin_logit': 2.7634310468414127}\n",
      "Valid Loss: 2.7819\n",
      "{'loss': 2.7819124824860517, 'loss_avg_val': 0.0016677802206044468, 'loss_bin_logit': 2.780244698243983}\n",
      "Update best score : 2.7819124824860517\n",
      "Save model : model.pth\n",
      "\n",
      "epoch  33\n",
      "lr  9.03123327106677e-06\n",
      "lr  9.03123327106677e-06\n",
      "lr  9.03123327106677e-06\n",
      "lr  9.03123327106677e-06\n"
     ]
    },
    {
     "name": "stderr",
     "output_type": "stream",
     "text": [
      "100%|██████████| 169/169 [00:08<00:00, 20.94it/s]\n",
      "100%|██████████| 170/170 [00:03<00:00, 48.70it/s]\n"
     ]
    },
    {
     "name": "stdout",
     "output_type": "stream",
     "text": [
      "\n",
      "Train Loss: 2.7626\n",
      "{'loss': 2.7625933116709693, 'loss_avg_val': 0.0016793435805934596, 'loss_bin_logit': 2.760913968791623}\n",
      "Valid Loss: 2.7808\n",
      "{'loss': 2.780815327868742, 'loss_avg_val': 0.001620978454935967, 'loss_bin_logit': 2.779194346596213}\n",
      "Update best score : 2.780815327868742\n",
      "Save model : model.pth\n",
      "\n",
      "epoch  34\n",
      "lr  6.6895589111409285e-06\n",
      "lr  6.6895589111409285e-06\n",
      "lr  6.6895589111409285e-06\n",
      "lr  6.6895589111409285e-06\n"
     ]
    },
    {
     "name": "stderr",
     "output_type": "stream",
     "text": [
      "100%|██████████| 169/169 [00:08<00:00, 20.91it/s]\n",
      "100%|██████████| 170/170 [00:03<00:00, 49.04it/s]\n"
     ]
    },
    {
     "name": "stdout",
     "output_type": "stream",
     "text": [
      "\n",
      "Train Loss: 2.7611\n",
      "{'loss': 2.7611242793720856, 'loss_avg_val': 0.0016823407013200709, 'loss_bin_logit': 2.7594419414475118}\n",
      "Valid Loss: 2.7801\n",
      "{'loss': 2.7801034198087806, 'loss_avg_val': 0.0016536575070965815, 'loss_bin_logit': 2.7784497639712167}\n",
      "Update best score : 2.7801034198087806\n",
      "Save model : model.pth\n",
      "\n",
      "epoch  35\n",
      "lr  4.67751838066829e-06\n",
      "lr  4.67751838066829e-06\n",
      "lr  4.67751838066829e-06\n",
      "lr  4.67751838066829e-06\n"
     ]
    },
    {
     "name": "stderr",
     "output_type": "stream",
     "text": [
      "100%|██████████| 169/169 [00:08<00:00, 21.03it/s]\n",
      "100%|██████████| 170/170 [00:03<00:00, 48.69it/s]\n"
     ]
    },
    {
     "name": "stdout",
     "output_type": "stream",
     "text": [
      "\n",
      "Train Loss: 2.7607\n",
      "{'loss': 2.7606812045419002, 'loss_avg_val': 0.0016765147240931642, 'loss_bin_logit': 2.7590046916487654}\n",
      "Valid Loss: 2.7783\n",
      "{'loss': 2.778270690581378, 'loss_avg_val': 0.0016193481545676203, 'loss_bin_logit': 2.776651345982271}\n",
      "Update best score : 2.778270690581378\n",
      "Save model : model.pth\n",
      "\n",
      "epoch  36\n",
      "lr  3.0104245229890217e-06\n",
      "lr  3.0104245229890217e-06\n",
      "lr  3.0104245229890217e-06\n",
      "lr  3.0104245229890217e-06\n"
     ]
    },
    {
     "name": "stderr",
     "output_type": "stream",
     "text": [
      "100%|██████████| 169/169 [00:08<00:00, 21.00it/s]\n",
      "100%|██████████| 170/170 [00:03<00:00, 48.82it/s]\n"
     ]
    },
    {
     "name": "stdout",
     "output_type": "stream",
     "text": [
      "\n",
      "Train Loss: 2.7595\n",
      "{'loss': 2.7594894629258375, 'loss_avg_val': 0.0016689315450669833, 'loss_bin_logit': 2.7578205342828874}\n",
      "Valid Loss: 2.7791\n",
      "{'loss': 2.779061870013966, 'loss_avg_val': 0.001636023776304415, 'loss_bin_logit': 2.7774258417241713}\n",
      "Save model : model.pth\n",
      "\n",
      "epoch  37\n",
      "lr  1.7009649289788598e-06\n",
      "lr  1.7009649289788598e-06\n",
      "lr  1.7009649289788598e-06\n",
      "lr  1.7009649289788598e-06\n"
     ]
    },
    {
     "name": "stderr",
     "output_type": "stream",
     "text": [
      "100%|██████████| 169/169 [00:08<00:00, 21.08it/s]\n",
      "100%|██████████| 170/170 [00:03<00:00, 48.83it/s]\n"
     ]
    },
    {
     "name": "stdout",
     "output_type": "stream",
     "text": [
      "\n",
      "Train Loss: 2.7589\n",
      "{'loss': 2.758918774903879, 'loss_avg_val': 0.0016682447304883035, 'loss_bin_logit': 2.7572505248368846}\n",
      "Valid Loss: 2.7773\n",
      "{'loss': 2.7773475815268123, 'loss_avg_val': 0.0016386375296860932, 'loss_bin_logit': 2.7757089460597317}\n",
      "Update best score : 2.7773475815268123\n",
      "Save model : model.pth\n",
      "\n",
      "epoch  38\n",
      "lr  7.591053768215416e-07\n",
      "lr  7.591053768215416e-07\n",
      "lr  7.591053768215416e-07\n",
      "lr  7.591053768215416e-07\n"
     ]
    },
    {
     "name": "stderr",
     "output_type": "stream",
     "text": [
      "100%|██████████| 169/169 [00:08<00:00, 21.01it/s]\n",
      "100%|██████████| 170/170 [00:03<00:00, 48.82it/s]\n"
     ]
    },
    {
     "name": "stdout",
     "output_type": "stream",
     "text": [
      "\n",
      "Train Loss: 2.7593\n",
      "{'loss': 2.759295347879624, 'loss_avg_val': 0.0016726074621808776, 'loss_bin_logit': 2.7576227371509257}\n",
      "Valid Loss: 2.7777\n",
      "{'loss': 2.7776628311942604, 'loss_avg_val': 0.0016289651147363817, 'loss_bin_logit': 2.7760338572894825}\n",
      "Save model : model.pth\n",
      "\n",
      "epoch  39\n",
      "lr  1.9201398641933757e-07\n",
      "lr  1.9201398641933757e-07\n",
      "lr  1.9201398641933757e-07\n",
      "lr  1.9201398641933757e-07\n"
     ]
    },
    {
     "name": "stderr",
     "output_type": "stream",
     "text": [
      "100%|██████████| 169/169 [00:08<00:00, 20.91it/s]\n",
      "100%|██████████| 170/170 [00:03<00:00, 48.80it/s]\n",
      "/home/tatsuya/projects/atmacup/atmacup_18/experiments/main/v00/v00_02_01/utils.py:1038: FutureWarning: You are using `torch.load` with `weights_only=False` (the current default value), which uses the default pickle module implicitly. It is possible to construct malicious pickle data which will execute arbitrary code during unpickling (See https://github.com/pytorch/pytorch/blob/main/SECURITY.md#untrusted-models for more details). In a future release, the default value for `weights_only` will be flipped to `True`. This limits the functions that could be executed during unpickling. Arbitrary objects will no longer be allowed to be loaded via this mode unless they are explicitly allowlisted by the user via `torch.serialization.add_safe_globals`. We recommend you start setting `weights_only=True` for any use case where you don't have full control of the loaded file. Please open an issue on GitHub for any issues related to this experimental feature.\n",
      "  model.load_state_dict(torch.load(model_path))\n"
     ]
    },
    {
     "name": "stdout",
     "output_type": "stream",
     "text": [
      "\n",
      "Train Loss: 2.7581\n",
      "{'loss': 2.7580927927818526, 'loss_avg_val': 0.0016660198318557097, 'loss_bin_logit': 2.7564267632523936}\n",
      "Valid Loss: 2.7772\n",
      "{'loss': 2.7772338404374963, 'loss_avg_val': 0.001637308019802303, 'loss_bin_logit': 2.775596533102148}\n",
      "Update best score : 2.7772338404374963\n",
      "Save model : model.pth\n"
     ]
    }
   ],
   "source": [
    "models, oof_preds = utils.train(\n",
    "    model_params=model_params,\n",
    "    fit_params=fit_params,\n",
    "    df=tr_df,\n",
    "    images=tr_images,\n",
    "    target_cols=target.columns,\n",
    "    feature_cols=feature.columns,\n",
    "    group_col=\"scene_id\",\n",
    "    n_splits=N_SPLITS,\n",
    ")"
   ]
  },
  {
   "cell_type": "code",
   "execution_count": 13,
   "metadata": {},
   "outputs": [
    {
     "data": {
      "text/html": [
       "<div><style>\n",
       ".dataframe > thead > tr,\n",
       ".dataframe > tbody > tr {\n",
       "  text-align: right;\n",
       "  white-space: pre-wrap;\n",
       "}\n",
       "</style>\n",
       "<small>shape: (43_371, 82)</small><table border=\"1\" class=\"dataframe\"><thead><tr><th>ID</th><th>vEgo</th><th>aEgo</th><th>steeringAngleDeg</th><th>steeringTorque</th><th>brake</th><th>brakePressed</th><th>gas</th><th>gasPressed</th><th>gearShifter</th><th>leftBlinker</th><th>rightBlinker</th><th>x_0</th><th>y_0</th><th>z_0</th><th>x_1</th><th>y_1</th><th>z_1</th><th>x_2</th><th>y_2</th><th>z_2</th><th>x_3</th><th>y_3</th><th>z_3</th><th>x_4</th><th>y_4</th><th>z_4</th><th>x_5</th><th>y_5</th><th>z_5</th><th>scene_id</th><th>scene_dsec</th><th>tg_cood_x_0</th><th>tg_cood_y_0</th><th>tg_cood_z_0</th><th>tg_cood_x_1</th><th>tg_cood_y_1</th><th>&hellip;</th><th>tg_cood_y_4</th><th>tg_cood_z_4</th><th>tg_cood_x_5</th><th>tg_cood_y_5</th><th>tg_cood_z_5</th><th>ft_vEgo</th><th>ft_aEgo</th><th>ft_steeringAngleDeg</th><th>ft_steeringTorque</th><th>ft_brake</th><th>ft_brakePressed</th><th>ft_gas</th><th>ft_gasPressed</th><th>ft_is_gearShifter_drive</th><th>ft_is_gearShifter_neutral</th><th>ft_is_gearShifter_park</th><th>ft_is_gearShifter_reverse</th><th>ft_leftBlinker</th><th>ft_rightBlinker</th><th>pred_tg_cood_x_0</th><th>pred_tg_cood_y_0</th><th>pred_tg_cood_z_0</th><th>pred_tg_cood_x_1</th><th>pred_tg_cood_y_1</th><th>pred_tg_cood_z_1</th><th>pred_tg_cood_x_2</th><th>pred_tg_cood_y_2</th><th>pred_tg_cood_z_2</th><th>pred_tg_cood_x_3</th><th>pred_tg_cood_y_3</th><th>pred_tg_cood_z_3</th><th>pred_tg_cood_x_4</th><th>pred_tg_cood_y_4</th><th>pred_tg_cood_z_4</th><th>pred_tg_cood_x_5</th><th>pred_tg_cood_y_5</th><th>pred_tg_cood_z_5</th></tr><tr><td>str</td><td>f64</td><td>f64</td><td>f64</td><td>f64</td><td>f64</td><td>bool</td><td>f64</td><td>bool</td><td>str</td><td>bool</td><td>bool</td><td>f64</td><td>f64</td><td>f64</td><td>f64</td><td>f64</td><td>f64</td><td>f64</td><td>f64</td><td>f64</td><td>f64</td><td>f64</td><td>f64</td><td>f64</td><td>f64</td><td>f64</td><td>f64</td><td>f64</td><td>f64</td><td>str</td><td>str</td><td>f64</td><td>f64</td><td>f64</td><td>f64</td><td>f64</td><td>&hellip;</td><td>f64</td><td>f64</td><td>f64</td><td>f64</td><td>f64</td><td>f64</td><td>f64</td><td>f64</td><td>f64</td><td>f64</td><td>f64</td><td>f64</td><td>f64</td><td>f64</td><td>f64</td><td>f64</td><td>f64</td><td>f64</td><td>f64</td><td>f64</td><td>f64</td><td>f64</td><td>f64</td><td>f64</td><td>f64</td><td>f64</td><td>f64</td><td>f64</td><td>f64</td><td>f64</td><td>f64</td><td>f64</td><td>f64</td><td>f64</td><td>f64</td><td>f64</td><td>f64</td></tr></thead><tbody><tr><td>&quot;00066be8e20318869c38c66be46663…</td><td>5.701526</td><td>1.538456</td><td>-2.165777</td><td>-139.0</td><td>0.0</td><td>false</td><td>0.25</td><td>true</td><td>&quot;drive&quot;</td><td>false</td><td>false</td><td>2.82959</td><td>0.032226</td><td>0.045187</td><td>6.231999</td><td>0.065895</td><td>0.107974</td><td>9.785009</td><td>0.124972</td><td>0.203649</td><td>13.485472</td><td>0.163448</td><td>0.302818</td><td>17.574227</td><td>0.174289</td><td>0.406331</td><td>21.951269</td><td>0.199503</td><td>0.485079</td><td>&quot;00066be8e20318869c38c66be46663…</td><td>&quot;320&quot;</td><td>2.82959</td><td>0.032226</td><td>0.045187</td><td>6.231999</td><td>0.065895</td><td>&hellip;</td><td>0.174289</td><td>0.406331</td><td>21.951269</td><td>0.199503</td><td>0.485079</td><td>5.701526</td><td>1.538456</td><td>-2.165777</td><td>-139.0</td><td>0.0</td><td>0.0</td><td>0.25</td><td>1.0</td><td>1.0</td><td>0.0</td><td>0.0</td><td>0.0</td><td>0.0</td><td>0.0</td><td>2.85086</td><td>0.017724</td><td>0.00768</td><td>6.049201</td><td>0.024417</td><td>0.010691</td><td>9.273989</td><td>0.026654</td><td>0.013285</td><td>12.372675</td><td>0.03363</td><td>0.019159</td><td>15.411877</td><td>0.063747</td><td>0.021029</td><td>18.648168</td><td>0.061712</td><td>0.015639</td></tr><tr><td>&quot;00066be8e20318869c38c66be46663…</td><td>11.176292</td><td>0.279881</td><td>-11.625697</td><td>-44.0</td><td>0.0</td><td>false</td><td>0.0</td><td>false</td><td>&quot;drive&quot;</td><td>false</td><td>true</td><td>4.970268</td><td>-0.007936</td><td>0.005028</td><td>10.350489</td><td>-0.032374</td><td>-0.020701</td><td>15.770054</td><td>0.084073</td><td>0.008645</td><td>21.132415</td><td>0.391343</td><td>0.036335</td><td>26.316489</td><td>0.843124</td><td>0.065</td><td>31.383814</td><td>1.42507</td><td>0.073083</td><td>&quot;00066be8e20318869c38c66be46663…</td><td>&quot;420&quot;</td><td>4.970268</td><td>-0.007936</td><td>0.005028</td><td>10.350489</td><td>-0.032374</td><td>&hellip;</td><td>0.843124</td><td>0.065</td><td>31.383814</td><td>1.42507</td><td>0.073083</td><td>11.176292</td><td>0.279881</td><td>-11.625697</td><td>-44.0</td><td>0.0</td><td>0.0</td><td>0.0</td><td>0.0</td><td>1.0</td><td>0.0</td><td>0.0</td><td>0.0</td><td>0.0</td><td>1.0</td><td>4.998714</td><td>0.035857</td><td>0.011583</td><td>10.551334</td><td>-0.008721</td><td>0.015574</td><td>16.170076</td><td>0.03251</td><td>0.032674</td><td>21.593087</td><td>0.037149</td><td>0.042324</td><td>27.125748</td><td>0.072369</td><td>0.071682</td><td>32.479545</td><td>0.066198</td><td>0.055206</td></tr><tr><td>&quot;00066be8e20318869c38c66be46663…</td><td>10.472548</td><td>0.231099</td><td>-2.985105</td><td>-132.0</td><td>0.0</td><td>false</td><td>0.18</td><td>true</td><td>&quot;drive&quot;</td><td>false</td><td>false</td><td>4.815701</td><td>-0.000813</td><td>0.017577</td><td>10.153522</td><td>-0.0278</td><td>0.026165</td><td>15.446539</td><td>-0.155987</td><td>0.040397</td><td>20.61816</td><td>-0.356932</td><td>0.058765</td><td>25.677387</td><td>-0.576985</td><td>0.102859</td><td>30.460033</td><td>-0.841894</td><td>0.152889</td><td>&quot;00066be8e20318869c38c66be46663…</td><td>&quot;520&quot;</td><td>4.815701</td><td>-0.000813</td><td>0.017577</td><td>10.153522</td><td>-0.0278</td><td>&hellip;</td><td>-0.576985</td><td>0.102859</td><td>30.460033</td><td>-0.841894</td><td>0.152889</td><td>10.472548</td><td>0.231099</td><td>-2.985105</td><td>-132.0</td><td>0.0</td><td>0.0</td><td>0.18</td><td>1.0</td><td>1.0</td><td>0.0</td><td>0.0</td><td>0.0</td><td>0.0</td><td>0.0</td><td>4.703925</td><td>0.024198</td><td>0.005466</td><td>9.972994</td><td>-0.003385</td><td>0.003814</td><td>15.137981</td><td>0.020548</td><td>0.019255</td><td>20.290086</td><td>0.007746</td><td>0.035843</td><td>25.499829</td><td>0.032297</td><td>0.045095</td><td>30.489413</td><td>0.052735</td><td>0.029507</td></tr><tr><td>&quot;000fb056f97572d384bae4f5fc1e0f…</td><td>6.055565</td><td>-0.117775</td><td>7.632668</td><td>173.0</td><td>0.0</td><td>false</td><td>0.0</td><td>false</td><td>&quot;drive&quot;</td><td>false</td><td>false</td><td>2.812608</td><td>0.033731</td><td>0.0059</td><td>5.975378</td><td>0.137848</td><td>0.01621</td><td>9.186793</td><td>0.322997</td><td>0.031626</td><td>12.37311</td><td>0.603145</td><td>0.031858</td><td>15.703514</td><td>0.960717</td><td>0.043479</td><td>19.311182</td><td>1.374655</td><td>0.058754</td><td>&quot;000fb056f97572d384bae4f5fc1e0f…</td><td>&quot;120&quot;</td><td>2.812608</td><td>0.033731</td><td>0.0059</td><td>5.975378</td><td>0.137848</td><td>&hellip;</td><td>0.960717</td><td>0.043479</td><td>19.311182</td><td>1.374655</td><td>0.058754</td><td>6.055565</td><td>-0.117775</td><td>7.632668</td><td>173.0</td><td>0.0</td><td>0.0</td><td>0.0</td><td>0.0</td><td>1.0</td><td>0.0</td><td>0.0</td><td>0.0</td><td>0.0</td><td>0.0</td><td>2.671835</td><td>0.030199</td><td>0.010633</td><td>5.66576</td><td>0.016674</td><td>0.012816</td><td>8.642833</td><td>0.021399</td><td>0.031835</td><td>11.625781</td><td>0.045357</td><td>0.033088</td><td>14.439492</td><td>0.076612</td><td>0.045857</td><td>17.546739</td><td>0.069439</td><td>0.025323</td></tr><tr><td>&quot;000fb056f97572d384bae4f5fc1e0f…</td><td>3.316744</td><td>1.276733</td><td>-31.725477</td><td>-114.0</td><td>0.0</td><td>false</td><td>0.255</td><td>true</td><td>&quot;drive&quot;</td><td>false</td><td>false</td><td>1.55186</td><td>-0.041849</td><td>-0.008847</td><td>3.675162</td><td>-0.125189</td><td>-0.013725</td><td>6.113567</td><td>-0.239161</td><td>-0.012887</td><td>8.770783</td><td>-0.381813</td><td>-0.003898</td><td>11.619313</td><td>-0.554488</td><td>0.011393</td><td>14.657048</td><td>-0.7788</td><td>0.044243</td><td>&quot;000fb056f97572d384bae4f5fc1e0f…</td><td>&quot;20&quot;</td><td>1.55186</td><td>-0.041849</td><td>-0.008847</td><td>3.675162</td><td>-0.125189</td><td>&hellip;</td><td>-0.554488</td><td>0.011393</td><td>14.657048</td><td>-0.7788</td><td>0.044243</td><td>3.316744</td><td>1.276733</td><td>-31.725477</td><td>-114.0</td><td>0.0</td><td>0.0</td><td>0.255</td><td>1.0</td><td>1.0</td><td>0.0</td><td>0.0</td><td>0.0</td><td>0.0</td><td>0.0</td><td>1.933668</td><td>0.007053</td><td>0.005303</td><td>4.041576</td><td>-0.00987</td><td>0.003746</td><td>6.121455</td><td>-0.024054</td><td>0.023698</td><td>8.352319</td><td>-0.011704</td><td>0.017438</td><td>10.292332</td><td>0.000245</td><td>0.034025</td><td>12.467851</td><td>-0.059325</td><td>0.024915</td></tr><tr><td>&hellip;</td><td>&hellip;</td><td>&hellip;</td><td>&hellip;</td><td>&hellip;</td><td>&hellip;</td><td>&hellip;</td><td>&hellip;</td><td>&hellip;</td><td>&hellip;</td><td>&hellip;</td><td>&hellip;</td><td>&hellip;</td><td>&hellip;</td><td>&hellip;</td><td>&hellip;</td><td>&hellip;</td><td>&hellip;</td><td>&hellip;</td><td>&hellip;</td><td>&hellip;</td><td>&hellip;</td><td>&hellip;</td><td>&hellip;</td><td>&hellip;</td><td>&hellip;</td><td>&hellip;</td><td>&hellip;</td><td>&hellip;</td><td>&hellip;</td><td>&hellip;</td><td>&hellip;</td><td>&hellip;</td><td>&hellip;</td><td>&hellip;</td><td>&hellip;</td><td>&hellip;</td><td>&hellip;</td><td>&hellip;</td><td>&hellip;</td><td>&hellip;</td><td>&hellip;</td><td>&hellip;</td><td>&hellip;</td><td>&hellip;</td><td>&hellip;</td><td>&hellip;</td><td>&hellip;</td><td>&hellip;</td><td>&hellip;</td><td>&hellip;</td><td>&hellip;</td><td>&hellip;</td><td>&hellip;</td><td>&hellip;</td><td>&hellip;</td><td>&hellip;</td><td>&hellip;</td><td>&hellip;</td><td>&hellip;</td><td>&hellip;</td><td>&hellip;</td><td>&hellip;</td><td>&hellip;</td><td>&hellip;</td><td>&hellip;</td><td>&hellip;</td><td>&hellip;</td><td>&hellip;</td><td>&hellip;</td><td>&hellip;</td><td>&hellip;</td><td>&hellip;</td><td>&hellip;</td><td>&hellip;</td></tr><tr><td>&quot;fff88cca5f8a012427b96bdde66011…</td><td>-0.0</td><td>-0.0</td><td>16.102747</td><td>-1.0</td><td>0.0</td><td>true</td><td>0.0</td><td>false</td><td>&quot;drive&quot;</td><td>false</td><td>true</td><td>0.00514</td><td>0.002648</td><td>-0.006207</td><td>0.013328</td><td>0.005834</td><td>-0.016368</td><td>0.019618</td><td>0.007763</td><td>-0.023074</td><td>0.028672</td><td>0.010737</td><td>-0.033795</td><td>0.0342</td><td>0.012502</td><td>-0.040583</td><td>0.043196</td><td>0.015644</td><td>-0.051309</td><td>&quot;fff88cca5f8a012427b96bdde66011…</td><td>&quot;20&quot;</td><td>0.00514</td><td>0.002648</td><td>-0.006207</td><td>0.013328</td><td>0.005834</td><td>&hellip;</td><td>0.012502</td><td>-0.040583</td><td>0.043196</td><td>0.015644</td><td>-0.051309</td><td>-0.0</td><td>-0.0</td><td>16.102747</td><td>-1.0</td><td>0.0</td><td>1.0</td><td>0.0</td><td>0.0</td><td>1.0</td><td>0.0</td><td>0.0</td><td>0.0</td><td>0.0</td><td>1.0</td><td>0.430075</td><td>0.006131</td><td>0.005656</td><td>0.809346</td><td>0.003302</td><td>0.002188</td><td>1.170762</td><td>-0.005823</td><td>-0.002351</td><td>1.782067</td><td>-0.020263</td><td>-0.010847</td><td>2.024487</td><td>-0.012285</td><td>-0.02465</td><td>2.545632</td><td>-0.009652</td><td>-0.018375</td></tr><tr><td>&quot;fff88cca5f8a012427b96bdde66011…</td><td>1.594968</td><td>0.350129</td><td>-5.791823</td><td>-97.0</td><td>0.0</td><td>false</td><td>0.0</td><td>false</td><td>&quot;drive&quot;</td><td>false</td><td>true</td><td>0.663311</td><td>-0.002493</td><td>-0.009528</td><td>1.516447</td><td>-0.004223</td><td>-0.020431</td><td>2.425366</td><td>-0.002958</td><td>-0.023108</td><td>3.319161</td><td>-0.012259</td><td>-0.027327</td><td>4.106655</td><td>-0.023314</td><td>-0.024449</td><td>4.708509</td><td>-0.027916</td><td>-0.026821</td><td>&quot;fff88cca5f8a012427b96bdde66011…</td><td>&quot;220&quot;</td><td>0.663311</td><td>-0.002493</td><td>-0.009528</td><td>1.516447</td><td>-0.004223</td><td>&hellip;</td><td>-0.023314</td><td>-0.024449</td><td>4.708509</td><td>-0.027916</td><td>-0.026821</td><td>1.594968</td><td>0.350129</td><td>-5.791823</td><td>-97.0</td><td>0.0</td><td>0.0</td><td>0.0</td><td>0.0</td><td>1.0</td><td>0.0</td><td>0.0</td><td>0.0</td><td>0.0</td><td>1.0</td><td>0.996483</td><td>-0.0023</td><td>0.005426</td><td>2.081078</td><td>-0.011403</td><td>0.001859</td><td>3.330599</td><td>-0.033189</td><td>-0.008008</td><td>4.226783</td><td>-0.042588</td><td>-0.02766</td><td>5.463963</td><td>-0.004876</td><td>-0.021327</td><td>6.578324</td><td>-0.054268</td><td>-0.039832</td></tr><tr><td>&quot;fff88cca5f8a012427b96bdde66011…</td><td>-0.004207</td><td>-0.037833</td><td>-2.089301</td><td>0.0</td><td>0.0</td><td>true</td><td>0.0</td><td>false</td><td>&quot;drive&quot;</td><td>false</td><td>true</td><td>0.022788</td><td>0.000622</td><td>-0.006612</td><td>0.046445</td><td>0.001039</td><td>-0.017674</td><td>0.062182</td><td>0.000714</td><td>-0.024352</td><td>0.079601</td><td>0.000491</td><td>-0.034149</td><td>0.091362</td><td>-0.000041</td><td>-0.039632</td><td>0.10623</td><td>-0.001123</td><td>-0.04789</td><td>&quot;fff88cca5f8a012427b96bdde66011…</td><td>&quot;320&quot;</td><td>0.022788</td><td>0.000622</td><td>-0.006612</td><td>0.046445</td><td>0.001039</td><td>&hellip;</td><td>-0.000041</td><td>-0.039632</td><td>0.10623</td><td>-0.001123</td><td>-0.04789</td><td>-0.004207</td><td>-0.037833</td><td>-2.089301</td><td>0.0</td><td>0.0</td><td>1.0</td><td>0.0</td><td>0.0</td><td>1.0</td><td>0.0</td><td>0.0</td><td>0.0</td><td>0.0</td><td>1.0</td><td>0.41787</td><td>0.006371</td><td>0.005175</td><td>0.783296</td><td>0.003884</td><td>0.002082</td><td>1.134414</td><td>-0.004904</td><td>-0.002585</td><td>1.736074</td><td>-0.019375</td><td>-0.01008</td><td>1.947985</td><td>-0.011152</td><td>-0.023908</td><td>2.458307</td><td>-0.009424</td><td>-0.01724</td></tr><tr><td>&quot;fff88cca5f8a012427b96bdde66011…</td><td>-2.1624e-10</td><td>-1.9432e-9</td><td>-2.170106</td><td>1.0</td><td>0.0</td><td>true</td><td>0.0</td><td>false</td><td>&quot;drive&quot;</td><td>false</td><td>true</td><td>0.009293</td><td>-0.000725</td><td>-0.003357</td><td>0.022385</td><td>-0.002018</td><td>-0.008759</td><td>0.031795</td><td>-0.003121</td><td>-0.012351</td><td>0.044995</td><td>-0.004578</td><td>-0.017885</td><td>0.054023</td><td>-0.005685</td><td>-0.020612</td><td>0.067738</td><td>-0.008169</td><td>-0.026279</td><td>&quot;fff88cca5f8a012427b96bdde66011…</td><td>&quot;420&quot;</td><td>0.009293</td><td>-0.000725</td><td>-0.003357</td><td>0.022385</td><td>-0.002018</td><td>&hellip;</td><td>-0.005685</td><td>-0.020612</td><td>0.067738</td><td>-0.008169</td><td>-0.026279</td><td>-2.1624e-10</td><td>-1.9432e-9</td><td>-2.170106</td><td>1.0</td><td>0.0</td><td>1.0</td><td>0.0</td><td>0.0</td><td>1.0</td><td>0.0</td><td>0.0</td><td>0.0</td><td>0.0</td><td>1.0</td><td>0.414062</td><td>0.006212</td><td>0.005066</td><td>0.776829</td><td>0.004067</td><td>0.002043</td><td>1.122789</td><td>-0.004681</td><td>-0.002725</td><td>1.718705</td><td>-0.019242</td><td>-0.009941</td><td>1.92908</td><td>-0.011508</td><td>-0.023714</td><td>2.435489</td><td>-0.008852</td><td>-0.01685</td></tr><tr><td>&quot;fff88cca5f8a012427b96bdde66011…</td><td>-1.1102e-17</td><td>-9.9770e-17</td><td>-2.24445</td><td>1.0</td><td>0.0</td><td>true</td><td>0.0</td><td>false</td><td>&quot;drive&quot;</td><td>false</td><td>true</td><td>0.009021</td><td>-0.001694</td><td>-0.003041</td><td>0.021577</td><td>-0.003604</td><td>-0.006752</td><td>0.029756</td><td>-0.004978</td><td>-0.007805</td><td>0.041055</td><td>-0.007137</td><td>-0.009562</td><td>0.049354</td><td>-0.008518</td><td>-0.010334</td><td>0.060503</td><td>-0.010497</td><td>-0.011979</td><td>&quot;fff88cca5f8a012427b96bdde66011…</td><td>&quot;520&quot;</td><td>0.009021</td><td>-0.001694</td><td>-0.003041</td><td>0.021577</td><td>-0.003604</td><td>&hellip;</td><td>-0.008518</td><td>-0.010334</td><td>0.060503</td><td>-0.010497</td><td>-0.011979</td><td>-1.1102e-17</td><td>-9.9770e-17</td><td>-2.24445</td><td>1.0</td><td>0.0</td><td>1.0</td><td>0.0</td><td>0.0</td><td>1.0</td><td>0.0</td><td>0.0</td><td>0.0</td><td>0.0</td><td>1.0</td><td>0.415446</td><td>0.006144</td><td>0.005153</td><td>0.78013</td><td>0.004136</td><td>0.001946</td><td>1.127539</td><td>-0.004577</td><td>-0.002756</td><td>1.728199</td><td>-0.019498</td><td>-0.01023</td><td>1.939141</td><td>-0.010994</td><td>-0.023836</td><td>2.43807</td><td>-0.00716</td><td>-0.016954</td></tr></tbody></table></div>"
      ],
      "text/plain": [
       "shape: (43_371, 82)\n",
       "┌───────────┬───────────┬───────────┬───────────┬───┬───────────┬───────────┬───────────┬──────────┐\n",
       "│ ID        ┆ vEgo      ┆ aEgo      ┆ steeringA ┆ … ┆ pred_tg_c ┆ pred_tg_c ┆ pred_tg_c ┆ pred_tg_ │\n",
       "│ ---       ┆ ---       ┆ ---       ┆ ngleDeg   ┆   ┆ ood_z_4   ┆ ood_x_5   ┆ ood_y_5   ┆ cood_z_5 │\n",
       "│ str       ┆ f64       ┆ f64       ┆ ---       ┆   ┆ ---       ┆ ---       ┆ ---       ┆ ---      │\n",
       "│           ┆           ┆           ┆ f64       ┆   ┆ f64       ┆ f64       ┆ f64       ┆ f64      │\n",
       "╞═══════════╪═══════════╪═══════════╪═══════════╪═══╪═══════════╪═══════════╪═══════════╪══════════╡\n",
       "│ 00066be8e ┆ 5.701526  ┆ 1.538456  ┆ -2.165777 ┆ … ┆ 0.021029  ┆ 18.648168 ┆ 0.061712  ┆ 0.015639 │\n",
       "│ 20318869c ┆           ┆           ┆           ┆   ┆           ┆           ┆           ┆          │\n",
       "│ 38c66be46 ┆           ┆           ┆           ┆   ┆           ┆           ┆           ┆          │\n",
       "│ 663…      ┆           ┆           ┆           ┆   ┆           ┆           ┆           ┆          │\n",
       "│ 00066be8e ┆ 11.176292 ┆ 0.279881  ┆ -11.62569 ┆ … ┆ 0.071682  ┆ 32.479545 ┆ 0.066198  ┆ 0.055206 │\n",
       "│ 20318869c ┆           ┆           ┆ 7         ┆   ┆           ┆           ┆           ┆          │\n",
       "│ 38c66be46 ┆           ┆           ┆           ┆   ┆           ┆           ┆           ┆          │\n",
       "│ 663…      ┆           ┆           ┆           ┆   ┆           ┆           ┆           ┆          │\n",
       "│ 00066be8e ┆ 10.472548 ┆ 0.231099  ┆ -2.985105 ┆ … ┆ 0.045095  ┆ 30.489413 ┆ 0.052735  ┆ 0.029507 │\n",
       "│ 20318869c ┆           ┆           ┆           ┆   ┆           ┆           ┆           ┆          │\n",
       "│ 38c66be46 ┆           ┆           ┆           ┆   ┆           ┆           ┆           ┆          │\n",
       "│ 663…      ┆           ┆           ┆           ┆   ┆           ┆           ┆           ┆          │\n",
       "│ 000fb056f ┆ 6.055565  ┆ -0.117775 ┆ 7.632668  ┆ … ┆ 0.045857  ┆ 17.546739 ┆ 0.069439  ┆ 0.025323 │\n",
       "│ 97572d384 ┆           ┆           ┆           ┆   ┆           ┆           ┆           ┆          │\n",
       "│ bae4f5fc1 ┆           ┆           ┆           ┆   ┆           ┆           ┆           ┆          │\n",
       "│ e0f…      ┆           ┆           ┆           ┆   ┆           ┆           ┆           ┆          │\n",
       "│ 000fb056f ┆ 3.316744  ┆ 1.276733  ┆ -31.72547 ┆ … ┆ 0.034025  ┆ 12.467851 ┆ -0.059325 ┆ 0.024915 │\n",
       "│ 97572d384 ┆           ┆           ┆ 7         ┆   ┆           ┆           ┆           ┆          │\n",
       "│ bae4f5fc1 ┆           ┆           ┆           ┆   ┆           ┆           ┆           ┆          │\n",
       "│ e0f…      ┆           ┆           ┆           ┆   ┆           ┆           ┆           ┆          │\n",
       "│ …         ┆ …         ┆ …         ┆ …         ┆ … ┆ …         ┆ …         ┆ …         ┆ …        │\n",
       "│ fff88cca5 ┆ -0.0      ┆ -0.0      ┆ 16.102747 ┆ … ┆ -0.02465  ┆ 2.545632  ┆ -0.009652 ┆ -0.01837 │\n",
       "│ f8a012427 ┆           ┆           ┆           ┆   ┆           ┆           ┆           ┆ 5        │\n",
       "│ b96bdde66 ┆           ┆           ┆           ┆   ┆           ┆           ┆           ┆          │\n",
       "│ 011…      ┆           ┆           ┆           ┆   ┆           ┆           ┆           ┆          │\n",
       "│ fff88cca5 ┆ 1.594968  ┆ 0.350129  ┆ -5.791823 ┆ … ┆ -0.021327 ┆ 6.578324  ┆ -0.054268 ┆ -0.03983 │\n",
       "│ f8a012427 ┆           ┆           ┆           ┆   ┆           ┆           ┆           ┆ 2        │\n",
       "│ b96bdde66 ┆           ┆           ┆           ┆   ┆           ┆           ┆           ┆          │\n",
       "│ 011…      ┆           ┆           ┆           ┆   ┆           ┆           ┆           ┆          │\n",
       "│ fff88cca5 ┆ -0.004207 ┆ -0.037833 ┆ -2.089301 ┆ … ┆ -0.023908 ┆ 2.458307  ┆ -0.009424 ┆ -0.01724 │\n",
       "│ f8a012427 ┆           ┆           ┆           ┆   ┆           ┆           ┆           ┆          │\n",
       "│ b96bdde66 ┆           ┆           ┆           ┆   ┆           ┆           ┆           ┆          │\n",
       "│ 011…      ┆           ┆           ┆           ┆   ┆           ┆           ┆           ┆          │\n",
       "│ fff88cca5 ┆ -2.1624e- ┆ -1.9432e- ┆ -2.170106 ┆ … ┆ -0.023714 ┆ 2.435489  ┆ -0.008852 ┆ -0.01685 │\n",
       "│ f8a012427 ┆ 10        ┆ 9         ┆           ┆   ┆           ┆           ┆           ┆          │\n",
       "│ b96bdde66 ┆           ┆           ┆           ┆   ┆           ┆           ┆           ┆          │\n",
       "│ 011…      ┆           ┆           ┆           ┆   ┆           ┆           ┆           ┆          │\n",
       "│ fff88cca5 ┆ -1.1102e- ┆ -9.9770e- ┆ -2.24445  ┆ … ┆ -0.023836 ┆ 2.43807   ┆ -0.00716  ┆ -0.01695 │\n",
       "│ f8a012427 ┆ 17        ┆ 17        ┆           ┆   ┆           ┆           ┆           ┆ 4        │\n",
       "│ b96bdde66 ┆           ┆           ┆           ┆   ┆           ┆           ┆           ┆          │\n",
       "│ 011…      ┆           ┆           ┆           ┆   ┆           ┆           ┆           ┆          │\n",
       "└───────────┴───────────┴───────────┴───────────┴───┴───────────┴───────────┴───────────┴──────────┘"
      ]
     },
     "execution_count": 13,
     "metadata": {},
     "output_type": "execute_result"
    }
   ],
   "source": [
    "oof_preds = oof_preds.select(pl.all().name.prefix(\"pred_\"))\n",
    "pred_cols = oof_preds.columns\n",
    "\n",
    "tr_df = pl.concat([tr_df, oof_preds], how=\"horizontal\")\n",
    "tr_df"
   ]
  },
  {
   "cell_type": "markdown",
   "metadata": {},
   "source": [
    "## 評価"
   ]
  },
  {
   "cell_type": "code",
   "execution_count": 14,
   "metadata": {},
   "outputs": [
    {
     "data": {
      "text/plain": [
       "{'score_pred_tg_cood_x_0': 0.4322923525296484,\n",
       " 'score_pred_tg_cood_y_0': 0.0641673050155923,\n",
       " 'score_pred_tg_cood_z_0': 0.03071756225191304,\n",
       " 'score_pred_tg_cood_x_1': 0.839172504754464,\n",
       " 'score_pred_tg_cood_y_1': 0.16711459721681823,\n",
       " 'score_pred_tg_cood_z_1': 0.05897782827120537,\n",
       " 'score_pred_tg_cood_x_2': 1.29368564960096,\n",
       " 'score_pred_tg_cood_y_2': 0.3191418970763152,\n",
       " 'score_pred_tg_cood_z_2': 0.09028082348157183,\n",
       " 'score_pred_tg_cood_x_3': 1.7310954436089443,\n",
       " 'score_pred_tg_cood_y_3': 0.5190233440401272,\n",
       " 'score_pred_tg_cood_z_3': 0.12271930365508385,\n",
       " 'score_pred_tg_cood_x_4': 2.2484649300797748,\n",
       " 'score_pred_tg_cood_y_4': 0.7600714787488124,\n",
       " 'score_pred_tg_cood_z_4': 0.15823515028166033,\n",
       " 'score_pred_tg_cood_x_5': 2.915020899326564,\n",
       " 'score_pred_tg_cood_y_5': 1.0491272770048647,\n",
       " 'score_pred_tg_cood_z_5': 0.19202749652063208,\n",
       " 'avg': 0.7217408801924973}"
      ]
     },
     "execution_count": 14,
     "metadata": {},
     "output_type": "execute_result"
    }
   ],
   "source": [
    "def calc_score(df: pl.DataFrame, pred_cols: list[str]):\n",
    "    tg_cols = sum([[f\"x_{i}\", f\"y_{i}\", f\"z_{i}\"] for i in range(6)], [])\n",
    "\n",
    "    tg = df.select(tg_cols).to_numpy()\n",
    "    pred = df.select(pred_cols).to_numpy()\n",
    "\n",
    "    scores = np.abs(tg - pred).mean(axis=0)\n",
    "    scores = {f\"score_{col}\": float(score) for col, score in zip(pred_cols, scores)}\n",
    "    scores[\"avg\"] = float(np.abs(tg - pred).mean())\n",
    "    return scores\n",
    "\n",
    "\n",
    "scores = calc_score(tr_df, pred_cols)\n",
    "scores"
   ]
  },
  {
   "cell_type": "code",
   "execution_count": 15,
   "metadata": {},
   "outputs": [
    {
     "data": {
      "image/png": "[encoded data removed]",
      "text/plain": [
       "<Figure size 1200x1200 with 36 Axes>"
      ]
     },
     "metadata": {},
     "output_type": "display_data"
    }
   ],
   "source": [
    "utils.plot_calibration_curve(tr_df, pred_cols, n_bins=40)"
   ]
  },
  {
   "cell_type": "markdown",
   "metadata": {},
   "source": [
    "## Submission"
   ]
  },
  {
   "cell_type": "code",
   "execution_count": 16,
   "metadata": {},
   "outputs": [
    {
     "data": {
      "text/html": [
       "<div><style>\n",
       ".dataframe > thead > tr,\n",
       ".dataframe > tbody > tr {\n",
       "  text-align: right;\n",
       "  white-space: pre-wrap;\n",
       "}\n",
       "</style>\n",
       "<small>shape: (1_727, 18)</small><table border=\"1\" class=\"dataframe\"><thead><tr><th>pred_tg_cood_x_0</th><th>pred_tg_cood_y_0</th><th>pred_tg_cood_z_0</th><th>pred_tg_cood_x_1</th><th>pred_tg_cood_y_1</th><th>pred_tg_cood_z_1</th><th>pred_tg_cood_x_2</th><th>pred_tg_cood_y_2</th><th>pred_tg_cood_z_2</th><th>pred_tg_cood_x_3</th><th>pred_tg_cood_y_3</th><th>pred_tg_cood_z_3</th><th>pred_tg_cood_x_4</th><th>pred_tg_cood_y_4</th><th>pred_tg_cood_z_4</th><th>pred_tg_cood_x_5</th><th>pred_tg_cood_y_5</th><th>pred_tg_cood_z_5</th></tr><tr><td>f64</td><td>f64</td><td>f64</td><td>f64</td><td>f64</td><td>f64</td><td>f64</td><td>f64</td><td>f64</td><td>f64</td><td>f64</td><td>f64</td><td>f64</td><td>f64</td><td>f64</td><td>f64</td><td>f64</td><td>f64</td></tr></thead><tbody><tr><td>1.537985</td><td>0.002534</td><td>0.001622</td><td>3.258337</td><td>-0.015609</td><td>0.006717</td><td>4.934452</td><td>-0.029619</td><td>0.005199</td><td>6.685466</td><td>-0.028021</td><td>-0.00613</td><td>8.291311</td><td>-0.035578</td><td>0.008606</td><td>9.968146</td><td>-0.095362</td><td>0.000884</td></tr><tr><td>1.86349</td><td>0.128032</td><td>0.054013</td><td>4.034837</td><td>-0.13625</td><td>0.066148</td><td>6.482864</td><td>-0.086453</td><td>0.071394</td><td>8.283041</td><td>-0.040412</td><td>0.038243</td><td>10.852889</td><td>-0.132061</td><td>0.068485</td><td>12.797792</td><td>-0.094715</td><td>-0.01383</td></tr><tr><td>1.661354</td><td>0.006483</td><td>0.000963</td><td>3.529406</td><td>-0.011252</td><td>0.008153</td><td>5.329331</td><td>-0.020314</td><td>0.004543</td><td>7.28983</td><td>-0.019624</td><td>-0.002352</td><td>9.034515</td><td>-0.046926</td><td>0.006839</td><td>10.704288</td><td>-0.08501</td><td>0.008093</td></tr><tr><td>1.266506</td><td>0.039006</td><td>0.018644</td><td>2.648292</td><td>-0.045916</td><td>0.010778</td><td>4.128186</td><td>-0.03194</td><td>0.01058</td><td>5.409149</td><td>-0.029861</td><td>-0.011216</td><td>6.888872</td><td>-0.06082</td><td>-0.01344</td><td>8.336949</td><td>-0.040561</td><td>-0.039875</td></tr><tr><td>1.048774</td><td>0.019059</td><td>0.008976</td><td>2.220839</td><td>-0.034445</td><td>0.005617</td><td>3.459049</td><td>-0.026541</td><td>0.012359</td><td>4.590037</td><td>-0.019536</td><td>-0.002871</td><td>5.67336</td><td>-0.052453</td><td>-0.002098</td><td>6.825492</td><td>-0.045227</td><td>-0.01874</td></tr><tr><td>&hellip;</td><td>&hellip;</td><td>&hellip;</td><td>&hellip;</td><td>&hellip;</td><td>&hellip;</td><td>&hellip;</td><td>&hellip;</td><td>&hellip;</td><td>&hellip;</td><td>&hellip;</td><td>&hellip;</td><td>&hellip;</td><td>&hellip;</td><td>&hellip;</td><td>&hellip;</td><td>&hellip;</td><td>&hellip;</td></tr><tr><td>6.493193</td><td>0.038225</td><td>0.023263</td><td>13.75122</td><td>-0.015377</td><td>0.038386</td><td>20.938326</td><td>0.000807</td><td>0.03974</td><td>28.142309</td><td>-0.00371</td><td>0.029302</td><td>35.44545</td><td>0.02403</td><td>0.052524</td><td>42.566698</td><td>0.078019</td><td>0.046662</td></tr><tr><td>7.002677</td><td>0.032432</td><td>0.019499</td><td>14.841627</td><td>-0.019138</td><td>0.030438</td><td>22.607987</td><td>-0.013617</td><td>0.026604</td><td>30.47708</td><td>0.006517</td><td>0.024185</td><td>38.370765</td><td>-0.004956</td><td>0.030757</td><td>45.927956</td><td>0.02664</td><td>0.022529</td></tr><tr><td>7.464785</td><td>0.027576</td><td>0.015373</td><td>15.851515</td><td>-0.017155</td><td>0.023561</td><td>24.174632</td><td>-0.008768</td><td>0.018211</td><td>32.594418</td><td>0.013637</td><td>0.021663</td><td>40.995718</td><td>-0.003173</td><td>0.023325</td><td>49.145374</td><td>0.022877</td><td>0.016717</td></tr><tr><td>6.438797</td><td>0.044561</td><td>0.027518</td><td>13.615671</td><td>-0.023029</td><td>0.037264</td><td>20.749074</td><td>-0.016764</td><td>0.030784</td><td>27.869861</td><td>-0.000726</td><td>0.014631</td><td>35.209869</td><td>0.013349</td><td>0.024183</td><td>42.18739</td><td>0.094928</td><td>0.010305</td></tr><tr><td>5.598165</td><td>0.209415</td><td>0.099074</td><td>11.826822</td><td>-0.137306</td><td>0.134252</td><td>18.341071</td><td>-0.048625</td><td>0.111001</td><td>24.644779</td><td>-0.012148</td><td>0.070761</td><td>30.891908</td><td>0.020564</td><td>0.1119</td><td>37.383522</td><td>0.267152</td><td>0.070576</td></tr></tbody></table></div>"
      ],
      "text/plain": [
       "shape: (1_727, 18)\n",
       "┌───────────┬───────────┬───────────┬───────────┬───┬───────────┬───────────┬───────────┬──────────┐\n",
       "│ pred_tg_c ┆ pred_tg_c ┆ pred_tg_c ┆ pred_tg_c ┆ … ┆ pred_tg_c ┆ pred_tg_c ┆ pred_tg_c ┆ pred_tg_ │\n",
       "│ ood_x_0   ┆ ood_y_0   ┆ ood_z_0   ┆ ood_x_1   ┆   ┆ ood_z_4   ┆ ood_x_5   ┆ ood_y_5   ┆ cood_z_5 │\n",
       "│ ---       ┆ ---       ┆ ---       ┆ ---       ┆   ┆ ---       ┆ ---       ┆ ---       ┆ ---      │\n",
       "│ f64       ┆ f64       ┆ f64       ┆ f64       ┆   ┆ f64       ┆ f64       ┆ f64       ┆ f64      │\n",
       "╞═══════════╪═══════════╪═══════════╪═══════════╪═══╪═══════════╪═══════════╪═══════════╪══════════╡\n",
       "│ 1.537985  ┆ 0.002534  ┆ 0.001622  ┆ 3.258337  ┆ … ┆ 0.008606  ┆ 9.968146  ┆ -0.095362 ┆ 0.000884 │\n",
       "│ 1.86349   ┆ 0.128032  ┆ 0.054013  ┆ 4.034837  ┆ … ┆ 0.068485  ┆ 12.797792 ┆ -0.094715 ┆ -0.01383 │\n",
       "│ 1.661354  ┆ 0.006483  ┆ 0.000963  ┆ 3.529406  ┆ … ┆ 0.006839  ┆ 10.704288 ┆ -0.08501  ┆ 0.008093 │\n",
       "│ 1.266506  ┆ 0.039006  ┆ 0.018644  ┆ 2.648292  ┆ … ┆ -0.01344  ┆ 8.336949  ┆ -0.040561 ┆ -0.03987 │\n",
       "│           ┆           ┆           ┆           ┆   ┆           ┆           ┆           ┆ 5        │\n",
       "│ 1.048774  ┆ 0.019059  ┆ 0.008976  ┆ 2.220839  ┆ … ┆ -0.002098 ┆ 6.825492  ┆ -0.045227 ┆ -0.01874 │\n",
       "│ …         ┆ …         ┆ …         ┆ …         ┆ … ┆ …         ┆ …         ┆ …         ┆ …        │\n",
       "│ 6.493193  ┆ 0.038225  ┆ 0.023263  ┆ 13.75122  ┆ … ┆ 0.052524  ┆ 42.566698 ┆ 0.078019  ┆ 0.046662 │\n",
       "│ 7.002677  ┆ 0.032432  ┆ 0.019499  ┆ 14.841627 ┆ … ┆ 0.030757  ┆ 45.927956 ┆ 0.02664   ┆ 0.022529 │\n",
       "│ 7.464785  ┆ 0.027576  ┆ 0.015373  ┆ 15.851515 ┆ … ┆ 0.023325  ┆ 49.145374 ┆ 0.022877  ┆ 0.016717 │\n",
       "│ 6.438797  ┆ 0.044561  ┆ 0.027518  ┆ 13.615671 ┆ … ┆ 0.024183  ┆ 42.18739  ┆ 0.094928  ┆ 0.010305 │\n",
       "│ 5.598165  ┆ 0.209415  ┆ 0.099074  ┆ 11.826822 ┆ … ┆ 0.1119    ┆ 37.383522 ┆ 0.267152  ┆ 0.070576 │\n",
       "└───────────┴───────────┴───────────┴───────────┴───┴───────────┴───────────┴───────────┴──────────┘"
      ]
     },
     "execution_count": 16,
     "metadata": {},
     "output_type": "execute_result"
    }
   ],
   "source": [
    "preds = utils.predict(models, ts_images, ts_df, feature.columns, pred_cols)\n",
    "preds"
   ]
  },
  {
   "cell_type": "code",
   "execution_count": 17,
   "metadata": {},
   "outputs": [
    {
     "name": "stdout",
     "output_type": "stream",
     "text": [
      "Submission file is created: submission.csv\n"
     ]
    }
   ],
   "source": [
    "def create_submission_csv(preds: pl.DataFrame, filename: str = \"submission.csv\"):\n",
    "    submission_cols = sum([[f\"x_{i}\", f\"y_{i}\", f\"z_{i}\"] for i in range(6)], [])\n",
    "\n",
    "    # validate preds columns\n",
    "    if len(preds.columns) != len(submission_cols):\n",
    "        raise ValueError(\n",
    "            f\"preds columns must be {len(submission_cols)}, but got {len(preds.columns)}\"\n",
    "        )\n",
    "\n",
    "    preds.columns = submission_cols\n",
    "    preds.write_csv(filename)\n",
    "    print(f\"Submission file is created: {filename}\")\n",
    "\n",
    "\n",
    "create_submission_csv(preds)"
   ]
  }
 ],
 "metadata": {
  "kernelspec": {
   "display_name": "venv",
   "language": "python",
   "name": "python3"
  },
  "language_info": {
   "codemirror_mode": {
    "name": "ipython",
    "version": 3
   },
   "file_extension": ".py",
   "mimetype": "text/x-python",
   "name": "python",
   "nbconvert_exporter": "python",
   "pygments_lexer": "ipython3",
   "version": "3.10.12"
  }
 },
 "nbformat": 4,
 "nbformat_minor": 2
}
