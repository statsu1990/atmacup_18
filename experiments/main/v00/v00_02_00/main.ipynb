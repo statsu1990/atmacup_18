{
 "cells": [
  {
   "cell_type": "code",
   "execution_count": 1,
   "metadata": {},
   "outputs": [
    {
     "data": {
      "text/plain": [
       "<module 'utils' from '/home/tatsuya/projects/atmacup/atmacup_18/experiments/main/v00/v00_02_00/utils.py'>"
      ]
     },
     "execution_count": 1,
     "metadata": {},
     "output_type": "execute_result"
    }
   ],
   "source": [
    "import importlib\n",
    "from pathlib import Path\n",
    "\n",
    "import matplotlib.pyplot as plt\n",
    "import numpy as np\n",
    "import polars as pl\n",
    "import seaborn as sns\n",
    "\n",
    "\n",
    "import utils\n",
    "\n",
    "importlib.reload(utils)"
   ]
  },
  {
   "cell_type": "code",
   "execution_count": 2,
   "metadata": {},
   "outputs": [],
   "source": [
    "RANDOM_STATE = 2024\n",
    "utils.seed_everything(RANDOM_STATE)"
   ]
  },
  {
   "cell_type": "markdown",
   "metadata": {},
   "source": [
    "## データ読み込み"
   ]
  },
  {
   "cell_type": "code",
   "execution_count": 3,
   "metadata": {},
   "outputs": [],
   "source": [
    "notebook_dir = Path().resolve()\n",
    "DATA_DIR = notebook_dir.parents[3].joinpath(\"data\")\n",
    "DATASET_DIR = DATA_DIR.joinpath(\"atmaCup#18_dataset\")\n",
    "TR_FEATURES_CSV = DATASET_DIR.joinpath(\"train_features.csv\")\n",
    "TS_FEATURES_CSV = DATASET_DIR.joinpath(\"test_features.csv\")\n",
    "IMAGES_DIR = DATASET_DIR.joinpath(\"images\")\n",
    "TRAFFIC_LIGHTS_CSV = DATASET_DIR.joinpath(\"traffic_lights.csv\")\n",
    "\n",
    "IMAGE_NAMES = [\"image_t.png\", \"image_t-0.5.png\", \"image_t-1.0.png\"]"
   ]
  },
  {
   "cell_type": "code",
   "execution_count": 4,
   "metadata": {},
   "outputs": [
    {
     "data": {
      "text/html": [
       "<div><style>\n",
       ".dataframe > thead > tr,\n",
       ".dataframe > tbody > tr {\n",
       "  text-align: right;\n",
       "  white-space: pre-wrap;\n",
       "}\n",
       "</style>\n",
       "<small>shape: (2, 32)</small><table border=\"1\" class=\"dataframe\"><thead><tr><th>ID</th><th>vEgo</th><th>aEgo</th><th>steeringAngleDeg</th><th>steeringTorque</th><th>brake</th><th>brakePressed</th><th>gas</th><th>gasPressed</th><th>gearShifter</th><th>leftBlinker</th><th>rightBlinker</th><th>x_0</th><th>y_0</th><th>z_0</th><th>x_1</th><th>y_1</th><th>z_1</th><th>x_2</th><th>y_2</th><th>z_2</th><th>x_3</th><th>y_3</th><th>z_3</th><th>x_4</th><th>y_4</th><th>z_4</th><th>x_5</th><th>y_5</th><th>z_5</th><th>scene_id</th><th>scene_dsec</th></tr><tr><td>str</td><td>f64</td><td>f64</td><td>f64</td><td>f64</td><td>f64</td><td>bool</td><td>f64</td><td>bool</td><td>str</td><td>bool</td><td>bool</td><td>f64</td><td>f64</td><td>f64</td><td>f64</td><td>f64</td><td>f64</td><td>f64</td><td>f64</td><td>f64</td><td>f64</td><td>f64</td><td>f64</td><td>f64</td><td>f64</td><td>f64</td><td>f64</td><td>f64</td><td>f64</td><td>str</td><td>str</td></tr></thead><tbody><tr><td>&quot;00066be8e20318869c38c66be46663…</td><td>5.701526</td><td>1.538456</td><td>-2.165777</td><td>-139.0</td><td>0.0</td><td>false</td><td>0.25</td><td>true</td><td>&quot;drive&quot;</td><td>false</td><td>false</td><td>2.82959</td><td>0.032226</td><td>0.045187</td><td>6.231999</td><td>0.065895</td><td>0.107974</td><td>9.785009</td><td>0.124972</td><td>0.203649</td><td>13.485472</td><td>0.163448</td><td>0.302818</td><td>17.574227</td><td>0.174289</td><td>0.406331</td><td>21.951269</td><td>0.199503</td><td>0.485079</td><td>&quot;00066be8e20318869c38c66be46663…</td><td>&quot;320&quot;</td></tr><tr><td>&quot;00066be8e20318869c38c66be46663…</td><td>11.176292</td><td>0.279881</td><td>-11.625697</td><td>-44.0</td><td>0.0</td><td>false</td><td>0.0</td><td>false</td><td>&quot;drive&quot;</td><td>false</td><td>true</td><td>4.970268</td><td>-0.007936</td><td>0.005028</td><td>10.350489</td><td>-0.032374</td><td>-0.020701</td><td>15.770054</td><td>0.084073</td><td>0.008645</td><td>21.132415</td><td>0.391343</td><td>0.036335</td><td>26.316489</td><td>0.843124</td><td>0.065</td><td>31.383814</td><td>1.42507</td><td>0.073083</td><td>&quot;00066be8e20318869c38c66be46663…</td><td>&quot;420&quot;</td></tr></tbody></table></div>"
      ],
      "text/plain": [
       "shape: (2, 32)\n",
       "┌────────────┬───────────┬──────────┬────────────┬───┬──────────┬──────────┬───────────┬───────────┐\n",
       "│ ID         ┆ vEgo      ┆ aEgo     ┆ steeringAn ┆ … ┆ y_5      ┆ z_5      ┆ scene_id  ┆ scene_dse │\n",
       "│ ---        ┆ ---       ┆ ---      ┆ gleDeg     ┆   ┆ ---      ┆ ---      ┆ ---       ┆ c         │\n",
       "│ str        ┆ f64       ┆ f64      ┆ ---        ┆   ┆ f64      ┆ f64      ┆ str       ┆ ---       │\n",
       "│            ┆           ┆          ┆ f64        ┆   ┆          ┆          ┆           ┆ str       │\n",
       "╞════════════╪═══════════╪══════════╪════════════╪═══╪══════════╪══════════╪═══════════╪═══════════╡\n",
       "│ 00066be8e2 ┆ 5.701526  ┆ 1.538456 ┆ -2.165777  ┆ … ┆ 0.199503 ┆ 0.485079 ┆ 00066be8e ┆ 320       │\n",
       "│ 0318869c38 ┆           ┆          ┆            ┆   ┆          ┆          ┆ 20318869c ┆           │\n",
       "│ c66be46663 ┆           ┆          ┆            ┆   ┆          ┆          ┆ 38c66be46 ┆           │\n",
       "│ …          ┆           ┆          ┆            ┆   ┆          ┆          ┆ 663…      ┆           │\n",
       "│ 00066be8e2 ┆ 11.176292 ┆ 0.279881 ┆ -11.625697 ┆ … ┆ 1.42507  ┆ 0.073083 ┆ 00066be8e ┆ 420       │\n",
       "│ 0318869c38 ┆           ┆          ┆            ┆   ┆          ┆          ┆ 20318869c ┆           │\n",
       "│ c66be46663 ┆           ┆          ┆            ┆   ┆          ┆          ┆ 38c66be46 ┆           │\n",
       "│ …          ┆           ┆          ┆            ┆   ┆          ┆          ┆ 663…      ┆           │\n",
       "└────────────┴───────────┴──────────┴────────────┴───┴──────────┴──────────┴───────────┴───────────┘"
      ]
     },
     "execution_count": 4,
     "metadata": {},
     "output_type": "execute_result"
    }
   ],
   "source": [
    "tr_df = utils.read_feature_csv(TR_FEATURES_CSV)\n",
    "tr_df.head(2)"
   ]
  },
  {
   "cell_type": "code",
   "execution_count": 5,
   "metadata": {},
   "outputs": [
    {
     "data": {
      "text/html": [
       "<div><style>\n",
       ".dataframe > thead > tr,\n",
       ".dataframe > tbody > tr {\n",
       "  text-align: right;\n",
       "  white-space: pre-wrap;\n",
       "}\n",
       "</style>\n",
       "<small>shape: (2, 14)</small><table border=\"1\" class=\"dataframe\"><thead><tr><th>ID</th><th>vEgo</th><th>aEgo</th><th>steeringAngleDeg</th><th>steeringTorque</th><th>brake</th><th>brakePressed</th><th>gas</th><th>gasPressed</th><th>gearShifter</th><th>leftBlinker</th><th>rightBlinker</th><th>scene_id</th><th>scene_dsec</th></tr><tr><td>str</td><td>f64</td><td>f64</td><td>f64</td><td>f64</td><td>f64</td><td>bool</td><td>f64</td><td>bool</td><td>str</td><td>bool</td><td>bool</td><td>str</td><td>str</td></tr></thead><tbody><tr><td>&quot;012baccc145d400c896cb82065a93d…</td><td>3.374273</td><td>-0.01936</td><td>-34.008415</td><td>17.0</td><td>0.0</td><td>false</td><td>0.0</td><td>false</td><td>&quot;drive&quot;</td><td>false</td><td>false</td><td>&quot;012baccc145d400c896cb82065a93d…</td><td>&quot;120&quot;</td></tr><tr><td>&quot;012baccc145d400c896cb82065a93d…</td><td>2.441048</td><td>-0.022754</td><td>307.860077</td><td>295.0</td><td>0.0</td><td>true</td><td>0.0</td><td>false</td><td>&quot;drive&quot;</td><td>false</td><td>false</td><td>&quot;012baccc145d400c896cb82065a93d…</td><td>&quot;220&quot;</td></tr></tbody></table></div>"
      ],
      "text/plain": [
       "shape: (2, 14)\n",
       "┌───────────┬──────────┬───────────┬───────────┬───┬───────────┬───────────┬───────────┬───────────┐\n",
       "│ ID        ┆ vEgo     ┆ aEgo      ┆ steeringA ┆ … ┆ leftBlink ┆ rightBlin ┆ scene_id  ┆ scene_dse │\n",
       "│ ---       ┆ ---      ┆ ---       ┆ ngleDeg   ┆   ┆ er        ┆ ker       ┆ ---       ┆ c         │\n",
       "│ str       ┆ f64      ┆ f64       ┆ ---       ┆   ┆ ---       ┆ ---       ┆ str       ┆ ---       │\n",
       "│           ┆          ┆           ┆ f64       ┆   ┆ bool      ┆ bool      ┆           ┆ str       │\n",
       "╞═══════════╪══════════╪═══════════╪═══════════╪═══╪═══════════╪═══════════╪═══════════╪═══════════╡\n",
       "│ 012baccc1 ┆ 3.374273 ┆ -0.01936  ┆ -34.00841 ┆ … ┆ false     ┆ false     ┆ 012baccc1 ┆ 120       │\n",
       "│ 45d400c89 ┆          ┆           ┆ 5         ┆   ┆           ┆           ┆ 45d400c89 ┆           │\n",
       "│ 6cb82065a ┆          ┆           ┆           ┆   ┆           ┆           ┆ 6cb82065a ┆           │\n",
       "│ 93d…      ┆          ┆           ┆           ┆   ┆           ┆           ┆ 93d…      ┆           │\n",
       "│ 012baccc1 ┆ 2.441048 ┆ -0.022754 ┆ 307.86007 ┆ … ┆ false     ┆ false     ┆ 012baccc1 ┆ 220       │\n",
       "│ 45d400c89 ┆          ┆           ┆ 7         ┆   ┆           ┆           ┆ 45d400c89 ┆           │\n",
       "│ 6cb82065a ┆          ┆           ┆           ┆   ┆           ┆           ┆ 6cb82065a ┆           │\n",
       "│ 93d…      ┆          ┆           ┆           ┆   ┆           ┆           ┆ 93d…      ┆           │\n",
       "└───────────┴──────────┴───────────┴───────────┴───┴───────────┴───────────┴───────────┴───────────┘"
      ]
     },
     "execution_count": 5,
     "metadata": {},
     "output_type": "execute_result"
    }
   ],
   "source": [
    "ts_df = utils.read_feature_csv(TS_FEATURES_CSV)\n",
    "ts_df.head(2)"
   ]
  },
  {
   "cell_type": "code",
   "execution_count": 6,
   "metadata": {},
   "outputs": [
    {
     "name": "stdout",
     "output_type": "stream",
     "text": [
      "(43371, 3, 64, 128, 3)\n",
      "(1727, 3, 64, 128, 3)\n"
     ]
    }
   ],
   "source": [
    "tr_images = utils.load_images(\n",
    "    IMAGES_DIR, ids=tr_df.get_column(\"ID\").to_list(), image_names=IMAGE_NAMES\n",
    ")\n",
    "print(tr_images.shape)\n",
    "ts_images = utils.load_images(\n",
    "    IMAGES_DIR, ids=ts_df.get_column(\"ID\").to_list(), image_names=IMAGE_NAMES\n",
    ")\n",
    "print(ts_images.shape)"
   ]
  },
  {
   "cell_type": "code",
   "execution_count": 7,
   "metadata": {},
   "outputs": [
    {
     "name": "stdout",
     "output_type": "stream",
     "text": [
      "(43371, 9, 64, 128)\n",
      "(1727, 9, 64, 128)\n"
     ]
    }
   ],
   "source": [
    "tr_images = utils.preprocess_images(tr_images)\n",
    "ts_images = utils.preprocess_images(ts_images)\n",
    "\n",
    "print(tr_images.shape)\n",
    "print(ts_images.shape)"
   ]
  },
  {
   "cell_type": "markdown",
   "metadata": {},
   "source": [
    "## Target"
   ]
  },
  {
   "cell_type": "code",
   "execution_count": 8,
   "metadata": {},
   "outputs": [
    {
     "name": "stdout",
     "output_type": "stream",
     "text": [
      "['tg_cood_x_0', 'tg_cood_y_0', 'tg_cood_z_0', 'tg_cood_x_1', 'tg_cood_y_1', 'tg_cood_z_1', 'tg_cood_x_2', 'tg_cood_y_2', 'tg_cood_z_2', 'tg_cood_x_3', 'tg_cood_y_3', 'tg_cood_z_3', 'tg_cood_x_4', 'tg_cood_y_4', 'tg_cood_z_4', 'tg_cood_x_5', 'tg_cood_y_5', 'tg_cood_z_5']\n",
      "Rows: 9\n",
      "Columns: 19\n",
      "$ statistic   <str> 'count', 'null_count', 'mean', 'std', 'min', '25%', '50%', '75%', 'max'\n",
      "$ tg_cood_x_0 <f64> 43371.0, 0.0, 4.122443942757371, 3.2667167639213908, -1.7321542071537557, 1.116530690565041, 3.843337458989432, 6.4281197924248215, 12.392587231992154\n",
      "$ tg_cood_y_0 <f64> 43371.0, 0.0, 0.0019486856369589753, 0.11686590022408185, -2.5341378248203235, -0.02646308932096216, 0.0010884804706597444, 0.030664179622664968, 3.4595563267615925\n",
      "$ tg_cood_z_0 <f64> 43371.0, 0.0, 0.001247332026343412, 0.040745039147660006, -0.9965478318668152, -0.017624552286421614, 0.0011112325970167394, 0.01959056385186172, 1.4479292511292303\n",
      "$ tg_cood_x_1 <f64> 43371.0, 0.0, 8.694386412319787, 6.894354638218222, -3.1110552313515663, 2.3347733190583524, 8.082799715190657, 13.569839002261446, 26.160460553005198\n",
      "$ tg_cood_y_1 <f64> 43371.0, 0.0, 0.004476514556435517, 0.327714078698954, -4.090710120199793, -0.06649143018994849, 0.0026994983574432146, 0.07784738369073656, 3.220475848407637\n",
      "$ tg_cood_z_1 <f64> 43371.0, 0.0, 0.0026177764841189125, 0.08338777633001182, -1.7567724970164338, -0.03676779701549093, 0.002288004100929793, 0.04145726267204623, 2.7481787007302354\n",
      "$ tg_cood_x_2 <f64> 43371.0, 0.0, 13.255113203175153, 10.520810050377683, -4.4542728848099316, 3.54812508508695, 12.330557720909065, 20.699952354360065, 39.85555499634953\n",
      "$ tg_cood_y_2 <f64> 43371.0, 0.0, 0.006757802478080225, 0.6376502116618826, -5.6665134567188025, -0.11984818786203096, 0.003819198790576571, 0.1367151006412065, 5.073225132597423\n",
      "$ tg_cood_z_2 <f64> 43371.0, 0.0, 0.0039805597739072185, 0.12708085737832547, -2.3413471300188857, -0.057168755383470965, 0.0030614709567915524, 0.06429009816926717, 3.920498256897937\n",
      "$ tg_cood_x_3 <f64> 43371.0, 0.0, 17.800580198667912, 14.147078994889537, -5.678676031490648, 4.729802933854976, 16.56731923526755, 27.83404851330417, 53.597005364832754\n",
      "$ tg_cood_y_3 <f64> 43371.0, 0.0, 0.009001091066397375, 1.0418271179092178, -8.864627963212671, -0.1827334066634623, 0.0050993710331077675, 0.20661702134778395, 8.201287915599481\n",
      "$ tg_cood_z_3 <f64> 43371.0, 0.0, 0.0052226783053458264, 0.17289219257292845, -3.0586733624587223, -0.07927416946162652, 0.004305777144596841, 0.08734364553032027, 4.773077968323914\n",
      "$ tg_cood_x_4 <f64> 43371.0, 0.0, 22.330185302557812, 17.772877254206836, -6.799718387513031, 5.9160516139778405, 20.763179790315586, 34.94724391510316, 67.24271501180003\n",
      "$ tg_cood_y_4 <f64> 43371.0, 0.0, 0.011158717608207358, 1.534513906347504, -12.459174095987274, -0.2562861911867529, 0.0061600080819784785, 0.2864272237952777, 12.084923257564784\n",
      "$ tg_cood_z_4 <f64> 43371.0, 0.0, 0.006012087559104841, 0.22083695547431775, -3.8712239955383367, -0.10168066236999504, 0.00528949770742061, 0.11125428996447788, 5.743042003115384\n",
      "$ tg_cood_x_5 <f64> 43371.0, 0.0, 26.84260725073137, 21.39811401676552, -7.826888370244597, 7.034703392503746, 24.947073557718593, 42.027568905167726, 80.98890010605476\n",
      "$ tg_cood_y_5 <f64> 43371.0, 0.0, 0.013563933180990386, 2.1110887290578124, -16.384151619613043, -0.3377936836816856, 0.007994441653063001, 0.3727276742148207, 17.151380511488536\n",
      "$ tg_cood_z_5 <f64> 43371.0, 0.0, 0.006647653778136916, 0.27167131530639843, -4.669255244678936, -0.12535440686368335, 0.005778101377040489, 0.13498369236039046, 6.627250814254265\n",
      "\n",
      "None\n"
     ]
    }
   ],
   "source": [
    "target = utils.CoordinateTarget(prefix=\"tg_\")\n",
    "target.fit(tr_df)\n",
    "\n",
    "tg_df = target.transform(tr_df)\n",
    "print(tg_df.columns)\n",
    "print(tg_df.describe().glimpse())\n",
    "tr_df = pl.concat([tr_df, tg_df], how=\"horizontal\")"
   ]
  },
  {
   "cell_type": "markdown",
   "metadata": {},
   "source": [
    "## 特徴量"
   ]
  },
  {
   "cell_type": "code",
   "execution_count": 9,
   "metadata": {},
   "outputs": [
    {
     "name": "stdout",
     "output_type": "stream",
     "text": [
      "['ft_vEgo', 'ft_aEgo', 'ft_steeringAngleDeg', 'ft_steeringTorque', 'ft_brake', 'ft_brakePressed', 'ft_gas', 'ft_gasPressed', 'ft_is_gearShifter_drive', 'ft_is_gearShifter_neutral', 'ft_is_gearShifter_park', 'ft_is_gearShifter_reverse', 'ft_leftBlinker', 'ft_rightBlinker']\n",
      "Rows: 9\n",
      "Columns: 15\n",
      "$ statistic                 <str> 'count', 'null_count', 'mean', 'std', 'min', '25%', '50%', '75%', 'max'\n",
      "$ ft_vEgo                   <f64> 43371.0, 0.0, 9.172175823216334, 7.226919878374694, -0.1619189828634262, 2.5786657333374023, 8.518790245056152, 14.286815643310547, 27.55126190185547\n",
      "$ ft_aEgo                   <f64> 43371.0, 0.0, -0.015654028629347255, 0.6324016778486632, -4.936206340789795, -0.2363678514957428, -1.8347540436410405e-15, 0.22229795157909396, 3.1400704383850098\n",
      "$ ft_steeringAngleDeg       <f64> 43371.0, 0.0, -2.065172574071012, 65.54882159006848, -481.394287109375, -3.461754322052002, -0.35647091269493103, 2.6269068717956543, 484.69171142578125\n",
      "$ ft_steeringTorque         <f64> 43371.0, 0.0, -19.00954554886906, 110.79997057975086, -700.0, -94.0, -13.0, 51.0, 700.0\n",
      "$ ft_brake                  <f64> 43371.0, 0.0, 0.0, 0.0, 0.0, 0.0, 0.0, 0.0, 0.0\n",
      "$ ft_brakePressed           <f64> 43371.0, 0.0, 0.3076018537732586, 0.4615060824782501, 0.0, 0.0, 0.0, 1.0, 1.0\n",
      "$ ft_gas                    <f64> 43371.0, 0.0, 0.08400302036789904, 0.10983697747311577, 0.0, 0.0, 0.0, 0.16500000655651093, 0.915000021457672\n",
      "$ ft_gasPressed             <f64> 43371.0, 0.0, 0.48359502893638606, 0.499736565674716, 0.0, 0.0, 0.0, 1.0, 1.0\n",
      "$ ft_is_gearShifter_drive   <f64> 43371.0, 0.0, 0.9972331742408522, 0.0525284118710861, 0.0, 1.0, 1.0, 1.0, 1.0\n",
      "$ ft_is_gearShifter_neutral <f64> 43371.0, 0.0, 6.917064397869545e-05, 0.008316697312424556, 0.0, 0.0, 0.0, 0.0, 1.0\n",
      "$ ft_is_gearShifter_park    <f64> 43371.0, 0.0, 0.0026515413525166585, 0.051425398943978996, 0.0, 0.0, 0.0, 0.0, 1.0\n",
      "$ ft_is_gearShifter_reverse <f64> 43371.0, 0.0, 4.6113762652463626e-05, 0.006790633209678983, 0.0, 0.0, 0.0, 0.0, 1.0\n",
      "$ ft_leftBlinker            <f64> 43371.0, 0.0, 0.07795531576398976, 0.26810434878124423, 0.0, 0.0, 0.0, 0.0, 1.0\n",
      "$ ft_rightBlinker           <f64> 43371.0, 0.0, 0.10271840630836274, 0.3035942365298531, 0.0, 0.0, 0.0, 0.0, 1.0\n",
      "\n",
      "None\n",
      "['ft_vEgo', 'ft_aEgo', 'ft_steeringAngleDeg', 'ft_steeringTorque', 'ft_brake', 'ft_brakePressed', 'ft_gas', 'ft_gasPressed', 'ft_is_gearShifter_drive', 'ft_is_gearShifter_neutral', 'ft_is_gearShifter_park', 'ft_is_gearShifter_reverse', 'ft_leftBlinker', 'ft_rightBlinker']\n",
      "Rows: 9\n",
      "Columns: 15\n",
      "$ statistic                 <str> 'count', 'null_count', 'mean', 'std', 'min', '25%', '50%', '75%', 'max'\n",
      "$ ft_vEgo                   <f64> 1727.0, 0.0, 9.498940069707334, 7.23556621771096, -0.16705937683582306, 2.988953113555908, 9.076517105102539, 14.758581161499025, 27.206621170043945\n",
      "$ ft_aEgo                   <f64> 1727.0, 0.0, -0.02907723589981004, 0.6122087564658688, -3.8730378150939937, -0.2477388381958008, -9.617285944398328e-14, 0.21507366001605988, 2.6108293533325195\n",
      "$ ft_steeringAngleDeg       <f64> 1727.0, 0.0, -3.2302326968093227, 61.06931271098453, -441.5201416015625, -3.5669302940368652, -0.4708167612552643, 2.073073387145996, 483.0481872558594\n",
      "$ ft_steeringTorque         <f64> 1727.0, 0.0, -20.277359583092068, 113.92207330483267, -363.0, -97.0, -12.0, 53.0, 642.0\n",
      "$ ft_brake                  <f64> 1727.0, 0.0, 0.0, 0.0, 0.0, 0.0, 0.0, 0.0, 0.0\n",
      "$ ft_brakePressed           <f64> 1727.0, 0.0, 0.29530978575564565, 0.45631402026409756, 0.0, 0.0, 0.0, 1.0, 1.0\n",
      "$ ft_gas                    <f64> 1727.0, 0.0, 0.08316155173182142, 0.1095658974381894, 0.0, 0.0, 0.0, 0.1599999964237213, 0.5899999737739563\n",
      "$ ft_gasPressed             <f64> 1727.0, 0.0, 0.48870874348581356, 0.5000172769309245, 0.0, 0.0, 0.0, 1.0, 1.0\n",
      "$ ft_is_gearShifter_drive   <f64> 1727.0, 0.0, 0.9942096120440069, 0.07589594679254315, 0.0, 1.0, 1.0, 1.0, 1.0\n",
      "$ ft_is_gearShifter_neutral <f64> 1727.0, 0.0, 0.0, 0.0, 0.0, 0.0, 0.0, 0.0, 0.0\n",
      "$ ft_is_gearShifter_park    <f64> 1727.0, 0.0, 0.004632310364794441, 0.06792292304189239, 0.0, 0.0, 0.0, 0.0, 1.0\n",
      "$ ft_is_gearShifter_reverse <f64> 1727.0, 0.0, 0.0011580775911986102, 0.034020679458719075, 0.0, 0.0, 0.0, 0.0, 1.0\n",
      "$ ft_leftBlinker            <f64> 1727.0, 0.0, 0.07295888824551244, 0.26014433564008865, 0.0, 0.0, 0.0, 0.0, 1.0\n",
      "$ ft_rightBlinker           <f64> 1727.0, 0.0, 0.08569774174869717, 0.2799982765850711, 0.0, 0.0, 0.0, 0.0, 1.0\n",
      "\n",
      "None\n"
     ]
    }
   ],
   "source": [
    "feature = utils.Feature(prefix=\"ft_\")\n",
    "feature.fit(tr_df)\n",
    "\n",
    "ft_df = feature.transform(tr_df)\n",
    "print(ft_df.columns)\n",
    "print(ft_df.describe().glimpse())\n",
    "tr_df = pl.concat([tr_df, ft_df], how=\"horizontal\")\n",
    "\n",
    "ft_df = feature.transform(ts_df)\n",
    "print(ft_df.columns)\n",
    "print(ft_df.describe().glimpse())\n",
    "ts_df = pl.concat([ts_df, ft_df], how=\"horizontal\")"
   ]
  },
  {
   "cell_type": "markdown",
   "metadata": {},
   "source": [
    "## モデリング"
   ]
  },
  {
   "cell_type": "code",
   "execution_count": 10,
   "metadata": {},
   "outputs": [],
   "source": [
    "N_SPLITS = 2"
   ]
  },
  {
   "cell_type": "code",
   "execution_count": 11,
   "metadata": {},
   "outputs": [],
   "source": [
    "model_params = {\n",
    "    \"dnn\": {\n",
    "        \"n_img_channels\": 3 * 3,\n",
    "        \"n_features\": len(feature.columns),\n",
    "        \"n_targets\": len(target.columns),\n",
    "        \"segmentation_model_params\": {\n",
    "            \"encoder_name\": \"resnet18\",\n",
    "            \"encoder_weights\": \"imagenet\",\n",
    "            \"decoder_channels\": (256, 128, 64, 32, 16),\n",
    "        },\n",
    "        \"n_bins\": 100,\n",
    "    },\n",
    "    \"dev\": \"cuda\",\n",
    "}\n",
    "\n",
    "lr = 1e-4\n",
    "fit_params = {\n",
    "    \"target_scaler\": {\n",
    "        \"margin\": 0.05,\n",
    "    },\n",
    "    \"dnn\": {\n",
    "        \"tr_batch_size\": 128,\n",
    "        \"vl_batch_size\": 128,\n",
    "        \"trainer_params\": {\n",
    "            \"criterion_params\": {\"ref_bin_proba_sigma\": 0.025, \"dev\": \"cuda\"},\n",
    "            \"opt\": \"adamw\",\n",
    "            \"opt_params\": {\"lr\": lr, \"weight_decay\": 1e-4},\n",
    "            \"backbone_opt_params\": {\"lr\": lr, \"weight_decay\": 1e-4},\n",
    "            \"sch_params\": {\n",
    "                \"max_lr\": lr,\n",
    "                \"pct_start\": 0.1,\n",
    "                \"div_factor\": 25,\n",
    "                \"final_div_factor\": 1000,\n",
    "            },\n",
    "            \"epochs\": 40,\n",
    "            \"dev\": \"cuda\",\n",
    "            \"prefix\": \"\",\n",
    "            \"save_best\": False,\n",
    "            \"save_epochs\": [],\n",
    "            \"maximize_score\": False,\n",
    "            \"grad_max_norm\": None,\n",
    "        },\n",
    "    },\n",
    "}"
   ]
  },
  {
   "cell_type": "code",
   "execution_count": 12,
   "metadata": {},
   "outputs": [
    {
     "name": "stdout",
     "output_type": "stream",
     "text": [
      "-----------------\n",
      "-----------------\n",
      "Training fold 0...\n",
      "train samples: 21685, valid samples: 21686\n",
      "Save model : model.pth\n",
      "\n",
      "epoch  0\n",
      "lr  4.000000000000002e-06\n",
      "lr  4.000000000000002e-06\n",
      "lr  4.000000000000002e-06\n",
      "lr  4.000000000000002e-06\n"
     ]
    },
    {
     "name": "stderr",
     "output_type": "stream",
     "text": [
      "100%|██████████| 169/169 [00:08<00:00, 19.42it/s]\n",
      "100%|██████████| 170/170 [00:03<00:00, 46.67it/s]\n"
     ]
    },
    {
     "name": "stdout",
     "output_type": "stream",
     "text": [
      "\n",
      "Train Loss: 4.6202\n",
      "{'loss': 4.620208085641353, 'loss_bin_logit': 4.620208085641353}\n",
      "Valid Loss: 4.6077\n",
      "{'loss': 4.607689506867352, 'loss_bin_logit': 4.607689506867352}\n",
      "Update best score : 4.607689506867352\n",
      "Save model : model.pth\n",
      "\n",
      "epoch  1\n",
      "lr  1.8098389762600235e-05\n",
      "lr  1.8098389762600235e-05\n",
      "lr  1.8098389762600235e-05\n",
      "lr  1.8098389762600235e-05\n"
     ]
    },
    {
     "name": "stderr",
     "output_type": "stream",
     "text": [
      "100%|██████████| 169/169 [00:08<00:00, 21.02it/s]\n",
      "100%|██████████| 170/170 [00:03<00:00, 49.11it/s]\n"
     ]
    },
    {
     "name": "stdout",
     "output_type": "stream",
     "text": [
      "\n",
      "Train Loss: 4.5866\n",
      "{'loss': 4.586577265925661, 'loss_bin_logit': 4.586577265925661}\n",
      "Valid Loss: 4.5499\n",
      "{'loss': 4.549872392766616, 'loss_bin_logit': 4.549872392766616}\n",
      "Update best score : 4.549872392766616\n",
      "Save model : model.pth\n",
      "\n",
      "epoch  2\n",
      "lr  5.211170097130961e-05\n",
      "lr  5.211170097130961e-05\n",
      "lr  5.211170097130961e-05\n",
      "lr  5.211170097130961e-05\n"
     ]
    },
    {
     "name": "stderr",
     "output_type": "stream",
     "text": [
      "100%|██████████| 169/169 [00:07<00:00, 21.51it/s]\n",
      "100%|██████████| 170/170 [00:03<00:00, 49.86it/s]\n"
     ]
    },
    {
     "name": "stdout",
     "output_type": "stream",
     "text": [
      "\n",
      "Train Loss: 4.4796\n",
      "{'loss': 4.479640201704036, 'loss_bin_logit': 4.479640201704036}\n",
      "Valid Loss: 4.3847\n",
      "{'loss': 4.384651952631334, 'loss_bin_logit': 4.384651952631334}\n",
      "Update best score : 4.384651952631334\n",
      "Save model : model.pth\n",
      "\n",
      "epoch  3\n",
      "lr  8.6059395353753e-05\n",
      "lr  8.6059395353753e-05\n",
      "lr  8.6059395353753e-05\n",
      "lr  8.6059395353753e-05\n"
     ]
    },
    {
     "name": "stderr",
     "output_type": "stream",
     "text": [
      "100%|██████████| 169/169 [00:07<00:00, 21.57it/s]\n",
      "100%|██████████| 170/170 [00:03<00:00, 49.89it/s]\n"
     ]
    },
    {
     "name": "stdout",
     "output_type": "stream",
     "text": [
      "\n",
      "Train Loss: 4.2740\n",
      "{'loss': 4.273955187148596, 'loss_bin_logit': 4.273955187148596}\n",
      "Valid Loss: 4.1487\n",
      "{'loss': 4.148724668166217, 'loss_bin_logit': 4.148724668166217}\n",
      "Update best score : 4.148724668166217\n",
      "Save model : model.pth\n",
      "\n",
      "epoch  4\n",
      "lr  9.999999333432766e-05\n",
      "lr  9.999999333432766e-05\n",
      "lr  9.999999333432766e-05\n",
      "lr  9.999999333432766e-05\n"
     ]
    },
    {
     "name": "stderr",
     "output_type": "stream",
     "text": [
      "100%|██████████| 169/169 [00:07<00:00, 21.34it/s]\n",
      "100%|██████████| 170/170 [00:03<00:00, 49.65it/s]\n"
     ]
    },
    {
     "name": "stdout",
     "output_type": "stream",
     "text": [
      "\n",
      "Train Loss: 4.0404\n",
      "{'loss': 4.0404426952790935, 'loss_bin_logit': 4.0404426952790935}\n",
      "Valid Loss: 3.9310\n",
      "{'loss': 3.931015591060414, 'loss_bin_logit': 3.931015591060414}\n",
      "Update best score : 3.931015591060414\n",
      "Save model : model.pth\n",
      "\n",
      "epoch  5\n",
      "lr  9.980748573618664e-05\n",
      "lr  9.980748573618664e-05\n",
      "lr  9.980748573618664e-05\n",
      "lr  9.980748573618664e-05\n"
     ]
    },
    {
     "name": "stderr",
     "output_type": "stream",
     "text": [
      "100%|██████████| 169/169 [00:07<00:00, 21.28it/s]\n",
      "100%|██████████| 170/170 [00:03<00:00, 49.87it/s]\n"
     ]
    },
    {
     "name": "stdout",
     "output_type": "stream",
     "text": [
      "\n",
      "Train Loss: 3.8276\n",
      "{'loss': 3.8276105829949914, 'loss_bin_logit': 3.8276105829949914}\n",
      "Valid Loss: 3.7277\n",
      "{'loss': 3.7276726666618796, 'loss_bin_logit': 3.7276726666618796}\n",
      "Update best score : 3.7276726666618796\n",
      "Save model : model.pth\n",
      "\n",
      "epoch  6\n",
      "lr  9.92359283182187e-05\n",
      "lr  9.92359283182187e-05\n",
      "lr  9.92359283182187e-05\n",
      "lr  9.92359283182187e-05\n"
     ]
    },
    {
     "name": "stderr",
     "output_type": "stream",
     "text": [
      "100%|██████████| 169/169 [00:07<00:00, 21.32it/s]\n",
      "100%|██████████| 170/170 [00:03<00:00, 50.05it/s]\n"
     ]
    },
    {
     "name": "stdout",
     "output_type": "stream",
     "text": [
      "\n",
      "Train Loss: 3.6498\n",
      "{'loss': 3.6497511144220476, 'loss_bin_logit': 3.6497511144220476}\n",
      "Valid Loss: 3.5630\n",
      "{'loss': 3.5630028640522675, 'loss_bin_logit': 3.5630028640522675}\n",
      "Update best score : 3.5630028640522675\n",
      "Save model : model.pth\n",
      "\n",
      "epoch  7\n",
      "lr  9.828967097749041e-05\n",
      "lr  9.828967097749041e-05\n",
      "lr  9.828967097749041e-05\n",
      "lr  9.828967097749041e-05\n"
     ]
    },
    {
     "name": "stderr",
     "output_type": "stream",
     "text": [
      "100%|██████████| 169/169 [00:07<00:00, 21.44it/s]\n",
      "100%|██████████| 170/170 [00:03<00:00, 49.89it/s]\n"
     ]
    },
    {
     "name": "stdout",
     "output_type": "stream",
     "text": [
      "\n",
      "Train Loss: 3.5012\n",
      "{'loss': 3.501174857630532, 'loss_bin_logit': 3.501174857630532}\n",
      "Valid Loss: 3.4226\n",
      "{'loss': 3.422564948306364, 'loss_bin_logit': 3.422564948306364}\n",
      "Update best score : 3.422564948306364\n",
      "Save model : model.pth\n",
      "\n",
      "epoch  8\n",
      "lr  9.69759153037305e-05\n",
      "lr  9.69759153037305e-05\n",
      "lr  9.69759153037305e-05\n",
      "lr  9.69759153037305e-05\n"
     ]
    },
    {
     "name": "stderr",
     "output_type": "stream",
     "text": [
      "100%|██████████| 169/169 [00:07<00:00, 21.36it/s]\n",
      "100%|██████████| 170/170 [00:03<00:00, 49.68it/s]\n"
     ]
    },
    {
     "name": "stdout",
     "output_type": "stream",
     "text": [
      "\n",
      "Train Loss: 3.3793\n",
      "{'loss': 3.379330361383201, 'loss_bin_logit': 3.379330361383201}\n",
      "Valid Loss: 3.3214\n",
      "{'loss': 3.32136853722965, 'loss_bin_logit': 3.32136853722965}\n",
      "Update best score : 3.32136853722965\n",
      "Save model : model.pth\n",
      "\n",
      "epoch  9\n",
      "lr  9.530465977088365e-05\n",
      "lr  9.530465977088365e-05\n",
      "lr  9.530465977088365e-05\n",
      "lr  9.530465977088365e-05\n"
     ]
    },
    {
     "name": "stderr",
     "output_type": "stream",
     "text": [
      "100%|██████████| 169/169 [00:07<00:00, 21.41it/s]\n",
      "100%|██████████| 170/170 [00:03<00:00, 49.87it/s]\n"
     ]
    },
    {
     "name": "stdout",
     "output_type": "stream",
     "text": [
      "\n",
      "Train Loss: 3.2786\n",
      "{'loss': 3.2785860814991787, 'loss_bin_logit': 3.2785860814991787}\n",
      "Valid Loss: 3.2321\n",
      "{'loss': 3.2320775873520793, 'loss_bin_logit': 3.2320775873520793}\n",
      "Update best score : 3.2320775873520793\n",
      "Save model : model.pth\n",
      "\n",
      "epoch  10\n",
      "lr  9.32886236426865e-05\n",
      "lr  9.32886236426865e-05\n",
      "lr  9.32886236426865e-05\n",
      "lr  9.32886236426865e-05\n"
     ]
    },
    {
     "name": "stderr",
     "output_type": "stream",
     "text": [
      "100%|██████████| 169/169 [00:07<00:00, 21.57it/s]\n",
      "100%|██████████| 170/170 [00:03<00:00, 50.01it/s]\n"
     ]
    },
    {
     "name": "stdout",
     "output_type": "stream",
     "text": [
      "\n",
      "Train Loss: 3.1937\n",
      "{'loss': 3.1937097021813927, 'loss_bin_logit': 3.1937097021813927}\n",
      "Valid Loss: 3.1447\n",
      "{'loss': 3.1447271865956923, 'loss_bin_logit': 3.1447271865956923}\n",
      "Update best score : 3.1447271865956923\n",
      "Save model : model.pth\n",
      "\n",
      "epoch  11\n",
      "lr  9.094315017139055e-05\n",
      "lr  9.094315017139055e-05\n",
      "lr  9.094315017139055e-05\n",
      "lr  9.094315017139055e-05\n"
     ]
    },
    {
     "name": "stderr",
     "output_type": "stream",
     "text": [
      "100%|██████████| 169/169 [00:07<00:00, 21.41it/s]\n",
      "100%|██████████| 170/170 [00:03<00:00, 49.77it/s]\n"
     ]
    },
    {
     "name": "stdout",
     "output_type": "stream",
     "text": [
      "\n",
      "Train Loss: 3.1245\n",
      "{'loss': 3.124527172224056, 'loss_bin_logit': 3.124527172224056}\n",
      "Valid Loss: 3.0935\n",
      "{'loss': 3.0934594799490536, 'loss_bin_logit': 3.0934594799490536}\n",
      "Update best score : 3.0934594799490536\n",
      "Save model : model.pth\n",
      "\n",
      "epoch  12\n",
      "lr  8.828608982634794e-05\n",
      "lr  8.828608982634794e-05\n",
      "lr  8.828608982634794e-05\n",
      "lr  8.828608982634794e-05\n"
     ]
    },
    {
     "name": "stderr",
     "output_type": "stream",
     "text": [
      "100%|██████████| 169/169 [00:07<00:00, 21.38it/s]\n",
      "100%|██████████| 170/170 [00:03<00:00, 49.95it/s]\n"
     ]
    },
    {
     "name": "stdout",
     "output_type": "stream",
     "text": [
      "\n",
      "Train Loss: 3.0690\n",
      "{'loss': 3.068955690903071, 'loss_bin_logit': 3.068955690903071}\n",
      "Valid Loss: 3.0369\n",
      "{'loss': 3.0368865055196426, 'loss_bin_logit': 3.0368865055196426}\n",
      "Update best score : 3.0368865055196426\n",
      "Save model : model.pth\n",
      "\n",
      "epoch  13\n",
      "lr  8.533766444116135e-05\n",
      "lr  8.533766444116135e-05\n",
      "lr  8.533766444116135e-05\n",
      "lr  8.533766444116135e-05\n"
     ]
    },
    {
     "name": "stderr",
     "output_type": "stream",
     "text": [
      "100%|██████████| 169/169 [00:07<00:00, 21.31it/s]\n",
      "100%|██████████| 170/170 [00:03<00:00, 49.97it/s]\n"
     ]
    },
    {
     "name": "stdout",
     "output_type": "stream",
     "text": [
      "\n",
      "Train Loss: 3.0221\n",
      "{'loss': 3.022118380789221, 'loss_bin_logit': 3.022118380789221}\n",
      "Valid Loss: 2.9980\n",
      "{'loss': 2.9979512817719405, 'loss_bin_logit': 2.9979512817719405}\n",
      "Update best score : 2.9979512817719405\n",
      "Save model : model.pth\n",
      "\n",
      "epoch  14\n",
      "lr  8.212031331331998e-05\n",
      "lr  8.212031331331998e-05\n",
      "lr  8.212031331331998e-05\n",
      "lr  8.212031331331998e-05\n"
     ]
    },
    {
     "name": "stderr",
     "output_type": "stream",
     "text": [
      "100%|██████████| 169/169 [00:07<00:00, 21.35it/s]\n",
      "100%|██████████| 170/170 [00:03<00:00, 49.29it/s]\n"
     ]
    },
    {
     "name": "stdout",
     "output_type": "stream",
     "text": [
      "\n",
      "Train Loss: 2.9824\n",
      "{'loss': 2.9824015134890405, 'loss_bin_logit': 2.9824015134890405}\n",
      "Valid Loss: 2.9617\n",
      "{'loss': 2.9616778023102706, 'loss_bin_logit': 2.9616778023102706}\n",
      "Update best score : 2.9616778023102706\n",
      "Save model : model.pth\n",
      "\n",
      "epoch  15\n",
      "lr  7.865852242759644e-05\n",
      "lr  7.865852242759644e-05\n",
      "lr  7.865852242759644e-05\n",
      "lr  7.865852242759644e-05\n"
     ]
    },
    {
     "name": "stderr",
     "output_type": "stream",
     "text": [
      "100%|██████████| 169/169 [00:07<00:00, 21.24it/s]\n",
      "100%|██████████| 170/170 [00:03<00:00, 49.92it/s]\n"
     ]
    },
    {
     "name": "stdout",
     "output_type": "stream",
     "text": [
      "\n",
      "Train Loss: 2.9493\n",
      "{'loss': 2.949309274289735, 'loss_bin_logit': 2.949309274289735}\n",
      "Valid Loss: 2.9278\n",
      "{'loss': 2.9277531637864955, 'loss_bin_logit': 2.9277531637864955}\n",
      "Update best score : 2.9277531637864955\n",
      "Save model : model.pth\n",
      "\n",
      "epoch  16\n",
      "lr  7.497863810291755e-05\n",
      "lr  7.497863810291755e-05\n",
      "lr  7.497863810291755e-05\n",
      "lr  7.497863810291755e-05\n"
     ]
    },
    {
     "name": "stderr",
     "output_type": "stream",
     "text": [
      "100%|██████████| 169/169 [00:07<00:00, 21.26it/s]\n",
      "100%|██████████| 170/170 [00:03<00:00, 49.79it/s]\n"
     ]
    },
    {
     "name": "stdout",
     "output_type": "stream",
     "text": [
      "\n",
      "Train Loss: 2.9182\n",
      "{'loss': 2.9182338277263753, 'loss_bin_logit': 2.9182338277263753}\n",
      "Valid Loss: 2.9012\n",
      "{'loss': 2.901165441905751, 'loss_bin_logit': 2.901165441905751}\n",
      "Update best score : 2.901165441905751\n",
      "Save model : model.pth\n",
      "\n",
      "epoch  17\n",
      "lr  7.110866648096904e-05\n",
      "lr  7.110866648096904e-05\n",
      "lr  7.110866648096904e-05\n",
      "lr  7.110866648096904e-05\n"
     ]
    },
    {
     "name": "stderr",
     "output_type": "stream",
     "text": [
      "100%|██████████| 169/169 [00:08<00:00, 21.00it/s]\n",
      "100%|██████████| 170/170 [00:03<00:00, 47.94it/s]\n"
     ]
    },
    {
     "name": "stdout",
     "output_type": "stream",
     "text": [
      "\n",
      "Train Loss: 2.8905\n",
      "{'loss': 2.89046081706617, 'loss_bin_logit': 2.89046081706617}\n",
      "Valid Loss: 2.8766\n",
      "{'loss': 2.8766108050065884, 'loss_bin_logit': 2.8766108050065884}\n",
      "Update best score : 2.8766108050065884\n",
      "Save model : model.pth\n",
      "\n",
      "epoch  18\n",
      "lr  6.707806038254668e-05\n",
      "lr  6.707806038254668e-05\n",
      "lr  6.707806038254668e-05\n",
      "lr  6.707806038254668e-05\n"
     ]
    },
    {
     "name": "stderr",
     "output_type": "stream",
     "text": [
      "100%|██████████| 169/169 [00:08<00:00, 20.96it/s]\n",
      "100%|██████████| 170/170 [00:03<00:00, 48.27it/s]\n"
     ]
    },
    {
     "name": "stdout",
     "output_type": "stream",
     "text": [
      "\n",
      "Train Loss: 2.8674\n",
      "{'loss': 2.8673741253170038, 'loss_bin_logit': 2.8673741253170038}\n",
      "Valid Loss: 2.8592\n",
      "{'loss': 2.8591860799228446, 'loss_bin_logit': 2.8591860799228446}\n",
      "Update best score : 2.8591860799228446\n",
      "Save model : model.pth\n",
      "\n",
      "epoch  19\n",
      "lr  6.291749515380597e-05\n",
      "lr  6.291749515380597e-05\n",
      "lr  6.291749515380597e-05\n",
      "lr  6.291749515380597e-05\n"
     ]
    },
    {
     "name": "stderr",
     "output_type": "stream",
     "text": [
      "100%|██████████| 169/169 [00:08<00:00, 20.98it/s]\n",
      "100%|██████████| 170/170 [00:03<00:00, 47.99it/s]\n"
     ]
    },
    {
     "name": "stdout",
     "output_type": "stream",
     "text": [
      "\n",
      "Train Loss: 2.8475\n",
      "{'loss': 2.847546361607207, 'loss_bin_logit': 2.847546361607207}\n",
      "Valid Loss: 2.8433\n",
      "{'loss': 2.8433480234707105, 'loss_bin_logit': 2.8433480234707105}\n",
      "Update best score : 2.8433480234707105\n",
      "Save model : model.pth\n",
      "\n",
      "epoch  20\n",
      "lr  5.8658635208355614e-05\n",
      "lr  5.8658635208355614e-05\n",
      "lr  5.8658635208355614e-05\n",
      "lr  5.8658635208355614e-05\n"
     ]
    },
    {
     "name": "stderr",
     "output_type": "stream",
     "text": [
      "100%|██████████| 169/169 [00:08<00:00, 20.86it/s]\n",
      "100%|██████████| 170/170 [00:03<00:00, 48.55it/s]\n"
     ]
    },
    {
     "name": "stdout",
     "output_type": "stream",
     "text": [
      "\n",
      "Train Loss: 2.8314\n",
      "{'loss': 2.8314086586765987, 'loss_bin_logit': 2.8314086586765987}\n",
      "Valid Loss: 2.8243\n",
      "{'loss': 2.8242701292037964, 'loss_bin_logit': 2.8242701292037964}\n",
      "Update best score : 2.8242701292037964\n",
      "Save model : model.pth\n",
      "\n",
      "epoch  21\n",
      "lr  5.433389304195041e-05\n",
      "lr  5.433389304195041e-05\n",
      "lr  5.433389304195041e-05\n",
      "lr  5.433389304195041e-05\n"
     ]
    },
    {
     "name": "stderr",
     "output_type": "stream",
     "text": [
      "100%|██████████| 169/169 [00:08<00:00, 20.85it/s]\n",
      "100%|██████████| 170/170 [00:03<00:00, 48.40it/s]\n"
     ]
    },
    {
     "name": "stdout",
     "output_type": "stream",
     "text": [
      "\n",
      "Train Loss: 2.8160\n",
      "{'loss': 2.816012467152974, 'loss_bin_logit': 2.816012467152974}\n",
      "Valid Loss: 2.8133\n",
      "{'loss': 2.8132573464337516, 'loss_bin_logit': 2.8132573464337516}\n",
      "Update best score : 2.8132573464337516\n",
      "Save model : model.pth\n",
      "\n",
      "epoch  22\n",
      "lr  4.9976182553827446e-05\n",
      "lr  4.9976182553827446e-05\n",
      "lr  4.9976182553827446e-05\n",
      "lr  4.9976182553827446e-05\n"
     ]
    },
    {
     "name": "stderr",
     "output_type": "stream",
     "text": [
      "100%|██████████| 169/169 [00:08<00:00, 21.01it/s]\n",
      "100%|██████████| 170/170 [00:03<00:00, 48.59it/s]\n"
     ]
    },
    {
     "name": "stdout",
     "output_type": "stream",
     "text": [
      "\n",
      "Train Loss: 2.8019\n",
      "{'loss': 2.801944052679299, 'loss_bin_logit': 2.801944052679299}\n",
      "Valid Loss: 2.8019\n",
      "{'loss': 2.801949704394621, 'loss_bin_logit': 2.801949704394621}\n",
      "Update best score : 2.801949704394621\n",
      "Save model : model.pth\n",
      "\n",
      "epoch  23\n",
      "lr  4.5618668552058836e-05\n",
      "lr  4.5618668552058836e-05\n",
      "lr  4.5618668552058836e-05\n",
      "lr  4.5618668552058836e-05\n"
     ]
    },
    {
     "name": "stderr",
     "output_type": "stream",
     "text": [
      "100%|██████████| 169/169 [00:08<00:00, 20.94it/s]\n",
      "100%|██████████| 170/170 [00:03<00:00, 48.62it/s]\n"
     ]
    },
    {
     "name": "stdout",
     "output_type": "stream",
     "text": [
      "\n",
      "Train Loss: 2.7898\n",
      "{'loss': 2.7897816974030443, 'loss_bin_logit': 2.7897816974030443}\n",
      "Valid Loss: 2.7909\n",
      "{'loss': 2.790888274417204, 'loss_bin_logit': 2.790888274417204}\n",
      "Update best score : 2.790888274417204\n",
      "Save model : model.pth\n",
      "\n",
      "epoch  24\n",
      "lr  4.1294514349336954e-05\n",
      "lr  4.1294514349336954e-05\n",
      "lr  4.1294514349336954e-05\n",
      "lr  4.1294514349336954e-05\n"
     ]
    },
    {
     "name": "stderr",
     "output_type": "stream",
     "text": [
      "100%|██████████| 169/169 [00:08<00:00, 20.96it/s]\n",
      "100%|██████████| 170/170 [00:03<00:00, 48.35it/s]\n"
     ]
    },
    {
     "name": "stdout",
     "output_type": "stream",
     "text": [
      "\n",
      "Train Loss: 2.7795\n",
      "{'loss': 2.779483865704057, 'loss_bin_logit': 2.779483865704057}\n",
      "Valid Loss: 2.7822\n",
      "{'loss': 2.7822436346727257, 'loss_bin_logit': 2.7822436346727257}\n",
      "Update best score : 2.7822436346727257\n",
      "Save model : model.pth\n",
      "\n",
      "epoch  25\n",
      "lr  3.7036629370140214e-05\n",
      "lr  3.7036629370140214e-05\n",
      "lr  3.7036629370140214e-05\n",
      "lr  3.7036629370140214e-05\n"
     ]
    },
    {
     "name": "stderr",
     "output_type": "stream",
     "text": [
      "100%|██████████| 169/169 [00:08<00:00, 20.92it/s]\n",
      "100%|██████████| 170/170 [00:03<00:00, 48.50it/s]\n"
     ]
    },
    {
     "name": "stdout",
     "output_type": "stream",
     "text": [
      "\n",
      "Train Loss: 2.7700\n",
      "{'loss': 2.7700460577857564, 'loss_bin_logit': 2.7700460577857564}\n",
      "Valid Loss: 2.7743\n",
      "{'loss': 2.774250726138844, 'loss_bin_logit': 2.774250726138844}\n",
      "Update best score : 2.774250726138844\n",
      "Save model : model.pth\n",
      "\n",
      "epoch  26\n",
      "lr  3.287741869014153e-05\n",
      "lr  3.287741869014153e-05\n",
      "lr  3.287741869014153e-05\n",
      "lr  3.287741869014153e-05\n"
     ]
    },
    {
     "name": "stderr",
     "output_type": "stream",
     "text": [
      "100%|██████████| 169/169 [00:08<00:00, 20.88it/s]\n",
      "100%|██████████| 170/170 [00:03<00:00, 48.55it/s]\n"
     ]
    },
    {
     "name": "stdout",
     "output_type": "stream",
     "text": [
      "\n",
      "Train Loss: 2.7626\n",
      "{'loss': 2.7625589497696015, 'loss_bin_logit': 2.7625589497696015}\n",
      "Valid Loss: 2.7689\n",
      "{'loss': 2.7688581957536584, 'loss_bin_logit': 2.7688581957536584}\n",
      "Update best score : 2.7688581957536584\n",
      "Save model : model.pth\n",
      "\n",
      "epoch  27\n",
      "lr  2.8848536414015768e-05\n",
      "lr  2.8848536414015768e-05\n",
      "lr  2.8848536414015768e-05\n",
      "lr  2.8848536414015768e-05\n"
     ]
    },
    {
     "name": "stderr",
     "output_type": "stream",
     "text": [
      "100%|██████████| 169/169 [00:08<00:00, 20.75it/s]\n",
      "100%|██████████| 170/170 [00:03<00:00, 48.67it/s]\n"
     ]
    },
    {
     "name": "stdout",
     "output_type": "stream",
     "text": [
      "\n",
      "Train Loss: 2.7560\n",
      "{'loss': 2.7560027421578854, 'loss_bin_logit': 2.7560027421578854}\n",
      "Valid Loss: 2.7623\n",
      "{'loss': 2.7622696974698235, 'loss_bin_logit': 2.7622696974698235}\n",
      "Update best score : 2.7622696974698235\n",
      "Save model : model.pth\n",
      "\n",
      "epoch  28\n",
      "lr  2.4980644768589897e-05\n",
      "lr  2.4980644768589897e-05\n",
      "lr  2.4980644768589897e-05\n",
      "lr  2.4980644768589897e-05\n"
     ]
    },
    {
     "name": "stderr",
     "output_type": "stream",
     "text": [
      "100%|██████████| 169/169 [00:08<00:00, 20.72it/s]\n",
      "100%|██████████| 170/170 [00:03<00:00, 48.09it/s]\n"
     ]
    },
    {
     "name": "stdout",
     "output_type": "stream",
     "text": [
      "\n",
      "Train Loss: 2.7498\n",
      "{'loss': 2.749798441779684, 'loss_bin_logit': 2.749798441779684}\n",
      "Valid Loss: 2.7586\n",
      "{'loss': 2.7586284903918994, 'loss_bin_logit': 2.7586284903918994}\n",
      "Update best score : 2.7586284903918994\n",
      "Save model : model.pth\n",
      "\n",
      "epoch  29\n",
      "lr  2.1303180744782415e-05\n",
      "lr  2.1303180744782415e-05\n",
      "lr  2.1303180744782415e-05\n",
      "lr  2.1303180744782415e-05\n"
     ]
    },
    {
     "name": "stderr",
     "output_type": "stream",
     "text": [
      "100%|██████████| 169/169 [00:08<00:00, 20.83it/s]\n",
      "100%|██████████| 170/170 [00:03<00:00, 48.69it/s]\n"
     ]
    },
    {
     "name": "stdout",
     "output_type": "stream",
     "text": [
      "\n",
      "Train Loss: 2.7454\n",
      "{'loss': 2.7453554240909552, 'loss_bin_logit': 2.7453554240909552}\n",
      "Valid Loss: 2.7550\n",
      "{'loss': 2.7549577713012696, 'loss_bin_logit': 2.7549577713012696}\n",
      "Update best score : 2.7549577713012696\n",
      "Save model : model.pth\n",
      "\n",
      "epoch  30\n",
      "lr  1.784413206432799e-05\n",
      "lr  1.784413206432799e-05\n",
      "lr  1.784413206432799e-05\n",
      "lr  1.784413206432799e-05\n"
     ]
    },
    {
     "name": "stderr",
     "output_type": "stream",
     "text": [
      "100%|██████████| 169/169 [00:08<00:00, 20.82it/s]\n",
      "100%|██████████| 170/170 [00:03<00:00, 48.44it/s]\n"
     ]
    },
    {
     "name": "stdout",
     "output_type": "stream",
     "text": [
      "\n",
      "Train Loss: 2.7405\n",
      "{'loss': 2.7405104735899255, 'loss_bin_logit': 2.7405104735899255}\n",
      "Valid Loss: 2.7511\n",
      "{'loss': 2.7510839840945076, 'loss_bin_logit': 2.7510839840945076}\n",
      "Update best score : 2.7510839840945076\n",
      "Save model : model.pth\n",
      "\n",
      "epoch  31\n",
      "lr  1.4629824176315567e-05\n",
      "lr  1.4629824176315567e-05\n",
      "lr  1.4629824176315567e-05\n",
      "lr  1.4629824176315567e-05\n"
     ]
    },
    {
     "name": "stderr",
     "output_type": "stream",
     "text": [
      "100%|██████████| 169/169 [00:08<00:00, 20.92it/s]\n",
      "100%|██████████| 170/170 [00:03<00:00, 48.26it/s]\n"
     ]
    },
    {
     "name": "stdout",
     "output_type": "stream",
     "text": [
      "\n",
      "Train Loss: 2.7364\n",
      "{'loss': 2.7363886466393104, 'loss_bin_logit': 2.7363886466393104}\n",
      "Valid Loss: 2.7477\n",
      "{'loss': 2.7476672761580523, 'loss_bin_logit': 2.7476672761580523}\n",
      "Update best score : 2.7476672761580523\n",
      "Save model : model.pth\n",
      "\n",
      "epoch  32\n",
      "lr  1.1684719904625122e-05\n",
      "lr  1.1684719904625122e-05\n",
      "lr  1.1684719904625122e-05\n",
      "lr  1.1684719904625122e-05\n"
     ]
    },
    {
     "name": "stderr",
     "output_type": "stream",
     "text": [
      "100%|██████████| 169/169 [00:08<00:00, 20.94it/s]\n",
      "100%|██████████| 170/170 [00:03<00:00, 48.31it/s]\n"
     ]
    },
    {
     "name": "stdout",
     "output_type": "stream",
     "text": [
      "\n",
      "Train Loss: 2.7348\n",
      "{'loss': 2.7348263969082804, 'loss_bin_logit': 2.7348263969082804}\n",
      "Valid Loss: 2.7462\n",
      "{'loss': 2.7461845678441663, 'loss_bin_logit': 2.7461845678441663}\n",
      "Update best score : 2.7461845678441663\n",
      "Save model : model.pth\n",
      "\n",
      "epoch  33\n",
      "lr  9.03123327106677e-06\n",
      "lr  9.03123327106677e-06\n",
      "lr  9.03123327106677e-06\n",
      "lr  9.03123327106677e-06\n"
     ]
    },
    {
     "name": "stderr",
     "output_type": "stream",
     "text": [
      "100%|██████████| 169/169 [00:08<00:00, 20.96it/s]\n",
      "100%|██████████| 170/170 [00:03<00:00, 48.58it/s]\n"
     ]
    },
    {
     "name": "stdout",
     "output_type": "stream",
     "text": [
      "\n",
      "Train Loss: 2.7326\n",
      "{'loss': 2.7326042680345344, 'loss_bin_logit': 2.7326042680345344}\n",
      "Valid Loss: 2.7446\n",
      "{'loss': 2.7445916554507086, 'loss_bin_logit': 2.7445916554507086}\n",
      "Update best score : 2.7445916554507086\n",
      "Save model : model.pth\n",
      "\n",
      "epoch  34\n",
      "lr  6.6895589111409285e-06\n",
      "lr  6.6895589111409285e-06\n",
      "lr  6.6895589111409285e-06\n",
      "lr  6.6895589111409285e-06\n"
     ]
    },
    {
     "name": "stderr",
     "output_type": "stream",
     "text": [
      "100%|██████████| 169/169 [00:08<00:00, 20.88it/s]\n",
      "100%|██████████| 170/170 [00:03<00:00, 48.01it/s]\n"
     ]
    },
    {
     "name": "stdout",
     "output_type": "stream",
     "text": [
      "\n",
      "Train Loss: 2.7308\n",
      "{'loss': 2.730810951199052, 'loss_bin_logit': 2.730810951199052}\n",
      "Valid Loss: 2.7439\n",
      "{'loss': 2.743852132909438, 'loss_bin_logit': 2.743852132909438}\n",
      "Update best score : 2.743852132909438\n",
      "Save model : model.pth\n",
      "\n",
      "epoch  35\n",
      "lr  4.67751838066829e-06\n",
      "lr  4.67751838066829e-06\n",
      "lr  4.67751838066829e-06\n",
      "lr  4.67751838066829e-06\n"
     ]
    },
    {
     "name": "stderr",
     "output_type": "stream",
     "text": [
      "100%|██████████| 169/169 [00:08<00:00, 20.95it/s]\n",
      "100%|██████████| 170/170 [00:03<00:00, 48.31it/s]\n"
     ]
    },
    {
     "name": "stdout",
     "output_type": "stream",
     "text": [
      "\n",
      "Train Loss: 2.7285\n",
      "{'loss': 2.7285457616727027, 'loss_bin_logit': 2.7285457616727027}\n",
      "Valid Loss: 2.7424\n",
      "{'loss': 2.7423731200835286, 'loss_bin_logit': 2.7423731200835286}\n",
      "Update best score : 2.7423731200835286\n",
      "Save model : model.pth\n",
      "\n",
      "epoch  36\n",
      "lr  3.0104245229890217e-06\n",
      "lr  3.0104245229890217e-06\n",
      "lr  3.0104245229890217e-06\n",
      "lr  3.0104245229890217e-06\n"
     ]
    },
    {
     "name": "stderr",
     "output_type": "stream",
     "text": [
      "100%|██████████| 169/169 [00:08<00:00, 21.08it/s]\n",
      "100%|██████████| 170/170 [00:03<00:00, 48.04it/s]\n"
     ]
    },
    {
     "name": "stdout",
     "output_type": "stream",
     "text": [
      "\n",
      "Train Loss: 2.7285\n",
      "{'loss': 2.728504869359485, 'loss_bin_logit': 2.728504869359485}\n",
      "Valid Loss: 2.7429\n",
      "{'loss': 2.7429263086879954, 'loss_bin_logit': 2.7429263086879954}\n",
      "Save model : model.pth\n",
      "\n",
      "epoch  37\n",
      "lr  1.7009649289788598e-06\n",
      "lr  1.7009649289788598e-06\n",
      "lr  1.7009649289788598e-06\n",
      "lr  1.7009649289788598e-06\n"
     ]
    },
    {
     "name": "stderr",
     "output_type": "stream",
     "text": [
      "100%|██████████| 169/169 [00:08<00:00, 21.11it/s]\n",
      "100%|██████████| 170/170 [00:03<00:00, 48.70it/s]\n"
     ]
    },
    {
     "name": "stdout",
     "output_type": "stream",
     "text": [
      "\n",
      "Train Loss: 2.7286\n",
      "{'loss': 2.7286016165152103, 'loss_bin_logit': 2.7286016165152103}\n",
      "Valid Loss: 2.7420\n",
      "{'loss': 2.7420309291166416, 'loss_bin_logit': 2.7420309291166416}\n",
      "Update best score : 2.7420309291166416\n",
      "Save model : model.pth\n",
      "\n",
      "epoch  38\n",
      "lr  7.591053768215416e-07\n",
      "lr  7.591053768215416e-07\n",
      "lr  7.591053768215416e-07\n",
      "lr  7.591053768215416e-07\n"
     ]
    },
    {
     "name": "stderr",
     "output_type": "stream",
     "text": [
      "100%|██████████| 169/169 [00:07<00:00, 21.14it/s]\n",
      "100%|██████████| 170/170 [00:03<00:00, 49.12it/s]\n"
     ]
    },
    {
     "name": "stdout",
     "output_type": "stream",
     "text": [
      "\n",
      "Train Loss: 2.7281\n",
      "{'loss': 2.728108984478832, 'loss_bin_logit': 2.728108984478832}\n",
      "Valid Loss: 2.7426\n",
      "{'loss': 2.742551998531117, 'loss_bin_logit': 2.742551998531117}\n",
      "Save model : model.pth\n",
      "\n",
      "epoch  39\n",
      "lr  1.9201398641933757e-07\n",
      "lr  1.9201398641933757e-07\n",
      "lr  1.9201398641933757e-07\n",
      "lr  1.9201398641933757e-07\n"
     ]
    },
    {
     "name": "stderr",
     "output_type": "stream",
     "text": [
      "100%|██████████| 169/169 [00:07<00:00, 21.14it/s]\n",
      "100%|██████████| 170/170 [00:03<00:00, 49.04it/s]\n",
      "/home/tatsuya/projects/atmacup/atmacup_18/experiments/main/v00/v00_02_00/utils.py:1007: FutureWarning: You are using `torch.load` with `weights_only=False` (the current default value), which uses the default pickle module implicitly. It is possible to construct malicious pickle data which will execute arbitrary code during unpickling (See https://github.com/pytorch/pytorch/blob/main/SECURITY.md#untrusted-models for more details). In a future release, the default value for `weights_only` will be flipped to `True`. This limits the functions that could be executed during unpickling. Arbitrary objects will no longer be allowed to be loaded via this mode unless they are explicitly allowlisted by the user via `torch.serialization.add_safe_globals`. We recommend you start setting `weights_only=True` for any use case where you don't have full control of the loaded file. Please open an issue on GitHub for any issues related to this experimental feature.\n",
      "  model.load_state_dict(torch.load(model_path))\n"
     ]
    },
    {
     "name": "stdout",
     "output_type": "stream",
     "text": [
      "\n",
      "Train Loss: 2.7274\n",
      "{'loss': 2.7273661257952626, 'loss_bin_logit': 2.7273661257952626}\n",
      "Valid Loss: 2.7425\n",
      "{'loss': 2.742488469797022, 'loss_bin_logit': 2.742488469797022}\n",
      "Save model : model.pth\n",
      "-----------------\n",
      "-----------------\n",
      "Training fold 1...\n",
      "train samples: 21686, valid samples: 21685\n",
      "Save model : model.pth\n",
      "\n",
      "epoch  0\n",
      "lr  4.000000000000002e-06\n",
      "lr  4.000000000000002e-06\n",
      "lr  4.000000000000002e-06\n",
      "lr  4.000000000000002e-06\n"
     ]
    },
    {
     "name": "stderr",
     "output_type": "stream",
     "text": [
      "100%|██████████| 169/169 [00:08<00:00, 19.99it/s]\n",
      "100%|██████████| 170/170 [00:03<00:00, 42.56it/s]\n"
     ]
    },
    {
     "name": "stdout",
     "output_type": "stream",
     "text": [
      "\n",
      "Train Loss: 4.6230\n",
      "{'loss': 4.6229939545400045, 'loss_bin_logit': 4.6229939545400045}\n",
      "Valid Loss: 4.6091\n",
      "{'loss': 4.609100787779864, 'loss_bin_logit': 4.609100787779864}\n",
      "Update best score : 4.609100787779864\n",
      "Save model : model.pth\n",
      "\n",
      "epoch  1\n",
      "lr  1.8098389762600235e-05\n",
      "lr  1.8098389762600235e-05\n",
      "lr  1.8098389762600235e-05\n",
      "lr  1.8098389762600235e-05\n"
     ]
    },
    {
     "name": "stderr",
     "output_type": "stream",
     "text": [
      "100%|██████████| 169/169 [00:08<00:00, 20.75it/s]\n",
      "100%|██████████| 170/170 [00:03<00:00, 48.72it/s]\n"
     ]
    },
    {
     "name": "stdout",
     "output_type": "stream",
     "text": [
      "\n",
      "Train Loss: 4.5890\n",
      "{'loss': 4.588984622052435, 'loss_bin_logit': 4.588984622052435}\n",
      "Valid Loss: 4.5582\n",
      "{'loss': 4.558213733224308, 'loss_bin_logit': 4.558213733224308}\n",
      "Update best score : 4.558213733224308\n",
      "Save model : model.pth\n",
      "\n",
      "epoch  2\n",
      "lr  5.211170097130961e-05\n",
      "lr  5.211170097130961e-05\n",
      "lr  5.211170097130961e-05\n",
      "lr  5.211170097130961e-05\n"
     ]
    },
    {
     "name": "stderr",
     "output_type": "stream",
     "text": [
      "100%|██████████| 169/169 [00:08<00:00, 21.00it/s]\n",
      "100%|██████████| 170/170 [00:03<00:00, 48.29it/s]\n"
     ]
    },
    {
     "name": "stdout",
     "output_type": "stream",
     "text": [
      "\n",
      "Train Loss: 4.4935\n",
      "{'loss': 4.493451174899671, 'loss_bin_logit': 4.493451174899671}\n",
      "Valid Loss: 4.4044\n",
      "{'loss': 4.404409531986012, 'loss_bin_logit': 4.404409531986012}\n",
      "Update best score : 4.404409531986012\n",
      "Save model : model.pth\n",
      "\n",
      "epoch  3\n",
      "lr  8.6059395353753e-05\n",
      "lr  8.6059395353753e-05\n",
      "lr  8.6059395353753e-05\n",
      "lr  8.6059395353753e-05\n"
     ]
    },
    {
     "name": "stderr",
     "output_type": "stream",
     "text": [
      "100%|██████████| 169/169 [00:08<00:00, 21.06it/s]\n",
      "100%|██████████| 170/170 [00:03<00:00, 48.32it/s]\n"
     ]
    },
    {
     "name": "stdout",
     "output_type": "stream",
     "text": [
      "\n",
      "Train Loss: 4.2784\n",
      "{'loss': 4.278350192414233, 'loss_bin_logit': 4.278350192414233}\n",
      "Valid Loss: 4.1503\n",
      "{'loss': 4.150280576593736, 'loss_bin_logit': 4.150280576593736}\n",
      "Update best score : 4.150280576593736\n",
      "Save model : model.pth\n",
      "\n",
      "epoch  4\n",
      "lr  9.999999333432766e-05\n",
      "lr  9.999999333432766e-05\n",
      "lr  9.999999333432766e-05\n",
      "lr  9.999999333432766e-05\n"
     ]
    },
    {
     "name": "stderr",
     "output_type": "stream",
     "text": [
      "100%|██████████| 169/169 [00:08<00:00, 20.92it/s]\n",
      "100%|██████████| 170/170 [00:03<00:00, 48.27it/s]\n"
     ]
    },
    {
     "name": "stdout",
     "output_type": "stream",
     "text": [
      "\n",
      "Train Loss: 4.0295\n",
      "{'loss': 4.029450237398317, 'loss_bin_logit': 4.029450237398317}\n",
      "Valid Loss: 3.9077\n",
      "{'loss': 3.907675601454342, 'loss_bin_logit': 3.907675601454342}\n",
      "Update best score : 3.907675601454342\n",
      "Save model : model.pth\n",
      "\n",
      "epoch  5\n",
      "lr  9.980748573618664e-05\n",
      "lr  9.980748573618664e-05\n",
      "lr  9.980748573618664e-05\n",
      "lr  9.980748573618664e-05\n"
     ]
    },
    {
     "name": "stderr",
     "output_type": "stream",
     "text": [
      "100%|██████████| 169/169 [00:08<00:00, 20.87it/s]\n",
      "100%|██████████| 170/170 [00:03<00:00, 48.35it/s]\n"
     ]
    },
    {
     "name": "stdout",
     "output_type": "stream",
     "text": [
      "\n",
      "Train Loss: 3.8098\n",
      "{'loss': 3.8097985242245467, 'loss_bin_logit': 3.8097985242245467}\n",
      "Valid Loss: 3.7057\n",
      "{'loss': 3.705673311738407, 'loss_bin_logit': 3.705673311738407}\n",
      "Update best score : 3.705673311738407\n",
      "Save model : model.pth\n",
      "\n",
      "epoch  6\n",
      "lr  9.92359283182187e-05\n",
      "lr  9.92359283182187e-05\n",
      "lr  9.92359283182187e-05\n",
      "lr  9.92359283182187e-05\n"
     ]
    },
    {
     "name": "stderr",
     "output_type": "stream",
     "text": [
      "100%|██████████| 169/169 [00:08<00:00, 20.91it/s]\n",
      "100%|██████████| 170/170 [00:03<00:00, 48.52it/s]\n"
     ]
    },
    {
     "name": "stdout",
     "output_type": "stream",
     "text": [
      "\n",
      "Train Loss: 3.6249\n",
      "{'loss': 3.6248904403144793, 'loss_bin_logit': 3.6248904403144793}\n",
      "Valid Loss: 3.5374\n",
      "{'loss': 3.5374182126101323, 'loss_bin_logit': 3.5374182126101323}\n",
      "Update best score : 3.5374182126101323\n",
      "Save model : model.pth\n",
      "\n",
      "epoch  7\n",
      "lr  9.828967097749041e-05\n",
      "lr  9.828967097749041e-05\n",
      "lr  9.828967097749041e-05\n",
      "lr  9.828967097749041e-05\n"
     ]
    },
    {
     "name": "stderr",
     "output_type": "stream",
     "text": [
      "100%|██████████| 169/169 [00:08<00:00, 20.96it/s]\n",
      "100%|██████████| 170/170 [00:03<00:00, 48.53it/s]\n"
     ]
    },
    {
     "name": "stdout",
     "output_type": "stream",
     "text": [
      "\n",
      "Train Loss: 3.4723\n",
      "{'loss': 3.4723419141487257, 'loss_bin_logit': 3.4723419141487257}\n",
      "Valid Loss: 3.4025\n",
      "{'loss': 3.4024856034447164, 'loss_bin_logit': 3.4024856034447164}\n",
      "Update best score : 3.4024856034447164\n",
      "Save model : model.pth\n",
      "\n",
      "epoch  8\n",
      "lr  9.69759153037305e-05\n",
      "lr  9.69759153037305e-05\n",
      "lr  9.69759153037305e-05\n",
      "lr  9.69759153037305e-05\n"
     ]
    },
    {
     "name": "stderr",
     "output_type": "stream",
     "text": [
      "100%|██████████| 169/169 [00:08<00:00, 20.95it/s]\n",
      "100%|██████████| 170/170 [00:03<00:00, 48.59it/s]\n"
     ]
    },
    {
     "name": "stdout",
     "output_type": "stream",
     "text": [
      "\n",
      "Train Loss: 3.3496\n",
      "{'loss': 3.349556180852405, 'loss_bin_logit': 3.349556180852405}\n",
      "Valid Loss: 3.3064\n",
      "{'loss': 3.3063510011224184, 'loss_bin_logit': 3.3063510011224184}\n",
      "Update best score : 3.3063510011224184\n",
      "Save model : model.pth\n",
      "\n",
      "epoch  9\n",
      "lr  9.530465977088365e-05\n",
      "lr  9.530465977088365e-05\n",
      "lr  9.530465977088365e-05\n",
      "lr  9.530465977088365e-05\n"
     ]
    },
    {
     "name": "stderr",
     "output_type": "stream",
     "text": [
      "100%|██████████| 169/169 [00:08<00:00, 20.59it/s]\n",
      "100%|██████████| 170/170 [00:03<00:00, 47.30it/s]\n"
     ]
    },
    {
     "name": "stdout",
     "output_type": "stream",
     "text": [
      "\n",
      "Train Loss: 3.2495\n",
      "{'loss': 3.2495450211699897, 'loss_bin_logit': 3.2495450211699897}\n",
      "Valid Loss: 3.2046\n",
      "{'loss': 3.204647013720344, 'loss_bin_logit': 3.204647013720344}\n",
      "Update best score : 3.204647013720344\n",
      "Save model : model.pth\n",
      "\n",
      "epoch  10\n",
      "lr  9.32886236426865e-05\n",
      "lr  9.32886236426865e-05\n",
      "lr  9.32886236426865e-05\n",
      "lr  9.32886236426865e-05\n"
     ]
    },
    {
     "name": "stderr",
     "output_type": "stream",
     "text": [
      "100%|██████████| 169/169 [00:08<00:00, 20.89it/s]\n",
      "100%|██████████| 170/170 [00:03<00:00, 47.98it/s]\n"
     ]
    },
    {
     "name": "stdout",
     "output_type": "stream",
     "text": [
      "\n",
      "Train Loss: 3.1728\n",
      "{'loss': 3.172796095616719, 'loss_bin_logit': 3.172796095616719}\n",
      "Valid Loss: 3.1302\n",
      "{'loss': 3.1302262165967156, 'loss_bin_logit': 3.1302262165967156}\n",
      "Update best score : 3.1302262165967156\n",
      "Save model : model.pth\n",
      "\n",
      "epoch  11\n",
      "lr  9.094315017139055e-05\n",
      "lr  9.094315017139055e-05\n",
      "lr  9.094315017139055e-05\n",
      "lr  9.094315017139055e-05\n"
     ]
    },
    {
     "name": "stderr",
     "output_type": "stream",
     "text": [
      "100%|██████████| 169/169 [00:08<00:00, 20.87it/s]\n",
      "100%|██████████| 170/170 [00:03<00:00, 48.42it/s]\n"
     ]
    },
    {
     "name": "stdout",
     "output_type": "stream",
     "text": [
      "\n",
      "Train Loss: 3.1054\n",
      "{'loss': 3.105402684070655, 'loss_bin_logit': 3.105402684070655}\n",
      "Valid Loss: 3.0726\n",
      "{'loss': 3.07264818724464, 'loss_bin_logit': 3.07264818724464}\n",
      "Update best score : 3.07264818724464\n",
      "Save model : model.pth\n",
      "\n",
      "epoch  12\n",
      "lr  8.828608982634794e-05\n",
      "lr  8.828608982634794e-05\n",
      "lr  8.828608982634794e-05\n",
      "lr  8.828608982634794e-05\n"
     ]
    },
    {
     "name": "stderr",
     "output_type": "stream",
     "text": [
      "100%|██████████| 169/169 [00:08<00:00, 20.68it/s]\n",
      "100%|██████████| 170/170 [00:03<00:00, 46.90it/s]\n"
     ]
    },
    {
     "name": "stdout",
     "output_type": "stream",
     "text": [
      "\n",
      "Train Loss: 3.0531\n",
      "{'loss': 3.0530556151147423, 'loss_bin_logit': 3.0530556151147423}\n",
      "Valid Loss: 3.0260\n",
      "{'loss': 3.0259837417041555, 'loss_bin_logit': 3.0259837417041555}\n",
      "Update best score : 3.0259837417041555\n",
      "Save model : model.pth\n",
      "\n",
      "epoch  13\n",
      "lr  8.533766444116135e-05\n",
      "lr  8.533766444116135e-05\n",
      "lr  8.533766444116135e-05\n",
      "lr  8.533766444116135e-05\n"
     ]
    },
    {
     "name": "stderr",
     "output_type": "stream",
     "text": [
      "100%|██████████| 169/169 [00:08<00:00, 20.33it/s]\n",
      "100%|██████████| 170/170 [00:03<00:00, 43.09it/s]\n"
     ]
    },
    {
     "name": "stdout",
     "output_type": "stream",
     "text": [
      "\n",
      "Train Loss: 3.0100\n",
      "{'loss': 3.009963746606951, 'loss_bin_logit': 3.009963746606951}\n",
      "Valid Loss: 2.9931\n",
      "{'loss': 2.99308580791249, 'loss_bin_logit': 2.99308580791249}\n",
      "Update best score : 2.99308580791249\n",
      "Save model : model.pth\n",
      "\n",
      "epoch  14\n",
      "lr  8.212031331331998e-05\n",
      "lr  8.212031331331998e-05\n",
      "lr  8.212031331331998e-05\n",
      "lr  8.212031331331998e-05\n"
     ]
    },
    {
     "name": "stderr",
     "output_type": "stream",
     "text": [
      "100%|██████████| 169/169 [00:08<00:00, 20.51it/s]\n",
      "100%|██████████| 170/170 [00:03<00:00, 48.52it/s]\n"
     ]
    },
    {
     "name": "stdout",
     "output_type": "stream",
     "text": [
      "\n",
      "Train Loss: 2.9699\n",
      "{'loss': 2.969931269538473, 'loss_bin_logit': 2.969931269538473}\n",
      "Valid Loss: 2.9571\n",
      "{'loss': 2.957054547702565, 'loss_bin_logit': 2.957054547702565}\n",
      "Update best score : 2.957054547702565\n",
      "Save model : model.pth\n",
      "\n",
      "epoch  15\n",
      "lr  7.865852242759644e-05\n",
      "lr  7.865852242759644e-05\n",
      "lr  7.865852242759644e-05\n",
      "lr  7.865852242759644e-05\n"
     ]
    },
    {
     "name": "stderr",
     "output_type": "stream",
     "text": [
      "100%|██████████| 169/169 [00:08<00:00, 21.01it/s]\n",
      "100%|██████████| 170/170 [00:03<00:00, 48.15it/s]\n"
     ]
    },
    {
     "name": "stdout",
     "output_type": "stream",
     "text": [
      "\n",
      "Train Loss: 2.9381\n",
      "{'loss': 2.9381233305620724, 'loss_bin_logit': 2.9381233305620724}\n",
      "Valid Loss: 2.9255\n",
      "{'loss': 2.925476280380698, 'loss_bin_logit': 2.925476280380698}\n",
      "Update best score : 2.925476280380698\n",
      "Save model : model.pth\n",
      "\n",
      "epoch  16\n",
      "lr  7.497863810291755e-05\n",
      "lr  7.497863810291755e-05\n",
      "lr  7.497863810291755e-05\n",
      "lr  7.497863810291755e-05\n"
     ]
    },
    {
     "name": "stderr",
     "output_type": "stream",
     "text": [
      "100%|██████████| 169/169 [00:08<00:00, 20.81it/s]\n",
      "100%|██████████| 170/170 [00:03<00:00, 48.43it/s]\n"
     ]
    },
    {
     "name": "stdout",
     "output_type": "stream",
     "text": [
      "\n",
      "Train Loss: 2.9114\n",
      "{'loss': 2.911356092204709, 'loss_bin_logit': 2.911356092204709}\n",
      "Valid Loss: 2.9046\n",
      "{'loss': 2.9045609460157507, 'loss_bin_logit': 2.9045609460157507}\n",
      "Update best score : 2.9045609460157507\n",
      "Save model : model.pth\n",
      "\n",
      "epoch  17\n",
      "lr  7.110866648096904e-05\n",
      "lr  7.110866648096904e-05\n",
      "lr  7.110866648096904e-05\n",
      "lr  7.110866648096904e-05\n"
     ]
    },
    {
     "name": "stderr",
     "output_type": "stream",
     "text": [
      "100%|██████████| 169/169 [00:08<00:00, 20.87it/s]\n",
      "100%|██████████| 170/170 [00:03<00:00, 48.29it/s]\n"
     ]
    },
    {
     "name": "stdout",
     "output_type": "stream",
     "text": [
      "\n",
      "Train Loss: 2.8885\n",
      "{'loss': 2.888503418871637, 'loss_bin_logit': 2.888503418871637}\n",
      "Valid Loss: 2.8814\n",
      "{'loss': 2.8813609754337985, 'loss_bin_logit': 2.8813609754337985}\n",
      "Update best score : 2.8813609754337985\n",
      "Save model : model.pth\n",
      "\n",
      "epoch  18\n",
      "lr  6.707806038254668e-05\n",
      "lr  6.707806038254668e-05\n",
      "lr  6.707806038254668e-05\n",
      "lr  6.707806038254668e-05\n"
     ]
    },
    {
     "name": "stderr",
     "output_type": "stream",
     "text": [
      "100%|██████████| 169/169 [00:08<00:00, 20.96it/s]\n",
      "100%|██████████| 170/170 [00:03<00:00, 48.11it/s]\n"
     ]
    },
    {
     "name": "stdout",
     "output_type": "stream",
     "text": [
      "\n",
      "Train Loss: 2.8669\n",
      "{'loss': 2.8669498785007637, 'loss_bin_logit': 2.8669498785007637}\n",
      "Valid Loss: 2.8637\n",
      "{'loss': 2.863654515322517, 'loss_bin_logit': 2.863654515322517}\n",
      "Update best score : 2.863654515322517\n",
      "Save model : model.pth\n",
      "\n",
      "epoch  19\n",
      "lr  6.291749515380597e-05\n",
      "lr  6.291749515380597e-05\n",
      "lr  6.291749515380597e-05\n",
      "lr  6.291749515380597e-05\n"
     ]
    },
    {
     "name": "stderr",
     "output_type": "stream",
     "text": [
      "100%|██████████| 169/169 [00:08<00:00, 20.92it/s]\n",
      "100%|██████████| 170/170 [00:03<00:00, 48.14it/s]\n"
     ]
    },
    {
     "name": "stdout",
     "output_type": "stream",
     "text": [
      "\n",
      "Train Loss: 2.8460\n",
      "{'loss': 2.846049853330533, 'loss_bin_logit': 2.846049853330533}\n",
      "Valid Loss: 2.8454\n",
      "{'loss': 2.8454336867612953, 'loss_bin_logit': 2.8454336867612953}\n",
      "Update best score : 2.8454336867612953\n",
      "Save model : model.pth\n",
      "\n",
      "epoch  20\n",
      "lr  5.8658635208355614e-05\n",
      "lr  5.8658635208355614e-05\n",
      "lr  5.8658635208355614e-05\n",
      "lr  5.8658635208355614e-05\n"
     ]
    },
    {
     "name": "stderr",
     "output_type": "stream",
     "text": [
      "100%|██████████| 169/169 [00:08<00:00, 20.86it/s]\n",
      "100%|██████████| 170/170 [00:03<00:00, 48.33it/s]\n"
     ]
    },
    {
     "name": "stdout",
     "output_type": "stream",
     "text": [
      "\n",
      "Train Loss: 2.8321\n",
      "{'loss': 2.8320769106848, 'loss_bin_logit': 2.8320769106848}\n",
      "Valid Loss: 2.8365\n",
      "{'loss': 2.836462781008552, 'loss_bin_logit': 2.836462781008552}\n",
      "Update best score : 2.836462781008552\n",
      "Save model : model.pth\n",
      "\n",
      "epoch  21\n",
      "lr  5.433389304195041e-05\n",
      "lr  5.433389304195041e-05\n",
      "lr  5.433389304195041e-05\n",
      "lr  5.433389304195041e-05\n"
     ]
    },
    {
     "name": "stderr",
     "output_type": "stream",
     "text": [
      "100%|██████████| 169/169 [00:08<00:00, 20.85it/s]\n",
      "100%|██████████| 170/170 [00:03<00:00, 48.36it/s]\n"
     ]
    },
    {
     "name": "stdout",
     "output_type": "stream",
     "text": [
      "\n",
      "Train Loss: 2.8178\n",
      "{'loss': 2.817771709882296, 'loss_bin_logit': 2.817771709882296}\n",
      "Valid Loss: 2.8204\n",
      "{'loss': 2.8204104872310864, 'loss_bin_logit': 2.8204104872310864}\n",
      "Update best score : 2.8204104872310864\n",
      "Save model : model.pth\n",
      "\n",
      "epoch  22\n",
      "lr  4.9976182553827446e-05\n",
      "lr  4.9976182553827446e-05\n",
      "lr  4.9976182553827446e-05\n",
      "lr  4.9976182553827446e-05\n"
     ]
    },
    {
     "name": "stderr",
     "output_type": "stream",
     "text": [
      "100%|██████████| 169/169 [00:08<00:00, 21.06it/s]\n",
      "100%|██████████| 170/170 [00:03<00:00, 48.22it/s]\n"
     ]
    },
    {
     "name": "stdout",
     "output_type": "stream",
     "text": [
      "\n",
      "Train Loss: 2.8044\n",
      "{'loss': 2.804374725860957, 'loss_bin_logit': 2.804374725860957}\n",
      "Valid Loss: 2.8087\n",
      "{'loss': 2.8087118457345404, 'loss_bin_logit': 2.8087118457345404}\n",
      "Update best score : 2.8087118457345404\n",
      "Save model : model.pth\n",
      "\n",
      "epoch  23\n",
      "lr  4.5618668552058836e-05\n",
      "lr  4.5618668552058836e-05\n",
      "lr  4.5618668552058836e-05\n",
      "lr  4.5618668552058836e-05\n"
     ]
    },
    {
     "name": "stderr",
     "output_type": "stream",
     "text": [
      "100%|██████████| 169/169 [00:08<00:00, 21.05it/s]\n",
      "100%|██████████| 170/170 [00:03<00:00, 48.24it/s]\n"
     ]
    },
    {
     "name": "stdout",
     "output_type": "stream",
     "text": [
      "\n",
      "Train Loss: 2.7949\n",
      "{'loss': 2.7948851246805586, 'loss_bin_logit': 2.7948851246805586}\n",
      "Valid Loss: 2.7994\n",
      "{'loss': 2.799438712176155, 'loss_bin_logit': 2.799438712176155}\n",
      "Update best score : 2.799438712176155\n",
      "Save model : model.pth\n",
      "\n",
      "epoch  24\n",
      "lr  4.1294514349336954e-05\n",
      "lr  4.1294514349336954e-05\n",
      "lr  4.1294514349336954e-05\n",
      "lr  4.1294514349336954e-05\n"
     ]
    },
    {
     "name": "stderr",
     "output_type": "stream",
     "text": [
      "100%|██████████| 169/169 [00:08<00:00, 20.93it/s]\n",
      "100%|██████████| 170/170 [00:03<00:00, 48.29it/s]\n"
     ]
    },
    {
     "name": "stdout",
     "output_type": "stream",
     "text": [
      "\n",
      "Train Loss: 2.7852\n",
      "{'loss': 2.785200315114309, 'loss_bin_logit': 2.785200315114309}\n",
      "Valid Loss: 2.7955\n",
      "{'loss': 2.795463135663201, 'loss_bin_logit': 2.795463135663201}\n",
      "Update best score : 2.795463135663201\n",
      "Save model : model.pth\n",
      "\n",
      "epoch  25\n",
      "lr  3.7036629370140214e-05\n",
      "lr  3.7036629370140214e-05\n",
      "lr  3.7036629370140214e-05\n",
      "lr  3.7036629370140214e-05\n"
     ]
    },
    {
     "name": "stderr",
     "output_type": "stream",
     "text": [
      "100%|██████████| 169/169 [00:08<00:00, 20.93it/s]\n",
      "100%|██████████| 170/170 [00:03<00:00, 48.45it/s]\n"
     ]
    },
    {
     "name": "stdout",
     "output_type": "stream",
     "text": [
      "\n",
      "Train Loss: 2.7756\n",
      "{'loss': 2.7756168278011346, 'loss_bin_logit': 2.7756168278011346}\n",
      "Valid Loss: 2.7868\n",
      "{'loss': 2.786816344541662, 'loss_bin_logit': 2.786816344541662}\n",
      "Update best score : 2.786816344541662\n",
      "Save model : model.pth\n",
      "\n",
      "epoch  26\n",
      "lr  3.287741869014153e-05\n",
      "lr  3.287741869014153e-05\n",
      "lr  3.287741869014153e-05\n",
      "lr  3.287741869014153e-05\n"
     ]
    },
    {
     "name": "stderr",
     "output_type": "stream",
     "text": [
      "100%|██████████| 169/169 [00:08<00:00, 20.77it/s]\n",
      "100%|██████████| 170/170 [00:03<00:00, 48.34it/s]\n"
     ]
    },
    {
     "name": "stdout",
     "output_type": "stream",
     "text": [
      "\n",
      "Train Loss: 2.7692\n",
      "{'loss': 2.7692359749382063, 'loss_bin_logit': 2.7692359749382063}\n",
      "Valid Loss: 2.7785\n",
      "{'loss': 2.7785414260976453, 'loss_bin_logit': 2.7785414260976453}\n",
      "Update best score : 2.7785414260976453\n",
      "Save model : model.pth\n",
      "\n",
      "epoch  27\n",
      "lr  2.8848536414015768e-05\n",
      "lr  2.8848536414015768e-05\n",
      "lr  2.8848536414015768e-05\n",
      "lr  2.8848536414015768e-05\n"
     ]
    },
    {
     "name": "stderr",
     "output_type": "stream",
     "text": [
      "100%|██████████| 169/169 [00:08<00:00, 20.94it/s]\n",
      "100%|██████████| 170/170 [00:03<00:00, 48.38it/s]\n"
     ]
    },
    {
     "name": "stdout",
     "output_type": "stream",
     "text": [
      "\n",
      "Train Loss: 2.7626\n",
      "{'loss': 2.762604070133006, 'loss_bin_logit': 2.762604070133006}\n",
      "Valid Loss: 2.7752\n",
      "{'loss': 2.7752210589016184, 'loss_bin_logit': 2.7752210589016184}\n",
      "Update best score : 2.7752210589016184\n",
      "Save model : model.pth\n",
      "\n",
      "epoch  28\n",
      "lr  2.4980644768589897e-05\n",
      "lr  2.4980644768589897e-05\n",
      "lr  2.4980644768589897e-05\n",
      "lr  2.4980644768589897e-05\n"
     ]
    },
    {
     "name": "stderr",
     "output_type": "stream",
     "text": [
      "100%|██████████| 169/169 [00:08<00:00, 20.81it/s]\n",
      "100%|██████████| 170/170 [00:03<00:00, 48.55it/s]\n"
     ]
    },
    {
     "name": "stdout",
     "output_type": "stream",
     "text": [
      "\n",
      "Train Loss: 2.7568\n",
      "{'loss': 2.756767597424208, 'loss_bin_logit': 2.756767597424208}\n",
      "Valid Loss: 2.7696\n",
      "{'loss': 2.7696012454874377, 'loss_bin_logit': 2.7696012454874377}\n",
      "Update best score : 2.7696012454874377\n",
      "Save model : model.pth\n",
      "\n",
      "epoch  29\n",
      "lr  2.1303180744782415e-05\n",
      "lr  2.1303180744782415e-05\n",
      "lr  2.1303180744782415e-05\n",
      "lr  2.1303180744782415e-05\n"
     ]
    },
    {
     "name": "stderr",
     "output_type": "stream",
     "text": [
      "100%|██████████| 169/169 [00:08<00:00, 20.98it/s]\n",
      "100%|██████████| 170/170 [00:03<00:00, 48.35it/s]\n"
     ]
    },
    {
     "name": "stdout",
     "output_type": "stream",
     "text": [
      "\n",
      "Train Loss: 2.7531\n",
      "{'loss': 2.753072226541282, 'loss_bin_logit': 2.753072226541282}\n",
      "Valid Loss: 2.7677\n",
      "{'loss': 2.767716915467206, 'loss_bin_logit': 2.767716915467206}\n",
      "Update best score : 2.767716915467206\n",
      "Save model : model.pth\n",
      "\n",
      "epoch  30\n",
      "lr  1.784413206432799e-05\n",
      "lr  1.784413206432799e-05\n",
      "lr  1.784413206432799e-05\n",
      "lr  1.784413206432799e-05\n"
     ]
    },
    {
     "name": "stderr",
     "output_type": "stream",
     "text": [
      "100%|██████████| 169/169 [00:08<00:00, 20.95it/s]\n",
      "100%|██████████| 170/170 [00:03<00:00, 48.30it/s]\n"
     ]
    },
    {
     "name": "stdout",
     "output_type": "stream",
     "text": [
      "\n",
      "Train Loss: 2.7481\n",
      "{'loss': 2.7480665819179375, 'loss_bin_logit': 2.7480665819179375}\n",
      "Valid Loss: 2.7650\n",
      "{'loss': 2.7650354189031265, 'loss_bin_logit': 2.7650354189031265}\n",
      "Update best score : 2.7650354189031265\n",
      "Save model : model.pth\n",
      "\n",
      "epoch  31\n",
      "lr  1.4629824176315567e-05\n",
      "lr  1.4629824176315567e-05\n",
      "lr  1.4629824176315567e-05\n",
      "lr  1.4629824176315567e-05\n"
     ]
    },
    {
     "name": "stderr",
     "output_type": "stream",
     "text": [
      "100%|██████████| 169/169 [00:08<00:00, 20.94it/s]\n",
      "100%|██████████| 170/170 [00:03<00:00, 48.31it/s]\n"
     ]
    },
    {
     "name": "stdout",
     "output_type": "stream",
     "text": [
      "\n",
      "Train Loss: 2.7453\n",
      "{'loss': 2.7452596179126987, 'loss_bin_logit': 2.7452596179126987}\n",
      "Valid Loss: 2.7610\n",
      "{'loss': 2.7610279770458446, 'loss_bin_logit': 2.7610279770458446}\n",
      "Update best score : 2.7610279770458446\n",
      "Save model : model.pth\n",
      "\n",
      "epoch  32\n",
      "lr  1.1684719904625122e-05\n",
      "lr  1.1684719904625122e-05\n",
      "lr  1.1684719904625122e-05\n",
      "lr  1.1684719904625122e-05\n"
     ]
    },
    {
     "name": "stderr",
     "output_type": "stream",
     "text": [
      "100%|██████████| 169/169 [00:08<00:00, 20.88it/s]\n",
      "100%|██████████| 170/170 [00:03<00:00, 48.31it/s]\n"
     ]
    },
    {
     "name": "stdout",
     "output_type": "stream",
     "text": [
      "\n",
      "Train Loss: 2.7432\n",
      "{'loss': 2.743157213256204, 'loss_bin_logit': 2.743157213256204}\n",
      "Valid Loss: 2.7607\n",
      "{'loss': 2.7607210832483626, 'loss_bin_logit': 2.7607210832483626}\n",
      "Update best score : 2.7607210832483626\n",
      "Save model : model.pth\n",
      "\n",
      "epoch  33\n",
      "lr  9.03123327106677e-06\n",
      "lr  9.03123327106677e-06\n",
      "lr  9.03123327106677e-06\n",
      "lr  9.03123327106677e-06\n"
     ]
    },
    {
     "name": "stderr",
     "output_type": "stream",
     "text": [
      "100%|██████████| 169/169 [00:08<00:00, 20.52it/s]\n",
      "100%|██████████| 170/170 [00:03<00:00, 46.75it/s]\n"
     ]
    },
    {
     "name": "stdout",
     "output_type": "stream",
     "text": [
      "\n",
      "Train Loss: 2.7408\n",
      "{'loss': 2.7407863436365973, 'loss_bin_logit': 2.7407863436365973}\n",
      "Valid Loss: 2.7592\n",
      "{'loss': 2.759191058663761, 'loss_bin_logit': 2.759191058663761}\n",
      "Update best score : 2.759191058663761\n",
      "Save model : model.pth\n",
      "\n",
      "epoch  34\n",
      "lr  6.6895589111409285e-06\n",
      "lr  6.6895589111409285e-06\n",
      "lr  6.6895589111409285e-06\n",
      "lr  6.6895589111409285e-06\n"
     ]
    },
    {
     "name": "stderr",
     "output_type": "stream",
     "text": [
      "100%|██████████| 169/169 [00:08<00:00, 20.65it/s]\n",
      "100%|██████████| 170/170 [00:03<00:00, 47.88it/s]\n"
     ]
    },
    {
     "name": "stdout",
     "output_type": "stream",
     "text": [
      "\n",
      "Train Loss: 2.7395\n",
      "{'loss': 2.7394954720897786, 'loss_bin_logit': 2.7394954720897786}\n",
      "Valid Loss: 2.7591\n",
      "{'loss': 2.7590966743581435, 'loss_bin_logit': 2.7590966743581435}\n",
      "Update best score : 2.7590966743581435\n",
      "Save model : model.pth\n",
      "\n",
      "epoch  35\n",
      "lr  4.67751838066829e-06\n",
      "lr  4.67751838066829e-06\n",
      "lr  4.67751838066829e-06\n",
      "lr  4.67751838066829e-06\n"
     ]
    },
    {
     "name": "stderr",
     "output_type": "stream",
     "text": [
      "100%|██████████| 169/169 [00:08<00:00, 20.97it/s]\n",
      "100%|██████████| 170/170 [00:03<00:00, 47.28it/s]\n"
     ]
    },
    {
     "name": "stdout",
     "output_type": "stream",
     "text": [
      "\n",
      "Train Loss: 2.7387\n",
      "{'loss': 2.7386624065376597, 'loss_bin_logit': 2.7386624065376597}\n",
      "Valid Loss: 2.7570\n",
      "{'loss': 2.756993889808655, 'loss_bin_logit': 2.756993889808655}\n",
      "Update best score : 2.756993889808655\n",
      "Save model : model.pth\n",
      "\n",
      "epoch  36\n",
      "lr  3.0104245229890217e-06\n",
      "lr  3.0104245229890217e-06\n",
      "lr  3.0104245229890217e-06\n",
      "lr  3.0104245229890217e-06\n"
     ]
    },
    {
     "name": "stderr",
     "output_type": "stream",
     "text": [
      "100%|██████████| 169/169 [00:08<00:00, 20.76it/s]\n",
      "100%|██████████| 170/170 [00:03<00:00, 48.02it/s]\n"
     ]
    },
    {
     "name": "stdout",
     "output_type": "stream",
     "text": [
      "\n",
      "Train Loss: 2.7376\n",
      "{'loss': 2.737587949933385, 'loss_bin_logit': 2.737587949933385}\n",
      "Valid Loss: 2.7577\n",
      "{'loss': 2.7576687939026776, 'loss_bin_logit': 2.7576687939026776}\n",
      "Save model : model.pth\n",
      "\n",
      "epoch  37\n",
      "lr  1.7009649289788598e-06\n",
      "lr  1.7009649289788598e-06\n",
      "lr  1.7009649289788598e-06\n",
      "lr  1.7009649289788598e-06\n"
     ]
    },
    {
     "name": "stderr",
     "output_type": "stream",
     "text": [
      "100%|██████████| 169/169 [00:08<00:00, 20.98it/s]\n",
      "100%|██████████| 170/170 [00:03<00:00, 48.33it/s]\n"
     ]
    },
    {
     "name": "stdout",
     "output_type": "stream",
     "text": [
      "\n",
      "Train Loss: 2.7369\n",
      "{'loss': 2.736945732105413, 'loss_bin_logit': 2.736945732105413}\n",
      "Valid Loss: 2.7564\n",
      "{'loss': 2.7564366410760317, 'loss_bin_logit': 2.7564366410760317}\n",
      "Update best score : 2.7564366410760317\n",
      "Save model : model.pth\n",
      "\n",
      "epoch  38\n",
      "lr  7.591053768215416e-07\n",
      "lr  7.591053768215416e-07\n",
      "lr  7.591053768215416e-07\n",
      "lr  7.591053768215416e-07\n"
     ]
    },
    {
     "name": "stderr",
     "output_type": "stream",
     "text": [
      "100%|██████████| 169/169 [00:08<00:00, 20.89it/s]\n",
      "100%|██████████| 170/170 [00:04<00:00, 39.15it/s]\n"
     ]
    },
    {
     "name": "stdout",
     "output_type": "stream",
     "text": [
      "\n",
      "Train Loss: 2.7374\n",
      "{'loss': 2.7374159457415517, 'loss_bin_logit': 2.7374159457415517}\n",
      "Valid Loss: 2.7567\n",
      "{'loss': 2.7567415405722224, 'loss_bin_logit': 2.7567415405722224}\n",
      "Save model : model.pth\n",
      "\n",
      "epoch  39\n",
      "lr  1.9201398641933757e-07\n",
      "lr  1.9201398641933757e-07\n",
      "lr  1.9201398641933757e-07\n",
      "lr  1.9201398641933757e-07\n"
     ]
    },
    {
     "name": "stderr",
     "output_type": "stream",
     "text": [
      "100%|██████████| 169/169 [00:08<00:00, 19.75it/s]\n",
      "100%|██████████| 170/170 [00:03<00:00, 46.72it/s]\n",
      "/home/tatsuya/projects/atmacup/atmacup_18/experiments/main/v00/v00_02_00/utils.py:1007: FutureWarning: You are using `torch.load` with `weights_only=False` (the current default value), which uses the default pickle module implicitly. It is possible to construct malicious pickle data which will execute arbitrary code during unpickling (See https://github.com/pytorch/pytorch/blob/main/SECURITY.md#untrusted-models for more details). In a future release, the default value for `weights_only` will be flipped to `True`. This limits the functions that could be executed during unpickling. Arbitrary objects will no longer be allowed to be loaded via this mode unless they are explicitly allowlisted by the user via `torch.serialization.add_safe_globals`. We recommend you start setting `weights_only=True` for any use case where you don't have full control of the loaded file. Please open an issue on GitHub for any issues related to this experimental feature.\n",
      "  model.load_state_dict(torch.load(model_path))\n"
     ]
    },
    {
     "name": "stdout",
     "output_type": "stream",
     "text": [
      "\n",
      "Train Loss: 2.7361\n",
      "{'loss': 2.7361204793467326, 'loss_bin_logit': 2.7361204793467326}\n",
      "Valid Loss: 2.7561\n",
      "{'loss': 2.756050133705139, 'loss_bin_logit': 2.756050133705139}\n",
      "Update best score : 2.756050133705139\n",
      "Save model : model.pth\n"
     ]
    }
   ],
   "source": [
    "models, oof_preds = utils.train(\n",
    "    model_params=model_params,\n",
    "    fit_params=fit_params,\n",
    "    df=tr_df,\n",
    "    images=tr_images,\n",
    "    target_cols=target.columns,\n",
    "    feature_cols=feature.columns,\n",
    "    group_col=\"scene_id\",\n",
    "    n_splits=N_SPLITS,\n",
    ")"
   ]
  },
  {
   "cell_type": "code",
   "execution_count": 13,
   "metadata": {},
   "outputs": [
    {
     "data": {
      "text/html": [
       "<div><style>\n",
       ".dataframe > thead > tr,\n",
       ".dataframe > tbody > tr {\n",
       "  text-align: right;\n",
       "  white-space: pre-wrap;\n",
       "}\n",
       "</style>\n",
       "<small>shape: (43_371, 82)</small><table border=\"1\" class=\"dataframe\"><thead><tr><th>ID</th><th>vEgo</th><th>aEgo</th><th>steeringAngleDeg</th><th>steeringTorque</th><th>brake</th><th>brakePressed</th><th>gas</th><th>gasPressed</th><th>gearShifter</th><th>leftBlinker</th><th>rightBlinker</th><th>x_0</th><th>y_0</th><th>z_0</th><th>x_1</th><th>y_1</th><th>z_1</th><th>x_2</th><th>y_2</th><th>z_2</th><th>x_3</th><th>y_3</th><th>z_3</th><th>x_4</th><th>y_4</th><th>z_4</th><th>x_5</th><th>y_5</th><th>z_5</th><th>scene_id</th><th>scene_dsec</th><th>tg_cood_x_0</th><th>tg_cood_y_0</th><th>tg_cood_z_0</th><th>tg_cood_x_1</th><th>tg_cood_y_1</th><th>&hellip;</th><th>tg_cood_y_4</th><th>tg_cood_z_4</th><th>tg_cood_x_5</th><th>tg_cood_y_5</th><th>tg_cood_z_5</th><th>ft_vEgo</th><th>ft_aEgo</th><th>ft_steeringAngleDeg</th><th>ft_steeringTorque</th><th>ft_brake</th><th>ft_brakePressed</th><th>ft_gas</th><th>ft_gasPressed</th><th>ft_is_gearShifter_drive</th><th>ft_is_gearShifter_neutral</th><th>ft_is_gearShifter_park</th><th>ft_is_gearShifter_reverse</th><th>ft_leftBlinker</th><th>ft_rightBlinker</th><th>pred_tg_cood_x_0</th><th>pred_tg_cood_y_0</th><th>pred_tg_cood_z_0</th><th>pred_tg_cood_x_1</th><th>pred_tg_cood_y_1</th><th>pred_tg_cood_z_1</th><th>pred_tg_cood_x_2</th><th>pred_tg_cood_y_2</th><th>pred_tg_cood_z_2</th><th>pred_tg_cood_x_3</th><th>pred_tg_cood_y_3</th><th>pred_tg_cood_z_3</th><th>pred_tg_cood_x_4</th><th>pred_tg_cood_y_4</th><th>pred_tg_cood_z_4</th><th>pred_tg_cood_x_5</th><th>pred_tg_cood_y_5</th><th>pred_tg_cood_z_5</th></tr><tr><td>str</td><td>f64</td><td>f64</td><td>f64</td><td>f64</td><td>f64</td><td>bool</td><td>f64</td><td>bool</td><td>str</td><td>bool</td><td>bool</td><td>f64</td><td>f64</td><td>f64</td><td>f64</td><td>f64</td><td>f64</td><td>f64</td><td>f64</td><td>f64</td><td>f64</td><td>f64</td><td>f64</td><td>f64</td><td>f64</td><td>f64</td><td>f64</td><td>f64</td><td>f64</td><td>str</td><td>str</td><td>f64</td><td>f64</td><td>f64</td><td>f64</td><td>f64</td><td>&hellip;</td><td>f64</td><td>f64</td><td>f64</td><td>f64</td><td>f64</td><td>f64</td><td>f64</td><td>f64</td><td>f64</td><td>f64</td><td>f64</td><td>f64</td><td>f64</td><td>f64</td><td>f64</td><td>f64</td><td>f64</td><td>f64</td><td>f64</td><td>f64</td><td>f64</td><td>f64</td><td>f64</td><td>f64</td><td>f64</td><td>f64</td><td>f64</td><td>f64</td><td>f64</td><td>f64</td><td>f64</td><td>f64</td><td>f64</td><td>f64</td><td>f64</td><td>f64</td><td>f64</td></tr></thead><tbody><tr><td>&quot;00066be8e20318869c38c66be46663…</td><td>5.701526</td><td>1.538456</td><td>-2.165777</td><td>-139.0</td><td>0.0</td><td>false</td><td>0.25</td><td>true</td><td>&quot;drive&quot;</td><td>false</td><td>false</td><td>2.82959</td><td>0.032226</td><td>0.045187</td><td>6.231999</td><td>0.065895</td><td>0.107974</td><td>9.785009</td><td>0.124972</td><td>0.203649</td><td>13.485472</td><td>0.163448</td><td>0.302818</td><td>17.574227</td><td>0.174289</td><td>0.406331</td><td>21.951269</td><td>0.199503</td><td>0.485079</td><td>&quot;00066be8e20318869c38c66be46663…</td><td>&quot;320&quot;</td><td>2.82959</td><td>0.032226</td><td>0.045187</td><td>6.231999</td><td>0.065895</td><td>&hellip;</td><td>0.174289</td><td>0.406331</td><td>21.951269</td><td>0.199503</td><td>0.485079</td><td>5.701526</td><td>1.538456</td><td>-2.165777</td><td>-139.0</td><td>0.0</td><td>0.0</td><td>0.25</td><td>1.0</td><td>1.0</td><td>0.0</td><td>0.0</td><td>0.0</td><td>0.0</td><td>0.0</td><td>2.960548</td><td>0.027213</td><td>0.005509</td><td>6.360033</td><td>0.03448</td><td>0.009189</td><td>9.601095</td><td>0.044495</td><td>0.01085</td><td>12.929493</td><td>0.07096</td><td>0.026981</td><td>15.973384</td><td>0.105556</td><td>0.021122</td><td>19.357492</td><td>0.105445</td><td>0.014676</td></tr><tr><td>&quot;00066be8e20318869c38c66be46663…</td><td>11.176292</td><td>0.279881</td><td>-11.625697</td><td>-44.0</td><td>0.0</td><td>false</td><td>0.0</td><td>false</td><td>&quot;drive&quot;</td><td>false</td><td>true</td><td>4.970268</td><td>-0.007936</td><td>0.005028</td><td>10.350489</td><td>-0.032374</td><td>-0.020701</td><td>15.770054</td><td>0.084073</td><td>0.008645</td><td>21.132415</td><td>0.391343</td><td>0.036335</td><td>26.316489</td><td>0.843124</td><td>0.065</td><td>31.383814</td><td>1.42507</td><td>0.073083</td><td>&quot;00066be8e20318869c38c66be46663…</td><td>&quot;420&quot;</td><td>4.970268</td><td>-0.007936</td><td>0.005028</td><td>10.350489</td><td>-0.032374</td><td>&hellip;</td><td>0.843124</td><td>0.065</td><td>31.383814</td><td>1.42507</td><td>0.073083</td><td>11.176292</td><td>0.279881</td><td>-11.625697</td><td>-44.0</td><td>0.0</td><td>0.0</td><td>0.0</td><td>0.0</td><td>1.0</td><td>0.0</td><td>0.0</td><td>0.0</td><td>0.0</td><td>1.0</td><td>4.824509</td><td>0.03554</td><td>0.010476</td><td>10.2054</td><td>-0.011476</td><td>0.017574</td><td>15.531964</td><td>0.025694</td><td>0.0267</td><td>20.823281</td><td>0.011384</td><td>0.039803</td><td>26.171416</td><td>0.043536</td><td>0.069651</td><td>31.378851</td><td>0.063374</td><td>0.046401</td></tr><tr><td>&quot;00066be8e20318869c38c66be46663…</td><td>10.472548</td><td>0.231099</td><td>-2.985105</td><td>-132.0</td><td>0.0</td><td>false</td><td>0.18</td><td>true</td><td>&quot;drive&quot;</td><td>false</td><td>false</td><td>4.815701</td><td>-0.000813</td><td>0.017577</td><td>10.153522</td><td>-0.0278</td><td>0.026165</td><td>15.446539</td><td>-0.155987</td><td>0.040397</td><td>20.61816</td><td>-0.356932</td><td>0.058765</td><td>25.677387</td><td>-0.576985</td><td>0.102859</td><td>30.460033</td><td>-0.841894</td><td>0.152889</td><td>&quot;00066be8e20318869c38c66be46663…</td><td>&quot;520&quot;</td><td>4.815701</td><td>-0.000813</td><td>0.017577</td><td>10.153522</td><td>-0.0278</td><td>&hellip;</td><td>-0.576985</td><td>0.102859</td><td>30.460033</td><td>-0.841894</td><td>0.152889</td><td>10.472548</td><td>0.231099</td><td>-2.985105</td><td>-132.0</td><td>0.0</td><td>0.0</td><td>0.18</td><td>1.0</td><td>1.0</td><td>0.0</td><td>0.0</td><td>0.0</td><td>0.0</td><td>0.0</td><td>4.743486</td><td>0.032953</td><td>0.009682</td><td>10.05744</td><td>-0.010172</td><td>0.015674</td><td>15.275035</td><td>0.025003</td><td>0.026161</td><td>20.480794</td><td>0.009876</td><td>0.037473</td><td>25.767205</td><td>0.037669</td><td>0.067615</td><td>30.864024</td><td>0.068593</td><td>0.042906</td></tr><tr><td>&quot;000fb056f97572d384bae4f5fc1e0f…</td><td>6.055565</td><td>-0.117775</td><td>7.632668</td><td>173.0</td><td>0.0</td><td>false</td><td>0.0</td><td>false</td><td>&quot;drive&quot;</td><td>false</td><td>false</td><td>2.812608</td><td>0.033731</td><td>0.0059</td><td>5.975378</td><td>0.137848</td><td>0.01621</td><td>9.186793</td><td>0.322997</td><td>0.031626</td><td>12.37311</td><td>0.603145</td><td>0.031858</td><td>15.703514</td><td>0.960717</td><td>0.043479</td><td>19.311182</td><td>1.374655</td><td>0.058754</td><td>&quot;000fb056f97572d384bae4f5fc1e0f…</td><td>&quot;120&quot;</td><td>2.812608</td><td>0.033731</td><td>0.0059</td><td>5.975378</td><td>0.137848</td><td>&hellip;</td><td>0.960717</td><td>0.043479</td><td>19.311182</td><td>1.374655</td><td>0.058754</td><td>6.055565</td><td>-0.117775</td><td>7.632668</td><td>173.0</td><td>0.0</td><td>0.0</td><td>0.0</td><td>0.0</td><td>1.0</td><td>0.0</td><td>0.0</td><td>0.0</td><td>0.0</td><td>0.0</td><td>2.681302</td><td>0.038681</td><td>0.00826</td><td>5.788837</td><td>0.046615</td><td>0.008571</td><td>8.711004</td><td>0.065644</td><td>0.02203</td><td>11.746017</td><td>0.113695</td><td>0.034939</td><td>14.503756</td><td>0.165348</td><td>0.029065</td><td>17.743164</td><td>0.167001</td><td>0.016879</td></tr><tr><td>&quot;000fb056f97572d384bae4f5fc1e0f…</td><td>3.316744</td><td>1.276733</td><td>-31.725477</td><td>-114.0</td><td>0.0</td><td>false</td><td>0.255</td><td>true</td><td>&quot;drive&quot;</td><td>false</td><td>false</td><td>1.55186</td><td>-0.041849</td><td>-0.008847</td><td>3.675162</td><td>-0.125189</td><td>-0.013725</td><td>6.113567</td><td>-0.239161</td><td>-0.012887</td><td>8.770783</td><td>-0.381813</td><td>-0.003898</td><td>11.619313</td><td>-0.554488</td><td>0.011393</td><td>14.657048</td><td>-0.7788</td><td>0.044243</td><td>&quot;000fb056f97572d384bae4f5fc1e0f…</td><td>&quot;20&quot;</td><td>1.55186</td><td>-0.041849</td><td>-0.008847</td><td>3.675162</td><td>-0.125189</td><td>&hellip;</td><td>-0.554488</td><td>0.011393</td><td>14.657048</td><td>-0.7788</td><td>0.044243</td><td>3.316744</td><td>1.276733</td><td>-31.725477</td><td>-114.0</td><td>0.0</td><td>0.0</td><td>0.255</td><td>1.0</td><td>1.0</td><td>0.0</td><td>0.0</td><td>0.0</td><td>0.0</td><td>0.0</td><td>2.017391</td><td>0.009578</td><td>0.007299</td><td>4.237181</td><td>-0.001449</td><td>0.003694</td><td>6.43783</td><td>-0.020149</td><td>0.025498</td><td>8.723386</td><td>-0.004721</td><td>0.014584</td><td>10.726566</td><td>0.002184</td><td>0.034328</td><td>13.040347</td><td>-0.036199</td><td>0.029945</td></tr><tr><td>&hellip;</td><td>&hellip;</td><td>&hellip;</td><td>&hellip;</td><td>&hellip;</td><td>&hellip;</td><td>&hellip;</td><td>&hellip;</td><td>&hellip;</td><td>&hellip;</td><td>&hellip;</td><td>&hellip;</td><td>&hellip;</td><td>&hellip;</td><td>&hellip;</td><td>&hellip;</td><td>&hellip;</td><td>&hellip;</td><td>&hellip;</td><td>&hellip;</td><td>&hellip;</td><td>&hellip;</td><td>&hellip;</td><td>&hellip;</td><td>&hellip;</td><td>&hellip;</td><td>&hellip;</td><td>&hellip;</td><td>&hellip;</td><td>&hellip;</td><td>&hellip;</td><td>&hellip;</td><td>&hellip;</td><td>&hellip;</td><td>&hellip;</td><td>&hellip;</td><td>&hellip;</td><td>&hellip;</td><td>&hellip;</td><td>&hellip;</td><td>&hellip;</td><td>&hellip;</td><td>&hellip;</td><td>&hellip;</td><td>&hellip;</td><td>&hellip;</td><td>&hellip;</td><td>&hellip;</td><td>&hellip;</td><td>&hellip;</td><td>&hellip;</td><td>&hellip;</td><td>&hellip;</td><td>&hellip;</td><td>&hellip;</td><td>&hellip;</td><td>&hellip;</td><td>&hellip;</td><td>&hellip;</td><td>&hellip;</td><td>&hellip;</td><td>&hellip;</td><td>&hellip;</td><td>&hellip;</td><td>&hellip;</td><td>&hellip;</td><td>&hellip;</td><td>&hellip;</td><td>&hellip;</td><td>&hellip;</td><td>&hellip;</td><td>&hellip;</td><td>&hellip;</td><td>&hellip;</td><td>&hellip;</td></tr><tr><td>&quot;fff88cca5f8a012427b96bdde66011…</td><td>-0.0</td><td>-0.0</td><td>16.102747</td><td>-1.0</td><td>0.0</td><td>true</td><td>0.0</td><td>false</td><td>&quot;drive&quot;</td><td>false</td><td>true</td><td>0.00514</td><td>0.002648</td><td>-0.006207</td><td>0.013328</td><td>0.005834</td><td>-0.016368</td><td>0.019618</td><td>0.007763</td><td>-0.023074</td><td>0.028672</td><td>0.010737</td><td>-0.033795</td><td>0.0342</td><td>0.012502</td><td>-0.040583</td><td>0.043196</td><td>0.015644</td><td>-0.051309</td><td>&quot;fff88cca5f8a012427b96bdde66011…</td><td>&quot;20&quot;</td><td>0.00514</td><td>0.002648</td><td>-0.006207</td><td>0.013328</td><td>0.005834</td><td>&hellip;</td><td>0.012502</td><td>-0.040583</td><td>0.043196</td><td>0.015644</td><td>-0.051309</td><td>-0.0</td><td>-0.0</td><td>16.102747</td><td>-1.0</td><td>0.0</td><td>1.0</td><td>0.0</td><td>0.0</td><td>1.0</td><td>0.0</td><td>0.0</td><td>0.0</td><td>0.0</td><td>1.0</td><td>0.520386</td><td>0.007132</td><td>0.00611</td><td>1.011853</td><td>0.004256</td><td>0.001416</td><td>1.445027</td><td>-0.007295</td><td>-0.003494</td><td>2.113758</td><td>-0.021549</td><td>-0.012483</td><td>2.442607</td><td>-0.010219</td><td>-0.022152</td><td>3.03145</td><td>-0.010188</td><td>-0.021619</td></tr><tr><td>&quot;fff88cca5f8a012427b96bdde66011…</td><td>1.594968</td><td>0.350129</td><td>-5.791823</td><td>-97.0</td><td>0.0</td><td>false</td><td>0.0</td><td>false</td><td>&quot;drive&quot;</td><td>false</td><td>true</td><td>0.663311</td><td>-0.002493</td><td>-0.009528</td><td>1.516447</td><td>-0.004223</td><td>-0.020431</td><td>2.425366</td><td>-0.002958</td><td>-0.023108</td><td>3.319161</td><td>-0.012259</td><td>-0.027327</td><td>4.106655</td><td>-0.023314</td><td>-0.024449</td><td>4.708509</td><td>-0.027916</td><td>-0.026821</td><td>&quot;fff88cca5f8a012427b96bdde66011…</td><td>&quot;220&quot;</td><td>0.663311</td><td>-0.002493</td><td>-0.009528</td><td>1.516447</td><td>-0.004223</td><td>&hellip;</td><td>-0.023314</td><td>-0.024449</td><td>4.708509</td><td>-0.027916</td><td>-0.026821</td><td>1.594968</td><td>0.350129</td><td>-5.791823</td><td>-97.0</td><td>0.0</td><td>0.0</td><td>0.0</td><td>0.0</td><td>1.0</td><td>0.0</td><td>0.0</td><td>0.0</td><td>0.0</td><td>1.0</td><td>1.090009</td><td>-0.005466</td><td>0.00455</td><td>2.189915</td><td>-0.01289</td><td>0.001767</td><td>3.455175</td><td>-0.039656</td><td>-0.004892</td><td>4.567955</td><td>-0.037124</td><td>-0.026494</td><td>5.728174</td><td>-0.005415</td><td>-0.022581</td><td>6.998211</td><td>-0.055993</td><td>-0.041445</td></tr><tr><td>&quot;fff88cca5f8a012427b96bdde66011…</td><td>-0.004207</td><td>-0.037833</td><td>-2.089301</td><td>0.0</td><td>0.0</td><td>true</td><td>0.0</td><td>false</td><td>&quot;drive&quot;</td><td>false</td><td>true</td><td>0.022788</td><td>0.000622</td><td>-0.006612</td><td>0.046445</td><td>0.001039</td><td>-0.017674</td><td>0.062182</td><td>0.000714</td><td>-0.024352</td><td>0.079601</td><td>0.000491</td><td>-0.034149</td><td>0.091362</td><td>-0.000041</td><td>-0.039632</td><td>0.10623</td><td>-0.001123</td><td>-0.04789</td><td>&quot;fff88cca5f8a012427b96bdde66011…</td><td>&quot;320&quot;</td><td>0.022788</td><td>0.000622</td><td>-0.006612</td><td>0.046445</td><td>0.001039</td><td>&hellip;</td><td>-0.000041</td><td>-0.039632</td><td>0.10623</td><td>-0.001123</td><td>-0.04789</td><td>-0.004207</td><td>-0.037833</td><td>-2.089301</td><td>0.0</td><td>0.0</td><td>1.0</td><td>0.0</td><td>0.0</td><td>1.0</td><td>0.0</td><td>0.0</td><td>0.0</td><td>0.0</td><td>1.0</td><td>0.525143</td><td>0.006678</td><td>0.006366</td><td>1.014923</td><td>0.00474</td><td>0.001671</td><td>1.46273</td><td>-0.007609</td><td>-0.003812</td><td>2.146184</td><td>-0.022384</td><td>-0.01413</td><td>2.451424</td><td>-0.00924</td><td>-0.023413</td><td>3.018981</td><td>-0.005189</td><td>-0.022439</td></tr><tr><td>&quot;fff88cca5f8a012427b96bdde66011…</td><td>-2.1624e-10</td><td>-1.9432e-9</td><td>-2.170106</td><td>1.0</td><td>0.0</td><td>true</td><td>0.0</td><td>false</td><td>&quot;drive&quot;</td><td>false</td><td>true</td><td>0.009293</td><td>-0.000725</td><td>-0.003357</td><td>0.022385</td><td>-0.002018</td><td>-0.008759</td><td>0.031795</td><td>-0.003121</td><td>-0.012351</td><td>0.044995</td><td>-0.004578</td><td>-0.017885</td><td>0.054023</td><td>-0.005685</td><td>-0.020612</td><td>0.067738</td><td>-0.008169</td><td>-0.026279</td><td>&quot;fff88cca5f8a012427b96bdde66011…</td><td>&quot;420&quot;</td><td>0.009293</td><td>-0.000725</td><td>-0.003357</td><td>0.022385</td><td>-0.002018</td><td>&hellip;</td><td>-0.005685</td><td>-0.020612</td><td>0.067738</td><td>-0.008169</td><td>-0.026279</td><td>-2.1624e-10</td><td>-1.9432e-9</td><td>-2.170106</td><td>1.0</td><td>0.0</td><td>1.0</td><td>0.0</td><td>0.0</td><td>1.0</td><td>0.0</td><td>0.0</td><td>0.0</td><td>0.0</td><td>1.0</td><td>0.526537</td><td>0.006795</td><td>0.006372</td><td>1.02087</td><td>0.004514</td><td>0.001642</td><td>1.468118</td><td>-0.00752</td><td>-0.003659</td><td>2.148403</td><td>-0.022306</td><td>-0.01384</td><td>2.473864</td><td>-0.009833</td><td>-0.023123</td><td>3.046678</td><td>-0.007237</td><td>-0.022473</td></tr><tr><td>&quot;fff88cca5f8a012427b96bdde66011…</td><td>-1.1102e-17</td><td>-9.9770e-17</td><td>-2.24445</td><td>1.0</td><td>0.0</td><td>true</td><td>0.0</td><td>false</td><td>&quot;drive&quot;</td><td>false</td><td>true</td><td>0.009021</td><td>-0.001694</td><td>-0.003041</td><td>0.021577</td><td>-0.003604</td><td>-0.006752</td><td>0.029756</td><td>-0.004978</td><td>-0.007805</td><td>0.041055</td><td>-0.007137</td><td>-0.009562</td><td>0.049354</td><td>-0.008518</td><td>-0.010334</td><td>0.060503</td><td>-0.010497</td><td>-0.011979</td><td>&quot;fff88cca5f8a012427b96bdde66011…</td><td>&quot;520&quot;</td><td>0.009021</td><td>-0.001694</td><td>-0.003041</td><td>0.021577</td><td>-0.003604</td><td>&hellip;</td><td>-0.008518</td><td>-0.010334</td><td>0.060503</td><td>-0.010497</td><td>-0.011979</td><td>-1.1102e-17</td><td>-9.9770e-17</td><td>-2.24445</td><td>1.0</td><td>0.0</td><td>1.0</td><td>0.0</td><td>0.0</td><td>1.0</td><td>0.0</td><td>0.0</td><td>0.0</td><td>0.0</td><td>1.0</td><td>0.556529</td><td>0.006631</td><td>0.007374</td><td>1.073607</td><td>0.003849</td><td>0.001981</td><td>1.558684</td><td>-0.0096</td><td>-0.003393</td><td>2.283362</td><td>-0.024555</td><td>-0.015814</td><td>2.606964</td><td>-0.007979</td><td>-0.025431</td><td>3.199906</td><td>-0.00291</td><td>-0.025167</td></tr></tbody></table></div>"
      ],
      "text/plain": [
       "shape: (43_371, 82)\n",
       "┌───────────┬───────────┬───────────┬───────────┬───┬───────────┬───────────┬───────────┬──────────┐\n",
       "│ ID        ┆ vEgo      ┆ aEgo      ┆ steeringA ┆ … ┆ pred_tg_c ┆ pred_tg_c ┆ pred_tg_c ┆ pred_tg_ │\n",
       "│ ---       ┆ ---       ┆ ---       ┆ ngleDeg   ┆   ┆ ood_z_4   ┆ ood_x_5   ┆ ood_y_5   ┆ cood_z_5 │\n",
       "│ str       ┆ f64       ┆ f64       ┆ ---       ┆   ┆ ---       ┆ ---       ┆ ---       ┆ ---      │\n",
       "│           ┆           ┆           ┆ f64       ┆   ┆ f64       ┆ f64       ┆ f64       ┆ f64      │\n",
       "╞═══════════╪═══════════╪═══════════╪═══════════╪═══╪═══════════╪═══════════╪═══════════╪══════════╡\n",
       "│ 00066be8e ┆ 5.701526  ┆ 1.538456  ┆ -2.165777 ┆ … ┆ 0.021122  ┆ 19.357492 ┆ 0.105445  ┆ 0.014676 │\n",
       "│ 20318869c ┆           ┆           ┆           ┆   ┆           ┆           ┆           ┆          │\n",
       "│ 38c66be46 ┆           ┆           ┆           ┆   ┆           ┆           ┆           ┆          │\n",
       "│ 663…      ┆           ┆           ┆           ┆   ┆           ┆           ┆           ┆          │\n",
       "│ 00066be8e ┆ 11.176292 ┆ 0.279881  ┆ -11.62569 ┆ … ┆ 0.069651  ┆ 31.378851 ┆ 0.063374  ┆ 0.046401 │\n",
       "│ 20318869c ┆           ┆           ┆ 7         ┆   ┆           ┆           ┆           ┆          │\n",
       "│ 38c66be46 ┆           ┆           ┆           ┆   ┆           ┆           ┆           ┆          │\n",
       "│ 663…      ┆           ┆           ┆           ┆   ┆           ┆           ┆           ┆          │\n",
       "│ 00066be8e ┆ 10.472548 ┆ 0.231099  ┆ -2.985105 ┆ … ┆ 0.067615  ┆ 30.864024 ┆ 0.068593  ┆ 0.042906 │\n",
       "│ 20318869c ┆           ┆           ┆           ┆   ┆           ┆           ┆           ┆          │\n",
       "│ 38c66be46 ┆           ┆           ┆           ┆   ┆           ┆           ┆           ┆          │\n",
       "│ 663…      ┆           ┆           ┆           ┆   ┆           ┆           ┆           ┆          │\n",
       "│ 000fb056f ┆ 6.055565  ┆ -0.117775 ┆ 7.632668  ┆ … ┆ 0.029065  ┆ 17.743164 ┆ 0.167001  ┆ 0.016879 │\n",
       "│ 97572d384 ┆           ┆           ┆           ┆   ┆           ┆           ┆           ┆          │\n",
       "│ bae4f5fc1 ┆           ┆           ┆           ┆   ┆           ┆           ┆           ┆          │\n",
       "│ e0f…      ┆           ┆           ┆           ┆   ┆           ┆           ┆           ┆          │\n",
       "│ 000fb056f ┆ 3.316744  ┆ 1.276733  ┆ -31.72547 ┆ … ┆ 0.034328  ┆ 13.040347 ┆ -0.036199 ┆ 0.029945 │\n",
       "│ 97572d384 ┆           ┆           ┆ 7         ┆   ┆           ┆           ┆           ┆          │\n",
       "│ bae4f5fc1 ┆           ┆           ┆           ┆   ┆           ┆           ┆           ┆          │\n",
       "│ e0f…      ┆           ┆           ┆           ┆   ┆           ┆           ┆           ┆          │\n",
       "│ …         ┆ …         ┆ …         ┆ …         ┆ … ┆ …         ┆ …         ┆ …         ┆ …        │\n",
       "│ fff88cca5 ┆ -0.0      ┆ -0.0      ┆ 16.102747 ┆ … ┆ -0.022152 ┆ 3.03145   ┆ -0.010188 ┆ -0.02161 │\n",
       "│ f8a012427 ┆           ┆           ┆           ┆   ┆           ┆           ┆           ┆ 9        │\n",
       "│ b96bdde66 ┆           ┆           ┆           ┆   ┆           ┆           ┆           ┆          │\n",
       "│ 011…      ┆           ┆           ┆           ┆   ┆           ┆           ┆           ┆          │\n",
       "│ fff88cca5 ┆ 1.594968  ┆ 0.350129  ┆ -5.791823 ┆ … ┆ -0.022581 ┆ 6.998211  ┆ -0.055993 ┆ -0.04144 │\n",
       "│ f8a012427 ┆           ┆           ┆           ┆   ┆           ┆           ┆           ┆ 5        │\n",
       "│ b96bdde66 ┆           ┆           ┆           ┆   ┆           ┆           ┆           ┆          │\n",
       "│ 011…      ┆           ┆           ┆           ┆   ┆           ┆           ┆           ┆          │\n",
       "│ fff88cca5 ┆ -0.004207 ┆ -0.037833 ┆ -2.089301 ┆ … ┆ -0.023413 ┆ 3.018981  ┆ -0.005189 ┆ -0.02243 │\n",
       "│ f8a012427 ┆           ┆           ┆           ┆   ┆           ┆           ┆           ┆ 9        │\n",
       "│ b96bdde66 ┆           ┆           ┆           ┆   ┆           ┆           ┆           ┆          │\n",
       "│ 011…      ┆           ┆           ┆           ┆   ┆           ┆           ┆           ┆          │\n",
       "│ fff88cca5 ┆ -2.1624e- ┆ -1.9432e- ┆ -2.170106 ┆ … ┆ -0.023123 ┆ 3.046678  ┆ -0.007237 ┆ -0.02247 │\n",
       "│ f8a012427 ┆ 10        ┆ 9         ┆           ┆   ┆           ┆           ┆           ┆ 3        │\n",
       "│ b96bdde66 ┆           ┆           ┆           ┆   ┆           ┆           ┆           ┆          │\n",
       "│ 011…      ┆           ┆           ┆           ┆   ┆           ┆           ┆           ┆          │\n",
       "│ fff88cca5 ┆ -1.1102e- ┆ -9.9770e- ┆ -2.24445  ┆ … ┆ -0.025431 ┆ 3.199906  ┆ -0.00291  ┆ -0.02516 │\n",
       "│ f8a012427 ┆ 17        ┆ 17        ┆           ┆   ┆           ┆           ┆           ┆ 7        │\n",
       "│ b96bdde66 ┆           ┆           ┆           ┆   ┆           ┆           ┆           ┆          │\n",
       "│ 011…      ┆           ┆           ┆           ┆   ┆           ┆           ┆           ┆          │\n",
       "└───────────┴───────────┴───────────┴───────────┴───┴───────────┴───────────┴───────────┴──────────┘"
      ]
     },
     "execution_count": 13,
     "metadata": {},
     "output_type": "execute_result"
    }
   ],
   "source": [
    "oof_preds = oof_preds.select(pl.all().name.prefix(\"pred_\"))\n",
    "pred_cols = oof_preds.columns\n",
    "\n",
    "tr_df = pl.concat([tr_df, oof_preds], how=\"horizontal\")\n",
    "tr_df"
   ]
  },
  {
   "cell_type": "markdown",
   "metadata": {},
   "source": [
    "## 評価"
   ]
  },
  {
   "cell_type": "code",
   "execution_count": 14,
   "metadata": {},
   "outputs": [
    {
     "data": {
      "text/plain": [
       "{'score_pred_tg_cood_x_0': 0.5157584639431565,\n",
       " 'score_pred_tg_cood_y_0': 0.06254857881987722,\n",
       " 'score_pred_tg_cood_z_0': 0.03006271735243483,\n",
       " 'score_pred_tg_cood_x_1': 0.9983537020562958,\n",
       " 'score_pred_tg_cood_y_1': 0.1660725844289282,\n",
       " 'score_pred_tg_cood_z_1': 0.058571404896134334,\n",
       " 'score_pred_tg_cood_x_2': 1.5577323763558297,\n",
       " 'score_pred_tg_cood_y_2': 0.31712172570409425,\n",
       " 'score_pred_tg_cood_z_2': 0.08986715250055254,\n",
       " 'score_pred_tg_cood_x_3': 2.0484976704154474,\n",
       " 'score_pred_tg_cood_y_3': 0.5169325401440257,\n",
       " 'score_pred_tg_cood_z_3': 0.12226067348837782,\n",
       " 'score_pred_tg_cood_x_4': 2.652057307423541,\n",
       " 'score_pred_tg_cood_y_4': 0.7566631794961838,\n",
       " 'score_pred_tg_cood_z_4': 0.15744169662896376,\n",
       " 'score_pred_tg_cood_x_5': 3.3839593093051703,\n",
       " 'score_pred_tg_cood_y_5': 1.0433351750650939,\n",
       " 'score_pred_tg_cood_z_5': 0.19070831852810757,\n",
       " 'avg': 0.8148858098084564}"
      ]
     },
     "execution_count": 14,
     "metadata": {},
     "output_type": "execute_result"
    }
   ],
   "source": [
    "def calc_score(df: pl.DataFrame, pred_cols: list[str]):\n",
    "    tg_cols = sum([[f\"x_{i}\", f\"y_{i}\", f\"z_{i}\"] for i in range(6)], [])\n",
    "\n",
    "    tg = df.select(tg_cols).to_numpy()\n",
    "    pred = df.select(pred_cols).to_numpy()\n",
    "\n",
    "    scores = np.abs(tg - pred).mean(axis=0)\n",
    "    scores = {f\"score_{col}\": float(score) for col, score in zip(pred_cols, scores)}\n",
    "    scores[\"avg\"] = float(np.abs(tg - pred).mean())\n",
    "    return scores\n",
    "\n",
    "\n",
    "scores = calc_score(tr_df, pred_cols)\n",
    "scores"
   ]
  },
  {
   "cell_type": "code",
   "execution_count": 15,
   "metadata": {},
   "outputs": [
    {
     "data": {
      "image/png": "[encoded data removed]",
      "text/plain": [
       "<Figure size 1200x1200 with 36 Axes>"
      ]
     },
     "metadata": {},
     "output_type": "display_data"
    }
   ],
   "source": [
    "utils.plot_calibration_curve(tr_df, pred_cols, n_bins=40)"
   ]
  },
  {
   "cell_type": "markdown",
   "metadata": {},
   "source": [
    "## Submission"
   ]
  },
  {
   "cell_type": "code",
   "execution_count": 16,
   "metadata": {},
   "outputs": [
    {
     "data": {
      "text/html": [
       "<div><style>\n",
       ".dataframe > thead > tr,\n",
       ".dataframe > tbody > tr {\n",
       "  text-align: right;\n",
       "  white-space: pre-wrap;\n",
       "}\n",
       "</style>\n",
       "<small>shape: (1_727, 18)</small><table border=\"1\" class=\"dataframe\"><thead><tr><th>pred_tg_cood_x_0</th><th>pred_tg_cood_y_0</th><th>pred_tg_cood_z_0</th><th>pred_tg_cood_x_1</th><th>pred_tg_cood_y_1</th><th>pred_tg_cood_z_1</th><th>pred_tg_cood_x_2</th><th>pred_tg_cood_y_2</th><th>pred_tg_cood_z_2</th><th>pred_tg_cood_x_3</th><th>pred_tg_cood_y_3</th><th>pred_tg_cood_z_3</th><th>pred_tg_cood_x_4</th><th>pred_tg_cood_y_4</th><th>pred_tg_cood_z_4</th><th>pred_tg_cood_x_5</th><th>pred_tg_cood_y_5</th><th>pred_tg_cood_z_5</th></tr><tr><td>f64</td><td>f64</td><td>f64</td><td>f64</td><td>f64</td><td>f64</td><td>f64</td><td>f64</td><td>f64</td><td>f64</td><td>f64</td><td>f64</td><td>f64</td><td>f64</td><td>f64</td><td>f64</td><td>f64</td><td>f64</td></tr></thead><tbody><tr><td>1.581362</td><td>0.00763</td><td>0.001736</td><td>3.32626</td><td>-0.021762</td><td>0.005023</td><td>5.043715</td><td>-0.020182</td><td>0.001307</td><td>6.915506</td><td>-0.021892</td><td>-0.006324</td><td>8.477461</td><td>-0.036444</td><td>0.006467</td><td>10.178864</td><td>-0.079259</td><td>0.004278</td></tr><tr><td>2.292623</td><td>0.165876</td><td>0.073928</td><td>4.800183</td><td>-0.176091</td><td>0.113711</td><td>7.940285</td><td>-0.164885</td><td>0.129751</td><td>10.168004</td><td>-0.08024</td><td>0.091045</td><td>13.27866</td><td>-0.232577</td><td>0.131211</td><td>15.608288</td><td>-0.158307</td><td>0.024611</td></tr><tr><td>1.720407</td><td>0.01046</td><td>0.002266</td><td>3.598348</td><td>-0.009008</td><td>0.006217</td><td>5.451695</td><td>-0.006237</td><td>0.002424</td><td>7.484436</td><td>-0.013297</td><td>-0.004636</td><td>9.268011</td><td>-0.019043</td><td>0.00513</td><td>11.03442</td><td>-0.051927</td><td>0.011564</td></tr><tr><td>1.716121</td><td>0.057373</td><td>0.018025</td><td>3.58432</td><td>-0.051937</td><td>0.021745</td><td>5.578766</td><td>-0.020713</td><td>0.038261</td><td>7.356333</td><td>0.022995</td><td>0.023092</td><td>9.36247</td><td>-0.031109</td><td>0.026815</td><td>10.923087</td><td>-0.00032</td><td>-0.00505</td></tr><tr><td>1.022682</td><td>0.008595</td><td>0.004934</td><td>2.14288</td><td>-0.025765</td><td>0.003887</td><td>3.351662</td><td>-0.025928</td><td>0.010366</td><td>4.504183</td><td>-0.016521</td><td>-0.003522</td><td>5.451249</td><td>-0.029864</td><td>-0.007923</td><td>6.668313</td><td>-0.039512</td><td>-0.019444</td></tr><tr><td>&hellip;</td><td>&hellip;</td><td>&hellip;</td><td>&hellip;</td><td>&hellip;</td><td>&hellip;</td><td>&hellip;</td><td>&hellip;</td><td>&hellip;</td><td>&hellip;</td><td>&hellip;</td><td>&hellip;</td><td>&hellip;</td><td>&hellip;</td><td>&hellip;</td><td>&hellip;</td><td>&hellip;</td><td>&hellip;</td></tr><tr><td>6.552565</td><td>0.039838</td><td>0.023595</td><td>13.852954</td><td>-0.009083</td><td>0.041697</td><td>21.120945</td><td>0.004777</td><td>0.044968</td><td>28.414014</td><td>-0.008316</td><td>0.034516</td><td>35.812286</td><td>0.025109</td><td>0.072791</td><td>42.967314</td><td>0.074296</td><td>0.061027</td></tr><tr><td>6.833967</td><td>0.015133</td><td>0.01179</td><td>14.4175</td><td>0.001346</td><td>0.024783</td><td>22.002559</td><td>0.007255</td><td>0.029894</td><td>29.538835</td><td>0.000962</td><td>0.018458</td><td>37.218366</td><td>0.012328</td><td>0.037021</td><td>44.641824</td><td>0.01812</td><td>0.032635</td></tr><tr><td>7.05732</td><td>0.015354</td><td>0.010656</td><td>14.883016</td><td>0.002272</td><td>0.022423</td><td>22.703077</td><td>0.011575</td><td>0.024902</td><td>30.53294</td><td>0.012353</td><td>0.017966</td><td>38.503042</td><td>0.024232</td><td>0.030922</td><td>46.241168</td><td>0.025903</td><td>0.028838</td></tr><tr><td>6.43652</td><td>0.028606</td><td>0.021319</td><td>13.601775</td><td>-0.00742</td><td>0.030873</td><td>20.710282</td><td>0.005152</td><td>0.029541</td><td>27.840311</td><td>0.00068</td><td>0.010706</td><td>35.123153</td><td>0.014863</td><td>0.035071</td><td>42.179183</td><td>0.081987</td><td>0.018435</td></tr><tr><td>5.646859</td><td>0.215157</td><td>0.104315</td><td>12.034695</td><td>-0.140388</td><td>0.145675</td><td>18.35433</td><td>-0.064522</td><td>0.112258</td><td>24.810127</td><td>-0.043162</td><td>0.033685</td><td>31.584141</td><td>-0.016517</td><td>0.107827</td><td>37.446242</td><td>0.350208</td><td>0.033261</td></tr></tbody></table></div>"
      ],
      "text/plain": [
       "shape: (1_727, 18)\n",
       "┌───────────┬───────────┬───────────┬───────────┬───┬───────────┬───────────┬───────────┬──────────┐\n",
       "│ pred_tg_c ┆ pred_tg_c ┆ pred_tg_c ┆ pred_tg_c ┆ … ┆ pred_tg_c ┆ pred_tg_c ┆ pred_tg_c ┆ pred_tg_ │\n",
       "│ ood_x_0   ┆ ood_y_0   ┆ ood_z_0   ┆ ood_x_1   ┆   ┆ ood_z_4   ┆ ood_x_5   ┆ ood_y_5   ┆ cood_z_5 │\n",
       "│ ---       ┆ ---       ┆ ---       ┆ ---       ┆   ┆ ---       ┆ ---       ┆ ---       ┆ ---      │\n",
       "│ f64       ┆ f64       ┆ f64       ┆ f64       ┆   ┆ f64       ┆ f64       ┆ f64       ┆ f64      │\n",
       "╞═══════════╪═══════════╪═══════════╪═══════════╪═══╪═══════════╪═══════════╪═══════════╪══════════╡\n",
       "│ 1.581362  ┆ 0.00763   ┆ 0.001736  ┆ 3.32626   ┆ … ┆ 0.006467  ┆ 10.178864 ┆ -0.079259 ┆ 0.004278 │\n",
       "│ 2.292623  ┆ 0.165876  ┆ 0.073928  ┆ 4.800183  ┆ … ┆ 0.131211  ┆ 15.608288 ┆ -0.158307 ┆ 0.024611 │\n",
       "│ 1.720407  ┆ 0.01046   ┆ 0.002266  ┆ 3.598348  ┆ … ┆ 0.00513   ┆ 11.03442  ┆ -0.051927 ┆ 0.011564 │\n",
       "│ 1.716121  ┆ 0.057373  ┆ 0.018025  ┆ 3.58432   ┆ … ┆ 0.026815  ┆ 10.923087 ┆ -0.00032  ┆ -0.00505 │\n",
       "│ 1.022682  ┆ 0.008595  ┆ 0.004934  ┆ 2.14288   ┆ … ┆ -0.007923 ┆ 6.668313  ┆ -0.039512 ┆ -0.01944 │\n",
       "│           ┆           ┆           ┆           ┆   ┆           ┆           ┆           ┆ 4        │\n",
       "│ …         ┆ …         ┆ …         ┆ …         ┆ … ┆ …         ┆ …         ┆ …         ┆ …        │\n",
       "│ 6.552565  ┆ 0.039838  ┆ 0.023595  ┆ 13.852954 ┆ … ┆ 0.072791  ┆ 42.967314 ┆ 0.074296  ┆ 0.061027 │\n",
       "│ 6.833967  ┆ 0.015133  ┆ 0.01179   ┆ 14.4175   ┆ … ┆ 0.037021  ┆ 44.641824 ┆ 0.01812   ┆ 0.032635 │\n",
       "│ 7.05732   ┆ 0.015354  ┆ 0.010656  ┆ 14.883016 ┆ … ┆ 0.030922  ┆ 46.241168 ┆ 0.025903  ┆ 0.028838 │\n",
       "│ 6.43652   ┆ 0.028606  ┆ 0.021319  ┆ 13.601775 ┆ … ┆ 0.035071  ┆ 42.179183 ┆ 0.081987  ┆ 0.018435 │\n",
       "│ 5.646859  ┆ 0.215157  ┆ 0.104315  ┆ 12.034695 ┆ … ┆ 0.107827  ┆ 37.446242 ┆ 0.350208  ┆ 0.033261 │\n",
       "└───────────┴───────────┴───────────┴───────────┴───┴───────────┴───────────┴───────────┴──────────┘"
      ]
     },
     "execution_count": 16,
     "metadata": {},
     "output_type": "execute_result"
    }
   ],
   "source": [
    "preds = utils.predict(models, ts_images, ts_df, feature.columns, pred_cols)\n",
    "preds"
   ]
  },
  {
   "cell_type": "code",
   "execution_count": 17,
   "metadata": {},
   "outputs": [
    {
     "name": "stdout",
     "output_type": "stream",
     "text": [
      "Submission file is created: submission.csv\n"
     ]
    }
   ],
   "source": [
    "def create_submission_csv(preds: pl.DataFrame, filename: str = \"submission.csv\"):\n",
    "    submission_cols = sum([[f\"x_{i}\", f\"y_{i}\", f\"z_{i}\"] for i in range(6)], [])\n",
    "\n",
    "    # validate preds columns\n",
    "    if len(preds.columns) != len(submission_cols):\n",
    "        raise ValueError(\n",
    "            f\"preds columns must be {len(submission_cols)}, but got {len(preds.columns)}\"\n",
    "        )\n",
    "\n",
    "    preds.columns = submission_cols\n",
    "    preds.write_csv(filename)\n",
    "    print(f\"Submission file is created: {filename}\")\n",
    "\n",
    "\n",
    "create_submission_csv(preds)"
   ]
  }
 ],
 "metadata": {
  "kernelspec": {
   "display_name": "venv",
   "language": "python",
   "name": "python3"
  },
  "language_info": {
   "codemirror_mode": {
    "name": "ipython",
    "version": 3
   },
   "file_extension": ".py",
   "mimetype": "text/x-python",
   "name": "python",
   "nbconvert_exporter": "python",
   "pygments_lexer": "ipython3",
   "version": "3.10.12"
  }
 },
 "nbformat": 4,
 "nbformat_minor": 2
}
