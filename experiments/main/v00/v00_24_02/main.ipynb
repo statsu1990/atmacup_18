{
 "cells": [
  {
   "cell_type": "code",
   "execution_count": 1,
   "metadata": {},
   "outputs": [
    {
     "data": {
      "text/plain": [
       "<module 'utils' from '/home/tatsuya/projects/atmacup/atmacup_18/experiments/main/v00/v00_24_02/utils.py'>"
      ]
     },
     "execution_count": 1,
     "metadata": {},
     "output_type": "execute_result"
    }
   ],
   "source": [
    "import gc\n",
    "import importlib\n",
    "from pathlib import Path\n",
    "\n",
    "import matplotlib.pyplot as plt\n",
    "import numpy as np\n",
    "import polars as pl\n",
    "import seaborn as sns\n",
    "from atmacup_18 import constants\n",
    "\n",
    "import utils\n",
    "\n",
    "importlib.reload(utils)"
   ]
  },
  {
   "cell_type": "code",
   "execution_count": 2,
   "metadata": {},
   "outputs": [],
   "source": [
    "RANDOM_STATE = 2024\n",
    "utils.seed_everything(RANDOM_STATE)"
   ]
  },
  {
   "cell_type": "markdown",
   "metadata": {},
   "source": [
    "## データ読み込み"
   ]
  },
  {
   "cell_type": "code",
   "execution_count": 3,
   "metadata": {},
   "outputs": [],
   "source": [
    "notebook_dir = Path().resolve()\n",
    "DATA_DIR = notebook_dir.parents[3].joinpath(\"data\")\n",
    "DATASET_DIR = DATA_DIR.joinpath(\"atmaCup#18_dataset\")\n",
    "TR_FEATURES_CSV = DATASET_DIR.joinpath(\"train_features.csv\")\n",
    "TS_FEATURES_CSV = DATASET_DIR.joinpath(\"test_features.csv\")\n",
    "IMAGES_DIR = DATASET_DIR.joinpath(\"images\")\n",
    "TRAFFIC_LIGHTS_CSV = DATASET_DIR.joinpath(\"traffic_lights.csv\")\n",
    "\n",
    "IMAGE_NAMES = [\"image_t.png\", \"image_t-0.5.png\", \"image_t-1.0.png\"]\n",
    "TRAFFIC_LIGHTS_BBOX_IMAGE_NAME = constants.TRAFFIC_LIGHT_BBOX_IMAGE_NAME\n",
    "DEPTH_IMAGE_FILE_PREFIX = constants.DEPTH_IMAGE_FILE_PREFIX\n",
    "DEPTH_IMAGE_NAMES = [\n",
    "    f\"{DEPTH_IMAGE_FILE_PREFIX}{image_name}.npy\" for image_name in IMAGE_NAMES\n",
    "]\n",
    "\n",
    "BASE_PRED_DIR = Path(\"..\", \"..\", \"..\", \"main2\", \"v00\", \"v00_05_00\")\n",
    "BASE_OOF_PRED_CSV = BASE_PRED_DIR.joinpath(\"oof_preds.csv\")\n",
    "BASE_SUBMISSION_CSV = BASE_PRED_DIR.joinpath(\"submission.csv\")"
   ]
  },
  {
   "cell_type": "code",
   "execution_count": 4,
   "metadata": {},
   "outputs": [],
   "source": [
    "TARGET_COLS = sum([[f\"x_{i}\", f\"y_{i}\", f\"z_{i}\"] for i in range(6)], [])\n",
    "BASE_PRED_COLS = [f\"base_pred_{col}\" for col in TARGET_COLS]"
   ]
  },
  {
   "cell_type": "code",
   "execution_count": 5,
   "metadata": {},
   "outputs": [
    {
     "data": {
      "text/html": [
       "<div><style>\n",
       ".dataframe > thead > tr,\n",
       ".dataframe > tbody > tr {\n",
       "  text-align: right;\n",
       "  white-space: pre-wrap;\n",
       "}\n",
       "</style>\n",
       "<small>shape: (2, 33)</small><table border=\"1\" class=\"dataframe\"><thead><tr><th>ID</th><th>vEgo</th><th>aEgo</th><th>steeringAngleDeg</th><th>steeringTorque</th><th>brake</th><th>brakePressed</th><th>gas</th><th>gasPressed</th><th>gearShifter</th><th>leftBlinker</th><th>rightBlinker</th><th>x_0</th><th>y_0</th><th>z_0</th><th>x_1</th><th>y_1</th><th>z_1</th><th>x_2</th><th>y_2</th><th>z_2</th><th>x_3</th><th>y_3</th><th>z_3</th><th>x_4</th><th>y_4</th><th>z_4</th><th>x_5</th><th>y_5</th><th>z_5</th><th>scene_id</th><th>scene_dsec</th><th>origin_idx</th></tr><tr><td>str</td><td>f64</td><td>f64</td><td>f64</td><td>f64</td><td>f64</td><td>bool</td><td>f64</td><td>bool</td><td>str</td><td>bool</td><td>bool</td><td>f64</td><td>f64</td><td>f64</td><td>f64</td><td>f64</td><td>f64</td><td>f64</td><td>f64</td><td>f64</td><td>f64</td><td>f64</td><td>f64</td><td>f64</td><td>f64</td><td>f64</td><td>f64</td><td>f64</td><td>f64</td><td>str</td><td>i32</td><td>i64</td></tr></thead><tbody><tr><td>&quot;00066be8e20318869c38c66be46663…</td><td>5.701526</td><td>1.538456</td><td>-2.165777</td><td>-139.0</td><td>0.0</td><td>false</td><td>0.25</td><td>true</td><td>&quot;drive&quot;</td><td>false</td><td>false</td><td>2.82959</td><td>0.032226</td><td>0.045187</td><td>6.231999</td><td>0.065895</td><td>0.107974</td><td>9.785009</td><td>0.124972</td><td>0.203649</td><td>13.485472</td><td>0.163448</td><td>0.302818</td><td>17.574227</td><td>0.174289</td><td>0.406331</td><td>21.951269</td><td>0.199503</td><td>0.485079</td><td>&quot;00066be8e20318869c38c66be46663…</td><td>320</td><td>0</td></tr><tr><td>&quot;00066be8e20318869c38c66be46663…</td><td>11.176292</td><td>0.279881</td><td>-11.625697</td><td>-44.0</td><td>0.0</td><td>false</td><td>0.0</td><td>false</td><td>&quot;drive&quot;</td><td>false</td><td>true</td><td>4.970268</td><td>-0.007936</td><td>0.005028</td><td>10.350489</td><td>-0.032374</td><td>-0.020701</td><td>15.770054</td><td>0.084073</td><td>0.008645</td><td>21.132415</td><td>0.391343</td><td>0.036335</td><td>26.316489</td><td>0.843124</td><td>0.065</td><td>31.383814</td><td>1.42507</td><td>0.073083</td><td>&quot;00066be8e20318869c38c66be46663…</td><td>420</td><td>1</td></tr></tbody></table></div>"
      ],
      "text/plain": [
       "shape: (2, 33)\n",
       "┌────────────┬───────────┬──────────┬───────────┬───┬──────────┬───────────┬───────────┬───────────┐\n",
       "│ ID         ┆ vEgo      ┆ aEgo     ┆ steeringA ┆ … ┆ z_5      ┆ scene_id  ┆ scene_dse ┆ origin_id │\n",
       "│ ---        ┆ ---       ┆ ---      ┆ ngleDeg   ┆   ┆ ---      ┆ ---       ┆ c         ┆ x         │\n",
       "│ str        ┆ f64       ┆ f64      ┆ ---       ┆   ┆ f64      ┆ str       ┆ ---       ┆ ---       │\n",
       "│            ┆           ┆          ┆ f64       ┆   ┆          ┆           ┆ i32       ┆ i64       │\n",
       "╞════════════╪═══════════╪══════════╪═══════════╪═══╪══════════╪═══════════╪═══════════╪═══════════╡\n",
       "│ 00066be8e2 ┆ 5.701526  ┆ 1.538456 ┆ -2.165777 ┆ … ┆ 0.485079 ┆ 00066be8e ┆ 320       ┆ 0         │\n",
       "│ 0318869c38 ┆           ┆          ┆           ┆   ┆          ┆ 20318869c ┆           ┆           │\n",
       "│ c66be46663 ┆           ┆          ┆           ┆   ┆          ┆ 38c66be46 ┆           ┆           │\n",
       "│ …          ┆           ┆          ┆           ┆   ┆          ┆ 663…      ┆           ┆           │\n",
       "│ 00066be8e2 ┆ 11.176292 ┆ 0.279881 ┆ -11.62569 ┆ … ┆ 0.073083 ┆ 00066be8e ┆ 420       ┆ 1         │\n",
       "│ 0318869c38 ┆           ┆          ┆ 7         ┆   ┆          ┆ 20318869c ┆           ┆           │\n",
       "│ c66be46663 ┆           ┆          ┆           ┆   ┆          ┆ 38c66be46 ┆           ┆           │\n",
       "│ …          ┆           ┆          ┆           ┆   ┆          ┆ 663…      ┆           ┆           │\n",
       "└────────────┴───────────┴──────────┴───────────┴───┴──────────┴───────────┴───────────┴───────────┘"
      ]
     },
     "execution_count": 5,
     "metadata": {},
     "output_type": "execute_result"
    }
   ],
   "source": [
    "tr_df = utils.read_feature_csv(TR_FEATURES_CSV)\n",
    "tr_df.head(2)"
   ]
  },
  {
   "cell_type": "code",
   "execution_count": 6,
   "metadata": {},
   "outputs": [
    {
     "data": {
      "text/html": [
       "<div><style>\n",
       ".dataframe > thead > tr,\n",
       ".dataframe > tbody > tr {\n",
       "  text-align: right;\n",
       "  white-space: pre-wrap;\n",
       "}\n",
       "</style>\n",
       "<small>shape: (2, 15)</small><table border=\"1\" class=\"dataframe\"><thead><tr><th>ID</th><th>vEgo</th><th>aEgo</th><th>steeringAngleDeg</th><th>steeringTorque</th><th>brake</th><th>brakePressed</th><th>gas</th><th>gasPressed</th><th>gearShifter</th><th>leftBlinker</th><th>rightBlinker</th><th>scene_id</th><th>scene_dsec</th><th>origin_idx</th></tr><tr><td>str</td><td>f64</td><td>f64</td><td>f64</td><td>f64</td><td>f64</td><td>bool</td><td>f64</td><td>bool</td><td>str</td><td>bool</td><td>bool</td><td>str</td><td>i32</td><td>i64</td></tr></thead><tbody><tr><td>&quot;012baccc145d400c896cb82065a93d…</td><td>3.374273</td><td>-0.01936</td><td>-34.008415</td><td>17.0</td><td>0.0</td><td>false</td><td>0.0</td><td>false</td><td>&quot;drive&quot;</td><td>false</td><td>false</td><td>&quot;012baccc145d400c896cb82065a93d…</td><td>120</td><td>0</td></tr><tr><td>&quot;012baccc145d400c896cb82065a93d…</td><td>2.441048</td><td>-0.022754</td><td>307.860077</td><td>295.0</td><td>0.0</td><td>true</td><td>0.0</td><td>false</td><td>&quot;drive&quot;</td><td>false</td><td>false</td><td>&quot;012baccc145d400c896cb82065a93d…</td><td>220</td><td>1</td></tr></tbody></table></div>"
      ],
      "text/plain": [
       "shape: (2, 15)\n",
       "┌───────────┬──────────┬───────────┬───────────┬───┬───────────┬───────────┬───────────┬───────────┐\n",
       "│ ID        ┆ vEgo     ┆ aEgo      ┆ steeringA ┆ … ┆ rightBlin ┆ scene_id  ┆ scene_dse ┆ origin_id │\n",
       "│ ---       ┆ ---      ┆ ---       ┆ ngleDeg   ┆   ┆ ker       ┆ ---       ┆ c         ┆ x         │\n",
       "│ str       ┆ f64      ┆ f64       ┆ ---       ┆   ┆ ---       ┆ str       ┆ ---       ┆ ---       │\n",
       "│           ┆          ┆           ┆ f64       ┆   ┆ bool      ┆           ┆ i32       ┆ i64       │\n",
       "╞═══════════╪══════════╪═══════════╪═══════════╪═══╪═══════════╪═══════════╪═══════════╪═══════════╡\n",
       "│ 012baccc1 ┆ 3.374273 ┆ -0.01936  ┆ -34.00841 ┆ … ┆ false     ┆ 012baccc1 ┆ 120       ┆ 0         │\n",
       "│ 45d400c89 ┆          ┆           ┆ 5         ┆   ┆           ┆ 45d400c89 ┆           ┆           │\n",
       "│ 6cb82065a ┆          ┆           ┆           ┆   ┆           ┆ 6cb82065a ┆           ┆           │\n",
       "│ 93d…      ┆          ┆           ┆           ┆   ┆           ┆ 93d…      ┆           ┆           │\n",
       "│ 012baccc1 ┆ 2.441048 ┆ -0.022754 ┆ 307.86007 ┆ … ┆ false     ┆ 012baccc1 ┆ 220       ┆ 1         │\n",
       "│ 45d400c89 ┆          ┆           ┆ 7         ┆   ┆           ┆ 45d400c89 ┆           ┆           │\n",
       "│ 6cb82065a ┆          ┆           ┆           ┆   ┆           ┆ 6cb82065a ┆           ┆           │\n",
       "│ 93d…      ┆          ┆           ┆           ┆   ┆           ┆ 93d…      ┆           ┆           │\n",
       "└───────────┴──────────┴───────────┴───────────┴───┴───────────┴───────────┴───────────┴───────────┘"
      ]
     },
     "execution_count": 6,
     "metadata": {},
     "output_type": "execute_result"
    }
   ],
   "source": [
    "ts_df = utils.read_feature_csv(TS_FEATURES_CSV)\n",
    "ts_df.head(2)"
   ]
  },
  {
   "cell_type": "code",
   "execution_count": 7,
   "metadata": {},
   "outputs": [],
   "source": [
    "def reduce_base_pred(\n",
    "    df: pl.DataFrame, base_pred_df: pl.DataFrame, has_target: bool\n",
    ") -> pl.DataFrame:\n",
    "    \"\"\"\n",
    "    基礎推定値のdfをconcatし、元のdfのtarget列から除去したdfを返す\n",
    "\n",
    "    Args:\n",
    "        df (pl.DataFrame): target列を持つDataFrame\n",
    "        base_pred_df (pl.DataFrame): 基礎推定値のDataFrame\n",
    "        has_target (bool): target列を持つかどうか\n",
    "    \"\"\"\n",
    "    target_cols = TARGET_COLS\n",
    "    base_pred_cols = BASE_PRED_COLS\n",
    "    df = pl.concat(\n",
    "        [\n",
    "            df,\n",
    "            base_pred_df.select(TARGET_COLS).rename(\n",
    "                {t: b for t, b in zip(target_cols, base_pred_cols)}\n",
    "            ),\n",
    "        ],\n",
    "        how=\"horizontal\",\n",
    "    )\n",
    "\n",
    "    if has_target:\n",
    "        df = df.with_columns(\n",
    "            [\n",
    "                (pl.col(tg_col) - pl.col(base_pred_col)).alias(tg_col)\n",
    "                for tg_col, base_pred_col in zip(target_cols, base_pred_cols)\n",
    "            ]\n",
    "        )\n",
    "    return df\n",
    "\n",
    "\n",
    "def add_base_pred_to_target(df: pl.DataFrame, target_cols: list[str]) -> pl.DataFrame:\n",
    "    \"\"\"\n",
    "    target_colsの列に基礎推定量を足したDataFrameを返す\n",
    "\n",
    "    Args:\n",
    "        df (pl.DataFrame): target列を持つDataFrame\n",
    "        target_cols (list[str]): 追加する基礎推定量の列名\n",
    "    \"\"\"\n",
    "    df = df.with_columns(\n",
    "        [\n",
    "            (pl.col(tg_col) + pl.col(bp_col)).alias(tg_col)\n",
    "            for tg_col, bp_col in zip(target_cols, BASE_PRED_COLS)\n",
    "        ]\n",
    "    )\n",
    "\n",
    "    return df\n",
    "\n",
    "\n",
    "if BASE_PRED_DIR is not None:\n",
    "    # columns: \"x_0\", \"y_0\", \"z_0\", ..., \"x_5\", \"y_5\", \"z_5\"\n",
    "    base_oof_pred_df = pl.read_csv(BASE_OOF_PRED_CSV)\n",
    "    base_submission_df = pl.read_csv(BASE_SUBMISSION_CSV)\n",
    "\n",
    "    # 基礎推定値を元のtarget列から引いた値を新たなtarget列とする\n",
    "    tr_df = reduce_base_pred(tr_df, base_oof_pred_df, has_target=True)\n",
    "    ts_df = reduce_base_pred(ts_df, base_submission_df, has_target=False)\n",
    "\n",
    "    del base_oof_pred_df, base_submission_df\n",
    "    gc.collect()"
   ]
  },
  {
   "cell_type": "code",
   "execution_count": 8,
   "metadata": {},
   "outputs": [
    {
     "name": "stdout",
     "output_type": "stream",
     "text": [
      "(43371, 1, 64, 128, 8)\n",
      "(1727, 1, 64, 128, 8)\n"
     ]
    }
   ],
   "source": [
    "tr_tl_bbox_images = utils.load_npy_images(\n",
    "    IMAGES_DIR,\n",
    "    ids=tr_df.get_column(\"ID\").to_list(),\n",
    "    image_names=[TRAFFIC_LIGHTS_BBOX_IMAGE_NAME],\n",
    ")\n",
    "print(tr_tl_bbox_images.shape)\n",
    "ts_tl_bbox_images = utils.load_npy_images(\n",
    "    IMAGES_DIR,\n",
    "    ids=ts_df.get_column(\"ID\").to_list(),\n",
    "    image_names=[TRAFFIC_LIGHTS_BBOX_IMAGE_NAME],\n",
    ")\n",
    "print(ts_tl_bbox_images.shape)"
   ]
  },
  {
   "cell_type": "code",
   "execution_count": 9,
   "metadata": {},
   "outputs": [
    {
     "name": "stdout",
     "output_type": "stream",
     "text": [
      "(43371, 3, 64, 128, 1)\n",
      "(1727, 3, 64, 128, 1)\n"
     ]
    }
   ],
   "source": [
    "tr_depth_images = utils.load_npy_images(\n",
    "    IMAGES_DIR,\n",
    "    ids=tr_df.get_column(\"ID\").to_list(),\n",
    "    image_names=DEPTH_IMAGE_NAMES,\n",
    ")\n",
    "print(tr_depth_images.shape)\n",
    "ts_depth_images = utils.load_npy_images(\n",
    "    IMAGES_DIR,\n",
    "    ids=ts_df.get_column(\"ID\").to_list(),\n",
    "    image_names=DEPTH_IMAGE_NAMES,\n",
    ")\n",
    "print(ts_depth_images.shape)"
   ]
  },
  {
   "cell_type": "code",
   "execution_count": 10,
   "metadata": {},
   "outputs": [
    {
     "name": "stdout",
     "output_type": "stream",
     "text": [
      "(43371, 3, 64, 128, 3)\n",
      "(1727, 3, 64, 128, 3)\n"
     ]
    }
   ],
   "source": [
    "tr_images = utils.load_images(\n",
    "    IMAGES_DIR, ids=tr_df.get_column(\"ID\").to_list(), image_names=IMAGE_NAMES\n",
    ")\n",
    "print(tr_images.shape)\n",
    "ts_images = utils.load_images(\n",
    "    IMAGES_DIR, ids=ts_df.get_column(\"ID\").to_list(), image_names=IMAGE_NAMES\n",
    ")\n",
    "print(ts_images.shape)"
   ]
  },
  {
   "cell_type": "code",
   "execution_count": 11,
   "metadata": {},
   "outputs": [
    {
     "name": "stdout",
     "output_type": "stream",
     "text": [
      "(43371, 20, 64, 128)\n",
      "(1727, 20, 64, 128)\n"
     ]
    }
   ],
   "source": [
    "tr_images = utils.preprocess_images(\n",
    "    # [tr_images, tr_tl_bbox_images, tr_optical_flow_images]\n",
    "    [tr_images, tr_tl_bbox_images, tr_depth_images]\n",
    "    # [tr_images]\n",
    ")\n",
    "ts_images = utils.preprocess_images(\n",
    "    # [ts_images, ts_tl_bbox_images, ts_optical_flow_images]\n",
    "    [ts_images, ts_tl_bbox_images, ts_depth_images]\n",
    "    # [ts_images]\n",
    ")\n",
    "\n",
    "print(tr_images.shape)\n",
    "print(ts_images.shape)"
   ]
  },
  {
   "cell_type": "code",
   "execution_count": 12,
   "metadata": {},
   "outputs": [
    {
     "data": {
      "text/plain": [
       "0"
      ]
     },
     "execution_count": 12,
     "metadata": {},
     "output_type": "execute_result"
    }
   ],
   "source": [
    "del tr_tl_bbox_images\n",
    "gc.collect()\n",
    "del ts_tl_bbox_images\n",
    "gc.collect()\n",
    "del tr_depth_images\n",
    "gc.collect()\n",
    "del ts_depth_images\n",
    "gc.collect()"
   ]
  },
  {
   "cell_type": "markdown",
   "metadata": {},
   "source": [
    "## scene_dsec順に並び替える"
   ]
  },
  {
   "cell_type": "code",
   "execution_count": 13,
   "metadata": {},
   "outputs": [],
   "source": [
    "tr_df = tr_df.sort([\"scene_id\", \"scene_dsec\"])\n",
    "ts_df = ts_df.sort([\"scene_id\", \"scene_dsec\"])\n",
    "\n",
    "tr_images = tr_images[tr_df.get_column(\"origin_idx\").to_numpy()]\n",
    "ts_images = ts_images[ts_df.get_column(\"origin_idx\").to_numpy()]"
   ]
  },
  {
   "cell_type": "markdown",
   "metadata": {},
   "source": [
    "## Target"
   ]
  },
  {
   "cell_type": "code",
   "execution_count": 14,
   "metadata": {},
   "outputs": [
    {
     "name": "stdout",
     "output_type": "stream",
     "text": [
      "['tg_cood_x_0', 'tg_cood_y_0', 'tg_cood_z_0', 'tg_cood_x_1', 'tg_cood_y_1', 'tg_cood_z_1', 'tg_cood_x_2', 'tg_cood_y_2', 'tg_cood_z_2', 'tg_cood_x_3', 'tg_cood_y_3', 'tg_cood_z_3', 'tg_cood_x_4', 'tg_cood_y_4', 'tg_cood_z_4', 'tg_cood_x_5', 'tg_cood_y_5', 'tg_cood_z_5']\n",
      "Rows: 9\n",
      "Columns: 19\n",
      "$ statistic   <str> 'count', 'null_count', 'mean', 'std', 'min', '25%', '50%', '75%', 'max'\n",
      "$ tg_cood_x_0 <f64> 43371.0, 0.0, 3.915807866824304e-06, 0.09755740299606562, -2.068491360867153, -0.0399921260776388, 0.0001685152283451563, 0.041051261445355536, 1.205429121318332\n",
      "$ tg_cood_y_0 <f64> 43371.0, 0.0, 3.3850710814478617e-05, 0.062100404071971656, -2.5727879141483267, -0.021748391426786483, -0.0004883458396699972, 0.021632620544553012, 3.813253350830932\n",
      "$ tg_cood_z_0 <f64> 43371.0, 0.0, 1.0609752174614824e-05, 0.04015807466563177, -0.9997029502068319, -0.018513304908815843, 0.00038892404923006546, 0.017899114943309744, 1.4469071368673965\n",
      "$ tg_cood_x_1 <f64> 43371.0, 0.0, -6.5520745548367315e-06, 0.19825377923528573, -4.08222219508901, -0.08390384872561008, 4.7339412923008695e-06, 0.0870537192229417, 1.9471023089613446\n",
      "$ tg_cood_y_1 <f64> 43371.0, 0.0, 4.268691911134258e-05, 0.11844844952923751, -4.1852204140079134, -0.048527831085204504, -0.001041034396814018, 0.04785385981711798, 4.600523331988383\n",
      "$ tg_cood_z_1 <f64> 43371.0, 0.0, 7.891247961657762e-05, 0.08176729251191485, -1.7669821667918546, -0.03852329429635075, 0.0010240166201366868, 0.03763182226973652, 2.75882428589826\n",
      "$ tg_cood_x_2 <f64> 43371.0, 0.0, -1.1076554792355389e-06, 0.3274413970709133, -6.234782906229071, -0.1415867337649548, 0.0010543386603742988, 0.14678436813738216, 3.0444370971182213\n",
      "$ tg_cood_y_2 <f64> 43371.0, 0.0, 2.2105694400495505e-05, 0.19283156449555303, -4.552943210426955, -0.08184308713726296, -0.0013264112173428022, 0.08127180728407793, 4.749748236270589\n",
      "$ tg_cood_z_2 <f64> 43371.0, 0.0, 9.639154318498872e-05, 0.12387532444693777, -2.344864354331643, -0.05898352706234537, 0.0013258991618867698, 0.057943163697342, 3.9288752429476324\n",
      "$ tg_cood_x_3 <f64> 43371.0, 0.0, -8.236855657273717e-06, 0.5073308815145315, -8.53166829901652, -0.21721329420935476, 0.0010046101057299955, 0.2235462399536381, 4.409720864029232\n",
      "$ tg_cood_y_3 <f64> 43371.0, 0.0, -3.3506865991051825e-05, 0.30843263593222536, -5.034881576910844, -0.1257237940046474, -0.0017178213531834075, 0.12637063457467998, 6.126877056961789\n",
      "$ tg_cood_z_3 <f64> 43371.0, 0.0, 0.00010274194694908453, 0.16741500942736773, -3.0294936296801565, -0.08086576815326979, 0.0012794299941434042, 0.07848876676320263, 4.7899876972079545\n",
      "$ tg_cood_x_4 <f64> 43371.0, 0.0, -2.485562202581559e-05, 0.7359545857444416, -10.795176595508892, -0.3071788228185781, 0.004613982696078267, 0.3202900926633099, 7.013985027202066\n",
      "$ tg_cood_y_4 <f64> 43371.0, 0.0, -0.0002156587222826806, 0.474682920059183, -6.2215295352975915, -0.18060394758559578, -0.002555257005262823, 0.1820960429458065, 7.780304968790864\n",
      "$ tg_cood_z_4 <f64> 43371.0, 0.0, 0.00018634170789523093, 0.212628970388728, -3.832581315259639, -0.10248866522233392, 0.0011332195141916072, 0.1003280119476245, 5.777785469626974\n",
      "$ tg_cood_x_5 <f64> 43371.0, 0.0, 3.453830048083633e-05, 1.0107937372542135, -13.085240587395226, -0.4076887384485337, 0.0020236292174118375, 0.4248264805650024, 10.513568737874017\n",
      "$ tg_cood_y_5 <f64> 43371.0, 0.0, -0.00031484260182184704, 0.6927668267753552, -7.348868296828543, -0.2476757883774071, -0.001959689328593195, 0.2511126627944285, 9.68405205434402\n",
      "$ tg_cood_z_5 <f64> 43371.0, 0.0, 0.0001954975291461491, 0.25940671657637626, -4.614765178789295, -0.12496901530561363, 0.001180016345843693, 0.12132055365287034, 6.674956311165039\n",
      "\n",
      "None\n"
     ]
    },
    {
     "data": {
      "text/plain": [
       "0"
      ]
     },
     "execution_count": 14,
     "metadata": {},
     "output_type": "execute_result"
    }
   ],
   "source": [
    "target = utils.CoordinateTarget(prefix=\"tg_\")\n",
    "target.fit(tr_df)\n",
    "\n",
    "tg_df = target.transform(tr_df)\n",
    "print(tg_df.columns)\n",
    "print(tg_df.describe().glimpse())\n",
    "tr_df = pl.concat([tr_df, tg_df], how=\"horizontal\")\n",
    "\n",
    "del tg_df\n",
    "gc.collect()"
   ]
  },
  {
   "cell_type": "markdown",
   "metadata": {},
   "source": [
    "## 特徴量"
   ]
  },
  {
   "cell_type": "code",
   "execution_count": 15,
   "metadata": {},
   "outputs": [
    {
     "name": "stdout",
     "output_type": "stream",
     "text": [
      "['ft_vEgo', 'ft_aEgo', 'ft_steeringAngleDeg', 'ft_steeringTorque', 'ft_brake', 'ft_brakePressed', 'ft_gas', 'ft_gasPressed', 'ft_is_gearShifter_drive', 'ft_is_gearShifter_neutral', 'ft_is_gearShifter_park', 'ft_is_gearShifter_reverse', 'ft_leftBlinker', 'ft_rightBlinker', 'ft_base_pred_x0', 'ft_base_pred_y0', 'ft_base_pred_z0', 'ft_base_pred_x1', 'ft_base_pred_y1', 'ft_base_pred_z1', 'ft_base_pred_x2', 'ft_base_pred_y2', 'ft_base_pred_z2', 'ft_base_pred_x3', 'ft_base_pred_y3', 'ft_base_pred_z3', 'ft_base_pred_x4', 'ft_base_pred_y4', 'ft_base_pred_z4', 'ft_base_pred_x5', 'ft_base_pred_y5', 'ft_base_pred_z5']\n",
      "Rows: 9\n",
      "Columns: 33\n",
      "$ statistic                 <str> 'count', 'null_count', 'mean', 'std', 'min', '25%', '50%', '75%', 'max'\n",
      "$ ft_vEgo                   <f64> 43371.0, 0.0, 9.172175823216334, 7.226919878374694, -0.1619189828634262, 2.5786657333374023, 8.518790245056152, 14.286815643310547, 27.55126190185547\n",
      "$ ft_aEgo                   <f64> 43371.0, 0.0, -0.015654028629347255, 0.6324016778486632, -4.936206340789795, -0.2363678514957428, -1.8347540436410405e-15, 0.22229795157909396, 3.1400704383850098\n",
      "$ ft_steeringAngleDeg       <f64> 43371.0, 0.0, -2.065172574071012, 65.54882159006848, -481.394287109375, -3.461754322052002, -0.35647091269493103, 2.6269068717956543, 484.69171142578125\n",
      "$ ft_steeringTorque         <f64> 43371.0, 0.0, -19.00954554886906, 110.79997057975086, -700.0, -94.0, -13.0, 51.0, 700.0\n",
      "$ ft_brake                  <f64> 43371.0, 0.0, 0.0, 0.0, 0.0, 0.0, 0.0, 0.0, 0.0\n",
      "$ ft_brakePressed           <f64> 43371.0, 0.0, 0.3076018537732586, 0.4615060824782501, 0.0, 0.0, 0.0, 1.0, 1.0\n",
      "$ ft_gas                    <f64> 43371.0, 0.0, 0.08400302036789904, 0.10983697747311577, 0.0, 0.0, 0.0, 0.16500000655651093, 0.915000021457672\n",
      "$ ft_gasPressed             <f64> 43371.0, 0.0, 0.48359502893638606, 0.499736565674716, 0.0, 0.0, 0.0, 1.0, 1.0\n",
      "$ ft_is_gearShifter_drive   <f64> 43371.0, 0.0, 0.9972331742408522, 0.0525284118710861, 0.0, 1.0, 1.0, 1.0, 1.0\n",
      "$ ft_is_gearShifter_neutral <f64> 43371.0, 0.0, 6.917064397869545e-05, 0.008316697312424556, 0.0, 0.0, 0.0, 0.0, 1.0\n",
      "$ ft_is_gearShifter_park    <f64> 43371.0, 0.0, 0.0026515413525166585, 0.051425398943978996, 0.0, 0.0, 0.0, 0.0, 1.0\n",
      "$ ft_is_gearShifter_reverse <f64> 43371.0, 0.0, 4.6113762652463626e-05, 0.006790633209678983, 0.0, 0.0, 0.0, 0.0, 1.0\n",
      "$ ft_leftBlinker            <f64> 43371.0, 0.0, 0.07795531576398976, 0.26810434878124423, 0.0, 0.0, 0.0, 0.0, 1.0\n",
      "$ ft_rightBlinker           <f64> 43371.0, 0.0, 0.10271840630836274, 0.3035942365298531, 0.0, 0.0, 0.0, 0.0, 1.0\n",
      "$ ft_base_pred_x0           <f64> 43371.0, 0.0, 4.122440026949505, 3.265843494429224, -0.6700204211916541, 1.1148198292495066, 3.843436133441083, 6.430092381228085, 12.42235465581532\n",
      "$ ft_base_pred_y0           <f64> 43371.0, 0.0, 0.0019148349261444964, 0.10066766641141232, -0.906593505793135, -0.010919840312060017, 0.002442722391796854, 0.01525623452248338, 0.7213497326311845\n",
      "$ ft_base_pred_z0           <f64> 43371.0, 0.0, 0.0012367222741687983, 0.008000750371431093, -0.0839622502335356, -0.0029376005783063363, 0.0011359145109540955, 0.004924591137833334, 0.05579588923215874\n",
      "$ ft_base_pred_x1           <f64> 43371.0, 0.0, 8.694392964394341, 6.893238667827075, -0.8837441137209981, 2.3386026376779583, 8.075592116631304, 13.566321663658833, 26.171323238615116\n",
      "$ ft_base_pred_y1           <f64> 43371.0, 0.0, 0.004433827637324162, 0.30809725358336143, -2.3294658345480634, -0.03335300741084459, 0.004046643121922322, 0.044144639342467824, 2.1223863552199553\n",
      "$ ft_base_pred_z1           <f64> 43371.0, 0.0, 0.002538864004502333, 0.018549990310711577, -0.1499231842848922, -0.008784679213156375, 0.0024833813862605286, 0.012021253179526688, 0.13208125340732435\n",
      "$ ft_base_pred_x2           <f64> 43371.0, 0.0, 13.255114310830633, 10.518080257402936, -0.9149616572514148, 3.54085821113889, 12.314541245678262, 20.688764239528563, 39.96603842389449\n",
      "$ ft_base_pred_y2           <f64> 43371.0, 0.0, 0.0067356967836796795, 0.6107390611135911, -4.593126509961475, -0.06440715606366827, 0.005954064155730828, 0.08133138779792132, 4.326254625395173\n",
      "$ ft_base_pred_z2           <f64> 43371.0, 0.0, 0.0038841682307222385, 0.031247043578795562, -0.2222696000355815, -0.014003995861616898, 0.003356310218809903, 0.01991939140651672, 0.20007964818795446\n",
      "$ ft_base_pred_x3           <f64> 43371.0, 0.0, 17.80058843552357, 14.141192858626303, -1.374045623839039, 4.729733620435598, 16.545937563780836, 27.81634039758419, 53.7590401333828\n",
      "$ ft_base_pred_y3           <f64> 43371.0, 0.0, 0.009034597932388476, 0.9997493558067446, -7.317189052174362, -0.10774111787270632, 0.008101855301394553, 0.12973120352143183, 7.085217560065829\n",
      "$ ft_base_pred_z3           <f64> 43371.0, 0.0, 0.0051199363583967275, 0.04703708480055909, -0.2968639472344052, -0.024031938669423006, 0.005391229892987155, 0.02962415613401126, 0.323005650226255\n",
      "$ ft_base_pred_x4           <f64> 43371.0, 0.0, 22.33021015817984, 17.763452279698768, -1.791413983202471, 5.886833202681495, 20.76069443237445, 34.907579061047606, 67.54382671945731\n",
      "$ ft_base_pred_y4           <f64> 43371.0, 0.0, 0.011374376330490031, 1.4670419670767514, -10.270065922177192, -0.16282306811898936, 0.01024822066462932, 0.18905720008236934, 10.2651486184491\n",
      "$ ft_base_pred_z4           <f64> 43371.0, 0.0, 0.0058257458512096134, 0.06429229378986755, -0.4441001084507359, -0.03254459271830497, 0.003964507684435399, 0.03739872321360562, 0.4617739361210783\n",
      "$ ft_base_pred_x5           <f64> 43371.0, 0.0, 26.84257271243089, 21.385083374559404, -2.056779918489782, 7.024259951610053, 24.89798806773397, 41.990534966114154, 81.13534410251776\n",
      "$ ft_base_pred_y5           <f64> 43371.0, 0.0, 0.013878775782812184, 2.00591878632809, -14.59520747807897, -0.23253618895671188, 0.011850642400288276, 0.2616115596759023, 13.766720304251464\n",
      "$ ft_base_pred_z5           <f64> 43371.0, 0.0, 0.0064521562489907435, 0.0846299287409301, -0.659618252416717, -0.041789777300885, 0.001951934946519785, 0.04809060069261107, 0.6012112099422012\n",
      "\n",
      "None\n",
      "['ft_vEgo', 'ft_aEgo', 'ft_steeringAngleDeg', 'ft_steeringTorque', 'ft_brake', 'ft_brakePressed', 'ft_gas', 'ft_gasPressed', 'ft_is_gearShifter_drive', 'ft_is_gearShifter_neutral', 'ft_is_gearShifter_park', 'ft_is_gearShifter_reverse', 'ft_leftBlinker', 'ft_rightBlinker', 'ft_base_pred_x0', 'ft_base_pred_y0', 'ft_base_pred_z0', 'ft_base_pred_x1', 'ft_base_pred_y1', 'ft_base_pred_z1', 'ft_base_pred_x2', 'ft_base_pred_y2', 'ft_base_pred_z2', 'ft_base_pred_x3', 'ft_base_pred_y3', 'ft_base_pred_z3', 'ft_base_pred_x4', 'ft_base_pred_y4', 'ft_base_pred_z4', 'ft_base_pred_x5', 'ft_base_pred_y5', 'ft_base_pred_z5']\n",
      "Rows: 9\n",
      "Columns: 33\n",
      "$ statistic                 <str> 'count', 'null_count', 'mean', 'std', 'min', '25%', '50%', '75%', 'max'\n",
      "$ ft_vEgo                   <f64> 1727.0, 0.0, 9.498940069707334, 7.23556621771096, -0.16705937683582306, 2.988953113555908, 9.076517105102539, 14.758581161499025, 27.206621170043945\n",
      "$ ft_aEgo                   <f64> 1727.0, 0.0, -0.02907723589981004, 0.6122087564658688, -3.8730378150939937, -0.2477388381958008, -9.617285944398328e-14, 0.21507366001605988, 2.6108293533325195\n",
      "$ ft_steeringAngleDeg       <f64> 1727.0, 0.0, -3.2302326968093227, 61.06931271098453, -441.5201416015625, -3.5669302940368652, -0.4708167612552643, 2.073073387145996, 483.0481872558594\n",
      "$ ft_steeringTorque         <f64> 1727.0, 0.0, -20.277359583092068, 113.92207330483267, -363.0, -97.0, -12.0, 53.0, 642.0\n",
      "$ ft_brake                  <f64> 1727.0, 0.0, 0.0, 0.0, 0.0, 0.0, 0.0, 0.0, 0.0\n",
      "$ ft_brakePressed           <f64> 1727.0, 0.0, 0.29530978575564565, 0.45631402026409756, 0.0, 0.0, 0.0, 1.0, 1.0\n",
      "$ ft_gas                    <f64> 1727.0, 0.0, 0.08316155173182142, 0.1095658974381894, 0.0, 0.0, 0.0, 0.1599999964237213, 0.5899999737739563\n",
      "$ ft_gasPressed             <f64> 1727.0, 0.0, 0.48870874348581356, 0.5000172769309245, 0.0, 0.0, 0.0, 1.0, 1.0\n",
      "$ ft_is_gearShifter_drive   <f64> 1727.0, 0.0, 0.9942096120440069, 0.07589594679254315, 0.0, 1.0, 1.0, 1.0, 1.0\n",
      "$ ft_is_gearShifter_neutral <f64> 1727.0, 0.0, 0.0, 0.0, 0.0, 0.0, 0.0, 0.0, 0.0\n",
      "$ ft_is_gearShifter_park    <f64> 1727.0, 0.0, 0.004632310364794441, 0.06792292304189239, 0.0, 0.0, 0.0, 0.0, 1.0\n",
      "$ ft_is_gearShifter_reverse <f64> 1727.0, 0.0, 0.0011580775911986102, 0.034020679458719075, 0.0, 0.0, 0.0, 0.0, 1.0\n",
      "$ ft_leftBlinker            <f64> 1727.0, 0.0, 0.07295888824551244, 0.26014433564008865, 0.0, 0.0, 0.0, 0.0, 1.0\n",
      "$ ft_rightBlinker           <f64> 1727.0, 0.0, 0.08569774174869717, 0.2799982765850711, 0.0, 0.0, 0.0, 0.0, 1.0\n",
      "$ ft_base_pred_x0           <f64> 1727.0, 0.0, 4.2663029233292535, 3.271023182850224, -0.482368997375947, 1.3001909384235195, 4.093742801801607, 6.6449561615395245, 12.247886710009169\n",
      "$ ft_base_pred_y0           <f64> 1727.0, 0.0, -0.0031603237953954717, 0.09295995024529789, -0.638451196236198, -0.011616531912385417, 0.0018327919669291668, 0.012212706093455782, 0.5739006925766738\n",
      "$ ft_base_pred_z0           <f64> 1727.0, 0.0, 0.001627416221871391, 0.00735989223153143, -0.03716645932825291, -0.0017494165597028342, 0.0016360582430382966, 0.004842029412973934, 0.041950852758528855\n",
      "$ ft_base_pred_x1           <f64> 1727.0, 0.0, 8.992805794306157, 6.904740439832407, -0.687533704188293, 2.692025646052657, 8.662769658758496, 14.021897803795053, 25.800362167796276\n",
      "$ ft_base_pred_y1           <f64> 1727.0, 0.0, -0.011354113224781035, 0.2928427721202294, -1.964791305672398, -0.03789953043734075, 0.0031207262387034354, 0.03756611361993031, 1.727660124291874\n",
      "$ ft_base_pred_z1           <f64> 1727.0, 0.0, 0.0037458402183854775, 0.017133242735204723, -0.07243870894220611, -0.0060594485694084035, 0.003788842091202509, 0.012157052801075529, 0.10694747890424579\n",
      "$ ft_base_pred_x2           <f64> 1727.0, 0.0, 13.705652448634744, 10.535193075375345, -0.7269723272935313, 3.999997964336283, 13.224843849118944, 21.343295906175282, 39.26203958362736\n",
      "$ ft_base_pred_y2           <f64> 1727.0, 0.0, -0.025889032029882172, 0.5891449628912053, -3.749334847279693, -0.07413505936826109, 0.003212311082045567, 0.06628717089792449, 3.472488261375005\n",
      "$ ft_base_pred_z2           <f64> 1727.0, 0.0, 0.00548834781525732, 0.02919623846491526, -0.1202213910326883, -0.011281959137434502, 0.005759531923909975, 0.020663824646437172, 0.1973513974237745\n",
      "$ ft_base_pred_x3           <f64> 1727.0, 0.0, 18.39642560641524, 14.163936247260587, -0.7367402526388279, 5.489856682689861, 17.585178713743325, 28.66740403908965, 52.63478977225081\n",
      "$ ft_base_pred_y3           <f64> 1727.0, 0.0, -0.045863314725269416, 0.9753241018515575, -5.805898211704422, -0.1266931944615141, 0.006982103131536615, 0.10954157394497382, 5.607827075225927\n",
      "$ ft_base_pred_z3           <f64> 1727.0, 0.0, 0.007500038186610151, 0.044586863887225006, -0.16518032402573268, -0.021190968785824535, 0.00883200372158942, 0.030774308928877378, 0.2923551813628469\n",
      "$ ft_base_pred_x4           <f64> 1727.0, 0.0, 23.06976679848859, 17.79393333706771, -0.8433334556810077, 6.7571619186078635, 21.956771517304073, 35.942875690221726, 65.98416941571067\n",
      "$ ft_base_pred_y4           <f64> 1727.0, 0.0, -0.07198148121970942, 1.4397293051710431, -8.38007423396421, -0.20372565434237938, 0.008043635310357677, 0.15424665171869523, 8.03130331304946\n",
      "$ ft_base_pred_z4           <f64> 1727.0, 0.0, 0.009681721557476607, 0.062132248721764316, -0.22826554086296957, -0.027119602198050326, 0.008239498892726934, 0.03862722628104455, 0.4255443021214014\n",
      "$ ft_base_pred_x5           <f64> 1727.0, 0.0, 27.71554938063547, 21.420929210768126, -1.0161309151132372, 8.090098388439632, 26.23806075253168, 43.19217480710349, 79.13321401985291\n",
      "$ ft_base_pred_y5           <f64> 1727.0, 0.0, -0.10156736795766123, 1.9759131616851995, -11.02471322236647, -0.2642614490175803, 0.009870657260539605, 0.21385868896170296, 10.745014909018487\n",
      "$ ft_base_pred_z5           <f64> 1727.0, 0.0, 0.011827034948026798, 0.08225832504282328, -0.3395424845556518, -0.03455808655829862, 0.008242425447648494, 0.05170370394760581, 0.5397561561528397\n",
      "\n",
      "None\n"
     ]
    },
    {
     "data": {
      "text/plain": [
       "0"
      ]
     },
     "execution_count": 15,
     "metadata": {},
     "output_type": "execute_result"
    }
   ],
   "source": [
    "feature = utils.Feature(prefix=\"ft_\")\n",
    "feature.fit(tr_df)\n",
    "\n",
    "ft_df = feature.transform(tr_df)\n",
    "print(ft_df.columns)\n",
    "print(ft_df.describe().glimpse())\n",
    "tr_df = pl.concat([tr_df, ft_df], how=\"horizontal\")\n",
    "\n",
    "ft_df = feature.transform(ts_df)\n",
    "print(ft_df.columns)\n",
    "print(ft_df.describe().glimpse())\n",
    "ts_df = pl.concat([ts_df, ft_df], how=\"horizontal\")\n",
    "\n",
    "del ft_df\n",
    "gc.collect()"
   ]
  },
  {
   "cell_type": "markdown",
   "metadata": {},
   "source": [
    "## モデリング"
   ]
  },
  {
   "cell_type": "code",
   "execution_count": 16,
   "metadata": {},
   "outputs": [],
   "source": [
    "N_SPLITS = 2"
   ]
  },
  {
   "cell_type": "code",
   "execution_count": 17,
   "metadata": {},
   "outputs": [],
   "source": [
    "n_sample_in_scene = 3\n",
    "\n",
    "model_params = {\n",
    "    \"dnn\": {\n",
    "        \"n_sample_in_scene\": n_sample_in_scene,\n",
    "        \"n_img_channels\": tr_images.shape[1] * n_sample_in_scene,\n",
    "        \"n_features\": len(feature.columns) * n_sample_in_scene,\n",
    "        \"n_targets\": len(target.columns),\n",
    "        \"dropout\": 0.0,\n",
    "        \"embed_dim\": 128,\n",
    "        \"n_layers\": 1,\n",
    "    },\n",
    "    \"dnn_pretrained_model\": {\n",
    "        # list[str]: len(list) == n_splits\n",
    "        \"weight_path\": None,\n",
    "        \"load_only_backbone\": None,\n",
    "    },\n",
    "    \"dev\": \"cuda\",\n",
    "}\n",
    "\n",
    "lr = 5e-5\n",
    "fit_params = {\n",
    "    \"dnn\": {\n",
    "        \"tr_batch_size\": 32,\n",
    "        \"vl_batch_size\": 256,\n",
    "        \"trainer_params\": {\n",
    "            \"criterion_params\": {},\n",
    "            \"opt\": \"adamw\",\n",
    "            \"opt_params\": {\"lr\": lr, \"weight_decay\": 1e-4},\n",
    "            \"backbone_opt_params\": {\"lr\": lr, \"weight_decay\": 1e-4},\n",
    "            \"sch_params\": {\n",
    "                \"max_lr\": lr,\n",
    "                \"pct_start\": 0.1,\n",
    "                \"div_factor\": 25,\n",
    "                \"final_div_factor\": 1000,\n",
    "            },\n",
    "            \"epochs\": 5,\n",
    "            \"dev\": \"cuda\",\n",
    "            \"val_freq\": 1,\n",
    "            \"prefix\": \"\",\n",
    "            \"save_best\": False,\n",
    "            \"save_epochs\": [],\n",
    "            \"maximize_score\": False,\n",
    "            \"grad_max_norm\": None,\n",
    "        },\n",
    "    },\n",
    "}"
   ]
  },
  {
   "cell_type": "code",
   "execution_count": 18,
   "metadata": {},
   "outputs": [
    {
     "name": "stdout",
     "output_type": "stream",
     "text": [
      "-----------------\n",
      "-----------------\n",
      "Training fold 0...\n",
      "train samples: 21685, valid samples: 21686\n",
      "Save model : fold0_model.pth\n",
      "\n",
      "epoch  0\n",
      "lr  2.000000000000001e-06\n",
      "lr  2.000000000000001e-06\n",
      "lr  2.000000000000001e-06\n",
      "lr  2.000000000000001e-06\n"
     ]
    },
    {
     "name": "stderr",
     "output_type": "stream",
     "text": [
      "100%|██████████| 677/677 [01:24<00:00,  8.00it/s]\n",
      "100%|██████████| 85/85 [01:12<00:00,  1.17it/s]\n"
     ]
    },
    {
     "name": "stdout",
     "output_type": "stream",
     "text": [
      "\n",
      "Train Loss: 6.0408\n",
      "{'loss': 6.0408154527052815, 'loss_mse_0': 0.11026944824256432, 'loss_mse_1': 0.06299239109673344, 'loss_mse_2': 0.04329439945673044, 'loss_mse_3': 0.21309417006910464, 'loss_mse_4': 0.12072014838644197, 'loss_mse_5': 0.08894799489038205, 'loss_mse_6': 0.3598104804270024, 'loss_mse_7': 0.1973779031035643, 'loss_mse_8': 0.1358409515379803, 'loss_mse_9': 0.5551288488762594, 'loss_mse_10': 0.3206690606527702, 'loss_mse_11': 0.18705850380144057, 'loss_mse_12': 0.7837526119001859, 'loss_mse_13': 0.5179700219956952, 'loss_mse_14': 0.22984473698358415, 'loss_mse_15': 1.095367812093463, 'loss_mse_16': 0.7383098087027294, 'loss_mse_17': 0.2803661440178598}\n",
      "Valid Loss: 5.8587\n",
      "{'loss': 5.858684985777911, 'loss_mse_0': 0.10680826201158411, 'loss_mse_1': 0.07483275206211736, 'loss_mse_2': 0.03930815278607256, 'loss_mse_3': 0.21842070493627996, 'loss_mse_4': 0.1391427036593942, 'loss_mse_5': 0.07985027099356931, 'loss_mse_6': 0.34741809683687547, 'loss_mse_7': 0.21052618543891347, 'loss_mse_8': 0.11961376807268928, 'loss_mse_9': 0.5299838185310364, 'loss_mse_10': 0.332002738644095, 'loss_mse_11': 0.16440604872563305, 'loss_mse_12': 0.7629236326498143, 'loss_mse_13': 0.50606589142014, 'loss_mse_14': 0.2116096555310137, 'loss_mse_15': 1.024346204365001, 'loss_mse_16': 0.7326015002587263, 'loss_mse_17': 0.2588245349771836}\n",
      "Update best score : 5.858684985777911\n",
      "Save model : fold0_model.pth\n",
      "\n",
      "epoch  1\n",
      "lr  4.84835462941373e-05\n",
      "lr  4.84835462941373e-05\n",
      "lr  4.84835462941373e-05\n",
      "lr  4.84835462941373e-05\n"
     ]
    },
    {
     "name": "stderr",
     "output_type": "stream",
     "text": [
      "100%|██████████| 677/677 [01:24<00:00,  8.00it/s]\n",
      "100%|██████████| 85/85 [01:12<00:00,  1.18it/s]\n"
     ]
    },
    {
     "name": "stdout",
     "output_type": "stream",
     "text": [
      "\n",
      "Train Loss: 5.6046\n",
      "{'loss': 5.604601525133434, 'loss_mse_0': 0.09621704124090326, 'loss_mse_1': 0.05916356146087983, 'loss_mse_2': 0.0412228793350146, 'loss_mse_3': 0.19510416557222737, 'loss_mse_4': 0.1138422235466837, 'loss_mse_5': 0.08363924459437323, 'loss_mse_6': 0.32535113813561917, 'loss_mse_7': 0.1882648933871458, 'loss_mse_8': 0.12687786521068176, 'loss_mse_9': 0.508168265905831, 'loss_mse_10': 0.30410149197150543, 'loss_mse_11': 0.17076548263760755, 'loss_mse_12': 0.7394063123880144, 'loss_mse_13': 0.4691178172694703, 'loss_mse_14': 0.21622693874877347, 'loss_mse_15': 1.016438611170918, 'loss_mse_16': 0.6881783557299145, 'loss_mse_17': 0.26251524447998587}\n",
      "Valid Loss: 5.7179\n",
      "{'loss': 5.717880184510175, 'loss_mse_0': 0.10539588340941597, 'loss_mse_1': 0.07369164009304607, 'loss_mse_2': 0.03864932189531186, 'loss_mse_3': 0.2149671378381112, 'loss_mse_4': 0.13585203846587854, 'loss_mse_5': 0.07836172195041881, 'loss_mse_6': 0.3410232323057511, 'loss_mse_7': 0.20870520016726327, 'loss_mse_8': 0.11891675744863117, 'loss_mse_9': 0.5129514504881466, 'loss_mse_10': 0.32442077485954063, 'loss_mse_11': 0.16182364128968296, 'loss_mse_12': 0.7348258137702942, 'loss_mse_13': 0.4940448007162879, 'loss_mse_14': 0.20539535880088805, 'loss_mse_15': 1.0047919652041266, 'loss_mse_16': 0.7110725925249212, 'loss_mse_17': 0.252990824860685}\n",
      "Update best score : 5.717880184510175\n",
      "Save model : fold0_model.pth\n",
      "\n",
      "epoch  2\n",
      "lr  3.7478167818668e-05\n",
      "lr  3.7478167818668e-05\n",
      "lr  3.7478167818668e-05\n",
      "lr  3.7478167818668e-05\n"
     ]
    },
    {
     "name": "stderr",
     "output_type": "stream",
     "text": [
      "100%|██████████| 677/677 [01:24<00:00,  8.01it/s]\n",
      "100%|██████████| 85/85 [01:12<00:00,  1.18it/s]\n"
     ]
    },
    {
     "name": "stdout",
     "output_type": "stream",
     "text": [
      "\n",
      "Train Loss: 5.5371\n",
      "{'loss': 5.537118649553161, 'loss_mse_0': 0.09547942734847568, 'loss_mse_1': 0.05869590868056371, 'loss_mse_2': 0.040977524153260926, 'loss_mse_3': 0.19300675024023964, 'loss_mse_4': 0.11274056097539348, 'loss_mse_5': 0.08315849842632979, 'loss_mse_6': 0.3220850757297068, 'loss_mse_7': 0.18639324380957042, 'loss_mse_8': 0.12589369808905587, 'loss_mse_9': 0.5028383977920301, 'loss_mse_10': 0.29996822129500317, 'loss_mse_11': 0.16911525243791467, 'loss_mse_12': 0.7304493068900383, 'loss_mse_13': 0.4634890445292084, 'loss_mse_14': 0.21406480419054694, 'loss_mse_15': 1.0006712892118903, 'loss_mse_16': 0.678286867587658, 'loss_mse_17': 0.25980477501669874}\n",
      "Valid Loss: 5.7410\n",
      "{'loss': 5.740952256146599, 'loss_mse_0': 0.10578542759313303, 'loss_mse_1': 0.07454472094335977, 'loss_mse_2': 0.039033823942436895, 'loss_mse_3': 0.21508658230304717, 'loss_mse_4': 0.1376013820662218, 'loss_mse_5': 0.07850356908405529, 'loss_mse_6': 0.34089502867530375, 'loss_mse_7': 0.20975616398979635, 'loss_mse_8': 0.1189020318143508, 'loss_mse_9': 0.5136833268053391, 'loss_mse_10': 0.32646976797019733, 'loss_mse_11': 0.16248451392440236, 'loss_mse_12': 0.7386401642771329, 'loss_mse_13': 0.4970445874859305, 'loss_mse_14': 0.20657188103479499, 'loss_mse_15': 1.0078910385861117, 'loss_mse_16': 0.7148364095126881, 'loss_mse_17': 0.25322180740973527}\n",
      "Save model : fold0_model.pth\n",
      "\n",
      "epoch  3\n",
      "lr  2.0634583852569843e-05\n",
      "lr  2.0634583852569843e-05\n",
      "lr  2.0634583852569843e-05\n",
      "lr  2.0634583852569843e-05\n"
     ]
    },
    {
     "name": "stderr",
     "output_type": "stream",
     "text": [
      "100%|██████████| 677/677 [01:24<00:00,  7.99it/s]\n",
      "100%|██████████| 85/85 [01:12<00:00,  1.18it/s]\n"
     ]
    },
    {
     "name": "stdout",
     "output_type": "stream",
     "text": [
      "\n",
      "Train Loss: 5.4712\n",
      "{'loss': 5.47120660059209, 'loss_mse_0': 0.09508066142371345, 'loss_mse_1': 0.05845728248599889, 'loss_mse_2': 0.040756044701633194, 'loss_mse_3': 0.19180207229336307, 'loss_mse_4': 0.11194702205103732, 'loss_mse_5': 0.08272882069198297, 'loss_mse_6': 0.31905571364713736, 'loss_mse_7': 0.18483265648916516, 'loss_mse_8': 0.1250353715598495, 'loss_mse_9': 0.49762743249249425, 'loss_mse_10': 0.2972305185839732, 'loss_mse_11': 0.1677268318160598, 'loss_mse_12': 0.7193419610864127, 'loss_mse_13': 0.4577453149540386, 'loss_mse_14': 0.21226617247086332, 'loss_mse_15': 0.9829567796722649, 'loss_mse_16': 0.6695976689061703, 'loss_mse_17': 0.25701827365503355}\n",
      "Valid Loss: 5.7363\n",
      "{'loss': 5.736336918438182, 'loss_mse_0': 0.10575173212324872, 'loss_mse_1': 0.07393329820650466, 'loss_mse_2': 0.03887528904220637, 'loss_mse_3': 0.215255583998035, 'loss_mse_4': 0.1369646170998321, 'loss_mse_5': 0.0785412328208194, 'loss_mse_6': 0.3416637986898422, 'loss_mse_7': 0.20983420557835522, 'loss_mse_8': 0.1184343529974713, 'loss_mse_9': 0.5147613395662869, 'loss_mse_10': 0.3267602892482982, 'loss_mse_11': 0.16121490080566966, 'loss_mse_12': 0.738699304005679, 'loss_mse_13': 0.49624541752478657, 'loss_mse_14': 0.20543795981827903, 'loss_mse_15': 1.009591853618622, 'loss_mse_16': 0.7117071000968709, 'loss_mse_17': 0.2526646114447538}\n",
      "Save model : fold0_model.pth\n",
      "\n",
      "epoch  4\n",
      "lr  5.834094529164299e-06\n",
      "lr  5.834094529164299e-06\n",
      "lr  5.834094529164299e-06\n",
      "lr  5.834094529164299e-06\n"
     ]
    },
    {
     "name": "stderr",
     "output_type": "stream",
     "text": [
      "100%|██████████| 677/677 [01:24<00:00,  7.99it/s]\n",
      "100%|██████████| 85/85 [01:12<00:00,  1.18it/s]\n",
      "/home/tatsuya/projects/atmacup/atmacup_18/experiments/main/v00/v00_24_02/utils.py:1429: FutureWarning: You are using `torch.load` with `weights_only=False` (the current default value), which uses the default pickle module implicitly. It is possible to construct malicious pickle data which will execute arbitrary code during unpickling (See https://github.com/pytorch/pytorch/blob/main/SECURITY.md#untrusted-models for more details). In a future release, the default value for `weights_only` will be flipped to `True`. This limits the functions that could be executed during unpickling. Arbitrary objects will no longer be allowed to be loaded via this mode unless they are explicitly allowlisted by the user via `torch.serialization.add_safe_globals`. We recommend you start setting `weights_only=True` for any use case where you don't have full control of the loaded file. Please open an issue on GitHub for any issues related to this experimental feature.\n",
      "  model.load_state_dict(torch.load(model_path))\n"
     ]
    },
    {
     "name": "stdout",
     "output_type": "stream",
     "text": [
      "\n",
      "Train Loss: 5.4239\n",
      "{'loss': 5.423857583781289, 'loss_mse_0': 0.0946954113666513, 'loss_mse_1': 0.05832251783685987, 'loss_mse_2': 0.040684430181782034, 'loss_mse_3': 0.19062296673105245, 'loss_mse_4': 0.11144302443682355, 'loss_mse_5': 0.08240266544317917, 'loss_mse_6': 0.3166628204495199, 'loss_mse_7': 0.18385886563266046, 'loss_mse_8': 0.12432132631353209, 'loss_mse_9': 0.4936256625825757, 'loss_mse_10': 0.29515266273737484, 'loss_mse_11': 0.16675469054781353, 'loss_mse_12': 0.7117784586755704, 'loss_mse_13': 0.453892378711542, 'loss_mse_14': 0.21083386334834106, 'loss_mse_15': 0.9706435619772273, 'loss_mse_16': 0.6629542993213788, 'loss_mse_17': 0.2552079806211604}\n",
      "Valid Loss: 5.7332\n",
      "{'loss': 5.7332484357497275, 'loss_mse_0': 0.10574196213308502, 'loss_mse_1': 0.07372293246581274, 'loss_mse_2': 0.03872184234068674, 'loss_mse_3': 0.2151086260290707, 'loss_mse_4': 0.13630204454940908, 'loss_mse_5': 0.07815888576647814, 'loss_mse_6': 0.3418752601918052, 'loss_mse_7': 0.20934336316936156, 'loss_mse_8': 0.11848619974711362, 'loss_mse_9': 0.5152170819394729, 'loss_mse_10': 0.3255219229880501, 'loss_mse_11': 0.16115232530762166, 'loss_mse_12': 0.739463267957463, 'loss_mse_13': 0.4952154524186078, 'loss_mse_14': 0.2049869228811825, 'loss_mse_15': 1.011758920725654, 'loss_mse_16': 0.7101667277953204, 'loss_mse_17': 0.25230467503561693}\n",
      "Save model : fold0_model.pth\n"
     ]
    },
    {
     "ename": "KeyboardInterrupt",
     "evalue": "",
     "output_type": "error",
     "traceback": [
      "\u001b[0;31m---------------------------------------------------------------------------\u001b[0m",
      "\u001b[0;31mKeyboardInterrupt\u001b[0m                         Traceback (most recent call last)",
      "Cell \u001b[0;32mIn[18], line 1\u001b[0m\n\u001b[0;32m----> 1\u001b[0m models, oof_preds \u001b[38;5;241m=\u001b[39m \u001b[43mutils\u001b[49m\u001b[38;5;241;43m.\u001b[39;49m\u001b[43mtrain\u001b[49m\u001b[43m(\u001b[49m\n\u001b[1;32m      2\u001b[0m \u001b[43m    \u001b[49m\u001b[43mmodel_params\u001b[49m\u001b[38;5;241;43m=\u001b[39;49m\u001b[43mmodel_params\u001b[49m\u001b[43m,\u001b[49m\n\u001b[1;32m      3\u001b[0m \u001b[43m    \u001b[49m\u001b[43mfit_params\u001b[49m\u001b[38;5;241;43m=\u001b[39;49m\u001b[43mfit_params\u001b[49m\u001b[43m,\u001b[49m\n\u001b[1;32m      4\u001b[0m \u001b[43m    \u001b[49m\u001b[43mdf\u001b[49m\u001b[38;5;241;43m=\u001b[39;49m\u001b[43mtr_df\u001b[49m\u001b[43m,\u001b[49m\n\u001b[1;32m      5\u001b[0m \u001b[43m    \u001b[49m\u001b[43mimages\u001b[49m\u001b[38;5;241;43m=\u001b[39;49m\u001b[43mtr_images\u001b[49m\u001b[43m,\u001b[49m\n\u001b[1;32m      6\u001b[0m \u001b[43m    \u001b[49m\u001b[43mtarget_cols\u001b[49m\u001b[38;5;241;43m=\u001b[39;49m\u001b[43mtarget\u001b[49m\u001b[38;5;241;43m.\u001b[39;49m\u001b[43mcolumns\u001b[49m\u001b[43m,\u001b[49m\n\u001b[1;32m      7\u001b[0m \u001b[43m    \u001b[49m\u001b[43mfeature_cols\u001b[49m\u001b[38;5;241;43m=\u001b[39;49m\u001b[43mfeature\u001b[49m\u001b[38;5;241;43m.\u001b[39;49m\u001b[43mcolumns\u001b[49m\u001b[43m,\u001b[49m\n\u001b[1;32m      8\u001b[0m \u001b[43m    \u001b[49m\u001b[43mgroup_col\u001b[49m\u001b[38;5;241;43m=\u001b[39;49m\u001b[38;5;124;43m\"\u001b[39;49m\u001b[38;5;124;43mscene_id\u001b[39;49m\u001b[38;5;124;43m\"\u001b[39;49m\u001b[43m,\u001b[49m\n\u001b[1;32m      9\u001b[0m \u001b[43m    \u001b[49m\u001b[43mscene_id_col\u001b[49m\u001b[38;5;241;43m=\u001b[39;49m\u001b[38;5;124;43m\"\u001b[39;49m\u001b[38;5;124;43mscene_id\u001b[39;49m\u001b[38;5;124;43m\"\u001b[39;49m\u001b[43m,\u001b[49m\n\u001b[1;32m     10\u001b[0m \u001b[43m    \u001b[49m\u001b[43mscene_dsec_col\u001b[49m\u001b[38;5;241;43m=\u001b[39;49m\u001b[38;5;124;43m\"\u001b[39;49m\u001b[38;5;124;43mscene_dsec\u001b[39;49m\u001b[38;5;124;43m\"\u001b[39;49m\u001b[43m,\u001b[49m\n\u001b[1;32m     11\u001b[0m \u001b[43m    \u001b[49m\u001b[43mn_splits\u001b[49m\u001b[38;5;241;43m=\u001b[39;49m\u001b[43mN_SPLITS\u001b[49m\u001b[43m,\u001b[49m\n\u001b[1;32m     12\u001b[0m \u001b[43m)\u001b[49m\n",
      "File \u001b[0;32m~/projects/atmacup/atmacup_18/experiments/main/v00/v00_24_02/utils.py:585\u001b[0m, in \u001b[0;36mtrain\u001b[0;34m(model_params, fit_params, df, images, target_cols, feature_cols, group_col, scene_id_col, scene_dsec_col, n_splits)\u001b[0m\n\u001b[1;32m    571\u001b[0m     model\u001b[38;5;241m.\u001b[39mfit(\n\u001b[1;32m    572\u001b[0m         tr_imgs\u001b[38;5;241m=\u001b[39mtr_imgs,\n\u001b[1;32m    573\u001b[0m         tr_features\u001b[38;5;241m=\u001b[39mtr_df\u001b[38;5;241m.\u001b[39mselect(feature_cols),\n\u001b[0;32m   (...)\u001b[0m\n\u001b[1;32m    581\u001b[0m         vl_targets\u001b[38;5;241m=\u001b[39mvl_df\u001b[38;5;241m.\u001b[39mselect(target_cols),\n\u001b[1;32m    582\u001b[0m     )\n\u001b[1;32m    583\u001b[0m     models\u001b[38;5;241m.\u001b[39mappend(model)\n\u001b[0;32m--> 585\u001b[0m     pred \u001b[38;5;241m=\u001b[39m \u001b[43mmodel\u001b[49m\u001b[38;5;241;43m.\u001b[39;49m\u001b[43mpredict\u001b[49m\u001b[43m(\u001b[49m\n\u001b[1;32m    586\u001b[0m \u001b[43m        \u001b[49m\u001b[43mvl_imgs\u001b[49m\u001b[43m,\u001b[49m\n\u001b[1;32m    587\u001b[0m \u001b[43m        \u001b[49m\u001b[43mvl_df\u001b[49m\u001b[38;5;241;43m.\u001b[39;49m\u001b[43mselect\u001b[49m\u001b[43m(\u001b[49m\u001b[43mfeature_cols\u001b[49m\u001b[43m)\u001b[49m\u001b[43m,\u001b[49m\n\u001b[1;32m    588\u001b[0m \u001b[43m        \u001b[49m\u001b[43mvl_df\u001b[49m\u001b[38;5;241;43m.\u001b[39;49m\u001b[43mget_column\u001b[49m\u001b[43m(\u001b[49m\u001b[43mscene_id_col\u001b[49m\u001b[43m)\u001b[49m\u001b[43m,\u001b[49m\n\u001b[1;32m    589\u001b[0m \u001b[43m        \u001b[49m\u001b[43mvl_df\u001b[49m\u001b[38;5;241;43m.\u001b[39;49m\u001b[43mget_column\u001b[49m\u001b[43m(\u001b[49m\u001b[43mscene_dsec_col\u001b[49m\u001b[43m)\u001b[49m\u001b[43m,\u001b[49m\n\u001b[1;32m    590\u001b[0m \u001b[43m    \u001b[49m\u001b[43m)\u001b[49m\n\u001b[1;32m    591\u001b[0m     oof_preds[vl_idx] \u001b[38;5;241m=\u001b[39m pred\n\u001b[1;32m    593\u001b[0m oof_preds \u001b[38;5;241m=\u001b[39m pl\u001b[38;5;241m.\u001b[39mDataFrame(oof_preds, schema\u001b[38;5;241m=\u001b[39mtarget_cols)\n",
      "File \u001b[0;32m~/projects/atmacup/atmacup_18/experiments/main/v00/v00_24_02/utils.py:500\u001b[0m, in \u001b[0;36mCnnModel.predict\u001b[0;34m(self, images, features, scene_ids, scene_dsecs)\u001b[0m\n\u001b[1;32m    498\u001b[0m \u001b[38;5;66;03m# predict\u001b[39;00m\n\u001b[1;32m    499\u001b[0m predictor \u001b[38;5;241m=\u001b[39m Predictor(dev\u001b[38;5;241m=\u001b[39m\u001b[38;5;124m\"\u001b[39m\u001b[38;5;124mcuda\u001b[39m\u001b[38;5;124m\"\u001b[39m, do_print\u001b[38;5;241m=\u001b[39m\u001b[38;5;28;01mFalse\u001b[39;00m)\n\u001b[0;32m--> 500\u001b[0m preds \u001b[38;5;241m=\u001b[39m \u001b[43mpredictor\u001b[49m\u001b[38;5;241;43m.\u001b[39;49m\u001b[43mrun\u001b[49m\u001b[43m(\u001b[49m\u001b[38;5;28;43mself\u001b[39;49m\u001b[38;5;241;43m.\u001b[39;49m\u001b[43mdnn_model\u001b[49m\u001b[43m,\u001b[49m\u001b[43m \u001b[49m\u001b[43mdl\u001b[49m\u001b[43m)\u001b[49m\n\u001b[1;32m    502\u001b[0m \u001b[38;5;66;03m# inverse scaling\u001b[39;00m\n\u001b[1;32m    503\u001b[0m preds \u001b[38;5;241m=\u001b[39m \u001b[38;5;28mself\u001b[39m\u001b[38;5;241m.\u001b[39mtarget_scaler\u001b[38;5;241m.\u001b[39minverse_transform(preds)\n",
      "File \u001b[0;32m~/projects/atmacup/atmacup_18/experiments/main/v00/v00_24_02/utils.py:1720\u001b[0m, in \u001b[0;36mPredictor.run\u001b[0;34m(self, model, loader)\u001b[0m\n\u001b[1;32m   1717\u001b[0m             \u001b[38;5;28;01mwith\u001b[39;00m torch\u001b[38;5;241m.\u001b[39mno_grad():\n\u001b[1;32m   1718\u001b[0m                 output \u001b[38;5;241m=\u001b[39m model(imgs, features, relative_scene_dsecs)\n\u001b[0;32m-> 1720\u001b[0m     preds\u001b[38;5;241m.\u001b[39mappend(\u001b[43moutput\u001b[49m\u001b[38;5;241;43m.\u001b[39;49m\u001b[43mcpu\u001b[49m\u001b[43m(\u001b[49m\u001b[43m)\u001b[49m\u001b[38;5;241m.\u001b[39mnumpy())\n\u001b[1;32m   1722\u001b[0m preds \u001b[38;5;241m=\u001b[39m np\u001b[38;5;241m.\u001b[39mconcatenate(preds)\n\u001b[1;32m   1723\u001b[0m \u001b[38;5;28;01mreturn\u001b[39;00m preds\n",
      "\u001b[0;31mKeyboardInterrupt\u001b[0m: "
     ]
    }
   ],
   "source": [
    "models, oof_preds = utils.train(\n",
    "    model_params=model_params,\n",
    "    fit_params=fit_params,\n",
    "    df=tr_df,\n",
    "    images=tr_images,\n",
    "    target_cols=target.columns,\n",
    "    feature_cols=feature.columns,\n",
    "    group_col=\"scene_id\",\n",
    "    scene_id_col=\"scene_id\",\n",
    "    scene_dsec_col=\"scene_dsec\",\n",
    "    n_splits=N_SPLITS,\n",
    ")"
   ]
  },
  {
   "cell_type": "code",
   "execution_count": null,
   "metadata": {},
   "outputs": [],
   "source": [
    "oof_preds = oof_preds.select(pl.all().name.prefix(\"pred_\"))\n",
    "pred_cols = oof_preds.columns\n",
    "\n",
    "tr_df = pl.concat([tr_df, oof_preds], how=\"horizontal\")\n",
    "tr_df"
   ]
  },
  {
   "cell_type": "markdown",
   "metadata": {},
   "source": [
    "## 評価"
   ]
  },
  {
   "cell_type": "code",
   "execution_count": null,
   "metadata": {},
   "outputs": [],
   "source": [
    "def calc_score(df: pl.DataFrame, pred_cols: list[str]):\n",
    "    tg_cols = sum([[f\"x_{i}\", f\"y_{i}\", f\"z_{i}\"] for i in range(6)], [])\n",
    "\n",
    "    tg = df.select(tg_cols).to_numpy()\n",
    "    pred = df.select(pred_cols).to_numpy()\n",
    "\n",
    "    scores = np.abs(tg - pred).mean(axis=0)\n",
    "    scores = {f\"score_{col}\": float(score) for col, score in zip(pred_cols, scores)}\n",
    "    scores[\"avg\"] = float(np.abs(tg - pred).mean())\n",
    "    return scores\n",
    "\n",
    "\n",
    "scores = calc_score(tr_df, pred_cols)\n",
    "scores"
   ]
  },
  {
   "cell_type": "code",
   "execution_count": null,
   "metadata": {},
   "outputs": [],
   "source": [
    "utils.plot_calibration_curve(tr_df, pred_cols, n_bins=40)"
   ]
  },
  {
   "cell_type": "code",
   "execution_count": null,
   "metadata": {},
   "outputs": [],
   "source": [
    "if BASE_PRED_DIR is not None:\n",
    "    # 差し引いていた基礎推定値を足して元のtarget, pred列に戻す\n",
    "    tr_df = add_base_pred_to_target(tr_df, TARGET_COLS)\n",
    "    tr_df = add_base_pred_to_target(tr_df, pred_cols)"
   ]
  },
  {
   "cell_type": "code",
   "execution_count": null,
   "metadata": {},
   "outputs": [],
   "source": [
    "if BASE_PRED_DIR is not None:\n",
    "    scores = calc_score(tr_df, pred_cols)\n",
    "    display(scores)"
   ]
  },
  {
   "cell_type": "code",
   "execution_count": null,
   "metadata": {},
   "outputs": [],
   "source": [
    "if BASE_PRED_DIR is not None:\n",
    "    utils.plot_calibration_curve(tr_df, pred_cols, n_bins=40)"
   ]
  },
  {
   "cell_type": "markdown",
   "metadata": {},
   "source": [
    "## oofを保存"
   ]
  },
  {
   "cell_type": "code",
   "execution_count": null,
   "metadata": {},
   "outputs": [],
   "source": [
    "def create_submission_csv(preds: pl.DataFrame, filename: str = \"submission.csv\"):\n",
    "    submission_cols = TARGET_COLS\n",
    "\n",
    "    # validate preds columns\n",
    "    if len(preds.columns) != len(submission_cols):\n",
    "        raise ValueError(\n",
    "            f\"preds columns must be {len(submission_cols)}, but got {len(preds.columns)}\"\n",
    "        )\n",
    "\n",
    "    preds.columns = submission_cols\n",
    "    preds.write_csv(filename)\n",
    "    print(f\"Submission file is created: {filename}\")\n",
    "\n",
    "\n",
    "# 元の順番に戻して保存\n",
    "create_submission_csv(tr_df.sort(\"origin_idx\").select(pred_cols), \"oof_preds.csv\")"
   ]
  },
  {
   "cell_type": "markdown",
   "metadata": {},
   "source": [
    "## Submission"
   ]
  },
  {
   "cell_type": "code",
   "execution_count": null,
   "metadata": {},
   "outputs": [],
   "source": [
    "preds = utils.predict(\n",
    "    models,\n",
    "    ts_images,\n",
    "    ts_df,\n",
    "    feature.columns,\n",
    "    scene_id_col=\"scene_id\",\n",
    "    scene_dsec_col=\"scene_dsec\",\n",
    "    pred_cols=pred_cols,\n",
    ")\n",
    "pred_cols = preds.columns\n",
    "ts_df = pl.concat([ts_df, preds], how=\"horizontal\")\n",
    "\n",
    "preds"
   ]
  },
  {
   "cell_type": "code",
   "execution_count": null,
   "metadata": {},
   "outputs": [],
   "source": [
    "if BASE_PRED_DIR is not None:\n",
    "    # 差し引いていた基礎推定値を足して元のtarget, pred列に戻す\n",
    "    ts_df = add_base_pred_to_target(ts_df, pred_cols)\n",
    "    display(ts_df)"
   ]
  },
  {
   "cell_type": "code",
   "execution_count": null,
   "metadata": {},
   "outputs": [],
   "source": [
    "# 元の順番に戻す\n",
    "ts_df = ts_df.sort(\"origin_idx\")"
   ]
  },
  {
   "cell_type": "code",
   "execution_count": null,
   "metadata": {},
   "outputs": [],
   "source": [
    "create_submission_csv(ts_df.select(pred_cols), \"submission.csv\")"
   ]
  }
 ],
 "metadata": {
  "kernelspec": {
   "display_name": "venv",
   "language": "python",
   "name": "python3"
  },
  "language_info": {
   "codemirror_mode": {
    "name": "ipython",
    "version": 3
   },
   "file_extension": ".py",
   "mimetype": "text/x-python",
   "name": "python",
   "nbconvert_exporter": "python",
   "pygments_lexer": "ipython3",
   "version": "3.10.12"
  }
 },
 "nbformat": 4,
 "nbformat_minor": 2
}
