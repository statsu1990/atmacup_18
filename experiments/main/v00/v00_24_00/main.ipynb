{
 "cells": [
  {
   "cell_type": "code",
   "execution_count": null,
   "metadata": {},
   "outputs": [],
   "source": [
    "import gc\n",
    "import importlib\n",
    "from pathlib import Path\n",
    "\n",
    "import matplotlib.pyplot as plt\n",
    "import numpy as np\n",
    "import polars as pl\n",
    "import seaborn as sns\n",
    "from atmacup_18 import constants\n",
    "\n",
    "import utils\n",
    "\n",
    "importlib.reload(utils)"
   ]
  },
  {
   "cell_type": "code",
   "execution_count": null,
   "metadata": {},
   "outputs": [],
   "source": [
    "RANDOM_STATE = 2024\n",
    "utils.seed_everything(RANDOM_STATE)"
   ]
  },
  {
   "cell_type": "markdown",
   "metadata": {},
   "source": [
    "## データ読み込み"
   ]
  },
  {
   "cell_type": "code",
   "execution_count": null,
   "metadata": {},
   "outputs": [],
   "source": [
    "notebook_dir = Path().resolve()\n",
    "DATA_DIR = notebook_dir.parents[3].joinpath(\"data\")\n",
    "DATASET_DIR = DATA_DIR.joinpath(\"atmaCup#18_dataset\")\n",
    "TR_FEATURES_CSV = DATASET_DIR.joinpath(\"train_features.csv\")\n",
    "TS_FEATURES_CSV = DATASET_DIR.joinpath(\"test_features.csv\")\n",
    "IMAGES_DIR = DATASET_DIR.joinpath(\"images\")\n",
    "TRAFFIC_LIGHTS_CSV = DATASET_DIR.joinpath(\"traffic_lights.csv\")\n",
    "\n",
    "IMAGE_NAMES = [\"image_t.png\", \"image_t-0.5.png\", \"image_t-1.0.png\"]\n",
    "TRAFFIC_LIGHTS_BBOX_IMAGE_NAME = constants.TRAFFIC_LIGHT_BBOX_IMAGE_NAME\n",
    "DEPTH_IMAGE_FILE_PREFIX = constants.DEPTH_IMAGE_FILE_PREFIX\n",
    "DEPTH_IMAGE_NAMES = [\n",
    "    f\"{DEPTH_IMAGE_FILE_PREFIX}{image_name}.npy\" for image_name in IMAGE_NAMES\n",
    "]\n",
    "\n",
    "BASE_PRED_DIR = Path(\"..\", \"..\", \"..\", \"main2\", \"v00\", \"v00_05_00\")\n",
    "BASE_OOF_PRED_CSV = BASE_PRED_DIR.joinpath(\"oof_preds.csv\")\n",
    "BASE_SUBMISSION_CSV = BASE_PRED_DIR.joinpath(\"submission.csv\")"
   ]
  },
  {
   "cell_type": "code",
   "execution_count": null,
   "metadata": {},
   "outputs": [],
   "source": [
    "TARGET_COLS = sum([[f\"x_{i}\", f\"y_{i}\", f\"z_{i}\"] for i in range(6)], [])\n",
    "BASE_PRED_COLS = [f\"base_pred_{col}\" for col in TARGET_COLS]"
   ]
  },
  {
   "cell_type": "code",
   "execution_count": null,
   "metadata": {},
   "outputs": [],
   "source": [
    "tr_df = utils.read_feature_csv(TR_FEATURES_CSV)\n",
    "tr_df.head(2)"
   ]
  },
  {
   "cell_type": "code",
   "execution_count": null,
   "metadata": {},
   "outputs": [],
   "source": [
    "ts_df = utils.read_feature_csv(TS_FEATURES_CSV)\n",
    "ts_df.head(2)"
   ]
  },
  {
   "cell_type": "code",
   "execution_count": null,
   "metadata": {},
   "outputs": [],
   "source": [
    "def reduce_base_pred(\n",
    "    df: pl.DataFrame, base_pred_df: pl.DataFrame, has_target: bool\n",
    ") -> pl.DataFrame:\n",
    "    \"\"\"\n",
    "    基礎推定値のdfをconcatし、元のdfのtarget列から除去したdfを返す\n",
    "\n",
    "    Args:\n",
    "        df (pl.DataFrame): target列を持つDataFrame\n",
    "        base_pred_df (pl.DataFrame): 基礎推定値のDataFrame\n",
    "        has_target (bool): target列を持つかどうか\n",
    "    \"\"\"\n",
    "    target_cols = TARGET_COLS\n",
    "    base_pred_cols = BASE_PRED_COLS\n",
    "    df = pl.concat(\n",
    "        [\n",
    "            df,\n",
    "            base_pred_df.select(TARGET_COLS).rename(\n",
    "                {t: b for t, b in zip(target_cols, base_pred_cols)}\n",
    "            ),\n",
    "        ],\n",
    "        how=\"horizontal\",\n",
    "    )\n",
    "\n",
    "    if has_target:\n",
    "        df = df.with_columns(\n",
    "            [\n",
    "                (pl.col(tg_col) - pl.col(base_pred_col)).alias(tg_col)\n",
    "                for tg_col, base_pred_col in zip(target_cols, base_pred_cols)\n",
    "            ]\n",
    "        )\n",
    "    return df\n",
    "\n",
    "\n",
    "def add_base_pred_to_target(df: pl.DataFrame, target_cols: list[str]) -> pl.DataFrame:\n",
    "    \"\"\"\n",
    "    target_colsの列に基礎推定量を足したDataFrameを返す\n",
    "\n",
    "    Args:\n",
    "        df (pl.DataFrame): target列を持つDataFrame\n",
    "        target_cols (list[str]): 追加する基礎推定量の列名\n",
    "    \"\"\"\n",
    "    df = df.with_columns(\n",
    "        [\n",
    "            (pl.col(tg_col) + pl.col(bp_col)).alias(tg_col)\n",
    "            for tg_col, bp_col in zip(target_cols, BASE_PRED_COLS)\n",
    "        ]\n",
    "    )\n",
    "\n",
    "    return df\n",
    "\n",
    "\n",
    "if BASE_PRED_DIR is not None:\n",
    "    # columns: \"x_0\", \"y_0\", \"z_0\", ..., \"x_5\", \"y_5\", \"z_5\"\n",
    "    base_oof_pred_df = pl.read_csv(BASE_OOF_PRED_CSV)\n",
    "    base_submission_df = pl.read_csv(BASE_SUBMISSION_CSV)\n",
    "\n",
    "    # 基礎推定値を元のtarget列から引いた値を新たなtarget列とする\n",
    "    tr_df = reduce_base_pred(tr_df, base_oof_pred_df, has_target=True)\n",
    "    ts_df = reduce_base_pred(ts_df, base_submission_df, has_target=False)\n",
    "\n",
    "    del base_oof_pred_df, base_submission_df\n",
    "    gc.collect()"
   ]
  },
  {
   "cell_type": "code",
   "execution_count": null,
   "metadata": {},
   "outputs": [],
   "source": [
    "tr_tl_bbox_images = utils.load_npy_images(\n",
    "    IMAGES_DIR,\n",
    "    ids=tr_df.get_column(\"ID\").to_list(),\n",
    "    image_names=[TRAFFIC_LIGHTS_BBOX_IMAGE_NAME],\n",
    ")\n",
    "print(tr_tl_bbox_images.shape)\n",
    "ts_tl_bbox_images = utils.load_npy_images(\n",
    "    IMAGES_DIR,\n",
    "    ids=ts_df.get_column(\"ID\").to_list(),\n",
    "    image_names=[TRAFFIC_LIGHTS_BBOX_IMAGE_NAME],\n",
    ")\n",
    "print(ts_tl_bbox_images.shape)"
   ]
  },
  {
   "cell_type": "code",
   "execution_count": null,
   "metadata": {},
   "outputs": [],
   "source": [
    "tr_depth_images = utils.load_npy_images(\n",
    "    IMAGES_DIR,\n",
    "    ids=tr_df.get_column(\"ID\").to_list(),\n",
    "    image_names=DEPTH_IMAGE_NAMES,\n",
    ")\n",
    "print(tr_depth_images.shape)\n",
    "ts_depth_images = utils.load_npy_images(\n",
    "    IMAGES_DIR,\n",
    "    ids=ts_df.get_column(\"ID\").to_list(),\n",
    "    image_names=DEPTH_IMAGE_NAMES,\n",
    ")\n",
    "print(ts_depth_images.shape)"
   ]
  },
  {
   "cell_type": "code",
   "execution_count": null,
   "metadata": {},
   "outputs": [],
   "source": [
    "tr_images = utils.load_images(\n",
    "    IMAGES_DIR, ids=tr_df.get_column(\"ID\").to_list(), image_names=IMAGE_NAMES\n",
    ")\n",
    "print(tr_images.shape)\n",
    "ts_images = utils.load_images(\n",
    "    IMAGES_DIR, ids=ts_df.get_column(\"ID\").to_list(), image_names=IMAGE_NAMES\n",
    ")\n",
    "print(ts_images.shape)"
   ]
  },
  {
   "cell_type": "code",
   "execution_count": null,
   "metadata": {},
   "outputs": [],
   "source": [
    "tr_images = utils.preprocess_images(\n",
    "    # [tr_images, tr_tl_bbox_images, tr_optical_flow_images]\n",
    "    [tr_images, tr_tl_bbox_images, tr_depth_images]\n",
    "    # [tr_images]\n",
    ")\n",
    "ts_images = utils.preprocess_images(\n",
    "    # [ts_images, ts_tl_bbox_images, ts_optical_flow_images]\n",
    "    [ts_images, ts_tl_bbox_images, ts_depth_images]\n",
    "    # [ts_images]\n",
    ")\n",
    "\n",
    "print(tr_images.shape)\n",
    "print(ts_images.shape)"
   ]
  },
  {
   "cell_type": "code",
   "execution_count": null,
   "metadata": {},
   "outputs": [],
   "source": [
    "# del tr_tl_bbox_images\n",
    "# gc.collect()\n",
    "#\n",
    "# del ts_tl_bbox_images\n",
    "# gc.collect()\n",
    "#\n",
    "# del tr_optical_flow_images\n",
    "# gc.collect()\n",
    "#\n",
    "# del ts_optical_flow_images\n",
    "# gc.collect()"
   ]
  },
  {
   "cell_type": "markdown",
   "metadata": {},
   "source": [
    "## scene_dsec順に並び替える"
   ]
  },
  {
   "cell_type": "code",
   "execution_count": null,
   "metadata": {},
   "outputs": [],
   "source": [
    "tr_df = tr_df.sort([\"scene_id\", \"scene_dsec\"])\n",
    "ts_df = ts_df.sort([\"scene_id\", \"scene_dsec\"])\n",
    "\n",
    "tr_images = tr_images[tr_df.get_column(\"origin_idx\").to_numpy()]\n",
    "ts_images = ts_images[ts_df.get_column(\"origin_idx\").to_numpy()]"
   ]
  },
  {
   "cell_type": "markdown",
   "metadata": {},
   "source": [
    "## Target"
   ]
  },
  {
   "cell_type": "code",
   "execution_count": null,
   "metadata": {},
   "outputs": [],
   "source": [
    "target = utils.CoordinateTarget(prefix=\"tg_\")\n",
    "target.fit(tr_df)\n",
    "\n",
    "tg_df = target.transform(tr_df)\n",
    "print(tg_df.columns)\n",
    "print(tg_df.describe().glimpse())\n",
    "tr_df = pl.concat([tr_df, tg_df], how=\"horizontal\")\n",
    "\n",
    "del tg_df\n",
    "gc.collect()"
   ]
  },
  {
   "cell_type": "markdown",
   "metadata": {},
   "source": [
    "## 特徴量"
   ]
  },
  {
   "cell_type": "code",
   "execution_count": null,
   "metadata": {},
   "outputs": [],
   "source": [
    "feature = utils.Feature(prefix=\"ft_\")\n",
    "feature.fit(tr_df)\n",
    "\n",
    "ft_df = feature.transform(tr_df)\n",
    "print(ft_df.columns)\n",
    "print(ft_df.describe().glimpse())\n",
    "tr_df = pl.concat([tr_df, ft_df], how=\"horizontal\")\n",
    "\n",
    "ft_df = feature.transform(ts_df)\n",
    "print(ft_df.columns)\n",
    "print(ft_df.describe().glimpse())\n",
    "ts_df = pl.concat([ts_df, ft_df], how=\"horizontal\")\n",
    "\n",
    "del ft_df\n",
    "gc.collect()"
   ]
  },
  {
   "cell_type": "markdown",
   "metadata": {},
   "source": [
    "## モデリング"
   ]
  },
  {
   "cell_type": "code",
   "execution_count": null,
   "metadata": {},
   "outputs": [],
   "source": [
    "N_SPLITS = 2"
   ]
  },
  {
   "cell_type": "code",
   "execution_count": null,
   "metadata": {},
   "outputs": [],
   "source": [
    "n_sample_in_scene = 3\n",
    "\n",
    "model_params = {\n",
    "    \"dnn\": {\n",
    "        \"n_sample_in_scene\": n_sample_in_scene,\n",
    "        \"n_img_channels\": tr_images.shape[1] * n_sample_in_scene,\n",
    "        \"n_features\": len(feature.columns) * n_sample_in_scene,\n",
    "        \"n_targets\": len(target.columns),\n",
    "        \"dropout\": 0.0,\n",
    "        \"embed_dim\": 128,\n",
    "        \"n_layers\": 1,\n",
    "    },\n",
    "    \"dnn_pretrained_model\": {\n",
    "        # list[str]: len(list) == n_splits\n",
    "        \"weight_path\": None,\n",
    "        \"load_only_backbone\": None,\n",
    "    },\n",
    "    \"dev\": \"cuda\",\n",
    "}\n",
    "\n",
    "lr = 5e-5\n",
    "fit_params = {\n",
    "    \"dnn\": {\n",
    "        \"tr_batch_size\": 16,\n",
    "        \"vl_batch_size\": 16,\n",
    "        \"trainer_params\": {\n",
    "            \"criterion_params\": {},\n",
    "            \"opt\": \"adamw\",\n",
    "            \"opt_params\": {\"lr\": lr, \"weight_decay\": 1e-4},\n",
    "            \"backbone_opt_params\": {\"lr\": lr, \"weight_decay\": 1e-4},\n",
    "            \"sch_params\": {\n",
    "                \"max_lr\": lr,\n",
    "                \"pct_start\": 0.1,\n",
    "                \"div_factor\": 25,\n",
    "                \"final_div_factor\": 1000,\n",
    "            },\n",
    "            \"epochs\": 10,\n",
    "            \"dev\": \"cuda\",\n",
    "            \"val_freq\": 1,\n",
    "            \"prefix\": \"\",\n",
    "            \"save_best\": False,\n",
    "            \"save_epochs\": [],\n",
    "            \"maximize_score\": False,\n",
    "            \"grad_max_norm\": None,\n",
    "        },\n",
    "    },\n",
    "}"
   ]
  },
  {
   "cell_type": "code",
   "execution_count": null,
   "metadata": {},
   "outputs": [],
   "source": [
    "models, oof_preds = utils.train(\n",
    "    model_params=model_params,\n",
    "    fit_params=fit_params,\n",
    "    df=tr_df,\n",
    "    images=tr_images,\n",
    "    target_cols=target.columns,\n",
    "    feature_cols=feature.columns,\n",
    "    group_col=\"scene_id\",\n",
    "    scene_id_col=\"scene_id\",\n",
    "    scene_dsec_col=\"scene_dsec\",\n",
    "    n_splits=N_SPLITS,\n",
    ")"
   ]
  },
  {
   "cell_type": "code",
   "execution_count": null,
   "metadata": {},
   "outputs": [],
   "source": [
    "oof_preds = oof_preds.select(pl.all().name.prefix(\"pred_\"))\n",
    "pred_cols = oof_preds.columns\n",
    "\n",
    "tr_df = pl.concat([tr_df, oof_preds], how=\"horizontal\")\n",
    "tr_df"
   ]
  },
  {
   "cell_type": "markdown",
   "metadata": {},
   "source": [
    "## 評価"
   ]
  },
  {
   "cell_type": "code",
   "execution_count": null,
   "metadata": {},
   "outputs": [],
   "source": [
    "def calc_score(df: pl.DataFrame, pred_cols: list[str]):\n",
    "    tg_cols = sum([[f\"x_{i}\", f\"y_{i}\", f\"z_{i}\"] for i in range(6)], [])\n",
    "\n",
    "    tg = df.select(tg_cols).to_numpy()\n",
    "    pred = df.select(pred_cols).to_numpy()\n",
    "\n",
    "    scores = np.abs(tg - pred).mean(axis=0)\n",
    "    scores = {f\"score_{col}\": float(score) for col, score in zip(pred_cols, scores)}\n",
    "    scores[\"avg\"] = float(np.abs(tg - pred).mean())\n",
    "    return scores\n",
    "\n",
    "\n",
    "scores = calc_score(tr_df, pred_cols)\n",
    "scores"
   ]
  },
  {
   "cell_type": "code",
   "execution_count": null,
   "metadata": {},
   "outputs": [],
   "source": [
    "utils.plot_calibration_curve(tr_df, pred_cols, n_bins=40)"
   ]
  },
  {
   "cell_type": "code",
   "execution_count": null,
   "metadata": {},
   "outputs": [],
   "source": [
    "if BASE_PRED_DIR is not None:\n",
    "    # 差し引いていた基礎推定値を足して元のtarget, pred列に戻す\n",
    "    tr_df = add_base_pred_to_target(tr_df, TARGET_COLS)\n",
    "    tr_df = add_base_pred_to_target(tr_df, pred_cols)"
   ]
  },
  {
   "cell_type": "code",
   "execution_count": null,
   "metadata": {},
   "outputs": [],
   "source": [
    "if BASE_PRED_DIR is not None:\n",
    "    scores = calc_score(tr_df, pred_cols)\n",
    "    display(scores)"
   ]
  },
  {
   "cell_type": "code",
   "execution_count": null,
   "metadata": {},
   "outputs": [],
   "source": [
    "if BASE_PRED_DIR is not None:\n",
    "    utils.plot_calibration_curve(tr_df, pred_cols, n_bins=40)"
   ]
  },
  {
   "cell_type": "markdown",
   "metadata": {},
   "source": [
    "## oofを保存"
   ]
  },
  {
   "cell_type": "code",
   "execution_count": null,
   "metadata": {},
   "outputs": [],
   "source": [
    "def create_submission_csv(preds: pl.DataFrame, filename: str = \"submission.csv\"):\n",
    "    submission_cols = TARGET_COLS\n",
    "\n",
    "    # validate preds columns\n",
    "    if len(preds.columns) != len(submission_cols):\n",
    "        raise ValueError(\n",
    "            f\"preds columns must be {len(submission_cols)}, but got {len(preds.columns)}\"\n",
    "        )\n",
    "\n",
    "    preds.columns = submission_cols\n",
    "    preds.write_csv(filename)\n",
    "    print(f\"Submission file is created: {filename}\")\n",
    "\n",
    "\n",
    "# 元の順番に戻して保存\n",
    "create_submission_csv(tr_df.sort(\"origin_idx\").select(pred_cols), \"oof_preds.csv\")"
   ]
  },
  {
   "cell_type": "markdown",
   "metadata": {},
   "source": [
    "## Submission"
   ]
  },
  {
   "cell_type": "code",
   "execution_count": null,
   "metadata": {},
   "outputs": [],
   "source": [
    "preds = utils.predict(\n",
    "    models,\n",
    "    ts_images,\n",
    "    ts_df,\n",
    "    feature.columns,\n",
    "    scene_id_col=\"scene_id\",\n",
    "    scene_dsec_col=\"scene_dsec\",\n",
    "    pred_cols=pred_cols,\n",
    ")\n",
    "pred_cols = preds.columns\n",
    "ts_df = pl.concat([ts_df, preds], how=\"horizontal\")\n",
    "\n",
    "preds"
   ]
  },
  {
   "cell_type": "code",
   "execution_count": null,
   "metadata": {},
   "outputs": [],
   "source": [
    "if BASE_PRED_DIR is not None:\n",
    "    # 差し引いていた基礎推定値を足して元のtarget, pred列に戻す\n",
    "    ts_df = add_base_pred_to_target(ts_df, pred_cols)\n",
    "    display(ts_df)"
   ]
  },
  {
   "cell_type": "code",
   "execution_count": null,
   "metadata": {},
   "outputs": [],
   "source": [
    "# 元の順番に戻す\n",
    "ts_df = ts_df.sort(\"origin_idx\")"
   ]
  },
  {
   "cell_type": "code",
   "execution_count": null,
   "metadata": {},
   "outputs": [],
   "source": [
    "create_submission_csv(ts_df.select(pred_cols), \"submission.csv\")"
   ]
  }
 ],
 "metadata": {
  "kernelspec": {
   "display_name": "venv",
   "language": "python",
   "name": "python3"
  },
  "language_info": {
   "codemirror_mode": {
    "name": "ipython",
    "version": 3
   },
   "file_extension": ".py",
   "mimetype": "text/x-python",
   "name": "python",
   "nbconvert_exporter": "python",
   "pygments_lexer": "ipython3",
   "version": "3.10.12"
  }
 },
 "nbformat": 4,
 "nbformat_minor": 2
}
