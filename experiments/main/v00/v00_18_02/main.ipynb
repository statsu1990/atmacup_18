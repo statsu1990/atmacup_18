{
 "cells": [
  {
   "cell_type": "code",
   "execution_count": 1,
   "metadata": {},
   "outputs": [
    {
     "data": {
      "text/plain": [
       "<module 'utils' from '/home/tatsuya/projects/atmacup/atmacup_18/experiments/main/v00/v00_18_02/utils.py'>"
      ]
     },
     "execution_count": 1,
     "metadata": {},
     "output_type": "execute_result"
    }
   ],
   "source": [
    "import gc\n",
    "import importlib\n",
    "from pathlib import Path\n",
    "\n",
    "import matplotlib.pyplot as plt\n",
    "import numpy as np\n",
    "import polars as pl\n",
    "import seaborn as sns\n",
    "from atmacup_18 import constants\n",
    "\n",
    "import utils\n",
    "\n",
    "importlib.reload(utils)"
   ]
  },
  {
   "cell_type": "code",
   "execution_count": 2,
   "metadata": {},
   "outputs": [],
   "source": [
    "RANDOM_STATE = 2024\n",
    "utils.seed_everything(RANDOM_STATE)"
   ]
  },
  {
   "cell_type": "markdown",
   "metadata": {},
   "source": [
    "## データ読み込み"
   ]
  },
  {
   "cell_type": "code",
   "execution_count": 3,
   "metadata": {},
   "outputs": [],
   "source": [
    "notebook_dir = Path().resolve()\n",
    "DATA_DIR = notebook_dir.parents[3].joinpath(\"data\")\n",
    "DATASET_DIR = DATA_DIR.joinpath(\"atmaCup#18_dataset\")\n",
    "TR_FEATURES_CSV = DATASET_DIR.joinpath(\"train_features.csv\")\n",
    "TS_FEATURES_CSV = DATASET_DIR.joinpath(\"test_features.csv\")\n",
    "IMAGES_DIR = DATASET_DIR.joinpath(\"images\")\n",
    "TRAFFIC_LIGHTS_CSV = DATASET_DIR.joinpath(\"traffic_lights.csv\")\n",
    "\n",
    "IMAGE_NAMES = [\"image_t.png\", \"image_t-0.5.png\", \"image_t-1.0.png\"]\n",
    "TRAFFIC_LIGHTS_BBOX_IMAGE_NAME = constants.TRAFFIC_LIGHT_BBOX_IMAGE_NAME\n",
    "OPTICAL_FLOW_IMAGE_NAME = constants.OPTICAL_FLOW_IMAGE_NAME\n",
    "\n",
    "BASE_PRED_DIR = Path(\"..\", \"..\", \"..\", \"main2\", \"v00\", \"v00_04_00\")\n",
    "BASE_OOF_PRED_CSV = BASE_PRED_DIR.joinpath(\"oof_preds.csv\")\n",
    "BASE_SUBMISSION_CSV = BASE_PRED_DIR.joinpath(\"submission.csv\")"
   ]
  },
  {
   "cell_type": "code",
   "execution_count": 4,
   "metadata": {},
   "outputs": [],
   "source": [
    "TARGET_COLS = sum([[f\"x_{i}\", f\"y_{i}\", f\"z_{i}\"] for i in range(6)], [])"
   ]
  },
  {
   "cell_type": "code",
   "execution_count": 5,
   "metadata": {},
   "outputs": [
    {
     "data": {
      "text/html": [
       "<div><style>\n",
       ".dataframe > thead > tr,\n",
       ".dataframe > tbody > tr {\n",
       "  text-align: right;\n",
       "  white-space: pre-wrap;\n",
       "}\n",
       "</style>\n",
       "<small>shape: (2, 33)</small><table border=\"1\" class=\"dataframe\"><thead><tr><th>ID</th><th>vEgo</th><th>aEgo</th><th>steeringAngleDeg</th><th>steeringTorque</th><th>brake</th><th>brakePressed</th><th>gas</th><th>gasPressed</th><th>gearShifter</th><th>leftBlinker</th><th>rightBlinker</th><th>x_0</th><th>y_0</th><th>z_0</th><th>x_1</th><th>y_1</th><th>z_1</th><th>x_2</th><th>y_2</th><th>z_2</th><th>x_3</th><th>y_3</th><th>z_3</th><th>x_4</th><th>y_4</th><th>z_4</th><th>x_5</th><th>y_5</th><th>z_5</th><th>scene_id</th><th>scene_dsec</th><th>origin_idx</th></tr><tr><td>str</td><td>f64</td><td>f64</td><td>f64</td><td>f64</td><td>f64</td><td>bool</td><td>f64</td><td>bool</td><td>str</td><td>bool</td><td>bool</td><td>f64</td><td>f64</td><td>f64</td><td>f64</td><td>f64</td><td>f64</td><td>f64</td><td>f64</td><td>f64</td><td>f64</td><td>f64</td><td>f64</td><td>f64</td><td>f64</td><td>f64</td><td>f64</td><td>f64</td><td>f64</td><td>str</td><td>i32</td><td>i64</td></tr></thead><tbody><tr><td>&quot;00066be8e20318869c38c66be46663…</td><td>5.701526</td><td>1.538456</td><td>-2.165777</td><td>-139.0</td><td>0.0</td><td>false</td><td>0.25</td><td>true</td><td>&quot;drive&quot;</td><td>false</td><td>false</td><td>2.82959</td><td>0.032226</td><td>0.045187</td><td>6.231999</td><td>0.065895</td><td>0.107974</td><td>9.785009</td><td>0.124972</td><td>0.203649</td><td>13.485472</td><td>0.163448</td><td>0.302818</td><td>17.574227</td><td>0.174289</td><td>0.406331</td><td>21.951269</td><td>0.199503</td><td>0.485079</td><td>&quot;00066be8e20318869c38c66be46663…</td><td>320</td><td>0</td></tr><tr><td>&quot;00066be8e20318869c38c66be46663…</td><td>11.176292</td><td>0.279881</td><td>-11.625697</td><td>-44.0</td><td>0.0</td><td>false</td><td>0.0</td><td>false</td><td>&quot;drive&quot;</td><td>false</td><td>true</td><td>4.970268</td><td>-0.007936</td><td>0.005028</td><td>10.350489</td><td>-0.032374</td><td>-0.020701</td><td>15.770054</td><td>0.084073</td><td>0.008645</td><td>21.132415</td><td>0.391343</td><td>0.036335</td><td>26.316489</td><td>0.843124</td><td>0.065</td><td>31.383814</td><td>1.42507</td><td>0.073083</td><td>&quot;00066be8e20318869c38c66be46663…</td><td>420</td><td>1</td></tr></tbody></table></div>"
      ],
      "text/plain": [
       "shape: (2, 33)\n",
       "┌────────────┬───────────┬──────────┬───────────┬───┬──────────┬───────────┬───────────┬───────────┐\n",
       "│ ID         ┆ vEgo      ┆ aEgo     ┆ steeringA ┆ … ┆ z_5      ┆ scene_id  ┆ scene_dse ┆ origin_id │\n",
       "│ ---        ┆ ---       ┆ ---      ┆ ngleDeg   ┆   ┆ ---      ┆ ---       ┆ c         ┆ x         │\n",
       "│ str        ┆ f64       ┆ f64      ┆ ---       ┆   ┆ f64      ┆ str       ┆ ---       ┆ ---       │\n",
       "│            ┆           ┆          ┆ f64       ┆   ┆          ┆           ┆ i32       ┆ i64       │\n",
       "╞════════════╪═══════════╪══════════╪═══════════╪═══╪══════════╪═══════════╪═══════════╪═══════════╡\n",
       "│ 00066be8e2 ┆ 5.701526  ┆ 1.538456 ┆ -2.165777 ┆ … ┆ 0.485079 ┆ 00066be8e ┆ 320       ┆ 0         │\n",
       "│ 0318869c38 ┆           ┆          ┆           ┆   ┆          ┆ 20318869c ┆           ┆           │\n",
       "│ c66be46663 ┆           ┆          ┆           ┆   ┆          ┆ 38c66be46 ┆           ┆           │\n",
       "│ …          ┆           ┆          ┆           ┆   ┆          ┆ 663…      ┆           ┆           │\n",
       "│ 00066be8e2 ┆ 11.176292 ┆ 0.279881 ┆ -11.62569 ┆ … ┆ 0.073083 ┆ 00066be8e ┆ 420       ┆ 1         │\n",
       "│ 0318869c38 ┆           ┆          ┆ 7         ┆   ┆          ┆ 20318869c ┆           ┆           │\n",
       "│ c66be46663 ┆           ┆          ┆           ┆   ┆          ┆ 38c66be46 ┆           ┆           │\n",
       "│ …          ┆           ┆          ┆           ┆   ┆          ┆ 663…      ┆           ┆           │\n",
       "└────────────┴───────────┴──────────┴───────────┴───┴──────────┴───────────┴───────────┴───────────┘"
      ]
     },
     "execution_count": 5,
     "metadata": {},
     "output_type": "execute_result"
    }
   ],
   "source": [
    "tr_df = utils.read_feature_csv(TR_FEATURES_CSV)\n",
    "tr_df.head(2)"
   ]
  },
  {
   "cell_type": "code",
   "execution_count": 6,
   "metadata": {},
   "outputs": [
    {
     "data": {
      "text/html": [
       "<div><style>\n",
       ".dataframe > thead > tr,\n",
       ".dataframe > tbody > tr {\n",
       "  text-align: right;\n",
       "  white-space: pre-wrap;\n",
       "}\n",
       "</style>\n",
       "<small>shape: (2, 15)</small><table border=\"1\" class=\"dataframe\"><thead><tr><th>ID</th><th>vEgo</th><th>aEgo</th><th>steeringAngleDeg</th><th>steeringTorque</th><th>brake</th><th>brakePressed</th><th>gas</th><th>gasPressed</th><th>gearShifter</th><th>leftBlinker</th><th>rightBlinker</th><th>scene_id</th><th>scene_dsec</th><th>origin_idx</th></tr><tr><td>str</td><td>f64</td><td>f64</td><td>f64</td><td>f64</td><td>f64</td><td>bool</td><td>f64</td><td>bool</td><td>str</td><td>bool</td><td>bool</td><td>str</td><td>i32</td><td>i64</td></tr></thead><tbody><tr><td>&quot;012baccc145d400c896cb82065a93d…</td><td>3.374273</td><td>-0.01936</td><td>-34.008415</td><td>17.0</td><td>0.0</td><td>false</td><td>0.0</td><td>false</td><td>&quot;drive&quot;</td><td>false</td><td>false</td><td>&quot;012baccc145d400c896cb82065a93d…</td><td>120</td><td>0</td></tr><tr><td>&quot;012baccc145d400c896cb82065a93d…</td><td>2.441048</td><td>-0.022754</td><td>307.860077</td><td>295.0</td><td>0.0</td><td>true</td><td>0.0</td><td>false</td><td>&quot;drive&quot;</td><td>false</td><td>false</td><td>&quot;012baccc145d400c896cb82065a93d…</td><td>220</td><td>1</td></tr></tbody></table></div>"
      ],
      "text/plain": [
       "shape: (2, 15)\n",
       "┌───────────┬──────────┬───────────┬───────────┬───┬───────────┬───────────┬───────────┬───────────┐\n",
       "│ ID        ┆ vEgo     ┆ aEgo      ┆ steeringA ┆ … ┆ rightBlin ┆ scene_id  ┆ scene_dse ┆ origin_id │\n",
       "│ ---       ┆ ---      ┆ ---       ┆ ngleDeg   ┆   ┆ ker       ┆ ---       ┆ c         ┆ x         │\n",
       "│ str       ┆ f64      ┆ f64       ┆ ---       ┆   ┆ ---       ┆ str       ┆ ---       ┆ ---       │\n",
       "│           ┆          ┆           ┆ f64       ┆   ┆ bool      ┆           ┆ i32       ┆ i64       │\n",
       "╞═══════════╪══════════╪═══════════╪═══════════╪═══╪═══════════╪═══════════╪═══════════╪═══════════╡\n",
       "│ 012baccc1 ┆ 3.374273 ┆ -0.01936  ┆ -34.00841 ┆ … ┆ false     ┆ 012baccc1 ┆ 120       ┆ 0         │\n",
       "│ 45d400c89 ┆          ┆           ┆ 5         ┆   ┆           ┆ 45d400c89 ┆           ┆           │\n",
       "│ 6cb82065a ┆          ┆           ┆           ┆   ┆           ┆ 6cb82065a ┆           ┆           │\n",
       "│ 93d…      ┆          ┆           ┆           ┆   ┆           ┆ 93d…      ┆           ┆           │\n",
       "│ 012baccc1 ┆ 2.441048 ┆ -0.022754 ┆ 307.86007 ┆ … ┆ false     ┆ 012baccc1 ┆ 220       ┆ 1         │\n",
       "│ 45d400c89 ┆          ┆           ┆ 7         ┆   ┆           ┆ 45d400c89 ┆           ┆           │\n",
       "│ 6cb82065a ┆          ┆           ┆           ┆   ┆           ┆ 6cb82065a ┆           ┆           │\n",
       "│ 93d…      ┆          ┆           ┆           ┆   ┆           ┆ 93d…      ┆           ┆           │\n",
       "└───────────┴──────────┴───────────┴───────────┴───┴───────────┴───────────┴───────────┴───────────┘"
      ]
     },
     "execution_count": 6,
     "metadata": {},
     "output_type": "execute_result"
    }
   ],
   "source": [
    "ts_df = utils.read_feature_csv(TS_FEATURES_CSV)\n",
    "ts_df.head(2)"
   ]
  },
  {
   "cell_type": "code",
   "execution_count": 7,
   "metadata": {},
   "outputs": [],
   "source": [
    "def reduce_base_pred(\n",
    "    df: pl.DataFrame, base_pred_df: pl.DataFrame, has_target: bool\n",
    ") -> pl.DataFrame:\n",
    "    \"\"\"\n",
    "    基礎推定値のdfをconcatし、元のdfのtarget列から除去したdfを返す\n",
    "\n",
    "    Args:\n",
    "        df (pl.DataFrame): target列を持つDataFrame\n",
    "        base_pred_df (pl.DataFrame): 基礎推定値のDataFrame\n",
    "        has_target (bool): target列を持つかどうか\n",
    "    \"\"\"\n",
    "    pf = \"base_pred_\"\n",
    "    df = pl.concat(\n",
    "        [df, base_pred_df.select(pl.all().name.prefix(pf))], how=\"horizontal\"\n",
    "    )\n",
    "\n",
    "    if has_target:\n",
    "        target_cols = TARGET_COLS\n",
    "        df = df.with_columns(\n",
    "            [\n",
    "                (pl.col(tg_col) - pl.col(f\"{pf}{tg_col}\")).alias(tg_col)\n",
    "                for tg_col in target_cols\n",
    "            ]\n",
    "        )\n",
    "    return df\n",
    "\n",
    "\n",
    "def add_base_pred_to_target(df: pl.DataFrame, target_cols: list[str]) -> pl.DataFrame:\n",
    "    \"\"\"\n",
    "    target_colsの列に基礎推定量を足したDataFrameを返す\n",
    "\n",
    "    Args:\n",
    "        df (pl.DataFrame): target列を持つDataFrame\n",
    "        target_cols (list[str]): 追加する基礎推定量の列名\n",
    "    \"\"\"\n",
    "    pf = \"base_pred_\"\n",
    "    base_pred_cols = [f\"{pf}{tg_col}\" for tg_col in TARGET_COLS]\n",
    "    df = df.with_columns(\n",
    "        [\n",
    "            (pl.col(tg_col) + pl.col(bp_col)).alias(tg_col)\n",
    "            for tg_col, bp_col in zip(target_cols, base_pred_cols)\n",
    "        ]\n",
    "    )\n",
    "\n",
    "    return df\n",
    "\n",
    "\n",
    "if BASE_PRED_DIR is not None:\n",
    "    # columns: \"x_0\", \"y_0\", \"z_0\", ..., \"x_5\", \"y_5\", \"z_5\"\n",
    "    base_oof_pred_df = pl.read_csv(BASE_OOF_PRED_CSV)\n",
    "    base_submission_df = pl.read_csv(BASE_SUBMISSION_CSV)\n",
    "\n",
    "    # 基礎推定値を元のtarget列から引いた値を新たなtarget列とする\n",
    "    tr_df = reduce_base_pred(tr_df, base_oof_pred_df, has_target=True)\n",
    "    ts_df = reduce_base_pred(ts_df, base_submission_df, has_target=False)\n",
    "\n",
    "    del base_oof_pred_df\n",
    "    gc.collect()\n",
    "\n",
    "    del base_submission_df\n",
    "    gc.collect()"
   ]
  },
  {
   "cell_type": "code",
   "execution_count": 8,
   "metadata": {},
   "outputs": [],
   "source": [
    "# tr_tl_bbox_images = utils.load_npy_images(\n",
    "#    IMAGES_DIR,\n",
    "#    ids=tr_df.get_column(\"ID\").to_list(),\n",
    "#    image_names=[TRAFFIC_LIGHTS_BBOX_IMAGE_NAME],\n",
    "# )\n",
    "# print(tr_tl_bbox_images.shape)\n",
    "# ts_tl_bbox_images = utils.load_npy_images(\n",
    "#    IMAGES_DIR,\n",
    "#    ids=ts_df.get_column(\"ID\").to_list(),\n",
    "#    image_names=[TRAFFIC_LIGHTS_BBOX_IMAGE_NAME],\n",
    "# )\n",
    "# print(ts_tl_bbox_images.shape)"
   ]
  },
  {
   "cell_type": "code",
   "execution_count": 9,
   "metadata": {},
   "outputs": [],
   "source": [
    "# tr_optical_flow_images = utils.load_npy_images(\n",
    "#    IMAGES_DIR,\n",
    "#    ids=tr_df.get_column(\"ID\").to_list(),\n",
    "#    image_names=[OPTICAL_FLOW_IMAGE_NAME],\n",
    "# )\n",
    "# print(tr_optical_flow_images.shape)\n",
    "# ts_optical_flow_images = utils.load_npy_images(\n",
    "#    IMAGES_DIR,\n",
    "#    ids=ts_df.get_column(\"ID\").to_list(),\n",
    "#    image_names=[OPTICAL_FLOW_IMAGE_NAME],\n",
    "# )\n",
    "# print(ts_optical_flow_images.shape)"
   ]
  },
  {
   "cell_type": "code",
   "execution_count": 10,
   "metadata": {},
   "outputs": [
    {
     "name": "stdout",
     "output_type": "stream",
     "text": [
      "(43371, 3, 64, 128, 3)\n",
      "(1727, 3, 64, 128, 3)\n"
     ]
    }
   ],
   "source": [
    "tr_images = utils.load_images(\n",
    "    IMAGES_DIR, ids=tr_df.get_column(\"ID\").to_list(), image_names=IMAGE_NAMES\n",
    ")\n",
    "print(tr_images.shape)\n",
    "ts_images = utils.load_images(\n",
    "    IMAGES_DIR, ids=ts_df.get_column(\"ID\").to_list(), image_names=IMAGE_NAMES\n",
    ")\n",
    "print(ts_images.shape)"
   ]
  },
  {
   "cell_type": "code",
   "execution_count": 11,
   "metadata": {},
   "outputs": [
    {
     "name": "stdout",
     "output_type": "stream",
     "text": [
      "(43371, 9, 64, 128)\n",
      "(1727, 9, 64, 128)\n"
     ]
    }
   ],
   "source": [
    "tr_images = utils.preprocess_images(\n",
    "    # [tr_images, tr_tl_bbox_images, tr_optical_flow_images]\n",
    "    # [tr_images, tr_tl_bbox_images]\n",
    "    [tr_images]\n",
    ")\n",
    "ts_images = utils.preprocess_images(\n",
    "    # [ts_images, ts_tl_bbox_images, ts_optical_flow_images]\n",
    "    # [ts_images, ts_tl_bbox_images]\n",
    "    [ts_images]\n",
    ")\n",
    "\n",
    "print(tr_images.shape)\n",
    "print(ts_images.shape)"
   ]
  },
  {
   "cell_type": "code",
   "execution_count": 12,
   "metadata": {},
   "outputs": [],
   "source": [
    "# del tr_tl_bbox_images\n",
    "# gc.collect()\n",
    "#\n",
    "# del ts_tl_bbox_images\n",
    "# gc.collect()\n",
    "#\n",
    "# del tr_optical_flow_images\n",
    "# gc.collect()\n",
    "#\n",
    "# del ts_optical_flow_images\n",
    "# gc.collect()"
   ]
  },
  {
   "cell_type": "markdown",
   "metadata": {},
   "source": [
    "## scene_dsec順に並び替える"
   ]
  },
  {
   "cell_type": "code",
   "execution_count": 13,
   "metadata": {},
   "outputs": [],
   "source": [
    "tr_df = tr_df.sort([\"scene_id\", \"scene_dsec\"])\n",
    "ts_df = ts_df.sort([\"scene_id\", \"scene_dsec\"])\n",
    "\n",
    "tr_images = tr_images[tr_df.get_column(\"origin_idx\").to_numpy()]\n",
    "ts_images = ts_images[ts_df.get_column(\"origin_idx\").to_numpy()]"
   ]
  },
  {
   "cell_type": "markdown",
   "metadata": {},
   "source": [
    "## Target"
   ]
  },
  {
   "cell_type": "code",
   "execution_count": 14,
   "metadata": {},
   "outputs": [
    {
     "name": "stdout",
     "output_type": "stream",
     "text": [
      "['tg_cood_x_0', 'tg_cood_y_0', 'tg_cood_z_0', 'tg_cood_x_1', 'tg_cood_y_1', 'tg_cood_z_1', 'tg_cood_x_2', 'tg_cood_y_2', 'tg_cood_z_2', 'tg_cood_x_3', 'tg_cood_y_3', 'tg_cood_z_3', 'tg_cood_x_4', 'tg_cood_y_4', 'tg_cood_z_4', 'tg_cood_x_5', 'tg_cood_y_5', 'tg_cood_z_5']\n",
      "Rows: 9\n",
      "Columns: 19\n",
      "$ statistic   <str> 'count', 'null_count', 'mean', 'std', 'min', '25%', '50%', '75%', 'max'\n",
      "$ tg_cood_x_0 <f64> 43371.0, 0.0, -6.398172096493292e-05, 0.09748330055151712, -2.049703424044697, -0.03889588129092658, -0.0004598591444684372, 0.04074949288609275, 1.1879026061010576\n",
      "$ tg_cood_y_0 <f64> 43371.0, 0.0, -1.8151129571594546e-05, 0.06193532851615388, -2.548924091006372, -0.022029638339427435, -0.0006609180929956013, 0.02146723659824248, 3.8037482134210494\n",
      "$ tg_cood_z_0 <f64> 43371.0, 0.0, 8.790075275766784e-06, 0.04012050718886584, -0.9958970690087603, -0.018423500383461567, 0.0003501801640828847, 0.01789679478671308, 1.444553594762872\n",
      "$ tg_cood_x_1 <f64> 43371.0, 0.0, 7.390598477211262e-05, 0.19823894802995012, -4.042312802542647, -0.08151538447028273, -0.0012707468405572797, 0.08708212673601778, 1.963326505093117\n",
      "$ tg_cood_y_1 <f64> 43371.0, 0.0, -6.042804778859254e-05, 0.11925027519616391, -4.1519624734575755, -0.049759535287697554, -0.0009729469552660561, 0.04936115596979393, 4.559923516972201\n",
      "$ tg_cood_z_1 <f64> 43371.0, 0.0, 3.213957593073679e-05, 0.08178973424523381, -1.7513885438398398, -0.03842531136238968, 0.0008339306487897581, 0.03784175938701205, 2.7371456189025216\n",
      "$ tg_cood_x_2 <f64> 43371.0, 0.0, 2.1266096248821524e-05, 0.32787710066883213, -6.150521985928864, -0.13931589600068373, 0.0009349037558621376, 0.14558624397365705, 3.0747398786813864\n",
      "$ tg_cood_y_2 <f64> 43371.0, 0.0, -0.00023871367917394721, 0.19851877879802463, -4.526772896710666, -0.08625084559755396, -0.0013233628758448981, 0.08739567644849641, 4.664100510772889\n",
      "$ tg_cood_z_2 <f64> 43371.0, 0.0, 4.850797560309064e-05, 0.12427501022613872, -2.3364185613367536, -0.059275706305478855, 0.001266534926614193, 0.05835775564581079, 3.9047182481070255\n",
      "$ tg_cood_x_3 <f64> 43371.0, 0.0, 6.0747061268714656e-05, 0.507336501530861, -8.40018830677086, -0.21234217754193452, 0.0016340195619406472, 0.2232534736127576, 4.5005713795371864\n",
      "$ tg_cood_y_3 <f64> 43371.0, 0.0, -0.0007032045132759178, 0.3249276714620277, -5.029538474344575, -0.13341409098745005, -0.00035207629691647035, 0.13799036241732068, 6.124390603112924\n",
      "$ tg_cood_z_3 <f64> 43371.0, 0.0, 7.197895240875479e-05, 0.1685627022989026, -3.0270022449623286, -0.0814794143641271, 0.0016946651230811578, 0.0794492564387381, 4.750247691214308\n",
      "$ tg_cood_x_4 <f64> 43371.0, 0.0, 0.00031386376713152465, 0.7357308172169094, -10.609364695929992, -0.29976494775652185, 0.002236836473559718, 0.31706899755111806, 7.2752380362708635\n",
      "$ tg_cood_y_4 <f64> 43371.0, 0.0, -0.0011773864281015844, 0.5085744348563332, -6.2144240048387624, -0.19279076429752767, -0.00023555961339583043, 0.20460852293287368, 7.753253304982292\n",
      "$ tg_cood_z_4 <f64> 43371.0, 0.0, 9.166287720221179e-05, 0.2146569604536989, -3.83289629188624, -0.10310193463195538, 0.002021154133022722, 0.10129515502881999, 5.713542903081673\n",
      "$ tg_cood_x_5 <f64> 43371.0, 0.0, 0.00014954128487627797, 1.010997164397749, -12.85452502905786, -0.39443164454282, 0.002564486473033867, 0.4170443209014252, 10.753051618551908\n",
      "$ tg_cood_y_5 <f64> 43371.0, 0.0, -0.0017937067146673153, 0.751573560269236, -7.352832532520953, -0.266509222462083, 0.0012802767433046647, 0.2825891662877869, 9.609979009478458\n",
      "$ tg_cood_z_5 <f64> 43371.0, 0.0, 8.535593036215776e-05, 0.26325564365353293, -4.623808287767557, -0.12559594325447648, 0.0021929706869695323, 0.12264917303345566, 6.593043335473873\n",
      "\n",
      "None\n"
     ]
    },
    {
     "data": {
      "text/plain": [
       "0"
      ]
     },
     "execution_count": 14,
     "metadata": {},
     "output_type": "execute_result"
    }
   ],
   "source": [
    "target = utils.CoordinateTarget(prefix=\"tg_\")\n",
    "target.fit(tr_df)\n",
    "\n",
    "tg_df = target.transform(tr_df)\n",
    "print(tg_df.columns)\n",
    "print(tg_df.describe().glimpse())\n",
    "tr_df = pl.concat([tr_df, tg_df], how=\"horizontal\")\n",
    "\n",
    "del tg_df\n",
    "gc.collect()"
   ]
  },
  {
   "cell_type": "markdown",
   "metadata": {},
   "source": [
    "## 特徴量"
   ]
  },
  {
   "cell_type": "code",
   "execution_count": 15,
   "metadata": {},
   "outputs": [
    {
     "name": "stdout",
     "output_type": "stream",
     "text": [
      "['ft_vEgo', 'ft_aEgo', 'ft_steeringAngleDeg', 'ft_steeringTorque', 'ft_brake', 'ft_brakePressed', 'ft_gas', 'ft_gasPressed', 'ft_is_gearShifter_drive', 'ft_is_gearShifter_neutral', 'ft_is_gearShifter_park', 'ft_is_gearShifter_reverse', 'ft_leftBlinker', 'ft_rightBlinker', 'ft_base_pred_x0', 'ft_base_pred_y0', 'ft_base_pred_z0', 'ft_base_pred_x1', 'ft_base_pred_y1', 'ft_base_pred_z1', 'ft_base_pred_x2', 'ft_base_pred_y2', 'ft_base_pred_z2', 'ft_base_pred_x3', 'ft_base_pred_y3', 'ft_base_pred_z3', 'ft_base_pred_x4', 'ft_base_pred_y4', 'ft_base_pred_z4', 'ft_base_pred_x5', 'ft_base_pred_y5', 'ft_base_pred_z5']\n",
      "Rows: 9\n",
      "Columns: 33\n",
      "$ statistic                 <str> 'count', 'null_count', 'mean', 'std', 'min', '25%', '50%', '75%', 'max'\n",
      "$ ft_vEgo                   <f64> 43371.0, 0.0, 9.172175823216334, 7.226919878374694, -0.1619189828634262, 2.5786657333374023, 8.518790245056152, 14.286815643310547, 27.55126190185547\n",
      "$ ft_aEgo                   <f64> 43371.0, 0.0, -0.015654028629347255, 0.6324016778486632, -4.936206340789795, -0.2363678514957428, -1.8347540436410405e-15, 0.22229795157909396, 3.1400704383850098\n",
      "$ ft_steeringAngleDeg       <f64> 43371.0, 0.0, -2.065172574071012, 65.54882159006848, -481.394287109375, -3.461754322052002, -0.35647091269493103, 2.6269068717956543, 484.69171142578125\n",
      "$ ft_steeringTorque         <f64> 43371.0, 0.0, -19.00954554886906, 110.79997057975086, -700.0, -94.0, -13.0, 51.0, 700.0\n",
      "$ ft_brake                  <f64> 43371.0, 0.0, 0.0, 0.0, 0.0, 0.0, 0.0, 0.0, 0.0\n",
      "$ ft_brakePressed           <f64> 43371.0, 0.0, 0.3076018537732586, 0.4615060824782501, 0.0, 0.0, 0.0, 1.0, 1.0\n",
      "$ ft_gas                    <f64> 43371.0, 0.0, 0.08400302036789904, 0.10983697747311577, 0.0, 0.0, 0.0, 0.16500000655651093, 0.915000021457672\n",
      "$ ft_gasPressed             <f64> 43371.0, 0.0, 0.48359502893638606, 0.499736565674716, 0.0, 0.0, 0.0, 1.0, 1.0\n",
      "$ ft_is_gearShifter_drive   <f64> 43371.0, 0.0, 0.9972331742408522, 0.0525284118710861, 0.0, 1.0, 1.0, 1.0, 1.0\n",
      "$ ft_is_gearShifter_neutral <f64> 43371.0, 0.0, 6.917064397869545e-05, 0.008316697312424556, 0.0, 0.0, 0.0, 0.0, 1.0\n",
      "$ ft_is_gearShifter_park    <f64> 43371.0, 0.0, 0.0026515413525166585, 0.051425398943978996, 0.0, 0.0, 0.0, 0.0, 1.0\n",
      "$ ft_is_gearShifter_reverse <f64> 43371.0, 0.0, 4.6113762652463626e-05, 0.006790633209678983, 0.0, 0.0, 0.0, 0.0, 1.0\n",
      "$ ft_leftBlinker            <f64> 43371.0, 0.0, 0.07795531576398976, 0.26810434878124423, 0.0, 0.0, 0.0, 0.0, 1.0\n",
      "$ ft_rightBlinker           <f64> 43371.0, 0.0, 0.10271840630836274, 0.3035942365298531, 0.0, 0.0, 0.0, 0.0, 1.0\n",
      "$ ft_base_pred_x0           <f64> 43371.0, 0.0, 4.122507924478336, 3.265398277176276, -0.6488128263670281, 1.116237255264208, 3.8411417389069102, 6.433982956874855, 12.415544196896064\n",
      "$ ft_base_pred_y0           <f64> 43371.0, 0.0, 0.0019668367665305712, 0.09876064820630452, -0.888216879967524, -0.009104299028429588, 0.0010445364772648977, 0.014053136995398974, 0.7297661102508953\n",
      "$ ft_base_pred_z0           <f64> 43371.0, 0.0, 0.0012385419510676438, 0.007369280993142655, -0.057074426077414836, -0.0021191442331746886, 0.0014888904045026504, 0.004693459148628178, 0.07338317711213602\n",
      "$ ft_base_pred_x1           <f64> 43371.0, 0.0, 8.694312506335015, 6.892007755929067, -0.901587919658327, 2.339993482958821, 8.079772857202393, 13.575210681439836, 26.199850987992143\n",
      "$ ft_base_pred_y1           <f64> 43371.0, 0.0, 0.004536942604224101, 0.30454402175743805, -2.2980386258416208, -0.031551913434254064, 0.002753980863781801, 0.04203464854370487, 2.1069355592858567\n",
      "$ ft_base_pred_z1           <f64> 43371.0, 0.0, 0.002585636908188179, 0.01676829782161868, -0.13919230683839803, -0.005629193167906279, 0.0026920370802979918, 0.010663041206619626, 0.15360814790471164\n",
      "$ ft_base_pred_x2           <f64> 43371.0, 0.0, 13.255091937078904, 10.516510433275387, -1.0515562488948997, 3.5600157034640274, 12.305862085128387, 20.705751376138057, 40.046528027592714\n",
      "$ ft_base_pred_y2           <f64> 43371.0, 0.0, 0.006996516157254112, 0.6038993517167871, -4.428821775590073, -0.06551477075243906, 0.004706955942100558, 0.08085070011704301, 4.200156859082374\n",
      "$ ft_base_pred_z2           <f64> 43371.0, 0.0, 0.003932051798304121, 0.027616169051257865, -0.21322967572322532, -0.010223879583164714, 0.003426112149505286, 0.017445644976644668, 0.21633066820736854\n",
      "$ ft_base_pred_x3           <f64> 43371.0, 0.0, 17.800519451606643, 14.13918596455992, -1.4780182163272482, 4.748525302872778, 16.53326499277431, 27.82680225232497, 53.86030128355654\n",
      "$ ft_base_pred_y3           <f64> 43371.0, 0.0, 0.009704295579673256, 0.986022886804837, -6.902134796327303, -0.11215223657741846, 0.006522481909612118, 0.13091934111694234, 6.898121968605883\n",
      "$ ft_base_pred_z3           <f64> 43371.0, 0.0, 0.005150699352937072, 0.03973780984257109, -0.3075046887020432, -0.015686698421511484, 0.0038468654294465734, 0.024823868287065336, 0.2912294151356835\n",
      "$ ft_base_pred_x4           <f64> 43371.0, 0.0, 22.32987143879068, 17.75924502222327, -1.8058027287989091, 5.891087803658702, 20.7241152876588, 34.92046209953308, 67.6002939535009\n",
      "$ ft_base_pred_y4           <f64> 43371.0, 0.0, 0.012336104036308885, 1.4421548187115616, -9.71471266506848, -0.1711226558997644, 0.00827667538004057, 0.19114795204396917, 10.005924234732687\n",
      "$ ft_base_pred_z4           <f64> 43371.0, 0.0, 0.0059204246819026425, 0.052921121448830516, -0.3964094880177546, -0.02242417753487031, 0.0034839555545931296, 0.0318813991022356, 0.4209265799742543\n",
      "$ ft_base_pred_x5           <f64> 43371.0, 0.0, 26.842457709446485, 21.375918718776603, -2.014618041639343, 7.050493282901064, 24.89427072086856, 42.01033479285517, 81.24747395651643\n",
      "$ ft_base_pred_y5           <f64> 43371.0, 0.0, 0.015357639895657655, 1.9654214330114854, -13.147900742776267, -0.23971207525918026, 0.009874355757815902, 0.26135594737061696, 13.494674902449164\n",
      "$ ft_base_pred_z5           <f64> 43371.0, 0.0, 0.006562297847774735, 0.06802417142829548, -0.5295885721318893, -0.030464148241379087, 0.002845267225079946, 0.039587286903854144, 0.5501778396874892\n",
      "\n",
      "None\n",
      "['ft_vEgo', 'ft_aEgo', 'ft_steeringAngleDeg', 'ft_steeringTorque', 'ft_brake', 'ft_brakePressed', 'ft_gas', 'ft_gasPressed', 'ft_is_gearShifter_drive', 'ft_is_gearShifter_neutral', 'ft_is_gearShifter_park', 'ft_is_gearShifter_reverse', 'ft_leftBlinker', 'ft_rightBlinker', 'ft_base_pred_x0', 'ft_base_pred_y0', 'ft_base_pred_z0', 'ft_base_pred_x1', 'ft_base_pred_y1', 'ft_base_pred_z1', 'ft_base_pred_x2', 'ft_base_pred_y2', 'ft_base_pred_z2', 'ft_base_pred_x3', 'ft_base_pred_y3', 'ft_base_pred_z3', 'ft_base_pred_x4', 'ft_base_pred_y4', 'ft_base_pred_z4', 'ft_base_pred_x5', 'ft_base_pred_y5', 'ft_base_pred_z5']\n",
      "Rows: 9\n",
      "Columns: 33\n",
      "$ statistic                 <str> 'count', 'null_count', 'mean', 'std', 'min', '25%', '50%', '75%', 'max'\n",
      "$ ft_vEgo                   <f64> 1727.0, 0.0, 9.498940069707334, 7.23556621771096, -0.16705937683582306, 2.988953113555908, 9.076517105102539, 14.758581161499025, 27.206621170043945\n",
      "$ ft_aEgo                   <f64> 1727.0, 0.0, -0.02907723589981004, 0.6122087564658688, -3.8730378150939937, -0.2477388381958008, -9.617285944398328e-14, 0.21507366001605988, 2.6108293533325195\n",
      "$ ft_steeringAngleDeg       <f64> 1727.0, 0.0, -3.2302326968093227, 61.06931271098453, -441.5201416015625, -3.5669302940368652, -0.4708167612552643, 2.073073387145996, 483.0481872558594\n",
      "$ ft_steeringTorque         <f64> 1727.0, 0.0, -20.277359583092068, 113.92207330483267, -363.0, -97.0, -12.0, 53.0, 642.0\n",
      "$ ft_brake                  <f64> 1727.0, 0.0, 0.0, 0.0, 0.0, 0.0, 0.0, 0.0, 0.0\n",
      "$ ft_brakePressed           <f64> 1727.0, 0.0, 0.29530978575564565, 0.45631402026409756, 0.0, 0.0, 0.0, 1.0, 1.0\n",
      "$ ft_gas                    <f64> 1727.0, 0.0, 0.08316155173182142, 0.1095658974381894, 0.0, 0.0, 0.0, 0.1599999964237213, 0.5899999737739563\n",
      "$ ft_gasPressed             <f64> 1727.0, 0.0, 0.48870874348581356, 0.5000172769309245, 0.0, 0.0, 0.0, 1.0, 1.0\n",
      "$ ft_is_gearShifter_drive   <f64> 1727.0, 0.0, 0.9942096120440069, 0.07589594679254315, 0.0, 1.0, 1.0, 1.0, 1.0\n",
      "$ ft_is_gearShifter_neutral <f64> 1727.0, 0.0, 0.0, 0.0, 0.0, 0.0, 0.0, 0.0, 0.0\n",
      "$ ft_is_gearShifter_park    <f64> 1727.0, 0.0, 0.004632310364794441, 0.06792292304189239, 0.0, 0.0, 0.0, 0.0, 1.0\n",
      "$ ft_is_gearShifter_reverse <f64> 1727.0, 0.0, 0.0011580775911986102, 0.034020679458719075, 0.0, 0.0, 0.0, 0.0, 1.0\n",
      "$ ft_leftBlinker            <f64> 1727.0, 0.0, 0.07295888824551244, 0.26014433564008865, 0.0, 0.0, 0.0, 0.0, 1.0\n",
      "$ ft_rightBlinker           <f64> 1727.0, 0.0, 0.08569774174869717, 0.2799982765850711, 0.0, 0.0, 0.0, 0.0, 1.0\n",
      "$ ft_base_pred_x0           <f64> 1727.0, 0.0, 4.267017855780174, 3.2702481268625556, -0.5022779907800575, 1.2978708479458554, 4.100675149200341, 6.6456453932460295, 12.258415737528525\n",
      "$ ft_base_pred_y0           <f64> 1727.0, 0.0, -0.0026158737065486927, 0.09073388597110421, -0.6022393546030137, -0.010962005013085006, 0.0007550540659379079, 0.01192661174860985, 0.5706675723242939\n",
      "$ ft_base_pred_z0           <f64> 1727.0, 0.0, 0.0012651660169381194, 0.007139949235470236, -0.03984461437533039, -0.00175281871802358, 0.0015900363913895926, 0.004698879160059373, 0.03759557743322535\n",
      "$ ft_base_pred_x1           <f64> 1727.0, 0.0, 8.995449590400424, 6.903177918946723, -0.6980744898716166, 2.691726009857139, 8.658213933259487, 14.015998363816863, 25.824232877839947\n",
      "$ ft_base_pred_y1           <f64> 1727.0, 0.0, -0.010279074081926326, 0.2879855554882372, -1.9038779427045565, -0.03669410864844856, 0.0012758997970493723, 0.03661114120827328, 1.747653333690591\n",
      "$ ft_base_pred_z1           <f64> 1727.0, 0.0, 0.0027605674665466, 0.01639566939295712, -0.07695360783228886, -0.0049522584822876935, 0.003010054311230174, 0.010902321294820817, 0.09501398479423687\n",
      "$ ft_base_pred_x2           <f64> 1727.0, 0.0, 13.710246966094745, 10.53368765026379, -0.7944417396258604, 4.037817294517581, 13.212803906335957, 21.332526715676632, 39.30657538336225\n",
      "$ ft_base_pred_y2           <f64> 1727.0, 0.0, -0.023439440348636677, 0.5811655556334536, -3.6015146750362104, -0.072877591591742, 0.0015752458433453045, 0.07334725562905844, 3.5333868085863647\n",
      "$ ft_base_pred_z2           <f64> 1727.0, 0.0, 0.004192617163203454, 0.026887537782836764, -0.1193799709298201, -0.009456734463340378, 0.0037511718265920775, 0.01721969376949967, 0.1710159660263497\n",
      "$ ft_base_pred_x3           <f64> 1727.0, 0.0, 18.406815175591614, 14.16117664726587, -0.7766686778820955, 5.498922769792167, 17.626365260621437, 28.628516133932347, 52.69227503021214\n",
      "$ ft_base_pred_y3           <f64> 1727.0, 0.0, -0.04089084607804851, 0.9574695754070265, -5.552783074814321, -0.13087320323131332, 0.003462937705197875, 0.11721455476311701, 5.707947436476185\n",
      "$ ft_base_pred_z3           <f64> 1727.0, 0.0, 0.00561143142648311, 0.03880046355587002, -0.14988126612477085, -0.015538498088100738, 0.004471682844072831, 0.023972489796940784, 0.26654744328590524\n",
      "$ ft_base_pred_x4           <f64> 1727.0, 0.0, 23.082670176443003, 17.787259160477824, -0.7533021139821228, 6.779736269300907, 21.97319968543469, 35.859942072982015, 66.00817094757633\n",
      "$ ft_base_pred_y4           <f64> 1727.0, 0.0, -0.06226395743374223, 1.4067131206869503, -7.913788797358283, -0.19797444688019256, 0.0037295309532371507, 0.17271305741941873, 8.17407088110066\n",
      "$ ft_base_pred_z4           <f64> 1727.0, 0.0, 0.006522585914276333, 0.052042945873670615, -0.18502664941301947, -0.021178356055516715, 0.004579158432986737, 0.03010606731754717, 0.38277142002679215\n",
      "$ ft_base_pred_x5           <f64> 1727.0, 0.0, 27.73737489376631, 21.40962482743544, -0.7501937009338076, 8.187222005755611, 26.273630413059944, 43.13918190730217, 79.24081540377976\n",
      "$ ft_base_pred_y5           <f64> 1727.0, 0.0, -0.08542966954225081, 1.922352047437118, -10.557087004237454, -0.27290003093806553, 0.00482301591870961, 0.2429668511891887, 10.836212579433733\n",
      "$ ft_base_pred_z5           <f64> 1727.0, 0.0, 0.007319237381210571, 0.06760163875341085, -0.2578090150752084, -0.02851939687093295, 0.004454373998449241, 0.038453161520003803, 0.5062749630000345\n",
      "\n",
      "None\n"
     ]
    },
    {
     "data": {
      "text/plain": [
       "0"
      ]
     },
     "execution_count": 15,
     "metadata": {},
     "output_type": "execute_result"
    }
   ],
   "source": [
    "feature = utils.Feature(prefix=\"ft_\")\n",
    "feature.fit(tr_df)\n",
    "\n",
    "ft_df = feature.transform(tr_df)\n",
    "print(ft_df.columns)\n",
    "print(ft_df.describe().glimpse())\n",
    "tr_df = pl.concat([tr_df, ft_df], how=\"horizontal\")\n",
    "\n",
    "ft_df = feature.transform(ts_df)\n",
    "print(ft_df.columns)\n",
    "print(ft_df.describe().glimpse())\n",
    "ts_df = pl.concat([ts_df, ft_df], how=\"horizontal\")\n",
    "\n",
    "del ft_df\n",
    "gc.collect()"
   ]
  },
  {
   "cell_type": "markdown",
   "metadata": {},
   "source": [
    "## モデリング"
   ]
  },
  {
   "cell_type": "code",
   "execution_count": 16,
   "metadata": {},
   "outputs": [],
   "source": [
    "N_SPLITS = 2"
   ]
  },
  {
   "cell_type": "code",
   "execution_count": 17,
   "metadata": {},
   "outputs": [],
   "source": [
    "n_sample_in_scene = 3\n",
    "\n",
    "model_params = {\n",
    "    \"dnn\": {\n",
    "        \"n_sample_in_scene\": n_sample_in_scene,\n",
    "        \"n_img_channels\": tr_images.shape[1] * n_sample_in_scene,\n",
    "        \"n_features\": len(feature.columns) * n_sample_in_scene,\n",
    "        \"n_targets\": len(target.columns),\n",
    "        \"segmentation_model_params\": {\n",
    "            \"encoder_name\": \"mit_b1\",\n",
    "            \"encoder_weights\": \"imagenet\",\n",
    "            \"decoder_channels\": (256, 128, 64, 32, 16),\n",
    "        },\n",
    "        \"dropout\": 0.0,\n",
    "        \"embed_dim\": 128,\n",
    "        \"n_layers\": 1,\n",
    "    },\n",
    "    \"dnn_pretrained_model\": {\n",
    "        # list[str]: len(list) == n_splits\n",
    "        \"weight_path\": None,\n",
    "        \"load_only_backbone\": None,\n",
    "    },\n",
    "    \"dev\": \"cuda\",\n",
    "}\n",
    "\n",
    "lr = 5e-5\n",
    "fit_params = {\n",
    "    \"dnn\": {\n",
    "        \"tr_batch_size\": 32,\n",
    "        \"vl_batch_size\": 1024,\n",
    "        \"trainer_params\": {\n",
    "            \"criterion_params\": {},\n",
    "            \"opt\": \"adamw\",\n",
    "            \"opt_params\": {\"lr\": lr, \"weight_decay\": 1e-4},\n",
    "            \"backbone_opt_params\": {\"lr\": lr, \"weight_decay\": 1e-4},\n",
    "            \"sch_params\": {\n",
    "                \"max_lr\": lr,\n",
    "                \"pct_start\": 0.1,\n",
    "                \"div_factor\": 25,\n",
    "                \"final_div_factor\": 1000,\n",
    "            },\n",
    "            \"epochs\": 5,\n",
    "            \"dev\": \"cuda\",\n",
    "            \"val_freq\": 1,\n",
    "            \"prefix\": \"\",\n",
    "            \"save_best\": False,\n",
    "            \"save_epochs\": [],\n",
    "            \"maximize_score\": False,\n",
    "            \"grad_max_norm\": None,\n",
    "        },\n",
    "    },\n",
    "}"
   ]
  },
  {
   "cell_type": "code",
   "execution_count": 18,
   "metadata": {},
   "outputs": [
    {
     "name": "stdout",
     "output_type": "stream",
     "text": [
      "-----------------\n",
      "-----------------\n",
      "Training fold 0...\n",
      "train samples: 21685, valid samples: 21686\n",
      "Save model : fold0_model.pth\n",
      "\n",
      "epoch  0\n",
      "lr  2.000000000000001e-06\n",
      "lr  2.000000000000001e-06\n",
      "lr  2.000000000000001e-06\n",
      "lr  2.000000000000001e-06\n"
     ]
    },
    {
     "name": "stderr",
     "output_type": "stream",
     "text": [
      "100%|██████████| 677/677 [00:33<00:00, 20.36it/s]\n",
      "100%|██████████| 22/22 [00:09<00:00,  2.27it/s]\n"
     ]
    },
    {
     "name": "stdout",
     "output_type": "stream",
     "text": [
      "\n",
      "Train Loss: 6.0416\n",
      "{'loss': 6.041637798884066, 'loss_mse_0': 0.10027925635480282, 'loss_mse_1': 0.06259180630861261, 'loss_mse_2': 0.04347558127801475, 'loss_mse_3': 0.20440936460540776, 'loss_mse_4': 0.12272585514916363, 'loss_mse_5': 0.08802750970799603, 'loss_mse_6': 0.34315643184426264, 'loss_mse_7': 0.20565721811933038, 'loss_mse_8': 0.13363107364828336, 'loss_mse_9': 0.533099793304897, 'loss_mse_10': 0.33997773916145546, 'loss_mse_11': 0.18118558574792554, 'loss_mse_12': 0.7817452829468726, 'loss_mse_13': 0.5305131286096537, 'loss_mse_14': 0.2297010048508556, 'loss_mse_15': 1.0729827450772684, 'loss_mse_16': 0.787785679674219, 'loss_mse_17': 0.28069272404055123}\n",
      "Valid Loss: 5.8365\n",
      "{'loss': 5.836506323380903, 'loss_mse_0': 0.10447026348926804, 'loss_mse_1': 0.07121787448836998, 'loss_mse_2': 0.03852981041100892, 'loss_mse_3': 0.21161795813928952, 'loss_mse_4': 0.13356894491748375, 'loss_mse_5': 0.07847689058292996, 'loss_mse_6': 0.33521666580980475, 'loss_mse_7': 0.21174740588123148, 'loss_mse_8': 0.11955288357355377, 'loss_mse_9': 0.5055450824174014, 'loss_mse_10': 0.34269226410172204, 'loss_mse_11': 0.16307637569579211, 'loss_mse_12': 0.7275424735112623, 'loss_mse_13': 0.53682110526345, 'loss_mse_14': 0.2100802551616322, 'loss_mse_15': 0.9965936162255027, 'loss_mse_16': 0.7890111831101504, 'loss_mse_17': 0.26074532758105884}\n",
      "Update best score : 5.836506323380903\n",
      "Save model : fold0_model.pth\n",
      "\n",
      "epoch  1\n",
      "lr  4.84835462941373e-05\n",
      "lr  4.84835462941373e-05\n",
      "lr  4.84835462941373e-05\n",
      "lr  4.84835462941373e-05\n"
     ]
    },
    {
     "name": "stderr",
     "output_type": "stream",
     "text": [
      "100%|██████████| 677/677 [00:33<00:00, 20.21it/s]\n",
      "100%|██████████| 22/22 [00:07<00:00,  2.86it/s]\n"
     ]
    },
    {
     "name": "stdout",
     "output_type": "stream",
     "text": [
      "\n",
      "Train Loss: 5.7475\n",
      "{'loss': 5.7475195952321085, 'loss_mse_0': 0.09566783864034596, 'loss_mse_1': 0.058692906917165, 'loss_mse_2': 0.04100613992804306, 'loss_mse_3': 0.1941836594907977, 'loss_mse_4': 0.11465556646093308, 'loss_mse_5': 0.08361798861618408, 'loss_mse_6': 0.32642881655886746, 'loss_mse_7': 0.19488232004479608, 'loss_mse_8': 0.12685994046741608, 'loss_mse_9': 0.5108752582370795, 'loss_mse_10': 0.3219507498064105, 'loss_mse_11': 0.1717581079565704, 'loss_mse_12': 0.7442213817000213, 'loss_mse_13': 0.5054386724639502, 'loss_mse_14': 0.21787688499825567, 'loss_mse_15': 1.0249418494576366, 'loss_mse_16': 0.7480084145967154, 'loss_mse_17': 0.26645309931462413}\n",
      "Valid Loss: 5.7183\n",
      "{'loss': 5.718297069722956, 'loss_mse_0': 0.1031824028627439, 'loss_mse_1': 0.07108725090934472, 'loss_mse_2': 0.03835704279216853, 'loss_mse_3': 0.2111990519545295, 'loss_mse_4': 0.13164673305370592, 'loss_mse_5': 0.07780905931510708, 'loss_mse_6': 0.33452619273554196, 'loss_mse_7': 0.20654458755796606, 'loss_mse_8': 0.11806102672761137, 'loss_mse_9': 0.5038972862742164, 'loss_mse_10': 0.32706060870127246, 'loss_mse_11': 0.16010444814508612, 'loss_mse_12': 0.724768725308505, 'loss_mse_13': 0.508244973692027, 'loss_mse_14': 0.2046385034918785, 'loss_mse_15': 0.9982141933657906, 'loss_mse_16': 0.7472863847559149, 'loss_mse_17': 0.251668662510135}\n",
      "Update best score : 5.718297069722956\n",
      "Save model : fold0_model.pth\n",
      "\n",
      "epoch  2\n",
      "lr  3.7478167818668e-05\n",
      "lr  3.7478167818668e-05\n",
      "lr  3.7478167818668e-05\n",
      "lr  3.7478167818668e-05\n"
     ]
    },
    {
     "name": "stderr",
     "output_type": "stream",
     "text": [
      "100%|██████████| 677/677 [00:32<00:00, 20.52it/s]\n",
      "100%|██████████| 22/22 [00:07<00:00,  2.81it/s]\n"
     ]
    },
    {
     "name": "stdout",
     "output_type": "stream",
     "text": [
      "\n",
      "Train Loss: 5.6234\n",
      "{'loss': 5.623433191279717, 'loss_mse_0': 0.09520218674605231, 'loss_mse_1': 0.05802854034290312, 'loss_mse_2': 0.040825438718731066, 'loss_mse_3': 0.19234750287791652, 'loss_mse_4': 0.1122115966609433, 'loss_mse_5': 0.08314797284695123, 'loss_mse_6': 0.3223149251396406, 'loss_mse_7': 0.1886916761967509, 'loss_mse_8': 0.1260341169199792, 'loss_mse_9': 0.5040203524723187, 'loss_mse_10': 0.30946573787857196, 'loss_mse_11': 0.1698649681092101, 'loss_mse_12': 0.7344623017654461, 'loss_mse_13': 0.48416190459069686, 'loss_mse_14': 0.2148393346863404, 'loss_mse_15': 1.0110509010854465, 'loss_mse_16': 0.7154080631153622, 'loss_mse_17': 0.2613556915495209}\n",
      "Valid Loss: 5.6315\n",
      "{'loss': 5.631495497443459, 'loss_mse_0': 0.1045788089660081, 'loss_mse_1': 0.07082702583548697, 'loss_mse_2': 0.03863816310397603, 'loss_mse_3': 0.21341595527800647, 'loss_mse_4': 0.1298867944966663, 'loss_mse_5': 0.07800378921357068, 'loss_mse_6': 0.3373113112016158, 'loss_mse_7': 0.2007917958227071, 'loss_mse_8': 0.11772504516623238, 'loss_mse_9': 0.5058065896684473, 'loss_mse_10': 0.315965896980329, 'loss_mse_11': 0.15894938294183125, 'loss_mse_12': 0.7239294268868186, 'loss_mse_13': 0.48637148331512103, 'loss_mse_14': 0.2020962732759389, 'loss_mse_15': 0.9880034788088365, 'loss_mse_16': 0.7114433104341681, 'loss_mse_17': 0.24775087359276685}\n",
      "Update best score : 5.631495497443459\n",
      "Save model : fold0_model.pth\n",
      "\n",
      "epoch  3\n",
      "lr  2.0634583852569843e-05\n",
      "lr  2.0634583852569843e-05\n",
      "lr  2.0634583852569843e-05\n",
      "lr  2.0634583852569843e-05\n"
     ]
    },
    {
     "name": "stderr",
     "output_type": "stream",
     "text": [
      "100%|██████████| 677/677 [00:34<00:00, 19.91it/s]\n",
      "100%|██████████| 22/22 [00:07<00:00,  2.87it/s]\n"
     ]
    },
    {
     "name": "stdout",
     "output_type": "stream",
     "text": [
      "\n",
      "Train Loss: 5.4070\n",
      "{'loss': 5.406982464487479, 'loss_mse_0': 0.09373199438436873, 'loss_mse_1': 0.057154518303129835, 'loss_mse_2': 0.04053500776854584, 'loss_mse_3': 0.18811154405708855, 'loss_mse_4': 0.10826014181766852, 'loss_mse_5': 0.08209217511436612, 'loss_mse_6': 0.3138556908183295, 'loss_mse_7': 0.17926846718638476, 'loss_mse_8': 0.1242541279396155, 'loss_mse_9': 0.4880739949874723, 'loss_mse_10': 0.2899310442796486, 'loss_mse_11': 0.1664650716668922, 'loss_mse_12': 0.7126070860239568, 'loss_mse_13': 0.4521027695569189, 'loss_mse_14': 0.20986788261522218, 'loss_mse_15': 0.9822743333865128, 'loss_mse_16': 0.6640718039923088, 'loss_mse_17': 0.25432477836418715}\n",
      "Valid Loss: 5.5873\n",
      "{'loss': 5.587331663478505, 'loss_mse_0': 0.10365593602711504, 'loss_mse_1': 0.0709340146488764, 'loss_mse_2': 0.038866904310204765, 'loss_mse_3': 0.21144481003284454, 'loss_mse_4': 0.12972533364187588, 'loss_mse_5': 0.07854279621758244, 'loss_mse_6': 0.3355046463283626, 'loss_mse_7': 0.19849848340858112, 'loss_mse_8': 0.11843665147369559, 'loss_mse_9': 0.5025154121897437, 'loss_mse_10': 0.30986312099478464, 'loss_mse_11': 0.15990426831624724, 'loss_mse_12': 0.7221163375811144, 'loss_mse_13': 0.4753701998428865, 'loss_mse_14': 0.20308572934432464, 'loss_mse_15': 0.9875742169943723, 'loss_mse_16': 0.6929003921422091, 'loss_mse_17': 0.24839243225075983}\n",
      "Update best score : 5.587331663478505\n",
      "Save model : fold0_model.pth\n",
      "\n",
      "epoch  4\n",
      "lr  5.834094529164299e-06\n",
      "lr  5.834094529164299e-06\n",
      "lr  5.834094529164299e-06\n",
      "lr  5.834094529164299e-06\n"
     ]
    },
    {
     "name": "stderr",
     "output_type": "stream",
     "text": [
      "100%|██████████| 677/677 [00:33<00:00, 20.19it/s]\n",
      "100%|██████████| 22/22 [00:07<00:00,  2.92it/s]\n",
      "/home/tatsuya/projects/atmacup/atmacup_18/experiments/main/v00/v00_18_02/utils.py:1455: FutureWarning: You are using `torch.load` with `weights_only=False` (the current default value), which uses the default pickle module implicitly. It is possible to construct malicious pickle data which will execute arbitrary code during unpickling (See https://github.com/pytorch/pytorch/blob/main/SECURITY.md#untrusted-models for more details). In a future release, the default value for `weights_only` will be flipped to `True`. This limits the functions that could be executed during unpickling. Arbitrary objects will no longer be allowed to be loaded via this mode unless they are explicitly allowlisted by the user via `torch.serialization.add_safe_globals`. We recommend you start setting `weights_only=True` for any use case where you don't have full control of the loaded file. Please open an issue on GitHub for any issues related to this experimental feature.\n",
      "  model.load_state_dict(torch.load(model_path))\n"
     ]
    },
    {
     "name": "stdout",
     "output_type": "stream",
     "text": [
      "\n",
      "Train Loss: 5.1299\n",
      "{'loss': 5.129887324844541, 'loss_mse_0': 0.09195736179642787, 'loss_mse_1': 0.05612358979143455, 'loss_mse_2': 0.040258394555633056, 'loss_mse_3': 0.18210941495888341, 'loss_mse_4': 0.10458868195851673, 'loss_mse_5': 0.08118045502280379, 'loss_mse_6': 0.3005291968363955, 'loss_mse_7': 0.1689939306804049, 'loss_mse_8': 0.1221785542735365, 'loss_mse_9': 0.4679850478226008, 'loss_mse_10': 0.2673067119044074, 'loss_mse_11': 0.16258292878528113, 'loss_mse_12': 0.6789759365151165, 'loss_mse_13': 0.4152492538116531, 'loss_mse_14': 0.2043558641706911, 'loss_mse_15': 0.9354731081331498, 'loss_mse_16': 0.6035881920702524, 'loss_mse_17': 0.24645070884063114}\n",
      "Valid Loss: 5.5945\n",
      "{'loss': 5.59454835544933, 'loss_mse_0': 0.10404779220169241, 'loss_mse_1': 0.07124704579738053, 'loss_mse_2': 0.03909642147746953, 'loss_mse_3': 0.21227225254882465, 'loss_mse_4': 0.13016190312125467, 'loss_mse_5': 0.07895680432292548, 'loss_mse_6': 0.336767968129028, 'loss_mse_7': 0.19915723665194077, 'loss_mse_8': 0.11889551376754587, 'loss_mse_9': 0.5042723417282104, 'loss_mse_10': 0.30955105884508655, 'loss_mse_11': 0.1605934097685597, 'loss_mse_12': 0.7236695397983898, 'loss_mse_13': 0.47382011874155566, 'loss_mse_14': 0.20368218557401138, 'loss_mse_15': 0.9908168695189736, 'loss_mse_16': 0.6885255981575359, 'loss_mse_17': 0.24901432273062793}\n",
      "Save model : fold0_model.pth\n"
     ]
    },
    {
     "ename": "KeyboardInterrupt",
     "evalue": "",
     "output_type": "error",
     "traceback": [
      "\u001b[0;31m---------------------------------------------------------------------------\u001b[0m",
      "\u001b[0;31mKeyboardInterrupt\u001b[0m                         Traceback (most recent call last)",
      "Cell \u001b[0;32mIn[18], line 1\u001b[0m\n\u001b[0;32m----> 1\u001b[0m models, oof_preds \u001b[38;5;241m=\u001b[39m \u001b[43mutils\u001b[49m\u001b[38;5;241;43m.\u001b[39;49m\u001b[43mtrain\u001b[49m\u001b[43m(\u001b[49m\n\u001b[1;32m      2\u001b[0m \u001b[43m    \u001b[49m\u001b[43mmodel_params\u001b[49m\u001b[38;5;241;43m=\u001b[39;49m\u001b[43mmodel_params\u001b[49m\u001b[43m,\u001b[49m\n\u001b[1;32m      3\u001b[0m \u001b[43m    \u001b[49m\u001b[43mfit_params\u001b[49m\u001b[38;5;241;43m=\u001b[39;49m\u001b[43mfit_params\u001b[49m\u001b[43m,\u001b[49m\n\u001b[1;32m      4\u001b[0m \u001b[43m    \u001b[49m\u001b[43mdf\u001b[49m\u001b[38;5;241;43m=\u001b[39;49m\u001b[43mtr_df\u001b[49m\u001b[43m,\u001b[49m\n\u001b[1;32m      5\u001b[0m \u001b[43m    \u001b[49m\u001b[43mimages\u001b[49m\u001b[38;5;241;43m=\u001b[39;49m\u001b[43mtr_images\u001b[49m\u001b[43m,\u001b[49m\n\u001b[1;32m      6\u001b[0m \u001b[43m    \u001b[49m\u001b[43mtarget_cols\u001b[49m\u001b[38;5;241;43m=\u001b[39;49m\u001b[43mtarget\u001b[49m\u001b[38;5;241;43m.\u001b[39;49m\u001b[43mcolumns\u001b[49m\u001b[43m,\u001b[49m\n\u001b[1;32m      7\u001b[0m \u001b[43m    \u001b[49m\u001b[43mfeature_cols\u001b[49m\u001b[38;5;241;43m=\u001b[39;49m\u001b[43mfeature\u001b[49m\u001b[38;5;241;43m.\u001b[39;49m\u001b[43mcolumns\u001b[49m\u001b[43m,\u001b[49m\n\u001b[1;32m      8\u001b[0m \u001b[43m    \u001b[49m\u001b[43mgroup_col\u001b[49m\u001b[38;5;241;43m=\u001b[39;49m\u001b[38;5;124;43m\"\u001b[39;49m\u001b[38;5;124;43mscene_id\u001b[39;49m\u001b[38;5;124;43m\"\u001b[39;49m\u001b[43m,\u001b[49m\n\u001b[1;32m      9\u001b[0m \u001b[43m    \u001b[49m\u001b[43mscene_id_col\u001b[49m\u001b[38;5;241;43m=\u001b[39;49m\u001b[38;5;124;43m\"\u001b[39;49m\u001b[38;5;124;43mscene_id\u001b[39;49m\u001b[38;5;124;43m\"\u001b[39;49m\u001b[43m,\u001b[49m\n\u001b[1;32m     10\u001b[0m \u001b[43m    \u001b[49m\u001b[43mscene_dsec_col\u001b[49m\u001b[38;5;241;43m=\u001b[39;49m\u001b[38;5;124;43m\"\u001b[39;49m\u001b[38;5;124;43mscene_dsec\u001b[39;49m\u001b[38;5;124;43m\"\u001b[39;49m\u001b[43m,\u001b[49m\n\u001b[1;32m     11\u001b[0m \u001b[43m    \u001b[49m\u001b[43mn_splits\u001b[49m\u001b[38;5;241;43m=\u001b[39;49m\u001b[43mN_SPLITS\u001b[49m\u001b[43m,\u001b[49m\n\u001b[1;32m     12\u001b[0m \u001b[43m)\u001b[49m\n",
      "File \u001b[0;32m~/projects/atmacup/atmacup_18/experiments/main/v00/v00_18_02/utils.py:585\u001b[0m, in \u001b[0;36mtrain\u001b[0;34m(model_params, fit_params, df, images, target_cols, feature_cols, group_col, scene_id_col, scene_dsec_col, n_splits)\u001b[0m\n\u001b[1;32m    571\u001b[0m     model\u001b[38;5;241m.\u001b[39mfit(\n\u001b[1;32m    572\u001b[0m         tr_imgs\u001b[38;5;241m=\u001b[39mtr_imgs,\n\u001b[1;32m    573\u001b[0m         tr_features\u001b[38;5;241m=\u001b[39mtr_df\u001b[38;5;241m.\u001b[39mselect(feature_cols),\n\u001b[0;32m   (...)\u001b[0m\n\u001b[1;32m    581\u001b[0m         vl_targets\u001b[38;5;241m=\u001b[39mvl_df\u001b[38;5;241m.\u001b[39mselect(target_cols),\n\u001b[1;32m    582\u001b[0m     )\n\u001b[1;32m    583\u001b[0m     models\u001b[38;5;241m.\u001b[39mappend(model)\n\u001b[0;32m--> 585\u001b[0m     pred \u001b[38;5;241m=\u001b[39m \u001b[43mmodel\u001b[49m\u001b[38;5;241;43m.\u001b[39;49m\u001b[43mpredict\u001b[49m\u001b[43m(\u001b[49m\n\u001b[1;32m    586\u001b[0m \u001b[43m        \u001b[49m\u001b[43mvl_imgs\u001b[49m\u001b[43m,\u001b[49m\n\u001b[1;32m    587\u001b[0m \u001b[43m        \u001b[49m\u001b[43mvl_df\u001b[49m\u001b[38;5;241;43m.\u001b[39;49m\u001b[43mselect\u001b[49m\u001b[43m(\u001b[49m\u001b[43mfeature_cols\u001b[49m\u001b[43m)\u001b[49m\u001b[43m,\u001b[49m\n\u001b[1;32m    588\u001b[0m \u001b[43m        \u001b[49m\u001b[43mvl_df\u001b[49m\u001b[38;5;241;43m.\u001b[39;49m\u001b[43mget_column\u001b[49m\u001b[43m(\u001b[49m\u001b[43mscene_id_col\u001b[49m\u001b[43m)\u001b[49m\u001b[43m,\u001b[49m\n\u001b[1;32m    589\u001b[0m \u001b[43m        \u001b[49m\u001b[43mvl_df\u001b[49m\u001b[38;5;241;43m.\u001b[39;49m\u001b[43mget_column\u001b[49m\u001b[43m(\u001b[49m\u001b[43mscene_dsec_col\u001b[49m\u001b[43m)\u001b[49m\u001b[43m,\u001b[49m\n\u001b[1;32m    590\u001b[0m \u001b[43m    \u001b[49m\u001b[43m)\u001b[49m\n\u001b[1;32m    591\u001b[0m     oof_preds[vl_idx] \u001b[38;5;241m=\u001b[39m pred\n\u001b[1;32m    593\u001b[0m oof_preds \u001b[38;5;241m=\u001b[39m pl\u001b[38;5;241m.\u001b[39mDataFrame(oof_preds, schema\u001b[38;5;241m=\u001b[39mtarget_cols)\n",
      "File \u001b[0;32m~/projects/atmacup/atmacup_18/experiments/main/v00/v00_18_02/utils.py:500\u001b[0m, in \u001b[0;36mCnnModel.predict\u001b[0;34m(self, images, features, scene_ids, scene_dsecs)\u001b[0m\n\u001b[1;32m    498\u001b[0m \u001b[38;5;66;03m# predict\u001b[39;00m\n\u001b[1;32m    499\u001b[0m predictor \u001b[38;5;241m=\u001b[39m Predictor(dev\u001b[38;5;241m=\u001b[39m\u001b[38;5;124m\"\u001b[39m\u001b[38;5;124mcuda\u001b[39m\u001b[38;5;124m\"\u001b[39m, do_print\u001b[38;5;241m=\u001b[39m\u001b[38;5;28;01mFalse\u001b[39;00m)\n\u001b[0;32m--> 500\u001b[0m preds \u001b[38;5;241m=\u001b[39m \u001b[43mpredictor\u001b[49m\u001b[38;5;241;43m.\u001b[39;49m\u001b[43mrun\u001b[49m\u001b[43m(\u001b[49m\u001b[38;5;28;43mself\u001b[39;49m\u001b[38;5;241;43m.\u001b[39;49m\u001b[43mdnn_model\u001b[49m\u001b[43m,\u001b[49m\u001b[43m \u001b[49m\u001b[43mdl\u001b[49m\u001b[43m)\u001b[49m\n\u001b[1;32m    502\u001b[0m \u001b[38;5;66;03m# inverse scaling\u001b[39;00m\n\u001b[1;32m    503\u001b[0m preds \u001b[38;5;241m=\u001b[39m \u001b[38;5;28mself\u001b[39m\u001b[38;5;241m.\u001b[39mtarget_scaler\u001b[38;5;241m.\u001b[39minverse_transform(preds)\n",
      "File \u001b[0;32m~/projects/atmacup/atmacup_18/experiments/main/v00/v00_18_02/utils.py:1746\u001b[0m, in \u001b[0;36mPredictor.run\u001b[0;34m(self, model, loader)\u001b[0m\n\u001b[1;32m   1743\u001b[0m             \u001b[38;5;28;01mwith\u001b[39;00m torch\u001b[38;5;241m.\u001b[39mno_grad():\n\u001b[1;32m   1744\u001b[0m                 output \u001b[38;5;241m=\u001b[39m model(imgs, features, relative_scene_dsecs)\n\u001b[0;32m-> 1746\u001b[0m     preds\u001b[38;5;241m.\u001b[39mappend(\u001b[43moutput\u001b[49m\u001b[38;5;241;43m.\u001b[39;49m\u001b[43mcpu\u001b[49m\u001b[43m(\u001b[49m\u001b[43m)\u001b[49m\u001b[38;5;241m.\u001b[39mnumpy())\n\u001b[1;32m   1748\u001b[0m preds \u001b[38;5;241m=\u001b[39m np\u001b[38;5;241m.\u001b[39mconcatenate(preds)\n\u001b[1;32m   1749\u001b[0m \u001b[38;5;28;01mreturn\u001b[39;00m preds\n",
      "\u001b[0;31mKeyboardInterrupt\u001b[0m: "
     ]
    }
   ],
   "source": [
    "models, oof_preds = utils.train(\n",
    "    model_params=model_params,\n",
    "    fit_params=fit_params,\n",
    "    df=tr_df,\n",
    "    images=tr_images,\n",
    "    target_cols=target.columns,\n",
    "    feature_cols=feature.columns,\n",
    "    group_col=\"scene_id\",\n",
    "    scene_id_col=\"scene_id\",\n",
    "    scene_dsec_col=\"scene_dsec\",\n",
    "    n_splits=N_SPLITS,\n",
    ")"
   ]
  },
  {
   "cell_type": "code",
   "execution_count": null,
   "metadata": {},
   "outputs": [],
   "source": [
    "oof_preds = oof_preds.select(pl.all().name.prefix(\"pred_\"))\n",
    "pred_cols = oof_preds.columns\n",
    "\n",
    "tr_df = pl.concat([tr_df, oof_preds], how=\"horizontal\")\n",
    "tr_df"
   ]
  },
  {
   "cell_type": "markdown",
   "metadata": {},
   "source": [
    "## 評価"
   ]
  },
  {
   "cell_type": "code",
   "execution_count": null,
   "metadata": {},
   "outputs": [],
   "source": [
    "def calc_score(df: pl.DataFrame, pred_cols: list[str]):\n",
    "    tg_cols = sum([[f\"x_{i}\", f\"y_{i}\", f\"z_{i}\"] for i in range(6)], [])\n",
    "\n",
    "    tg = df.select(tg_cols).to_numpy()\n",
    "    pred = df.select(pred_cols).to_numpy()\n",
    "\n",
    "    scores = np.abs(tg - pred).mean(axis=0)\n",
    "    scores = {f\"score_{col}\": float(score) for col, score in zip(pred_cols, scores)}\n",
    "    scores[\"avg\"] = float(np.abs(tg - pred).mean())\n",
    "    return scores\n",
    "\n",
    "\n",
    "scores = calc_score(tr_df, pred_cols)\n",
    "scores"
   ]
  },
  {
   "cell_type": "code",
   "execution_count": null,
   "metadata": {},
   "outputs": [],
   "source": [
    "utils.plot_calibration_curve(tr_df, pred_cols, n_bins=40)"
   ]
  },
  {
   "cell_type": "code",
   "execution_count": null,
   "metadata": {},
   "outputs": [],
   "source": [
    "if BASE_PRED_DIR is not None:\n",
    "    # 差し引いていた基礎推定値を足して元のtarget, pred列に戻す\n",
    "    tr_df = add_base_pred_to_target(tr_df, TARGET_COLS)\n",
    "    tr_df = add_base_pred_to_target(tr_df, pred_cols)"
   ]
  },
  {
   "cell_type": "code",
   "execution_count": null,
   "metadata": {},
   "outputs": [],
   "source": [
    "if BASE_PRED_DIR is not None:\n",
    "    scores = calc_score(tr_df, pred_cols)\n",
    "    display(scores)"
   ]
  },
  {
   "cell_type": "code",
   "execution_count": null,
   "metadata": {},
   "outputs": [],
   "source": [
    "if BASE_PRED_DIR is not None:\n",
    "    utils.plot_calibration_curve(tr_df, pred_cols, n_bins=40)"
   ]
  },
  {
   "cell_type": "markdown",
   "metadata": {},
   "source": [
    "## oofを保存"
   ]
  },
  {
   "cell_type": "code",
   "execution_count": null,
   "metadata": {},
   "outputs": [],
   "source": [
    "def create_submission_csv(preds: pl.DataFrame, filename: str = \"submission.csv\"):\n",
    "    submission_cols = TARGET_COLS\n",
    "\n",
    "    # validate preds columns\n",
    "    if len(preds.columns) != len(submission_cols):\n",
    "        raise ValueError(\n",
    "            f\"preds columns must be {len(submission_cols)}, but got {len(preds.columns)}\"\n",
    "        )\n",
    "\n",
    "    preds.columns = submission_cols\n",
    "    preds.write_csv(filename)\n",
    "    print(f\"Submission file is created: {filename}\")\n",
    "\n",
    "\n",
    "# 元の順番に戻して保存\n",
    "create_submission_csv(tr_df.sort(\"origin_idx\").select(pred_cols), \"oof_preds.csv\")"
   ]
  },
  {
   "cell_type": "markdown",
   "metadata": {},
   "source": [
    "## Submission"
   ]
  },
  {
   "cell_type": "code",
   "execution_count": null,
   "metadata": {},
   "outputs": [],
   "source": [
    "preds = utils.predict(\n",
    "    models,\n",
    "    ts_images,\n",
    "    ts_df,\n",
    "    feature.columns,\n",
    "    scene_id_col=\"scene_id\",\n",
    "    scene_dsec_col=\"scene_dsec\",\n",
    "    pred_cols=pred_cols,\n",
    ")\n",
    "pred_cols = preds.columns\n",
    "ts_df = pl.concat([ts_df, preds], how=\"horizontal\")\n",
    "\n",
    "preds"
   ]
  },
  {
   "cell_type": "code",
   "execution_count": null,
   "metadata": {},
   "outputs": [],
   "source": [
    "if BASE_PRED_DIR is not None:\n",
    "    # 差し引いていた基礎推定値を足して元のtarget, pred列に戻す\n",
    "    ts_df = add_base_pred_to_target(ts_df, pred_cols)\n",
    "    display(ts_df)"
   ]
  },
  {
   "cell_type": "code",
   "execution_count": null,
   "metadata": {},
   "outputs": [],
   "source": [
    "# 元の順番に戻す\n",
    "ts_df = ts_df.sort(\"origin_idx\")"
   ]
  },
  {
   "cell_type": "code",
   "execution_count": null,
   "metadata": {},
   "outputs": [],
   "source": [
    "create_submission_csv(ts_df.select(pred_cols), \"submission.csv\")"
   ]
  }
 ],
 "metadata": {
  "kernelspec": {
   "display_name": "venv",
   "language": "python",
   "name": "python3"
  },
  "language_info": {
   "codemirror_mode": {
    "name": "ipython",
    "version": 3
   },
   "file_extension": ".py",
   "mimetype": "text/x-python",
   "name": "python",
   "nbconvert_exporter": "python",
   "pygments_lexer": "ipython3",
   "version": "3.10.12"
  }
 },
 "nbformat": 4,
 "nbformat_minor": 2
}
