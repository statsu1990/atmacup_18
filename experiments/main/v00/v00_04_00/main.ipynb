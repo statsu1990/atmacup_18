{
 "cells": [
  {
   "cell_type": "code",
   "execution_count": 1,
   "metadata": {},
   "outputs": [
    {
     "data": {
      "text/plain": [
       "<module 'utils' from '/home/tatsuya/projects/atmacup/atmacup_18/experiments/main/v00/v00_04_00/utils.py'>"
      ]
     },
     "execution_count": 1,
     "metadata": {},
     "output_type": "execute_result"
    }
   ],
   "source": [
    "import importlib\n",
    "from pathlib import Path\n",
    "\n",
    "import matplotlib.pyplot as plt\n",
    "import numpy as np\n",
    "import polars as pl\n",
    "import seaborn as sns\n",
    "\n",
    "\n",
    "import utils\n",
    "\n",
    "importlib.reload(utils)"
   ]
  },
  {
   "cell_type": "code",
   "execution_count": 2,
   "metadata": {},
   "outputs": [],
   "source": [
    "RANDOM_STATE = 2024\n",
    "utils.seed_everything(RANDOM_STATE)"
   ]
  },
  {
   "cell_type": "markdown",
   "metadata": {},
   "source": [
    "## データ読み込み"
   ]
  },
  {
   "cell_type": "code",
   "execution_count": 3,
   "metadata": {},
   "outputs": [],
   "source": [
    "notebook_dir = Path().resolve()\n",
    "DATA_DIR = notebook_dir.parents[3].joinpath(\"data\")\n",
    "DATASET_DIR = DATA_DIR.joinpath(\"atmaCup#18_dataset\")\n",
    "TR_FEATURES_CSV = DATASET_DIR.joinpath(\"train_features.csv\")\n",
    "TS_FEATURES_CSV = DATASET_DIR.joinpath(\"test_features.csv\")\n",
    "IMAGES_DIR = DATASET_DIR.joinpath(\"images\")\n",
    "TRAFFIC_LIGHTS_CSV = DATASET_DIR.joinpath(\"traffic_lights.csv\")\n",
    "\n",
    "IMAGE_NAMES = [\"image_t.png\", \"image_t-0.5.png\", \"image_t-1.0.png\"]"
   ]
  },
  {
   "cell_type": "code",
   "execution_count": 4,
   "metadata": {},
   "outputs": [
    {
     "data": {
      "text/html": [
       "<div><style>\n",
       ".dataframe > thead > tr,\n",
       ".dataframe > tbody > tr {\n",
       "  text-align: right;\n",
       "  white-space: pre-wrap;\n",
       "}\n",
       "</style>\n",
       "<small>shape: (2, 32)</small><table border=\"1\" class=\"dataframe\"><thead><tr><th>ID</th><th>vEgo</th><th>aEgo</th><th>steeringAngleDeg</th><th>steeringTorque</th><th>brake</th><th>brakePressed</th><th>gas</th><th>gasPressed</th><th>gearShifter</th><th>leftBlinker</th><th>rightBlinker</th><th>x_0</th><th>y_0</th><th>z_0</th><th>x_1</th><th>y_1</th><th>z_1</th><th>x_2</th><th>y_2</th><th>z_2</th><th>x_3</th><th>y_3</th><th>z_3</th><th>x_4</th><th>y_4</th><th>z_4</th><th>x_5</th><th>y_5</th><th>z_5</th><th>scene_id</th><th>scene_dsec</th></tr><tr><td>str</td><td>f64</td><td>f64</td><td>f64</td><td>f64</td><td>f64</td><td>bool</td><td>f64</td><td>bool</td><td>str</td><td>bool</td><td>bool</td><td>f64</td><td>f64</td><td>f64</td><td>f64</td><td>f64</td><td>f64</td><td>f64</td><td>f64</td><td>f64</td><td>f64</td><td>f64</td><td>f64</td><td>f64</td><td>f64</td><td>f64</td><td>f64</td><td>f64</td><td>f64</td><td>str</td><td>str</td></tr></thead><tbody><tr><td>&quot;00066be8e20318869c38c66be46663…</td><td>5.701526</td><td>1.538456</td><td>-2.165777</td><td>-139.0</td><td>0.0</td><td>false</td><td>0.25</td><td>true</td><td>&quot;drive&quot;</td><td>false</td><td>false</td><td>2.82959</td><td>0.032226</td><td>0.045187</td><td>6.231999</td><td>0.065895</td><td>0.107974</td><td>9.785009</td><td>0.124972</td><td>0.203649</td><td>13.485472</td><td>0.163448</td><td>0.302818</td><td>17.574227</td><td>0.174289</td><td>0.406331</td><td>21.951269</td><td>0.199503</td><td>0.485079</td><td>&quot;00066be8e20318869c38c66be46663…</td><td>&quot;320&quot;</td></tr><tr><td>&quot;00066be8e20318869c38c66be46663…</td><td>11.176292</td><td>0.279881</td><td>-11.625697</td><td>-44.0</td><td>0.0</td><td>false</td><td>0.0</td><td>false</td><td>&quot;drive&quot;</td><td>false</td><td>true</td><td>4.970268</td><td>-0.007936</td><td>0.005028</td><td>10.350489</td><td>-0.032374</td><td>-0.020701</td><td>15.770054</td><td>0.084073</td><td>0.008645</td><td>21.132415</td><td>0.391343</td><td>0.036335</td><td>26.316489</td><td>0.843124</td><td>0.065</td><td>31.383814</td><td>1.42507</td><td>0.073083</td><td>&quot;00066be8e20318869c38c66be46663…</td><td>&quot;420&quot;</td></tr></tbody></table></div>"
      ],
      "text/plain": [
       "shape: (2, 32)\n",
       "┌────────────┬───────────┬──────────┬────────────┬───┬──────────┬──────────┬───────────┬───────────┐\n",
       "│ ID         ┆ vEgo      ┆ aEgo     ┆ steeringAn ┆ … ┆ y_5      ┆ z_5      ┆ scene_id  ┆ scene_dse │\n",
       "│ ---        ┆ ---       ┆ ---      ┆ gleDeg     ┆   ┆ ---      ┆ ---      ┆ ---       ┆ c         │\n",
       "│ str        ┆ f64       ┆ f64      ┆ ---        ┆   ┆ f64      ┆ f64      ┆ str       ┆ ---       │\n",
       "│            ┆           ┆          ┆ f64        ┆   ┆          ┆          ┆           ┆ str       │\n",
       "╞════════════╪═══════════╪══════════╪════════════╪═══╪══════════╪══════════╪═══════════╪═══════════╡\n",
       "│ 00066be8e2 ┆ 5.701526  ┆ 1.538456 ┆ -2.165777  ┆ … ┆ 0.199503 ┆ 0.485079 ┆ 00066be8e ┆ 320       │\n",
       "│ 0318869c38 ┆           ┆          ┆            ┆   ┆          ┆          ┆ 20318869c ┆           │\n",
       "│ c66be46663 ┆           ┆          ┆            ┆   ┆          ┆          ┆ 38c66be46 ┆           │\n",
       "│ …          ┆           ┆          ┆            ┆   ┆          ┆          ┆ 663…      ┆           │\n",
       "│ 00066be8e2 ┆ 11.176292 ┆ 0.279881 ┆ -11.625697 ┆ … ┆ 1.42507  ┆ 0.073083 ┆ 00066be8e ┆ 420       │\n",
       "│ 0318869c38 ┆           ┆          ┆            ┆   ┆          ┆          ┆ 20318869c ┆           │\n",
       "│ c66be46663 ┆           ┆          ┆            ┆   ┆          ┆          ┆ 38c66be46 ┆           │\n",
       "│ …          ┆           ┆          ┆            ┆   ┆          ┆          ┆ 663…      ┆           │\n",
       "└────────────┴───────────┴──────────┴────────────┴───┴──────────┴──────────┴───────────┴───────────┘"
      ]
     },
     "execution_count": 4,
     "metadata": {},
     "output_type": "execute_result"
    }
   ],
   "source": [
    "tr_df = utils.read_feature_csv(TR_FEATURES_CSV)\n",
    "tr_df.head(2)"
   ]
  },
  {
   "cell_type": "code",
   "execution_count": 5,
   "metadata": {},
   "outputs": [
    {
     "data": {
      "text/html": [
       "<div><style>\n",
       ".dataframe > thead > tr,\n",
       ".dataframe > tbody > tr {\n",
       "  text-align: right;\n",
       "  white-space: pre-wrap;\n",
       "}\n",
       "</style>\n",
       "<small>shape: (2, 14)</small><table border=\"1\" class=\"dataframe\"><thead><tr><th>ID</th><th>vEgo</th><th>aEgo</th><th>steeringAngleDeg</th><th>steeringTorque</th><th>brake</th><th>brakePressed</th><th>gas</th><th>gasPressed</th><th>gearShifter</th><th>leftBlinker</th><th>rightBlinker</th><th>scene_id</th><th>scene_dsec</th></tr><tr><td>str</td><td>f64</td><td>f64</td><td>f64</td><td>f64</td><td>f64</td><td>bool</td><td>f64</td><td>bool</td><td>str</td><td>bool</td><td>bool</td><td>str</td><td>str</td></tr></thead><tbody><tr><td>&quot;012baccc145d400c896cb82065a93d…</td><td>3.374273</td><td>-0.01936</td><td>-34.008415</td><td>17.0</td><td>0.0</td><td>false</td><td>0.0</td><td>false</td><td>&quot;drive&quot;</td><td>false</td><td>false</td><td>&quot;012baccc145d400c896cb82065a93d…</td><td>&quot;120&quot;</td></tr><tr><td>&quot;012baccc145d400c896cb82065a93d…</td><td>2.441048</td><td>-0.022754</td><td>307.860077</td><td>295.0</td><td>0.0</td><td>true</td><td>0.0</td><td>false</td><td>&quot;drive&quot;</td><td>false</td><td>false</td><td>&quot;012baccc145d400c896cb82065a93d…</td><td>&quot;220&quot;</td></tr></tbody></table></div>"
      ],
      "text/plain": [
       "shape: (2, 14)\n",
       "┌───────────┬──────────┬───────────┬───────────┬───┬───────────┬───────────┬───────────┬───────────┐\n",
       "│ ID        ┆ vEgo     ┆ aEgo      ┆ steeringA ┆ … ┆ leftBlink ┆ rightBlin ┆ scene_id  ┆ scene_dse │\n",
       "│ ---       ┆ ---      ┆ ---       ┆ ngleDeg   ┆   ┆ er        ┆ ker       ┆ ---       ┆ c         │\n",
       "│ str       ┆ f64      ┆ f64       ┆ ---       ┆   ┆ ---       ┆ ---       ┆ str       ┆ ---       │\n",
       "│           ┆          ┆           ┆ f64       ┆   ┆ bool      ┆ bool      ┆           ┆ str       │\n",
       "╞═══════════╪══════════╪═══════════╪═══════════╪═══╪═══════════╪═══════════╪═══════════╪═══════════╡\n",
       "│ 012baccc1 ┆ 3.374273 ┆ -0.01936  ┆ -34.00841 ┆ … ┆ false     ┆ false     ┆ 012baccc1 ┆ 120       │\n",
       "│ 45d400c89 ┆          ┆           ┆ 5         ┆   ┆           ┆           ┆ 45d400c89 ┆           │\n",
       "│ 6cb82065a ┆          ┆           ┆           ┆   ┆           ┆           ┆ 6cb82065a ┆           │\n",
       "│ 93d…      ┆          ┆           ┆           ┆   ┆           ┆           ┆ 93d…      ┆           │\n",
       "│ 012baccc1 ┆ 2.441048 ┆ -0.022754 ┆ 307.86007 ┆ … ┆ false     ┆ false     ┆ 012baccc1 ┆ 220       │\n",
       "│ 45d400c89 ┆          ┆           ┆ 7         ┆   ┆           ┆           ┆ 45d400c89 ┆           │\n",
       "│ 6cb82065a ┆          ┆           ┆           ┆   ┆           ┆           ┆ 6cb82065a ┆           │\n",
       "│ 93d…      ┆          ┆           ┆           ┆   ┆           ┆           ┆ 93d…      ┆           │\n",
       "└───────────┴──────────┴───────────┴───────────┴───┴───────────┴───────────┴───────────┴───────────┘"
      ]
     },
     "execution_count": 5,
     "metadata": {},
     "output_type": "execute_result"
    }
   ],
   "source": [
    "ts_df = utils.read_feature_csv(TS_FEATURES_CSV)\n",
    "ts_df.head(2)"
   ]
  },
  {
   "cell_type": "code",
   "execution_count": 6,
   "metadata": {},
   "outputs": [
    {
     "name": "stdout",
     "output_type": "stream",
     "text": [
      "(43371, 3, 64, 128, 3)\n",
      "(1727, 3, 64, 128, 3)\n"
     ]
    }
   ],
   "source": [
    "tr_images = utils.load_images(\n",
    "    IMAGES_DIR, ids=tr_df.get_column(\"ID\").to_list(), image_names=IMAGE_NAMES\n",
    ")\n",
    "print(tr_images.shape)\n",
    "ts_images = utils.load_images(\n",
    "    IMAGES_DIR, ids=ts_df.get_column(\"ID\").to_list(), image_names=IMAGE_NAMES\n",
    ")\n",
    "print(ts_images.shape)"
   ]
  },
  {
   "cell_type": "code",
   "execution_count": 7,
   "metadata": {},
   "outputs": [
    {
     "name": "stdout",
     "output_type": "stream",
     "text": [
      "(43371, 9, 64, 128)\n",
      "(1727, 9, 64, 128)\n"
     ]
    }
   ],
   "source": [
    "tr_images = utils.preprocess_images(tr_images)\n",
    "ts_images = utils.preprocess_images(ts_images)\n",
    "\n",
    "print(tr_images.shape)\n",
    "print(ts_images.shape)"
   ]
  },
  {
   "cell_type": "markdown",
   "metadata": {},
   "source": [
    "## Target"
   ]
  },
  {
   "cell_type": "code",
   "execution_count": 8,
   "metadata": {},
   "outputs": [
    {
     "name": "stdout",
     "output_type": "stream",
     "text": [
      "['tg_cood_x_0', 'tg_cood_y_0', 'tg_cood_z_0', 'tg_cood_x_1', 'tg_cood_y_1', 'tg_cood_z_1', 'tg_cood_x_2', 'tg_cood_y_2', 'tg_cood_z_2', 'tg_cood_x_3', 'tg_cood_y_3', 'tg_cood_z_3', 'tg_cood_x_4', 'tg_cood_y_4', 'tg_cood_z_4', 'tg_cood_x_5', 'tg_cood_y_5', 'tg_cood_z_5']\n",
      "Rows: 9\n",
      "Columns: 19\n",
      "$ statistic   <str> 'count', 'null_count', 'mean', 'std', 'min', '25%', '50%', '75%', 'max'\n",
      "$ tg_cood_x_0 <f64> 43371.0, 0.0, 4.122443942757371, 3.2667167639213908, -1.7321542071537557, 1.116530690565041, 3.843337458989432, 6.4281197924248215, 12.392587231992154\n",
      "$ tg_cood_y_0 <f64> 43371.0, 0.0, 0.0019486856369589753, 0.11686590022408185, -2.5341378248203235, -0.02646308932096216, 0.0010884804706597444, 0.030664179622664968, 3.4595563267615925\n",
      "$ tg_cood_z_0 <f64> 43371.0, 0.0, 0.001247332026343412, 0.040745039147660006, -0.9965478318668152, -0.017624552286421614, 0.0011112325970167394, 0.01959056385186172, 1.4479292511292303\n",
      "$ tg_cood_x_1 <f64> 43371.0, 0.0, 8.694386412319787, 6.894354638218222, -3.1110552313515663, 2.3347733190583524, 8.082799715190657, 13.569839002261446, 26.160460553005198\n",
      "$ tg_cood_y_1 <f64> 43371.0, 0.0, 0.004476514556435517, 0.327714078698954, -4.090710120199793, -0.06649143018994849, 0.0026994983574432146, 0.07784738369073656, 3.220475848407637\n",
      "$ tg_cood_z_1 <f64> 43371.0, 0.0, 0.0026177764841189125, 0.08338777633001182, -1.7567724970164338, -0.03676779701549093, 0.002288004100929793, 0.04145726267204623, 2.7481787007302354\n",
      "$ tg_cood_x_2 <f64> 43371.0, 0.0, 13.255113203175153, 10.520810050377683, -4.4542728848099316, 3.54812508508695, 12.330557720909065, 20.699952354360065, 39.85555499634953\n",
      "$ tg_cood_y_2 <f64> 43371.0, 0.0, 0.006757802478080225, 0.6376502116618826, -5.6665134567188025, -0.11984818786203096, 0.003819198790576571, 0.1367151006412065, 5.073225132597423\n",
      "$ tg_cood_z_2 <f64> 43371.0, 0.0, 0.0039805597739072185, 0.12708085737832547, -2.3413471300188857, -0.057168755383470965, 0.0030614709567915524, 0.06429009816926717, 3.920498256897937\n",
      "$ tg_cood_x_3 <f64> 43371.0, 0.0, 17.800580198667912, 14.147078994889537, -5.678676031490648, 4.729802933854976, 16.56731923526755, 27.83404851330417, 53.597005364832754\n",
      "$ tg_cood_y_3 <f64> 43371.0, 0.0, 0.009001091066397375, 1.0418271179092178, -8.864627963212671, -0.1827334066634623, 0.0050993710331077675, 0.20661702134778395, 8.201287915599481\n",
      "$ tg_cood_z_3 <f64> 43371.0, 0.0, 0.0052226783053458264, 0.17289219257292845, -3.0586733624587223, -0.07927416946162652, 0.004305777144596841, 0.08734364553032027, 4.773077968323914\n",
      "$ tg_cood_x_4 <f64> 43371.0, 0.0, 22.330185302557812, 17.772877254206836, -6.799718387513031, 5.9160516139778405, 20.763179790315586, 34.94724391510316, 67.24271501180003\n",
      "$ tg_cood_y_4 <f64> 43371.0, 0.0, 0.011158717608207358, 1.534513906347504, -12.459174095987274, -0.2562861911867529, 0.0061600080819784785, 0.2864272237952777, 12.084923257564784\n",
      "$ tg_cood_z_4 <f64> 43371.0, 0.0, 0.006012087559104841, 0.22083695547431775, -3.8712239955383367, -0.10168066236999504, 0.00528949770742061, 0.11125428996447788, 5.743042003115384\n",
      "$ tg_cood_x_5 <f64> 43371.0, 0.0, 26.84260725073137, 21.39811401676552, -7.826888370244597, 7.034703392503746, 24.947073557718593, 42.027568905167726, 80.98890010605476\n",
      "$ tg_cood_y_5 <f64> 43371.0, 0.0, 0.013563933180990386, 2.1110887290578124, -16.384151619613043, -0.3377936836816856, 0.007994441653063001, 0.3727276742148207, 17.151380511488536\n",
      "$ tg_cood_z_5 <f64> 43371.0, 0.0, 0.006647653778136916, 0.27167131530639843, -4.669255244678936, -0.12535440686368335, 0.005778101377040489, 0.13498369236039046, 6.627250814254265\n",
      "\n",
      "None\n"
     ]
    }
   ],
   "source": [
    "target = utils.CoordinateTarget(prefix=\"tg_\")\n",
    "target.fit(tr_df)\n",
    "\n",
    "tg_df = target.transform(tr_df)\n",
    "print(tg_df.columns)\n",
    "print(tg_df.describe().glimpse())\n",
    "tr_df = pl.concat([tr_df, tg_df], how=\"horizontal\")"
   ]
  },
  {
   "cell_type": "markdown",
   "metadata": {},
   "source": [
    "## 特徴量"
   ]
  },
  {
   "cell_type": "code",
   "execution_count": 9,
   "metadata": {},
   "outputs": [
    {
     "name": "stdout",
     "output_type": "stream",
     "text": [
      "['ft_vEgo', 'ft_aEgo', 'ft_steeringAngleDeg', 'ft_steeringTorque', 'ft_brake', 'ft_brakePressed', 'ft_gas', 'ft_gasPressed', 'ft_is_gearShifter_drive', 'ft_is_gearShifter_neutral', 'ft_is_gearShifter_park', 'ft_is_gearShifter_reverse', 'ft_leftBlinker', 'ft_rightBlinker']\n",
      "Rows: 9\n",
      "Columns: 15\n",
      "$ statistic                 <str> 'count', 'null_count', 'mean', 'std', 'min', '25%', '50%', '75%', 'max'\n",
      "$ ft_vEgo                   <f64> 43371.0, 0.0, 9.172175823216334, 7.226919878374694, -0.1619189828634262, 2.5786657333374023, 8.518790245056152, 14.286815643310547, 27.55126190185547\n",
      "$ ft_aEgo                   <f64> 43371.0, 0.0, -0.015654028629347255, 0.6324016778486632, -4.936206340789795, -0.2363678514957428, -1.8347540436410405e-15, 0.22229795157909396, 3.1400704383850098\n",
      "$ ft_steeringAngleDeg       <f64> 43371.0, 0.0, -2.065172574071012, 65.54882159006848, -481.394287109375, -3.461754322052002, -0.35647091269493103, 2.6269068717956543, 484.69171142578125\n",
      "$ ft_steeringTorque         <f64> 43371.0, 0.0, -19.00954554886906, 110.79997057975086, -700.0, -94.0, -13.0, 51.0, 700.0\n",
      "$ ft_brake                  <f64> 43371.0, 0.0, 0.0, 0.0, 0.0, 0.0, 0.0, 0.0, 0.0\n",
      "$ ft_brakePressed           <f64> 43371.0, 0.0, 0.3076018537732586, 0.4615060824782501, 0.0, 0.0, 0.0, 1.0, 1.0\n",
      "$ ft_gas                    <f64> 43371.0, 0.0, 0.08400302036789904, 0.10983697747311577, 0.0, 0.0, 0.0, 0.16500000655651093, 0.915000021457672\n",
      "$ ft_gasPressed             <f64> 43371.0, 0.0, 0.48359502893638606, 0.499736565674716, 0.0, 0.0, 0.0, 1.0, 1.0\n",
      "$ ft_is_gearShifter_drive   <f64> 43371.0, 0.0, 0.9972331742408522, 0.0525284118710861, 0.0, 1.0, 1.0, 1.0, 1.0\n",
      "$ ft_is_gearShifter_neutral <f64> 43371.0, 0.0, 6.917064397869545e-05, 0.008316697312424556, 0.0, 0.0, 0.0, 0.0, 1.0\n",
      "$ ft_is_gearShifter_park    <f64> 43371.0, 0.0, 0.0026515413525166585, 0.051425398943978996, 0.0, 0.0, 0.0, 0.0, 1.0\n",
      "$ ft_is_gearShifter_reverse <f64> 43371.0, 0.0, 4.6113762652463626e-05, 0.006790633209678983, 0.0, 0.0, 0.0, 0.0, 1.0\n",
      "$ ft_leftBlinker            <f64> 43371.0, 0.0, 0.07795531576398976, 0.26810434878124423, 0.0, 0.0, 0.0, 0.0, 1.0\n",
      "$ ft_rightBlinker           <f64> 43371.0, 0.0, 0.10271840630836274, 0.3035942365298531, 0.0, 0.0, 0.0, 0.0, 1.0\n",
      "\n",
      "None\n",
      "['ft_vEgo', 'ft_aEgo', 'ft_steeringAngleDeg', 'ft_steeringTorque', 'ft_brake', 'ft_brakePressed', 'ft_gas', 'ft_gasPressed', 'ft_is_gearShifter_drive', 'ft_is_gearShifter_neutral', 'ft_is_gearShifter_park', 'ft_is_gearShifter_reverse', 'ft_leftBlinker', 'ft_rightBlinker']\n",
      "Rows: 9\n",
      "Columns: 15\n",
      "$ statistic                 <str> 'count', 'null_count', 'mean', 'std', 'min', '25%', '50%', '75%', 'max'\n",
      "$ ft_vEgo                   <f64> 1727.0, 0.0, 9.498940069707334, 7.23556621771096, -0.16705937683582306, 2.988953113555908, 9.076517105102539, 14.758581161499025, 27.206621170043945\n",
      "$ ft_aEgo                   <f64> 1727.0, 0.0, -0.02907723589981004, 0.6122087564658688, -3.8730378150939937, -0.2477388381958008, -9.617285944398328e-14, 0.21507366001605988, 2.6108293533325195\n",
      "$ ft_steeringAngleDeg       <f64> 1727.0, 0.0, -3.2302326968093227, 61.06931271098453, -441.5201416015625, -3.5669302940368652, -0.4708167612552643, 2.073073387145996, 483.0481872558594\n",
      "$ ft_steeringTorque         <f64> 1727.0, 0.0, -20.277359583092068, 113.92207330483267, -363.0, -97.0, -12.0, 53.0, 642.0\n",
      "$ ft_brake                  <f64> 1727.0, 0.0, 0.0, 0.0, 0.0, 0.0, 0.0, 0.0, 0.0\n",
      "$ ft_brakePressed           <f64> 1727.0, 0.0, 0.29530978575564565, 0.45631402026409756, 0.0, 0.0, 0.0, 1.0, 1.0\n",
      "$ ft_gas                    <f64> 1727.0, 0.0, 0.08316155173182142, 0.1095658974381894, 0.0, 0.0, 0.0, 0.1599999964237213, 0.5899999737739563\n",
      "$ ft_gasPressed             <f64> 1727.0, 0.0, 0.48870874348581356, 0.5000172769309245, 0.0, 0.0, 0.0, 1.0, 1.0\n",
      "$ ft_is_gearShifter_drive   <f64> 1727.0, 0.0, 0.9942096120440069, 0.07589594679254315, 0.0, 1.0, 1.0, 1.0, 1.0\n",
      "$ ft_is_gearShifter_neutral <f64> 1727.0, 0.0, 0.0, 0.0, 0.0, 0.0, 0.0, 0.0, 0.0\n",
      "$ ft_is_gearShifter_park    <f64> 1727.0, 0.0, 0.004632310364794441, 0.06792292304189239, 0.0, 0.0, 0.0, 0.0, 1.0\n",
      "$ ft_is_gearShifter_reverse <f64> 1727.0, 0.0, 0.0011580775911986102, 0.034020679458719075, 0.0, 0.0, 0.0, 0.0, 1.0\n",
      "$ ft_leftBlinker            <f64> 1727.0, 0.0, 0.07295888824551244, 0.26014433564008865, 0.0, 0.0, 0.0, 0.0, 1.0\n",
      "$ ft_rightBlinker           <f64> 1727.0, 0.0, 0.08569774174869717, 0.2799982765850711, 0.0, 0.0, 0.0, 0.0, 1.0\n",
      "\n",
      "None\n"
     ]
    }
   ],
   "source": [
    "feature = utils.Feature(prefix=\"ft_\")\n",
    "feature.fit(tr_df)\n",
    "\n",
    "ft_df = feature.transform(tr_df)\n",
    "print(ft_df.columns)\n",
    "print(ft_df.describe().glimpse())\n",
    "tr_df = pl.concat([tr_df, ft_df], how=\"horizontal\")\n",
    "\n",
    "ft_df = feature.transform(ts_df)\n",
    "print(ft_df.columns)\n",
    "print(ft_df.describe().glimpse())\n",
    "ts_df = pl.concat([ts_df, ft_df], how=\"horizontal\")"
   ]
  },
  {
   "cell_type": "markdown",
   "metadata": {},
   "source": [
    "## モデリング"
   ]
  },
  {
   "cell_type": "code",
   "execution_count": 10,
   "metadata": {},
   "outputs": [],
   "source": [
    "N_SPLITS = 2"
   ]
  },
  {
   "cell_type": "code",
   "execution_count": 11,
   "metadata": {},
   "outputs": [],
   "source": [
    "model_params = {\n",
    "    \"dnn\": {\n",
    "        \"n_img_channels\": 3 * 3,\n",
    "        \"n_features\": len(feature.columns),\n",
    "        \"n_targets\": len(target.columns),\n",
    "        \"segmentation_model_params\": {\n",
    "            \"encoder_name\": \"resnet18\",\n",
    "            \"encoder_weights\": \"imagenet\",\n",
    "            \"decoder_channels\": (256, 128, 64, 32, 16),\n",
    "        },\n",
    "        \"dropout\": 0.0,\n",
    "        \"embed_dim\": 128,\n",
    "        \"n_layers\": 1,\n",
    "    },\n",
    "    \"dev\": \"cuda\",\n",
    "}\n",
    "\n",
    "lr = 1e-4\n",
    "fit_params = {\n",
    "    \"dnn\": {\n",
    "        \"tr_batch_size\": 32,\n",
    "        \"vl_batch_size\": 32,\n",
    "        \"trainer_params\": {\n",
    "            \"criterion_params\": {},\n",
    "            \"opt\": \"adamw\",\n",
    "            \"opt_params\": {\"lr\": lr, \"weight_decay\": 1e-4},\n",
    "            \"backbone_opt_params\": {\"lr\": lr, \"weight_decay\": 1e-4},\n",
    "            \"sch_params\": {\n",
    "                \"max_lr\": lr,\n",
    "                \"pct_start\": 0.1,\n",
    "                \"div_factor\": 25,\n",
    "                \"final_div_factor\": 1000,\n",
    "            },\n",
    "            \"epochs\": 40,\n",
    "            \"dev\": \"cuda\",\n",
    "            \"prefix\": \"\",\n",
    "            \"save_best\": False,\n",
    "            \"save_epochs\": [],\n",
    "            \"maximize_score\": False,\n",
    "            \"grad_max_norm\": None,\n",
    "        },\n",
    "    },\n",
    "}"
   ]
  },
  {
   "cell_type": "code",
   "execution_count": 12,
   "metadata": {},
   "outputs": [
    {
     "name": "stdout",
     "output_type": "stream",
     "text": [
      "-----------------\n",
      "-----------------\n",
      "Training fold 0...\n",
      "train samples: 21685, valid samples: 21686\n",
      "Save model : model.pth\n",
      "\n",
      "epoch  0\n",
      "lr  4.000000000000002e-06\n",
      "lr  4.000000000000002e-06\n",
      "lr  4.000000000000002e-06\n",
      "lr  4.000000000000002e-06\n"
     ]
    },
    {
     "name": "stderr",
     "output_type": "stream",
     "text": [
      "100%|██████████| 677/677 [00:17<00:00, 38.13it/s]\n",
      "100%|██████████| 678/678 [00:06<00:00, 99.13it/s] \n"
     ]
    },
    {
     "name": "stdout",
     "output_type": "stream",
     "text": [
      "\n",
      "Train Loss: 40.9840\n",
      "{'loss': 40.98401927384527, 'loss_mse_0': 1.824727626679743, 'loss_mse_1': 0.1016914972064238, 'loss_mse_2': 0.05511774745751915, 'loss_mse_3': 3.0281229454094056, 'loss_mse_4': 0.27755982643392274, 'loss_mse_5': 0.1201362665660096, 'loss_mse_6': 5.0877286501261825, 'loss_mse_7': 0.5427580523570144, 'loss_mse_8': 0.17433411875076624, 'loss_mse_9': 6.222093255340261, 'loss_mse_10': 1.0504578104575593, 'loss_mse_11': 0.2342303369739031, 'loss_mse_12': 8.691365665663996, 'loss_mse_13': 1.242691560193038, 'loss_mse_14': 0.30500608387690703, 'loss_mse_15': 9.950954644683545, 'loss_mse_16': 1.7286090609153935, 'loss_mse_17': 0.3464340333396258}\n",
      "Valid Loss: 19.2928\n",
      "{'loss': 19.29283600922531, 'loss_mse_0': 0.7498041415988168, 'loss_mse_1': 0.09300022380245207, 'loss_mse_2': 0.04880044005047475, 'loss_mse_3': 1.5390479580930552, 'loss_mse_4': 0.2157489529709197, 'loss_mse_5': 0.10331550152329481, 'loss_mse_6': 2.1243912669058043, 'loss_mse_7': 0.38769707461725644, 'loss_mse_8': 0.14547447639910344, 'loss_mse_9': 2.660200554976421, 'loss_mse_10': 0.6425093430970799, 'loss_mse_11': 0.20308135258676732, 'loss_mse_12': 3.4802044258180973, 'loss_mse_13': 0.9114228719543215, 'loss_mse_14': 0.25970353987232775, 'loss_mse_15': 4.114237645558552, 'loss_mse_16': 1.3022610990654755, 'loss_mse_17': 0.31193515084200374}\n",
      "Update best score : 19.29283600922531\n",
      "Save model : model.pth\n",
      "\n",
      "epoch  1\n",
      "lr  1.8068723474000953e-05\n",
      "lr  1.8068723474000953e-05\n",
      "lr  1.8068723474000953e-05\n",
      "lr  1.8068723474000953e-05\n"
     ]
    },
    {
     "name": "stderr",
     "output_type": "stream",
     "text": [
      "100%|██████████| 677/677 [00:16<00:00, 40.19it/s]\n",
      "100%|██████████| 678/678 [00:06<00:00, 102.15it/s]\n"
     ]
    },
    {
     "name": "stdout",
     "output_type": "stream",
     "text": [
      "\n",
      "Train Loss: 10.9042\n",
      "{'loss': 10.904248179854108, 'loss_mse_0': 0.3463744704159007, 'loss_mse_1': 0.07679538689883897, 'loss_mse_2': 0.04756061021277084, 'loss_mse_3': 0.691859094648893, 'loss_mse_4': 0.18161966593350054, 'loss_mse_5': 0.09959968245220942, 'loss_mse_6': 1.0089381839447218, 'loss_mse_7': 0.3267079712479118, 'loss_mse_8': 0.14540636507543891, 'loss_mse_9': 1.272627228053845, 'loss_mse_10': 0.5271516177291532, 'loss_mse_11': 0.1976095480704061, 'loss_mse_12': 1.6482326664811928, 'loss_mse_13': 0.7659087845590653, 'loss_mse_14': 0.24722754832032512, 'loss_mse_15': 1.9470126061883248, 'loss_mse_16': 1.0748105071363985, 'loss_mse_17': 0.29880624900584385}\n",
      "Valid Loss: 6.2437\n",
      "{'loss': 6.243678342627916, 'loss_mse_0': 0.1276666789307399, 'loss_mse_1': 0.07430979086410332, 'loss_mse_2': 0.04225129511270529, 'loss_mse_3': 0.2701115212829064, 'loss_mse_4': 0.15225067395980643, 'loss_mse_5': 0.08591290571037295, 'loss_mse_6': 0.42255137384948827, 'loss_mse_7': 0.26339401550327257, 'loss_mse_8': 0.1273797367147244, 'loss_mse_9': 0.5086755016296662, 'loss_mse_10': 0.41458739639207676, 'loss_mse_11': 0.17438019165675814, 'loss_mse_12': 0.7440306438808948, 'loss_mse_13': 0.6219894474366773, 'loss_mse_14': 0.2209118855540204, 'loss_mse_15': 0.8561079387379958, 'loss_mse_16': 0.8651981299693605, 'loss_mse_17': 0.2719691951421246}\n",
      "Update best score : 6.243678342627916\n",
      "Save model : model.pth\n",
      "\n",
      "epoch  2\n",
      "lr  5.202785305484109e-05\n",
      "lr  5.202785305484109e-05\n",
      "lr  5.202785305484109e-05\n",
      "lr  5.202785305484109e-05\n"
     ]
    },
    {
     "name": "stderr",
     "output_type": "stream",
     "text": [
      "100%|██████████| 677/677 [00:16<00:00, 40.51it/s]\n",
      "100%|██████████| 678/678 [00:06<00:00, 104.23it/s]\n"
     ]
    },
    {
     "name": "stdout",
     "output_type": "stream",
     "text": [
      "\n",
      "Train Loss: 4.6811\n",
      "{'loss': 4.681062365564321, 'loss_mse_0': 0.07990136168390909, 'loss_mse_1': 0.06094261402184449, 'loss_mse_2': 0.04317299532050616, 'loss_mse_3': 0.1608402332513864, 'loss_mse_4': 0.13031111380011062, 'loss_mse_5': 0.0875923407279186, 'loss_mse_6': 0.24009308841855345, 'loss_mse_7': 0.2278221535690382, 'loss_mse_8': 0.13087699890268784, 'loss_mse_9': 0.31168079591924364, 'loss_mse_10': 0.35291810667189044, 'loss_mse_11': 0.1767509765757944, 'loss_mse_12': 0.39470707460071347, 'loss_mse_13': 0.5297320185110875, 'loss_mse_14': 0.2225289366853202, 'loss_mse_15': 0.5094261021192352, 'loss_mse_16': 0.7499568103819513, 'loss_mse_17': 0.2718086404673634}\n",
      "Valid Loss: 3.3639\n",
      "{'loss': 3.363872713219803, 'loss_mse_0': 0.045014307511404464, 'loss_mse_1': 0.060716407000949844, 'loss_mse_2': 0.03970221292974763, 'loss_mse_3': 0.08118611402468959, 'loss_mse_4': 0.1051496651894509, 'loss_mse_5': 0.08072379763323297, 'loss_mse_6': 0.11488037714926982, 'loss_mse_7': 0.1677434206129791, 'loss_mse_8': 0.12244300405525088, 'loss_mse_9': 0.18240192490780952, 'loss_mse_10': 0.27736656566131257, 'loss_mse_11': 0.1674229848805738, 'loss_mse_12': 0.20139291773173837, 'loss_mse_13': 0.40675383040840823, 'loss_mse_14': 0.21638696681389416, 'loss_mse_15': 0.27367637746014073, 'loss_mse_16': 0.556711811901985, 'loss_mse_17': 0.26420002624084815}\n",
      "Update best score : 3.363872713219803\n",
      "Save model : model.pth\n",
      "\n",
      "epoch  3\n",
      "lr  8.597065526374518e-05\n",
      "lr  8.597065526374518e-05\n",
      "lr  8.597065526374518e-05\n",
      "lr  8.597065526374518e-05\n"
     ]
    },
    {
     "name": "stderr",
     "output_type": "stream",
     "text": [
      "100%|██████████| 677/677 [00:16<00:00, 40.37it/s]\n",
      "100%|██████████| 678/678 [00:06<00:00, 102.33it/s]\n"
     ]
    },
    {
     "name": "stdout",
     "output_type": "stream",
     "text": [
      "\n",
      "Train Loss: 3.4360\n",
      "{'loss': 3.4359605143306173, 'loss_mse_0': 0.042302431952775055, 'loss_mse_1': 0.0519522642166501, 'loss_mse_2': 0.04166452774703723, 'loss_mse_3': 0.08478767305414468, 'loss_mse_4': 0.09857879151099057, 'loss_mse_5': 0.08461507065070345, 'loss_mse_6': 0.12850472964126303, 'loss_mse_7': 0.17051600685488966, 'loss_mse_8': 0.12763598417117641, 'loss_mse_9': 0.1725251285174925, 'loss_mse_10': 0.2662742372761801, 'loss_mse_11': 0.17255031245387817, 'loss_mse_12': 0.2260576661406539, 'loss_mse_13': 0.4021983580440943, 'loss_mse_14': 0.21843399016662574, 'loss_mse_15': 0.2965826863310186, 'loss_mse_16': 0.584401279555818, 'loss_mse_17': 0.2663793780977124}\n",
      "Valid Loss: 3.3136\n",
      "{'loss': 3.313592125796287, 'loss_mse_0': 0.03544721171908234, 'loss_mse_1': 0.05154448457283399, 'loss_mse_2': 0.03871066271462052, 'loss_mse_3': 0.06905373597413214, 'loss_mse_4': 0.10191129815179557, 'loss_mse_5': 0.07842992139145029, 'loss_mse_6': 0.09609069584822146, 'loss_mse_7': 0.1791103891053053, 'loss_mse_8': 0.11929977548674056, 'loss_mse_9': 0.14760313851753343, 'loss_mse_10': 0.2691301202077342, 'loss_mse_11': 0.16197773753486816, 'loss_mse_12': 0.18916209331633946, 'loss_mse_13': 0.4272127513303957, 'loss_mse_14': 0.20707906233174259, 'loss_mse_15': 0.24791455373805357, 'loss_mse_16': 0.6396308039482628, 'loss_mse_17': 0.2542836827756205}\n",
      "Update best score : 3.313592125796287\n",
      "Save model : model.pth\n",
      "\n",
      "epoch  4\n",
      "lr  9.999999958462529e-05\n",
      "lr  9.999999958462529e-05\n",
      "lr  9.999999958462529e-05\n",
      "lr  9.999999958462529e-05\n"
     ]
    },
    {
     "name": "stderr",
     "output_type": "stream",
     "text": [
      "100%|██████████| 677/677 [00:17<00:00, 39.82it/s]\n",
      "100%|██████████| 678/678 [00:06<00:00, 104.12it/s]\n"
     ]
    },
    {
     "name": "stdout",
     "output_type": "stream",
     "text": [
      "\n",
      "Train Loss: 2.8119\n",
      "{'loss': 2.811866701089473, 'loss_mse_0': 0.02923564362426342, 'loss_mse_1': 0.045094292452682684, 'loss_mse_2': 0.04119601548598471, 'loss_mse_3': 0.056546658902061744, 'loss_mse_4': 0.0804032922613722, 'loss_mse_5': 0.0835611834170151, 'loss_mse_6': 0.08558445463185384, 'loss_mse_7': 0.13422480230240297, 'loss_mse_8': 0.1259220977791171, 'loss_mse_9': 0.1174872494639727, 'loss_mse_10': 0.20750337527126647, 'loss_mse_11': 0.16977957870530588, 'loss_mse_12': 0.1608680376020897, 'loss_mse_13': 0.3138065168378184, 'loss_mse_14': 0.21526347778660507, 'loss_mse_15': 0.221088898152201, 'loss_mse_16': 0.4621739456845527, 'loss_mse_17': 0.26212716231361977}\n",
      "Valid Loss: 2.4442\n",
      "{'loss': 2.444238411465929, 'loss_mse_0': 0.02106974081645904, 'loss_mse_1': 0.04854293345613817, 'loss_mse_2': 0.038700652029227935, 'loss_mse_3': 0.03744829215032425, 'loss_mse_4': 0.07971557812589415, 'loss_mse_5': 0.07895867564992919, 'loss_mse_6': 0.0587492786721494, 'loss_mse_7': 0.11849292462752105, 'loss_mse_8': 0.12051466038686863, 'loss_mse_9': 0.08097364136998632, 'loss_mse_10': 0.17941013403280823, 'loss_mse_11': 0.16465694921854937, 'loss_mse_12': 0.10588159005825235, 'loss_mse_13': 0.276602809276201, 'loss_mse_14': 0.20944220293587992, 'loss_mse_15': 0.16471385489874532, 'loss_mse_16': 0.40484093802714594, 'loss_mse_17': 0.25552355335437443}\n",
      "Update best score : 2.444238411465929\n",
      "Save model : model.pth\n",
      "\n",
      "epoch  5\n",
      "lr  9.980918039762207e-05\n",
      "lr  9.980918039762207e-05\n",
      "lr  9.980918039762207e-05\n",
      "lr  9.980918039762207e-05\n"
     ]
    },
    {
     "name": "stderr",
     "output_type": "stream",
     "text": [
      "100%|██████████| 677/677 [00:16<00:00, 40.49it/s]\n",
      "100%|██████████| 678/678 [00:06<00:00, 104.76it/s]\n"
     ]
    },
    {
     "name": "stdout",
     "output_type": "stream",
     "text": [
      "\n",
      "Train Loss: 2.4190\n",
      "{'loss': 2.418991805003348, 'loss_mse_0': 0.022663848417531836, 'loss_mse_1': 0.040415056151622684, 'loss_mse_2': 0.04097503981934076, 'loss_mse_3': 0.042800249377791075, 'loss_mse_4': 0.06561191777865151, 'loss_mse_5': 0.08307385192619997, 'loss_mse_6': 0.06589139003631284, 'loss_mse_7': 0.10567051288912532, 'loss_mse_8': 0.12490949523325685, 'loss_mse_9': 0.09121767012196066, 'loss_mse_10': 0.16356810048068468, 'loss_mse_11': 0.16826768711407392, 'loss_mse_12': 0.12612972348554272, 'loss_mse_13': 0.25226757872954253, 'loss_mse_14': 0.2128296794653203, 'loss_mse_15': 0.17946173181341882, 'loss_mse_16': 0.3746421124120319, 'loss_mse_17': 0.25859614628940775}\n",
      "Valid Loss: 2.5418\n",
      "{'loss': 2.5417581243676772, 'loss_mse_0': 0.01958762739914137, 'loss_mse_1': 0.04835980767480326, 'loss_mse_2': 0.038611050968533685, 'loss_mse_3': 0.03907354529686052, 'loss_mse_4': 0.07901604543577408, 'loss_mse_5': 0.07942232369255703, 'loss_mse_6': 0.072725796355017, 'loss_mse_7': 0.11657017916386019, 'loss_mse_8': 0.11951085953673782, 'loss_mse_9': 0.10011233095420322, 'loss_mse_10': 0.17022958095940957, 'loss_mse_11': 0.1634542572622498, 'loss_mse_12': 0.15498720427046483, 'loss_mse_13': 0.2633816075777761, 'loss_mse_14': 0.20845955385274328, 'loss_mse_15': 0.22398498315353133, 'loss_mse_16': 0.391063405626665, 'loss_mse_17': 0.25320796505342014}\n",
      "Save model : model.pth\n",
      "\n",
      "epoch  6\n",
      "lr  9.923929849339515e-05\n",
      "lr  9.923929849339515e-05\n",
      "lr  9.923929849339515e-05\n",
      "lr  9.923929849339515e-05\n"
     ]
    },
    {
     "name": "stderr",
     "output_type": "stream",
     "text": [
      "100%|██████████| 677/677 [00:16<00:00, 40.90it/s]\n",
      "100%|██████████| 678/678 [00:06<00:00, 103.57it/s]\n"
     ]
    },
    {
     "name": "stdout",
     "output_type": "stream",
     "text": [
      "\n",
      "Train Loss: 2.1494\n",
      "{'loss': 2.149437350043518, 'loss_mse_0': 0.018075257769484553, 'loss_mse_1': 0.037178275854281385, 'loss_mse_2': 0.04067677413244103, 'loss_mse_3': 0.03366121426472327, 'loss_mse_4': 0.05861917813686844, 'loss_mse_5': 0.08188492879326534, 'loss_mse_6': 0.05148531837138503, 'loss_mse_7': 0.0897494928149212, 'loss_mse_8': 0.1225333255846356, 'loss_mse_9': 0.07176579106626606, 'loss_mse_10': 0.13725471031333442, 'loss_mse_11': 0.16431158730427306, 'loss_mse_12': 0.10293088944427989, 'loss_mse_13': 0.21212149144011375, 'loss_mse_14': 0.2070857113780264, 'loss_mse_15': 0.15117768524558542, 'loss_mse_16': 0.31818583932879935, 'loss_mse_17': 0.2507398802363362}\n",
      "Valid Loss: 2.2730\n",
      "{'loss': 2.272964869892351, 'loss_mse_0': 0.015434611038576844, 'loss_mse_1': 0.06502188276980281, 'loss_mse_2': 0.03843042507951744, 'loss_mse_3': 0.028752850929747685, 'loss_mse_4': 0.07293979233683012, 'loss_mse_5': 0.0784191447323886, 'loss_mse_6': 0.04702267045523301, 'loss_mse_7': 0.1010371133352693, 'loss_mse_8': 0.11840785131308973, 'loss_mse_9': 0.07009511929455936, 'loss_mse_10': 0.15388211416723455, 'loss_mse_11': 0.16051119131346545, 'loss_mse_12': 0.10637264345995093, 'loss_mse_13': 0.24103827996641003, 'loss_mse_14': 0.20445116645598835, 'loss_mse_15': 0.1602587580109416, 'loss_mse_16': 0.3628624924362409, 'loss_mse_17': 0.24802676559725342}\n",
      "Update best score : 2.272964869892351\n",
      "Save model : model.pth\n",
      "\n",
      "epoch  7\n",
      "lr  9.82946910173398e-05\n",
      "lr  9.82946910173398e-05\n",
      "lr  9.82946910173398e-05\n",
      "lr  9.82946910173398e-05\n"
     ]
    },
    {
     "name": "stderr",
     "output_type": "stream",
     "text": [
      "100%|██████████| 677/677 [00:16<00:00, 40.24it/s]\n",
      "100%|██████████| 678/678 [00:06<00:00, 104.53it/s]\n"
     ]
    },
    {
     "name": "stdout",
     "output_type": "stream",
     "text": [
      "\n",
      "Train Loss: 1.9299\n",
      "{'loss': 1.9298827908768084, 'loss_mse_0': 0.015745302900586667, 'loss_mse_1': 0.035030922000234506, 'loss_mse_2': 0.040170246883786585, 'loss_mse_3': 0.029311316636730773, 'loss_mse_4': 0.051907166926688245, 'loss_mse_5': 0.08037728365053982, 'loss_mse_6': 0.04483356428892521, 'loss_mse_7': 0.07588210587900138, 'loss_mse_8': 0.11936280756440437, 'loss_mse_9': 0.06421752416279766, 'loss_mse_10': 0.11270983272027142, 'loss_mse_11': 0.15920806283810818, 'loss_mse_12': 0.09159545002001691, 'loss_mse_13': 0.1732667711215366, 'loss_mse_14': 0.19947709948748923, 'loss_mse_15': 0.13450692256188992, 'loss_mse_16': 0.26198214436695527, 'loss_mse_17': 0.24029826496671364}\n",
      "Valid Loss: 2.4301\n",
      "{'loss': 2.4301087163542574, 'loss_mse_0': 0.016360753178417925, 'loss_mse_1': 0.05023774645115444, 'loss_mse_2': 0.038195263618427525, 'loss_mse_3': 0.03663249920564635, 'loss_mse_4': 0.07906570838582991, 'loss_mse_5': 0.07788704239535296, 'loss_mse_6': 0.052386825698205325, 'loss_mse_7': 0.12271869130938103, 'loss_mse_8': 0.11737092695910495, 'loss_mse_9': 0.0884569692219385, 'loss_mse_10': 0.18257185356323347, 'loss_mse_11': 0.158318758444932, 'loss_mse_12': 0.12489161379690279, 'loss_mse_13': 0.2591331420894877, 'loss_mse_14': 0.20138906498486314, 'loss_mse_15': 0.1936552093850564, 'loss_mse_16': 0.3852359027159469, 'loss_mse_17': 0.245600746230258}\n",
      "Save model : model.pth\n",
      "\n",
      "epoch  8\n",
      "lr  9.69825470027184e-05\n",
      "lr  9.69825470027184e-05\n",
      "lr  9.69825470027184e-05\n",
      "lr  9.69825470027184e-05\n"
     ]
    },
    {
     "name": "stderr",
     "output_type": "stream",
     "text": [
      "100%|██████████| 677/677 [00:16<00:00, 39.86it/s]\n",
      "100%|██████████| 678/678 [00:06<00:00, 103.13it/s]\n"
     ]
    },
    {
     "name": "stdout",
     "output_type": "stream",
     "text": [
      "\n",
      "Train Loss: 1.7933\n",
      "{'loss': 1.7932986087954026, 'loss_mse_0': 0.014144918184928277, 'loss_mse_1': 0.033179610985519706, 'loss_mse_2': 0.039397384112279867, 'loss_mse_3': 0.026984055450205394, 'loss_mse_4': 0.04809101840324337, 'loss_mse_5': 0.0778895514856259, 'loss_mse_6': 0.04041402706356397, 'loss_mse_7': 0.06884760813900384, 'loss_mse_8': 0.11420760055291336, 'loss_mse_9': 0.058153623522450515, 'loss_mse_10': 0.10160971440352841, 'loss_mse_11': 0.15137812258617916, 'loss_mse_12': 0.0841647577850338, 'loss_mse_13': 0.1569892667492568, 'loss_mse_14': 0.1886482813630798, 'loss_mse_15': 0.12620981424177502, 'loss_mse_16': 0.2369483897965979, 'loss_mse_17': 0.22604085912204389}\n",
      "Valid Loss: 2.5426\n",
      "{'loss': 2.5426301895517165, 'loss_mse_0': 0.014756144780959593, 'loss_mse_1': 0.04794704414296972, 'loss_mse_2': 0.03838703073877127, 'loss_mse_3': 0.028602465969348286, 'loss_mse_4': 0.08197355522309872, 'loss_mse_5': 0.07836624155106754, 'loss_mse_6': 0.05289134577570544, 'loss_mse_7': 0.12041718354119005, 'loss_mse_8': 0.11921491953036074, 'loss_mse_9': 0.07877499613207614, 'loss_mse_10': 0.19326833798756113, 'loss_mse_11': 0.16078710884053624, 'loss_mse_12': 0.1271503495167842, 'loss_mse_13': 0.30570522373800435, 'loss_mse_14': 0.20274836634310472, 'loss_mse_15': 0.18551613109675305, 'loss_mse_16': 0.4590348070404962, 'loss_mse_17': 0.2470889319789357}\n",
      "Save model : model.pth\n",
      "\n",
      "epoch  9\n",
      "lr  9.531285265777644e-05\n",
      "lr  9.531285265777644e-05\n",
      "lr  9.531285265777644e-05\n",
      "lr  9.531285265777644e-05\n"
     ]
    },
    {
     "name": "stderr",
     "output_type": "stream",
     "text": [
      "100%|██████████| 677/677 [00:16<00:00, 40.77it/s]\n",
      "100%|██████████| 678/678 [00:06<00:00, 104.72it/s]\n"
     ]
    },
    {
     "name": "stdout",
     "output_type": "stream",
     "text": [
      "\n",
      "Train Loss: 1.6647\n",
      "{'loss': 1.6646547933801061, 'loss_mse_0': 0.014106334077381422, 'loss_mse_1': 0.032331567787960105, 'loss_mse_2': 0.03793678831369609, 'loss_mse_3': 0.026235214653982063, 'loss_mse_4': 0.04594253715708235, 'loss_mse_5': 0.07340771405568328, 'loss_mse_6': 0.04006839459390549, 'loss_mse_7': 0.0636234974318034, 'loss_mse_8': 0.10653860397372764, 'loss_mse_9': 0.05697283122628003, 'loss_mse_10': 0.0925556548363481, 'loss_mse_11': 0.14019051574973976, 'loss_mse_12': 0.08232116217187095, 'loss_mse_13': 0.13919001931057723, 'loss_mse_14': 0.17357117552282716, 'loss_mse_15': 0.12214678638728894, 'loss_mse_16': 0.21010445751678997, 'loss_mse_17': 0.20741153686160174}\n",
      "Valid Loss: 2.2708\n",
      "{'loss': 2.27083523795668, 'loss_mse_0': 0.015465601104940769, 'loss_mse_1': 0.04750052009740773, 'loss_mse_2': 0.03868731716716426, 'loss_mse_3': 0.028409810894743093, 'loss_mse_4': 0.07170507904680605, 'loss_mse_5': 0.0797616877499693, 'loss_mse_6': 0.044728108933113055, 'loss_mse_7': 0.10696937367704677, 'loss_mse_8': 0.1216887281644419, 'loss_mse_9': 0.06163260954429442, 'loss_mse_10': 0.16484052687333925, 'loss_mse_11': 0.16317196769755235, 'loss_mse_12': 0.09220144619950943, 'loss_mse_13': 0.2525350333694204, 'loss_mse_14': 0.20695757306288037, 'loss_mse_15': 0.13714608510511112, 'loss_mse_16': 0.3867830311093798, 'loss_mse_17': 0.250650729401625}\n",
      "Update best score : 2.27083523795668\n",
      "Save model : model.pth\n",
      "\n",
      "epoch  10\n",
      "lr  9.329831536466792e-05\n",
      "lr  9.329831536466792e-05\n",
      "lr  9.329831536466792e-05\n",
      "lr  9.329831536466792e-05\n"
     ]
    },
    {
     "name": "stderr",
     "output_type": "stream",
     "text": [
      "100%|██████████| 677/677 [00:16<00:00, 40.63it/s]\n",
      "100%|██████████| 678/678 [00:06<00:00, 103.11it/s]\n"
     ]
    },
    {
     "name": "stdout",
     "output_type": "stream",
     "text": [
      "\n",
      "Train Loss: 1.5075\n",
      "{'loss': 1.507532471391968, 'loss_mse_0': 0.012271457943966285, 'loss_mse_1': 0.031052784906890094, 'loss_mse_2': 0.035679763887336194, 'loss_mse_3': 0.02262597110196728, 'loss_mse_4': 0.04359699329540156, 'loss_mse_5': 0.0675570230994324, 'loss_mse_6': 0.0345537816098667, 'loss_mse_7': 0.05933759511727702, 'loss_mse_8': 0.0966218922801723, 'loss_mse_9': 0.05032046661166092, 'loss_mse_10': 0.08503635480801851, 'loss_mse_11': 0.12617377352184084, 'loss_mse_12': 0.07347334004344316, 'loss_mse_13': 0.12729980216871953, 'loss_mse_14': 0.15496113179925625, 'loss_mse_15': 0.10905298802511906, 'loss_mse_16': 0.19270911608083913, 'loss_mse_17': 0.1852082306494389}\n",
      "Valid Loss: 2.4633\n",
      "{'loss': 2.463287966001702, 'loss_mse_0': 0.013313978268273153, 'loss_mse_1': 0.044961276159904744, 'loss_mse_2': 0.039485101016639435, 'loss_mse_3': 0.026076369376984977, 'loss_mse_4': 0.07345956362163027, 'loss_mse_5': 0.08221830321327511, 'loss_mse_6': 0.039651427393268164, 'loss_mse_7': 0.11960435941180758, 'loss_mse_8': 0.12426331072391882, 'loss_mse_9': 0.06374797769506245, 'loss_mse_10': 0.19694202405930797, 'loss_mse_11': 0.16751000885700582, 'loss_mse_12': 0.09165472305135301, 'loss_mse_13': 0.3097613783152142, 'loss_mse_14': 0.21074533315820504, 'loss_mse_15': 0.13509067885335918, 'loss_mse_16': 0.4685080091751958, 'loss_mse_17': 0.2562941441142102}\n",
      "Save model : model.pth\n",
      "\n",
      "epoch  11\n",
      "lr  9.095426696860428e-05\n",
      "lr  9.095426696860428e-05\n",
      "lr  9.095426696860428e-05\n",
      "lr  9.095426696860428e-05\n"
     ]
    },
    {
     "name": "stderr",
     "output_type": "stream",
     "text": [
      "100%|██████████| 677/677 [00:16<00:00, 40.25it/s]\n",
      "100%|██████████| 678/678 [00:06<00:00, 102.06it/s]\n"
     ]
    },
    {
     "name": "stdout",
     "output_type": "stream",
     "text": [
      "\n",
      "Train Loss: 1.3088\n",
      "{'loss': 1.3087521147868835, 'loss_mse_0': 0.011324632146287065, 'loss_mse_1': 0.029280499751202244, 'loss_mse_2': 0.0324431395473198, 'loss_mse_3': 0.020557443044551454, 'loss_mse_4': 0.03917226643181864, 'loss_mse_5': 0.05927826209954004, 'loss_mse_6': 0.030568430446462493, 'loss_mse_7': 0.05148786974539829, 'loss_mse_8': 0.0834999392510693, 'loss_mse_9': 0.044680275804359064, 'loss_mse_10': 0.07137778246612941, 'loss_mse_11': 0.10797522260781317, 'loss_mse_12': 0.06585390784088495, 'loss_mse_13': 0.10694349764611027, 'loss_mse_14': 0.13240112364292145, 'loss_mse_15': 0.10049919554608787, 'loss_mse_16': 0.16336488979902983, 'loss_mse_17': 0.1580437348008244}\n",
      "Valid Loss: 2.2265\n",
      "{'loss': 2.2264897978938785, 'loss_mse_0': 0.010745037566859461, 'loss_mse_1': 0.0453366744994793, 'loss_mse_2': 0.03993680882528644, 'loss_mse_3': 0.02179872252700911, 'loss_mse_4': 0.0699877309369797, 'loss_mse_5': 0.08308927129794759, 'loss_mse_6': 0.03415838616919377, 'loss_mse_7': 0.10687280023418323, 'loss_mse_8': 0.1272900243534275, 'loss_mse_9': 0.05079013990254792, 'loss_mse_10': 0.16532662947412174, 'loss_mse_11': 0.1712387531286979, 'loss_mse_12': 0.07664712516118423, 'loss_mse_13': 0.2519351893948023, 'loss_mse_14': 0.21596532774907826, 'loss_mse_15': 0.11692436606483123, 'loss_mse_16': 0.37570573372497146, 'loss_mse_17': 0.2627410758836167}\n",
      "Update best score : 2.2264897978938785\n",
      "Save model : model.pth\n",
      "\n",
      "epoch  12\n",
      "lr  8.82985470932547e-05\n",
      "lr  8.82985470932547e-05\n",
      "lr  8.82985470932547e-05\n",
      "lr  8.82985470932547e-05\n"
     ]
    },
    {
     "name": "stderr",
     "output_type": "stream",
     "text": [
      "100%|██████████| 677/677 [00:17<00:00, 39.57it/s]\n",
      "100%|██████████| 678/678 [00:06<00:00, 101.79it/s]\n"
     ]
    },
    {
     "name": "stdout",
     "output_type": "stream",
     "text": [
      "\n",
      "Train Loss: 1.1385\n",
      "{'loss': 1.1385165978129541, 'loss_mse_0': 0.01024115698991902, 'loss_mse_1': 0.028293453709963858, 'loss_mse_2': 0.029244656665622086, 'loss_mse_3': 0.018391768625515073, 'loss_mse_4': 0.0366402295599671, 'loss_mse_5': 0.05188601461694503, 'loss_mse_6': 0.026949127395933102, 'loss_mse_7': 0.04552146535438308, 'loss_mse_8': 0.07197010268400832, 'loss_mse_9': 0.03900742343045012, 'loss_mse_10': 0.06172154251585111, 'loss_mse_11': 0.09192151372957881, 'loss_mse_12': 0.058072508407682404, 'loss_mse_13': 0.0912406137281894, 'loss_mse_14': 0.11251197343738956, 'loss_mse_15': 0.08836491697879187, 'loss_mse_16': 0.14154980863214772, 'loss_mse_17': 0.1349883224413437}\n",
      "Valid Loss: 2.2712\n",
      "{'loss': 2.2711635773512464, 'loss_mse_0': 0.013881696015012596, 'loss_mse_1': 0.04586543162850592, 'loss_mse_2': 0.041134527527279384, 'loss_mse_3': 0.02550182731583121, 'loss_mse_4': 0.06839488586067471, 'loss_mse_5': 0.08608696124843351, 'loss_mse_6': 0.04323328541630225, 'loss_mse_7': 0.10018221232325805, 'loss_mse_8': 0.13100376458712207, 'loss_mse_9': 0.060212455772325, 'loss_mse_10': 0.15376258262358936, 'loss_mse_11': 0.17668034394538157, 'loss_mse_12': 0.09815133601471035, 'loss_mse_13': 0.23905759314926764, 'loss_mse_14': 0.22325519934999907, 'loss_mse_15': 0.13826216150701573, 'loss_mse_16': 0.35713293570420734, 'loss_mse_17': 0.2693643750716275}\n",
      "Save model : model.pth\n",
      "\n",
      "epoch  13\n",
      "lr  8.535136737043808e-05\n",
      "lr  8.535136737043808e-05\n",
      "lr  8.535136737043808e-05\n",
      "lr  8.535136737043808e-05\n"
     ]
    },
    {
     "name": "stderr",
     "output_type": "stream",
     "text": [
      "100%|██████████| 677/677 [00:16<00:00, 39.90it/s]\n",
      "100%|██████████| 678/678 [00:06<00:00, 101.71it/s]\n"
     ]
    },
    {
     "name": "stdout",
     "output_type": "stream",
     "text": [
      "\n",
      "Train Loss: 1.1519\n",
      "{'loss': 1.1518839653168682, 'loss_mse_0': 0.0116741789093563, 'loss_mse_1': 0.02887780792554469, 'loss_mse_2': 0.02766112012972992, 'loss_mse_3': 0.02157245898286384, 'loss_mse_4': 0.037874914781414686, 'loss_mse_5': 0.048933153157638305, 'loss_mse_6': 0.0316601279735059, 'loss_mse_7': 0.047915071577791186, 'loss_mse_8': 0.06745762854231249, 'loss_mse_9': 0.04524247983726432, 'loss_mse_10': 0.06457076787651465, 'loss_mse_11': 0.08601792040040257, 'loss_mse_12': 0.06566567280972198, 'loss_mse_13': 0.09460027828438419, 'loss_mse_14': 0.10552857959288085, 'loss_mse_15': 0.09661819528309598, 'loss_mse_16': 0.14258779562250373, 'loss_mse_17': 0.12742581422629173}\n",
      "Valid Loss: 2.3020\n",
      "{'loss': 2.302047446589906, 'loss_mse_0': 0.01321199827876964, 'loss_mse_1': 0.0464347576359177, 'loss_mse_2': 0.04177202341479186, 'loss_mse_3': 0.025210929086712082, 'loss_mse_4': 0.07084117709263434, 'loss_mse_5': 0.08767539697251445, 'loss_mse_6': 0.03923810806309469, 'loss_mse_7': 0.10834147274332083, 'loss_mse_8': 0.13270334774424983, 'loss_mse_9': 0.05310658553263563, 'loss_mse_10': 0.16791286691611187, 'loss_mse_11': 0.1780868402976202, 'loss_mse_12': 0.08087534734094652, 'loss_mse_13': 0.2562438792996878, 'loss_mse_14': 0.22400523418324358, 'loss_mse_15': 0.12312798764402799, 'loss_mse_16': 0.381174421564272, 'loss_mse_17': 0.27208507234082285}\n",
      "Save model : model.pth\n",
      "\n",
      "epoch  14\n",
      "lr  8.213515761740083e-05\n",
      "lr  8.213515761740083e-05\n",
      "lr  8.213515761740083e-05\n",
      "lr  8.213515761740083e-05\n"
     ]
    },
    {
     "name": "stderr",
     "output_type": "stream",
     "text": [
      "100%|██████████| 677/677 [00:16<00:00, 40.43it/s]\n",
      "100%|██████████| 678/678 [00:06<00:00, 100.18it/s]\n"
     ]
    },
    {
     "name": "stdout",
     "output_type": "stream",
     "text": [
      "\n",
      "Train Loss: 0.9300\n",
      "{'loss': 0.9300388215739759, 'loss_mse_0': 0.008943211621029833, 'loss_mse_1': 0.026935457703182845, 'loss_mse_2': 0.024784574406895583, 'loss_mse_3': 0.015598815848962838, 'loss_mse_4': 0.033461296298792874, 'loss_mse_5': 0.041872549654869154, 'loss_mse_6': 0.02212528006532718, 'loss_mse_7': 0.03998283993733422, 'loss_mse_8': 0.056279373957749394, 'loss_mse_9': 0.03209722232337672, 'loss_mse_10': 0.052044197855079806, 'loss_mse_11': 0.07028993581761461, 'loss_mse_12': 0.048037208871230856, 'loss_mse_13': 0.07508123333963457, 'loss_mse_14': 0.08585953119553438, 'loss_mse_15': 0.07583047693768623, 'loss_mse_16': 0.11652502400781327, 'loss_mse_17': 0.10429058759920354}\n",
      "Valid Loss: 2.2597\n",
      "{'loss': 2.25967669574912, 'loss_mse_0': 0.0165173553038872, 'loss_mse_1': 0.043444961002082796, 'loss_mse_2': 0.04145316638404113, 'loss_mse_3': 0.028052754617765942, 'loss_mse_4': 0.06352472094720048, 'loss_mse_5': 0.08723256160205664, 'loss_mse_6': 0.044805486528560035, 'loss_mse_7': 0.09362697455163903, 'loss_mse_8': 0.13207862294996076, 'loss_mse_9': 0.06598157384281753, 'loss_mse_10': 0.1471494141400168, 'loss_mse_11': 0.17863002324691124, 'loss_mse_12': 0.10179736010818179, 'loss_mse_13': 0.23612154339190167, 'loss_mse_14': 0.22346796195096938, 'loss_mse_15': 0.13715411911671843, 'loss_mse_16': 0.3482518603250516, 'loss_mse_17': 0.27038623893682934}\n",
      "Save model : model.pth\n",
      "\n",
      "epoch  15\n",
      "lr  7.867439513236411e-05\n",
      "lr  7.867439513236411e-05\n",
      "lr  7.867439513236411e-05\n",
      "lr  7.867439513236411e-05\n"
     ]
    },
    {
     "name": "stderr",
     "output_type": "stream",
     "text": [
      "100%|██████████| 677/677 [00:17<00:00, 39.51it/s]\n",
      "100%|██████████| 678/678 [00:06<00:00, 103.65it/s]\n"
     ]
    },
    {
     "name": "stdout",
     "output_type": "stream",
     "text": [
      "\n",
      "Train Loss: 0.7897\n",
      "{'loss': 0.7896779060715938, 'loss_mse_0': 0.008081697575311882, 'loss_mse_1': 0.025266699419333495, 'loss_mse_2': 0.022113462261087985, 'loss_mse_3': 0.013778627657178829, 'loss_mse_4': 0.029737957079167116, 'loss_mse_5': 0.03610211308836453, 'loss_mse_6': 0.019731044368969726, 'loss_mse_7': 0.033824805009345274, 'loss_mse_8': 0.04695699993587007, 'loss_mse_9': 0.0276524108756152, 'loss_mse_10': 0.042661140024926145, 'loss_mse_11': 0.058195131154045836, 'loss_mse_12': 0.04170797179223339, 'loss_mse_13': 0.06162926328933882, 'loss_mse_14': 0.07136543158942522, 'loss_mse_15': 0.06650152371885418, 'loss_mse_16': 0.09684505551624245, 'loss_mse_17': 0.08752657151182609}\n",
      "Valid Loss: 2.2273\n",
      "{'loss': 2.2273170581433623, 'loss_mse_0': 0.009849130407121352, 'loss_mse_1': 0.04416643684643395, 'loss_mse_2': 0.042731132893342315, 'loss_mse_3': 0.019982939518735383, 'loss_mse_4': 0.06402952609388679, 'loss_mse_5': 0.09083844539585763, 'loss_mse_6': 0.033278236918393135, 'loss_mse_7': 0.09232794254768233, 'loss_mse_8': 0.13871851284056902, 'loss_mse_9': 0.05491385599296089, 'loss_mse_10': 0.1427245826610147, 'loss_mse_11': 0.18548075446534826, 'loss_mse_12': 0.09466441340502736, 'loss_mse_13': 0.22300611592411643, 'loss_mse_14': 0.23209979881842932, 'loss_mse_15': 0.14282194031869502, 'loss_mse_16': 0.33828857051521805, 'loss_mse_17': 0.27739472304825236}\n",
      "Save model : model.pth\n",
      "\n",
      "epoch  16\n",
      "lr  7.499541840750456e-05\n",
      "lr  7.499541840750456e-05\n",
      "lr  7.499541840750456e-05\n",
      "lr  7.499541840750456e-05\n"
     ]
    },
    {
     "name": "stderr",
     "output_type": "stream",
     "text": [
      "100%|██████████| 677/677 [00:16<00:00, 40.34it/s]\n",
      "100%|██████████| 678/678 [00:06<00:00, 102.83it/s]\n"
     ]
    },
    {
     "name": "stdout",
     "output_type": "stream",
     "text": [
      "\n",
      "Train Loss: 0.7319\n",
      "{'loss': 0.7319460840485825, 'loss_mse_0': 0.008125205934556694, 'loss_mse_1': 0.02479738990626294, 'loss_mse_2': 0.021143320445081375, 'loss_mse_3': 0.013694725978838904, 'loss_mse_4': 0.02889052695667638, 'loss_mse_5': 0.03371587156578128, 'loss_mse_6': 0.01917811406451653, 'loss_mse_7': 0.032060118469146894, 'loss_mse_8': 0.04322548924588999, 'loss_mse_9': 0.027489065463645067, 'loss_mse_10': 0.03904736474943258, 'loss_mse_11': 0.05287891862834178, 'loss_mse_12': 0.04058573012580019, 'loss_mse_13': 0.05476993990668606, 'loss_mse_14': 0.06437415160249749, 'loss_mse_15': 0.06329406797610762, 'loss_mse_16': 0.08523588632254075, 'loss_mse_17': 0.07944019282707171}\n",
      "Valid Loss: 2.2165\n",
      "{'loss': 2.21653819998457, 'loss_mse_0': 0.010661727860418854, 'loss_mse_1': 0.0441555747924411, 'loss_mse_2': 0.04227732519610925, 'loss_mse_3': 0.019934193425190944, 'loss_mse_4': 0.06737825127351468, 'loss_mse_5': 0.08818218648944677, 'loss_mse_6': 0.03339427431831054, 'loss_mse_7': 0.09799923301484864, 'loss_mse_8': 0.1329624484565142, 'loss_mse_9': 0.053513341767378264, 'loss_mse_10': 0.15034137741912562, 'loss_mse_11': 0.17899762561055763, 'loss_mse_12': 0.08438371178477036, 'loss_mse_13': 0.2337224827227691, 'loss_mse_14': 0.2230887356815876, 'loss_mse_15': 0.13207811924867927, 'loss_mse_16': 0.35330133334868163, 'loss_mse_17': 0.2701662482314669}\n",
      "Update best score : 2.21653819998457\n",
      "Save model : model.pth\n",
      "\n",
      "epoch  17\n",
      "lr  7.112622667712525e-05\n",
      "lr  7.112622667712525e-05\n",
      "lr  7.112622667712525e-05\n",
      "lr  7.112622667712525e-05\n"
     ]
    },
    {
     "name": "stderr",
     "output_type": "stream",
     "text": [
      "100%|██████████| 677/677 [00:16<00:00, 40.43it/s]\n",
      "100%|██████████| 678/678 [00:06<00:00, 100.67it/s]\n"
     ]
    },
    {
     "name": "stdout",
     "output_type": "stream",
     "text": [
      "\n",
      "Train Loss: 0.6747\n",
      "{'loss': 0.6747141280149603, 'loss_mse_0': 0.007676082648965564, 'loss_mse_1': 0.023604175585571076, 'loss_mse_2': 0.019771913272855553, 'loss_mse_3': 0.012915133032259949, 'loss_mse_4': 0.02718356551610737, 'loss_mse_5': 0.030372237128396814, 'loss_mse_6': 0.017957516250157925, 'loss_mse_7': 0.030089688873911714, 'loss_mse_8': 0.03803547402153251, 'loss_mse_9': 0.02482749115499603, 'loss_mse_10': 0.037088421383182045, 'loss_mse_11': 0.046439459389199446, 'loss_mse_12': 0.037428729815279276, 'loss_mse_13': 0.05246634300154368, 'loss_mse_14': 0.0571052722957541, 'loss_mse_15': 0.05859047989945644, 'loss_mse_16': 0.08208312511449595, 'loss_mse_17': 0.0710790236748788}\n",
      "Valid Loss: 2.1838\n",
      "{'loss': 2.1838216618099042, 'loss_mse_0': 0.011950049116990493, 'loss_mse_1': 0.042982568818070326, 'loss_mse_2': 0.041613115296509545, 'loss_mse_3': 0.02289727467639718, 'loss_mse_4': 0.06307161056812974, 'loss_mse_5': 0.0866695965329806, 'loss_mse_6': 0.03830170365198787, 'loss_mse_7': 0.0918832621372313, 'loss_mse_8': 0.13112094853029402, 'loss_mse_9': 0.06139573108976306, 'loss_mse_10': 0.14346431220736036, 'loss_mse_11': 0.17705611287888173, 'loss_mse_12': 0.08361087324905449, 'loss_mse_13': 0.22740688887328614, 'loss_mse_14': 0.2218104485466329, 'loss_mse_15': 0.12474419433722454, 'loss_mse_16': 0.3456848928468593, 'loss_mse_17': 0.2681580852156719}\n",
      "Update best score : 2.1838216618099042\n",
      "Save model : model.pth\n",
      "\n",
      "epoch  18\n",
      "lr  6.709626682657622e-05\n",
      "lr  6.709626682657622e-05\n",
      "lr  6.709626682657622e-05\n",
      "lr  6.709626682657622e-05\n"
     ]
    },
    {
     "name": "stderr",
     "output_type": "stream",
     "text": [
      "100%|██████████| 677/677 [00:16<00:00, 40.25it/s]\n",
      "100%|██████████| 678/678 [00:06<00:00, 103.60it/s]\n"
     ]
    },
    {
     "name": "stdout",
     "output_type": "stream",
     "text": [
      "\n",
      "Train Loss: 0.5952\n",
      "{'loss': 0.5951770213453245, 'loss_mse_0': 0.006945652877595523, 'loss_mse_1': 0.0230746166488263, 'loss_mse_2': 0.01845695521129485, 'loss_mse_3': 0.011271439674289752, 'loss_mse_4': 0.02540601606575698, 'loss_mse_5': 0.027700929974028333, 'loss_mse_6': 0.015184347034243529, 'loss_mse_7': 0.027207979781792513, 'loss_mse_8': 0.03436862873023533, 'loss_mse_9': 0.021423125517123998, 'loss_mse_10': 0.032056591846323965, 'loss_mse_11': 0.04130454213280049, 'loss_mse_12': 0.03202589236865676, 'loss_mse_13': 0.044403407784616315, 'loss_mse_14': 0.050564442937327016, 'loss_mse_15': 0.05076449767492459, 'loss_mse_16': 0.06962968051251976, 'loss_mse_17': 0.06338827616288883}\n",
      "Valid Loss: 2.0669\n",
      "{'loss': 2.06693426767985, 'loss_mse_0': 0.008042366632121645, 'loss_mse_1': 0.043086787915491885, 'loss_mse_2': 0.04149812651429996, 'loss_mse_3': 0.01589131515142082, 'loss_mse_4': 0.06280899703829579, 'loss_mse_5': 0.08586311713410515, 'loss_mse_6': 0.02559900715614732, 'loss_mse_7': 0.0910695872302538, 'loss_mse_8': 0.12922773488239553, 'loss_mse_9': 0.04253211316987762, 'loss_mse_10': 0.1405829879095377, 'loss_mse_11': 0.1733079215671021, 'loss_mse_12': 0.06849766292699934, 'loss_mse_13': 0.21863774234939992, 'loss_mse_14': 0.21704102192722416, 'loss_mse_15': 0.11040840158651097, 'loss_mse_16': 0.3305573994211391, 'loss_mse_17': 0.2622819844424549}\n",
      "Update best score : 2.06693426767985\n",
      "Save model : model.pth\n",
      "\n",
      "epoch  19\n",
      "lr  6.293620928367642e-05\n",
      "lr  6.293620928367642e-05\n",
      "lr  6.293620928367642e-05\n",
      "lr  6.293620928367642e-05\n"
     ]
    },
    {
     "name": "stderr",
     "output_type": "stream",
     "text": [
      "100%|██████████| 677/677 [00:16<00:00, 40.28it/s]\n",
      "100%|██████████| 678/678 [00:06<00:00, 104.00it/s]\n"
     ]
    },
    {
     "name": "stdout",
     "output_type": "stream",
     "text": [
      "\n",
      "Train Loss: 0.4907\n",
      "{'loss': 0.49066680544324254, 'loss_mse_0': 0.0061924559916431525, 'loss_mse_1': 0.021582657563468464, 'loss_mse_2': 0.01699258410234274, 'loss_mse_3': 0.009712233686162107, 'loss_mse_4': 0.023016683733231076, 'loss_mse_5': 0.023992301103145854, 'loss_mse_6': 0.012681142732423992, 'loss_mse_7': 0.023606905699232964, 'loss_mse_8': 0.02823356287608933, 'loss_mse_9': 0.016728671449215936, 'loss_mse_10': 0.026191607883208304, 'loss_mse_11': 0.03321190217187961, 'loss_mse_12': 0.024849023670645946, 'loss_mse_13': 0.035059368327958855, 'loss_mse_14': 0.04031027890906905, 'loss_mse_15': 0.04094869682931257, 'loss_mse_16': 0.05606876600649279, 'loss_mse_17': 0.05128796254745526}\n",
      "Valid Loss: 2.0662\n",
      "{'loss': 2.066158181886054, 'loss_mse_0': 0.008336877656821024, 'loss_mse_1': 0.04383367487328308, 'loss_mse_2': 0.041867969946380826, 'loss_mse_3': 0.016842742759602524, 'loss_mse_4': 0.06393120597476541, 'loss_mse_5': 0.08676709626474388, 'loss_mse_6': 0.026849022374837318, 'loss_mse_7': 0.09080280963356187, 'loss_mse_8': 0.13080098979438828, 'loss_mse_9': 0.04279969787708646, 'loss_mse_10': 0.1389392321506257, 'loss_mse_11': 0.17529114206653956, 'loss_mse_12': 0.0696181715163883, 'loss_mse_13': 0.2149605581641285, 'loss_mse_14': 0.2180071742408483, 'loss_mse_15': 0.10978035147200203, 'loss_mse_16': 0.3235921744905566, 'loss_mse_17': 0.2631372930564448}\n",
      "Update best score : 2.066158181886054\n",
      "Save model : model.pth\n",
      "\n",
      "epoch  20\n",
      "lr  5.867771459823876e-05\n",
      "lr  5.867771459823876e-05\n",
      "lr  5.867771459823876e-05\n",
      "lr  5.867771459823876e-05\n"
     ]
    },
    {
     "name": "stderr",
     "output_type": "stream",
     "text": [
      "100%|██████████| 677/677 [00:16<00:00, 40.16it/s]\n",
      "100%|██████████| 678/678 [00:06<00:00, 102.46it/s]\n"
     ]
    },
    {
     "name": "stdout",
     "output_type": "stream",
     "text": [
      "\n",
      "Train Loss: 0.4402\n",
      "{'loss': 0.4401530083296394, 'loss_mse_0': 0.005760316018729114, 'loss_mse_1': 0.020754377845677505, 'loss_mse_2': 0.01593934345861107, 'loss_mse_3': 0.008912030291403788, 'loss_mse_4': 0.021160560322339417, 'loss_mse_5': 0.022131999418761258, 'loss_mse_6': 0.011261283620184994, 'loss_mse_7': 0.020488998025210033, 'loss_mse_8': 0.02559000891571427, 'loss_mse_9': 0.014911087624662648, 'loss_mse_10': 0.02235657609572725, 'loss_mse_11': 0.02941316613195632, 'loss_mse_12': 0.021780828723857285, 'loss_mse_13': 0.03038891748851234, 'loss_mse_14': 0.03618831169327922, 'loss_mse_15': 0.03601387354161486, 'loss_mse_16': 0.050352067833813116, 'loss_mse_17': 0.04674926052692634}\n",
      "Valid Loss: 2.0954\n",
      "{'loss': 2.0954212148984275, 'loss_mse_0': 0.00811708189020274, 'loss_mse_1': 0.04379537501039291, 'loss_mse_2': 0.041693786255998816, 'loss_mse_3': 0.014921037692117854, 'loss_mse_4': 0.06563096688469669, 'loss_mse_5': 0.08621215414129484, 'loss_mse_6': 0.024614088789485726, 'loss_mse_7': 0.09620967493832089, 'loss_mse_8': 0.13006021028554896, 'loss_mse_9': 0.041256756564344015, 'loss_mse_10': 0.14718594971376645, 'loss_mse_11': 0.17471996621176555, 'loss_mse_12': 0.06939892786772026, 'loss_mse_13': 0.22393114837903014, 'loss_mse_14': 0.21833827752608992, 'loss_mse_15': 0.11126037293654979, 'loss_mse_16': 0.3347322941650595, 'loss_mse_17': 0.26334313651585295}\n",
      "Save model : model.pth\n",
      "\n",
      "epoch  21\n",
      "lr  5.4353192486168775e-05\n",
      "lr  5.4353192486168775e-05\n",
      "lr  5.4353192486168775e-05\n",
      "lr  5.4353192486168775e-05\n"
     ]
    },
    {
     "name": "stderr",
     "output_type": "stream",
     "text": [
      "100%|██████████| 677/677 [00:16<00:00, 40.24it/s]\n",
      "100%|██████████| 678/678 [00:06<00:00, 100.66it/s]\n"
     ]
    },
    {
     "name": "stdout",
     "output_type": "stream",
     "text": [
      "\n",
      "Train Loss: 0.4179\n",
      "{'loss': 0.4178630493504258, 'loss_mse_0': 0.005439607364103539, 'loss_mse_1': 0.019733897260386095, 'loss_mse_2': 0.015522674409785423, 'loss_mse_3': 0.008658860386053494, 'loss_mse_4': 0.01989516801375516, 'loss_mse_5': 0.02115278467989941, 'loss_mse_6': 0.011070231826077635, 'loss_mse_7': 0.019814836342118825, 'loss_mse_8': 0.024236433327671256, 'loss_mse_9': 0.014440731686420266, 'loss_mse_10': 0.021721865561552776, 'loss_mse_11': 0.02801662903936632, 'loss_mse_12': 0.020958515244537478, 'loss_mse_13': 0.028564002775508728, 'loss_mse_14': 0.03413274334784889, 'loss_mse_15': 0.0339045749490247, 'loss_mse_16': 0.04611708700761441, 'loss_mse_17': 0.044482406575447345}\n",
      "Valid Loss: 2.0559\n",
      "{'loss': 2.0559213379491394, 'loss_mse_0': 0.007524397941395519, 'loss_mse_1': 0.043515381118925535, 'loss_mse_2': 0.04188354055680181, 'loss_mse_3': 0.014930234695880902, 'loss_mse_4': 0.06326854267572452, 'loss_mse_5': 0.08661657587726736, 'loss_mse_6': 0.024051164259040688, 'loss_mse_7': 0.08984647710549379, 'loss_mse_8': 0.13064432021362327, 'loss_mse_9': 0.03995572756508854, 'loss_mse_10': 0.13771701604539974, 'loss_mse_11': 0.1760281921477005, 'loss_mse_12': 0.06691226475270448, 'loss_mse_13': 0.21405139565742562, 'loss_mse_14': 0.21970876611791176, 'loss_mse_15': 0.11007230289027667, 'loss_mse_16': 0.32483123292580557, 'loss_mse_17': 0.2643638096508023}\n",
      "Update best score : 2.0559213379491394\n",
      "Save model : model.pth\n",
      "\n",
      "epoch  22\n",
      "lr  4.999555517195721e-05\n",
      "lr  4.999555517195721e-05\n",
      "lr  4.999555517195721e-05\n",
      "lr  4.999555517195721e-05\n"
     ]
    },
    {
     "name": "stderr",
     "output_type": "stream",
     "text": [
      "100%|██████████| 677/677 [00:17<00:00, 39.82it/s]\n",
      "100%|██████████| 678/678 [00:06<00:00, 102.73it/s]\n"
     ]
    },
    {
     "name": "stdout",
     "output_type": "stream",
     "text": [
      "\n",
      "Train Loss: 0.3873\n",
      "{'loss': 0.3872997341691303, 'loss_mse_0': 0.004937158540019179, 'loss_mse_1': 0.019361309722984867, 'loss_mse_2': 0.015117743377886064, 'loss_mse_3': 0.0074697609174380316, 'loss_mse_4': 0.019363462468237787, 'loss_mse_5': 0.020559694578780336, 'loss_mse_6': 0.009315604924539344, 'loss_mse_7': 0.018480881889030184, 'loss_mse_8': 0.023257514203250673, 'loss_mse_9': 0.012026493253593541, 'loss_mse_10': 0.019542502268923217, 'loss_mse_11': 0.026592959682188895, 'loss_mse_12': 0.01767471914098459, 'loss_mse_13': 0.026122765239339152, 'loss_mse_14': 0.032500921247837905, 'loss_mse_15': 0.029626868369451213, 'loss_mse_16': 0.04287868188185125, 'loss_mse_17': 0.042470692279315284}\n",
      "Valid Loss: 2.0814\n",
      "{'loss': 2.0813819168239918, 'loss_mse_0': 0.011784268573000698, 'loss_mse_1': 0.0433122422147795, 'loss_mse_2': 0.041916646184207415, 'loss_mse_3': 0.021744741237815744, 'loss_mse_4': 0.06299751932845399, 'loss_mse_5': 0.08568349928707764, 'loss_mse_6': 0.030987954171028283, 'loss_mse_7': 0.09155030272060395, 'loss_mse_8': 0.12901789043373416, 'loss_mse_9': 0.04719477173237674, 'loss_mse_10': 0.13990634386523854, 'loss_mse_11': 0.17258789711755462, 'loss_mse_12': 0.07109077295678555, 'loss_mse_13': 0.21813018932103406, 'loss_mse_14': 0.21496003320589002, 'loss_mse_15': 0.10920380871292412, 'loss_mse_16': 0.32894133775602136, 'loss_mse_17': 0.2603717000830842}\n",
      "Save model : model.pth\n",
      "\n",
      "epoch  23\n",
      "lr  4.563796690677853e-05\n",
      "lr  4.563796690677853e-05\n",
      "lr  4.563796690677853e-05\n",
      "lr  4.563796690677853e-05\n"
     ]
    },
    {
     "name": "stderr",
     "output_type": "stream",
     "text": [
      "100%|██████████| 677/677 [00:16<00:00, 40.78it/s]\n",
      "100%|██████████| 678/678 [00:06<00:00, 103.36it/s]\n"
     ]
    },
    {
     "name": "stdout",
     "output_type": "stream",
     "text": [
      "\n",
      "Train Loss: 0.3567\n",
      "{'loss': 0.3566893025066159, 'loss_mse_0': 0.004701334387449165, 'loss_mse_1': 0.018033995961308193, 'loss_mse_2': 0.014508719445980723, 'loss_mse_3': 0.007111481024795645, 'loss_mse_4': 0.017348373786820047, 'loss_mse_5': 0.019280837384496912, 'loss_mse_6': 0.008609485529442944, 'loss_mse_7': 0.016575300739665393, 'loss_mse_8': 0.02133247644146643, 'loss_mse_9': 0.01104965679928044, 'loss_mse_10': 0.017575572017838895, 'loss_mse_11': 0.024359101298893838, 'loss_mse_12': 0.016011281048348022, 'loss_mse_13': 0.023500983519383335, 'loss_mse_14': 0.02997782407809968, 'loss_mse_15': 0.027749657758856894, 'loss_mse_16': 0.03914447699672098, 'loss_mse_17': 0.03981874419577101}\n",
      "Valid Loss: 2.0280\n",
      "{'loss': 2.0279989822775915, 'loss_mse_0': 0.007772628336754741, 'loss_mse_1': 0.043320807477577446, 'loss_mse_2': 0.041264808824654, 'loss_mse_3': 0.01443160084456722, 'loss_mse_4': 0.06204635002080263, 'loss_mse_5': 0.08437567043384664, 'loss_mse_6': 0.024461006619321914, 'loss_mse_7': 0.08950486656547604, 'loss_mse_8': 0.12766459805390915, 'loss_mse_9': 0.040215362726702494, 'loss_mse_10': 0.13811479373367994, 'loss_mse_11': 0.170827649465067, 'loss_mse_12': 0.0673920283077565, 'loss_mse_13': 0.21430349929098885, 'loss_mse_14': 0.2133334424665368, 'loss_mse_15': 0.10783864091532332, 'loss_mse_16': 0.32352941313753, 'loss_mse_17': 0.2576018119489109}\n",
      "Update best score : 2.0279989822775915\n",
      "Save model : model.pth\n",
      "\n",
      "epoch  24\n",
      "lr  4.131359156851449e-05\n",
      "lr  4.131359156851449e-05\n",
      "lr  4.131359156851449e-05\n",
      "lr  4.131359156851449e-05\n"
     ]
    },
    {
     "name": "stderr",
     "output_type": "stream",
     "text": [
      "100%|██████████| 677/677 [00:16<00:00, 40.53it/s]\n",
      "100%|██████████| 678/678 [00:06<00:00, 101.76it/s]\n"
     ]
    },
    {
     "name": "stdout",
     "output_type": "stream",
     "text": [
      "\n",
      "Train Loss: 0.3049\n",
      "{'loss': 0.30490733800865877, 'loss_mse_0': 0.004194019784486441, 'loss_mse_1': 0.016727716340428904, 'loss_mse_2': 0.013585728755154739, 'loss_mse_3': 0.006146254832340484, 'loss_mse_4': 0.01573514871497362, 'loss_mse_5': 0.017182241494876044, 'loss_mse_6': 0.0074487895171049335, 'loss_mse_7': 0.014817354199510932, 'loss_mse_8': 0.018305372629738366, 'loss_mse_9': 0.009226653950517251, 'loss_mse_10': 0.01518264840607376, 'loss_mse_11': 0.019946516764197536, 'loss_mse_12': 0.01342729304778215, 'loss_mse_13': 0.019824484002087236, 'loss_mse_14': 0.02423023892273546, 'loss_mse_15': 0.023069272941030682, 'loss_mse_16': 0.03338129665465968, 'loss_mse_17': 0.03247630542578888}\n",
      "Valid Loss: 2.0202\n",
      "{'loss': 2.020173910268992, 'loss_mse_0': 0.007144402974775572, 'loss_mse_1': 0.04277407168857149, 'loss_mse_2': 0.04130047872994963, 'loss_mse_3': 0.01359399501062589, 'loss_mse_4': 0.06238599416420721, 'loss_mse_5': 0.08489930665719386, 'loss_mse_6': 0.022089208573773285, 'loss_mse_7': 0.08975135219478458, 'loss_mse_8': 0.12773372461761082, 'loss_mse_9': 0.03842561399415795, 'loss_mse_10': 0.13825002981206969, 'loss_mse_11': 0.17111687855053265, 'loss_mse_12': 0.06455967382453712, 'loss_mse_13': 0.2145432240239023, 'loss_mse_14': 0.21379154117827395, 'loss_mse_15': 0.10518947774736667, 'loss_mse_16': 0.3241370919910548, 'loss_mse_17': 0.25848783949901044}\n",
      "Update best score : 2.020173910268992\n",
      "Save model : model.pth\n",
      "\n",
      "epoch  25\n",
      "lr  3.705534026461852e-05\n",
      "lr  3.705534026461852e-05\n",
      "lr  3.705534026461852e-05\n",
      "lr  3.705534026461852e-05\n"
     ]
    },
    {
     "name": "stderr",
     "output_type": "stream",
     "text": [
      "100%|██████████| 677/677 [00:16<00:00, 40.41it/s]\n",
      "100%|██████████| 678/678 [00:06<00:00, 101.54it/s]\n"
     ]
    },
    {
     "name": "stdout",
     "output_type": "stream",
     "text": [
      "\n",
      "Train Loss: 0.2787\n",
      "{'loss': 0.2787184557455153, 'loss_mse_0': 0.0040940353179149645, 'loss_mse_1': 0.014997315484042689, 'loss_mse_2': 0.012932070151268555, 'loss_mse_3': 0.006004750802548963, 'loss_mse_4': 0.014409542366438594, 'loss_mse_5': 0.01593700780098545, 'loss_mse_6': 0.006952234408701254, 'loss_mse_7': 0.013253288076326603, 'loss_mse_8': 0.016739310856297766, 'loss_mse_9': 0.0086673736517927, 'loss_mse_10': 0.01326779758680111, 'loss_mse_11': 0.018321374399612275, 'loss_mse_12': 0.012510662150749472, 'loss_mse_13': 0.016784413714591894, 'loss_mse_14': 0.022679749729752847, 'loss_mse_15': 0.021254180116163486, 'loss_mse_16': 0.028820301248572294, 'loss_mse_17': 0.031093048133324704}\n",
      "Valid Loss: 2.0207\n",
      "{'loss': 2.020734347337115, 'loss_mse_0': 0.007155027663421743, 'loss_mse_1': 0.04344387745737458, 'loss_mse_2': 0.041371909558778536, 'loss_mse_3': 0.013442710719543859, 'loss_mse_4': 0.06288013687552363, 'loss_mse_5': 0.0850822556802349, 'loss_mse_6': 0.022534574393682994, 'loss_mse_7': 0.08994192673734068, 'loss_mse_8': 0.12754022421254874, 'loss_mse_9': 0.03800853366680597, 'loss_mse_10': 0.13770685449879957, 'loss_mse_11': 0.1708951186179939, 'loss_mse_12': 0.06437039649482146, 'loss_mse_13': 0.21512891445858376, 'loss_mse_14': 0.2129361417177504, 'loss_mse_15': 0.10475642632989757, 'loss_mse_16': 0.3265026268936628, 'loss_mse_17': 0.2570366832238119}\n",
      "Save model : model.pth\n",
      "\n",
      "epoch  26\n",
      "lr  3.289562085871569e-05\n",
      "lr  3.289562085871569e-05\n",
      "lr  3.289562085871569e-05\n",
      "lr  3.289562085871569e-05\n"
     ]
    },
    {
     "name": "stderr",
     "output_type": "stream",
     "text": [
      "100%|██████████| 677/677 [00:16<00:00, 39.84it/s]\n",
      "100%|██████████| 678/678 [00:06<00:00, 102.45it/s]\n"
     ]
    },
    {
     "name": "stdout",
     "output_type": "stream",
     "text": [
      "\n",
      "Train Loss: 0.2643\n",
      "{'loss': 0.2643319312785718, 'loss_mse_0': 0.00380486105771617, 'loss_mse_1': 0.01407615301038305, 'loss_mse_2': 0.012811487523750836, 'loss_mse_3': 0.005570046340584469, 'loss_mse_4': 0.012738375551723483, 'loss_mse_5': 0.015861587680771706, 'loss_mse_6': 0.0064269531140945845, 'loss_mse_7': 0.011825122104949445, 'loss_mse_8': 0.016682555634897074, 'loss_mse_9': 0.00778402739542879, 'loss_mse_10': 0.012039674073182585, 'loss_mse_11': 0.01818121812977667, 'loss_mse_12': 0.011106519880766486, 'loss_mse_13': 0.015742871217344346, 'loss_mse_14': 0.022562546338101896, 'loss_mse_15': 0.019140759468535332, 'loss_mse_16': 0.02733358611494435, 'loss_mse_17': 0.03064358713754633}\n",
      "Valid Loss: 1.9905\n",
      "{'loss': 1.9904649757881783, 'loss_mse_0': 0.007130975941310095, 'loss_mse_1': 0.04313983443566766, 'loss_mse_2': 0.04109699248163178, 'loss_mse_3': 0.01361356224283675, 'loss_mse_4': 0.06347068200701061, 'loss_mse_5': 0.08415465247006895, 'loss_mse_6': 0.022250096555071222, 'loss_mse_7': 0.09040286882222798, 'loss_mse_8': 0.12605489803077022, 'loss_mse_9': 0.03800638997377855, 'loss_mse_10': 0.1364820294073923, 'loss_mse_11': 0.16890816778977535, 'loss_mse_12': 0.0629228486206965, 'loss_mse_13': 0.20926945492251608, 'loss_mse_14': 0.2106733818519256, 'loss_mse_15': 0.10375922213096973, 'loss_mse_16': 0.315071325001903, 'loss_mse_17': 0.2540575935008076}\n",
      "Update best score : 1.9904649757881783\n",
      "Save model : model.pth\n",
      "\n",
      "epoch  27\n",
      "lr  2.8866091327192165e-05\n",
      "lr  2.8866091327192165e-05\n",
      "lr  2.8866091327192165e-05\n",
      "lr  2.8866091327192165e-05\n"
     ]
    },
    {
     "name": "stderr",
     "output_type": "stream",
     "text": [
      "100%|██████████| 677/677 [00:16<00:00, 40.77it/s]\n",
      "100%|██████████| 678/678 [00:06<00:00, 103.08it/s]\n"
     ]
    },
    {
     "name": "stdout",
     "output_type": "stream",
     "text": [
      "\n",
      "Train Loss: 0.2289\n",
      "{'loss': 0.2288625170552396, 'loss_mse_0': 0.0034575974257481305, 'loss_mse_1': 0.0129389869867022, 'loss_mse_2': 0.012032943502263863, 'loss_mse_3': 0.0049097916909921335, 'loss_mse_4': 0.011606913858865068, 'loss_mse_5': 0.014349723100301809, 'loss_mse_6': 0.005546778655594471, 'loss_mse_7': 0.010697247462547996, 'loss_mse_8': 0.014408944394065279, 'loss_mse_9': 0.006742487234225774, 'loss_mse_10': 0.010551147573549118, 'loss_mse_11': 0.014962356411707498, 'loss_mse_12': 0.009591731509025947, 'loss_mse_13': 0.013034170184991539, 'loss_mse_14': 0.01852108176007999, 'loss_mse_15': 0.016867309748889822, 'loss_mse_16': 0.022534629394695097, 'loss_mse_17': 0.02610867466582219}\n",
      "Valid Loss: 1.9690\n",
      "{'loss': 1.9690492169871092, 'loss_mse_0': 0.006731368004135612, 'loss_mse_1': 0.043693843142439924, 'loss_mse_2': 0.040766725670353984, 'loss_mse_3': 0.012796055268328691, 'loss_mse_4': 0.06250549193092547, 'loss_mse_5': 0.08341862852781308, 'loss_mse_6': 0.020945124616942597, 'loss_mse_7': 0.08816730560237614, 'loss_mse_8': 0.12496439327972125, 'loss_mse_9': 0.036048108524337936, 'loss_mse_10': 0.13464803798852218, 'loss_mse_11': 0.16775691697434425, 'loss_mse_12': 0.06083839430383085, 'loss_mse_13': 0.20859580606793585, 'loss_mse_14': 0.20921139171825046, 'loss_mse_15': 0.10076261404901743, 'loss_mse_16': 0.31467587190919216, 'loss_mse_17': 0.2525231357290242}\n",
      "Update best score : 1.9690492169871092\n",
      "Save model : model.pth\n",
      "\n",
      "epoch  28\n",
      "lr  2.4997418822879262e-05\n",
      "lr  2.4997418822879262e-05\n",
      "lr  2.4997418822879262e-05\n",
      "lr  2.4997418822879262e-05\n"
     ]
    },
    {
     "name": "stderr",
     "output_type": "stream",
     "text": [
      "100%|██████████| 677/677 [00:16<00:00, 40.08it/s]\n",
      "100%|██████████| 678/678 [00:06<00:00, 102.29it/s]\n"
     ]
    },
    {
     "name": "stdout",
     "output_type": "stream",
     "text": [
      "\n",
      "Train Loss: 0.2124\n",
      "{'loss': 0.21238771325288178, 'loss_mse_0': 0.0032602796201907825, 'loss_mse_1': 0.011461940414837645, 'loss_mse_2': 0.011843857692108878, 'loss_mse_3': 0.0045554176718546864, 'loss_mse_4': 0.010267526093606275, 'loss_mse_5': 0.013669665757032934, 'loss_mse_6': 0.005213163090812006, 'loss_mse_7': 0.009676144275734506, 'loss_mse_8': 0.013685158136447939, 'loss_mse_9': 0.006064249484791548, 'loss_mse_10': 0.009496048631413428, 'loss_mse_11': 0.01410448319791779, 'loss_mse_12': 0.008557801271418723, 'loss_mse_13': 0.0122906016732705, 'loss_mse_14': 0.017381890777338906, 'loss_mse_15': 0.015153690555615782, 'loss_mse_16': 0.021255593806053987, 'loss_mse_17': 0.024450201324518753}\n",
      "Valid Loss: 1.9829\n",
      "{'loss': 1.982916385111204, 'loss_mse_0': 0.006783023997894035, 'loss_mse_1': 0.04315178376446673, 'loss_mse_2': 0.04050805718173715, 'loss_mse_3': 0.012976015971185074, 'loss_mse_4': 0.0629107779582858, 'loss_mse_5': 0.08298098511862016, 'loss_mse_6': 0.021967278892355682, 'loss_mse_7': 0.08918101447950334, 'loss_mse_8': 0.12454368675177076, 'loss_mse_9': 0.03711293836791826, 'loss_mse_10': 0.1359623844150157, 'loss_mse_11': 0.167059002963381, 'loss_mse_12': 0.06214676140519106, 'loss_mse_13': 0.21150010532718755, 'loss_mse_14': 0.20863178966891097, 'loss_mse_15': 0.10356893883825755, 'loss_mse_16': 0.3193936840683266, 'loss_mse_17': 0.2525381686435161}\n",
      "Save model : model.pth\n",
      "\n",
      "epoch  29\n",
      "lr  2.1319046279503196e-05\n",
      "lr  2.1319046279503196e-05\n",
      "lr  2.1319046279503196e-05\n",
      "lr  2.1319046279503196e-05\n"
     ]
    },
    {
     "name": "stderr",
     "output_type": "stream",
     "text": [
      "100%|██████████| 677/677 [00:16<00:00, 40.66it/s]\n",
      "100%|██████████| 678/678 [00:06<00:00, 102.60it/s]\n"
     ]
    },
    {
     "name": "stdout",
     "output_type": "stream",
     "text": [
      "\n",
      "Train Loss: 0.1972\n",
      "{'loss': 0.19720765303385662, 'loss_mse_0': 0.0031270438872629904, 'loss_mse_1': 0.011291260377433773, 'loss_mse_2': 0.01147930375149025, 'loss_mse_3': 0.004273916477409014, 'loss_mse_4': 0.009707726330112562, 'loss_mse_5': 0.013195136978471187, 'loss_mse_6': 0.0046986194578187875, 'loss_mse_7': 0.008787441656180551, 'loss_mse_8': 0.012805659389274643, 'loss_mse_9': 0.005439716314400328, 'loss_mse_10': 0.008557999213233018, 'loss_mse_11': 0.013193175581488841, 'loss_mse_12': 0.007613898885671594, 'loss_mse_13': 0.010672190926138152, 'loss_mse_14': 0.016319794545948858, 'loss_mse_15': 0.01368107497822796, 'loss_mse_16': 0.01894992177183444, 'loss_mse_17': 0.02341377248222688}\n",
      "Valid Loss: 1.9883\n",
      "{'loss': 1.9883491335365273, 'loss_mse_0': 0.006992016050821736, 'loss_mse_1': 0.042716339226416516, 'loss_mse_2': 0.04077151111755685, 'loss_mse_3': 0.013053744079773163, 'loss_mse_4': 0.06259568356276987, 'loss_mse_5': 0.08345801582158843, 'loss_mse_6': 0.020907142850677525, 'loss_mse_7': 0.08952670213271889, 'loss_mse_8': 0.12504413572846085, 'loss_mse_9': 0.03638458603122176, 'loss_mse_10': 0.13690910145577187, 'loss_mse_11': 0.1679102920550732, 'loss_mse_12': 0.06216730469986137, 'loss_mse_13': 0.2133836201337169, 'loss_mse_14': 0.20965709165288107, 'loss_mse_15': 0.10332383852517973, 'loss_mse_16': 0.3210572145143002, 'loss_mse_17': 0.25249080142901886}\n",
      "Save model : model.pth\n",
      "\n",
      "epoch  30\n",
      "lr  1.785896833318108e-05\n",
      "lr  1.785896833318108e-05\n",
      "lr  1.785896833318108e-05\n",
      "lr  1.785896833318108e-05\n"
     ]
    },
    {
     "name": "stderr",
     "output_type": "stream",
     "text": [
      "100%|██████████| 677/677 [00:16<00:00, 40.29it/s]\n",
      "100%|██████████| 678/678 [00:06<00:00, 102.74it/s]\n"
     ]
    },
    {
     "name": "stdout",
     "output_type": "stream",
     "text": [
      "\n",
      "Train Loss: 0.1920\n",
      "{'loss': 0.1920159346750075, 'loss_mse_0': 0.0033276764978792247, 'loss_mse_1': 0.010739669549393096, 'loss_mse_2': 0.011089976568826015, 'loss_mse_3': 0.004898591047191396, 'loss_mse_4': 0.008754828040649016, 'loss_mse_5': 0.01252364723646031, 'loss_mse_6': 0.00540256218096046, 'loss_mse_7': 0.008060137538701582, 'loss_mse_8': 0.012005015485129007, 'loss_mse_9': 0.006288984981833227, 'loss_mse_10': 0.00810648772921936, 'loss_mse_11': 0.012082099133519184, 'loss_mse_12': 0.008652417699048403, 'loss_mse_13': 0.010382694806463389, 'loss_mse_14': 0.014940661445956132, 'loss_mse_15': 0.014641376784170374, 'loss_mse_16': 0.018523465541426636, 'loss_mse_17': 0.02159564337449663}\n",
      "Valid Loss: 1.9665\n",
      "{'loss': 1.9665412100191313, 'loss_mse_0': 0.006791143383312926, 'loss_mse_1': 0.04345962705240368, 'loss_mse_2': 0.040600817257010965, 'loss_mse_3': 0.012871136452046643, 'loss_mse_4': 0.06263418477660479, 'loss_mse_5': 0.08337903913566541, 'loss_mse_6': 0.021325383101834485, 'loss_mse_7': 0.088361017278239, 'loss_mse_8': 0.12446277227340634, 'loss_mse_9': 0.03571933180720142, 'loss_mse_10': 0.13402263887410648, 'loss_mse_11': 0.16693106448898712, 'loss_mse_12': 0.061393634881824255, 'loss_mse_13': 0.20755126196094362, 'loss_mse_14': 0.20832224324301632, 'loss_mse_15': 0.10234450415644937, 'loss_mse_16': 0.3149413234749287, 'loss_mse_17': 0.25143008622557894}\n",
      "Update best score : 1.9665412100191313\n",
      "Save model : model.pth\n",
      "\n",
      "epoch  31\n",
      "lr  1.4643518266336616e-05\n",
      "lr  1.4643518266336616e-05\n",
      "lr  1.4643518266336616e-05\n",
      "lr  1.4643518266336616e-05\n"
     ]
    },
    {
     "name": "stderr",
     "output_type": "stream",
     "text": [
      "100%|██████████| 677/677 [00:17<00:00, 39.49it/s]\n",
      "100%|██████████| 678/678 [00:06<00:00, 105.66it/s]\n"
     ]
    },
    {
     "name": "stdout",
     "output_type": "stream",
     "text": [
      "\n",
      "Train Loss: 0.1677\n",
      "{'loss': 0.16769371501980362, 'loss_mse_0': 0.002849039396472644, 'loss_mse_1': 0.009691107079787029, 'loss_mse_2': 0.010676317491968942, 'loss_mse_3': 0.0038296073650049825, 'loss_mse_4': 0.008196366082827396, 'loss_mse_5': 0.01165255031959763, 'loss_mse_6': 0.004065878115466451, 'loss_mse_7': 0.007526600376415332, 'loss_mse_8': 0.010676642699632106, 'loss_mse_9': 0.004649816938996469, 'loss_mse_10': 0.007163443563415213, 'loss_mse_11': 0.01039459789103032, 'loss_mse_12': 0.006562388608675103, 'loss_mse_13': 0.009155611120002067, 'loss_mse_14': 0.012985199188780551, 'loss_mse_15': 0.011839149462367289, 'loss_mse_16': 0.0164248726056941, 'loss_mse_17': 0.019354526840832685}\n",
      "Valid Loss: 1.9566\n",
      "{'loss': 1.9565570168966389, 'loss_mse_0': 0.006456869973040084, 'loss_mse_1': 0.04310539576560149, 'loss_mse_2': 0.04062757745060993, 'loss_mse_3': 0.01228189115944129, 'loss_mse_4': 0.06257749586860624, 'loss_mse_5': 0.08285239619370495, 'loss_mse_6': 0.02045347967121893, 'loss_mse_7': 0.08872142731717576, 'loss_mse_8': 0.1239271910866629, 'loss_mse_9': 0.03567043999292418, 'loss_mse_10': 0.134336668852398, 'loss_mse_11': 0.165950170245604, 'loss_mse_12': 0.06096115881016692, 'loss_mse_13': 0.20747214449146503, 'loss_mse_14': 0.20741845189338237, 'loss_mse_15': 0.10123079087706091, 'loss_mse_16': 0.31241418663851894, 'loss_mse_17': 0.25009928752495125}\n",
      "Update best score : 1.9565570168966389\n",
      "Save model : model.pth\n",
      "\n",
      "epoch  32\n",
      "lr  1.1697167595520347e-05\n",
      "lr  1.1697167595520347e-05\n",
      "lr  1.1697167595520347e-05\n",
      "lr  1.1697167595520347e-05\n"
     ]
    },
    {
     "name": "stderr",
     "output_type": "stream",
     "text": [
      "100%|██████████| 677/677 [00:16<00:00, 40.48it/s]\n",
      "100%|██████████| 678/678 [00:06<00:00, 103.67it/s]\n"
     ]
    },
    {
     "name": "stdout",
     "output_type": "stream",
     "text": [
      "\n",
      "Train Loss: 0.1569\n",
      "{'loss': 0.15689211063626246, 'loss_mse_0': 0.0027729063229484036, 'loss_mse_1': 0.009360685735456701, 'loss_mse_2': 0.010407997121239299, 'loss_mse_3': 0.0036356411827865717, 'loss_mse_4': 0.007771219684710751, 'loss_mse_5': 0.011139913419456918, 'loss_mse_6': 0.00390040277693616, 'loss_mse_7': 0.006906878758404828, 'loss_mse_8': 0.009945354102168402, 'loss_mse_9': 0.004428947850665631, 'loss_mse_10': 0.00668605437579302, 'loss_mse_11': 0.009480185424317462, 'loss_mse_12': 0.006142902024127433, 'loss_mse_13': 0.008305172189695972, 'loss_mse_14': 0.01185126861067629, 'loss_mse_15': 0.011268487551278452, 'loss_mse_16': 0.0150239458603391, 'loss_mse_17': 0.017864146792609108}\n",
      "Valid Loss: 1.9536\n",
      "{'loss': 1.9535928875823287, 'loss_mse_0': 0.006296133731730875, 'loss_mse_1': 0.04348123799885862, 'loss_mse_2': 0.04063879830520985, 'loss_mse_3': 0.0121175712376289, 'loss_mse_4': 0.062306171472000293, 'loss_mse_5': 0.08298607944623515, 'loss_mse_6': 0.020109146473184777, 'loss_mse_7': 0.08813384676401594, 'loss_mse_8': 0.12427295382604399, 'loss_mse_9': 0.035324271425610315, 'loss_mse_10': 0.13366238421562696, 'loss_mse_11': 0.16634570930570716, 'loss_mse_12': 0.06052853767334272, 'loss_mse_13': 0.20620557701814052, 'loss_mse_14': 0.20775782247417357, 'loss_mse_15': 0.10068435943067337, 'loss_mse_16': 0.312334311746918, 'loss_mse_17': 0.2504079721835071}\n",
      "Update best score : 1.9535928875823287\n",
      "Save model : model.pth\n",
      "\n",
      "epoch  33\n",
      "lr  9.042339828392344e-06\n",
      "lr  9.042339828392344e-06\n",
      "lr  9.042339828392344e-06\n",
      "lr  9.042339828392344e-06\n"
     ]
    },
    {
     "name": "stderr",
     "output_type": "stream",
     "text": [
      "100%|██████████| 677/677 [00:16<00:00, 40.28it/s]\n",
      "100%|██████████| 678/678 [00:06<00:00, 100.81it/s]\n"
     ]
    },
    {
     "name": "stdout",
     "output_type": "stream",
     "text": [
      "\n",
      "Train Loss: 0.1471\n",
      "{'loss': 0.14707727721469968, 'loss_mse_0': 0.002623622618052294, 'loss_mse_1': 0.008744688321144336, 'loss_mse_2': 0.010204129593042406, 'loss_mse_3': 0.003362533911609365, 'loss_mse_4': 0.0070843140902809324, 'loss_mse_5': 0.010713747802618313, 'loss_mse_6': 0.0035522328237445814, 'loss_mse_7': 0.006292375430541781, 'loss_mse_8': 0.009521058143943306, 'loss_mse_9': 0.003971030069494474, 'loss_mse_10': 0.006184993169381884, 'loss_mse_11': 0.00896686230314293, 'loss_mse_12': 0.005453753823853281, 'loss_mse_13': 0.007784936633483786, 'loss_mse_14': 0.011196730653597166, 'loss_mse_15': 0.010191075867688507, 'loss_mse_16': 0.01413428128051793, 'loss_mse_17': 0.017094910349091583}\n",
      "Valid Loss: 1.9529\n",
      "{'loss': 1.9528664178201232, 'loss_mse_0': 0.006322445114988663, 'loss_mse_1': 0.04338682225354532, 'loss_mse_2': 0.04060422883995405, 'loss_mse_3': 0.012029426260974951, 'loss_mse_4': 0.06259649687866985, 'loss_mse_5': 0.08289942811421808, 'loss_mse_6': 0.020029721922065327, 'loss_mse_7': 0.08834354088855989, 'loss_mse_8': 0.12406675683219084, 'loss_mse_9': 0.03508036219031388, 'loss_mse_10': 0.1334458776202965, 'loss_mse_11': 0.16627772249402287, 'loss_mse_12': 0.06060775792209712, 'loss_mse_13': 0.20631175229303914, 'loss_mse_14': 0.20744812721798642, 'loss_mse_15': 0.10096679686961536, 'loss_mse_16': 0.31218171114744864, 'loss_mse_17': 0.250267443200436}\n",
      "Update best score : 1.9528664178201232\n",
      "Save model : model.pth\n",
      "\n",
      "epoch  34\n",
      "lr  6.699239807289274e-06\n",
      "lr  6.699239807289274e-06\n",
      "lr  6.699239807289274e-06\n",
      "lr  6.699239807289274e-06\n"
     ]
    },
    {
     "name": "stderr",
     "output_type": "stream",
     "text": [
      "100%|██████████| 677/677 [00:16<00:00, 40.32it/s]\n",
      "100%|██████████| 678/678 [00:06<00:00, 102.12it/s]\n"
     ]
    },
    {
     "name": "stdout",
     "output_type": "stream",
     "text": [
      "\n",
      "Train Loss: 0.1421\n",
      "{'loss': 0.1421308532093089, 'loss_mse_0': 0.0025808175301290717, 'loss_mse_1': 0.008591645443846404, 'loss_mse_2': 0.01026406040053369, 'loss_mse_3': 0.0032938811787028566, 'loss_mse_4': 0.006876770825334377, 'loss_mse_5': 0.010833633644540727, 'loss_mse_6': 0.0033097208570069914, 'loss_mse_7': 0.006100100770343695, 'loss_mse_8': 0.009591443330204964, 'loss_mse_9': 0.003648394384738498, 'loss_mse_10': 0.005843786218896937, 'loss_mse_11': 0.008873599410838444, 'loss_mse_12': 0.004971950646301393, 'loss_mse_13': 0.007326563556631821, 'loss_mse_14': 0.010793707943266943, 'loss_mse_15': 0.009487293431249226, 'loss_mse_16': 0.013379700073320282, 'loss_mse_17': 0.016363783258713637}\n",
      "Valid Loss: 1.9452\n",
      "{'loss': 1.9452272061049762, 'loss_mse_0': 0.006208508161781218, 'loss_mse_1': 0.04275409208135377, 'loss_mse_2': 0.040442034731286644, 'loss_mse_3': 0.011924089082643105, 'loss_mse_4': 0.06266345448138132, 'loss_mse_5': 0.08265961633973197, 'loss_mse_6': 0.01985304362510103, 'loss_mse_7': 0.08872522283922386, 'loss_mse_8': 0.12319470891470755, 'loss_mse_9': 0.03485437295987521, 'loss_mse_10': 0.13378707271283574, 'loss_mse_11': 0.1654168693458656, 'loss_mse_12': 0.06010919927748519, 'loss_mse_13': 0.2061098418761715, 'loss_mse_14': 0.20613690205522783, 'loss_mse_15': 0.10013228268870826, 'loss_mse_16': 0.31155408823527503, 'loss_mse_17': 0.2487018020565355}\n",
      "Update best score : 1.9452272061049762\n",
      "Save model : model.pth\n",
      "\n",
      "epoch  35\n",
      "lr  4.685699938174243e-06\n",
      "lr  4.685699938174243e-06\n",
      "lr  4.685699938174243e-06\n",
      "lr  4.685699938174243e-06\n"
     ]
    },
    {
     "name": "stderr",
     "output_type": "stream",
     "text": [
      "100%|██████████| 677/677 [00:16<00:00, 40.56it/s]\n",
      "100%|██████████| 678/678 [00:06<00:00, 104.83it/s]\n"
     ]
    },
    {
     "name": "stdout",
     "output_type": "stream",
     "text": [
      "\n",
      "Train Loss: 0.1340\n",
      "{'loss': 0.13400775089617847, 'loss_mse_0': 0.002386652914469476, 'loss_mse_1': 0.008271502584708714, 'loss_mse_2': 0.0098865368039632, 'loss_mse_3': 0.0030087298161468497, 'loss_mse_4': 0.006464223683319238, 'loss_mse_5': 0.01022577447957047, 'loss_mse_6': 0.00305408106647718, 'loss_mse_7': 0.005601707572857553, 'loss_mse_8': 0.009005683981173808, 'loss_mse_9': 0.0033397855906213527, 'loss_mse_10': 0.0053939067650630385, 'loss_mse_11': 0.008344012381030216, 'loss_mse_12': 0.004671742513182916, 'loss_mse_13': 0.006633478511218394, 'loss_mse_14': 0.0104377547308577, 'loss_mse_15': 0.008951689526603792, 'loss_mse_16': 0.012269712928847645, 'loss_mse_17': 0.016060775519380323}\n",
      "Valid Loss: 1.9421\n",
      "{'loss': 1.9421022406018238, 'loss_mse_0': 0.00621861796005379, 'loss_mse_1': 0.04301046030829416, 'loss_mse_2': 0.04044439306669487, 'loss_mse_3': 0.01189740392404188, 'loss_mse_4': 0.062205103985624594, 'loss_mse_5': 0.08246775299508487, 'loss_mse_6': 0.019797602356246682, 'loss_mse_7': 0.08786261010472732, 'loss_mse_8': 0.12339120321140616, 'loss_mse_9': 0.03478438107044076, 'loss_mse_10': 0.1330472685226341, 'loss_mse_11': 0.1651688453777086, 'loss_mse_12': 0.059819046585136544, 'loss_mse_13': 0.20584576320628414, 'loss_mse_14': 0.20628317037273122, 'loss_mse_15': 0.099786014645017, 'loss_mse_16': 0.31130039451539426, 'loss_mse_17': 0.24877221248274708}\n",
      "Update best score : 1.9421022406018238\n",
      "Save model : model.pth\n",
      "\n",
      "epoch  36\n",
      "lr  3.0170444752597945e-06\n",
      "lr  3.0170444752597945e-06\n",
      "lr  3.0170444752597945e-06\n",
      "lr  3.0170444752597945e-06\n"
     ]
    },
    {
     "name": "stderr",
     "output_type": "stream",
     "text": [
      "100%|██████████| 677/677 [00:16<00:00, 40.66it/s]\n",
      "100%|██████████| 678/678 [00:06<00:00, 104.76it/s]\n"
     ]
    },
    {
     "name": "stdout",
     "output_type": "stream",
     "text": [
      "\n",
      "Train Loss: 0.1373\n",
      "{'loss': 0.1372586321663469, 'loss_mse_0': 0.0024958693077945958, 'loss_mse_1': 0.009138192559841421, 'loss_mse_2': 0.009915533962561866, 'loss_mse_3': 0.003169410168609418, 'loss_mse_4': 0.006657932244277005, 'loss_mse_5': 0.01028447267062896, 'loss_mse_6': 0.0032929133110029, 'loss_mse_7': 0.005540434882578549, 'loss_mse_8': 0.009031479007205438, 'loss_mse_9': 0.003698339980533085, 'loss_mse_10': 0.005312963851942148, 'loss_mse_11': 0.00846366319004749, 'loss_mse_12': 0.005019312534973773, 'loss_mse_13': 0.006591902702546058, 'loss_mse_14': 0.0106452883481209, 'loss_mse_15': 0.009272635831845653, 'loss_mse_16': 0.012294371081708739, 'loss_mse_17': 0.016433915609295757}\n",
      "Valid Loss: 1.9436\n",
      "{'loss': 1.943638887465176, 'loss_mse_0': 0.006215385481568224, 'loss_mse_1': 0.04300689811208409, 'loss_mse_2': 0.040504746750315825, 'loss_mse_3': 0.011850681247266565, 'loss_mse_4': 0.06223042391015321, 'loss_mse_5': 0.0827121021511764, 'loss_mse_6': 0.01960600721017955, 'loss_mse_7': 0.08784359731027379, 'loss_mse_8': 0.12380749074835605, 'loss_mse_9': 0.034530198366372986, 'loss_mse_10': 0.13296275182454065, 'loss_mse_11': 0.16588954976141718, 'loss_mse_12': 0.05975451884423122, 'loss_mse_13': 0.20536333163733153, 'loss_mse_14': 0.20699046609049612, 'loss_mse_15': 0.09960915729854047, 'loss_mse_16': 0.3112458164108626, 'loss_mse_17': 0.24951576559109323}\n",
      "Save model : model.pth\n",
      "\n",
      "epoch  37\n",
      "lr  1.7059728941804307e-06\n",
      "lr  1.7059728941804307e-06\n",
      "lr  1.7059728941804307e-06\n",
      "lr  1.7059728941804307e-06\n"
     ]
    },
    {
     "name": "stderr",
     "output_type": "stream",
     "text": [
      "100%|██████████| 677/677 [00:16<00:00, 40.43it/s]\n",
      "100%|██████████| 678/678 [00:06<00:00, 104.80it/s]\n"
     ]
    },
    {
     "name": "stdout",
     "output_type": "stream",
     "text": [
      "\n",
      "Train Loss: 0.1276\n",
      "{'loss': 0.12760326935410324, 'loss_mse_0': 0.0023388625802699217, 'loss_mse_1': 0.007972461938723217, 'loss_mse_2': 0.009832219521623749, 'loss_mse_3': 0.0029012703301008113, 'loss_mse_4': 0.006192820607698309, 'loss_mse_5': 0.010157698856878537, 'loss_mse_6': 0.002906346328568919, 'loss_mse_7': 0.005273730711264473, 'loss_mse_8': 0.008721840541061437, 'loss_mse_9': 0.0030380092966033247, 'loss_mse_10': 0.005184945235464948, 'loss_mse_11': 0.007831138985140726, 'loss_mse_12': 0.00420682929955599, 'loss_mse_13': 0.006328624170727511, 'loss_mse_14': 0.009714856867278146, 'loss_mse_15': 0.008234022205497415, 'loss_mse_16': 0.011660873737224712, 'loss_mse_17': 0.015106717650771713}\n",
      "Valid Loss: 1.9491\n",
      "{'loss': 1.9490568636089651, 'loss_mse_0': 0.00614587990048542, 'loss_mse_1': 0.04356692203150232, 'loss_mse_2': 0.04059244040056382, 'loss_mse_3': 0.011774156835331282, 'loss_mse_4': 0.06265458090170382, 'loss_mse_5': 0.08288408888937977, 'loss_mse_6': 0.019588195105498123, 'loss_mse_7': 0.08826111590937549, 'loss_mse_8': 0.12411836521826398, 'loss_mse_9': 0.034415251264282694, 'loss_mse_10': 0.13345323257480685, 'loss_mse_11': 0.16636045732340365, 'loss_mse_12': 0.05961885200923303, 'loss_mse_13': 0.20621187056093354, 'loss_mse_14': 0.2076184580371795, 'loss_mse_15': 0.09954610853771896, 'loss_mse_16': 0.3122212465572278, 'loss_mse_17': 0.2500256437006074}\n",
      "Save model : model.pth\n",
      "\n",
      "epoch  38\n",
      "lr  7.624632413148417e-07\n",
      "lr  7.624632413148417e-07\n",
      "lr  7.624632413148417e-07\n",
      "lr  7.624632413148417e-07\n"
     ]
    },
    {
     "name": "stderr",
     "output_type": "stream",
     "text": [
      "100%|██████████| 677/677 [00:16<00:00, 40.21it/s]\n",
      "100%|██████████| 678/678 [00:06<00:00, 105.19it/s]\n"
     ]
    },
    {
     "name": "stdout",
     "output_type": "stream",
     "text": [
      "\n",
      "Train Loss: 0.1264\n",
      "{'loss': 0.12637945723498414, 'loss_mse_0': 0.0022964511301225405, 'loss_mse_1': 0.00793826373199763, 'loss_mse_2': 0.00981959930526167, 'loss_mse_3': 0.002876303104017937, 'loss_mse_4': 0.0060979265694202445, 'loss_mse_5': 0.010161234077583431, 'loss_mse_6': 0.0028928889061752127, 'loss_mse_7': 0.005217527442761701, 'loss_mse_8': 0.00874027684145226, 'loss_mse_9': 0.003085322893552064, 'loss_mse_10': 0.004965100331476819, 'loss_mse_11': 0.007847278625147206, 'loss_mse_12': 0.004197192266913601, 'loss_mse_13': 0.005995440216008657, 'loss_mse_14': 0.009800145286651248, 'loss_mse_15': 0.008158801108367598, 'loss_mse_16': 0.011091066385444633, 'loss_mse_17': 0.015198638609045101}\n",
      "Valid Loss: 1.9429\n",
      "{'loss': 1.9429118180521119, 'loss_mse_0': 0.006166418396371931, 'loss_mse_1': 0.043222524255244914, 'loss_mse_2': 0.04049165410217678, 'loss_mse_3': 0.011822900418563029, 'loss_mse_4': 0.06243341935147424, 'loss_mse_5': 0.08259072940752657, 'loss_mse_6': 0.01963272652654719, 'loss_mse_7': 0.08797909818578699, 'loss_mse_8': 0.12344771229104307, 'loss_mse_9': 0.0346128937402317, 'loss_mse_10': 0.13306240765048208, 'loss_mse_11': 0.16542313967427585, 'loss_mse_12': 0.05980093004511653, 'loss_mse_13': 0.20553888868991077, 'loss_mse_14': 0.20650169569559418, 'loss_mse_15': 0.0998922332676243, 'loss_mse_16': 0.31137157923879877, 'loss_mse_17': 0.24892086107118994}\n",
      "Save model : model.pth\n",
      "\n",
      "epoch  39\n",
      "lr  1.9369619482803107e-07\n",
      "lr  1.9369619482803107e-07\n",
      "lr  1.9369619482803107e-07\n",
      "lr  1.9369619482803107e-07\n"
     ]
    },
    {
     "name": "stderr",
     "output_type": "stream",
     "text": [
      "100%|██████████| 677/677 [00:16<00:00, 40.49it/s]\n",
      "100%|██████████| 678/678 [00:06<00:00, 104.99it/s]\n",
      "/home/tatsuya/projects/atmacup/atmacup_18/experiments/main/v00/v00_04_00/utils.py:974: FutureWarning: You are using `torch.load` with `weights_only=False` (the current default value), which uses the default pickle module implicitly. It is possible to construct malicious pickle data which will execute arbitrary code during unpickling (See https://github.com/pytorch/pytorch/blob/main/SECURITY.md#untrusted-models for more details). In a future release, the default value for `weights_only` will be flipped to `True`. This limits the functions that could be executed during unpickling. Arbitrary objects will no longer be allowed to be loaded via this mode unless they are explicitly allowlisted by the user via `torch.serialization.add_safe_globals`. We recommend you start setting `weights_only=True` for any use case where you don't have full control of the loaded file. Please open an issue on GitHub for any issues related to this experimental feature.\n",
      "  model.load_state_dict(torch.load(model_path))\n"
     ]
    },
    {
     "name": "stdout",
     "output_type": "stream",
     "text": [
      "\n",
      "Train Loss: 0.1240\n",
      "{'loss': 0.12404075975872389, 'loss_mse_0': 0.0022758968048756517, 'loss_mse_1': 0.00793578374894966, 'loss_mse_2': 0.009710107833020488, 'loss_mse_3': 0.0027932090861200074, 'loss_mse_4': 0.006173431785279222, 'loss_mse_5': 0.009823882670665883, 'loss_mse_6': 0.0027759471770473637, 'loss_mse_7': 0.0052374036638052415, 'loss_mse_8': 0.008327013001319137, 'loss_mse_9': 0.002925769147185259, 'loss_mse_10': 0.0050031351576596385, 'loss_mse_11': 0.007372036499921865, 'loss_mse_12': 0.0040880674350129076, 'loss_mse_13': 0.006117484117706789, 'loss_mse_14': 0.0092610243733345, 'loss_mse_15': 0.00799426819098786, 'loss_mse_16': 0.011508863164453136, 'loss_mse_17': 0.014717435784448087}\n",
      "Valid Loss: 1.9371\n",
      "{'loss': 1.937085755806757, 'loss_mse_0': 0.006193967155424004, 'loss_mse_1': 0.04304967242619984, 'loss_mse_2': 0.0404223650419167, 'loss_mse_3': 0.011781866839574513, 'loss_mse_4': 0.06218485788862526, 'loss_mse_5': 0.08248776932738744, 'loss_mse_6': 0.019676896464285665, 'loss_mse_7': 0.08766745246883624, 'loss_mse_8': 0.12304504450883134, 'loss_mse_9': 0.0345841660651936, 'loss_mse_10': 0.13253943706728014, 'loss_mse_11': 0.16502633147699908, 'loss_mse_12': 0.059703297136972346, 'loss_mse_13': 0.20475205549541697, 'loss_mse_14': 0.20587997849492196, 'loss_mse_15': 0.09960704300948213, 'loss_mse_16': 0.31009279806056994, 'loss_mse_17': 0.24839075937713317}\n",
      "Update best score : 1.937085755806757\n",
      "Save model : model.pth\n",
      "-----------------\n",
      "-----------------\n",
      "Training fold 1...\n",
      "train samples: 21686, valid samples: 21685\n",
      "Save model : model.pth\n",
      "\n",
      "epoch  0\n",
      "lr  4.000000000000002e-06\n",
      "lr  4.000000000000002e-06\n",
      "lr  4.000000000000002e-06\n",
      "lr  4.000000000000002e-06\n"
     ]
    },
    {
     "name": "stderr",
     "output_type": "stream",
     "text": [
      "100%|██████████| 677/677 [00:17<00:00, 38.40it/s]\n",
      "100%|██████████| 678/678 [00:06<00:00, 105.44it/s]\n"
     ]
    },
    {
     "name": "stdout",
     "output_type": "stream",
     "text": [
      "\n",
      "Train Loss: 38.2447\n",
      "{'loss': 38.24468711982625, 'loss_mse_0': 1.7407128457832899, 'loss_mse_1': 0.12014695989350449, 'loss_mse_2': 0.053603771259592765, 'loss_mse_3': 3.3119640061563014, 'loss_mse_4': 0.31245567929687496, 'loss_mse_5': 0.12614203328087903, 'loss_mse_6': 4.783570514647964, 'loss_mse_7': 0.5441714763157125, 'loss_mse_8': 0.16206709890347112, 'loss_mse_9': 6.243954453897969, 'loss_mse_10': 0.894108015400092, 'loss_mse_11': 0.21860955388146278, 'loss_mse_12': 8.175435795389568, 'loss_mse_13': 1.2546835368281806, 'loss_mse_14': 0.28354568202791397, 'loss_mse_15': 7.957175366811597, 'loss_mse_16': 1.707629734999672, 'loss_mse_17': 0.35471053637201005}\n",
      "Valid Loss: 16.4635\n",
      "{'loss': 16.46348157252534, 'loss_mse_0': 0.6386172766618672, 'loss_mse_1': 0.09137170559625006, 'loss_mse_2': 0.05315954297654617, 'loss_mse_3': 1.2089742027376957, 'loss_mse_4': 0.22540569142232428, 'loss_mse_5': 0.11317442638859988, 'loss_mse_6': 1.7500226611057215, 'loss_mse_7': 0.4007419242817568, 'loss_mse_8': 0.15772213672004795, 'loss_mse_9': 2.2236594362596493, 'loss_mse_10': 0.6303177644501393, 'loss_mse_11': 0.21810209713216905, 'loss_mse_12': 2.7791154094501933, 'loss_mse_13': 0.9512986178375276, 'loss_mse_14': 0.2730319269968521, 'loss_mse_15': 3.1090033216110724, 'loss_mse_16': 1.306476485105039, 'loss_mse_17': 0.3332869438536927}\n",
      "Update best score : 16.46348157252534\n",
      "Save model : model.pth\n",
      "\n",
      "epoch  1\n",
      "lr  1.8068723474000953e-05\n",
      "lr  1.8068723474000953e-05\n",
      "lr  1.8068723474000953e-05\n",
      "lr  1.8068723474000953e-05\n"
     ]
    },
    {
     "name": "stderr",
     "output_type": "stream",
     "text": [
      "100%|██████████| 677/677 [00:16<00:00, 40.16it/s]\n",
      "100%|██████████| 678/678 [00:06<00:00, 104.76it/s]\n"
     ]
    },
    {
     "name": "stdout",
     "output_type": "stream",
     "text": [
      "\n",
      "Train Loss: 10.2053\n",
      "{'loss': 10.205303470352376, 'loss_mse_0': 0.33731730184909864, 'loss_mse_1': 0.08435157500482557, 'loss_mse_2': 0.04672831709343978, 'loss_mse_3': 0.6661270134250029, 'loss_mse_4': 0.18390631938196356, 'loss_mse_5': 0.09466176177134278, 'loss_mse_6': 0.9401534694732556, 'loss_mse_7': 0.3187548889279189, 'loss_mse_8': 0.13847088911178546, 'loss_mse_9': 1.1996324178563262, 'loss_mse_10': 0.5030349013086084, 'loss_mse_11': 0.18943095823510533, 'loss_mse_12': 1.4833753042066116, 'loss_mse_13': 0.7527322580314281, 'loss_mse_14': 0.23900629594878045, 'loss_mse_15': 1.6926793021148558, 'loss_mse_16': 1.042702653625515, 'loss_mse_17': 0.2922377825619727}\n",
      "Valid Loss: 6.3959\n",
      "{'loss': 6.395857795853178, 'loss_mse_0': 0.1300060810427838, 'loss_mse_1': 0.06877353188106489, 'loss_mse_2': 0.046279083390700956, 'loss_mse_3': 0.28664994789259973, 'loss_mse_4': 0.15697250091319678, 'loss_mse_5': 0.09419999232620088, 'loss_mse_6': 0.409254705000416, 'loss_mse_7': 0.27486417381845657, 'loss_mse_8': 0.13970571020645553, 'loss_mse_9': 0.5542749644732405, 'loss_mse_10': 0.4265161357259592, 'loss_mse_11': 0.18968273712470468, 'loss_mse_12': 0.7197302217021101, 'loss_mse_13': 0.6363723730025566, 'loss_mse_14': 0.2387202414615316, 'loss_mse_15': 0.8274862256153847, 'loss_mse_16': 0.9064016916011639, 'loss_mse_17': 0.28996746256881584}\n",
      "Update best score : 6.395857795853178\n",
      "Save model : model.pth\n",
      "\n",
      "epoch  2\n",
      "lr  5.202785305484109e-05\n",
      "lr  5.202785305484109e-05\n",
      "lr  5.202785305484109e-05\n",
      "lr  5.202785305484109e-05\n"
     ]
    },
    {
     "name": "stderr",
     "output_type": "stream",
     "text": [
      "100%|██████████| 677/677 [00:16<00:00, 40.03it/s]\n",
      "100%|██████████| 678/678 [00:06<00:00, 103.06it/s]\n"
     ]
    },
    {
     "name": "stdout",
     "output_type": "stream",
     "text": [
      "\n",
      "Train Loss: 4.5697\n",
      "{'loss': 4.5696596886241805, 'loss_mse_0': 0.08188912307945365, 'loss_mse_1': 0.06750601708773452, 'loss_mse_2': 0.04170576881952969, 'loss_mse_3': 0.16704332911061395, 'loss_mse_4': 0.1320304690036191, 'loss_mse_5': 0.08375657215010116, 'loss_mse_6': 0.23397085581805716, 'loss_mse_7': 0.2215275841062143, 'loss_mse_8': 0.12586858396472042, 'loss_mse_9': 0.3170505923327702, 'loss_mse_10': 0.3370739429352731, 'loss_mse_11': 0.17017130724854623, 'loss_mse_12': 0.4011318961177654, 'loss_mse_13': 0.5031603717491405, 'loss_mse_14': 0.21619809334726242, 'loss_mse_15': 0.496694225999506, 'loss_mse_16': 0.7074104702014867, 'loss_mse_17': 0.26547048810974005}\n",
      "Valid Loss: 4.0272\n",
      "{'loss': 4.027170248615355, 'loss_mse_0': 0.05072480088627312, 'loss_mse_1': 0.057789408688359294, 'loss_mse_2': 0.04358290108387801, 'loss_mse_3': 0.10872722987997673, 'loss_mse_4': 0.11472958068921063, 'loss_mse_5': 0.08878843627930523, 'loss_mse_6': 0.1453013599171663, 'loss_mse_7': 0.19334083935383234, 'loss_mse_8': 0.1339369974893059, 'loss_mse_9': 0.21020576700700067, 'loss_mse_10': 0.34886387860331036, 'loss_mse_11': 0.18054341269893281, 'loss_mse_12': 0.2828534264611987, 'loss_mse_13': 0.49408425461599786, 'loss_mse_14': 0.2294309079251458, 'loss_mse_15': 0.35554453089921173, 'loss_mse_16': 0.709473585341796, 'loss_mse_17': 0.2792489517666949}\n",
      "Update best score : 4.027170248615355\n",
      "Save model : model.pth\n",
      "\n",
      "epoch  3\n",
      "lr  8.597065526374518e-05\n",
      "lr  8.597065526374518e-05\n",
      "lr  8.597065526374518e-05\n",
      "lr  8.597065526374518e-05\n"
     ]
    },
    {
     "name": "stderr",
     "output_type": "stream",
     "text": [
      "100%|██████████| 677/677 [00:16<00:00, 41.17it/s]\n",
      "100%|██████████| 678/678 [00:06<00:00, 103.51it/s]\n"
     ]
    },
    {
     "name": "stdout",
     "output_type": "stream",
     "text": [
      "\n",
      "Train Loss: 3.3902\n",
      "{'loss': 3.390158038371775, 'loss_mse_0': 0.04360801580897154, 'loss_mse_1': 0.05794735271634983, 'loss_mse_2': 0.040301314514526544, 'loss_mse_3': 0.08712317272635559, 'loss_mse_4': 0.10138962057005048, 'loss_mse_5': 0.08112668087417081, 'loss_mse_6': 0.1298109236802009, 'loss_mse_7': 0.16559598356089175, 'loss_mse_8': 0.12275357779935332, 'loss_mse_9': 0.1751550652548957, 'loss_mse_10': 0.2593830158463521, 'loss_mse_11': 0.1660566763784544, 'loss_mse_12': 0.23343906977504184, 'loss_mse_13': 0.3890348609256251, 'loss_mse_14': 0.21145735993607181, 'loss_mse_15': 0.3007010618882306, 'loss_mse_16': 0.5657629881554903, 'loss_mse_17': 0.25951130619407403}\n",
      "Valid Loss: 3.0535\n",
      "{'loss': 3.0535421157832694, 'loss_mse_0': 0.029631026350181538, 'loss_mse_1': 0.04818733349088085, 'loss_mse_2': 0.04319156181468329, 'loss_mse_3': 0.0547279513408059, 'loss_mse_4': 0.09584784666955427, 'loss_mse_5': 0.0875274761384875, 'loss_mse_6': 0.0819099967898169, 'loss_mse_7': 0.17459604376789656, 'loss_mse_8': 0.13230076699262172, 'loss_mse_9': 0.10435999504628435, 'loss_mse_10': 0.26634677889918945, 'loss_mse_11': 0.1774144409400216, 'loss_mse_12': 0.1501173201102247, 'loss_mse_13': 0.36721336510263186, 'loss_mse_14': 0.22433269497798344, 'loss_mse_15': 0.2094061420873291, 'loss_mse_16': 0.5325498978187025, 'loss_mse_17': 0.2738814868999969}\n",
      "Update best score : 3.0535421157832694\n",
      "Save model : model.pth\n",
      "\n",
      "epoch  4\n",
      "lr  9.999999958462529e-05\n",
      "lr  9.999999958462529e-05\n",
      "lr  9.999999958462529e-05\n",
      "lr  9.999999958462529e-05\n"
     ]
    },
    {
     "name": "stderr",
     "output_type": "stream",
     "text": [
      "100%|██████████| 677/677 [00:16<00:00, 40.17it/s]\n",
      "100%|██████████| 678/678 [00:06<00:00, 101.86it/s]\n"
     ]
    },
    {
     "name": "stdout",
     "output_type": "stream",
     "text": [
      "\n",
      "Train Loss: 2.7763\n",
      "{'loss': 2.7762798541053537, 'loss_mse_0': 0.028824808152373246, 'loss_mse_1': 0.05185773236913664, 'loss_mse_2': 0.039800549523032754, 'loss_mse_3': 0.05751819790312071, 'loss_mse_4': 0.08578344891081664, 'loss_mse_5': 0.08052771097734196, 'loss_mse_6': 0.08643576134948205, 'loss_mse_7': 0.13299954173043702, 'loss_mse_8': 0.12170570402611129, 'loss_mse_9': 0.11788560379092944, 'loss_mse_10': 0.20607253058952454, 'loss_mse_11': 0.16443068733331548, 'loss_mse_12': 0.16080812341155296, 'loss_mse_13': 0.3075587207855907, 'loss_mse_14': 0.20927134510597414, 'loss_mse_15': 0.21439626447559285, 'loss_mse_16': 0.45359113593441347, 'loss_mse_17': 0.2568119816933284}\n",
      "Valid Loss: 2.6228\n",
      "{'loss': 2.6228095329968277, 'loss_mse_0': 0.022116846200641915, 'loss_mse_1': 0.04326980224890211, 'loss_mse_2': 0.0431948766293647, 'loss_mse_3': 0.04421588763935288, 'loss_mse_4': 0.07774727462425521, 'loss_mse_5': 0.08721927064951718, 'loss_mse_6': 0.06540168875932781, 'loss_mse_7': 0.11905560002230921, 'loss_mse_8': 0.1320869503762562, 'loss_mse_9': 0.09747962386877576, 'loss_mse_10': 0.19115667067094538, 'loss_mse_11': 0.17634416041912232, 'loss_mse_12': 0.13001778546808657, 'loss_mse_13': 0.27580318885929556, 'loss_mse_14': 0.22249566106493845, 'loss_mse_15': 0.1896236966773428, 'loss_mse_16': 0.4356494799838745, 'loss_mse_17': 0.26993106219335117}\n",
      "Update best score : 2.6228095329968277\n",
      "Save model : model.pth\n",
      "\n",
      "epoch  5\n",
      "lr  9.980918039762207e-05\n",
      "lr  9.980918039762207e-05\n",
      "lr  9.980918039762207e-05\n",
      "lr  9.980918039762207e-05\n"
     ]
    },
    {
     "name": "stderr",
     "output_type": "stream",
     "text": [
      "100%|██████████| 677/677 [00:16<00:00, 40.31it/s]\n",
      "100%|██████████| 678/678 [00:06<00:00, 103.96it/s]\n"
     ]
    },
    {
     "name": "stdout",
     "output_type": "stream",
     "text": [
      "\n",
      "Train Loss: 2.3827\n",
      "{'loss': 2.3827460682902766, 'loss_mse_0': 0.02156726614141526, 'loss_mse_1': 0.04787390080226951, 'loss_mse_2': 0.039510215965527465, 'loss_mse_3': 0.0423101426516295, 'loss_mse_4': 0.07275710653711766, 'loss_mse_5': 0.07988347167058392, 'loss_mse_6': 0.06415859103048746, 'loss_mse_7': 0.10702444082524963, 'loss_mse_8': 0.12063507041295486, 'loss_mse_9': 0.08963994886258417, 'loss_mse_10': 0.16381658117893527, 'loss_mse_11': 0.16228280914190776, 'loss_mse_12': 0.12649085170739335, 'loss_mse_13': 0.2458198876415917, 'loss_mse_14': 0.2060903938792569, 'loss_mse_15': 0.17342448988420398, 'loss_mse_16': 0.36717915115121375, 'loss_mse_17': 0.2522817592424075}\n",
      "Valid Loss: 2.6787\n",
      "{'loss': 2.678656253403267, 'loss_mse_0': 0.022754776305285527, 'loss_mse_1': 0.0426023025985994, 'loss_mse_2': 0.042568641525877304, 'loss_mse_3': 0.04243053933248407, 'loss_mse_4': 0.08041791929890867, 'loss_mse_5': 0.08678028233635039, 'loss_mse_6': 0.06627218179943199, 'loss_mse_7': 0.13246813179254752, 'loss_mse_8': 0.13080685002767758, 'loss_mse_9': 0.09352548841584836, 'loss_mse_10': 0.20776904535900176, 'loss_mse_11': 0.17538266547112163, 'loss_mse_12': 0.12133812011222309, 'loss_mse_13': 0.30947215832594044, 'loss_mse_14': 0.22138332809077077, 'loss_mse_15': 0.17656591716483455, 'loss_mse_16': 0.45844376606146936, 'loss_mse_17': 0.267674152011321}\n",
      "Save model : model.pth\n",
      "\n",
      "epoch  6\n",
      "lr  9.923929849339515e-05\n",
      "lr  9.923929849339515e-05\n",
      "lr  9.923929849339515e-05\n",
      "lr  9.923929849339515e-05\n"
     ]
    },
    {
     "name": "stderr",
     "output_type": "stream",
     "text": [
      "100%|██████████| 677/677 [00:16<00:00, 39.93it/s]\n",
      "100%|██████████| 678/678 [00:06<00:00, 103.98it/s]\n"
     ]
    },
    {
     "name": "stdout",
     "output_type": "stream",
     "text": [
      "\n",
      "Train Loss: 2.1032\n",
      "{'loss': 2.1032047721624725, 'loss_mse_0': 0.01744390688176257, 'loss_mse_1': 0.043691689813677416, 'loss_mse_2': 0.03929780024837048, 'loss_mse_3': 0.034337609224956885, 'loss_mse_4': 0.062256195539803945, 'loss_mse_5': 0.07909428545355005, 'loss_mse_6': 0.05110169138808898, 'loss_mse_7': 0.08852579207757992, 'loss_mse_8': 0.11888108393686385, 'loss_mse_9': 0.0723263913520682, 'loss_mse_10': 0.1330103945493302, 'loss_mse_11': 0.1594891078065822, 'loss_mse_12': 0.10329668687455676, 'loss_mse_13': 0.20134911239367292, 'loss_mse_14': 0.20165742880374501, 'loss_mse_15': 0.14777298478555467, 'loss_mse_16': 0.3034948486411061, 'loss_mse_17': 0.24617775427273844}\n",
      "Valid Loss: 2.6191\n",
      "{'loss': 2.6190570078592383, 'loss_mse_0': 0.01927057870184305, 'loss_mse_1': 0.039107731154400055, 'loss_mse_2': 0.04233708144179312, 'loss_mse_3': 0.05331611241403539, 'loss_mse_4': 0.06642374967136984, 'loss_mse_5': 0.08612240109438829, 'loss_mse_6': 0.08641824613196177, 'loss_mse_7': 0.10513100833261171, 'loss_mse_8': 0.1300151070585381, 'loss_mse_9': 0.12520947760372123, 'loss_mse_10': 0.1671328154230452, 'loss_mse_11': 0.17385498376612643, 'loss_mse_12': 0.16630404777714988, 'loss_mse_13': 0.2632060112503074, 'loss_mse_14': 0.21849131586914744, 'loss_mse_15': 0.21674705783020606, 'loss_mse_16': 0.3955228292962926, 'loss_mse_17': 0.26444645549080015}\n",
      "Update best score : 2.6190570078592383\n",
      "Save model : model.pth\n",
      "\n",
      "epoch  7\n",
      "lr  9.82946910173398e-05\n",
      "lr  9.82946910173398e-05\n",
      "lr  9.82946910173398e-05\n",
      "lr  9.82946910173398e-05\n"
     ]
    },
    {
     "name": "stderr",
     "output_type": "stream",
     "text": [
      "100%|██████████| 677/677 [00:17<00:00, 39.35it/s]\n",
      "100%|██████████| 678/678 [00:06<00:00, 104.03it/s]\n"
     ]
    },
    {
     "name": "stdout",
     "output_type": "stream",
     "text": [
      "\n",
      "Train Loss: 1.9252\n",
      "{'loss': 1.9252346608804283, 'loss_mse_0': 0.016208345100058013, 'loss_mse_1': 0.04305509221086628, 'loss_mse_2': 0.03894508179852208, 'loss_mse_3': 0.03069866507243987, 'loss_mse_4': 0.05820513583796767, 'loss_mse_5': 0.0779447248687024, 'loss_mse_6': 0.04535104250851771, 'loss_mse_7': 0.07824569365127973, 'loss_mse_8': 0.1164273019175718, 'loss_mse_9': 0.06490328967670306, 'loss_mse_10': 0.11313798111564916, 'loss_mse_11': 0.15549005258778878, 'loss_mse_12': 0.09345937989090887, 'loss_mse_13': 0.1694693143398362, 'loss_mse_14': 0.19560940127319035, 'loss_mse_15': 0.1337794678304977, 'loss_mse_16': 0.2563697363977682, 'loss_mse_17': 0.23793495222485928}\n",
      "Valid Loss: 3.5071\n",
      "{'loss': 3.50708205984757, 'loss_mse_0': 0.028837983776021276, 'loss_mse_1': 0.05018032331275136, 'loss_mse_2': 0.04240327898775582, 'loss_mse_3': 0.0686598341804888, 'loss_mse_4': 0.12149795236005544, 'loss_mse_5': 0.08689450419708471, 'loss_mse_6': 0.08959334129522552, 'loss_mse_7': 0.23788858614971856, 'loss_mse_8': 0.13149865021088483, 'loss_mse_9': 0.11382740318148801, 'loss_mse_10': 0.36439861647048444, 'loss_mse_11': 0.17544914611167436, 'loss_mse_12': 0.1469319906569248, 'loss_mse_13': 0.5118980394665339, 'loss_mse_14': 0.22144099056259192, 'loss_mse_15': 0.1800025231246136, 'loss_mse_16': 0.6686891206762696, 'loss_mse_17': 0.26698975699643296}\n",
      "Save model : model.pth\n",
      "\n",
      "epoch  8\n",
      "lr  9.69825470027184e-05\n",
      "lr  9.69825470027184e-05\n",
      "lr  9.69825470027184e-05\n",
      "lr  9.69825470027184e-05\n"
     ]
    },
    {
     "name": "stderr",
     "output_type": "stream",
     "text": [
      "100%|██████████| 677/677 [00:17<00:00, 39.78it/s]\n",
      "100%|██████████| 678/678 [00:06<00:00, 104.64it/s]\n"
     ]
    },
    {
     "name": "stdout",
     "output_type": "stream",
     "text": [
      "\n",
      "Train Loss: 1.7637\n",
      "{'loss': 1.7637317433314978, 'loss_mse_0': 0.013997094750753775, 'loss_mse_1': 0.03955771203498126, 'loss_mse_2': 0.03841807604306536, 'loss_mse_3': 0.027348731543340526, 'loss_mse_4': 0.05167252100464865, 'loss_mse_5': 0.07596573052017164, 'loss_mse_6': 0.040509585167337735, 'loss_mse_7': 0.0670787753988514, 'loss_mse_8': 0.11259939763117224, 'loss_mse_9': 0.057802827940755794, 'loss_mse_10': 0.09794426695106653, 'loss_mse_11': 0.14936842340728382, 'loss_mse_12': 0.08340050878231599, 'loss_mse_13': 0.1477252560085789, 'loss_mse_14': 0.18661665011257858, 'loss_mse_15': 0.12115124177787469, 'loss_mse_16': 0.22637204542491954, 'loss_mse_17': 0.226202903538282}\n",
      "Valid Loss: 2.3088\n",
      "{'loss': 2.308794407630037, 'loss_mse_0': 0.015072408993522414, 'loss_mse_1': 0.037387730829846276, 'loss_mse_2': 0.042387828397410746, 'loss_mse_3': 0.02622350727504663, 'loss_mse_4': 0.06385844582307172, 'loss_mse_5': 0.08719960092443281, 'loss_mse_6': 0.04127718970608131, 'loss_mse_7': 0.10237698744746217, 'loss_mse_8': 0.13270585608990054, 'loss_mse_9': 0.05865436705834834, 'loss_mse_10': 0.16542099139331717, 'loss_mse_11': 0.17622709919349633, 'loss_mse_12': 0.08730597476197467, 'loss_mse_13': 0.2555205529819416, 'loss_mse_14': 0.22177102839283008, 'loss_mse_15': 0.13352086317552403, 'loss_mse_16': 0.39572359505040805, 'loss_mse_17': 0.26616037627654615}\n",
      "Update best score : 2.308794407630037\n",
      "Save model : model.pth\n",
      "\n",
      "epoch  9\n",
      "lr  9.531285265777644e-05\n",
      "lr  9.531285265777644e-05\n",
      "lr  9.531285265777644e-05\n",
      "lr  9.531285265777644e-05\n"
     ]
    },
    {
     "name": "stderr",
     "output_type": "stream",
     "text": [
      "100%|██████████| 677/677 [00:17<00:00, 39.72it/s]\n",
      "100%|██████████| 678/678 [00:06<00:00, 100.96it/s]\n"
     ]
    },
    {
     "name": "stdout",
     "output_type": "stream",
     "text": [
      "\n",
      "Train Loss: 1.6531\n",
      "{'loss': 1.6531345537001132, 'loss_mse_0': 0.013086345712234717, 'loss_mse_1': 0.039763628632419, 'loss_mse_2': 0.0372712570428298, 'loss_mse_3': 0.02527043880465574, 'loss_mse_4': 0.05056073649221016, 'loss_mse_5': 0.07231416272073764, 'loss_mse_6': 0.037464125409304126, 'loss_mse_7': 0.06346459926946564, 'loss_mse_8': 0.10622390738772325, 'loss_mse_9': 0.0549575931900229, 'loss_mse_10': 0.09094170398702034, 'loss_mse_11': 0.13961554796846262, 'loss_mse_12': 0.07987343397492232, 'loss_mse_13': 0.13554824204177238, 'loss_mse_14': 0.17362734940634872, 'loss_mse_15': 0.11677900942501941, 'loss_mse_16': 0.20617568433460845, 'loss_mse_17': 0.21019679072974704}\n",
      "Valid Loss: 2.4368\n",
      "{'loss': 2.43682277624586, 'loss_mse_0': 0.01795929607661897, 'loss_mse_1': 0.03714113938141406, 'loss_mse_2': 0.04249192103001792, 'loss_mse_3': 0.036450766274227504, 'loss_mse_4': 0.06396543188089268, 'loss_mse_5': 0.08821771731380385, 'loss_mse_6': 0.05173526514063323, 'loss_mse_7': 0.10430386493457783, 'loss_mse_8': 0.13238390673578312, 'loss_mse_9': 0.07734551828129321, 'loss_mse_10': 0.1647125607614672, 'loss_mse_11': 0.17879660790758675, 'loss_mse_12': 0.12141447794791256, 'loss_mse_13': 0.25830928540917714, 'loss_mse_14': 0.22581131029929033, 'loss_mse_15': 0.17427783369864158, 'loss_mse_16': 0.38999780304290377, 'loss_mse_17': 0.2715080679451997}\n",
      "Save model : model.pth\n",
      "\n",
      "epoch  10\n",
      "lr  9.329831536466792e-05\n",
      "lr  9.329831536466792e-05\n",
      "lr  9.329831536466792e-05\n",
      "lr  9.329831536466792e-05\n"
     ]
    },
    {
     "name": "stderr",
     "output_type": "stream",
     "text": [
      "100%|██████████| 677/677 [00:16<00:00, 39.83it/s]\n",
      "100%|██████████| 678/678 [00:06<00:00, 102.56it/s]\n"
     ]
    },
    {
     "name": "stdout",
     "output_type": "stream",
     "text": [
      "\n",
      "Train Loss: 1.4547\n",
      "{'loss': 1.4546865334010723, 'loss_mse_0': 0.011860234067229171, 'loss_mse_1': 0.036593842771361025, 'loss_mse_2': 0.03518430355308987, 'loss_mse_3': 0.022736669253926596, 'loss_mse_4': 0.04504925957117422, 'loss_mse_5': 0.06662841643065082, 'loss_mse_6': 0.03393065350534645, 'loss_mse_7': 0.05463407651151213, 'loss_mse_8': 0.09687704129620528, 'loss_mse_9': 0.04912091050010885, 'loss_mse_10': 0.07509033475759022, 'loss_mse_11': 0.1260503011382841, 'loss_mse_12': 0.07164231008482737, 'loss_mse_13': 0.11141890035928441, 'loss_mse_14': 0.15582090091273915, 'loss_mse_15': 0.10475302537135571, 'loss_mse_16': 0.16888257582153315, 'loss_mse_17': 0.18841278136458847}\n",
      "Valid Loss: 2.3425\n",
      "{'loss': 2.342536937258588, 'loss_mse_0': 0.012377411636364561, 'loss_mse_1': 0.037053665748225925, 'loss_mse_2': 0.04282807750808718, 'loss_mse_3': 0.023152369199523973, 'loss_mse_4': 0.07458801657733423, 'loss_mse_5': 0.08907706925238876, 'loss_mse_6': 0.037963149515543804, 'loss_mse_7': 0.1198746988585543, 'loss_mse_8': 0.13473869246982895, 'loss_mse_9': 0.05413288560319571, 'loss_mse_10': 0.176560297311671, 'loss_mse_11': 0.18005503194302233, 'loss_mse_12': 0.0804854212383737, 'loss_mse_13': 0.2670609201840331, 'loss_mse_14': 0.22442702395748074, 'loss_mse_15': 0.12133600649074995, 'loss_mse_16': 0.39639972674503793, 'loss_mse_17': 0.2704264794786771}\n",
      "Save model : model.pth\n",
      "\n",
      "epoch  11\n",
      "lr  9.095426696860428e-05\n",
      "lr  9.095426696860428e-05\n",
      "lr  9.095426696860428e-05\n",
      "lr  9.095426696860428e-05\n"
     ]
    },
    {
     "name": "stderr",
     "output_type": "stream",
     "text": [
      "100%|██████████| 677/677 [00:16<00:00, 40.01it/s]\n",
      "100%|██████████| 678/678 [00:06<00:00, 101.70it/s]\n"
     ]
    },
    {
     "name": "stdout",
     "output_type": "stream",
     "text": [
      "\n",
      "Train Loss: 1.2750\n",
      "{'loss': 1.274997322122667, 'loss_mse_0': 0.010825468860415294, 'loss_mse_1': 0.03562909149271787, 'loss_mse_2': 0.03182578669720642, 'loss_mse_3': 0.02045988577983426, 'loss_mse_4': 0.042592793992655885, 'loss_mse_5': 0.058221102634409064, 'loss_mse_6': 0.029378089840569294, 'loss_mse_7': 0.049442716505505045, 'loss_mse_8': 0.08272249776281229, 'loss_mse_9': 0.04283233902979769, 'loss_mse_10': 0.06651401601214528, 'loss_mse_11': 0.10671402275441229, 'loss_mse_12': 0.06311326580152378, 'loss_mse_13': 0.09800795843189189, 'loss_mse_14': 0.13139927264528578, 'loss_mse_15': 0.09488265158847921, 'loss_mse_16': 0.15101613655158125, 'loss_mse_17': 0.1594202240634616}\n",
      "Valid Loss: 2.3808\n",
      "{'loss': 2.380757031187547, 'loss_mse_0': 0.011240599212335604, 'loss_mse_1': 0.036800668869170314, 'loss_mse_2': 0.04427071999906834, 'loss_mse_3': 0.02166049800480779, 'loss_mse_4': 0.06428643630660938, 'loss_mse_5': 0.0939567837930095, 'loss_mse_6': 0.0346732494788063, 'loss_mse_7': 0.10482686785651388, 'loss_mse_8': 0.142284985233351, 'loss_mse_9': 0.054461754648328094, 'loss_mse_10': 0.169931429490491, 'loss_mse_11': 0.19017566896008004, 'loss_mse_12': 0.0881859982787332, 'loss_mse_13': 0.26095852934120767, 'loss_mse_14': 0.23749764185058156, 'loss_mse_15': 0.13073416450129585, 'loss_mse_16': 0.40957513299927245, 'loss_mse_17': 0.2852359010252805}\n",
      "Save model : model.pth\n",
      "\n",
      "epoch  12\n",
      "lr  8.82985470932547e-05\n",
      "lr  8.82985470932547e-05\n",
      "lr  8.82985470932547e-05\n",
      "lr  8.82985470932547e-05\n"
     ]
    },
    {
     "name": "stderr",
     "output_type": "stream",
     "text": [
      "100%|██████████| 677/677 [00:17<00:00, 39.69it/s]\n",
      "100%|██████████| 678/678 [00:06<00:00, 102.71it/s]\n"
     ]
    },
    {
     "name": "stdout",
     "output_type": "stream",
     "text": [
      "\n",
      "Train Loss: 1.1104\n",
      "{'loss': 1.1103874473135087, 'loss_mse_0': 0.009743206443724551, 'loss_mse_1': 0.034322374846313036, 'loss_mse_2': 0.028338656506942724, 'loss_mse_3': 0.018037645934504545, 'loss_mse_4': 0.03961101751375608, 'loss_mse_5': 0.050066427659226836, 'loss_mse_6': 0.02588043215256762, 'loss_mse_7': 0.04552765150432044, 'loss_mse_8': 0.06960741258563372, 'loss_mse_9': 0.0373255826210936, 'loss_mse_10': 0.0605028895124727, 'loss_mse_11': 0.08795178230395169, 'loss_mse_12': 0.05507105340743699, 'loss_mse_13': 0.08847563423249359, 'loss_mse_14': 0.10775813669450526, 'loss_mse_15': 0.08397544452994841, 'loss_mse_16': 0.13765963348264268, 'loss_mse_17': 0.1305324568563145}\n",
      "Valid Loss: 2.3909\n",
      "{'loss': 2.390851177472984, 'loss_mse_0': 0.010889128116673754, 'loss_mse_1': 0.036777320474174674, 'loss_mse_2': 0.04572720474434418, 'loss_mse_3': 0.02119558243696361, 'loss_mse_4': 0.06125547970400623, 'loss_mse_5': 0.09636182828111282, 'loss_mse_6': 0.03197178111829215, 'loss_mse_7': 0.10013107475920809, 'loss_mse_8': 0.14680813127375897, 'loss_mse_9': 0.05450996194738114, 'loss_mse_10': 0.16573748029740995, 'loss_mse_11': 0.196322534392673, 'loss_mse_12': 0.07901821556915928, 'loss_mse_13': 0.26222889955020934, 'loss_mse_14': 0.2459753982854628, 'loss_mse_15': 0.12547927829478167, 'loss_mse_16': 0.41512990098138913, 'loss_mse_17': 0.2953319603571762}\n",
      "Save model : model.pth\n",
      "\n",
      "epoch  13\n",
      "lr  8.535136737043808e-05\n",
      "lr  8.535136737043808e-05\n",
      "lr  8.535136737043808e-05\n",
      "lr  8.535136737043808e-05\n"
     ]
    },
    {
     "name": "stderr",
     "output_type": "stream",
     "text": [
      "100%|██████████| 677/677 [00:16<00:00, 39.91it/s]\n",
      "100%|██████████| 678/678 [00:06<00:00, 102.27it/s]\n"
     ]
    },
    {
     "name": "stdout",
     "output_type": "stream",
     "text": [
      "\n",
      "Train Loss: 0.9446\n",
      "{'loss': 0.9445680416405113, 'loss_mse_0': 0.008888390232661691, 'loss_mse_1': 0.032603076550121825, 'loss_mse_2': 0.02514266936270798, 'loss_mse_3': 0.01615562551156886, 'loss_mse_4': 0.0354816561504274, 'loss_mse_5': 0.043042671888725535, 'loss_mse_6': 0.02293075382794794, 'loss_mse_7': 0.03857114835280479, 'loss_mse_8': 0.05787395313794847, 'loss_mse_9': 0.03387093279741848, 'loss_mse_10': 0.04947832142700341, 'loss_mse_11': 0.07209673817468976, 'loss_mse_12': 0.05034148118471069, 'loss_mse_13': 0.07212781336604228, 'loss_mse_14': 0.08846281282328608, 'loss_mse_15': 0.07692468519070828, 'loss_mse_16': 0.11262865948382121, 'loss_mse_17': 0.10794665382148773}\n",
      "Valid Loss: 2.2774\n",
      "{'loss': 2.277363560456442, 'loss_mse_0': 0.010183557169855322, 'loss_mse_1': 0.03628922054739147, 'loss_mse_2': 0.04574604221457577, 'loss_mse_3': 0.019885614351918893, 'loss_mse_4': 0.06169127366178639, 'loss_mse_5': 0.09597840634309261, 'loss_mse_6': 0.03230529006194202, 'loss_mse_7': 0.09532918060984144, 'loss_mse_8': 0.14664395924404836, 'loss_mse_9': 0.05107864018688995, 'loss_mse_10': 0.15312520274755087, 'loss_mse_11': 0.19564269061659115, 'loss_mse_12': 0.07684552885185389, 'loss_mse_13': 0.2386608840842734, 'loss_mse_14': 0.24462353170555426, 'loss_mse_15': 0.1183884965426187, 'loss_mse_16': 0.36233132930642825, 'loss_mse_17': 0.2926147069869931}\n",
      "Update best score : 2.277363560456442\n",
      "Save model : model.pth\n",
      "\n",
      "epoch  14\n",
      "lr  8.213515761740083e-05\n",
      "lr  8.213515761740083e-05\n",
      "lr  8.213515761740083e-05\n",
      "lr  8.213515761740083e-05\n"
     ]
    },
    {
     "name": "stderr",
     "output_type": "stream",
     "text": [
      "100%|██████████| 677/677 [00:16<00:00, 40.03it/s]\n",
      "100%|██████████| 678/678 [00:06<00:00, 103.45it/s]\n"
     ]
    },
    {
     "name": "stdout",
     "output_type": "stream",
     "text": [
      "\n",
      "Train Loss: 0.8676\n",
      "{'loss': 0.8675950159438428, 'loss_mse_0': 0.008665973139531977, 'loss_mse_1': 0.032751130132056896, 'loss_mse_2': 0.02313659446688157, 'loss_mse_3': 0.015564188825453533, 'loss_mse_4': 0.03607100568797049, 'loss_mse_5': 0.038266673195760485, 'loss_mse_6': 0.021750108232278725, 'loss_mse_7': 0.03912605382116894, 'loss_mse_8': 0.050309437979150294, 'loss_mse_9': 0.030299908185771156, 'loss_mse_10': 0.04903807543614326, 'loss_mse_11': 0.062003148279456834, 'loss_mse_12': 0.04446018713923994, 'loss_mse_13': 0.06971566971429959, 'loss_mse_14': 0.0757785786543058, 'loss_mse_15': 0.06945656223203354, 'loss_mse_16': 0.10795122203437757, 'loss_mse_17': 0.09325049743001271}\n",
      "Valid Loss: 2.2405\n",
      "{'loss': 2.2405463082600483, 'loss_mse_0': 0.009906194499037214, 'loss_mse_1': 0.03567639973315419, 'loss_mse_2': 0.04600446757511579, 'loss_mse_3': 0.01943753593207054, 'loss_mse_4': 0.05967133302326729, 'loss_mse_5': 0.09593854568470105, 'loss_mse_6': 0.03003867022805795, 'loss_mse_7': 0.09400766061146394, 'loss_mse_8': 0.14510736080672273, 'loss_mse_9': 0.048653397062150515, 'loss_mse_10': 0.15005910197261907, 'loss_mse_11': 0.19349935780496372, 'loss_mse_12': 0.07494611485385966, 'loss_mse_13': 0.23533165635359762, 'loss_mse_14': 0.2401600270078773, 'loss_mse_15': 0.11607249512180554, 'loss_mse_16': 0.3594833115406972, 'loss_mse_17': 0.2865526726837531}\n",
      "Update best score : 2.2405463082600483\n",
      "Save model : model.pth\n",
      "\n",
      "epoch  15\n",
      "lr  7.867439513236411e-05\n",
      "lr  7.867439513236411e-05\n",
      "lr  7.867439513236411e-05\n",
      "lr  7.867439513236411e-05\n"
     ]
    },
    {
     "name": "stderr",
     "output_type": "stream",
     "text": [
      "100%|██████████| 677/677 [00:17<00:00, 39.61it/s]\n",
      "100%|██████████| 678/678 [00:06<00:00, 103.67it/s]\n"
     ]
    },
    {
     "name": "stdout",
     "output_type": "stream",
     "text": [
      "\n",
      "Train Loss: 0.7828\n",
      "{'loss': 0.7828079831388888, 'loss_mse_0': 0.00817560277376434, 'loss_mse_1': 0.0309004756189371, 'loss_mse_2': 0.021157749616258957, 'loss_mse_3': 0.014959643197010658, 'loss_mse_4': 0.03274455603467991, 'loss_mse_5': 0.0337955025045347, 'loss_mse_6': 0.020910555585542008, 'loss_mse_7': 0.03493482630804423, 'loss_mse_8': 0.04330377336563969, 'loss_mse_9': 0.029477809137627594, 'loss_mse_10': 0.04377399541250536, 'loss_mse_11': 0.05298229526491778, 'loss_mse_12': 0.04276417242569444, 'loss_mse_13': 0.06293771291176405, 'loss_mse_14': 0.0651392654008184, 'loss_mse_15': 0.06581713965759672, 'loss_mse_16': 0.09782258810907427, 'loss_mse_17': 0.08121032221036437}\n",
      "Valid Loss: 2.2825\n",
      "{'loss': 2.282470226463667, 'loss_mse_0': 0.010313678395132201, 'loss_mse_1': 0.035517470892601176, 'loss_mse_2': 0.046270071001377255, 'loss_mse_3': 0.01989594164406084, 'loss_mse_4': 0.05859168897215332, 'loss_mse_5': 0.0967124878788768, 'loss_mse_6': 0.03255205886070356, 'loss_mse_7': 0.09329520793807498, 'loss_mse_8': 0.14632220175062308, 'loss_mse_9': 0.051602537289075004, 'loss_mse_10': 0.15058883066374293, 'loss_mse_11': 0.19656954107910482, 'loss_mse_12': 0.07846617956912272, 'loss_mse_13': 0.24008386712081753, 'loss_mse_14': 0.24386367705653375, 'loss_mse_15': 0.12014372940765897, 'loss_mse_16': 0.3695790663438473, 'loss_mse_17': 0.2921019872666988}\n",
      "Save model : model.pth\n",
      "\n",
      "epoch  16\n",
      "lr  7.499541840750456e-05\n",
      "lr  7.499541840750456e-05\n",
      "lr  7.499541840750456e-05\n",
      "lr  7.499541840750456e-05\n"
     ]
    },
    {
     "name": "stderr",
     "output_type": "stream",
     "text": [
      "100%|██████████| 677/677 [00:17<00:00, 39.49it/s]\n",
      "100%|██████████| 678/678 [00:06<00:00, 102.51it/s]\n"
     ]
    },
    {
     "name": "stdout",
     "output_type": "stream",
     "text": [
      "\n",
      "Train Loss: 0.8346\n",
      "{'loss': 0.834594258573594, 'loss_mse_0': 0.009226777089038862, 'loss_mse_1': 0.031430734424649616, 'loss_mse_2': 0.021781509932669835, 'loss_mse_3': 0.017268389087869197, 'loss_mse_4': 0.03344639243442494, 'loss_mse_5': 0.035708588016311604, 'loss_mse_6': 0.024573167463409627, 'loss_mse_7': 0.03578789080142358, 'loss_mse_8': 0.04680219208862924, 'loss_mse_9': 0.033670396107266846, 'loss_mse_10': 0.04510048257965633, 'loss_mse_11': 0.057619275448175265, 'loss_mse_12': 0.048611303271403866, 'loss_mse_13': 0.06386863091407534, 'loss_mse_14': 0.07070574285586308, 'loss_mse_15': 0.0733444296164738, 'loss_mse_16': 0.09842809453122373, 'loss_mse_17': 0.08722026087618825}\n",
      "Valid Loss: 2.2973\n",
      "{'loss': 2.2972632065459337, 'loss_mse_0': 0.01258287429541712, 'loss_mse_1': 0.03526985446735667, 'loss_mse_2': 0.045296774528766806, 'loss_mse_3': 0.023973948752870206, 'loss_mse_4': 0.06231650987716947, 'loss_mse_5': 0.09335441115809533, 'loss_mse_6': 0.04030654745473139, 'loss_mse_7': 0.09509167154003649, 'loss_mse_8': 0.141033890481302, 'loss_mse_9': 0.06258478118408922, 'loss_mse_10': 0.14971461058608024, 'loss_mse_11': 0.18798992398488926, 'loss_mse_12': 0.09582860253828202, 'loss_mse_13': 0.23402093216546077, 'loss_mse_14': 0.23435585512875806, 'loss_mse_15': 0.1441056337262501, 'loss_mse_16': 0.35736244842190307, 'loss_mse_17': 0.28207393370810513}\n",
      "Save model : model.pth\n",
      "\n",
      "epoch  17\n",
      "lr  7.112622667712525e-05\n",
      "lr  7.112622667712525e-05\n",
      "lr  7.112622667712525e-05\n",
      "lr  7.112622667712525e-05\n"
     ]
    },
    {
     "name": "stderr",
     "output_type": "stream",
     "text": [
      "100%|██████████| 677/677 [00:17<00:00, 39.49it/s]\n",
      "100%|██████████| 678/678 [00:06<00:00, 99.63it/s] \n"
     ]
    },
    {
     "name": "stdout",
     "output_type": "stream",
     "text": [
      "\n",
      "Train Loss: 0.6282\n",
      "{'loss': 0.628150830306718, 'loss_mse_0': 0.007020185217488298, 'loss_mse_1': 0.028828251612698728, 'loss_mse_2': 0.01901773869457546, 'loss_mse_3': 0.012038179010185833, 'loss_mse_4': 0.028729711268564887, 'loss_mse_5': 0.028732717108047475, 'loss_mse_6': 0.016529600877463378, 'loss_mse_7': 0.028573585692738105, 'loss_mse_8': 0.03518438924989901, 'loss_mse_9': 0.022795093721095224, 'loss_mse_10': 0.03368118564093395, 'loss_mse_11': 0.04214950409364313, 'loss_mse_12': 0.03384094749421894, 'loss_mse_13': 0.046968514522732936, 'loss_mse_14': 0.05144896550431429, 'loss_mse_15': 0.053419836425391665, 'loss_mse_16': 0.0742516729270866, 'loss_mse_17': 0.06494075315763714}\n",
      "Valid Loss: 2.2393\n",
      "{'loss': 2.239334698975262, 'loss_mse_0': 0.009744081655132604, 'loss_mse_1': 0.03502366000272685, 'loss_mse_2': 0.04617629379547781, 'loss_mse_3': 0.018640015114944945, 'loss_mse_4': 0.057303208749257796, 'loss_mse_5': 0.09600236478665497, 'loss_mse_6': 0.03024644474224201, 'loss_mse_7': 0.0910972530244792, 'loss_mse_8': 0.1445102988409873, 'loss_mse_9': 0.05023305819460512, 'loss_mse_10': 0.14873814302603755, 'loss_mse_11': 0.19139603032540958, 'loss_mse_12': 0.07830529651744703, 'loss_mse_13': 0.23827847635653693, 'loss_mse_14': 0.2389736919056701, 'loss_mse_15': 0.1183367115871261, 'loss_mse_16': 0.3608539979300492, 'loss_mse_17': 0.2854756657473721}\n",
      "Update best score : 2.239334698975262\n",
      "Save model : model.pth\n",
      "\n",
      "epoch  18\n",
      "lr  6.709626682657622e-05\n",
      "lr  6.709626682657622e-05\n",
      "lr  6.709626682657622e-05\n",
      "lr  6.709626682657622e-05\n"
     ]
    },
    {
     "name": "stderr",
     "output_type": "stream",
     "text": [
      "100%|██████████| 677/677 [00:17<00:00, 39.30it/s]\n",
      "100%|██████████| 678/678 [00:06<00:00, 105.24it/s]\n"
     ]
    },
    {
     "name": "stdout",
     "output_type": "stream",
     "text": [
      "\n",
      "Train Loss: 0.5209\n",
      "{'loss': 0.5209498982133682, 'loss_mse_0': 0.006273198244471427, 'loss_mse_1': 0.026718708287932783, 'loss_mse_2': 0.017326941678267482, 'loss_mse_3': 0.010371223179777558, 'loss_mse_4': 0.02533257846958506, 'loss_mse_5': 0.024846280088573914, 'loss_mse_6': 0.013568677580427032, 'loss_mse_7': 0.02365562795596734, 'loss_mse_8': 0.029045817938164162, 'loss_mse_9': 0.0181854389775737, 'loss_mse_10': 0.02683478632069673, 'loss_mse_11': 0.03372854599247699, 'loss_mse_12': 0.027367537524110943, 'loss_mse_13': 0.037284254484384854, 'loss_mse_14': 0.04161502441812301, 'loss_mse_15': 0.0447201221820897, 'loss_mse_16': 0.06063797654641828, 'loss_mse_17': 0.053437157278189894}\n",
      "Valid Loss: 2.2091\n",
      "{'loss': 2.209085582104404, 'loss_mse_0': 0.010573507540730161, 'loss_mse_1': 0.03517990578707736, 'loss_mse_2': 0.045824247556614926, 'loss_mse_3': 0.019076655572142925, 'loss_mse_4': 0.05835421178709704, 'loss_mse_5': 0.0953043683550175, 'loss_mse_6': 0.032645984588515094, 'loss_mse_7': 0.09090562899539296, 'loss_mse_8': 0.14237783014071023, 'loss_mse_9': 0.05182762540448292, 'loss_mse_10': 0.14424999166214098, 'loss_mse_11': 0.1910442633384009, 'loss_mse_12': 0.07887350753290376, 'loss_mse_13': 0.2246943971850967, 'loss_mse_14': 0.2369578180169813, 'loss_mse_15': 0.12503010553794097, 'loss_mse_16': 0.34163037150724623, 'loss_mse_17': 0.2845351654091152}\n",
      "Update best score : 2.209085582104404\n",
      "Save model : model.pth\n",
      "\n",
      "epoch  19\n",
      "lr  6.293620928367642e-05\n",
      "lr  6.293620928367642e-05\n",
      "lr  6.293620928367642e-05\n",
      "lr  6.293620928367642e-05\n"
     ]
    },
    {
     "name": "stderr",
     "output_type": "stream",
     "text": [
      "100%|██████████| 677/677 [00:16<00:00, 39.89it/s]\n",
      "100%|██████████| 678/678 [00:06<00:00, 102.44it/s]\n"
     ]
    },
    {
     "name": "stdout",
     "output_type": "stream",
     "text": [
      "\n",
      "Train Loss: 0.4561\n",
      "{'loss': 0.45609390156748025, 'loss_mse_0': 0.005788474512923416, 'loss_mse_1': 0.025784737779243, 'loss_mse_2': 0.01623251771814351, 'loss_mse_3': 0.009274542380531527, 'loss_mse_4': 0.024192539519359367, 'loss_mse_5': 0.022602314773969012, 'loss_mse_6': 0.011861662021693684, 'loss_mse_7': 0.02177410253476313, 'loss_mse_8': 0.025603559424624705, 'loss_mse_9': 0.014960383561658542, 'loss_mse_10': 0.023971174115884602, 'loss_mse_11': 0.029071907122155852, 'loss_mse_12': 0.021942547176506486, 'loss_mse_13': 0.0320895985140296, 'loss_mse_14': 0.03520340343973045, 'loss_mse_15': 0.037280254903768066, 'loss_mse_16': 0.05262540790501382, 'loss_mse_17': 0.045834772349328375}\n",
      "Valid Loss: 2.2312\n",
      "{'loss': 2.2312457056875425, 'loss_mse_0': 0.008613670036020885, 'loss_mse_1': 0.03730427030924499, 'loss_mse_2': 0.045876173112283196, 'loss_mse_3': 0.016195329702541693, 'loss_mse_4': 0.06214854682542955, 'loss_mse_5': 0.09448742145359253, 'loss_mse_6': 0.02649009429745288, 'loss_mse_7': 0.09611200536724872, 'loss_mse_8': 0.14127475865031414, 'loss_mse_9': 0.043399321765619656, 'loss_mse_10': 0.15353999519720674, 'loss_mse_11': 0.18721648207577193, 'loss_mse_12': 0.07443133245736008, 'loss_mse_13': 0.24402589267971417, 'loss_mse_14': 0.23281490754413042, 'loss_mse_15': 0.11688924354163155, 'loss_mse_16': 0.37174996099322155, 'loss_mse_17': 0.2786762974881581}\n",
      "Save model : model.pth\n",
      "\n",
      "epoch  20\n",
      "lr  5.867771459823876e-05\n",
      "lr  5.867771459823876e-05\n",
      "lr  5.867771459823876e-05\n",
      "lr  5.867771459823876e-05\n"
     ]
    },
    {
     "name": "stderr",
     "output_type": "stream",
     "text": [
      "100%|██████████| 677/677 [00:17<00:00, 39.77it/s]\n",
      "100%|██████████| 678/678 [00:06<00:00, 101.62it/s]\n"
     ]
    },
    {
     "name": "stdout",
     "output_type": "stream",
     "text": [
      "\n",
      "Train Loss: 0.4237\n",
      "{'loss': 0.42372480827208986, 'loss_mse_0': 0.005367463318585656, 'loss_mse_1': 0.024860109380711877, 'loss_mse_2': 0.015624342769648511, 'loss_mse_3': 0.008768302082060734, 'loss_mse_4': 0.022660466238438114, 'loss_mse_5': 0.021225635120521356, 'loss_mse_6': 0.01119578913737369, 'loss_mse_7': 0.020215919107182206, 'loss_mse_8': 0.023532988693416558, 'loss_mse_9': 0.014228236147558847, 'loss_mse_10': 0.022211217641296688, 'loss_mse_11': 0.026248666286562052, 'loss_mse_12': 0.020464012763178198, 'loss_mse_13': 0.030510925886632553, 'loss_mse_14': 0.03181816362934063, 'loss_mse_15': 0.03357059041937838, 'loss_mse_16': 0.04904187002124339, 'loss_mse_17': 0.04218010885291561}\n",
      "Valid Loss: 2.1829\n",
      "{'loss': 2.182900440815979, 'loss_mse_0': 0.008310132403445917, 'loss_mse_1': 0.03563918546700691, 'loss_mse_2': 0.045984328021831083, 'loss_mse_3': 0.01639116067023107, 'loss_mse_4': 0.059158420731426166, 'loss_mse_5': 0.09591897210974389, 'loss_mse_6': 0.025772882405679487, 'loss_mse_7': 0.09430854020305088, 'loss_mse_8': 0.1428795648947534, 'loss_mse_9': 0.0434291874467887, 'loss_mse_10': 0.14900519592127046, 'loss_mse_11': 0.1890695400283312, 'loss_mse_12': 0.07412170108330812, 'loss_mse_13': 0.22834760517398428, 'loss_mse_14': 0.2343502003688552, 'loss_mse_15': 0.11913816777818938, 'loss_mse_16': 0.34151580823162314, 'loss_mse_17': 0.2795598401981997}\n",
      "Update best score : 2.182900440815979\n",
      "Save model : model.pth\n",
      "\n",
      "epoch  21\n",
      "lr  5.4353192486168775e-05\n",
      "lr  5.4353192486168775e-05\n",
      "lr  5.4353192486168775e-05\n",
      "lr  5.4353192486168775e-05\n"
     ]
    },
    {
     "name": "stderr",
     "output_type": "stream",
     "text": [
      "100%|██████████| 677/677 [00:17<00:00, 39.80it/s]\n",
      "100%|██████████| 678/678 [00:06<00:00, 102.54it/s]\n"
     ]
    },
    {
     "name": "stdout",
     "output_type": "stream",
     "text": [
      "\n",
      "Train Loss: 0.3904\n",
      "{'loss': 0.3904111542060773, 'loss_mse_0': 0.005217776570002792, 'loss_mse_1': 0.023481528564635527, 'loss_mse_2': 0.015203667560075046, 'loss_mse_3': 0.00818614523439631, 'loss_mse_4': 0.020503526067903247, 'loss_mse_5': 0.02038202748635297, 'loss_mse_6': 0.010071709840469052, 'loss_mse_7': 0.01821474770381166, 'loss_mse_8': 0.02234653380604535, 'loss_mse_9': 0.012884637351564655, 'loss_mse_10': 0.0196628971279845, 'loss_mse_11': 0.024818303377162582, 'loss_mse_12': 0.018499067564944748, 'loss_mse_13': 0.02648921673801044, 'loss_mse_14': 0.03011898707565432, 'loss_mse_15': 0.03110685922409046, 'loss_mse_16': 0.04340878972010563, 'loss_mse_17': 0.03981473134002446}\n",
      "Valid Loss: 2.1632\n",
      "{'loss': 2.16323777584903, 'loss_mse_0': 0.009138369522398134, 'loss_mse_1': 0.03529949453219793, 'loss_mse_2': 0.045232628706353646, 'loss_mse_3': 0.02078182385770115, 'loss_mse_4': 0.05846040547553417, 'loss_mse_5': 0.09290070813231632, 'loss_mse_6': 0.03104012581495057, 'loss_mse_7': 0.09029901250482572, 'loss_mse_8': 0.13968109327112943, 'loss_mse_9': 0.0513105989422836, 'loss_mse_10': 0.1421125493215666, 'loss_mse_11': 0.18569585135354932, 'loss_mse_12': 0.07551730230483597, 'loss_mse_13': 0.22293290248893444, 'loss_mse_14': 0.23139247809231808, 'loss_mse_15': 0.11590155231928491, 'loss_mse_16': 0.33738599445637873, 'loss_mse_17': 0.27815488576449476}\n",
      "Update best score : 2.16323777584903\n",
      "Save model : model.pth\n",
      "\n",
      "epoch  22\n",
      "lr  4.999555517195721e-05\n",
      "lr  4.999555517195721e-05\n",
      "lr  4.999555517195721e-05\n",
      "lr  4.999555517195721e-05\n"
     ]
    },
    {
     "name": "stderr",
     "output_type": "stream",
     "text": [
      "100%|██████████| 677/677 [00:16<00:00, 39.96it/s]\n",
      "100%|██████████| 678/678 [00:06<00:00, 102.77it/s]\n"
     ]
    },
    {
     "name": "stdout",
     "output_type": "stream",
     "text": [
      "\n",
      "Train Loss: 0.3726\n",
      "{'loss': 0.37262091764759275, 'loss_mse_0': 0.004996001358457636, 'loss_mse_1': 0.022206886033520674, 'loss_mse_2': 0.014829455871077219, 'loss_mse_3': 0.008171420105034142, 'loss_mse_4': 0.019010247738324822, 'loss_mse_5': 0.019551503272559303, 'loss_mse_6': 0.010039584018204753, 'loss_mse_7': 0.016841336752548043, 'loss_mse_8': 0.02083695754601429, 'loss_mse_9': 0.012934391736912718, 'loss_mse_10': 0.018339241112677308, 'loss_mse_11': 0.023237625018664616, 'loss_mse_12': 0.018279382670119384, 'loss_mse_13': 0.024934623353981153, 'loss_mse_14': 0.02821328786051828, 'loss_mse_15': 0.029807681704085855, 'loss_mse_16': 0.04219685339174912, 'loss_mse_17': 0.03819443793634456}\n",
      "Valid Loss: 2.1413\n",
      "{'loss': 2.1412941032806327, 'loss_mse_0': 0.00835228317597837, 'loss_mse_1': 0.03526198240560219, 'loss_mse_2': 0.045717938643795024, 'loss_mse_3': 0.01557471987703447, 'loss_mse_4': 0.05886298612001899, 'loss_mse_5': 0.09405030475127178, 'loss_mse_6': 0.025304465370587895, 'loss_mse_7': 0.09158368462388979, 'loss_mse_8': 0.140437202267129, 'loss_mse_9': 0.0415966267104104, 'loss_mse_10': 0.14388922929549508, 'loss_mse_11': 0.18626270811883924, 'loss_mse_12': 0.06790042759103365, 'loss_mse_13': 0.2262669955888505, 'loss_mse_14': 0.23137861146841604, 'loss_mse_15': 0.10852013933019036, 'loss_mse_16': 0.3437167081959919, 'loss_mse_17': 0.276617090912827}\n",
      "Update best score : 2.1412941032806327\n",
      "Save model : model.pth\n",
      "\n",
      "epoch  23\n",
      "lr  4.563796690677853e-05\n",
      "lr  4.563796690677853e-05\n",
      "lr  4.563796690677853e-05\n",
      "lr  4.563796690677853e-05\n"
     ]
    },
    {
     "name": "stderr",
     "output_type": "stream",
     "text": [
      "100%|██████████| 677/677 [00:16<00:00, 39.97it/s]\n",
      "100%|██████████| 678/678 [00:06<00:00, 103.48it/s]\n"
     ]
    },
    {
     "name": "stdout",
     "output_type": "stream",
     "text": [
      "\n",
      "Train Loss: 0.3227\n",
      "{'loss': 0.3227427746643872, 'loss_mse_0': 0.004546726568900544, 'loss_mse_1': 0.02097974776392156, 'loss_mse_2': 0.013974564904525899, 'loss_mse_3': 0.007307517893221697, 'loss_mse_4': 0.017197056009710672, 'loss_mse_5': 0.017714921464838166, 'loss_mse_6': 0.008773348478537103, 'loss_mse_7': 0.014538381745326201, 'loss_mse_8': 0.01825405189222718, 'loss_mse_9': 0.010485193075851553, 'loss_mse_10': 0.015638191623687524, 'loss_mse_11': 0.0194200949435242, 'loss_mse_12': 0.015007247033348771, 'loss_mse_13': 0.021297212186623008, 'loss_mse_14': 0.023528894618637806, 'loss_mse_15': 0.02515182285906645, 'loss_mse_16': 0.03627298935350894, 'loss_mse_17': 0.032654812193559576}\n",
      "Valid Loss: 2.1562\n",
      "{'loss': 2.156171826310566, 'loss_mse_0': 0.007648937803367565, 'loss_mse_1': 0.03720396814200269, 'loss_mse_2': 0.04532491581948545, 'loss_mse_3': 0.014084642158222322, 'loss_mse_4': 0.06390985759911966, 'loss_mse_5': 0.09247533581288295, 'loss_mse_6': 0.02386541716935756, 'loss_mse_7': 0.09549863803115259, 'loss_mse_8': 0.13861836531751714, 'loss_mse_9': 0.039394741732995286, 'loss_mse_10': 0.15080108630929726, 'loss_mse_11': 0.18377528276712055, 'loss_mse_12': 0.06548670072734883, 'loss_mse_13': 0.23484844407808464, 'loss_mse_14': 0.228536897715302, 'loss_mse_15': 0.10598977791436653, 'loss_mse_16': 0.35521441759063604, 'loss_mse_17': 0.27349441333132685}\n",
      "Save model : model.pth\n",
      "\n",
      "epoch  24\n",
      "lr  4.131359156851449e-05\n",
      "lr  4.131359156851449e-05\n",
      "lr  4.131359156851449e-05\n",
      "lr  4.131359156851449e-05\n"
     ]
    },
    {
     "name": "stderr",
     "output_type": "stream",
     "text": [
      "100%|██████████| 677/677 [00:16<00:00, 40.03it/s]\n",
      "100%|██████████| 678/678 [00:06<00:00, 102.86it/s]\n"
     ]
    },
    {
     "name": "stdout",
     "output_type": "stream",
     "text": [
      "\n",
      "Train Loss: 0.2898\n",
      "{'loss': 0.28975508713123543, 'loss_mse_0': 0.0040597132356573265, 'loss_mse_1': 0.01938776353558462, 'loss_mse_2': 0.013489956829278693, 'loss_mse_3': 0.006307422030067822, 'loss_mse_4': 0.015487901184108092, 'loss_mse_5': 0.016861705810720298, 'loss_mse_6': 0.007432513982759159, 'loss_mse_7': 0.013354653050638791, 'loss_mse_8': 0.016891313763541697, 'loss_mse_9': 0.008836245507846533, 'loss_mse_10': 0.014177159862964245, 'loss_mse_11': 0.017649787993334026, 'loss_mse_12': 0.01286628039036513, 'loss_mse_13': 0.018819909247719688, 'loss_mse_14': 0.02114234100188097, 'loss_mse_15': 0.021763029435382636, 'loss_mse_16': 0.03192805465822558, 'loss_mse_17': 0.02929933605291929}\n",
      "Valid Loss: 2.1913\n",
      "{'loss': 2.19130970788213, 'loss_mse_0': 0.00851427244879635, 'loss_mse_1': 0.038088343266238375, 'loss_mse_2': 0.045276485617714864, 'loss_mse_3': 0.018396314845838004, 'loss_mse_4': 0.06142160779271813, 'loss_mse_5': 0.09285235049884359, 'loss_mse_6': 0.03122362959649205, 'loss_mse_7': 0.09235651997277915, 'loss_mse_8': 0.13906006208980856, 'loss_mse_9': 0.05213822408889731, 'loss_mse_10': 0.14534409856011646, 'loss_mse_11': 0.1838487893189125, 'loss_mse_12': 0.08039646349012149, 'loss_mse_13': 0.23008393558637846, 'loss_mse_14': 0.22797568787471734, 'loss_mse_15': 0.12537666690978153, 'loss_mse_16': 0.34687642110264405, 'loss_mse_17': 0.27207982762659016}\n",
      "Save model : model.pth\n",
      "\n",
      "epoch  25\n",
      "lr  3.705534026461852e-05\n",
      "lr  3.705534026461852e-05\n",
      "lr  3.705534026461852e-05\n",
      "lr  3.705534026461852e-05\n"
     ]
    },
    {
     "name": "stderr",
     "output_type": "stream",
     "text": [
      "100%|██████████| 677/677 [00:17<00:00, 39.78it/s]\n",
      "100%|██████████| 678/678 [00:06<00:00, 102.55it/s]\n"
     ]
    },
    {
     "name": "stdout",
     "output_type": "stream",
     "text": [
      "\n",
      "Train Loss: 0.2830\n",
      "{'loss': 0.2829926211601522, 'loss_mse_0': 0.00407299501759494, 'loss_mse_1': 0.018508830234653245, 'loss_mse_2': 0.013290199614164352, 'loss_mse_3': 0.006097612250802634, 'loss_mse_4': 0.014716062668994332, 'loss_mse_5': 0.016281555159130247, 'loss_mse_6': 0.007283110577376501, 'loss_mse_7': 0.012990294959109987, 'loss_mse_8': 0.01619770008509365, 'loss_mse_9': 0.008859199857300744, 'loss_mse_10': 0.013909815592922413, 'loss_mse_11': 0.016797358397135795, 'loss_mse_12': 0.012696672170085934, 'loss_mse_13': 0.018576557794104342, 'loss_mse_14': 0.020671293993055423, 'loss_mse_15': 0.021811563760988646, 'loss_mse_16': 0.03102238021207701, 'loss_mse_17': 0.02920941865701707}\n",
      "Valid Loss: 2.0827\n",
      "{'loss': 2.082722566296569, 'loss_mse_0': 0.008060455316771097, 'loss_mse_1': 0.03504352931140656, 'loss_mse_2': 0.045165992407869976, 'loss_mse_3': 0.014874016571443825, 'loss_mse_4': 0.05677003652382104, 'loss_mse_5': 0.09198997173029765, 'loss_mse_6': 0.024437229799458365, 'loss_mse_7': 0.08726490832106994, 'loss_mse_8': 0.13798348852611836, 'loss_mse_9': 0.04198755909878332, 'loss_mse_10': 0.13798346055759486, 'loss_mse_11': 0.18282301337416984, 'loss_mse_12': 0.06764086637134968, 'loss_mse_13': 0.2160848968093638, 'loss_mse_14': 0.22689536483381437, 'loss_mse_15': 0.10909898258789627, 'loss_mse_16': 0.3278337163784731, 'loss_mse_17': 0.27078508294481446}\n",
      "Update best score : 2.082722566296569\n",
      "Save model : model.pth\n",
      "\n",
      "epoch  26\n",
      "lr  3.289562085871569e-05\n",
      "lr  3.289562085871569e-05\n",
      "lr  3.289562085871569e-05\n",
      "lr  3.289562085871569e-05\n"
     ]
    },
    {
     "name": "stderr",
     "output_type": "stream",
     "text": [
      "100%|██████████| 677/677 [00:16<00:00, 39.94it/s]\n",
      "100%|██████████| 678/678 [00:06<00:00, 103.08it/s]\n"
     ]
    },
    {
     "name": "stdout",
     "output_type": "stream",
     "text": [
      "\n",
      "Train Loss: 0.2520\n",
      "{'loss': 0.25200490360774175, 'loss_mse_0': 0.0036189488266481903, 'loss_mse_1': 0.01699315617067335, 'loss_mse_2': 0.012823168569735555, 'loss_mse_3': 0.005338241763693587, 'loss_mse_4': 0.012880203133226102, 'loss_mse_5': 0.015504478708396567, 'loss_mse_6': 0.006202035555182688, 'loss_mse_7': 0.011554194061275423, 'loss_mse_8': 0.015031188203330033, 'loss_mse_9': 0.0075161830564077665, 'loss_mse_10': 0.012419072804185652, 'loss_mse_11': 0.015354868641227726, 'loss_mse_12': 0.010600348578578899, 'loss_mse_13': 0.01612115516760655, 'loss_mse_14': 0.018284725252280296, 'loss_mse_15': 0.018609706881253855, 'loss_mse_16': 0.027183288993778882, 'loss_mse_17': 0.02596993885997633}\n",
      "Valid Loss: 2.0873\n",
      "{'loss': 2.0872813839476367, 'loss_mse_0': 0.0072411569597743515, 'loss_mse_1': 0.03601342865889535, 'loss_mse_2': 0.04471335976225239, 'loss_mse_3': 0.01407982841385446, 'loss_mse_4': 0.05829694577022991, 'loss_mse_5': 0.09154807865498779, 'loss_mse_6': 0.02382444763682497, 'loss_mse_7': 0.08924421154726352, 'loss_mse_8': 0.13677293888587164, 'loss_mse_9': 0.03960122130357916, 'loss_mse_10': 0.14019317723601882, 'loss_mse_11': 0.1809348009010244, 'loss_mse_12': 0.0662770827855794, 'loss_mse_13': 0.2198937717539459, 'loss_mse_14': 0.22464275211755153, 'loss_mse_15': 0.10891029393097117, 'loss_mse_16': 0.33708923909219757, 'loss_mse_17': 0.26800464801380414}\n",
      "Save model : model.pth\n",
      "\n",
      "epoch  27\n",
      "lr  2.8866091327192165e-05\n",
      "lr  2.8866091327192165e-05\n",
      "lr  2.8866091327192165e-05\n",
      "lr  2.8866091327192165e-05\n"
     ]
    },
    {
     "name": "stderr",
     "output_type": "stream",
     "text": [
      "100%|██████████| 677/677 [00:17<00:00, 39.81it/s]\n",
      "100%|██████████| 678/678 [00:06<00:00, 102.00it/s]\n"
     ]
    },
    {
     "name": "stdout",
     "output_type": "stream",
     "text": [
      "\n",
      "Train Loss: 0.2263\n",
      "{'loss': 0.2263290992163485, 'loss_mse_0': 0.0034077058993678875, 'loss_mse_1': 0.01635340430073583, 'loss_mse_2': 0.012310380561475365, 'loss_mse_3': 0.005039938872898798, 'loss_mse_4': 0.011763672829651036, 'loss_mse_5': 0.014256205902939753, 'loss_mse_6': 0.005711004935188475, 'loss_mse_7': 0.00994907018619877, 'loss_mse_8': 0.013460962450203309, 'loss_mse_9': 0.006604110867478382, 'loss_mse_10': 0.010234249806639627, 'loss_mse_11': 0.01351635388485218, 'loss_mse_12': 0.009246961142113942, 'loss_mse_13': 0.013286577498449489, 'loss_mse_14': 0.01672714781924048, 'loss_mse_15': 0.016442006280538428, 'loss_mse_16': 0.022982697537034046, 'loss_mse_17': 0.02503664837531096}\n",
      "Valid Loss: 2.0921\n",
      "{'loss': 2.092075865177278, 'loss_mse_0': 0.006951456984977586, 'loss_mse_1': 0.03678127895741226, 'loss_mse_2': 0.044954871976539315, 'loss_mse_3': 0.013135235718517374, 'loss_mse_4': 0.060153304965985296, 'loss_mse_5': 0.09178304451223804, 'loss_mse_6': 0.022166985925012282, 'loss_mse_7': 0.09022218081688063, 'loss_mse_8': 0.1372609627089713, 'loss_mse_9': 0.03794597531462797, 'loss_mse_10': 0.14107380379101256, 'loss_mse_11': 0.18161904229439113, 'loss_mse_12': 0.06609964740921394, 'loss_mse_13': 0.22034847450368436, 'loss_mse_14': 0.2257101847336883, 'loss_mse_15': 0.10863464127039224, 'loss_mse_16': 0.33699958923940376, 'loss_mse_17': 0.2702351852009694}\n",
      "Save model : model.pth\n",
      "\n",
      "epoch  28\n",
      "lr  2.4997418822879262e-05\n",
      "lr  2.4997418822879262e-05\n",
      "lr  2.4997418822879262e-05\n",
      "lr  2.4997418822879262e-05\n"
     ]
    },
    {
     "name": "stderr",
     "output_type": "stream",
     "text": [
      "100%|██████████| 677/677 [00:16<00:00, 40.19it/s]\n",
      "100%|██████████| 678/678 [00:06<00:00, 100.56it/s]\n"
     ]
    },
    {
     "name": "stdout",
     "output_type": "stream",
     "text": [
      "\n",
      "Train Loss: 0.2119\n",
      "{'loss': 0.21188740315606358, 'loss_mse_0': 0.0032864676243687485, 'loss_mse_1': 0.015488684078007166, 'loss_mse_2': 0.012116568055391817, 'loss_mse_3': 0.004630314852723211, 'loss_mse_4': 0.010766971609768413, 'loss_mse_5': 0.01395381951052558, 'loss_mse_6': 0.005492534072645988, 'loss_mse_7': 0.008993000501940135, 'loss_mse_8': 0.012876869855101936, 'loss_mse_9': 0.006554591520538105, 'loss_mse_10': 0.008974134750757779, 'loss_mse_11': 0.012794276511646047, 'loss_mse_12': 0.009512057435042617, 'loss_mse_13': 0.011582342543236174, 'loss_mse_14': 0.015206044922930848, 'loss_mse_15': 0.016533933991244396, 'loss_mse_16': 0.020726852006164753, 'loss_mse_17': 0.02239793902840823}\n",
      "Valid Loss: 2.0689\n",
      "{'loss': 2.068919696726982, 'loss_mse_0': 0.00701966529655762, 'loss_mse_1': 0.03607490754605252, 'loss_mse_2': 0.04484664122464141, 'loss_mse_3': 0.013156844651914452, 'loss_mse_4': 0.05850027588396649, 'loss_mse_5': 0.0911879232950003, 'loss_mse_6': 0.022450386547238996, 'loss_mse_7': 0.08944105700614442, 'loss_mse_8': 0.13648066968879605, 'loss_mse_9': 0.037350724425831684, 'loss_mse_10': 0.14065161221289793, 'loss_mse_11': 0.18061300960251275, 'loss_mse_12': 0.0626903310552745, 'loss_mse_13': 0.2195187057437139, 'loss_mse_14': 0.22421743657582804, 'loss_mse_15': 0.10356999800752047, 'loss_mse_16': 0.33375138338864024, 'loss_mse_17': 0.26739812556071796}\n",
      "Update best score : 2.068919696726982\n",
      "Save model : model.pth\n",
      "\n",
      "epoch  29\n",
      "lr  2.1319046279503196e-05\n",
      "lr  2.1319046279503196e-05\n",
      "lr  2.1319046279503196e-05\n",
      "lr  2.1319046279503196e-05\n"
     ]
    },
    {
     "name": "stderr",
     "output_type": "stream",
     "text": [
      "100%|██████████| 677/677 [00:16<00:00, 39.91it/s]\n",
      "100%|██████████| 678/678 [00:06<00:00, 102.17it/s]\n"
     ]
    },
    {
     "name": "stdout",
     "output_type": "stream",
     "text": [
      "\n",
      "Train Loss: 0.1971\n",
      "{'loss': 0.19713469102780612, 'loss_mse_0': 0.003122685315325427, 'loss_mse_1': 0.01476928318384347, 'loss_mse_2': 0.011744147028355823, 'loss_mse_3': 0.0044016648196385545, 'loss_mse_4': 0.009771702819719823, 'loss_mse_5': 0.013519602490002992, 'loss_mse_6': 0.005116023834653067, 'loss_mse_7': 0.007959260522735965, 'loss_mse_8': 0.01272273129072354, 'loss_mse_9': 0.005803223767082593, 'loss_mse_10': 0.008007701494946989, 'loss_mse_11': 0.012553204664688122, 'loss_mse_12': 0.008024447153912557, 'loss_mse_13': 0.010411762642747058, 'loss_mse_14': 0.014822460166584464, 'loss_mse_15': 0.014416259160455167, 'loss_mse_16': 0.01872023645282188, 'loss_mse_17': 0.021248294162994563}\n",
      "Valid Loss: 2.0620\n",
      "{'loss': 2.0620211916687214, 'loss_mse_0': 0.006864286555323453, 'loss_mse_1': 0.03568942561968172, 'loss_mse_2': 0.044546129638713766, 'loss_mse_3': 0.012462513075570046, 'loss_mse_4': 0.058206534824625296, 'loss_mse_5': 0.09070175644944375, 'loss_mse_6': 0.02116064032626264, 'loss_mse_7': 0.08872463999338075, 'loss_mse_8': 0.13592283238978248, 'loss_mse_9': 0.03719886432533705, 'loss_mse_10': 0.14011786496513975, 'loss_mse_11': 0.17978628730857443, 'loss_mse_12': 0.06335741381097727, 'loss_mse_13': 0.21921178784254378, 'loss_mse_14': 0.2227738860522048, 'loss_mse_15': 0.10593864262367772, 'loss_mse_16': 0.3339202580204272, 'loss_mse_17': 0.2654374226966219}\n",
      "Update best score : 2.0620211916687214\n",
      "Save model : model.pth\n",
      "\n",
      "epoch  30\n",
      "lr  1.785896833318108e-05\n",
      "lr  1.785896833318108e-05\n",
      "lr  1.785896833318108e-05\n",
      "lr  1.785896833318108e-05\n"
     ]
    },
    {
     "name": "stderr",
     "output_type": "stream",
     "text": [
      "100%|██████████| 677/677 [00:16<00:00, 39.89it/s]\n",
      "100%|██████████| 678/678 [00:06<00:00, 101.67it/s]\n"
     ]
    },
    {
     "name": "stdout",
     "output_type": "stream",
     "text": [
      "\n",
      "Train Loss: 0.1820\n",
      "{'loss': 0.18198182073970665, 'loss_mse_0': 0.0028984251337888013, 'loss_mse_1': 0.013839132764151092, 'loss_mse_2': 0.011501070593643322, 'loss_mse_3': 0.004007749842924163, 'loss_mse_4': 0.008993195314125393, 'loss_mse_5': 0.012704269739729043, 'loss_mse_6': 0.00448162481996975, 'loss_mse_7': 0.007565102128805854, 'loss_mse_8': 0.011375744105213524, 'loss_mse_9': 0.005044826488849739, 'loss_mse_10': 0.007468694040140459, 'loss_mse_11': 0.01097706574093732, 'loss_mse_12': 0.0068751253678423505, 'loss_mse_13': 0.009480609030268834, 'loss_mse_14': 0.013779048136940317, 'loss_mse_15': 0.01270428202197539, 'loss_mse_16': 0.01684053536254137, 'loss_mse_17': 0.02144531921058497}\n",
      "Valid Loss: 2.0536\n",
      "{'loss': 2.053615021758375, 'loss_mse_0': 0.006684985942108375, 'loss_mse_1': 0.03581363220587867, 'loss_mse_2': 0.04446970760083282, 'loss_mse_3': 0.012677385576844084, 'loss_mse_4': 0.05712926713818448, 'loss_mse_5': 0.09054482912309578, 'loss_mse_6': 0.021198274890183413, 'loss_mse_7': 0.08694914444610696, 'loss_mse_8': 0.1357490484380221, 'loss_mse_9': 0.0361115189762319, 'loss_mse_10': 0.1392894579828401, 'loss_mse_11': 0.1792816369242109, 'loss_mse_12': 0.06166521577812885, 'loss_mse_13': 0.21952116330343802, 'loss_mse_14': 0.22216064193640397, 'loss_mse_15': 0.10354432518041767, 'loss_mse_16': 0.3359983575923209, 'loss_mse_17': 0.2648264183539205}\n",
      "Update best score : 2.053615021758375\n",
      "Save model : model.pth\n",
      "\n",
      "epoch  31\n",
      "lr  1.4643518266336616e-05\n",
      "lr  1.4643518266336616e-05\n",
      "lr  1.4643518266336616e-05\n",
      "lr  1.4643518266336616e-05\n"
     ]
    },
    {
     "name": "stderr",
     "output_type": "stream",
     "text": [
      "100%|██████████| 677/677 [00:16<00:00, 40.01it/s]\n",
      "100%|██████████| 678/678 [00:06<00:00, 103.73it/s]\n"
     ]
    },
    {
     "name": "stdout",
     "output_type": "stream",
     "text": [
      "\n",
      "Train Loss: 0.1690\n",
      "{'loss': 0.16900114784432654, 'loss_mse_0': 0.002743566309533837, 'loss_mse_1': 0.013118491980950163, 'loss_mse_2': 0.011304301375171041, 'loss_mse_3': 0.003672023502933728, 'loss_mse_4': 0.008225338032436138, 'loss_mse_5': 0.012547801561004303, 'loss_mse_6': 0.0039945747318128715, 'loss_mse_7': 0.0067549387259241, 'loss_mse_8': 0.011197829041272358, 'loss_mse_9': 0.004345726477328902, 'loss_mse_10': 0.006622477753385021, 'loss_mse_11': 0.01058241494682286, 'loss_mse_12': 0.006083698677754737, 'loss_mse_13': 0.00855718049333545, 'loss_mse_14': 0.01285912938026692, 'loss_mse_15': 0.011381093510653565, 'loss_mse_16': 0.015441427444089948, 'loss_mse_17': 0.019569134441489132}\n",
      "Valid Loss: 2.0267\n",
      "{'loss': 2.026714611897426, 'loss_mse_0': 0.00662423594347215, 'loss_mse_1': 0.03557352497480029, 'loss_mse_2': 0.044511043722123174, 'loss_mse_3': 0.012524385740472262, 'loss_mse_4': 0.056749784525698135, 'loss_mse_5': 0.09049485407352095, 'loss_mse_6': 0.021078724935060165, 'loss_mse_7': 0.0858128024086598, 'loss_mse_8': 0.1355752538268765, 'loss_mse_9': 0.035846546713323234, 'loss_mse_10': 0.13556175595039507, 'loss_mse_11': 0.17899838711923555, 'loss_mse_12': 0.061838374745133706, 'loss_mse_13': 0.21229109103217236, 'loss_mse_14': 0.22161834639741607, 'loss_mse_15': 0.1021989935151903, 'loss_mse_16': 0.3251323929073009, 'loss_mse_17': 0.2642841189495318}\n",
      "Update best score : 2.026714611897426\n",
      "Save model : model.pth\n",
      "\n",
      "epoch  32\n",
      "lr  1.1697167595520347e-05\n",
      "lr  1.1697167595520347e-05\n",
      "lr  1.1697167595520347e-05\n",
      "lr  1.1697167595520347e-05\n"
     ]
    },
    {
     "name": "stderr",
     "output_type": "stream",
     "text": [
      "100%|██████████| 677/677 [00:16<00:00, 40.23it/s]\n",
      "100%|██████████| 678/678 [00:06<00:00, 102.87it/s]\n"
     ]
    },
    {
     "name": "stdout",
     "output_type": "stream",
     "text": [
      "\n",
      "Train Loss: 0.1584\n",
      "{'loss': 0.1583634093623922, 'loss_mse_0': 0.002685353128006338, 'loss_mse_1': 0.012547377404272612, 'loss_mse_2': 0.010925383986788287, 'loss_mse_3': 0.0035110402672085222, 'loss_mse_4': 0.007543918562150578, 'loss_mse_5': 0.011765901386900151, 'loss_mse_6': 0.0037533778219553953, 'loss_mse_7': 0.006488787284756473, 'loss_mse_8': 0.010263369425558973, 'loss_mse_9': 0.004090777074710426, 'loss_mse_10': 0.006424338597923991, 'loss_mse_11': 0.009779831215029408, 'loss_mse_12': 0.005712592728749644, 'loss_mse_13': 0.0081025323590836, 'loss_mse_14': 0.011764051362065986, 'loss_mse_15': 0.010613918936903556, 'loss_mse_16': 0.014570638258147715, 'loss_mse_17': 0.01782021963586439}\n",
      "Valid Loss: 2.0334\n",
      "{'loss': 2.033432514002893, 'loss_mse_0': 0.006648783045745342, 'loss_mse_1': 0.0362218668121861, 'loss_mse_2': 0.044548141895752166, 'loss_mse_3': 0.012315995200704729, 'loss_mse_4': 0.05773896762035281, 'loss_mse_5': 0.0905685274570543, 'loss_mse_6': 0.020612019155061855, 'loss_mse_7': 0.0873051835292714, 'loss_mse_8': 0.13570133194459222, 'loss_mse_9': 0.0355061079330116, 'loss_mse_10': 0.13676534037745852, 'loss_mse_11': 0.17927879279968398, 'loss_mse_12': 0.061415710122459145, 'loss_mse_13': 0.21381273036300696, 'loss_mse_14': 0.22186116777514286, 'loss_mse_15': 0.10234717950279822, 'loss_mse_16': 0.32604911377527107, 'loss_mse_17': 0.2647355514575774}\n",
      "Save model : model.pth\n",
      "\n",
      "epoch  33\n",
      "lr  9.042339828392344e-06\n",
      "lr  9.042339828392344e-06\n",
      "lr  9.042339828392344e-06\n",
      "lr  9.042339828392344e-06\n"
     ]
    },
    {
     "name": "stderr",
     "output_type": "stream",
     "text": [
      "100%|██████████| 677/677 [00:16<00:00, 40.25it/s]\n",
      "100%|██████████| 678/678 [00:06<00:00, 103.35it/s]\n"
     ]
    },
    {
     "name": "stdout",
     "output_type": "stream",
     "text": [
      "\n",
      "Train Loss: 0.1486\n",
      "{'loss': 0.1486281517953605, 'loss_mse_0': 0.002534152911800583, 'loss_mse_1': 0.011976804991976318, 'loss_mse_2': 0.010753680043613078, 'loss_mse_3': 0.003269082082138346, 'loss_mse_4': 0.007155828341288682, 'loss_mse_5': 0.011413872346180206, 'loss_mse_6': 0.0034703315009378126, 'loss_mse_7': 0.006055682127713398, 'loss_mse_8': 0.009866353110967415, 'loss_mse_9': 0.0035865643785467187, 'loss_mse_10': 0.005830893531528355, 'loss_mse_11': 0.009216184329937599, 'loss_mse_12': 0.004916319585930792, 'loss_mse_13': 0.007223313626870403, 'loss_mse_14': 0.011315594409747899, 'loss_mse_15': 0.009451394249647966, 'loss_mse_16': 0.013051292348303661, 'loss_mse_17': 0.017540808048297375}\n",
      "Valid Loss: 2.0265\n",
      "{'loss': 2.0264524193288302, 'loss_mse_0': 0.00666875488661878, 'loss_mse_1': 0.03594278648514905, 'loss_mse_2': 0.04450628641171375, 'loss_mse_3': 0.012450768491788973, 'loss_mse_4': 0.05717919119990879, 'loss_mse_5': 0.09031942209289313, 'loss_mse_6': 0.020889847589159457, 'loss_mse_7': 0.08647535635216112, 'loss_mse_8': 0.1352912667303574, 'loss_mse_9': 0.035915222064973815, 'loss_mse_10': 0.13597723206362322, 'loss_mse_11': 0.17873440899921905, 'loss_mse_12': 0.061862030422320496, 'loss_mse_13': 0.2126888806428925, 'loss_mse_14': 0.22102993469586416, 'loss_mse_15': 0.10260581924335531, 'loss_mse_16': 0.3239803940997319, 'loss_mse_17': 0.2639348109288465}\n",
      "Update best score : 2.0264524193288302\n",
      "Save model : model.pth\n",
      "\n",
      "epoch  34\n",
      "lr  6.699239807289274e-06\n",
      "lr  6.699239807289274e-06\n",
      "lr  6.699239807289274e-06\n",
      "lr  6.699239807289274e-06\n"
     ]
    },
    {
     "name": "stderr",
     "output_type": "stream",
     "text": [
      "100%|██████████| 677/677 [00:16<00:00, 40.69it/s]\n",
      "100%|██████████| 678/678 [00:06<00:00, 104.86it/s]\n"
     ]
    },
    {
     "name": "stdout",
     "output_type": "stream",
     "text": [
      "\n",
      "Train Loss: 0.1430\n",
      "{'loss': 0.14299140238867553, 'loss_mse_0': 0.00245397709930134, 'loss_mse_1': 0.01177826998263537, 'loss_mse_2': 0.010664553165867749, 'loss_mse_3': 0.0031223120726713775, 'loss_mse_4': 0.006829582732356535, 'loss_mse_5': 0.011168462900442114, 'loss_mse_6': 0.003306350755787962, 'loss_mse_7': 0.005667750861741976, 'loss_mse_8': 0.009610435793704547, 'loss_mse_9': 0.0034796021791192893, 'loss_mse_10': 0.005537220879603711, 'loss_mse_11': 0.00887726846617403, 'loss_mse_12': 0.004804776505494223, 'loss_mse_13': 0.0068697563000779975, 'loss_mse_14': 0.010596992946133579, 'loss_mse_15': 0.009277424566995249, 'loss_mse_16': 0.01242356545235439, 'loss_mse_17': 0.01652309904837956}\n",
      "Valid Loss: 2.0259\n",
      "{'loss': 2.0259206400508374, 'loss_mse_0': 0.006541459824770392, 'loss_mse_1': 0.036052799730075406, 'loss_mse_2': 0.04399180953022763, 'loss_mse_3': 0.01241529471952479, 'loss_mse_4': 0.05772554369335637, 'loss_mse_5': 0.08947600706296377, 'loss_mse_6': 0.020626614333520532, 'loss_mse_7': 0.08721287336453223, 'loss_mse_8': 0.13416639172298983, 'loss_mse_9': 0.03547655513913956, 'loss_mse_10': 0.13720962268940468, 'loss_mse_11': 0.17736978238245202, 'loss_mse_12': 0.06116238690412722, 'loss_mse_13': 0.21496185091678546, 'loss_mse_14': 0.21989747757163547, 'loss_mse_15': 0.10180252295943489, 'loss_mse_16': 0.3275981581437465, 'loss_mse_17': 0.26223348651993417}\n",
      "Update best score : 2.0259206400508374\n",
      "Save model : model.pth\n",
      "\n",
      "epoch  35\n",
      "lr  4.685699938174243e-06\n",
      "lr  4.685699938174243e-06\n",
      "lr  4.685699938174243e-06\n",
      "lr  4.685699938174243e-06\n"
     ]
    },
    {
     "name": "stderr",
     "output_type": "stream",
     "text": [
      "100%|██████████| 677/677 [00:16<00:00, 39.88it/s]\n",
      "100%|██████████| 678/678 [00:06<00:00, 102.63it/s]\n"
     ]
    },
    {
     "name": "stdout",
     "output_type": "stream",
     "text": [
      "\n",
      "Train Loss: 0.1381\n",
      "{'loss': 0.13806039080618052, 'loss_mse_0': 0.002402577531335537, 'loss_mse_1': 0.011377507121717638, 'loss_mse_2': 0.010584667435416641, 'loss_mse_3': 0.0030169663302520595, 'loss_mse_4': 0.006570910813460234, 'loss_mse_5': 0.011190704517121505, 'loss_mse_6': 0.003173473887362186, 'loss_mse_7': 0.005402375389223415, 'loss_mse_8': 0.00956505660498666, 'loss_mse_9': 0.0033087928145243465, 'loss_mse_10': 0.005133915043599694, 'loss_mse_11': 0.008644825233451945, 'loss_mse_12': 0.004512272812487995, 'loss_mse_13': 0.006374334078006986, 'loss_mse_14': 0.010362524314655577, 'loss_mse_15': 0.008826224782684354, 'loss_mse_16': 0.011727515957834118, 'loss_mse_17': 0.01588574541179653}\n",
      "Valid Loss: 2.0221\n",
      "{'loss': 2.0221351302478867, 'loss_mse_0': 0.006614479186167188, 'loss_mse_1': 0.036050469142035926, 'loss_mse_2': 0.04433165208345889, 'loss_mse_3': 0.012305380487031576, 'loss_mse_4': 0.05707314133212783, 'loss_mse_5': 0.08990953827227376, 'loss_mse_6': 0.02060767502907202, 'loss_mse_7': 0.08592770788763653, 'loss_mse_8': 0.13489052780511018, 'loss_mse_9': 0.035504152309451704, 'loss_mse_10': 0.13555228303167366, 'loss_mse_11': 0.17821317521586003, 'loss_mse_12': 0.06102908994029976, 'loss_mse_13': 0.21255992573293087, 'loss_mse_14': 0.22059068851348748, 'loss_mse_15': 0.10202101865030583, 'loss_mse_16': 0.32564016402449053, 'loss_mse_17': 0.26331405460856483}\n",
      "Update best score : 2.0221351302478867\n",
      "Save model : model.pth\n",
      "\n",
      "epoch  36\n",
      "lr  3.0170444752597945e-06\n",
      "lr  3.0170444752597945e-06\n",
      "lr  3.0170444752597945e-06\n",
      "lr  3.0170444752597945e-06\n"
     ]
    },
    {
     "name": "stderr",
     "output_type": "stream",
     "text": [
      "100%|██████████| 677/677 [00:17<00:00, 39.50it/s]\n",
      "100%|██████████| 678/678 [00:06<00:00, 102.96it/s]\n"
     ]
    },
    {
     "name": "stdout",
     "output_type": "stream",
     "text": [
      "\n",
      "Train Loss: 0.1320\n",
      "{'loss': 0.13203258578014868, 'loss_mse_0': 0.002303028424192038, 'loss_mse_1': 0.011192460469433837, 'loss_mse_2': 0.010398337357860481, 'loss_mse_3': 0.0028604065047259245, 'loss_mse_4': 0.006448440211776925, 'loss_mse_5': 0.010919444177690425, 'loss_mse_6': 0.0029678370167695238, 'loss_mse_7': 0.0052714639051337255, 'loss_mse_8': 0.009078323257814658, 'loss_mse_9': 0.003046243612917946, 'loss_mse_10': 0.005027774823526886, 'loss_mse_11': 0.00808378613875158, 'loss_mse_12': 0.004067651674177558, 'loss_mse_13': 0.006174738981115853, 'loss_mse_14': 0.009623201907181802, 'loss_mse_15': 0.00810119518398017, 'loss_mse_16': 0.011375966358054952, 'loss_mse_17': 0.015092285111287893}\n",
      "Valid Loss: 2.0181\n",
      "{'loss': 2.01813506895462, 'loss_mse_0': 0.0064523476948631945, 'loss_mse_1': 0.03593409662292913, 'loss_mse_2': 0.044114772365689496, 'loss_mse_3': 0.012037795182636177, 'loss_mse_4': 0.057282499481366184, 'loss_mse_5': 0.0896886238199178, 'loss_mse_6': 0.020232037493785993, 'loss_mse_7': 0.08636820219610997, 'loss_mse_8': 0.13439776503362838, 'loss_mse_9': 0.03508293565436868, 'loss_mse_10': 0.13610073696453795, 'loss_mse_11': 0.17750936706761958, 'loss_mse_12': 0.06061503530416781, 'loss_mse_13': 0.21353185990314305, 'loss_mse_14': 0.21975091575015787, 'loss_mse_15': 0.10123396291779381, 'loss_mse_16': 0.32572979791018464, 'loss_mse_17': 0.2620723169890389}\n",
      "Update best score : 2.01813506895462\n",
      "Save model : model.pth\n",
      "\n",
      "epoch  37\n",
      "lr  1.7059728941804307e-06\n",
      "lr  1.7059728941804307e-06\n",
      "lr  1.7059728941804307e-06\n",
      "lr  1.7059728941804307e-06\n"
     ]
    },
    {
     "name": "stderr",
     "output_type": "stream",
     "text": [
      "100%|██████████| 677/677 [00:16<00:00, 40.09it/s]\n",
      "100%|██████████| 678/678 [00:06<00:00, 102.10it/s]\n"
     ]
    },
    {
     "name": "stdout",
     "output_type": "stream",
     "text": [
      "\n",
      "Train Loss: 0.1293\n",
      "{'loss': 0.12932914935679696, 'loss_mse_0': 0.0022366461206927064, 'loss_mse_1': 0.011015109710967612, 'loss_mse_2': 0.010373314555068576, 'loss_mse_3': 0.0027952458680417535, 'loss_mse_4': 0.006166430241448951, 'loss_mse_5': 0.010649778879835013, 'loss_mse_6': 0.0028441073791676944, 'loss_mse_7': 0.005039626739518868, 'loss_mse_8': 0.008887230271426754, 'loss_mse_9': 0.002935499022164529, 'loss_mse_10': 0.004835536948678963, 'loss_mse_11': 0.007882641599839622, 'loss_mse_12': 0.004066638508020588, 'loss_mse_13': 0.005989350586925995, 'loss_mse_14': 0.00948390379985533, 'loss_mse_15': 0.008077004154046318, 'loss_mse_16': 0.010979097344784652, 'loss_mse_17': 0.015071987739504154}\n",
      "Valid Loss: 2.0234\n",
      "{'loss': 2.023401281123316, 'loss_mse_0': 0.006460185124261365, 'loss_mse_1': 0.03598087644451751, 'loss_mse_2': 0.044254315751920674, 'loss_mse_3': 0.012068808328080098, 'loss_mse_4': 0.057309388266162054, 'loss_mse_5': 0.0900294143310954, 'loss_mse_6': 0.020299237457057324, 'loss_mse_7': 0.08644904216042662, 'loss_mse_8': 0.1349291607715563, 'loss_mse_9': 0.035005226964131, 'loss_mse_10': 0.13604165274501506, 'loss_mse_11': 0.17824689526616383, 'loss_mse_12': 0.06063840940874894, 'loss_mse_13': 0.21360589080328082, 'loss_mse_14': 0.2207457671068323, 'loss_mse_15': 0.1013264363620617, 'loss_mse_16': 0.32678713971765433, 'loss_mse_17': 0.2632234322242329}\n",
      "Save model : model.pth\n",
      "\n",
      "epoch  38\n",
      "lr  7.624632413148417e-07\n",
      "lr  7.624632413148417e-07\n",
      "lr  7.624632413148417e-07\n",
      "lr  7.624632413148417e-07\n"
     ]
    },
    {
     "name": "stderr",
     "output_type": "stream",
     "text": [
      "100%|██████████| 677/677 [00:16<00:00, 39.86it/s]\n",
      "100%|██████████| 678/678 [00:06<00:00, 107.32it/s]\n"
     ]
    },
    {
     "name": "stdout",
     "output_type": "stream",
     "text": [
      "\n",
      "Train Loss: 0.1298\n",
      "{'loss': 0.1297900564968586, 'loss_mse_0': 0.00225776064424931, 'loss_mse_1': 0.01088116139082714, 'loss_mse_2': 0.010317123049672038, 'loss_mse_3': 0.0028288146163484127, 'loss_mse_4': 0.006303824010776959, 'loss_mse_5': 0.010671796874202336, 'loss_mse_6': 0.002875473578646229, 'loss_mse_7': 0.0051940302075639344, 'loss_mse_8': 0.00893583274178174, 'loss_mse_9': 0.00302446462092591, 'loss_mse_10': 0.00489257634297547, 'loss_mse_11': 0.008068162730194771, 'loss_mse_12': 0.0041163860040577885, 'loss_mse_13': 0.005975762386620595, 'loss_mse_14': 0.009482218256286253, 'loss_mse_15': 0.008151226674593115, 'loss_mse_16': 0.010821320541599212, 'loss_mse_17': 0.01499212197058365}\n",
      "Valid Loss: 2.0235\n",
      "{'loss': 2.023464116111266, 'loss_mse_0': 0.00652530798733174, 'loss_mse_1': 0.036098118885530155, 'loss_mse_2': 0.044363940424480885, 'loss_mse_3': 0.012140807901388226, 'loss_mse_4': 0.05748940985045426, 'loss_mse_5': 0.09020206711878644, 'loss_mse_6': 0.020393561876439394, 'loss_mse_7': 0.08654501655751669, 'loss_mse_8': 0.13522104153294215, 'loss_mse_9': 0.035262174091156256, 'loss_mse_10': 0.13591693533903157, 'loss_mse_11': 0.17845005600281874, 'loss_mse_12': 0.06090746041535672, 'loss_mse_13': 0.2128835056213371, 'loss_mse_14': 0.22091233095698123, 'loss_mse_15': 0.1016971851509493, 'loss_mse_16': 0.32508138850452184, 'loss_mse_17': 0.26337380227042156}\n",
      "Save model : model.pth\n",
      "\n",
      "epoch  39\n",
      "lr  1.9369619482803107e-07\n",
      "lr  1.9369619482803107e-07\n",
      "lr  1.9369619482803107e-07\n",
      "lr  1.9369619482803107e-07\n"
     ]
    },
    {
     "name": "stderr",
     "output_type": "stream",
     "text": [
      "100%|██████████| 677/677 [00:16<00:00, 40.97it/s]\n",
      "100%|██████████| 678/678 [00:06<00:00, 103.12it/s]\n",
      "/home/tatsuya/projects/atmacup/atmacup_18/experiments/main/v00/v00_04_00/utils.py:974: FutureWarning: You are using `torch.load` with `weights_only=False` (the current default value), which uses the default pickle module implicitly. It is possible to construct malicious pickle data which will execute arbitrary code during unpickling (See https://github.com/pytorch/pytorch/blob/main/SECURITY.md#untrusted-models for more details). In a future release, the default value for `weights_only` will be flipped to `True`. This limits the functions that could be executed during unpickling. Arbitrary objects will no longer be allowed to be loaded via this mode unless they are explicitly allowlisted by the user via `torch.serialization.add_safe_globals`. We recommend you start setting `weights_only=True` for any use case where you don't have full control of the loaded file. Please open an issue on GitHub for any issues related to this experimental feature.\n",
      "  model.load_state_dict(torch.load(model_path))\n"
     ]
    },
    {
     "name": "stdout",
     "output_type": "stream",
     "text": [
      "\n",
      "Train Loss: 0.1290\n",
      "{'loss': 0.12898993800274555, 'loss_mse_0': 0.002258908797926964, 'loss_mse_1': 0.010833566523455579, 'loss_mse_2': 0.010360594353249278, 'loss_mse_3': 0.002751476301703646, 'loss_mse_4': 0.006166233394660903, 'loss_mse_5': 0.010743080019301555, 'loss_mse_6': 0.0027591088491641922, 'loss_mse_7': 0.005081245261780984, 'loss_mse_8': 0.009002043762962379, 'loss_mse_9': 0.002855071868039695, 'loss_mse_10': 0.004816811674850906, 'loss_mse_11': 0.008046533459999724, 'loss_mse_12': 0.003924519148881532, 'loss_mse_13': 0.005875958409882598, 'loss_mse_14': 0.009629013928539357, 'loss_mse_15': 0.00799091034768317, 'loss_mse_16': 0.010849765756413715, 'loss_mse_17': 0.01504509687042648}\n",
      "Valid Loss: 2.0214\n",
      "{'loss': 2.021407647030895, 'loss_mse_0': 0.0065325937909692265, 'loss_mse_1': 0.03611439148927036, 'loss_mse_2': 0.04439730444582383, 'loss_mse_3': 0.012192898385973983, 'loss_mse_4': 0.05741787869634332, 'loss_mse_5': 0.09020719413060398, 'loss_mse_6': 0.020446503449404463, 'loss_mse_7': 0.086391453150451, 'loss_mse_8': 0.1350873456059084, 'loss_mse_9': 0.03525452966428194, 'loss_mse_10': 0.13579991490066404, 'loss_mse_11': 0.17837143506151473, 'loss_mse_12': 0.06091505336055977, 'loss_mse_13': 0.21245799530407408, 'loss_mse_14': 0.2207690216820676, 'loss_mse_15': 0.10164371287796349, 'loss_mse_16': 0.3241977527638716, 'loss_mse_17': 0.2632106659126229}\n",
      "Save model : model.pth\n"
     ]
    }
   ],
   "source": [
    "models, oof_preds = utils.train(\n",
    "    model_params=model_params,\n",
    "    fit_params=fit_params,\n",
    "    df=tr_df,\n",
    "    images=tr_images,\n",
    "    target_cols=target.columns,\n",
    "    feature_cols=feature.columns,\n",
    "    group_col=\"scene_id\",\n",
    "    n_splits=N_SPLITS,\n",
    ")"
   ]
  },
  {
   "cell_type": "code",
   "execution_count": 13,
   "metadata": {},
   "outputs": [
    {
     "data": {
      "text/html": [
       "<div><style>\n",
       ".dataframe > thead > tr,\n",
       ".dataframe > tbody > tr {\n",
       "  text-align: right;\n",
       "  white-space: pre-wrap;\n",
       "}\n",
       "</style>\n",
       "<small>shape: (43_371, 82)</small><table border=\"1\" class=\"dataframe\"><thead><tr><th>ID</th><th>vEgo</th><th>aEgo</th><th>steeringAngleDeg</th><th>steeringTorque</th><th>brake</th><th>brakePressed</th><th>gas</th><th>gasPressed</th><th>gearShifter</th><th>leftBlinker</th><th>rightBlinker</th><th>x_0</th><th>y_0</th><th>z_0</th><th>x_1</th><th>y_1</th><th>z_1</th><th>x_2</th><th>y_2</th><th>z_2</th><th>x_3</th><th>y_3</th><th>z_3</th><th>x_4</th><th>y_4</th><th>z_4</th><th>x_5</th><th>y_5</th><th>z_5</th><th>scene_id</th><th>scene_dsec</th><th>tg_cood_x_0</th><th>tg_cood_y_0</th><th>tg_cood_z_0</th><th>tg_cood_x_1</th><th>tg_cood_y_1</th><th>&hellip;</th><th>tg_cood_y_4</th><th>tg_cood_z_4</th><th>tg_cood_x_5</th><th>tg_cood_y_5</th><th>tg_cood_z_5</th><th>ft_vEgo</th><th>ft_aEgo</th><th>ft_steeringAngleDeg</th><th>ft_steeringTorque</th><th>ft_brake</th><th>ft_brakePressed</th><th>ft_gas</th><th>ft_gasPressed</th><th>ft_is_gearShifter_drive</th><th>ft_is_gearShifter_neutral</th><th>ft_is_gearShifter_park</th><th>ft_is_gearShifter_reverse</th><th>ft_leftBlinker</th><th>ft_rightBlinker</th><th>pred_tg_cood_x_0</th><th>pred_tg_cood_y_0</th><th>pred_tg_cood_z_0</th><th>pred_tg_cood_x_1</th><th>pred_tg_cood_y_1</th><th>pred_tg_cood_z_1</th><th>pred_tg_cood_x_2</th><th>pred_tg_cood_y_2</th><th>pred_tg_cood_z_2</th><th>pred_tg_cood_x_3</th><th>pred_tg_cood_y_3</th><th>pred_tg_cood_z_3</th><th>pred_tg_cood_x_4</th><th>pred_tg_cood_y_4</th><th>pred_tg_cood_z_4</th><th>pred_tg_cood_x_5</th><th>pred_tg_cood_y_5</th><th>pred_tg_cood_z_5</th></tr><tr><td>str</td><td>f64</td><td>f64</td><td>f64</td><td>f64</td><td>f64</td><td>bool</td><td>f64</td><td>bool</td><td>str</td><td>bool</td><td>bool</td><td>f64</td><td>f64</td><td>f64</td><td>f64</td><td>f64</td><td>f64</td><td>f64</td><td>f64</td><td>f64</td><td>f64</td><td>f64</td><td>f64</td><td>f64</td><td>f64</td><td>f64</td><td>f64</td><td>f64</td><td>f64</td><td>str</td><td>str</td><td>f64</td><td>f64</td><td>f64</td><td>f64</td><td>f64</td><td>&hellip;</td><td>f64</td><td>f64</td><td>f64</td><td>f64</td><td>f64</td><td>f64</td><td>f64</td><td>f64</td><td>f64</td><td>f64</td><td>f64</td><td>f64</td><td>f64</td><td>f64</td><td>f64</td><td>f64</td><td>f64</td><td>f64</td><td>f64</td><td>f64</td><td>f64</td><td>f64</td><td>f64</td><td>f64</td><td>f64</td><td>f64</td><td>f64</td><td>f64</td><td>f64</td><td>f64</td><td>f64</td><td>f64</td><td>f64</td><td>f64</td><td>f64</td><td>f64</td><td>f64</td></tr></thead><tbody><tr><td>&quot;00066be8e20318869c38c66be46663…</td><td>5.701526</td><td>1.538456</td><td>-2.165777</td><td>-139.0</td><td>0.0</td><td>false</td><td>0.25</td><td>true</td><td>&quot;drive&quot;</td><td>false</td><td>false</td><td>2.82959</td><td>0.032226</td><td>0.045187</td><td>6.231999</td><td>0.065895</td><td>0.107974</td><td>9.785009</td><td>0.124972</td><td>0.203649</td><td>13.485472</td><td>0.163448</td><td>0.302818</td><td>17.574227</td><td>0.174289</td><td>0.406331</td><td>21.951269</td><td>0.199503</td><td>0.485079</td><td>&quot;00066be8e20318869c38c66be46663…</td><td>&quot;320&quot;</td><td>2.82959</td><td>0.032226</td><td>0.045187</td><td>6.231999</td><td>0.065895</td><td>&hellip;</td><td>0.174289</td><td>0.406331</td><td>21.951269</td><td>0.199503</td><td>0.485079</td><td>5.701526</td><td>1.538456</td><td>-2.165777</td><td>-139.0</td><td>0.0</td><td>0.0</td><td>0.25</td><td>1.0</td><td>1.0</td><td>0.0</td><td>0.0</td><td>0.0</td><td>0.0</td><td>0.0</td><td>2.673019</td><td>-0.010581</td><td>0.009221</td><td>5.878595</td><td>-0.047589</td><td>0.025616</td><td>9.303447</td><td>-0.102616</td><td>0.043667</td><td>13.012544</td><td>-0.180053</td><td>0.065249</td><td>16.651762</td><td>-0.232363</td><td>0.0985</td><td>20.484142</td><td>-0.341636</td><td>0.142068</td></tr><tr><td>&quot;00066be8e20318869c38c66be46663…</td><td>11.176292</td><td>0.279881</td><td>-11.625697</td><td>-44.0</td><td>0.0</td><td>false</td><td>0.0</td><td>false</td><td>&quot;drive&quot;</td><td>false</td><td>true</td><td>4.970268</td><td>-0.007936</td><td>0.005028</td><td>10.350489</td><td>-0.032374</td><td>-0.020701</td><td>15.770054</td><td>0.084073</td><td>0.008645</td><td>21.132415</td><td>0.391343</td><td>0.036335</td><td>26.316489</td><td>0.843124</td><td>0.065</td><td>31.383814</td><td>1.42507</td><td>0.073083</td><td>&quot;00066be8e20318869c38c66be46663…</td><td>&quot;420&quot;</td><td>4.970268</td><td>-0.007936</td><td>0.005028</td><td>10.350489</td><td>-0.032374</td><td>&hellip;</td><td>0.843124</td><td>0.065</td><td>31.383814</td><td>1.42507</td><td>0.073083</td><td>11.176292</td><td>0.279881</td><td>-11.625697</td><td>-44.0</td><td>0.0</td><td>0.0</td><td>0.0</td><td>0.0</td><td>1.0</td><td>0.0</td><td>0.0</td><td>0.0</td><td>0.0</td><td>1.0</td><td>5.119481</td><td>-0.062062</td><td>-0.016183</td><td>10.673826</td><td>-0.233604</td><td>-0.028838</td><td>16.278383</td><td>-0.462595</td><td>-0.050437</td><td>21.747009</td><td>-0.644483</td><td>-0.072131</td><td>27.239849</td><td>-0.954549</td><td>-0.109702</td><td>32.720764</td><td>-1.062744</td><td>-0.128731</td></tr><tr><td>&quot;00066be8e20318869c38c66be46663…</td><td>10.472548</td><td>0.231099</td><td>-2.985105</td><td>-132.0</td><td>0.0</td><td>false</td><td>0.18</td><td>true</td><td>&quot;drive&quot;</td><td>false</td><td>false</td><td>4.815701</td><td>-0.000813</td><td>0.017577</td><td>10.153522</td><td>-0.0278</td><td>0.026165</td><td>15.446539</td><td>-0.155987</td><td>0.040397</td><td>20.61816</td><td>-0.356932</td><td>0.058765</td><td>25.677387</td><td>-0.576985</td><td>0.102859</td><td>30.460033</td><td>-0.841894</td><td>0.152889</td><td>&quot;00066be8e20318869c38c66be46663…</td><td>&quot;520&quot;</td><td>4.815701</td><td>-0.000813</td><td>0.017577</td><td>10.153522</td><td>-0.0278</td><td>&hellip;</td><td>-0.576985</td><td>0.102859</td><td>30.460033</td><td>-0.841894</td><td>0.152889</td><td>10.472548</td><td>0.231099</td><td>-2.985105</td><td>-132.0</td><td>0.0</td><td>0.0</td><td>0.18</td><td>1.0</td><td>1.0</td><td>0.0</td><td>0.0</td><td>0.0</td><td>0.0</td><td>0.0</td><td>4.744785</td><td>-0.01327</td><td>0.002411</td><td>10.100449</td><td>-0.055694</td><td>0.0018</td><td>15.494765</td><td>-0.13264</td><td>-0.005557</td><td>20.89362</td><td>-0.2458</td><td>-0.009262</td><td>26.315226</td><td>-0.403019</td><td>-0.021948</td><td>31.697216</td><td>-0.622938</td><td>-0.027223</td></tr><tr><td>&quot;000fb056f97572d384bae4f5fc1e0f…</td><td>6.055565</td><td>-0.117775</td><td>7.632668</td><td>173.0</td><td>0.0</td><td>false</td><td>0.0</td><td>false</td><td>&quot;drive&quot;</td><td>false</td><td>false</td><td>2.812608</td><td>0.033731</td><td>0.0059</td><td>5.975378</td><td>0.137848</td><td>0.01621</td><td>9.186793</td><td>0.322997</td><td>0.031626</td><td>12.37311</td><td>0.603145</td><td>0.031858</td><td>15.703514</td><td>0.960717</td><td>0.043479</td><td>19.311182</td><td>1.374655</td><td>0.058754</td><td>&quot;000fb056f97572d384bae4f5fc1e0f…</td><td>&quot;120&quot;</td><td>2.812608</td><td>0.033731</td><td>0.0059</td><td>5.975378</td><td>0.137848</td><td>&hellip;</td><td>0.960717</td><td>0.043479</td><td>19.311182</td><td>1.374655</td><td>0.058754</td><td>6.055565</td><td>-0.117775</td><td>7.632668</td><td>173.0</td><td>0.0</td><td>0.0</td><td>0.0</td><td>0.0</td><td>1.0</td><td>0.0</td><td>0.0</td><td>0.0</td><td>0.0</td><td>0.0</td><td>2.754918</td><td>0.022</td><td>0.002571</td><td>5.831991</td><td>0.090254</td><td>0.009687</td><td>8.685398</td><td>0.243794</td><td>0.020841</td><td>11.749663</td><td>0.418222</td><td>0.038529</td><td>14.586184</td><td>0.697585</td><td>0.065012</td><td>17.539289</td><td>0.978286</td><td>0.073789</td></tr><tr><td>&quot;000fb056f97572d384bae4f5fc1e0f…</td><td>3.316744</td><td>1.276733</td><td>-31.725477</td><td>-114.0</td><td>0.0</td><td>false</td><td>0.255</td><td>true</td><td>&quot;drive&quot;</td><td>false</td><td>false</td><td>1.55186</td><td>-0.041849</td><td>-0.008847</td><td>3.675162</td><td>-0.125189</td><td>-0.013725</td><td>6.113567</td><td>-0.239161</td><td>-0.012887</td><td>8.770783</td><td>-0.381813</td><td>-0.003898</td><td>11.619313</td><td>-0.554488</td><td>0.011393</td><td>14.657048</td><td>-0.7788</td><td>0.044243</td><td>&quot;000fb056f97572d384bae4f5fc1e0f…</td><td>&quot;20&quot;</td><td>1.55186</td><td>-0.041849</td><td>-0.008847</td><td>3.675162</td><td>-0.125189</td><td>&hellip;</td><td>-0.554488</td><td>0.011393</td><td>14.657048</td><td>-0.7788</td><td>0.044243</td><td>3.316744</td><td>1.276733</td><td>-31.725477</td><td>-114.0</td><td>0.0</td><td>0.0</td><td>0.255</td><td>1.0</td><td>1.0</td><td>0.0</td><td>0.0</td><td>0.0</td><td>0.0</td><td>0.0</td><td>1.500005</td><td>-0.043976</td><td>0.01263</td><td>3.382703</td><td>-0.113705</td><td>0.028351</td><td>5.521313</td><td>-0.23245</td><td>0.050816</td><td>7.904329</td><td>-0.258985</td><td>0.082652</td><td>10.5483</td><td>-0.305551</td><td>0.11488</td><td>12.788803</td><td>-0.354986</td><td>0.156918</td></tr><tr><td>&hellip;</td><td>&hellip;</td><td>&hellip;</td><td>&hellip;</td><td>&hellip;</td><td>&hellip;</td><td>&hellip;</td><td>&hellip;</td><td>&hellip;</td><td>&hellip;</td><td>&hellip;</td><td>&hellip;</td><td>&hellip;</td><td>&hellip;</td><td>&hellip;</td><td>&hellip;</td><td>&hellip;</td><td>&hellip;</td><td>&hellip;</td><td>&hellip;</td><td>&hellip;</td><td>&hellip;</td><td>&hellip;</td><td>&hellip;</td><td>&hellip;</td><td>&hellip;</td><td>&hellip;</td><td>&hellip;</td><td>&hellip;</td><td>&hellip;</td><td>&hellip;</td><td>&hellip;</td><td>&hellip;</td><td>&hellip;</td><td>&hellip;</td><td>&hellip;</td><td>&hellip;</td><td>&hellip;</td><td>&hellip;</td><td>&hellip;</td><td>&hellip;</td><td>&hellip;</td><td>&hellip;</td><td>&hellip;</td><td>&hellip;</td><td>&hellip;</td><td>&hellip;</td><td>&hellip;</td><td>&hellip;</td><td>&hellip;</td><td>&hellip;</td><td>&hellip;</td><td>&hellip;</td><td>&hellip;</td><td>&hellip;</td><td>&hellip;</td><td>&hellip;</td><td>&hellip;</td><td>&hellip;</td><td>&hellip;</td><td>&hellip;</td><td>&hellip;</td><td>&hellip;</td><td>&hellip;</td><td>&hellip;</td><td>&hellip;</td><td>&hellip;</td><td>&hellip;</td><td>&hellip;</td><td>&hellip;</td><td>&hellip;</td><td>&hellip;</td><td>&hellip;</td><td>&hellip;</td><td>&hellip;</td></tr><tr><td>&quot;fff88cca5f8a012427b96bdde66011…</td><td>-0.0</td><td>-0.0</td><td>16.102747</td><td>-1.0</td><td>0.0</td><td>true</td><td>0.0</td><td>false</td><td>&quot;drive&quot;</td><td>false</td><td>true</td><td>0.00514</td><td>0.002648</td><td>-0.006207</td><td>0.013328</td><td>0.005834</td><td>-0.016368</td><td>0.019618</td><td>0.007763</td><td>-0.023074</td><td>0.028672</td><td>0.010737</td><td>-0.033795</td><td>0.0342</td><td>0.012502</td><td>-0.040583</td><td>0.043196</td><td>0.015644</td><td>-0.051309</td><td>&quot;fff88cca5f8a012427b96bdde66011…</td><td>&quot;20&quot;</td><td>0.00514</td><td>0.002648</td><td>-0.006207</td><td>0.013328</td><td>0.005834</td><td>&hellip;</td><td>0.012502</td><td>-0.040583</td><td>0.043196</td><td>0.015644</td><td>-0.051309</td><td>-0.0</td><td>-0.0</td><td>16.102747</td><td>-1.0</td><td>0.0</td><td>1.0</td><td>0.0</td><td>0.0</td><td>1.0</td><td>0.0</td><td>0.0</td><td>0.0</td><td>0.0</td><td>1.0</td><td>0.035121</td><td>-0.029883</td><td>0.005809</td><td>0.048945</td><td>-0.042097</td><td>0.009089</td><td>0.041906</td><td>-0.051616</td><td>0.022967</td><td>0.034181</td><td>-0.083706</td><td>0.018396</td><td>0.036702</td><td>-0.114432</td><td>0.015115</td><td>-0.141202</td><td>-0.143546</td><td>0.012281</td></tr><tr><td>&quot;fff88cca5f8a012427b96bdde66011…</td><td>1.594968</td><td>0.350129</td><td>-5.791823</td><td>-97.0</td><td>0.0</td><td>false</td><td>0.0</td><td>false</td><td>&quot;drive&quot;</td><td>false</td><td>true</td><td>0.663311</td><td>-0.002493</td><td>-0.009528</td><td>1.516447</td><td>-0.004223</td><td>-0.020431</td><td>2.425366</td><td>-0.002958</td><td>-0.023108</td><td>3.319161</td><td>-0.012259</td><td>-0.027327</td><td>4.106655</td><td>-0.023314</td><td>-0.024449</td><td>4.708509</td><td>-0.027916</td><td>-0.026821</td><td>&quot;fff88cca5f8a012427b96bdde66011…</td><td>&quot;220&quot;</td><td>0.663311</td><td>-0.002493</td><td>-0.009528</td><td>1.516447</td><td>-0.004223</td><td>&hellip;</td><td>-0.023314</td><td>-0.024449</td><td>4.708509</td><td>-0.027916</td><td>-0.026821</td><td>1.594968</td><td>0.350129</td><td>-5.791823</td><td>-97.0</td><td>0.0</td><td>0.0</td><td>0.0</td><td>0.0</td><td>1.0</td><td>0.0</td><td>0.0</td><td>0.0</td><td>0.0</td><td>1.0</td><td>0.702675</td><td>-0.026319</td><td>-0.003698</td><td>1.649844</td><td>-0.054801</td><td>-0.001013</td><td>2.564646</td><td>-0.095378</td><td>-0.004441</td><td>3.649513</td><td>-0.123581</td><td>0.004777</td><td>4.627995</td><td>-0.186521</td><td>0.010217</td><td>5.93113</td><td>-0.309157</td><td>0.011852</td></tr><tr><td>&quot;fff88cca5f8a012427b96bdde66011…</td><td>-0.004207</td><td>-0.037833</td><td>-2.089301</td><td>0.0</td><td>0.0</td><td>true</td><td>0.0</td><td>false</td><td>&quot;drive&quot;</td><td>false</td><td>true</td><td>0.022788</td><td>0.000622</td><td>-0.006612</td><td>0.046445</td><td>0.001039</td><td>-0.017674</td><td>0.062182</td><td>0.000714</td><td>-0.024352</td><td>0.079601</td><td>0.000491</td><td>-0.034149</td><td>0.091362</td><td>-0.000041</td><td>-0.039632</td><td>0.10623</td><td>-0.001123</td><td>-0.04789</td><td>&quot;fff88cca5f8a012427b96bdde66011…</td><td>&quot;320&quot;</td><td>0.022788</td><td>0.000622</td><td>-0.006612</td><td>0.046445</td><td>0.001039</td><td>&hellip;</td><td>-0.000041</td><td>-0.039632</td><td>0.10623</td><td>-0.001123</td><td>-0.04789</td><td>-0.004207</td><td>-0.037833</td><td>-2.089301</td><td>0.0</td><td>0.0</td><td>1.0</td><td>0.0</td><td>0.0</td><td>1.0</td><td>0.0</td><td>0.0</td><td>0.0</td><td>0.0</td><td>1.0</td><td>-0.028854</td><td>-0.007636</td><td>0.000288</td><td>0.028313</td><td>-0.008409</td><td>-0.002407</td><td>-0.053028</td><td>-0.025914</td><td>0.003453</td><td>0.058009</td><td>-0.043542</td><td>-0.000837</td><td>0.055781</td><td>-0.051803</td><td>-0.006796</td><td>-0.179012</td><td>-0.099115</td><td>-0.00823</td></tr><tr><td>&quot;fff88cca5f8a012427b96bdde66011…</td><td>-2.1624e-10</td><td>-1.9432e-9</td><td>-2.170106</td><td>1.0</td><td>0.0</td><td>true</td><td>0.0</td><td>false</td><td>&quot;drive&quot;</td><td>false</td><td>true</td><td>0.009293</td><td>-0.000725</td><td>-0.003357</td><td>0.022385</td><td>-0.002018</td><td>-0.008759</td><td>0.031795</td><td>-0.003121</td><td>-0.012351</td><td>0.044995</td><td>-0.004578</td><td>-0.017885</td><td>0.054023</td><td>-0.005685</td><td>-0.020612</td><td>0.067738</td><td>-0.008169</td><td>-0.026279</td><td>&quot;fff88cca5f8a012427b96bdde66011…</td><td>&quot;420&quot;</td><td>0.009293</td><td>-0.000725</td><td>-0.003357</td><td>0.022385</td><td>-0.002018</td><td>&hellip;</td><td>-0.005685</td><td>-0.020612</td><td>0.067738</td><td>-0.008169</td><td>-0.026279</td><td>-2.1624e-10</td><td>-1.9432e-9</td><td>-2.170106</td><td>1.0</td><td>0.0</td><td>1.0</td><td>0.0</td><td>0.0</td><td>1.0</td><td>0.0</td><td>0.0</td><td>0.0</td><td>0.0</td><td>1.0</td><td>0.016423</td><td>-0.006379</td><td>-0.006994</td><td>0.077985</td><td>-0.014163</td><td>-0.018728</td><td>0.034856</td><td>-0.038613</td><td>-0.014893</td><td>0.211951</td><td>-0.053728</td><td>-0.027959</td><td>0.187852</td><td>-0.072858</td><td>-0.034726</td><td>0.066985</td><td>-0.115434</td><td>-0.042866</td></tr><tr><td>&quot;fff88cca5f8a012427b96bdde66011…</td><td>-1.1102e-17</td><td>-9.9770e-17</td><td>-2.24445</td><td>1.0</td><td>0.0</td><td>true</td><td>0.0</td><td>false</td><td>&quot;drive&quot;</td><td>false</td><td>true</td><td>0.009021</td><td>-0.001694</td><td>-0.003041</td><td>0.021577</td><td>-0.003604</td><td>-0.006752</td><td>0.029756</td><td>-0.004978</td><td>-0.007805</td><td>0.041055</td><td>-0.007137</td><td>-0.009562</td><td>0.049354</td><td>-0.008518</td><td>-0.010334</td><td>0.060503</td><td>-0.010497</td><td>-0.011979</td><td>&quot;fff88cca5f8a012427b96bdde66011…</td><td>&quot;520&quot;</td><td>0.009021</td><td>-0.001694</td><td>-0.003041</td><td>0.021577</td><td>-0.003604</td><td>&hellip;</td><td>-0.008518</td><td>-0.010334</td><td>0.060503</td><td>-0.010497</td><td>-0.011979</td><td>-1.1102e-17</td><td>-9.9770e-17</td><td>-2.24445</td><td>1.0</td><td>0.0</td><td>1.0</td><td>0.0</td><td>0.0</td><td>1.0</td><td>0.0</td><td>0.0</td><td>0.0</td><td>0.0</td><td>1.0</td><td>0.019561</td><td>-0.010969</td><td>0.00103</td><td>0.086608</td><td>-0.018101</td><td>-0.002505</td><td>0.011329</td><td>-0.045555</td><td>0.002013</td><td>0.096492</td><td>-0.066857</td><td>-0.00656</td><td>0.073117</td><td>-0.067699</td><td>-0.007196</td><td>-0.164043</td><td>-0.108869</td><td>-0.004449</td></tr></tbody></table></div>"
      ],
      "text/plain": [
       "shape: (43_371, 82)\n",
       "┌───────────┬───────────┬───────────┬───────────┬───┬───────────┬───────────┬───────────┬──────────┐\n",
       "│ ID        ┆ vEgo      ┆ aEgo      ┆ steeringA ┆ … ┆ pred_tg_c ┆ pred_tg_c ┆ pred_tg_c ┆ pred_tg_ │\n",
       "│ ---       ┆ ---       ┆ ---       ┆ ngleDeg   ┆   ┆ ood_z_4   ┆ ood_x_5   ┆ ood_y_5   ┆ cood_z_5 │\n",
       "│ str       ┆ f64       ┆ f64       ┆ ---       ┆   ┆ ---       ┆ ---       ┆ ---       ┆ ---      │\n",
       "│           ┆           ┆           ┆ f64       ┆   ┆ f64       ┆ f64       ┆ f64       ┆ f64      │\n",
       "╞═══════════╪═══════════╪═══════════╪═══════════╪═══╪═══════════╪═══════════╪═══════════╪══════════╡\n",
       "│ 00066be8e ┆ 5.701526  ┆ 1.538456  ┆ -2.165777 ┆ … ┆ 0.0985    ┆ 20.484142 ┆ -0.341636 ┆ 0.142068 │\n",
       "│ 20318869c ┆           ┆           ┆           ┆   ┆           ┆           ┆           ┆          │\n",
       "│ 38c66be46 ┆           ┆           ┆           ┆   ┆           ┆           ┆           ┆          │\n",
       "│ 663…      ┆           ┆           ┆           ┆   ┆           ┆           ┆           ┆          │\n",
       "│ 00066be8e ┆ 11.176292 ┆ 0.279881  ┆ -11.62569 ┆ … ┆ -0.109702 ┆ 32.720764 ┆ -1.062744 ┆ -0.12873 │\n",
       "│ 20318869c ┆           ┆           ┆ 7         ┆   ┆           ┆           ┆           ┆ 1        │\n",
       "│ 38c66be46 ┆           ┆           ┆           ┆   ┆           ┆           ┆           ┆          │\n",
       "│ 663…      ┆           ┆           ┆           ┆   ┆           ┆           ┆           ┆          │\n",
       "│ 00066be8e ┆ 10.472548 ┆ 0.231099  ┆ -2.985105 ┆ … ┆ -0.021948 ┆ 31.697216 ┆ -0.622938 ┆ -0.02722 │\n",
       "│ 20318869c ┆           ┆           ┆           ┆   ┆           ┆           ┆           ┆ 3        │\n",
       "│ 38c66be46 ┆           ┆           ┆           ┆   ┆           ┆           ┆           ┆          │\n",
       "│ 663…      ┆           ┆           ┆           ┆   ┆           ┆           ┆           ┆          │\n",
       "│ 000fb056f ┆ 6.055565  ┆ -0.117775 ┆ 7.632668  ┆ … ┆ 0.065012  ┆ 17.539289 ┆ 0.978286  ┆ 0.073789 │\n",
       "│ 97572d384 ┆           ┆           ┆           ┆   ┆           ┆           ┆           ┆          │\n",
       "│ bae4f5fc1 ┆           ┆           ┆           ┆   ┆           ┆           ┆           ┆          │\n",
       "│ e0f…      ┆           ┆           ┆           ┆   ┆           ┆           ┆           ┆          │\n",
       "│ 000fb056f ┆ 3.316744  ┆ 1.276733  ┆ -31.72547 ┆ … ┆ 0.11488   ┆ 12.788803 ┆ -0.354986 ┆ 0.156918 │\n",
       "│ 97572d384 ┆           ┆           ┆ 7         ┆   ┆           ┆           ┆           ┆          │\n",
       "│ bae4f5fc1 ┆           ┆           ┆           ┆   ┆           ┆           ┆           ┆          │\n",
       "│ e0f…      ┆           ┆           ┆           ┆   ┆           ┆           ┆           ┆          │\n",
       "│ …         ┆ …         ┆ …         ┆ …         ┆ … ┆ …         ┆ …         ┆ …         ┆ …        │\n",
       "│ fff88cca5 ┆ -0.0      ┆ -0.0      ┆ 16.102747 ┆ … ┆ 0.015115  ┆ -0.141202 ┆ -0.143546 ┆ 0.012281 │\n",
       "│ f8a012427 ┆           ┆           ┆           ┆   ┆           ┆           ┆           ┆          │\n",
       "│ b96bdde66 ┆           ┆           ┆           ┆   ┆           ┆           ┆           ┆          │\n",
       "│ 011…      ┆           ┆           ┆           ┆   ┆           ┆           ┆           ┆          │\n",
       "│ fff88cca5 ┆ 1.594968  ┆ 0.350129  ┆ -5.791823 ┆ … ┆ 0.010217  ┆ 5.93113   ┆ -0.309157 ┆ 0.011852 │\n",
       "│ f8a012427 ┆           ┆           ┆           ┆   ┆           ┆           ┆           ┆          │\n",
       "│ b96bdde66 ┆           ┆           ┆           ┆   ┆           ┆           ┆           ┆          │\n",
       "│ 011…      ┆           ┆           ┆           ┆   ┆           ┆           ┆           ┆          │\n",
       "│ fff88cca5 ┆ -0.004207 ┆ -0.037833 ┆ -2.089301 ┆ … ┆ -0.006796 ┆ -0.179012 ┆ -0.099115 ┆ -0.00823 │\n",
       "│ f8a012427 ┆           ┆           ┆           ┆   ┆           ┆           ┆           ┆          │\n",
       "│ b96bdde66 ┆           ┆           ┆           ┆   ┆           ┆           ┆           ┆          │\n",
       "│ 011…      ┆           ┆           ┆           ┆   ┆           ┆           ┆           ┆          │\n",
       "│ fff88cca5 ┆ -2.1624e- ┆ -1.9432e- ┆ -2.170106 ┆ … ┆ -0.034726 ┆ 0.066985  ┆ -0.115434 ┆ -0.04286 │\n",
       "│ f8a012427 ┆ 10        ┆ 9         ┆           ┆   ┆           ┆           ┆           ┆ 6        │\n",
       "│ b96bdde66 ┆           ┆           ┆           ┆   ┆           ┆           ┆           ┆          │\n",
       "│ 011…      ┆           ┆           ┆           ┆   ┆           ┆           ┆           ┆          │\n",
       "│ fff88cca5 ┆ -1.1102e- ┆ -9.9770e- ┆ -2.24445  ┆ … ┆ -0.007196 ┆ -0.164043 ┆ -0.108869 ┆ -0.00444 │\n",
       "│ f8a012427 ┆ 17        ┆ 17        ┆           ┆   ┆           ┆           ┆           ┆ 9        │\n",
       "│ b96bdde66 ┆           ┆           ┆           ┆   ┆           ┆           ┆           ┆          │\n",
       "│ 011…      ┆           ┆           ┆           ┆   ┆           ┆           ┆           ┆          │\n",
       "└───────────┴───────────┴───────────┴───────────┴───┴───────────┴───────────┴───────────┴──────────┘"
      ]
     },
     "execution_count": 13,
     "metadata": {},
     "output_type": "execute_result"
    }
   ],
   "source": [
    "oof_preds = oof_preds.select(pl.all().name.prefix(\"pred_\"))\n",
    "pred_cols = oof_preds.columns\n",
    "\n",
    "tr_df = pl.concat([tr_df, oof_preds], how=\"horizontal\")\n",
    "tr_df"
   ]
  },
  {
   "cell_type": "markdown",
   "metadata": {},
   "source": [
    "## 評価"
   ]
  },
  {
   "cell_type": "code",
   "execution_count": 14,
   "metadata": {},
   "outputs": [
    {
     "data": {
      "text/plain": [
       "{'score_pred_tg_cood_x_0': 0.09652609648948182,\n",
       " 'score_pred_tg_cood_y_0': 0.03837825632325265,\n",
       " 'score_pred_tg_cood_z_0': 0.027732769770800424,\n",
       " 'score_pred_tg_cood_x_1': 0.1952555598870074,\n",
       " 'score_pred_tg_cood_y_1': 0.08587574695754038,\n",
       " 'score_pred_tg_cood_z_1': 0.057505091616649406,\n",
       " 'score_pred_tg_cood_x_2': 0.31596293101249356,\n",
       " 'score_pred_tg_cood_y_2': 0.14709075909708752,\n",
       " 'score_pred_tg_cood_z_2': 0.0878972562738655,\n",
       " 'score_pred_tg_cood_x_3': 0.4853280509319801,\n",
       " 'score_pred_tg_cood_y_3': 0.2309890389077594,\n",
       " 'score_pred_tg_cood_z_3': 0.11918820924722145,\n",
       " 'score_pred_tg_cood_x_4': 0.7176757211252932,\n",
       " 'score_pred_tg_cood_y_4': 0.3429328476628565,\n",
       " 'score_pred_tg_cood_z_4': 0.15082168110346067,\n",
       " 'score_pred_tg_cood_x_5': 1.020564845795972,\n",
       " 'score_pred_tg_cood_y_5': 0.4862558470187555,\n",
       " 'score_pred_tg_cood_z_5': 0.1837639991932811,\n",
       " 'avg': 0.2660969282452643}"
      ]
     },
     "execution_count": 14,
     "metadata": {},
     "output_type": "execute_result"
    }
   ],
   "source": [
    "def calc_score(df: pl.DataFrame, pred_cols: list[str]):\n",
    "    tg_cols = sum([[f\"x_{i}\", f\"y_{i}\", f\"z_{i}\"] for i in range(6)], [])\n",
    "\n",
    "    tg = df.select(tg_cols).to_numpy()\n",
    "    pred = df.select(pred_cols).to_numpy()\n",
    "\n",
    "    scores = np.abs(tg - pred).mean(axis=0)\n",
    "    scores = {f\"score_{col}\": float(score) for col, score in zip(pred_cols, scores)}\n",
    "    scores[\"avg\"] = float(np.abs(tg - pred).mean())\n",
    "    return scores\n",
    "\n",
    "\n",
    "scores = calc_score(tr_df, pred_cols)\n",
    "scores"
   ]
  },
  {
   "cell_type": "code",
   "execution_count": 15,
   "metadata": {},
   "outputs": [
    {
     "data": {
      "image/png": "[encoded data removed]",
      "text/plain": [
       "<Figure size 1200x1200 with 36 Axes>"
      ]
     },
     "metadata": {},
     "output_type": "display_data"
    }
   ],
   "source": [
    "utils.plot_calibration_curve(tr_df, pred_cols, n_bins=40)"
   ]
  },
  {
   "cell_type": "markdown",
   "metadata": {},
   "source": [
    "## Submission"
   ]
  },
  {
   "cell_type": "code",
   "execution_count": 16,
   "metadata": {},
   "outputs": [
    {
     "data": {
      "text/html": [
       "<div><style>\n",
       ".dataframe > thead > tr,\n",
       ".dataframe > tbody > tr {\n",
       "  text-align: right;\n",
       "  white-space: pre-wrap;\n",
       "}\n",
       "</style>\n",
       "<small>shape: (1_727, 18)</small><table border=\"1\" class=\"dataframe\"><thead><tr><th>pred_tg_cood_x_0</th><th>pred_tg_cood_y_0</th><th>pred_tg_cood_z_0</th><th>pred_tg_cood_x_1</th><th>pred_tg_cood_y_1</th><th>pred_tg_cood_z_1</th><th>pred_tg_cood_x_2</th><th>pred_tg_cood_y_2</th><th>pred_tg_cood_z_2</th><th>pred_tg_cood_x_3</th><th>pred_tg_cood_y_3</th><th>pred_tg_cood_z_3</th><th>pred_tg_cood_x_4</th><th>pred_tg_cood_y_4</th><th>pred_tg_cood_z_4</th><th>pred_tg_cood_x_5</th><th>pred_tg_cood_y_5</th><th>pred_tg_cood_z_5</th></tr><tr><td>f32</td><td>f32</td><td>f32</td><td>f32</td><td>f32</td><td>f32</td><td>f32</td><td>f32</td><td>f32</td><td>f32</td><td>f32</td><td>f32</td><td>f32</td><td>f32</td><td>f32</td><td>f32</td><td>f32</td><td>f32</td></tr></thead><tbody><tr><td>1.509758</td><td>-0.018221</td><td>-0.005054</td><td>3.044772</td><td>-0.019531</td><td>-0.001742</td><td>4.738007</td><td>-0.045454</td><td>-0.001684</td><td>6.069377</td><td>-0.051581</td><td>0.007502</td><td>7.457631</td><td>-0.049534</td><td>0.007751</td><td>9.088376</td><td>0.005391</td><td>0.014333</td></tr><tr><td>0.932048</td><td>0.349524</td><td>-0.012884</td><td>1.818762</td><td>0.980057</td><td>-0.030041</td><td>2.578672</td><td>1.839686</td><td>-0.047981</td><td>3.079198</td><td>2.903566</td><td>-0.066116</td><td>3.560373</td><td>4.205268</td><td>-0.064349</td><td>4.087225</td><td>5.741265</td><td>-0.068266</td></tr><tr><td>1.598028</td><td>-0.001207</td><td>-0.011351</td><td>3.171161</td><td>-0.001873</td><td>-0.02644</td><td>4.57943</td><td>-0.047173</td><td>-0.033215</td><td>5.96015</td><td>-0.077133</td><td>-0.044522</td><td>6.946936</td><td>-0.154659</td><td>-0.053993</td><td>8.64803</td><td>-0.205529</td><td>-0.070896</td></tr><tr><td>0.871958</td><td>0.011195</td><td>-0.030217</td><td>1.66463</td><td>0.102591</td><td>-0.054127</td><td>2.505206</td><td>0.290307</td><td>-0.087247</td><td>3.150758</td><td>0.587244</td><td>-0.118582</td><td>3.773296</td><td>1.098332</td><td>-0.148441</td><td>4.441225</td><td>1.827261</td><td>-0.174121</td></tr><tr><td>0.837064</td><td>0.005958</td><td>-0.019604</td><td>1.453228</td><td>0.009477</td><td>-0.044207</td><td>1.825304</td><td>0.015227</td><td>-0.071581</td><td>2.164904</td><td>0.041682</td><td>-0.09515</td><td>2.304175</td><td>0.051541</td><td>-0.119569</td><td>2.382301</td><td>0.055739</td><td>-0.145934</td></tr><tr><td>&hellip;</td><td>&hellip;</td><td>&hellip;</td><td>&hellip;</td><td>&hellip;</td><td>&hellip;</td><td>&hellip;</td><td>&hellip;</td><td>&hellip;</td><td>&hellip;</td><td>&hellip;</td><td>&hellip;</td><td>&hellip;</td><td>&hellip;</td><td>&hellip;</td><td>&hellip;</td><td>&hellip;</td><td>&hellip;</td></tr><tr><td>6.511713</td><td>0.031</td><td>0.011041</td><td>13.759758</td><td>0.12469</td><td>0.026059</td><td>20.915606</td><td>0.325359</td><td>0.034439</td><td>28.063427</td><td>0.594211</td><td>0.027763</td><td>35.284931</td><td>1.001127</td><td>0.020828</td><td>42.494003</td><td>1.471195</td><td>0.000783</td></tr><tr><td>7.011106</td><td>-0.023061</td><td>-0.021758</td><td>14.871643</td><td>-0.064813</td><td>-0.052736</td><td>22.760979</td><td>-0.104426</td><td>-0.101066</td><td>30.936796</td><td>-0.140111</td><td>-0.173117</td><td>38.823196</td><td>-0.170514</td><td>-0.235212</td><td>46.902672</td><td>-0.185818</td><td>-0.320655</td></tr><tr><td>7.479311</td><td>-0.023991</td><td>0.006354</td><td>15.798719</td><td>-0.068153</td><td>0.012029</td><td>24.071224</td><td>-0.114191</td><td>0.029264</td><td>32.38868</td><td>-0.168723</td><td>0.055721</td><td>40.605572</td><td>-0.213992</td><td>0.080571</td><td>48.913074</td><td>-0.233573</td><td>0.115328</td></tr><tr><td>6.599112</td><td>-0.022826</td><td>0.022212</td><td>13.813883</td><td>-0.048131</td><td>0.053848</td><td>20.889503</td><td>-0.062095</td><td>0.104236</td><td>27.944836</td><td>-0.067405</td><td>0.171177</td><td>34.830067</td><td>-0.044183</td><td>0.259273</td><td>41.550789</td><td>0.01103</td><td>0.364261</td></tr><tr><td>5.744918</td><td>-0.291585</td><td>-0.00581</td><td>12.285141</td><td>-1.137776</td><td>-0.022267</td><td>18.753263</td><td>-2.516062</td><td>-0.051552</td><td>25.344727</td><td>-4.408367</td><td>-0.104289</td><td>31.890406</td><td>-6.75368</td><td>-0.187662</td><td>38.617844</td><td>-9.521387</td><td>-0.325556</td></tr></tbody></table></div>"
      ],
      "text/plain": [
       "shape: (1_727, 18)\n",
       "┌───────────┬───────────┬───────────┬───────────┬───┬───────────┬───────────┬───────────┬──────────┐\n",
       "│ pred_tg_c ┆ pred_tg_c ┆ pred_tg_c ┆ pred_tg_c ┆ … ┆ pred_tg_c ┆ pred_tg_c ┆ pred_tg_c ┆ pred_tg_ │\n",
       "│ ood_x_0   ┆ ood_y_0   ┆ ood_z_0   ┆ ood_x_1   ┆   ┆ ood_z_4   ┆ ood_x_5   ┆ ood_y_5   ┆ cood_z_5 │\n",
       "│ ---       ┆ ---       ┆ ---       ┆ ---       ┆   ┆ ---       ┆ ---       ┆ ---       ┆ ---      │\n",
       "│ f32       ┆ f32       ┆ f32       ┆ f32       ┆   ┆ f32       ┆ f32       ┆ f32       ┆ f32      │\n",
       "╞═══════════╪═══════════╪═══════════╪═══════════╪═══╪═══════════╪═══════════╪═══════════╪══════════╡\n",
       "│ 1.509758  ┆ -0.018221 ┆ -0.005054 ┆ 3.044772  ┆ … ┆ 0.007751  ┆ 9.088376  ┆ 0.005391  ┆ 0.014333 │\n",
       "│ 0.932048  ┆ 0.349524  ┆ -0.012884 ┆ 1.818762  ┆ … ┆ -0.064349 ┆ 4.087225  ┆ 5.741265  ┆ -0.06826 │\n",
       "│           ┆           ┆           ┆           ┆   ┆           ┆           ┆           ┆ 6        │\n",
       "│ 1.598028  ┆ -0.001207 ┆ -0.011351 ┆ 3.171161  ┆ … ┆ -0.053993 ┆ 8.64803   ┆ -0.205529 ┆ -0.07089 │\n",
       "│           ┆           ┆           ┆           ┆   ┆           ┆           ┆           ┆ 6        │\n",
       "│ 0.871958  ┆ 0.011195  ┆ -0.030217 ┆ 1.66463   ┆ … ┆ -0.148441 ┆ 4.441225  ┆ 1.827261  ┆ -0.17412 │\n",
       "│           ┆           ┆           ┆           ┆   ┆           ┆           ┆           ┆ 1        │\n",
       "│ 0.837064  ┆ 0.005958  ┆ -0.019604 ┆ 1.453228  ┆ … ┆ -0.119569 ┆ 2.382301  ┆ 0.055739  ┆ -0.14593 │\n",
       "│           ┆           ┆           ┆           ┆   ┆           ┆           ┆           ┆ 4        │\n",
       "│ …         ┆ …         ┆ …         ┆ …         ┆ … ┆ …         ┆ …         ┆ …         ┆ …        │\n",
       "│ 6.511713  ┆ 0.031     ┆ 0.011041  ┆ 13.759758 ┆ … ┆ 0.020828  ┆ 42.494003 ┆ 1.471195  ┆ 0.000783 │\n",
       "│ 7.011106  ┆ -0.023061 ┆ -0.021758 ┆ 14.871643 ┆ … ┆ -0.235212 ┆ 46.902672 ┆ -0.185818 ┆ -0.32065 │\n",
       "│           ┆           ┆           ┆           ┆   ┆           ┆           ┆           ┆ 5        │\n",
       "│ 7.479311  ┆ -0.023991 ┆ 0.006354  ┆ 15.798719 ┆ … ┆ 0.080571  ┆ 48.913074 ┆ -0.233573 ┆ 0.115328 │\n",
       "│ 6.599112  ┆ -0.022826 ┆ 0.022212  ┆ 13.813883 ┆ … ┆ 0.259273  ┆ 41.550789 ┆ 0.01103   ┆ 0.364261 │\n",
       "│ 5.744918  ┆ -0.291585 ┆ -0.00581  ┆ 12.285141 ┆ … ┆ -0.187662 ┆ 38.617844 ┆ -9.521387 ┆ -0.32555 │\n",
       "│           ┆           ┆           ┆           ┆   ┆           ┆           ┆           ┆ 6        │\n",
       "└───────────┴───────────┴───────────┴───────────┴───┴───────────┴───────────┴───────────┴──────────┘"
      ]
     },
     "execution_count": 16,
     "metadata": {},
     "output_type": "execute_result"
    }
   ],
   "source": [
    "preds = utils.predict(models, ts_images, ts_df, feature.columns, pred_cols)\n",
    "preds"
   ]
  },
  {
   "cell_type": "code",
   "execution_count": 17,
   "metadata": {},
   "outputs": [
    {
     "name": "stdout",
     "output_type": "stream",
     "text": [
      "Submission file is created: submission.csv\n"
     ]
    }
   ],
   "source": [
    "def create_submission_csv(preds: pl.DataFrame, filename: str = \"submission.csv\"):\n",
    "    submission_cols = sum([[f\"x_{i}\", f\"y_{i}\", f\"z_{i}\"] for i in range(6)], [])\n",
    "\n",
    "    # validate preds columns\n",
    "    if len(preds.columns) != len(submission_cols):\n",
    "        raise ValueError(\n",
    "            f\"preds columns must be {len(submission_cols)}, but got {len(preds.columns)}\"\n",
    "        )\n",
    "\n",
    "    preds.columns = submission_cols\n",
    "    preds.write_csv(filename)\n",
    "    print(f\"Submission file is created: {filename}\")\n",
    "\n",
    "\n",
    "create_submission_csv(preds)"
   ]
  }
 ],
 "metadata": {
  "kernelspec": {
   "display_name": "venv",
   "language": "python",
   "name": "python3"
  },
  "language_info": {
   "codemirror_mode": {
    "name": "ipython",
    "version": 3
   },
   "file_extension": ".py",
   "mimetype": "text/x-python",
   "name": "python",
   "nbconvert_exporter": "python",
   "pygments_lexer": "ipython3",
   "version": "3.10.12"
  }
 },
 "nbformat": 4,
 "nbformat_minor": 2
}
