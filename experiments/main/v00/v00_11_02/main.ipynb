{
 "cells": [
  {
   "cell_type": "code",
   "execution_count": 1,
   "metadata": {},
   "outputs": [
    {
     "data": {
      "text/plain": [
       "<module 'utils' from '/home/tatsuya/projects/atmacup/atmacup_18/experiments/main/v00/v00_11_02/utils.py'>"
      ]
     },
     "execution_count": 1,
     "metadata": {},
     "output_type": "execute_result"
    }
   ],
   "source": [
    "import importlib\n",
    "from pathlib import Path\n",
    "\n",
    "import matplotlib.pyplot as plt\n",
    "import numpy as np\n",
    "import polars as pl\n",
    "import seaborn as sns\n",
    "from atmacup_18 import constants\n",
    "\n",
    "import utils\n",
    "\n",
    "importlib.reload(utils)"
   ]
  },
  {
   "cell_type": "code",
   "execution_count": 2,
   "metadata": {},
   "outputs": [],
   "source": [
    "RANDOM_STATE = 2024\n",
    "utils.seed_everything(RANDOM_STATE)"
   ]
  },
  {
   "cell_type": "markdown",
   "metadata": {},
   "source": [
    "## データ読み込み"
   ]
  },
  {
   "cell_type": "code",
   "execution_count": 3,
   "metadata": {},
   "outputs": [],
   "source": [
    "notebook_dir = Path().resolve()\n",
    "DATA_DIR = notebook_dir.parents[3].joinpath(\"data\")\n",
    "DATASET_DIR = DATA_DIR.joinpath(\"atmaCup#18_dataset\")\n",
    "TR_FEATURES_CSV = DATASET_DIR.joinpath(\"train_features.csv\")\n",
    "TS_FEATURES_CSV = DATASET_DIR.joinpath(\"test_features.csv\")\n",
    "IMAGES_DIR = DATASET_DIR.joinpath(\"images\")\n",
    "TRAFFIC_LIGHTS_CSV = DATASET_DIR.joinpath(\"traffic_lights.csv\")\n",
    "\n",
    "IMAGE_NAMES = [\"image_t.png\", \"image_t-0.5.png\", \"image_t-1.0.png\"]\n",
    "TRAFFIC_LIGHTS_BBOX_IMAGE_NAME = constants.TRAFFIC_LIGHT_BBOX_IMAGE_NAME"
   ]
  },
  {
   "cell_type": "code",
   "execution_count": 4,
   "metadata": {},
   "outputs": [
    {
     "data": {
      "text/html": [
       "<div><style>\n",
       ".dataframe > thead > tr,\n",
       ".dataframe > tbody > tr {\n",
       "  text-align: right;\n",
       "  white-space: pre-wrap;\n",
       "}\n",
       "</style>\n",
       "<small>shape: (2, 33)</small><table border=\"1\" class=\"dataframe\"><thead><tr><th>ID</th><th>vEgo</th><th>aEgo</th><th>steeringAngleDeg</th><th>steeringTorque</th><th>brake</th><th>brakePressed</th><th>gas</th><th>gasPressed</th><th>gearShifter</th><th>leftBlinker</th><th>rightBlinker</th><th>x_0</th><th>y_0</th><th>z_0</th><th>x_1</th><th>y_1</th><th>z_1</th><th>x_2</th><th>y_2</th><th>z_2</th><th>x_3</th><th>y_3</th><th>z_3</th><th>x_4</th><th>y_4</th><th>z_4</th><th>x_5</th><th>y_5</th><th>z_5</th><th>scene_id</th><th>scene_dsec</th><th>origin_idx</th></tr><tr><td>str</td><td>f64</td><td>f64</td><td>f64</td><td>f64</td><td>f64</td><td>bool</td><td>f64</td><td>bool</td><td>str</td><td>bool</td><td>bool</td><td>f64</td><td>f64</td><td>f64</td><td>f64</td><td>f64</td><td>f64</td><td>f64</td><td>f64</td><td>f64</td><td>f64</td><td>f64</td><td>f64</td><td>f64</td><td>f64</td><td>f64</td><td>f64</td><td>f64</td><td>f64</td><td>str</td><td>i32</td><td>i64</td></tr></thead><tbody><tr><td>&quot;00066be8e20318869c38c66be46663…</td><td>5.701526</td><td>1.538456</td><td>-2.165777</td><td>-139.0</td><td>0.0</td><td>false</td><td>0.25</td><td>true</td><td>&quot;drive&quot;</td><td>false</td><td>false</td><td>2.82959</td><td>0.032226</td><td>0.045187</td><td>6.231999</td><td>0.065895</td><td>0.107974</td><td>9.785009</td><td>0.124972</td><td>0.203649</td><td>13.485472</td><td>0.163448</td><td>0.302818</td><td>17.574227</td><td>0.174289</td><td>0.406331</td><td>21.951269</td><td>0.199503</td><td>0.485079</td><td>&quot;00066be8e20318869c38c66be46663…</td><td>320</td><td>0</td></tr><tr><td>&quot;00066be8e20318869c38c66be46663…</td><td>11.176292</td><td>0.279881</td><td>-11.625697</td><td>-44.0</td><td>0.0</td><td>false</td><td>0.0</td><td>false</td><td>&quot;drive&quot;</td><td>false</td><td>true</td><td>4.970268</td><td>-0.007936</td><td>0.005028</td><td>10.350489</td><td>-0.032374</td><td>-0.020701</td><td>15.770054</td><td>0.084073</td><td>0.008645</td><td>21.132415</td><td>0.391343</td><td>0.036335</td><td>26.316489</td><td>0.843124</td><td>0.065</td><td>31.383814</td><td>1.42507</td><td>0.073083</td><td>&quot;00066be8e20318869c38c66be46663…</td><td>420</td><td>1</td></tr></tbody></table></div>"
      ],
      "text/plain": [
       "shape: (2, 33)\n",
       "┌────────────┬───────────┬──────────┬───────────┬───┬──────────┬───────────┬───────────┬───────────┐\n",
       "│ ID         ┆ vEgo      ┆ aEgo     ┆ steeringA ┆ … ┆ z_5      ┆ scene_id  ┆ scene_dse ┆ origin_id │\n",
       "│ ---        ┆ ---       ┆ ---      ┆ ngleDeg   ┆   ┆ ---      ┆ ---       ┆ c         ┆ x         │\n",
       "│ str        ┆ f64       ┆ f64      ┆ ---       ┆   ┆ f64      ┆ str       ┆ ---       ┆ ---       │\n",
       "│            ┆           ┆          ┆ f64       ┆   ┆          ┆           ┆ i32       ┆ i64       │\n",
       "╞════════════╪═══════════╪══════════╪═══════════╪═══╪══════════╪═══════════╪═══════════╪═══════════╡\n",
       "│ 00066be8e2 ┆ 5.701526  ┆ 1.538456 ┆ -2.165777 ┆ … ┆ 0.485079 ┆ 00066be8e ┆ 320       ┆ 0         │\n",
       "│ 0318869c38 ┆           ┆          ┆           ┆   ┆          ┆ 20318869c ┆           ┆           │\n",
       "│ c66be46663 ┆           ┆          ┆           ┆   ┆          ┆ 38c66be46 ┆           ┆           │\n",
       "│ …          ┆           ┆          ┆           ┆   ┆          ┆ 663…      ┆           ┆           │\n",
       "│ 00066be8e2 ┆ 11.176292 ┆ 0.279881 ┆ -11.62569 ┆ … ┆ 0.073083 ┆ 00066be8e ┆ 420       ┆ 1         │\n",
       "│ 0318869c38 ┆           ┆          ┆ 7         ┆   ┆          ┆ 20318869c ┆           ┆           │\n",
       "│ c66be46663 ┆           ┆          ┆           ┆   ┆          ┆ 38c66be46 ┆           ┆           │\n",
       "│ …          ┆           ┆          ┆           ┆   ┆          ┆ 663…      ┆           ┆           │\n",
       "└────────────┴───────────┴──────────┴───────────┴───┴──────────┴───────────┴───────────┴───────────┘"
      ]
     },
     "execution_count": 4,
     "metadata": {},
     "output_type": "execute_result"
    }
   ],
   "source": [
    "tr_df = utils.read_feature_csv(TR_FEATURES_CSV)\n",
    "tr_df.head(2)"
   ]
  },
  {
   "cell_type": "code",
   "execution_count": 5,
   "metadata": {},
   "outputs": [
    {
     "data": {
      "text/html": [
       "<div><style>\n",
       ".dataframe > thead > tr,\n",
       ".dataframe > tbody > tr {\n",
       "  text-align: right;\n",
       "  white-space: pre-wrap;\n",
       "}\n",
       "</style>\n",
       "<small>shape: (2, 15)</small><table border=\"1\" class=\"dataframe\"><thead><tr><th>ID</th><th>vEgo</th><th>aEgo</th><th>steeringAngleDeg</th><th>steeringTorque</th><th>brake</th><th>brakePressed</th><th>gas</th><th>gasPressed</th><th>gearShifter</th><th>leftBlinker</th><th>rightBlinker</th><th>scene_id</th><th>scene_dsec</th><th>origin_idx</th></tr><tr><td>str</td><td>f64</td><td>f64</td><td>f64</td><td>f64</td><td>f64</td><td>bool</td><td>f64</td><td>bool</td><td>str</td><td>bool</td><td>bool</td><td>str</td><td>i32</td><td>i64</td></tr></thead><tbody><tr><td>&quot;012baccc145d400c896cb82065a93d…</td><td>3.374273</td><td>-0.01936</td><td>-34.008415</td><td>17.0</td><td>0.0</td><td>false</td><td>0.0</td><td>false</td><td>&quot;drive&quot;</td><td>false</td><td>false</td><td>&quot;012baccc145d400c896cb82065a93d…</td><td>120</td><td>0</td></tr><tr><td>&quot;012baccc145d400c896cb82065a93d…</td><td>2.441048</td><td>-0.022754</td><td>307.860077</td><td>295.0</td><td>0.0</td><td>true</td><td>0.0</td><td>false</td><td>&quot;drive&quot;</td><td>false</td><td>false</td><td>&quot;012baccc145d400c896cb82065a93d…</td><td>220</td><td>1</td></tr></tbody></table></div>"
      ],
      "text/plain": [
       "shape: (2, 15)\n",
       "┌───────────┬──────────┬───────────┬───────────┬───┬───────────┬───────────┬───────────┬───────────┐\n",
       "│ ID        ┆ vEgo     ┆ aEgo      ┆ steeringA ┆ … ┆ rightBlin ┆ scene_id  ┆ scene_dse ┆ origin_id │\n",
       "│ ---       ┆ ---      ┆ ---       ┆ ngleDeg   ┆   ┆ ker       ┆ ---       ┆ c         ┆ x         │\n",
       "│ str       ┆ f64      ┆ f64       ┆ ---       ┆   ┆ ---       ┆ str       ┆ ---       ┆ ---       │\n",
       "│           ┆          ┆           ┆ f64       ┆   ┆ bool      ┆           ┆ i32       ┆ i64       │\n",
       "╞═══════════╪══════════╪═══════════╪═══════════╪═══╪═══════════╪═══════════╪═══════════╪═══════════╡\n",
       "│ 012baccc1 ┆ 3.374273 ┆ -0.01936  ┆ -34.00841 ┆ … ┆ false     ┆ 012baccc1 ┆ 120       ┆ 0         │\n",
       "│ 45d400c89 ┆          ┆           ┆ 5         ┆   ┆           ┆ 45d400c89 ┆           ┆           │\n",
       "│ 6cb82065a ┆          ┆           ┆           ┆   ┆           ┆ 6cb82065a ┆           ┆           │\n",
       "│ 93d…      ┆          ┆           ┆           ┆   ┆           ┆ 93d…      ┆           ┆           │\n",
       "│ 012baccc1 ┆ 2.441048 ┆ -0.022754 ┆ 307.86007 ┆ … ┆ false     ┆ 012baccc1 ┆ 220       ┆ 1         │\n",
       "│ 45d400c89 ┆          ┆           ┆ 7         ┆   ┆           ┆ 45d400c89 ┆           ┆           │\n",
       "│ 6cb82065a ┆          ┆           ┆           ┆   ┆           ┆ 6cb82065a ┆           ┆           │\n",
       "│ 93d…      ┆          ┆           ┆           ┆   ┆           ┆ 93d…      ┆           ┆           │\n",
       "└───────────┴──────────┴───────────┴───────────┴───┴───────────┴───────────┴───────────┴───────────┘"
      ]
     },
     "execution_count": 5,
     "metadata": {},
     "output_type": "execute_result"
    }
   ],
   "source": [
    "ts_df = utils.read_feature_csv(TS_FEATURES_CSV)\n",
    "ts_df.head(2)"
   ]
  },
  {
   "cell_type": "code",
   "execution_count": 6,
   "metadata": {},
   "outputs": [
    {
     "name": "stdout",
     "output_type": "stream",
     "text": [
      "(43371, 1, 64, 128, 8)\n",
      "(1727, 1, 64, 128, 8)\n"
     ]
    }
   ],
   "source": [
    "tr_tl_bbox_images = utils.load_npy_images(\n",
    "    IMAGES_DIR,\n",
    "    ids=tr_df.get_column(\"ID\").to_list(),\n",
    "    image_names=[TRAFFIC_LIGHTS_BBOX_IMAGE_NAME],\n",
    ")\n",
    "print(tr_tl_bbox_images.shape)\n",
    "ts_tl_bbox_images = utils.load_npy_images(\n",
    "    IMAGES_DIR,\n",
    "    ids=ts_df.get_column(\"ID\").to_list(),\n",
    "    image_names=[TRAFFIC_LIGHTS_BBOX_IMAGE_NAME],\n",
    ")\n",
    "print(ts_tl_bbox_images.shape)"
   ]
  },
  {
   "cell_type": "code",
   "execution_count": 7,
   "metadata": {},
   "outputs": [
    {
     "name": "stdout",
     "output_type": "stream",
     "text": [
      "(43371, 3, 64, 128, 3)\n",
      "(1727, 3, 64, 128, 3)\n"
     ]
    }
   ],
   "source": [
    "tr_images = utils.load_images(\n",
    "    IMAGES_DIR, ids=tr_df.get_column(\"ID\").to_list(), image_names=IMAGE_NAMES\n",
    ")\n",
    "print(tr_images.shape)\n",
    "ts_images = utils.load_images(\n",
    "    IMAGES_DIR, ids=ts_df.get_column(\"ID\").to_list(), image_names=IMAGE_NAMES\n",
    ")\n",
    "print(ts_images.shape)"
   ]
  },
  {
   "cell_type": "code",
   "execution_count": 8,
   "metadata": {},
   "outputs": [
    {
     "name": "stdout",
     "output_type": "stream",
     "text": [
      "(43371, 17, 64, 128)\n",
      "(1727, 17, 64, 128)\n"
     ]
    }
   ],
   "source": [
    "tr_images = utils.preprocess_images([tr_images, tr_tl_bbox_images])\n",
    "ts_images = utils.preprocess_images([ts_images, ts_tl_bbox_images])\n",
    "\n",
    "print(tr_images.shape)\n",
    "print(ts_images.shape)"
   ]
  },
  {
   "cell_type": "markdown",
   "metadata": {},
   "source": [
    "## scene_dsec順に並び替える"
   ]
  },
  {
   "cell_type": "code",
   "execution_count": 9,
   "metadata": {},
   "outputs": [],
   "source": [
    "tr_df = tr_df.sort([\"scene_id\", \"scene_dsec\"])\n",
    "ts_df = ts_df.sort([\"scene_id\", \"scene_dsec\"])\n",
    "\n",
    "tr_images = tr_images[tr_df.get_column(\"origin_idx\").to_numpy()]\n",
    "ts_images = ts_images[ts_df.get_column(\"origin_idx\").to_numpy()]"
   ]
  },
  {
   "cell_type": "markdown",
   "metadata": {},
   "source": [
    "## Target"
   ]
  },
  {
   "cell_type": "code",
   "execution_count": 10,
   "metadata": {},
   "outputs": [
    {
     "name": "stdout",
     "output_type": "stream",
     "text": [
      "['tg_cood_x_0', 'tg_cood_y_0', 'tg_cood_z_0', 'tg_cood_x_1', 'tg_cood_y_1', 'tg_cood_z_1', 'tg_cood_x_2', 'tg_cood_y_2', 'tg_cood_z_2', 'tg_cood_x_3', 'tg_cood_y_3', 'tg_cood_z_3', 'tg_cood_x_4', 'tg_cood_y_4', 'tg_cood_z_4', 'tg_cood_x_5', 'tg_cood_y_5', 'tg_cood_z_5']\n",
      "Rows: 9\n",
      "Columns: 19\n",
      "$ statistic   <str> 'count', 'null_count', 'mean', 'std', 'min', '25%', '50%', '75%', 'max'\n",
      "$ tg_cood_x_0 <f64> 43371.0, 0.0, 4.122443942757371, 3.2667167639213908, -1.7321542071537557, 1.116530690565041, 3.843337458989432, 6.4281197924248215, 12.392587231992154\n",
      "$ tg_cood_y_0 <f64> 43371.0, 0.0, 0.0019486856369589753, 0.11686590022408185, -2.5341378248203235, -0.02646308932096216, 0.0010884804706597444, 0.030664179622664968, 3.4595563267615925\n",
      "$ tg_cood_z_0 <f64> 43371.0, 0.0, 0.001247332026343412, 0.040745039147660006, -0.9965478318668152, -0.017624552286421614, 0.0011112325970167394, 0.01959056385186172, 1.4479292511292303\n",
      "$ tg_cood_x_1 <f64> 43371.0, 0.0, 8.694386412319787, 6.894354638218222, -3.1110552313515663, 2.3347733190583524, 8.082799715190657, 13.569839002261446, 26.160460553005198\n",
      "$ tg_cood_y_1 <f64> 43371.0, 0.0, 0.004476514556435517, 0.327714078698954, -4.090710120199793, -0.06649143018994849, 0.0026994983574432146, 0.07784738369073656, 3.220475848407637\n",
      "$ tg_cood_z_1 <f64> 43371.0, 0.0, 0.0026177764841189125, 0.08338777633001182, -1.7567724970164338, -0.03676779701549093, 0.002288004100929793, 0.04145726267204623, 2.7481787007302354\n",
      "$ tg_cood_x_2 <f64> 43371.0, 0.0, 13.255113203175153, 10.520810050377683, -4.4542728848099316, 3.54812508508695, 12.330557720909065, 20.699952354360065, 39.85555499634953\n",
      "$ tg_cood_y_2 <f64> 43371.0, 0.0, 0.006757802478080225, 0.6376502116618826, -5.6665134567188025, -0.11984818786203096, 0.003819198790576571, 0.1367151006412065, 5.073225132597423\n",
      "$ tg_cood_z_2 <f64> 43371.0, 0.0, 0.0039805597739072185, 0.12708085737832547, -2.3413471300188857, -0.057168755383470965, 0.0030614709567915524, 0.06429009816926717, 3.920498256897937\n",
      "$ tg_cood_x_3 <f64> 43371.0, 0.0, 17.800580198667912, 14.147078994889537, -5.678676031490648, 4.729802933854976, 16.56731923526755, 27.83404851330417, 53.597005364832754\n",
      "$ tg_cood_y_3 <f64> 43371.0, 0.0, 0.009001091066397375, 1.0418271179092178, -8.864627963212671, -0.1827334066634623, 0.0050993710331077675, 0.20661702134778395, 8.201287915599481\n",
      "$ tg_cood_z_3 <f64> 43371.0, 0.0, 0.0052226783053458264, 0.17289219257292845, -3.0586733624587223, -0.07927416946162652, 0.004305777144596841, 0.08734364553032027, 4.773077968323914\n",
      "$ tg_cood_x_4 <f64> 43371.0, 0.0, 22.330185302557812, 17.772877254206836, -6.799718387513031, 5.9160516139778405, 20.763179790315586, 34.94724391510316, 67.24271501180003\n",
      "$ tg_cood_y_4 <f64> 43371.0, 0.0, 0.011158717608207358, 1.534513906347504, -12.459174095987274, -0.2562861911867529, 0.0061600080819784785, 0.2864272237952777, 12.084923257564784\n",
      "$ tg_cood_z_4 <f64> 43371.0, 0.0, 0.006012087559104841, 0.22083695547431775, -3.8712239955383367, -0.10168066236999504, 0.00528949770742061, 0.11125428996447788, 5.743042003115384\n",
      "$ tg_cood_x_5 <f64> 43371.0, 0.0, 26.84260725073137, 21.39811401676552, -7.826888370244597, 7.034703392503746, 24.947073557718593, 42.027568905167726, 80.98890010605476\n",
      "$ tg_cood_y_5 <f64> 43371.0, 0.0, 0.013563933180990386, 2.1110887290578124, -16.384151619613043, -0.3377936836816856, 0.007994441653063001, 0.3727276742148207, 17.151380511488536\n",
      "$ tg_cood_z_5 <f64> 43371.0, 0.0, 0.006647653778136916, 0.27167131530639843, -4.669255244678936, -0.12535440686368335, 0.005778101377040489, 0.13498369236039046, 6.627250814254265\n",
      "\n",
      "None\n"
     ]
    }
   ],
   "source": [
    "target = utils.CoordinateTarget(prefix=\"tg_\")\n",
    "target.fit(tr_df)\n",
    "\n",
    "tg_df = target.transform(tr_df)\n",
    "print(tg_df.columns)\n",
    "print(tg_df.describe().glimpse())\n",
    "tr_df = pl.concat([tr_df, tg_df], how=\"horizontal\")"
   ]
  },
  {
   "cell_type": "markdown",
   "metadata": {},
   "source": [
    "## 特徴量"
   ]
  },
  {
   "cell_type": "code",
   "execution_count": 11,
   "metadata": {},
   "outputs": [
    {
     "name": "stdout",
     "output_type": "stream",
     "text": [
      "['ft_vEgo', 'ft_aEgo', 'ft_steeringAngleDeg', 'ft_steeringTorque', 'ft_brake', 'ft_brakePressed', 'ft_gas', 'ft_gasPressed', 'ft_is_gearShifter_drive', 'ft_is_gearShifter_neutral', 'ft_is_gearShifter_park', 'ft_is_gearShifter_reverse', 'ft_leftBlinker', 'ft_rightBlinker']\n",
      "Rows: 9\n",
      "Columns: 15\n",
      "$ statistic                 <str> 'count', 'null_count', 'mean', 'std', 'min', '25%', '50%', '75%', 'max'\n",
      "$ ft_vEgo                   <f64> 43371.0, 0.0, 9.172175823216334, 7.226919878374694, -0.1619189828634262, 2.5786657333374023, 8.518790245056152, 14.286815643310547, 27.55126190185547\n",
      "$ ft_aEgo                   <f64> 43371.0, 0.0, -0.015654028629347255, 0.6324016778486632, -4.936206340789795, -0.2363678514957428, -1.8347540436410405e-15, 0.22229795157909396, 3.1400704383850098\n",
      "$ ft_steeringAngleDeg       <f64> 43371.0, 0.0, -2.065172574071012, 65.54882159006848, -481.394287109375, -3.461754322052002, -0.35647091269493103, 2.6269068717956543, 484.69171142578125\n",
      "$ ft_steeringTorque         <f64> 43371.0, 0.0, -19.00954554886906, 110.79997057975086, -700.0, -94.0, -13.0, 51.0, 700.0\n",
      "$ ft_brake                  <f64> 43371.0, 0.0, 0.0, 0.0, 0.0, 0.0, 0.0, 0.0, 0.0\n",
      "$ ft_brakePressed           <f64> 43371.0, 0.0, 0.3076018537732586, 0.4615060824782501, 0.0, 0.0, 0.0, 1.0, 1.0\n",
      "$ ft_gas                    <f64> 43371.0, 0.0, 0.08400302036789904, 0.10983697747311577, 0.0, 0.0, 0.0, 0.16500000655651093, 0.915000021457672\n",
      "$ ft_gasPressed             <f64> 43371.0, 0.0, 0.48359502893638606, 0.499736565674716, 0.0, 0.0, 0.0, 1.0, 1.0\n",
      "$ ft_is_gearShifter_drive   <f64> 43371.0, 0.0, 0.9972331742408522, 0.0525284118710861, 0.0, 1.0, 1.0, 1.0, 1.0\n",
      "$ ft_is_gearShifter_neutral <f64> 43371.0, 0.0, 6.917064397869545e-05, 0.008316697312424556, 0.0, 0.0, 0.0, 0.0, 1.0\n",
      "$ ft_is_gearShifter_park    <f64> 43371.0, 0.0, 0.0026515413525166585, 0.051425398943978996, 0.0, 0.0, 0.0, 0.0, 1.0\n",
      "$ ft_is_gearShifter_reverse <f64> 43371.0, 0.0, 4.6113762652463626e-05, 0.006790633209678983, 0.0, 0.0, 0.0, 0.0, 1.0\n",
      "$ ft_leftBlinker            <f64> 43371.0, 0.0, 0.07795531576398976, 0.26810434878124423, 0.0, 0.0, 0.0, 0.0, 1.0\n",
      "$ ft_rightBlinker           <f64> 43371.0, 0.0, 0.10271840630836274, 0.3035942365298531, 0.0, 0.0, 0.0, 0.0, 1.0\n",
      "\n",
      "None\n",
      "['ft_vEgo', 'ft_aEgo', 'ft_steeringAngleDeg', 'ft_steeringTorque', 'ft_brake', 'ft_brakePressed', 'ft_gas', 'ft_gasPressed', 'ft_is_gearShifter_drive', 'ft_is_gearShifter_neutral', 'ft_is_gearShifter_park', 'ft_is_gearShifter_reverse', 'ft_leftBlinker', 'ft_rightBlinker']\n",
      "Rows: 9\n",
      "Columns: 15\n",
      "$ statistic                 <str> 'count', 'null_count', 'mean', 'std', 'min', '25%', '50%', '75%', 'max'\n",
      "$ ft_vEgo                   <f64> 1727.0, 0.0, 9.498940069707334, 7.23556621771096, -0.16705937683582306, 2.988953113555908, 9.076517105102539, 14.758581161499025, 27.206621170043945\n",
      "$ ft_aEgo                   <f64> 1727.0, 0.0, -0.02907723589981004, 0.6122087564658688, -3.8730378150939937, -0.2477388381958008, -9.617285944398328e-14, 0.21507366001605988, 2.6108293533325195\n",
      "$ ft_steeringAngleDeg       <f64> 1727.0, 0.0, -3.2302326968093227, 61.06931271098453, -441.5201416015625, -3.5669302940368652, -0.4708167612552643, 2.073073387145996, 483.0481872558594\n",
      "$ ft_steeringTorque         <f64> 1727.0, 0.0, -20.277359583092068, 113.92207330483267, -363.0, -97.0, -12.0, 53.0, 642.0\n",
      "$ ft_brake                  <f64> 1727.0, 0.0, 0.0, 0.0, 0.0, 0.0, 0.0, 0.0, 0.0\n",
      "$ ft_brakePressed           <f64> 1727.0, 0.0, 0.29530978575564565, 0.45631402026409756, 0.0, 0.0, 0.0, 1.0, 1.0\n",
      "$ ft_gas                    <f64> 1727.0, 0.0, 0.08316155173182142, 0.1095658974381894, 0.0, 0.0, 0.0, 0.1599999964237213, 0.5899999737739563\n",
      "$ ft_gasPressed             <f64> 1727.0, 0.0, 0.48870874348581356, 0.5000172769309245, 0.0, 0.0, 0.0, 1.0, 1.0\n",
      "$ ft_is_gearShifter_drive   <f64> 1727.0, 0.0, 0.9942096120440069, 0.07589594679254315, 0.0, 1.0, 1.0, 1.0, 1.0\n",
      "$ ft_is_gearShifter_neutral <f64> 1727.0, 0.0, 0.0, 0.0, 0.0, 0.0, 0.0, 0.0, 0.0\n",
      "$ ft_is_gearShifter_park    <f64> 1727.0, 0.0, 0.004632310364794441, 0.06792292304189239, 0.0, 0.0, 0.0, 0.0, 1.0\n",
      "$ ft_is_gearShifter_reverse <f64> 1727.0, 0.0, 0.0011580775911986102, 0.034020679458719075, 0.0, 0.0, 0.0, 0.0, 1.0\n",
      "$ ft_leftBlinker            <f64> 1727.0, 0.0, 0.07295888824551244, 0.26014433564008865, 0.0, 0.0, 0.0, 0.0, 1.0\n",
      "$ ft_rightBlinker           <f64> 1727.0, 0.0, 0.08569774174869717, 0.2799982765850711, 0.0, 0.0, 0.0, 0.0, 1.0\n",
      "\n",
      "None\n"
     ]
    }
   ],
   "source": [
    "feature = utils.Feature(prefix=\"ft_\")\n",
    "feature.fit(tr_df)\n",
    "\n",
    "ft_df = feature.transform(tr_df)\n",
    "print(ft_df.columns)\n",
    "print(ft_df.describe().glimpse())\n",
    "tr_df = pl.concat([tr_df, ft_df], how=\"horizontal\")\n",
    "\n",
    "ft_df = feature.transform(ts_df)\n",
    "print(ft_df.columns)\n",
    "print(ft_df.describe().glimpse())\n",
    "ts_df = pl.concat([ts_df, ft_df], how=\"horizontal\")"
   ]
  },
  {
   "cell_type": "markdown",
   "metadata": {},
   "source": [
    "## モデリング"
   ]
  },
  {
   "cell_type": "code",
   "execution_count": 12,
   "metadata": {},
   "outputs": [],
   "source": [
    "N_SPLITS = 2"
   ]
  },
  {
   "cell_type": "code",
   "execution_count": 13,
   "metadata": {},
   "outputs": [],
   "source": [
    "n_sample_in_scene = 3\n",
    "\n",
    "model_params = {\n",
    "    \"dnn\": {\n",
    "        \"n_sample_in_scene\": n_sample_in_scene,\n",
    "        \"n_img_channels\": tr_images.shape[1] * n_sample_in_scene,\n",
    "        \"n_features\": len(feature.columns) * n_sample_in_scene,\n",
    "        \"n_targets\": len(target.columns),\n",
    "        \"segmentation_model_params\": {\n",
    "            \"encoder_name\": \"mit_b1\",\n",
    "            \"encoder_weights\": \"imagenet\",\n",
    "            \"decoder_channels\": (256, 128, 64, 32, 16),\n",
    "        },\n",
    "        \"dropout\": 0.0,\n",
    "        \"embed_dim\": 128,\n",
    "        \"n_layers\": 1,\n",
    "    },\n",
    "    \"dev\": \"cuda\",\n",
    "}\n",
    "\n",
    "lr = 1e-4\n",
    "fit_params = {\n",
    "    \"dnn\": {\n",
    "        \"tr_batch_size\": 32,\n",
    "        \"vl_batch_size\": 128,\n",
    "        \"trainer_params\": {\n",
    "            \"criterion_params\": {},\n",
    "            \"opt\": \"adamw\",\n",
    "            \"opt_params\": {\"lr\": lr, \"weight_decay\": 1e-4},\n",
    "            \"backbone_opt_params\": {\"lr\": lr, \"weight_decay\": 1e-4},\n",
    "            \"sch_params\": {\n",
    "                \"max_lr\": lr,\n",
    "                \"pct_start\": 0.1,\n",
    "                \"div_factor\": 25,\n",
    "                \"final_div_factor\": 1000,\n",
    "            },\n",
    "            \"epochs\": 40,\n",
    "            \"dev\": \"cuda\",\n",
    "            \"prefix\": \"\",\n",
    "            \"save_best\": False,\n",
    "            \"save_epochs\": [],\n",
    "            \"maximize_score\": False,\n",
    "            \"grad_max_norm\": None,\n",
    "        },\n",
    "    },\n",
    "}"
   ]
  },
  {
   "cell_type": "code",
   "execution_count": 14,
   "metadata": {},
   "outputs": [
    {
     "name": "stdout",
     "output_type": "stream",
     "text": [
      "-----------------\n",
      "-----------------\n",
      "Training fold 0...\n",
      "train samples: 21685, valid samples: 21686\n"
     ]
    },
    {
     "name": "stderr",
     "output_type": "stream",
     "text": [
      "/home/tatsuya/projects/atmacup/atmacup_18/venv/lib/python3.10/site-packages/torchvision/models/_utils.py:208: UserWarning: The parameter 'pretrained' is deprecated since 0.13 and may be removed in the future, please use 'weights' instead.\n",
      "  warnings.warn(\n",
      "/home/tatsuya/projects/atmacup/atmacup_18/venv/lib/python3.10/site-packages/torchvision/models/_utils.py:223: UserWarning: Arguments other than a weight enum or `None` for 'weights' are deprecated since 0.13 and may be removed in the future. The current behavior is equivalent to passing `weights=DeepLabV3_ResNet50_Weights.COCO_WITH_VOC_LABELS_V1`. You can also use `weights=DeepLabV3_ResNet50_Weights.DEFAULT` to get the most up-to-date weights.\n",
      "  warnings.warn(msg)\n",
      "Downloading: \"https://download.pytorch.org/models/deeplabv3_resnet50_coco-cd0a2569.pth\" to /home/tatsuya/.cache/torch/hub/checkpoints/deeplabv3_resnet50_coco-cd0a2569.pth\n",
      "100%|██████████| 161M/161M [00:02<00:00, 78.6MB/s] \n"
     ]
    },
    {
     "name": "stdout",
     "output_type": "stream",
     "text": [
      "Save model : model.pth\n",
      "\n",
      "epoch  0\n",
      "lr  4.000000000000002e-06\n",
      "lr  4.000000000000002e-06\n",
      "lr  4.000000000000002e-06\n",
      "lr  4.000000000000002e-06\n"
     ]
    },
    {
     "name": "stderr",
     "output_type": "stream",
     "text": [
      "100%|██████████| 677/677 [01:52<00:00,  6.01it/s]\n",
      "100%|██████████| 170/170 [01:16<00:00,  2.23it/s]\n"
     ]
    },
    {
     "name": "stdout",
     "output_type": "stream",
     "text": [
      "\n",
      "Train Loss: 19.2190\n",
      "{'loss': 19.219037520480473, 'loss_mse_0': 0.7827025393307473, 'loss_mse_1': 0.09017284735321911, 'loss_mse_2': 0.0564818971885294, 'loss_mse_3': 1.8210845052579656, 'loss_mse_4': 0.2583827936975079, 'loss_mse_5': 0.09690396750464134, 'loss_mse_6': 1.8921904253994872, 'loss_mse_7': 0.44666905322578493, 'loss_mse_8': 0.14657857079757722, 'loss_mse_9': 2.852236091562353, 'loss_mse_10': 0.6633169852648387, 'loss_mse_11': 0.20122152013343758, 'loss_mse_12': 2.789030848965159, 'loss_mse_13': 0.9823969762821846, 'loss_mse_14': 0.25682503435116927, 'loss_mse_15': 4.16047440088482, 'loss_mse_16': 1.4264837627792992, 'loss_mse_17': 0.29588531041339017}\n",
      "Valid Loss: 5.9667\n",
      "{'loss': 5.966720338428722, 'loss_mse_0': 0.1311399317401297, 'loss_mse_1': 0.07168888846302733, 'loss_mse_2': 0.040499751089031207, 'loss_mse_3': 0.23673596373375724, 'loss_mse_4': 0.15495490655303001, 'loss_mse_5': 0.0812061960425447, 'loss_mse_6': 0.3765395766671966, 'loss_mse_7': 0.2779758483171463, 'loss_mse_8': 0.12359522160361795, 'loss_mse_9': 0.5301613720024333, 'loss_mse_10': 0.4526005992994589, 'loss_mse_11': 0.1676400767529712, 'loss_mse_12': 0.6019687331774656, 'loss_mse_13': 0.6737613830496283, 'loss_mse_14': 0.21439264999593005, 'loss_mse_15': 0.6096433430910111, 'loss_mse_16': 0.9592986576697405, 'loss_mse_17': 0.2629172143690726}\n",
      "Update best score : 5.966720338428722\n",
      "Save model : model.pth\n",
      "\n",
      "epoch  1\n",
      "lr  1.8068723474000953e-05\n",
      "lr  1.8068723474000953e-05\n",
      "lr  1.8068723474000953e-05\n",
      "lr  1.8068723474000953e-05\n"
     ]
    },
    {
     "name": "stderr",
     "output_type": "stream",
     "text": [
      "100%|██████████| 677/677 [01:52<00:00,  6.03it/s]\n",
      "100%|██████████| 170/170 [01:16<00:00,  2.23it/s]\n"
     ]
    },
    {
     "name": "stdout",
     "output_type": "stream",
     "text": [
      "\n",
      "Train Loss: 5.0274\n",
      "{'loss': 5.027449174857034, 'loss_mse_0': 0.09497704933035674, 'loss_mse_1': 0.05897562413653868, 'loss_mse_2': 0.042379714311974084, 'loss_mse_3': 0.1853024845934601, 'loss_mse_4': 0.13625019401080762, 'loss_mse_5': 0.08613392712336523, 'loss_mse_6': 0.25579492124884307, 'loss_mse_7': 0.24750512045982845, 'loss_mse_8': 0.1294470084432177, 'loss_mse_9': 0.34210981460538537, 'loss_mse_10': 0.4096266144179523, 'loss_mse_11': 0.17463012470518469, 'loss_mse_12': 0.41029032782006297, 'loss_mse_13': 0.6047731814589599, 'loss_mse_14': 0.22246347922980345, 'loss_mse_15': 0.49396100981460894, 'loss_mse_16': 0.8612493800447821, 'loss_mse_17': 0.27157918434243433}\n",
      "Valid Loss: 4.1915\n",
      "{'loss': 4.191537984679727, 'loss_mse_0': 0.06372094564139844, 'loss_mse_1': 0.06117416689281954, 'loss_mse_2': 0.03887483644134858, 'loss_mse_3': 0.11171929790254902, 'loss_mse_4': 0.1230156598283964, 'loss_mse_5': 0.07982480960952885, 'loss_mse_6': 0.18101558010367785, 'loss_mse_7': 0.21585216890363132, 'loss_mse_8': 0.12127303397830795, 'loss_mse_9': 0.2134753130376339, 'loss_mse_10': 0.3563108178622582, 'loss_mse_11': 0.1634866700452917, 'loss_mse_12': 0.3014084535486558, 'loss_mse_13': 0.5413831297965611, 'loss_mse_14': 0.21019339583375873, 'loss_mse_15': 0.3572013821671991, 'loss_mse_16': 0.7925478647736942, 'loss_mse_17': 0.25906047470429366}\n",
      "Update best score : 4.191537984679727\n",
      "Save model : model.pth\n",
      "\n",
      "epoch  2\n",
      "lr  5.202785305484109e-05\n",
      "lr  5.202785305484109e-05\n",
      "lr  5.202785305484109e-05\n",
      "lr  5.202785305484109e-05\n"
     ]
    },
    {
     "name": "stderr",
     "output_type": "stream",
     "text": [
      "100%|██████████| 677/677 [01:52<00:00,  6.00it/s]\n",
      "100%|██████████| 170/170 [01:16<00:00,  2.23it/s]\n"
     ]
    },
    {
     "name": "stdout",
     "output_type": "stream",
     "text": [
      "\n",
      "Train Loss: 3.9176\n",
      "{'loss': 3.917564993066661, 'loss_mse_0': 0.05573227101224344, 'loss_mse_1': 0.051387007205170664, 'loss_mse_2': 0.04140171879542059, 'loss_mse_3': 0.11117101423277284, 'loss_mse_4': 0.1072945073136903, 'loss_mse_5': 0.08458153372754286, 'loss_mse_6': 0.16085215537441533, 'loss_mse_7': 0.19143974844316788, 'loss_mse_8': 0.12785372103081585, 'loss_mse_9': 0.2135187641853684, 'loss_mse_10': 0.318382156745942, 'loss_mse_11': 0.17283813858974278, 'loss_mse_12': 0.27290005815742285, 'loss_mse_13': 0.4822246783428125, 'loss_mse_14': 0.21956765394729386, 'loss_mse_15': 0.33092749136963656, 'loss_mse_16': 0.7071959178790208, 'loss_mse_17': 0.26829644269481895}\n",
      "Valid Loss: 3.2532\n",
      "{'loss': 3.253187926376567, 'loss_mse_0': 0.04275953753248734, 'loss_mse_1': 0.05338859202011543, 'loss_mse_2': 0.038667778374955934, 'loss_mse_3': 0.08329458931351409, 'loss_mse_4': 0.0952356785097543, 'loss_mse_5': 0.07830357284230345, 'loss_mse_6': 0.11831613430643782, 'loss_mse_7': 0.16070396674468237, 'loss_mse_8': 0.11906787501100231, 'loss_mse_9': 0.15397066818002392, 'loss_mse_10': 0.261748410235433, 'loss_mse_11': 0.16174145674004275, 'loss_mse_12': 0.22674960380091386, 'loss_mse_13': 0.39321244402843364, 'loss_mse_14': 0.20609636297997305, 'loss_mse_15': 0.2359894836650175, 'loss_mse_16': 0.5701374280978652, 'loss_mse_17': 0.2538043603739318}\n",
      "Update best score : 3.253187926376567\n",
      "Save model : model.pth\n",
      "\n",
      "epoch  3\n",
      "lr  8.597065526374518e-05\n",
      "lr  8.597065526374518e-05\n",
      "lr  8.597065526374518e-05\n",
      "lr  8.597065526374518e-05\n"
     ]
    },
    {
     "name": "stderr",
     "output_type": "stream",
     "text": [
      "100%|██████████| 677/677 [01:52<00:00,  6.01it/s]\n",
      "100%|██████████| 170/170 [01:15<00:00,  2.24it/s]\n"
     ]
    },
    {
     "name": "stdout",
     "output_type": "stream",
     "text": [
      "\n",
      "Train Loss: 3.3498\n",
      "{'loss': 3.349848783174681, 'loss_mse_0': 0.043163679423226124, 'loss_mse_1': 0.04570175961768764, 'loss_mse_2': 0.04130617406857551, 'loss_mse_3': 0.0870528781547196, 'loss_mse_4': 0.08934191695140727, 'loss_mse_5': 0.08424581039388784, 'loss_mse_6': 0.12766055565222856, 'loss_mse_7': 0.155908620741598, 'loss_mse_8': 0.1274336521875559, 'loss_mse_9': 0.16697863543315336, 'loss_mse_10': 0.25839528988391997, 'loss_mse_11': 0.17272772465556024, 'loss_mse_12': 0.21714350598227325, 'loss_mse_13': 0.3965819483592644, 'loss_mse_14': 0.2193635280135375, 'loss_mse_15': 0.26521789134539214, 'loss_mse_16': 0.583442521214133, 'loss_mse_17': 0.2681826993690988}\n",
      "Valid Loss: 2.6227\n",
      "{'loss': 2.622738172727473, 'loss_mse_0': 0.02266184103072566, 'loss_mse_1': 0.048675340320914987, 'loss_mse_2': 0.03828933053814313, 'loss_mse_3': 0.04162030478610712, 'loss_mse_4': 0.08021168227800551, 'loss_mse_5': 0.0778349248582826, 'loss_mse_6': 0.05625933413119877, 'loss_mse_7': 0.13257412765832507, 'loss_mse_8': 0.11797696314752101, 'loss_mse_9': 0.07477314884171767, 'loss_mse_10': 0.21525843586115276, 'loss_mse_11': 0.1609165729407002, 'loss_mse_12': 0.1071595324532074, 'loss_mse_13': 0.3435047695741934, 'loss_mse_14': 0.2048625888193355, 'loss_mse_15': 0.14043693555628553, 'loss_mse_16': 0.5072716948740622, 'loss_mse_17': 0.2524506348897429}\n",
      "Update best score : 2.622738172727473\n",
      "Save model : model.pth\n",
      "\n",
      "epoch  4\n",
      "lr  9.999999958462529e-05\n",
      "lr  9.999999958462529e-05\n",
      "lr  9.999999958462529e-05\n",
      "lr  9.999999958462529e-05\n"
     ]
    },
    {
     "name": "stderr",
     "output_type": "stream",
     "text": [
      "100%|██████████| 677/677 [01:52<00:00,  6.01it/s]\n",
      "100%|██████████| 170/170 [01:16<00:00,  2.22it/s]\n"
     ]
    },
    {
     "name": "stdout",
     "output_type": "stream",
     "text": [
      "\n",
      "Train Loss: 2.8713\n",
      "{'loss': 2.87130234477439, 'loss_mse_0': 0.03277778977313611, 'loss_mse_1': 0.042171182152863314, 'loss_mse_2': 0.04105177586636832, 'loss_mse_3': 0.06511188267236315, 'loss_mse_4': 0.07683284070749975, 'loss_mse_5': 0.08364193258941878, 'loss_mse_6': 0.09487145176182117, 'loss_mse_7': 0.13015279658909124, 'loss_mse_8': 0.12656235994779377, 'loss_mse_9': 0.12742059126199173, 'loss_mse_10': 0.21165612569433723, 'loss_mse_11': 0.17153686123241174, 'loss_mse_12': 0.16677986727573496, 'loss_mse_13': 0.32678862544467213, 'loss_mse_14': 0.21737818235044465, 'loss_mse_15': 0.20702455051936638, 'loss_mse_16': 0.48407354906883693, 'loss_mse_17': 0.2654699737445467}\n",
      "Valid Loss: 2.4101\n",
      "{'loss': 2.4100508395363303, 'loss_mse_0': 0.022214970880133265, 'loss_mse_1': 0.04658511932939291, 'loss_mse_2': 0.03830660669790471, 'loss_mse_3': 0.03909295256085256, 'loss_mse_4': 0.07266487730119159, 'loss_mse_5': 0.07789053782163298, 'loss_mse_6': 0.06575112750425058, 'loss_mse_7': 0.11055565336171319, 'loss_mse_8': 0.11810663927565603, 'loss_mse_9': 0.07978942352620995, 'loss_mse_10': 0.17880560019437006, 'loss_mse_11': 0.16100618462352193, 'loss_mse_12': 0.1101185728521908, 'loss_mse_13': 0.27570102407651786, 'loss_mse_14': 0.20594346304150188, 'loss_mse_15': 0.137953820123392, 'loss_mse_16': 0.416160834449179, 'loss_mse_17': 0.2534034222802695}\n",
      "Update best score : 2.4100508395363303\n",
      "Save model : model.pth\n",
      "\n",
      "epoch  5\n",
      "lr  9.980918039762207e-05\n",
      "lr  9.980918039762207e-05\n",
      "lr  9.980918039762207e-05\n",
      "lr  9.980918039762207e-05\n"
     ]
    },
    {
     "name": "stderr",
     "output_type": "stream",
     "text": [
      "100%|██████████| 677/677 [01:52<00:00,  6.02it/s]\n",
      "100%|██████████| 170/170 [01:16<00:00,  2.23it/s]\n"
     ]
    },
    {
     "name": "stdout",
     "output_type": "stream",
     "text": [
      "\n",
      "Train Loss: 2.5638\n",
      "{'loss': 2.5637740369561506, 'loss_mse_0': 0.025944402193075578, 'loss_mse_1': 0.038673035731673945, 'loss_mse_2': 0.0410762168246939, 'loss_mse_3': 0.05138464341218001, 'loss_mse_4': 0.06646850039739509, 'loss_mse_5': 0.08353075366934962, 'loss_mse_6': 0.07523977600225142, 'loss_mse_7': 0.11006482729916646, 'loss_mse_8': 0.12650122166098132, 'loss_mse_9': 0.10152772013950911, 'loss_mse_10': 0.17982271794873556, 'loss_mse_11': 0.1711128707562451, 'loss_mse_12': 0.13561435062520788, 'loss_mse_13': 0.28167388926602716, 'loss_mse_14': 0.21686420274383914, 'loss_mse_15': 0.1711357262211149, 'loss_mse_16': 0.4225230217420192, 'loss_mse_17': 0.2646161589325795}\n",
      "Valid Loss: 2.1968\n",
      "{'loss': 2.196847980162677, 'loss_mse_0': 0.022168270262944347, 'loss_mse_1': 0.04511633280883817, 'loss_mse_2': 0.0382020422257483, 'loss_mse_3': 0.03879130935186849, 'loss_mse_4': 0.06612589462276768, 'loss_mse_5': 0.07812543325126171, 'loss_mse_6': 0.061702298614032126, 'loss_mse_7': 0.09602524646941353, 'loss_mse_8': 0.11822628144393948, 'loss_mse_9': 0.06446547381141607, 'loss_mse_10': 0.15177522739943336, 'loss_mse_11': 0.16001803879352178, 'loss_mse_12': 0.09443321006701273, 'loss_mse_13': 0.23443993961109835, 'loss_mse_14': 0.20405185717870208, 'loss_mse_15': 0.11797774903037969, 'loss_mse_16': 0.3536541844115538, 'loss_mse_17': 0.251549193219227}\n",
      "Update best score : 2.196847980162677\n",
      "Save model : model.pth\n",
      "\n",
      "epoch  6\n",
      "lr  9.923929849339515e-05\n",
      "lr  9.923929849339515e-05\n",
      "lr  9.923929849339515e-05\n",
      "lr  9.923929849339515e-05\n"
     ]
    },
    {
     "name": "stderr",
     "output_type": "stream",
     "text": [
      "100%|██████████| 677/677 [01:52<00:00,  6.00it/s]\n",
      "100%|██████████| 170/170 [01:16<00:00,  2.23it/s]\n"
     ]
    },
    {
     "name": "stdout",
     "output_type": "stream",
     "text": [
      "\n",
      "Train Loss: 2.3902\n",
      "{'loss': 2.3901655688947905, 'loss_mse_0': 0.022441105913656986, 'loss_mse_1': 0.03738607481903392, 'loss_mse_2': 0.04087881647474084, 'loss_mse_3': 0.04423919074138299, 'loss_mse_4': 0.06325427401381678, 'loss_mse_5': 0.0832129000126215, 'loss_mse_6': 0.06496681116570882, 'loss_mse_7': 0.10185942878091, 'loss_mse_8': 0.12606121828584235, 'loss_mse_9': 0.08821151286165506, 'loss_mse_10': 0.1636077867190806, 'loss_mse_11': 0.17028484144076111, 'loss_mse_12': 0.1188719635210282, 'loss_mse_13': 0.2542317585752757, 'loss_mse_14': 0.21580156919434998, 'loss_mse_15': 0.15059168127253983, 'loss_mse_16': 0.38092058248806915, 'loss_mse_17': 0.2633440508844229}\n",
      "Valid Loss: 2.2353\n",
      "{'loss': 2.2353431996177227, 'loss_mse_0': 0.023463279392351124, 'loss_mse_1': 0.04415124169386485, 'loss_mse_2': 0.03823599792359506, 'loss_mse_3': 0.05087526943534613, 'loss_mse_4': 0.06323227703790454, 'loss_mse_5': 0.07789186659981223, 'loss_mse_6': 0.06912027011241983, 'loss_mse_7': 0.09285444713690702, 'loss_mse_8': 0.11793152437928844, 'loss_mse_9': 0.09451611031065969, 'loss_mse_10': 0.14256578166695202, 'loss_mse_11': 0.16091133421834777, 'loss_mse_12': 0.10920734486597426, 'loss_mse_13': 0.22490953202633296, 'loss_mse_14': 0.20670644873205354, 'loss_mse_15': 0.12686267718672753, 'loss_mse_16': 0.3374186271253754, 'loss_mse_17': 0.2544891726444749}\n",
      "Save model : model.pth\n",
      "\n",
      "epoch  7\n",
      "lr  9.82946910173398e-05\n",
      "lr  9.82946910173398e-05\n",
      "lr  9.82946910173398e-05\n",
      "lr  9.82946910173398e-05\n"
     ]
    },
    {
     "name": "stderr",
     "output_type": "stream",
     "text": [
      "100%|██████████| 677/677 [01:53<00:00,  5.99it/s]\n",
      "100%|██████████| 170/170 [01:16<00:00,  2.22it/s]\n"
     ]
    },
    {
     "name": "stdout",
     "output_type": "stream",
     "text": [
      "\n",
      "Train Loss: 2.3404\n",
      "{'loss': 2.340373482274516, 'loss_mse_0': 0.02235621822814965, 'loss_mse_1': 0.03653777372009469, 'loss_mse_2': 0.0408397511162271, 'loss_mse_3': 0.044502310079289946, 'loss_mse_4': 0.060387153596654426, 'loss_mse_5': 0.08304892015124793, 'loss_mse_6': 0.06613189159332605, 'loss_mse_7': 0.09629449397985833, 'loss_mse_8': 0.1257696875111039, 'loss_mse_9': 0.08934256406377127, 'loss_mse_10': 0.15434973778277417, 'loss_mse_11': 0.16977942950660405, 'loss_mse_12': 0.12022385548970813, 'loss_mse_13': 0.2395656217863588, 'loss_mse_14': 0.21507090104515478, 'loss_mse_15': 0.1535731206099163, 'loss_mse_16': 0.36051470456174417, 'loss_mse_17': 0.262085355394568}\n",
      "Valid Loss: 2.0688\n",
      "{'loss': 2.0688234420383678, 'loss_mse_0': 0.013588156756561469, 'loss_mse_1': 0.044661793364759755, 'loss_mse_2': 0.03822872826062581, 'loss_mse_3': 0.024226192867054658, 'loss_mse_4': 0.06613345866036766, 'loss_mse_5': 0.07775221929392394, 'loss_mse_6': 0.03588031942353529, 'loss_mse_7': 0.09744465559282724, 'loss_mse_8': 0.11755378829205737, 'loss_mse_9': 0.047266693840570306, 'loss_mse_10': 0.1502471315290998, 'loss_mse_11': 0.16003638365689446, 'loss_mse_12': 0.07207392901182175, 'loss_mse_13': 0.2285535885130658, 'loss_mse_14': 0.20503624980064, 'loss_mse_15': 0.10025817473583362, 'loss_mse_16': 0.33725366758949615, 'loss_mse_17': 0.25262831712470335}\n",
      "Update best score : 2.0688234420383678\n",
      "Save model : model.pth\n",
      "\n",
      "epoch  8\n",
      "lr  9.69825470027184e-05\n",
      "lr  9.69825470027184e-05\n",
      "lr  9.69825470027184e-05\n",
      "lr  9.69825470027184e-05\n"
     ]
    },
    {
     "name": "stderr",
     "output_type": "stream",
     "text": [
      "100%|██████████| 677/677 [01:53<00:00,  5.99it/s]\n",
      "100%|██████████| 170/170 [01:16<00:00,  2.23it/s]\n"
     ]
    },
    {
     "name": "stdout",
     "output_type": "stream",
     "text": [
      "\n",
      "Train Loss: 2.1805\n",
      "{'loss': 2.1805037390358164, 'loss_mse_0': 0.01809084952218758, 'loss_mse_1': 0.03584369911951188, 'loss_mse_2': 0.040740205256331666, 'loss_mse_3': 0.03580894525626473, 'loss_mse_4': 0.057716327268173544, 'loss_mse_5': 0.0828198407731257, 'loss_mse_6': 0.05290790430876802, 'loss_mse_7': 0.09017007120580933, 'loss_mse_8': 0.1253432702944453, 'loss_mse_9': 0.07297001241746207, 'loss_mse_10': 0.14246390720325874, 'loss_mse_11': 0.16913121274536258, 'loss_mse_12': 0.09903645878891561, 'loss_mse_13': 0.2203900121768697, 'loss_mse_14': 0.21432856071954992, 'loss_mse_15': 0.13028625575784303, 'loss_mse_16': 0.3313023703423173, 'loss_mse_17': 0.2611538366506776}\n",
      "Valid Loss: 2.7220\n",
      "{'loss': 2.721984101744259, 'loss_mse_0': 0.022413363406325087, 'loss_mse_1': 0.04906297574258026, 'loss_mse_2': 0.038228249423863256, 'loss_mse_3': 0.04769250536885332, 'loss_mse_4': 0.0862273286918507, 'loss_mse_5': 0.07815692802781568, 'loss_mse_6': 0.06000691631480175, 'loss_mse_7': 0.14370685108006, 'loss_mse_8': 0.11839136308168664, 'loss_mse_9': 0.09047538730151514, 'loss_mse_10': 0.23423427060684737, 'loss_mse_11': 0.16087060487445662, 'loss_mse_12': 0.12257597648045596, 'loss_mse_13': 0.34766170185278444, 'loss_mse_14': 0.20602937428390278, 'loss_mse_15': 0.1378825399586383, 'loss_mse_16': 0.5256357938051224, 'loss_mse_17': 0.25273196741062054}\n",
      "Save model : model.pth\n",
      "\n",
      "epoch  9\n",
      "lr  9.531285265777644e-05\n",
      "lr  9.531285265777644e-05\n",
      "lr  9.531285265777644e-05\n",
      "lr  9.531285265777644e-05\n"
     ]
    },
    {
     "name": "stderr",
     "output_type": "stream",
     "text": [
      "100%|██████████| 677/677 [01:53<00:00,  5.99it/s]\n",
      "100%|██████████| 170/170 [01:16<00:00,  2.23it/s]\n"
     ]
    },
    {
     "name": "stdout",
     "output_type": "stream",
     "text": [
      "\n",
      "Train Loss: 2.0545\n",
      "{'loss': 2.054451432150611, 'loss_mse_0': 0.01692743444859299, 'loss_mse_1': 0.03370185848394274, 'loss_mse_2': 0.04059787204370805, 'loss_mse_3': 0.03325166773020759, 'loss_mse_4': 0.05195899412002926, 'loss_mse_5': 0.08241452727648409, 'loss_mse_6': 0.04900564691890994, 'loss_mse_7': 0.07985292269299399, 'loss_mse_8': 0.12449008296003106, 'loss_mse_9': 0.06814039716472302, 'loss_mse_10': 0.1259187486468425, 'loss_mse_11': 0.16763371552727246, 'loss_mse_12': 0.09275361862545352, 'loss_mse_13': 0.1972129013543423, 'loss_mse_14': 0.2119701446104173, 'loss_mse_15': 0.12139962548651406, 'loss_mse_16': 0.2994632969061504, 'loss_mse_17': 0.257757969805902}\n",
      "Valid Loss: 2.0234\n",
      "{'loss': 2.023382799765643, 'loss_mse_0': 0.015546890238628668, 'loss_mse_1': 0.043097536326112115, 'loss_mse_2': 0.03844286012189353, 'loss_mse_3': 0.028222301881760357, 'loss_mse_4': 0.06152070655542261, 'loss_mse_5': 0.07828518815119477, 'loss_mse_6': 0.04521129923489164, 'loss_mse_7': 0.08583120613851968, 'loss_mse_8': 0.11847197860479355, 'loss_mse_9': 0.06323425845407388, 'loss_mse_10': 0.1310298885930987, 'loss_mse_11': 0.16045171298524913, 'loss_mse_12': 0.08553857693777364, 'loss_mse_13': 0.20322126768091145, 'loss_mse_14': 0.2035646849695374, 'loss_mse_15': 0.10862349366002223, 'loss_mse_16': 0.3053688367500025, 'loss_mse_17': 0.24772010647198733}\n",
      "Update best score : 2.023382799765643\n",
      "Save model : model.pth\n",
      "\n",
      "epoch  10\n",
      "lr  9.329831536466792e-05\n",
      "lr  9.329831536466792e-05\n",
      "lr  9.329831536466792e-05\n",
      "lr  9.329831536466792e-05\n"
     ]
    },
    {
     "name": "stderr",
     "output_type": "stream",
     "text": [
      "100%|██████████| 677/677 [01:52<00:00,  6.01it/s]\n",
      "100%|██████████| 170/170 [01:16<00:00,  2.23it/s]\n"
     ]
    },
    {
     "name": "stdout",
     "output_type": "stream",
     "text": [
      "\n",
      "Train Loss: 1.9347\n",
      "{'loss': 1.9346580191940466, 'loss_mse_0': 0.015429892709294398, 'loss_mse_1': 0.032478969845442074, 'loss_mse_2': 0.040505387605700306, 'loss_mse_3': 0.030377169185080065, 'loss_mse_4': 0.049606570057802044, 'loss_mse_5': 0.08180657215141299, 'loss_mse_6': 0.04460366247593256, 'loss_mse_7': 0.07473823809487253, 'loss_mse_8': 0.12282041524106325, 'loss_mse_9': 0.06194673535555733, 'loss_mse_10': 0.11577313183978795, 'loss_mse_11': 0.16446110449918439, 'loss_mse_12': 0.08512876575133121, 'loss_mse_13': 0.17779566536889999, 'loss_mse_14': 0.20668914041962017, 'loss_mse_15': 0.11373388320702833, 'loss_mse_16': 0.2672494667220415, 'loss_mse_17': 0.24951324887584725}\n",
      "Valid Loss: 2.1304\n",
      "{'loss': 2.1304268465322607, 'loss_mse_0': 0.0182428660145139, 'loss_mse_1': 0.04302267302375506, 'loss_mse_2': 0.03804854266893338, 'loss_mse_3': 0.039271961240207445, 'loss_mse_4': 0.06364867118570734, 'loss_mse_5': 0.07643801840570043, 'loss_mse_6': 0.056306475948761495, 'loss_mse_7': 0.09238451473853167, 'loss_mse_8': 0.11495111301979598, 'loss_mse_9': 0.07134910326670198, 'loss_mse_10': 0.14518777984468376, 'loss_mse_11': 0.15486433067742517, 'loss_mse_12': 0.08922694645383779, 'loss_mse_13': 0.22858620925861248, 'loss_mse_14': 0.19617171173586564, 'loss_mse_15': 0.11463266854338786, 'loss_mse_16': 0.34884568163577245, 'loss_mse_17': 0.23924755826592445}\n",
      "Save model : model.pth\n",
      "\n",
      "epoch  11\n",
      "lr  9.095426696860428e-05\n",
      "lr  9.095426696860428e-05\n",
      "lr  9.095426696860428e-05\n",
      "lr  9.095426696860428e-05\n"
     ]
    },
    {
     "name": "stderr",
     "output_type": "stream",
     "text": [
      "100%|██████████| 677/677 [01:52<00:00,  5.99it/s]\n",
      "100%|██████████| 170/170 [01:16<00:00,  2.22it/s]\n"
     ]
    },
    {
     "name": "stdout",
     "output_type": "stream",
     "text": [
      "\n",
      "Train Loss: 1.7926\n",
      "{'loss': 1.7925823065871855, 'loss_mse_0': 0.013714038755571362, 'loss_mse_1': 0.03206606782584876, 'loss_mse_2': 0.04017636656384238, 'loss_mse_3': 0.027051829935176686, 'loss_mse_4': 0.04676097219306398, 'loss_mse_5': 0.08039170227108448, 'loss_mse_6': 0.039926258240450874, 'loss_mse_7': 0.0672048466786346, 'loss_mse_8': 0.11985705213475438, 'loss_mse_9': 0.05540777637349494, 'loss_mse_10': 0.10117318049524436, 'loss_mse_11': 0.15921932141374978, 'loss_mse_12': 0.07799377094024305, 'loss_mse_13': 0.15445299572593352, 'loss_mse_14': 0.19905321944939686, 'loss_mse_15': 0.10481404858961856, 'loss_mse_16': 0.23426980019562177, 'loss_mse_17': 0.23904906032246537}\n",
      "Valid Loss: 1.9786\n",
      "{'loss': 1.9786050642237945, 'loss_mse_0': 0.012251850198406506, 'loss_mse_1': 0.04207802059895852, 'loss_mse_2': 0.03798569052973214, 'loss_mse_3': 0.026076713593347983, 'loss_mse_4': 0.06008940828854547, 'loss_mse_5': 0.07680158836438375, 'loss_mse_6': 0.04345186039367143, 'loss_mse_7': 0.0869767630363212, 'loss_mse_8': 0.1152713844223934, 'loss_mse_9': 0.05822657466153888, 'loss_mse_10': 0.13287445102982662, 'loss_mse_11': 0.1535191265099189, 'loss_mse_12': 0.08937934985493913, 'loss_mse_13': 0.20434566543382757, 'loss_mse_14': 0.1922215791309581, 'loss_mse_15': 0.11115599320653607, 'loss_mse_16': 0.3028639710563071, 'loss_mse_17': 0.23303507154478748}\n",
      "Update best score : 1.9786050642237945\n",
      "Save model : model.pth\n",
      "\n",
      "epoch  12\n",
      "lr  8.82985470932547e-05\n",
      "lr  8.82985470932547e-05\n",
      "lr  8.82985470932547e-05\n",
      "lr  8.82985470932547e-05\n"
     ]
    },
    {
     "name": "stderr",
     "output_type": "stream",
     "text": [
      "100%|██████████| 677/677 [01:52<00:00,  6.01it/s]\n",
      "100%|██████████| 170/170 [01:15<00:00,  2.24it/s]\n"
     ]
    },
    {
     "name": "stdout",
     "output_type": "stream",
     "text": [
      "\n",
      "Train Loss: 1.6793\n",
      "{'loss': 1.679313516687255, 'loss_mse_0': 0.012999552351242396, 'loss_mse_1': 0.030425168142586594, 'loss_mse_2': 0.03850830556959618, 'loss_mse_3': 0.025763712302359312, 'loss_mse_4': 0.0431432085417134, 'loss_mse_5': 0.07695953926261366, 'loss_mse_6': 0.0385512064095515, 'loss_mse_7': 0.0609678344627735, 'loss_mse_8': 0.11477470337144997, 'loss_mse_9': 0.05415464034840531, 'loss_mse_10': 0.09063650473699172, 'loss_mse_11': 0.15199522328517637, 'loss_mse_12': 0.07579225715541417, 'loss_mse_13': 0.13801785157594493, 'loss_mse_14': 0.1892635738325788, 'loss_mse_15': 0.10176896177606445, 'loss_mse_16': 0.20862505255897076, 'loss_mse_17': 0.22696621527281788}\n",
      "Valid Loss: 1.8566\n",
      "{'loss': 1.8565642297267915, 'loss_mse_0': 0.009265792846460553, 'loss_mse_1': 0.0419599525137421, 'loss_mse_2': 0.0380818399710252, 'loss_mse_3': 0.018605685973649515, 'loss_mse_4': 0.061628951888312314, 'loss_mse_5': 0.07608458500574616, 'loss_mse_6': 0.026398210254881312, 'loss_mse_7': 0.08848032087964171, 'loss_mse_8': 0.1140020320082412, 'loss_mse_9': 0.039094602415228594, 'loss_mse_10': 0.13438710118917857, 'loss_mse_11': 0.15238316773491747, 'loss_mse_12': 0.0558333445340395, 'loss_mse_13': 0.1998638414284762, 'loss_mse_14': 0.19004075645523913, 'loss_mse_15': 0.08517095983466681, 'loss_mse_16': 0.29394268818637903, 'loss_mse_17': 0.2313404075363103}\n",
      "Update best score : 1.8565642297267915\n",
      "Save model : model.pth\n",
      "\n",
      "epoch  13\n",
      "lr  8.535136737043808e-05\n",
      "lr  8.535136737043808e-05\n",
      "lr  8.535136737043808e-05\n",
      "lr  8.535136737043808e-05\n"
     ]
    },
    {
     "name": "stderr",
     "output_type": "stream",
     "text": [
      "100%|██████████| 677/677 [01:51<00:00,  6.08it/s]\n",
      "100%|██████████| 170/170 [01:14<00:00,  2.28it/s]\n"
     ]
    },
    {
     "name": "stdout",
     "output_type": "stream",
     "text": [
      "\n",
      "Train Loss: 1.5725\n",
      "{'loss': 1.5725210898912112, 'loss_mse_0': 0.011749735135073323, 'loss_mse_1': 0.02938757072776512, 'loss_mse_2': 0.03888345675947395, 'loss_mse_3': 0.02280059583592428, 'loss_mse_4': 0.04087532369868398, 'loss_mse_5': 0.0764828223743348, 'loss_mse_6': 0.03400461982242334, 'loss_mse_7': 0.05658932460645321, 'loss_mse_8': 0.11228994408861749, 'loss_mse_9': 0.04814663169798242, 'loss_mse_10': 0.08237316945988679, 'loss_mse_11': 0.14767130721839175, 'loss_mse_12': 0.06764954919521002, 'loss_mse_13': 0.12404374757910937, 'loss_mse_14': 0.1825291860513004, 'loss_mse_15': 0.09231026693793395, 'loss_mse_16': 0.1868860410853802, 'loss_mse_17': 0.21784779448694985}\n",
      "Valid Loss: 1.8187\n",
      "{'loss': 1.8187429841826943, 'loss_mse_0': 0.00936351178542656, 'loss_mse_1': 0.041686683504239604, 'loss_mse_2': 0.03865852280903388, 'loss_mse_3': 0.017236219710834763, 'loss_mse_4': 0.05737106055021286, 'loss_mse_5': 0.07816838519099881, 'loss_mse_6': 0.025725565067328076, 'loss_mse_7': 0.08001450981725665, 'loss_mse_8': 0.11910424300414675, 'loss_mse_9': 0.03772444482892752, 'loss_mse_10': 0.11986950933933258, 'loss_mse_11': 0.15719551636892207, 'loss_mse_12': 0.05554405536283465, 'loss_mse_13': 0.18277738887597533, 'loss_mse_14': 0.20102344567284863, 'loss_mse_15': 0.07950961966724956, 'loss_mse_16': 0.2735639730358825, 'loss_mse_17': 0.2442063129561789}\n",
      "Update best score : 1.8187429841826943\n",
      "Save model : model.pth\n",
      "\n",
      "epoch  14\n",
      "lr  8.213515761740083e-05\n",
      "lr  8.213515761740083e-05\n",
      "lr  8.213515761740083e-05\n",
      "lr  8.213515761740083e-05\n"
     ]
    },
    {
     "name": "stderr",
     "output_type": "stream",
     "text": [
      "100%|██████████| 677/677 [01:50<00:00,  6.13it/s]\n",
      "100%|██████████| 170/170 [01:14<00:00,  2.28it/s]\n"
     ]
    },
    {
     "name": "stdout",
     "output_type": "stream",
     "text": [
      "\n",
      "Train Loss: 1.4281\n",
      "{'loss': 1.428080781435861, 'loss_mse_0': 0.010769667901770051, 'loss_mse_1': 0.02921859928175664, 'loss_mse_2': 0.03749559092867784, 'loss_mse_3': 0.02078470596740988, 'loss_mse_4': 0.038668054750978814, 'loss_mse_5': 0.0728283186609605, 'loss_mse_6': 0.030763034022343035, 'loss_mse_7': 0.04990064222888369, 'loss_mse_8': 0.10625727714604782, 'loss_mse_9': 0.04368760123810397, 'loss_mse_10': 0.06929559501760159, 'loss_mse_11': 0.13888241925677133, 'loss_mse_12': 0.06202472082065471, 'loss_mse_13': 0.1025302275352213, 'loss_mse_14': 0.17076107728648574, 'loss_mse_15': 0.08532523665373576, 'loss_mse_16': 0.15539386804921324, 'loss_mse_17': 0.20349415482477212}\n",
      "Valid Loss: 1.8469\n",
      "{'loss': 1.8469228667371413, 'loss_mse_0': 0.010601372537477052, 'loss_mse_1': 0.04056756192380014, 'loss_mse_2': 0.03791778605321751, 'loss_mse_3': 0.02177308147006175, 'loss_mse_4': 0.05659494456999442, 'loss_mse_5': 0.07623503951027114, 'loss_mse_6': 0.03292856420225957, 'loss_mse_7': 0.08084564974860234, 'loss_mse_8': 0.11300370202345007, 'loss_mse_9': 0.04527669740731225, 'loss_mse_10': 0.12353706828811589, 'loss_mse_11': 0.15056225048268543, 'loss_mse_12': 0.06823360806002336, 'loss_mse_13': 0.19047727350364713, 'loss_mse_14': 0.18860336068798514, 'loss_mse_15': 0.09702644878450561, 'loss_mse_16': 0.28456830290310525, 'loss_mse_17': 0.22817015437518848}\n",
      "Save model : model.pth\n",
      "\n",
      "epoch  15\n",
      "lr  7.867439513236411e-05\n",
      "lr  7.867439513236411e-05\n",
      "lr  7.867439513236411e-05\n",
      "lr  7.867439513236411e-05\n"
     ]
    },
    {
     "name": "stderr",
     "output_type": "stream",
     "text": [
      "100%|██████████| 677/677 [01:50<00:00,  6.12it/s]\n",
      "100%|██████████| 170/170 [01:14<00:00,  2.28it/s]\n"
     ]
    },
    {
     "name": "stdout",
     "output_type": "stream",
     "text": [
      "\n",
      "Train Loss: 1.3221\n",
      "{'loss': 1.3221386108035704, 'loss_mse_0': 0.009812250799063367, 'loss_mse_1': 0.027730338089030505, 'loss_mse_2': 0.036106351542904244, 'loss_mse_3': 0.01876326069026701, 'loss_mse_4': 0.036166010586822755, 'loss_mse_5': 0.06934261421206651, 'loss_mse_6': 0.02725269568209128, 'loss_mse_7': 0.04648802506887358, 'loss_mse_8': 0.0997458484293439, 'loss_mse_9': 0.038654039856018924, 'loss_mse_10': 0.06415478908697603, 'loss_mse_11': 0.12993165601644682, 'loss_mse_12': 0.054802729606496355, 'loss_mse_13': 0.0946019730686129, 'loss_mse_14': 0.15926812500575974, 'loss_mse_15': 0.07625446665861493, 'loss_mse_16': 0.14310248302326067, 'loss_mse_17': 0.1899609534259737}\n",
      "Valid Loss: 1.8732\n",
      "{'loss': 1.8732471157522763, 'loss_mse_0': 0.01065775168758324, 'loss_mse_1': 0.042195717059075835, 'loss_mse_2': 0.03849738023298628, 'loss_mse_3': 0.01979932174743975, 'loss_mse_4': 0.06157373430974343, 'loss_mse_5': 0.07819470442174112, 'loss_mse_6': 0.029226822225267395, 'loss_mse_7': 0.08672960293205345, 'loss_mse_8': 0.1165623816935455, 'loss_mse_9': 0.04063099067219916, 'loss_mse_10': 0.13322858657030498, 'loss_mse_11': 0.1543190924998592, 'loss_mse_12': 0.058786981278920875, 'loss_mse_13': 0.20123485085718773, 'loss_mse_14': 0.19285697038559352, 'loss_mse_15': 0.07957970162524897, 'loss_mse_16': 0.2962349817156792, 'loss_mse_17': 0.23293754142873427}\n",
      "Save model : model.pth\n",
      "\n",
      "epoch  16\n",
      "lr  7.499541840750456e-05\n",
      "lr  7.499541840750456e-05\n",
      "lr  7.499541840750456e-05\n",
      "lr  7.499541840750456e-05\n"
     ]
    },
    {
     "name": "stderr",
     "output_type": "stream",
     "text": [
      "100%|██████████| 677/677 [01:50<00:00,  6.13it/s]\n",
      "100%|██████████| 170/170 [01:14<00:00,  2.27it/s]\n"
     ]
    },
    {
     "name": "stdout",
     "output_type": "stream",
     "text": [
      "\n",
      "Train Loss: 1.1947\n",
      "{'loss': 1.1946583492364982, 'loss_mse_0': 0.009095653148706414, 'loss_mse_1': 0.02719891395115815, 'loss_mse_2': 0.032847614396236936, 'loss_mse_3': 0.0174660722235358, 'loss_mse_4': 0.034589215759545607, 'loss_mse_5': 0.06211979587891165, 'loss_mse_6': 0.02541617401139577, 'loss_mse_7': 0.04321479164696734, 'loss_mse_8': 0.08836331448766735, 'loss_mse_9': 0.03661787991124471, 'loss_mse_10': 0.058418742382411945, 'loss_mse_11': 0.1153766854034745, 'loss_mse_12': 0.052387277409984584, 'loss_mse_13': 0.08419415150030325, 'loss_mse_14': 0.1402150508307988, 'loss_mse_15': 0.0733417945128468, 'loss_mse_16': 0.1267094305046508, 'loss_mse_17': 0.16708579142213395}\n",
      "Valid Loss: 1.9118\n",
      "{'loss': 1.9117710877867307, 'loss_mse_0': 0.01231254806249019, 'loss_mse_1': 0.04095195563071791, 'loss_mse_2': 0.03923162802615587, 'loss_mse_3': 0.027490712899495572, 'loss_mse_4': 0.057951804250478745, 'loss_mse_5': 0.08149200835648705, 'loss_mse_6': 0.041351452721830675, 'loss_mse_7': 0.08273294898955261, 'loss_mse_8': 0.12028037607669831, 'loss_mse_9': 0.051646464624825646, 'loss_mse_10': 0.12448008356287199, 'loss_mse_11': 0.15878091349321252, 'loss_mse_12': 0.07269634150845163, 'loss_mse_13': 0.19005924117039233, 'loss_mse_14': 0.19813964813947677, 'loss_mse_15': 0.09352845139801502, 'loss_mse_16': 0.27942716628313063, 'loss_mse_17': 0.23921734226100586}\n",
      "Save model : model.pth\n",
      "\n",
      "epoch  17\n",
      "lr  7.112622667712525e-05\n",
      "lr  7.112622667712525e-05\n",
      "lr  7.112622667712525e-05\n",
      "lr  7.112622667712525e-05\n"
     ]
    },
    {
     "name": "stderr",
     "output_type": "stream",
     "text": [
      "100%|██████████| 677/677 [01:52<00:00,  6.01it/s]\n",
      "100%|██████████| 170/170 [01:15<00:00,  2.26it/s]\n"
     ]
    },
    {
     "name": "stdout",
     "output_type": "stream",
     "text": [
      "\n",
      "Train Loss: 1.0895\n",
      "{'loss': 1.0894794871307019, 'loss_mse_0': 0.008836279280326898, 'loss_mse_1': 0.026363614403217633, 'loss_mse_2': 0.031159336886408585, 'loss_mse_3': 0.016770206692393326, 'loss_mse_4': 0.032079027892754824, 'loss_mse_5': 0.056849017417391255, 'loss_mse_6': 0.024214412186823048, 'loss_mse_7': 0.03868191804120556, 'loss_mse_8': 0.08079062068237863, 'loss_mse_9': 0.03452800226534003, 'loss_mse_10': 0.051210319683880186, 'loss_mse_11': 0.10384734885896414, 'loss_mse_12': 0.0492975749914566, 'loss_mse_13': 0.07453975302650094, 'loss_mse_14': 0.12654870065091456, 'loss_mse_15': 0.06951108408549819, 'loss_mse_16': 0.11377339917709679, 'loss_mse_17': 0.1504788689997647}\n",
      "Valid Loss: 1.7635\n",
      "{'loss': 1.763493873792536, 'loss_mse_0': 0.007536072559271227, 'loss_mse_1': 0.04043494512272232, 'loss_mse_2': 0.039211961276390976, 'loss_mse_3': 0.01499291999703821, 'loss_mse_4': 0.055860644162577744, 'loss_mse_5': 0.08038900051923359, 'loss_mse_6': 0.02143009013551123, 'loss_mse_7': 0.07781087533735177, 'loss_mse_8': 0.11903992779552937, 'loss_mse_9': 0.03180981127216535, 'loss_mse_10': 0.11742987433338867, 'loss_mse_11': 0.1590143864207408, 'loss_mse_12': 0.049946399558992945, 'loss_mse_13': 0.17928668926743901, 'loss_mse_14': 0.19706164835130466, 'loss_mse_15': 0.06766782587065416, 'loss_mse_16': 0.2676454203970292, 'loss_mse_17': 0.2369253730510964}\n",
      "Update best score : 1.763493873792536\n",
      "Save model : model.pth\n",
      "\n",
      "epoch  18\n",
      "lr  6.709626682657622e-05\n",
      "lr  6.709626682657622e-05\n",
      "lr  6.709626682657622e-05\n",
      "lr  6.709626682657622e-05\n"
     ]
    },
    {
     "name": "stderr",
     "output_type": "stream",
     "text": [
      " 16%|█▌        | 107/677 [00:17<01:35,  5.99it/s]\n"
     ]
    },
    {
     "ename": "KeyboardInterrupt",
     "evalue": "",
     "output_type": "error",
     "traceback": [
      "\u001b[0;31m---------------------------------------------------------------------------\u001b[0m",
      "\u001b[0;31mKeyboardInterrupt\u001b[0m                         Traceback (most recent call last)",
      "Cell \u001b[0;32mIn[14], line 1\u001b[0m\n\u001b[0;32m----> 1\u001b[0m models, oof_preds \u001b[38;5;241m=\u001b[39m \u001b[43mutils\u001b[49m\u001b[38;5;241;43m.\u001b[39;49m\u001b[43mtrain\u001b[49m\u001b[43m(\u001b[49m\n\u001b[1;32m      2\u001b[0m \u001b[43m    \u001b[49m\u001b[43mmodel_params\u001b[49m\u001b[38;5;241;43m=\u001b[39;49m\u001b[43mmodel_params\u001b[49m\u001b[43m,\u001b[49m\n\u001b[1;32m      3\u001b[0m \u001b[43m    \u001b[49m\u001b[43mfit_params\u001b[49m\u001b[38;5;241;43m=\u001b[39;49m\u001b[43mfit_params\u001b[49m\u001b[43m,\u001b[49m\n\u001b[1;32m      4\u001b[0m \u001b[43m    \u001b[49m\u001b[43mdf\u001b[49m\u001b[38;5;241;43m=\u001b[39;49m\u001b[43mtr_df\u001b[49m\u001b[43m,\u001b[49m\n\u001b[1;32m      5\u001b[0m \u001b[43m    \u001b[49m\u001b[43mimages\u001b[49m\u001b[38;5;241;43m=\u001b[39;49m\u001b[43mtr_images\u001b[49m\u001b[43m,\u001b[49m\n\u001b[1;32m      6\u001b[0m \u001b[43m    \u001b[49m\u001b[43mtarget_cols\u001b[49m\u001b[38;5;241;43m=\u001b[39;49m\u001b[43mtarget\u001b[49m\u001b[38;5;241;43m.\u001b[39;49m\u001b[43mcolumns\u001b[49m\u001b[43m,\u001b[49m\n\u001b[1;32m      7\u001b[0m \u001b[43m    \u001b[49m\u001b[43mfeature_cols\u001b[49m\u001b[38;5;241;43m=\u001b[39;49m\u001b[43mfeature\u001b[49m\u001b[38;5;241;43m.\u001b[39;49m\u001b[43mcolumns\u001b[49m\u001b[43m,\u001b[49m\n\u001b[1;32m      8\u001b[0m \u001b[43m    \u001b[49m\u001b[43mgroup_col\u001b[49m\u001b[38;5;241;43m=\u001b[39;49m\u001b[38;5;124;43m\"\u001b[39;49m\u001b[38;5;124;43mscene_id\u001b[39;49m\u001b[38;5;124;43m\"\u001b[39;49m\u001b[43m,\u001b[49m\n\u001b[1;32m      9\u001b[0m \u001b[43m    \u001b[49m\u001b[43mscene_id_col\u001b[49m\u001b[38;5;241;43m=\u001b[39;49m\u001b[38;5;124;43m\"\u001b[39;49m\u001b[38;5;124;43mscene_id\u001b[39;49m\u001b[38;5;124;43m\"\u001b[39;49m\u001b[43m,\u001b[49m\n\u001b[1;32m     10\u001b[0m \u001b[43m    \u001b[49m\u001b[43mscene_dsec_col\u001b[49m\u001b[38;5;241;43m=\u001b[39;49m\u001b[38;5;124;43m\"\u001b[39;49m\u001b[38;5;124;43mscene_dsec\u001b[39;49m\u001b[38;5;124;43m\"\u001b[39;49m\u001b[43m,\u001b[49m\n\u001b[1;32m     11\u001b[0m \u001b[43m    \u001b[49m\u001b[43mn_splits\u001b[49m\u001b[38;5;241;43m=\u001b[39;49m\u001b[43mN_SPLITS\u001b[49m\u001b[43m,\u001b[49m\n\u001b[1;32m     12\u001b[0m \u001b[43m)\u001b[49m\n",
      "File \u001b[0;32m~/projects/atmacup/atmacup_18/experiments/main/v00/v00_11_02/utils.py:498\u001b[0m, in \u001b[0;36mtrain\u001b[0;34m(model_params, fit_params, df, images, target_cols, feature_cols, group_col, scene_id_col, scene_dsec_col, n_splits)\u001b[0m\n\u001b[1;32m    494\u001b[0m vl_imgs \u001b[38;5;241m=\u001b[39m images[vl_idx]\n\u001b[1;32m    496\u001b[0m model \u001b[38;5;241m=\u001b[39m CnnModel(model_params, fit_params)\n\u001b[0;32m--> 498\u001b[0m \u001b[43mmodel\u001b[49m\u001b[38;5;241;43m.\u001b[39;49m\u001b[43mfit\u001b[49m\u001b[43m(\u001b[49m\n\u001b[1;32m    499\u001b[0m \u001b[43m    \u001b[49m\u001b[43mtr_imgs\u001b[49m\u001b[38;5;241;43m=\u001b[39;49m\u001b[43mtr_imgs\u001b[49m\u001b[43m,\u001b[49m\n\u001b[1;32m    500\u001b[0m \u001b[43m    \u001b[49m\u001b[43mtr_features\u001b[49m\u001b[38;5;241;43m=\u001b[39;49m\u001b[43mtr_df\u001b[49m\u001b[38;5;241;43m.\u001b[39;49m\u001b[43mselect\u001b[49m\u001b[43m(\u001b[49m\u001b[43mfeature_cols\u001b[49m\u001b[43m)\u001b[49m\u001b[43m,\u001b[49m\n\u001b[1;32m    501\u001b[0m \u001b[43m    \u001b[49m\u001b[43mtr_scene_ids\u001b[49m\u001b[38;5;241;43m=\u001b[39;49m\u001b[43mtr_df\u001b[49m\u001b[38;5;241;43m.\u001b[39;49m\u001b[43mget_column\u001b[49m\u001b[43m(\u001b[49m\u001b[43mscene_id_col\u001b[49m\u001b[43m)\u001b[49m\u001b[43m,\u001b[49m\n\u001b[1;32m    502\u001b[0m \u001b[43m    \u001b[49m\u001b[43mtr_scene_dsecs\u001b[49m\u001b[38;5;241;43m=\u001b[39;49m\u001b[43mtr_df\u001b[49m\u001b[38;5;241;43m.\u001b[39;49m\u001b[43mget_column\u001b[49m\u001b[43m(\u001b[49m\u001b[43mscene_dsec_col\u001b[49m\u001b[43m)\u001b[49m\u001b[43m,\u001b[49m\n\u001b[1;32m    503\u001b[0m \u001b[43m    \u001b[49m\u001b[43mtr_targets\u001b[49m\u001b[38;5;241;43m=\u001b[39;49m\u001b[43mtr_df\u001b[49m\u001b[38;5;241;43m.\u001b[39;49m\u001b[43mselect\u001b[49m\u001b[43m(\u001b[49m\u001b[43mtarget_cols\u001b[49m\u001b[43m)\u001b[49m\u001b[43m,\u001b[49m\n\u001b[1;32m    504\u001b[0m \u001b[43m    \u001b[49m\u001b[43mvl_imgs\u001b[49m\u001b[38;5;241;43m=\u001b[39;49m\u001b[43mvl_imgs\u001b[49m\u001b[43m,\u001b[49m\n\u001b[1;32m    505\u001b[0m \u001b[43m    \u001b[49m\u001b[43mvl_features\u001b[49m\u001b[38;5;241;43m=\u001b[39;49m\u001b[43mvl_df\u001b[49m\u001b[38;5;241;43m.\u001b[39;49m\u001b[43mselect\u001b[49m\u001b[43m(\u001b[49m\u001b[43mfeature_cols\u001b[49m\u001b[43m)\u001b[49m\u001b[43m,\u001b[49m\n\u001b[1;32m    506\u001b[0m \u001b[43m    \u001b[49m\u001b[43mvl_scene_ids\u001b[49m\u001b[38;5;241;43m=\u001b[39;49m\u001b[43mvl_df\u001b[49m\u001b[38;5;241;43m.\u001b[39;49m\u001b[43mget_column\u001b[49m\u001b[43m(\u001b[49m\u001b[43mscene_id_col\u001b[49m\u001b[43m)\u001b[49m\u001b[43m,\u001b[49m\n\u001b[1;32m    507\u001b[0m \u001b[43m    \u001b[49m\u001b[43mvl_scene_dsecs\u001b[49m\u001b[38;5;241;43m=\u001b[39;49m\u001b[43mvl_df\u001b[49m\u001b[38;5;241;43m.\u001b[39;49m\u001b[43mget_column\u001b[49m\u001b[43m(\u001b[49m\u001b[43mscene_dsec_col\u001b[49m\u001b[43m)\u001b[49m\u001b[43m,\u001b[49m\n\u001b[1;32m    508\u001b[0m \u001b[43m    \u001b[49m\u001b[43mvl_targets\u001b[49m\u001b[38;5;241;43m=\u001b[39;49m\u001b[43mvl_df\u001b[49m\u001b[38;5;241;43m.\u001b[39;49m\u001b[43mselect\u001b[49m\u001b[43m(\u001b[49m\u001b[43mtarget_cols\u001b[49m\u001b[43m)\u001b[49m\u001b[43m,\u001b[49m\n\u001b[1;32m    509\u001b[0m \u001b[43m\u001b[49m\u001b[43m)\u001b[49m\n\u001b[1;32m    510\u001b[0m models\u001b[38;5;241m.\u001b[39mappend(model)\n\u001b[1;32m    512\u001b[0m pred \u001b[38;5;241m=\u001b[39m model\u001b[38;5;241m.\u001b[39mpredict(\n\u001b[1;32m    513\u001b[0m     vl_imgs,\n\u001b[1;32m    514\u001b[0m     vl_df\u001b[38;5;241m.\u001b[39mselect(feature_cols),\n\u001b[1;32m    515\u001b[0m     vl_df\u001b[38;5;241m.\u001b[39mget_column(scene_id_col),\n\u001b[1;32m    516\u001b[0m     vl_df\u001b[38;5;241m.\u001b[39mget_column(scene_dsec_col),\n\u001b[1;32m    517\u001b[0m )\n",
      "File \u001b[0;32m~/projects/atmacup/atmacup_18/experiments/main/v00/v00_11_02/utils.py:418\u001b[0m, in \u001b[0;36mCnnModel.fit\u001b[0;34m(self, tr_imgs, tr_features, tr_scene_ids, tr_scene_dsecs, tr_targets, vl_imgs, vl_features, vl_targets, vl_scene_ids, vl_scene_dsecs)\u001b[0m\n\u001b[1;32m    416\u001b[0m \u001b[38;5;66;03m# trainer\u001b[39;00m\n\u001b[1;32m    417\u001b[0m \u001b[38;5;28mself\u001b[39m\u001b[38;5;241m.\u001b[39mtrainer \u001b[38;5;241m=\u001b[39m Trainer(\u001b[38;5;241m*\u001b[39m\u001b[38;5;241m*\u001b[39m\u001b[38;5;28mself\u001b[39m\u001b[38;5;241m.\u001b[39mfit_params[\u001b[38;5;124m\"\u001b[39m\u001b[38;5;124mdnn\u001b[39m\u001b[38;5;124m\"\u001b[39m][\u001b[38;5;124m\"\u001b[39m\u001b[38;5;124mtrainer_params\u001b[39m\u001b[38;5;124m\"\u001b[39m])\n\u001b[0;32m--> 418\u001b[0m \u001b[38;5;28;43mself\u001b[39;49m\u001b[38;5;241;43m.\u001b[39;49m\u001b[43mtrainer\u001b[49m\u001b[38;5;241;43m.\u001b[39;49m\u001b[43mrun\u001b[49m\u001b[43m(\u001b[49m\u001b[38;5;28;43mself\u001b[39;49m\u001b[38;5;241;43m.\u001b[39;49m\u001b[43mdnn_model\u001b[49m\u001b[43m,\u001b[49m\u001b[43m \u001b[49m\u001b[43mtr_dl\u001b[49m\u001b[43m,\u001b[49m\u001b[43m \u001b[49m\u001b[43mvl_dl\u001b[49m\u001b[43m)\u001b[49m\n\u001b[1;32m    420\u001b[0m \u001b[38;5;28;01mreturn\u001b[39;00m \u001b[38;5;28mself\u001b[39m\n",
      "File \u001b[0;32m~/projects/atmacup/atmacup_18/experiments/main/v00/v00_11_02/utils.py:1275\u001b[0m, in \u001b[0;36mTrainer.run\u001b[0;34m(self, model, tr_loader, vl_loader)\u001b[0m\n\u001b[1;32m   1272\u001b[0m     \u001b[38;5;28mprint\u001b[39m(\u001b[38;5;124m\"\u001b[39m\u001b[38;5;124mlr \u001b[39m\u001b[38;5;124m\"\u001b[39m, param_group[\u001b[38;5;124m\"\u001b[39m\u001b[38;5;124mlr\u001b[39m\u001b[38;5;124m\"\u001b[39m])\n\u001b[1;32m   1273\u001b[0m     now_lr \u001b[38;5;241m=\u001b[39m param_group[\u001b[38;5;124m\"\u001b[39m\u001b[38;5;124mlr\u001b[39m\u001b[38;5;124m\"\u001b[39m]\n\u001b[0;32m-> 1275\u001b[0m tr_log, tr_scores_ \u001b[38;5;241m=\u001b[39m \u001b[38;5;28;43mself\u001b[39;49m\u001b[38;5;241;43m.\u001b[39;49m\u001b[43mrun_epoch\u001b[49m\u001b[43m(\u001b[49m\n\u001b[1;32m   1276\u001b[0m \u001b[43m    \u001b[49m\u001b[43mmodel\u001b[49m\u001b[43m,\u001b[49m\u001b[43m \u001b[49m\u001b[43moptimizer\u001b[49m\u001b[43m,\u001b[49m\u001b[43m \u001b[49m\u001b[43mscheduler\u001b[49m\u001b[43m,\u001b[49m\u001b[43m \u001b[49m\u001b[43mtr_loader\u001b[49m\u001b[43m,\u001b[49m\u001b[43m \u001b[49m\u001b[43mgrad_scaler\u001b[49m\u001b[43m,\u001b[49m\u001b[43m \u001b[49m\u001b[43mtrain\u001b[49m\u001b[38;5;241;43m=\u001b[39;49m\u001b[38;5;28;43;01mTrue\u001b[39;49;00m\n\u001b[1;32m   1277\u001b[0m \u001b[43m\u001b[49m\u001b[43m)\u001b[49m\n\u001b[1;32m   1278\u001b[0m vl_log, vl_scores_ \u001b[38;5;241m=\u001b[39m \u001b[38;5;28mself\u001b[39m\u001b[38;5;241m.\u001b[39mrun_epoch(\n\u001b[1;32m   1279\u001b[0m     model, \u001b[38;5;28;01mNone\u001b[39;00m, \u001b[38;5;28;01mNone\u001b[39;00m, vl_loader, grad_scaler, train\u001b[38;5;241m=\u001b[39m\u001b[38;5;28;01mFalse\u001b[39;00m\n\u001b[1;32m   1280\u001b[0m )\n\u001b[1;32m   1281\u001b[0m tr_scores\u001b[38;5;241m.\u001b[39mextend(tr_scores_)\n",
      "File \u001b[0;32m~/projects/atmacup/atmacup_18/experiments/main/v00/v00_11_02/utils.py:1392\u001b[0m, in \u001b[0;36mTrainer.run_epoch\u001b[0;34m(self, model, optimizer, scheduler, loader, grad_scaler, train)\u001b[0m\n\u001b[1;32m   1388\u001b[0m \u001b[38;5;28;01mwith\u001b[39;00m torch\u001b[38;5;241m.\u001b[39mamp\u001b[38;5;241m.\u001b[39mautocast(\n\u001b[1;32m   1389\u001b[0m     device_type\u001b[38;5;241m=\u001b[39m\u001b[38;5;28mself\u001b[39m\u001b[38;5;241m.\u001b[39mdev, dtype\u001b[38;5;241m=\u001b[39mtorch\u001b[38;5;241m.\u001b[39mbfloat16, enabled\u001b[38;5;241m=\u001b[39m\u001b[38;5;28;01mTrue\u001b[39;00m\n\u001b[1;32m   1390\u001b[0m ):\n\u001b[1;32m   1391\u001b[0m     \u001b[38;5;28;01mif\u001b[39;00m train:\n\u001b[0;32m-> 1392\u001b[0m         output \u001b[38;5;241m=\u001b[39m \u001b[43mmodel\u001b[49m\u001b[43m(\u001b[49m\u001b[43mimgs\u001b[49m\u001b[43m,\u001b[49m\u001b[43m \u001b[49m\u001b[43mfeatures\u001b[49m\u001b[43m,\u001b[49m\u001b[43m \u001b[49m\u001b[43mrelative_scene_dsecs\u001b[49m\u001b[43m)\u001b[49m\n\u001b[1;32m   1393\u001b[0m         loss, loss_dict \u001b[38;5;241m=\u001b[39m \u001b[38;5;28mself\u001b[39m\u001b[38;5;241m.\u001b[39mcriterion(output, targets)\n\u001b[1;32m   1394\u001b[0m     \u001b[38;5;28;01melse\u001b[39;00m:\n",
      "File \u001b[0;32m~/projects/atmacup/atmacup_18/venv/lib/python3.10/site-packages/torch/nn/modules/module.py:1736\u001b[0m, in \u001b[0;36mModule._wrapped_call_impl\u001b[0;34m(self, *args, **kwargs)\u001b[0m\n\u001b[1;32m   1734\u001b[0m     \u001b[38;5;28;01mreturn\u001b[39;00m \u001b[38;5;28mself\u001b[39m\u001b[38;5;241m.\u001b[39m_compiled_call_impl(\u001b[38;5;241m*\u001b[39margs, \u001b[38;5;241m*\u001b[39m\u001b[38;5;241m*\u001b[39mkwargs)  \u001b[38;5;66;03m# type: ignore[misc]\u001b[39;00m\n\u001b[1;32m   1735\u001b[0m \u001b[38;5;28;01melse\u001b[39;00m:\n\u001b[0;32m-> 1736\u001b[0m     \u001b[38;5;28;01mreturn\u001b[39;00m \u001b[38;5;28;43mself\u001b[39;49m\u001b[38;5;241;43m.\u001b[39;49m\u001b[43m_call_impl\u001b[49m\u001b[43m(\u001b[49m\u001b[38;5;241;43m*\u001b[39;49m\u001b[43margs\u001b[49m\u001b[43m,\u001b[49m\u001b[43m \u001b[49m\u001b[38;5;241;43m*\u001b[39;49m\u001b[38;5;241;43m*\u001b[39;49m\u001b[43mkwargs\u001b[49m\u001b[43m)\u001b[49m\n",
      "File \u001b[0;32m~/projects/atmacup/atmacup_18/venv/lib/python3.10/site-packages/torch/nn/modules/module.py:1747\u001b[0m, in \u001b[0;36mModule._call_impl\u001b[0;34m(self, *args, **kwargs)\u001b[0m\n\u001b[1;32m   1742\u001b[0m \u001b[38;5;66;03m# If we don't have any hooks, we want to skip the rest of the logic in\u001b[39;00m\n\u001b[1;32m   1743\u001b[0m \u001b[38;5;66;03m# this function, and just call forward.\u001b[39;00m\n\u001b[1;32m   1744\u001b[0m \u001b[38;5;28;01mif\u001b[39;00m \u001b[38;5;129;01mnot\u001b[39;00m (\u001b[38;5;28mself\u001b[39m\u001b[38;5;241m.\u001b[39m_backward_hooks \u001b[38;5;129;01mor\u001b[39;00m \u001b[38;5;28mself\u001b[39m\u001b[38;5;241m.\u001b[39m_backward_pre_hooks \u001b[38;5;129;01mor\u001b[39;00m \u001b[38;5;28mself\u001b[39m\u001b[38;5;241m.\u001b[39m_forward_hooks \u001b[38;5;129;01mor\u001b[39;00m \u001b[38;5;28mself\u001b[39m\u001b[38;5;241m.\u001b[39m_forward_pre_hooks\n\u001b[1;32m   1745\u001b[0m         \u001b[38;5;129;01mor\u001b[39;00m _global_backward_pre_hooks \u001b[38;5;129;01mor\u001b[39;00m _global_backward_hooks\n\u001b[1;32m   1746\u001b[0m         \u001b[38;5;129;01mor\u001b[39;00m _global_forward_hooks \u001b[38;5;129;01mor\u001b[39;00m _global_forward_pre_hooks):\n\u001b[0;32m-> 1747\u001b[0m     \u001b[38;5;28;01mreturn\u001b[39;00m \u001b[43mforward_call\u001b[49m\u001b[43m(\u001b[49m\u001b[38;5;241;43m*\u001b[39;49m\u001b[43margs\u001b[49m\u001b[43m,\u001b[49m\u001b[43m \u001b[49m\u001b[38;5;241;43m*\u001b[39;49m\u001b[38;5;241;43m*\u001b[39;49m\u001b[43mkwargs\u001b[49m\u001b[43m)\u001b[49m\n\u001b[1;32m   1749\u001b[0m result \u001b[38;5;241m=\u001b[39m \u001b[38;5;28;01mNone\u001b[39;00m\n\u001b[1;32m   1750\u001b[0m called_always_called_hooks \u001b[38;5;241m=\u001b[39m \u001b[38;5;28mset\u001b[39m()\n",
      "File \u001b[0;32m~/projects/atmacup/atmacup_18/experiments/main/v00/v00_11_02/utils.py:601\u001b[0m, in \u001b[0;36mDNN.forward\u001b[0;34m(self, x, features, relative_scene_dsecs)\u001b[0m\n\u001b[1;32m    591\u001b[0m \u001b[38;5;250m\u001b[39m\u001b[38;5;124;03m\"\"\"\u001b[39;00m\n\u001b[1;32m    592\u001b[0m \u001b[38;5;124;03mArgs:\u001b[39;00m\n\u001b[1;32m    593\u001b[0m \u001b[38;5;124;03m    x (torch.Tensor): (batch, channels, h, w)\u001b[39;00m\n\u001b[0;32m   (...)\u001b[0m\n\u001b[1;32m    598\u001b[0m \u001b[38;5;124;03m    torch.Tensor: (batch, target)\u001b[39;00m\n\u001b[1;32m    599\u001b[0m \u001b[38;5;124;03m\"\"\"\u001b[39;00m\n\u001b[1;32m    600\u001b[0m \u001b[38;5;66;03m# backbone\u001b[39;00m\n\u001b[0;32m--> 601\u001b[0m h, h_feat \u001b[38;5;241m=\u001b[39m \u001b[38;5;28;43mself\u001b[39;49m\u001b[38;5;241;43m.\u001b[39;49m\u001b[43mbackbone\u001b[49m\u001b[43m(\u001b[49m\u001b[43mx\u001b[49m\u001b[43m,\u001b[49m\u001b[43m \u001b[49m\u001b[43mfeatures\u001b[49m\u001b[43m,\u001b[49m\u001b[43m \u001b[49m\u001b[43mrelative_scene_dsecs\u001b[49m\u001b[43m)\u001b[49m\n\u001b[1;32m    603\u001b[0m \u001b[38;5;66;03m# head\u001b[39;00m\n\u001b[1;32m    604\u001b[0m h \u001b[38;5;241m=\u001b[39m \u001b[38;5;28mself\u001b[39m\u001b[38;5;241m.\u001b[39mhead(h, h_feat)\n",
      "File \u001b[0;32m~/projects/atmacup/atmacup_18/venv/lib/python3.10/site-packages/torch/nn/modules/module.py:1736\u001b[0m, in \u001b[0;36mModule._wrapped_call_impl\u001b[0;34m(self, *args, **kwargs)\u001b[0m\n\u001b[1;32m   1734\u001b[0m     \u001b[38;5;28;01mreturn\u001b[39;00m \u001b[38;5;28mself\u001b[39m\u001b[38;5;241m.\u001b[39m_compiled_call_impl(\u001b[38;5;241m*\u001b[39margs, \u001b[38;5;241m*\u001b[39m\u001b[38;5;241m*\u001b[39mkwargs)  \u001b[38;5;66;03m# type: ignore[misc]\u001b[39;00m\n\u001b[1;32m   1735\u001b[0m \u001b[38;5;28;01melse\u001b[39;00m:\n\u001b[0;32m-> 1736\u001b[0m     \u001b[38;5;28;01mreturn\u001b[39;00m \u001b[38;5;28;43mself\u001b[39;49m\u001b[38;5;241;43m.\u001b[39;49m\u001b[43m_call_impl\u001b[49m\u001b[43m(\u001b[49m\u001b[38;5;241;43m*\u001b[39;49m\u001b[43margs\u001b[49m\u001b[43m,\u001b[49m\u001b[43m \u001b[49m\u001b[38;5;241;43m*\u001b[39;49m\u001b[38;5;241;43m*\u001b[39;49m\u001b[43mkwargs\u001b[49m\u001b[43m)\u001b[49m\n",
      "File \u001b[0;32m~/projects/atmacup/atmacup_18/venv/lib/python3.10/site-packages/torch/nn/modules/module.py:1747\u001b[0m, in \u001b[0;36mModule._call_impl\u001b[0;34m(self, *args, **kwargs)\u001b[0m\n\u001b[1;32m   1742\u001b[0m \u001b[38;5;66;03m# If we don't have any hooks, we want to skip the rest of the logic in\u001b[39;00m\n\u001b[1;32m   1743\u001b[0m \u001b[38;5;66;03m# this function, and just call forward.\u001b[39;00m\n\u001b[1;32m   1744\u001b[0m \u001b[38;5;28;01mif\u001b[39;00m \u001b[38;5;129;01mnot\u001b[39;00m (\u001b[38;5;28mself\u001b[39m\u001b[38;5;241m.\u001b[39m_backward_hooks \u001b[38;5;129;01mor\u001b[39;00m \u001b[38;5;28mself\u001b[39m\u001b[38;5;241m.\u001b[39m_backward_pre_hooks \u001b[38;5;129;01mor\u001b[39;00m \u001b[38;5;28mself\u001b[39m\u001b[38;5;241m.\u001b[39m_forward_hooks \u001b[38;5;129;01mor\u001b[39;00m \u001b[38;5;28mself\u001b[39m\u001b[38;5;241m.\u001b[39m_forward_pre_hooks\n\u001b[1;32m   1745\u001b[0m         \u001b[38;5;129;01mor\u001b[39;00m _global_backward_pre_hooks \u001b[38;5;129;01mor\u001b[39;00m _global_backward_hooks\n\u001b[1;32m   1746\u001b[0m         \u001b[38;5;129;01mor\u001b[39;00m _global_forward_hooks \u001b[38;5;129;01mor\u001b[39;00m _global_forward_pre_hooks):\n\u001b[0;32m-> 1747\u001b[0m     \u001b[38;5;28;01mreturn\u001b[39;00m \u001b[43mforward_call\u001b[49m\u001b[43m(\u001b[49m\u001b[38;5;241;43m*\u001b[39;49m\u001b[43margs\u001b[49m\u001b[43m,\u001b[49m\u001b[43m \u001b[49m\u001b[38;5;241;43m*\u001b[39;49m\u001b[38;5;241;43m*\u001b[39;49m\u001b[43mkwargs\u001b[49m\u001b[43m)\u001b[49m\n\u001b[1;32m   1749\u001b[0m result \u001b[38;5;241m=\u001b[39m \u001b[38;5;28;01mNone\u001b[39;00m\n\u001b[1;32m   1750\u001b[0m called_always_called_hooks \u001b[38;5;241m=\u001b[39m \u001b[38;5;28mset\u001b[39m()\n",
      "File \u001b[0;32m~/projects/atmacup/atmacup_18/experiments/main/v00/v00_11_02/utils.py:716\u001b[0m, in \u001b[0;36mBackBone.forward\u001b[0;34m(self, x, features, relative_scene_dsecs)\u001b[0m\n\u001b[1;32m    714\u001b[0m h_seg \u001b[38;5;241m=\u001b[39m \u001b[38;5;28mself\u001b[39m\u001b[38;5;241m.\u001b[39msg_stem(h_seg)\n\u001b[1;32m    715\u001b[0m \u001b[38;5;28;01mwith\u001b[39;00m torch\u001b[38;5;241m.\u001b[39mno_grad():\n\u001b[0;32m--> 716\u001b[0m     h_seg \u001b[38;5;241m=\u001b[39m \u001b[38;5;28;43mself\u001b[39;49m\u001b[38;5;241;43m.\u001b[39;49m\u001b[43mtrained_sg_model\u001b[49m\u001b[43m(\u001b[49m\u001b[43mx\u001b[49m\u001b[43m[\u001b[49m\u001b[43m:\u001b[49m\u001b[43m,\u001b[49m\u001b[43m \u001b[49m\u001b[38;5;241;43m6\u001b[39;49m\u001b[43m:\u001b[49m\u001b[38;5;241;43m9\u001b[39;49m\u001b[43m]\u001b[49m\u001b[43m)\u001b[49m\n\u001b[1;32m    717\u001b[0m h_seg \u001b[38;5;241m=\u001b[39m \u001b[38;5;28mself\u001b[39m\u001b[38;5;241m.\u001b[39mnext_sg_stem(h_seg)\n\u001b[1;32m    719\u001b[0m \u001b[38;5;66;03m# encoder\u001b[39;00m\n\u001b[1;32m    720\u001b[0m \u001b[38;5;66;03m# [h_layer1, h_layer2, ..., h_layerN]\u001b[39;00m\n",
      "File \u001b[0;32m~/projects/atmacup/atmacup_18/venv/lib/python3.10/site-packages/torch/nn/modules/module.py:1736\u001b[0m, in \u001b[0;36mModule._wrapped_call_impl\u001b[0;34m(self, *args, **kwargs)\u001b[0m\n\u001b[1;32m   1734\u001b[0m     \u001b[38;5;28;01mreturn\u001b[39;00m \u001b[38;5;28mself\u001b[39m\u001b[38;5;241m.\u001b[39m_compiled_call_impl(\u001b[38;5;241m*\u001b[39margs, \u001b[38;5;241m*\u001b[39m\u001b[38;5;241m*\u001b[39mkwargs)  \u001b[38;5;66;03m# type: ignore[misc]\u001b[39;00m\n\u001b[1;32m   1735\u001b[0m \u001b[38;5;28;01melse\u001b[39;00m:\n\u001b[0;32m-> 1736\u001b[0m     \u001b[38;5;28;01mreturn\u001b[39;00m \u001b[38;5;28;43mself\u001b[39;49m\u001b[38;5;241;43m.\u001b[39;49m\u001b[43m_call_impl\u001b[49m\u001b[43m(\u001b[49m\u001b[38;5;241;43m*\u001b[39;49m\u001b[43margs\u001b[49m\u001b[43m,\u001b[49m\u001b[43m \u001b[49m\u001b[38;5;241;43m*\u001b[39;49m\u001b[38;5;241;43m*\u001b[39;49m\u001b[43mkwargs\u001b[49m\u001b[43m)\u001b[49m\n",
      "File \u001b[0;32m~/projects/atmacup/atmacup_18/venv/lib/python3.10/site-packages/torch/nn/modules/module.py:1747\u001b[0m, in \u001b[0;36mModule._call_impl\u001b[0;34m(self, *args, **kwargs)\u001b[0m\n\u001b[1;32m   1742\u001b[0m \u001b[38;5;66;03m# If we don't have any hooks, we want to skip the rest of the logic in\u001b[39;00m\n\u001b[1;32m   1743\u001b[0m \u001b[38;5;66;03m# this function, and just call forward.\u001b[39;00m\n\u001b[1;32m   1744\u001b[0m \u001b[38;5;28;01mif\u001b[39;00m \u001b[38;5;129;01mnot\u001b[39;00m (\u001b[38;5;28mself\u001b[39m\u001b[38;5;241m.\u001b[39m_backward_hooks \u001b[38;5;129;01mor\u001b[39;00m \u001b[38;5;28mself\u001b[39m\u001b[38;5;241m.\u001b[39m_backward_pre_hooks \u001b[38;5;129;01mor\u001b[39;00m \u001b[38;5;28mself\u001b[39m\u001b[38;5;241m.\u001b[39m_forward_hooks \u001b[38;5;129;01mor\u001b[39;00m \u001b[38;5;28mself\u001b[39m\u001b[38;5;241m.\u001b[39m_forward_pre_hooks\n\u001b[1;32m   1745\u001b[0m         \u001b[38;5;129;01mor\u001b[39;00m _global_backward_pre_hooks \u001b[38;5;129;01mor\u001b[39;00m _global_backward_hooks\n\u001b[1;32m   1746\u001b[0m         \u001b[38;5;129;01mor\u001b[39;00m _global_forward_hooks \u001b[38;5;129;01mor\u001b[39;00m _global_forward_pre_hooks):\n\u001b[0;32m-> 1747\u001b[0m     \u001b[38;5;28;01mreturn\u001b[39;00m \u001b[43mforward_call\u001b[49m\u001b[43m(\u001b[49m\u001b[38;5;241;43m*\u001b[39;49m\u001b[43margs\u001b[49m\u001b[43m,\u001b[49m\u001b[43m \u001b[49m\u001b[38;5;241;43m*\u001b[39;49m\u001b[38;5;241;43m*\u001b[39;49m\u001b[43mkwargs\u001b[49m\u001b[43m)\u001b[49m\n\u001b[1;32m   1749\u001b[0m result \u001b[38;5;241m=\u001b[39m \u001b[38;5;28;01mNone\u001b[39;00m\n\u001b[1;32m   1750\u001b[0m called_always_called_hooks \u001b[38;5;241m=\u001b[39m \u001b[38;5;28mset\u001b[39m()\n",
      "File \u001b[0;32m~/projects/atmacup/atmacup_18/experiments/main/v00/v00_11_02/utils.py:872\u001b[0m, in \u001b[0;36mTrainedSegmentationModel.forward\u001b[0;34m(self, x)\u001b[0m\n\u001b[1;32m    864\u001b[0m \u001b[38;5;250m\u001b[39m\u001b[38;5;124;03m\"\"\"\u001b[39;00m\n\u001b[1;32m    865\u001b[0m \u001b[38;5;124;03mArgs:\u001b[39;00m\n\u001b[1;32m    866\u001b[0m \u001b[38;5;124;03m    x (torch.Tensor): (batch, channels, h, w)\u001b[39;00m\n\u001b[0;32m   (...)\u001b[0m\n\u001b[1;32m    869\u001b[0m \u001b[38;5;124;03m    torch.Tensor: (batch, channels, h, w)\u001b[39;00m\n\u001b[1;32m    870\u001b[0m \u001b[38;5;124;03m\"\"\"\u001b[39;00m\n\u001b[1;32m    871\u001b[0m \u001b[38;5;66;03m# (batch, channels, h, w)\u001b[39;00m\n\u001b[0;32m--> 872\u001b[0m h \u001b[38;5;241m=\u001b[39m \u001b[38;5;28;43mself\u001b[39;49m\u001b[38;5;241;43m.\u001b[39;49m\u001b[43mmodel\u001b[49m\u001b[43m(\u001b[49m\u001b[43mx\u001b[49m\u001b[43m)\u001b[49m[\u001b[38;5;124m\"\u001b[39m\u001b[38;5;124mout\u001b[39m\u001b[38;5;124m\"\u001b[39m]\n\u001b[1;32m    873\u001b[0m \u001b[38;5;28;01mreturn\u001b[39;00m h\n",
      "File \u001b[0;32m~/projects/atmacup/atmacup_18/venv/lib/python3.10/site-packages/torch/nn/modules/module.py:1736\u001b[0m, in \u001b[0;36mModule._wrapped_call_impl\u001b[0;34m(self, *args, **kwargs)\u001b[0m\n\u001b[1;32m   1734\u001b[0m     \u001b[38;5;28;01mreturn\u001b[39;00m \u001b[38;5;28mself\u001b[39m\u001b[38;5;241m.\u001b[39m_compiled_call_impl(\u001b[38;5;241m*\u001b[39margs, \u001b[38;5;241m*\u001b[39m\u001b[38;5;241m*\u001b[39mkwargs)  \u001b[38;5;66;03m# type: ignore[misc]\u001b[39;00m\n\u001b[1;32m   1735\u001b[0m \u001b[38;5;28;01melse\u001b[39;00m:\n\u001b[0;32m-> 1736\u001b[0m     \u001b[38;5;28;01mreturn\u001b[39;00m \u001b[38;5;28;43mself\u001b[39;49m\u001b[38;5;241;43m.\u001b[39;49m\u001b[43m_call_impl\u001b[49m\u001b[43m(\u001b[49m\u001b[38;5;241;43m*\u001b[39;49m\u001b[43margs\u001b[49m\u001b[43m,\u001b[49m\u001b[43m \u001b[49m\u001b[38;5;241;43m*\u001b[39;49m\u001b[38;5;241;43m*\u001b[39;49m\u001b[43mkwargs\u001b[49m\u001b[43m)\u001b[49m\n",
      "File \u001b[0;32m~/projects/atmacup/atmacup_18/venv/lib/python3.10/site-packages/torch/nn/modules/module.py:1747\u001b[0m, in \u001b[0;36mModule._call_impl\u001b[0;34m(self, *args, **kwargs)\u001b[0m\n\u001b[1;32m   1742\u001b[0m \u001b[38;5;66;03m# If we don't have any hooks, we want to skip the rest of the logic in\u001b[39;00m\n\u001b[1;32m   1743\u001b[0m \u001b[38;5;66;03m# this function, and just call forward.\u001b[39;00m\n\u001b[1;32m   1744\u001b[0m \u001b[38;5;28;01mif\u001b[39;00m \u001b[38;5;129;01mnot\u001b[39;00m (\u001b[38;5;28mself\u001b[39m\u001b[38;5;241m.\u001b[39m_backward_hooks \u001b[38;5;129;01mor\u001b[39;00m \u001b[38;5;28mself\u001b[39m\u001b[38;5;241m.\u001b[39m_backward_pre_hooks \u001b[38;5;129;01mor\u001b[39;00m \u001b[38;5;28mself\u001b[39m\u001b[38;5;241m.\u001b[39m_forward_hooks \u001b[38;5;129;01mor\u001b[39;00m \u001b[38;5;28mself\u001b[39m\u001b[38;5;241m.\u001b[39m_forward_pre_hooks\n\u001b[1;32m   1745\u001b[0m         \u001b[38;5;129;01mor\u001b[39;00m _global_backward_pre_hooks \u001b[38;5;129;01mor\u001b[39;00m _global_backward_hooks\n\u001b[1;32m   1746\u001b[0m         \u001b[38;5;129;01mor\u001b[39;00m _global_forward_hooks \u001b[38;5;129;01mor\u001b[39;00m _global_forward_pre_hooks):\n\u001b[0;32m-> 1747\u001b[0m     \u001b[38;5;28;01mreturn\u001b[39;00m \u001b[43mforward_call\u001b[49m\u001b[43m(\u001b[49m\u001b[38;5;241;43m*\u001b[39;49m\u001b[43margs\u001b[49m\u001b[43m,\u001b[49m\u001b[43m \u001b[49m\u001b[38;5;241;43m*\u001b[39;49m\u001b[38;5;241;43m*\u001b[39;49m\u001b[43mkwargs\u001b[49m\u001b[43m)\u001b[49m\n\u001b[1;32m   1749\u001b[0m result \u001b[38;5;241m=\u001b[39m \u001b[38;5;28;01mNone\u001b[39;00m\n\u001b[1;32m   1750\u001b[0m called_always_called_hooks \u001b[38;5;241m=\u001b[39m \u001b[38;5;28mset\u001b[39m()\n",
      "File \u001b[0;32m~/projects/atmacup/atmacup_18/venv/lib/python3.10/site-packages/torchvision/models/segmentation/_utils.py:23\u001b[0m, in \u001b[0;36m_SimpleSegmentationModel.forward\u001b[0;34m(self, x)\u001b[0m\n\u001b[1;32m     21\u001b[0m input_shape \u001b[38;5;241m=\u001b[39m x\u001b[38;5;241m.\u001b[39mshape[\u001b[38;5;241m-\u001b[39m\u001b[38;5;241m2\u001b[39m:]\n\u001b[1;32m     22\u001b[0m \u001b[38;5;66;03m# contract: features is a dict of tensors\u001b[39;00m\n\u001b[0;32m---> 23\u001b[0m features \u001b[38;5;241m=\u001b[39m \u001b[38;5;28;43mself\u001b[39;49m\u001b[38;5;241;43m.\u001b[39;49m\u001b[43mbackbone\u001b[49m\u001b[43m(\u001b[49m\u001b[43mx\u001b[49m\u001b[43m)\u001b[49m\n\u001b[1;32m     25\u001b[0m result \u001b[38;5;241m=\u001b[39m OrderedDict()\n\u001b[1;32m     26\u001b[0m x \u001b[38;5;241m=\u001b[39m features[\u001b[38;5;124m\"\u001b[39m\u001b[38;5;124mout\u001b[39m\u001b[38;5;124m\"\u001b[39m]\n",
      "File \u001b[0;32m~/projects/atmacup/atmacup_18/venv/lib/python3.10/site-packages/torch/nn/modules/module.py:1736\u001b[0m, in \u001b[0;36mModule._wrapped_call_impl\u001b[0;34m(self, *args, **kwargs)\u001b[0m\n\u001b[1;32m   1734\u001b[0m     \u001b[38;5;28;01mreturn\u001b[39;00m \u001b[38;5;28mself\u001b[39m\u001b[38;5;241m.\u001b[39m_compiled_call_impl(\u001b[38;5;241m*\u001b[39margs, \u001b[38;5;241m*\u001b[39m\u001b[38;5;241m*\u001b[39mkwargs)  \u001b[38;5;66;03m# type: ignore[misc]\u001b[39;00m\n\u001b[1;32m   1735\u001b[0m \u001b[38;5;28;01melse\u001b[39;00m:\n\u001b[0;32m-> 1736\u001b[0m     \u001b[38;5;28;01mreturn\u001b[39;00m \u001b[38;5;28;43mself\u001b[39;49m\u001b[38;5;241;43m.\u001b[39;49m\u001b[43m_call_impl\u001b[49m\u001b[43m(\u001b[49m\u001b[38;5;241;43m*\u001b[39;49m\u001b[43margs\u001b[49m\u001b[43m,\u001b[49m\u001b[43m \u001b[49m\u001b[38;5;241;43m*\u001b[39;49m\u001b[38;5;241;43m*\u001b[39;49m\u001b[43mkwargs\u001b[49m\u001b[43m)\u001b[49m\n",
      "File \u001b[0;32m~/projects/atmacup/atmacup_18/venv/lib/python3.10/site-packages/torch/nn/modules/module.py:1747\u001b[0m, in \u001b[0;36mModule._call_impl\u001b[0;34m(self, *args, **kwargs)\u001b[0m\n\u001b[1;32m   1742\u001b[0m \u001b[38;5;66;03m# If we don't have any hooks, we want to skip the rest of the logic in\u001b[39;00m\n\u001b[1;32m   1743\u001b[0m \u001b[38;5;66;03m# this function, and just call forward.\u001b[39;00m\n\u001b[1;32m   1744\u001b[0m \u001b[38;5;28;01mif\u001b[39;00m \u001b[38;5;129;01mnot\u001b[39;00m (\u001b[38;5;28mself\u001b[39m\u001b[38;5;241m.\u001b[39m_backward_hooks \u001b[38;5;129;01mor\u001b[39;00m \u001b[38;5;28mself\u001b[39m\u001b[38;5;241m.\u001b[39m_backward_pre_hooks \u001b[38;5;129;01mor\u001b[39;00m \u001b[38;5;28mself\u001b[39m\u001b[38;5;241m.\u001b[39m_forward_hooks \u001b[38;5;129;01mor\u001b[39;00m \u001b[38;5;28mself\u001b[39m\u001b[38;5;241m.\u001b[39m_forward_pre_hooks\n\u001b[1;32m   1745\u001b[0m         \u001b[38;5;129;01mor\u001b[39;00m _global_backward_pre_hooks \u001b[38;5;129;01mor\u001b[39;00m _global_backward_hooks\n\u001b[1;32m   1746\u001b[0m         \u001b[38;5;129;01mor\u001b[39;00m _global_forward_hooks \u001b[38;5;129;01mor\u001b[39;00m _global_forward_pre_hooks):\n\u001b[0;32m-> 1747\u001b[0m     \u001b[38;5;28;01mreturn\u001b[39;00m \u001b[43mforward_call\u001b[49m\u001b[43m(\u001b[49m\u001b[38;5;241;43m*\u001b[39;49m\u001b[43margs\u001b[49m\u001b[43m,\u001b[49m\u001b[43m \u001b[49m\u001b[38;5;241;43m*\u001b[39;49m\u001b[38;5;241;43m*\u001b[39;49m\u001b[43mkwargs\u001b[49m\u001b[43m)\u001b[49m\n\u001b[1;32m   1749\u001b[0m result \u001b[38;5;241m=\u001b[39m \u001b[38;5;28;01mNone\u001b[39;00m\n\u001b[1;32m   1750\u001b[0m called_always_called_hooks \u001b[38;5;241m=\u001b[39m \u001b[38;5;28mset\u001b[39m()\n",
      "File \u001b[0;32m~/projects/atmacup/atmacup_18/venv/lib/python3.10/site-packages/torchvision/models/_utils.py:69\u001b[0m, in \u001b[0;36mIntermediateLayerGetter.forward\u001b[0;34m(self, x)\u001b[0m\n\u001b[1;32m     67\u001b[0m out \u001b[38;5;241m=\u001b[39m OrderedDict()\n\u001b[1;32m     68\u001b[0m \u001b[38;5;28;01mfor\u001b[39;00m name, module \u001b[38;5;129;01min\u001b[39;00m \u001b[38;5;28mself\u001b[39m\u001b[38;5;241m.\u001b[39mitems():\n\u001b[0;32m---> 69\u001b[0m     x \u001b[38;5;241m=\u001b[39m \u001b[43mmodule\u001b[49m\u001b[43m(\u001b[49m\u001b[43mx\u001b[49m\u001b[43m)\u001b[49m\n\u001b[1;32m     70\u001b[0m     \u001b[38;5;28;01mif\u001b[39;00m name \u001b[38;5;129;01min\u001b[39;00m \u001b[38;5;28mself\u001b[39m\u001b[38;5;241m.\u001b[39mreturn_layers:\n\u001b[1;32m     71\u001b[0m         out_name \u001b[38;5;241m=\u001b[39m \u001b[38;5;28mself\u001b[39m\u001b[38;5;241m.\u001b[39mreturn_layers[name]\n",
      "File \u001b[0;32m~/projects/atmacup/atmacup_18/venv/lib/python3.10/site-packages/torch/nn/modules/module.py:1736\u001b[0m, in \u001b[0;36mModule._wrapped_call_impl\u001b[0;34m(self, *args, **kwargs)\u001b[0m\n\u001b[1;32m   1734\u001b[0m     \u001b[38;5;28;01mreturn\u001b[39;00m \u001b[38;5;28mself\u001b[39m\u001b[38;5;241m.\u001b[39m_compiled_call_impl(\u001b[38;5;241m*\u001b[39margs, \u001b[38;5;241m*\u001b[39m\u001b[38;5;241m*\u001b[39mkwargs)  \u001b[38;5;66;03m# type: ignore[misc]\u001b[39;00m\n\u001b[1;32m   1735\u001b[0m \u001b[38;5;28;01melse\u001b[39;00m:\n\u001b[0;32m-> 1736\u001b[0m     \u001b[38;5;28;01mreturn\u001b[39;00m \u001b[38;5;28;43mself\u001b[39;49m\u001b[38;5;241;43m.\u001b[39;49m\u001b[43m_call_impl\u001b[49m\u001b[43m(\u001b[49m\u001b[38;5;241;43m*\u001b[39;49m\u001b[43margs\u001b[49m\u001b[43m,\u001b[49m\u001b[43m \u001b[49m\u001b[38;5;241;43m*\u001b[39;49m\u001b[38;5;241;43m*\u001b[39;49m\u001b[43mkwargs\u001b[49m\u001b[43m)\u001b[49m\n",
      "File \u001b[0;32m~/projects/atmacup/atmacup_18/venv/lib/python3.10/site-packages/torch/nn/modules/module.py:1747\u001b[0m, in \u001b[0;36mModule._call_impl\u001b[0;34m(self, *args, **kwargs)\u001b[0m\n\u001b[1;32m   1742\u001b[0m \u001b[38;5;66;03m# If we don't have any hooks, we want to skip the rest of the logic in\u001b[39;00m\n\u001b[1;32m   1743\u001b[0m \u001b[38;5;66;03m# this function, and just call forward.\u001b[39;00m\n\u001b[1;32m   1744\u001b[0m \u001b[38;5;28;01mif\u001b[39;00m \u001b[38;5;129;01mnot\u001b[39;00m (\u001b[38;5;28mself\u001b[39m\u001b[38;5;241m.\u001b[39m_backward_hooks \u001b[38;5;129;01mor\u001b[39;00m \u001b[38;5;28mself\u001b[39m\u001b[38;5;241m.\u001b[39m_backward_pre_hooks \u001b[38;5;129;01mor\u001b[39;00m \u001b[38;5;28mself\u001b[39m\u001b[38;5;241m.\u001b[39m_forward_hooks \u001b[38;5;129;01mor\u001b[39;00m \u001b[38;5;28mself\u001b[39m\u001b[38;5;241m.\u001b[39m_forward_pre_hooks\n\u001b[1;32m   1745\u001b[0m         \u001b[38;5;129;01mor\u001b[39;00m _global_backward_pre_hooks \u001b[38;5;129;01mor\u001b[39;00m _global_backward_hooks\n\u001b[1;32m   1746\u001b[0m         \u001b[38;5;129;01mor\u001b[39;00m _global_forward_hooks \u001b[38;5;129;01mor\u001b[39;00m _global_forward_pre_hooks):\n\u001b[0;32m-> 1747\u001b[0m     \u001b[38;5;28;01mreturn\u001b[39;00m \u001b[43mforward_call\u001b[49m\u001b[43m(\u001b[49m\u001b[38;5;241;43m*\u001b[39;49m\u001b[43margs\u001b[49m\u001b[43m,\u001b[49m\u001b[43m \u001b[49m\u001b[38;5;241;43m*\u001b[39;49m\u001b[38;5;241;43m*\u001b[39;49m\u001b[43mkwargs\u001b[49m\u001b[43m)\u001b[49m\n\u001b[1;32m   1749\u001b[0m result \u001b[38;5;241m=\u001b[39m \u001b[38;5;28;01mNone\u001b[39;00m\n\u001b[1;32m   1750\u001b[0m called_always_called_hooks \u001b[38;5;241m=\u001b[39m \u001b[38;5;28mset\u001b[39m()\n",
      "File \u001b[0;32m~/projects/atmacup/atmacup_18/venv/lib/python3.10/site-packages/torch/nn/modules/pooling.py:213\u001b[0m, in \u001b[0;36mMaxPool2d.forward\u001b[0;34m(self, input)\u001b[0m\n\u001b[1;32m    212\u001b[0m \u001b[38;5;28;01mdef\u001b[39;00m \u001b[38;5;21mforward\u001b[39m(\u001b[38;5;28mself\u001b[39m, \u001b[38;5;28minput\u001b[39m: Tensor):\n\u001b[0;32m--> 213\u001b[0m     \u001b[38;5;28;01mreturn\u001b[39;00m \u001b[43mF\u001b[49m\u001b[38;5;241;43m.\u001b[39;49m\u001b[43mmax_pool2d\u001b[49m\u001b[43m(\u001b[49m\n\u001b[1;32m    214\u001b[0m \u001b[43m        \u001b[49m\u001b[38;5;28;43minput\u001b[39;49m\u001b[43m,\u001b[49m\n\u001b[1;32m    215\u001b[0m \u001b[43m        \u001b[49m\u001b[38;5;28;43mself\u001b[39;49m\u001b[38;5;241;43m.\u001b[39;49m\u001b[43mkernel_size\u001b[49m\u001b[43m,\u001b[49m\n\u001b[1;32m    216\u001b[0m \u001b[43m        \u001b[49m\u001b[38;5;28;43mself\u001b[39;49m\u001b[38;5;241;43m.\u001b[39;49m\u001b[43mstride\u001b[49m\u001b[43m,\u001b[49m\n\u001b[1;32m    217\u001b[0m \u001b[43m        \u001b[49m\u001b[38;5;28;43mself\u001b[39;49m\u001b[38;5;241;43m.\u001b[39;49m\u001b[43mpadding\u001b[49m\u001b[43m,\u001b[49m\n\u001b[1;32m    218\u001b[0m \u001b[43m        \u001b[49m\u001b[38;5;28;43mself\u001b[39;49m\u001b[38;5;241;43m.\u001b[39;49m\u001b[43mdilation\u001b[49m\u001b[43m,\u001b[49m\n\u001b[1;32m    219\u001b[0m \u001b[43m        \u001b[49m\u001b[43mceil_mode\u001b[49m\u001b[38;5;241;43m=\u001b[39;49m\u001b[38;5;28;43mself\u001b[39;49m\u001b[38;5;241;43m.\u001b[39;49m\u001b[43mceil_mode\u001b[49m\u001b[43m,\u001b[49m\n\u001b[1;32m    220\u001b[0m \u001b[43m        \u001b[49m\u001b[43mreturn_indices\u001b[49m\u001b[38;5;241;43m=\u001b[39;49m\u001b[38;5;28;43mself\u001b[39;49m\u001b[38;5;241;43m.\u001b[39;49m\u001b[43mreturn_indices\u001b[49m\u001b[43m,\u001b[49m\n\u001b[1;32m    221\u001b[0m \u001b[43m    \u001b[49m\u001b[43m)\u001b[49m\n",
      "File \u001b[0;32m~/projects/atmacup/atmacup_18/venv/lib/python3.10/site-packages/torch/_jit_internal.py:624\u001b[0m, in \u001b[0;36mboolean_dispatch.<locals>.fn\u001b[0;34m(*args, **kwargs)\u001b[0m\n\u001b[1;32m    622\u001b[0m     \u001b[38;5;28;01mreturn\u001b[39;00m if_true(\u001b[38;5;241m*\u001b[39margs, \u001b[38;5;241m*\u001b[39m\u001b[38;5;241m*\u001b[39mkwargs)\n\u001b[1;32m    623\u001b[0m \u001b[38;5;28;01melse\u001b[39;00m:\n\u001b[0;32m--> 624\u001b[0m     \u001b[38;5;28;01mreturn\u001b[39;00m \u001b[43mif_false\u001b[49m\u001b[43m(\u001b[49m\u001b[38;5;241;43m*\u001b[39;49m\u001b[43margs\u001b[49m\u001b[43m,\u001b[49m\u001b[43m \u001b[49m\u001b[38;5;241;43m*\u001b[39;49m\u001b[38;5;241;43m*\u001b[39;49m\u001b[43mkwargs\u001b[49m\u001b[43m)\u001b[49m\n",
      "File \u001b[0;32m~/projects/atmacup/atmacup_18/venv/lib/python3.10/site-packages/torch/nn/functional.py:830\u001b[0m, in \u001b[0;36m_max_pool2d\u001b[0;34m(input, kernel_size, stride, padding, dilation, ceil_mode, return_indices)\u001b[0m\n\u001b[1;32m    828\u001b[0m \u001b[38;5;28;01mif\u001b[39;00m stride \u001b[38;5;129;01mis\u001b[39;00m \u001b[38;5;28;01mNone\u001b[39;00m:\n\u001b[1;32m    829\u001b[0m     stride \u001b[38;5;241m=\u001b[39m torch\u001b[38;5;241m.\u001b[39mjit\u001b[38;5;241m.\u001b[39mannotate(List[\u001b[38;5;28mint\u001b[39m], [])\n\u001b[0;32m--> 830\u001b[0m \u001b[38;5;28;01mreturn\u001b[39;00m \u001b[43mtorch\u001b[49m\u001b[38;5;241;43m.\u001b[39;49m\u001b[43mmax_pool2d\u001b[49m\u001b[43m(\u001b[49m\u001b[38;5;28;43minput\u001b[39;49m\u001b[43m,\u001b[49m\u001b[43m \u001b[49m\u001b[43mkernel_size\u001b[49m\u001b[43m,\u001b[49m\u001b[43m \u001b[49m\u001b[43mstride\u001b[49m\u001b[43m,\u001b[49m\u001b[43m \u001b[49m\u001b[43mpadding\u001b[49m\u001b[43m,\u001b[49m\u001b[43m \u001b[49m\u001b[43mdilation\u001b[49m\u001b[43m,\u001b[49m\u001b[43m \u001b[49m\u001b[43mceil_mode\u001b[49m\u001b[43m)\u001b[49m\n",
      "\u001b[0;31mKeyboardInterrupt\u001b[0m: "
     ]
    }
   ],
   "source": [
    "models, oof_preds = utils.train(\n",
    "    model_params=model_params,\n",
    "    fit_params=fit_params,\n",
    "    df=tr_df,\n",
    "    images=tr_images,\n",
    "    target_cols=target.columns,\n",
    "    feature_cols=feature.columns,\n",
    "    group_col=\"scene_id\",\n",
    "    scene_id_col=\"scene_id\",\n",
    "    scene_dsec_col=\"scene_dsec\",\n",
    "    n_splits=N_SPLITS,\n",
    ")"
   ]
  },
  {
   "cell_type": "code",
   "execution_count": null,
   "metadata": {},
   "outputs": [],
   "source": [
    "oof_preds = oof_preds.select(pl.all().name.prefix(\"pred_\"))\n",
    "pred_cols = oof_preds.columns\n",
    "\n",
    "tr_df = pl.concat([tr_df, oof_preds], how=\"horizontal\")\n",
    "tr_df"
   ]
  },
  {
   "cell_type": "markdown",
   "metadata": {},
   "source": [
    "## 評価"
   ]
  },
  {
   "cell_type": "code",
   "execution_count": null,
   "metadata": {},
   "outputs": [],
   "source": [
    "def calc_score(df: pl.DataFrame, pred_cols: list[str]):\n",
    "    tg_cols = sum([[f\"x_{i}\", f\"y_{i}\", f\"z_{i}\"] for i in range(6)], [])\n",
    "\n",
    "    tg = df.select(tg_cols).to_numpy()\n",
    "    pred = df.select(pred_cols).to_numpy()\n",
    "\n",
    "    scores = np.abs(tg - pred).mean(axis=0)\n",
    "    scores = {f\"score_{col}\": float(score) for col, score in zip(pred_cols, scores)}\n",
    "    scores[\"avg\"] = float(np.abs(tg - pred).mean())\n",
    "    return scores\n",
    "\n",
    "\n",
    "scores = calc_score(tr_df, pred_cols)\n",
    "scores"
   ]
  },
  {
   "cell_type": "code",
   "execution_count": null,
   "metadata": {},
   "outputs": [],
   "source": [
    "utils.plot_calibration_curve(tr_df, pred_cols, n_bins=40)"
   ]
  },
  {
   "cell_type": "markdown",
   "metadata": {},
   "source": [
    "## Submission"
   ]
  },
  {
   "cell_type": "code",
   "execution_count": null,
   "metadata": {},
   "outputs": [],
   "source": [
    "preds = utils.predict(\n",
    "    models,\n",
    "    ts_images,\n",
    "    ts_df,\n",
    "    feature.columns,\n",
    "    scene_id_col=\"scene_id\",\n",
    "    scene_dsec_col=\"scene_dsec\",\n",
    "    pred_cols=pred_cols,\n",
    ")\n",
    "preds"
   ]
  },
  {
   "cell_type": "code",
   "execution_count": null,
   "metadata": {},
   "outputs": [],
   "source": [
    "# 元の順番に戻す\n",
    "preds = (\n",
    "    preds.with_columns(ts_df.get_column(\"origin_idx\"))\n",
    "    .sort(\"origin_idx\")\n",
    "    .drop(\"origin_idx\")\n",
    ")"
   ]
  },
  {
   "cell_type": "code",
   "execution_count": null,
   "metadata": {},
   "outputs": [],
   "source": [
    "def create_submission_csv(preds: pl.DataFrame, filename: str = \"submission.csv\"):\n",
    "    submission_cols = sum([[f\"x_{i}\", f\"y_{i}\", f\"z_{i}\"] for i in range(6)], [])\n",
    "\n",
    "    # validate preds columns\n",
    "    if len(preds.columns) != len(submission_cols):\n",
    "        raise ValueError(\n",
    "            f\"preds columns must be {len(submission_cols)}, but got {len(preds.columns)}\"\n",
    "        )\n",
    "\n",
    "    preds.columns = submission_cols\n",
    "    preds.write_csv(filename)\n",
    "    print(f\"Submission file is created: {filename}\")\n",
    "\n",
    "\n",
    "create_submission_csv(preds)"
   ]
  }
 ],
 "metadata": {
  "kernelspec": {
   "display_name": "venv",
   "language": "python",
   "name": "python3"
  },
  "language_info": {
   "codemirror_mode": {
    "name": "ipython",
    "version": 3
   },
   "file_extension": ".py",
   "mimetype": "text/x-python",
   "name": "python",
   "nbconvert_exporter": "python",
   "pygments_lexer": "ipython3",
   "version": "3.10.12"
  }
 },
 "nbformat": 4,
 "nbformat_minor": 2
}
